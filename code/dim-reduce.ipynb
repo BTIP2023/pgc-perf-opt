{
 "cells": [
  {
   "cell_type": "code",
   "execution_count": 50,
   "id": "59b46aa0",
   "metadata": {
    "ExecuteTime": {
     "end_time": "2023-07-06T11:45:42.770673900Z",
     "start_time": "2023-07-06T11:45:42.742603700Z"
    }
   },
   "outputs": [],
   "source": [
    "import pandas as pd\n",
    "import numpy as np\n",
    "from sklearn.preprocessing import StandardScaler\n",
    "from sklearn.decomposition import PCA\n",
    "import matplotlib.pyplot as plt\n",
    "import umap.umap_ as umap           # note that umap is not umap in pip, it's umap-learn\n",
    "import plotly.express as px\n",
    "from sklearn.manifold import TSNE\n",
    "import time"
   ]
  },
  {
   "cell_type": "code",
   "execution_count": 51,
   "id": "aae7c842",
   "metadata": {
    "ExecuteTime": {
     "end_time": "2023-07-06T11:45:46.350701500Z",
     "start_time": "2023-07-06T11:45:42.772541300Z"
    }
   },
   "outputs": [
    {
     "data": {
      "text/plain": "                                Unnamed: 0  AAA    AAC    AAG  AAT    ACA   \n0    hCoV-19/Philippines/PH-PGC-03838/2021  920  613.0  580.0  757  806.0  \\\n1   hCoV-19/Philippines/PH-PGC-106429/2022  916  609.0  573.0  761  798.0   \n2   hCoV-19/Philippines/PH-VUI-124638/2022  923  613.0  578.0  767  803.0   \n3    hCoV-19/Philippines/PH-PGC-55519/2021  905  599.0  568.0  753  795.0   \n4  hCoV-19/Philippines/PGCV_0034_3370/2022  925  610.0  580.0  765  803.0   \n5   hCoV-19/Philippines/PH-PGC-104986/2022  922  613.0  577.0  763  802.0   \n6   hCoV-19/Philippines/PH-PGC-111056/2022  923  613.0  579.0  762  802.0   \n7    hCoV-19/Philippines/PH-PGC-64037/2021  924  614.0  576.0  765  805.0   \n8  hCoV-19/Philippines/PGCV_0047_4997/2022  924  611.0  581.0  763  803.0   \n9    hCoV-19/Philippines/PH-PGC-21762/2021  881  606.0  573.0  758  805.0   \n\n   ACC    ACG    ACT    AGA  ...  country_exposure        division_exposure   \n0  372  165.0  671.0  600.0  ...       Philippines  National Capital Region  \\\n1  368  164.0  665.0  599.0  ...       Philippines                    Bicol   \n2  369  161.0  671.0  601.0  ...       Philippines                    Davao   \n3  363  160.0  661.0  590.0  ...       Philippines                 Mimaropa   \n4  370  162.0  668.0  606.0  ...       Philippines          Western Visayas   \n5  371  164.0  670.0  602.0  ...       Philippines                   Ilocos   \n6  371  164.0  670.0  602.0  ...       Philippines                    Davao   \n7  371  162.0  675.0  599.0  ...       Philippines               Calabarzon   \n8  371  162.0  668.0  606.0  ...       Philippines          Western Visayas   \n9  367  164.0  669.0  596.0  ...       Philippines  National Capital Region   \n\n   length  age     sex  pangolin_lineage  year  month  day  variant  \n0   29854   47    Male           B.1.1.7  2021      1   22    Alpha  \n1   29829   22    Male            BA.2.3  2022      1    6  Omicron  \n2   29821   24  Female            BA.5.2  2022      8    9  Omicron  \n3   29848   31    Male           B.1.351  2021      6    9     Beta  \n4   29849   27  Female         BA.2.3.20  2022      9   11  Omicron  \n5   29840   72    Male            BA.2.3  2022      1   10  Omicron  \n6   29846   25    Male            BA.2.3  2022      2    2  Omicron  \n7   29883   40    Male            AY.122  2021      8    1    Delta  \n8   29846   76    Male            CM.8.1  2022     12    8  Omicron  \n9   29802   45  Female           B.1.351  2021      3   27     Beta  \n\n[10 rows x 78 columns]",
      "text/html": "<div>\n<style scoped>\n    .dataframe tbody tr th:only-of-type {\n        vertical-align: middle;\n    }\n\n    .dataframe tbody tr th {\n        vertical-align: top;\n    }\n\n    .dataframe thead th {\n        text-align: right;\n    }\n</style>\n<table border=\"1\" class=\"dataframe\">\n  <thead>\n    <tr style=\"text-align: right;\">\n      <th></th>\n      <th>Unnamed: 0</th>\n      <th>AAA</th>\n      <th>AAC</th>\n      <th>AAG</th>\n      <th>AAT</th>\n      <th>ACA</th>\n      <th>ACC</th>\n      <th>ACG</th>\n      <th>ACT</th>\n      <th>AGA</th>\n      <th>...</th>\n      <th>country_exposure</th>\n      <th>division_exposure</th>\n      <th>length</th>\n      <th>age</th>\n      <th>sex</th>\n      <th>pangolin_lineage</th>\n      <th>year</th>\n      <th>month</th>\n      <th>day</th>\n      <th>variant</th>\n    </tr>\n  </thead>\n  <tbody>\n    <tr>\n      <th>0</th>\n      <td>hCoV-19/Philippines/PH-PGC-03838/2021</td>\n      <td>920</td>\n      <td>613.0</td>\n      <td>580.0</td>\n      <td>757</td>\n      <td>806.0</td>\n      <td>372</td>\n      <td>165.0</td>\n      <td>671.0</td>\n      <td>600.0</td>\n      <td>...</td>\n      <td>Philippines</td>\n      <td>National Capital Region</td>\n      <td>29854</td>\n      <td>47</td>\n      <td>Male</td>\n      <td>B.1.1.7</td>\n      <td>2021</td>\n      <td>1</td>\n      <td>22</td>\n      <td>Alpha</td>\n    </tr>\n    <tr>\n      <th>1</th>\n      <td>hCoV-19/Philippines/PH-PGC-106429/2022</td>\n      <td>916</td>\n      <td>609.0</td>\n      <td>573.0</td>\n      <td>761</td>\n      <td>798.0</td>\n      <td>368</td>\n      <td>164.0</td>\n      <td>665.0</td>\n      <td>599.0</td>\n      <td>...</td>\n      <td>Philippines</td>\n      <td>Bicol</td>\n      <td>29829</td>\n      <td>22</td>\n      <td>Male</td>\n      <td>BA.2.3</td>\n      <td>2022</td>\n      <td>1</td>\n      <td>6</td>\n      <td>Omicron</td>\n    </tr>\n    <tr>\n      <th>2</th>\n      <td>hCoV-19/Philippines/PH-VUI-124638/2022</td>\n      <td>923</td>\n      <td>613.0</td>\n      <td>578.0</td>\n      <td>767</td>\n      <td>803.0</td>\n      <td>369</td>\n      <td>161.0</td>\n      <td>671.0</td>\n      <td>601.0</td>\n      <td>...</td>\n      <td>Philippines</td>\n      <td>Davao</td>\n      <td>29821</td>\n      <td>24</td>\n      <td>Female</td>\n      <td>BA.5.2</td>\n      <td>2022</td>\n      <td>8</td>\n      <td>9</td>\n      <td>Omicron</td>\n    </tr>\n    <tr>\n      <th>3</th>\n      <td>hCoV-19/Philippines/PH-PGC-55519/2021</td>\n      <td>905</td>\n      <td>599.0</td>\n      <td>568.0</td>\n      <td>753</td>\n      <td>795.0</td>\n      <td>363</td>\n      <td>160.0</td>\n      <td>661.0</td>\n      <td>590.0</td>\n      <td>...</td>\n      <td>Philippines</td>\n      <td>Mimaropa</td>\n      <td>29848</td>\n      <td>31</td>\n      <td>Male</td>\n      <td>B.1.351</td>\n      <td>2021</td>\n      <td>6</td>\n      <td>9</td>\n      <td>Beta</td>\n    </tr>\n    <tr>\n      <th>4</th>\n      <td>hCoV-19/Philippines/PGCV_0034_3370/2022</td>\n      <td>925</td>\n      <td>610.0</td>\n      <td>580.0</td>\n      <td>765</td>\n      <td>803.0</td>\n      <td>370</td>\n      <td>162.0</td>\n      <td>668.0</td>\n      <td>606.0</td>\n      <td>...</td>\n      <td>Philippines</td>\n      <td>Western Visayas</td>\n      <td>29849</td>\n      <td>27</td>\n      <td>Female</td>\n      <td>BA.2.3.20</td>\n      <td>2022</td>\n      <td>9</td>\n      <td>11</td>\n      <td>Omicron</td>\n    </tr>\n    <tr>\n      <th>5</th>\n      <td>hCoV-19/Philippines/PH-PGC-104986/2022</td>\n      <td>922</td>\n      <td>613.0</td>\n      <td>577.0</td>\n      <td>763</td>\n      <td>802.0</td>\n      <td>371</td>\n      <td>164.0</td>\n      <td>670.0</td>\n      <td>602.0</td>\n      <td>...</td>\n      <td>Philippines</td>\n      <td>Ilocos</td>\n      <td>29840</td>\n      <td>72</td>\n      <td>Male</td>\n      <td>BA.2.3</td>\n      <td>2022</td>\n      <td>1</td>\n      <td>10</td>\n      <td>Omicron</td>\n    </tr>\n    <tr>\n      <th>6</th>\n      <td>hCoV-19/Philippines/PH-PGC-111056/2022</td>\n      <td>923</td>\n      <td>613.0</td>\n      <td>579.0</td>\n      <td>762</td>\n      <td>802.0</td>\n      <td>371</td>\n      <td>164.0</td>\n      <td>670.0</td>\n      <td>602.0</td>\n      <td>...</td>\n      <td>Philippines</td>\n      <td>Davao</td>\n      <td>29846</td>\n      <td>25</td>\n      <td>Male</td>\n      <td>BA.2.3</td>\n      <td>2022</td>\n      <td>2</td>\n      <td>2</td>\n      <td>Omicron</td>\n    </tr>\n    <tr>\n      <th>7</th>\n      <td>hCoV-19/Philippines/PH-PGC-64037/2021</td>\n      <td>924</td>\n      <td>614.0</td>\n      <td>576.0</td>\n      <td>765</td>\n      <td>805.0</td>\n      <td>371</td>\n      <td>162.0</td>\n      <td>675.0</td>\n      <td>599.0</td>\n      <td>...</td>\n      <td>Philippines</td>\n      <td>Calabarzon</td>\n      <td>29883</td>\n      <td>40</td>\n      <td>Male</td>\n      <td>AY.122</td>\n      <td>2021</td>\n      <td>8</td>\n      <td>1</td>\n      <td>Delta</td>\n    </tr>\n    <tr>\n      <th>8</th>\n      <td>hCoV-19/Philippines/PGCV_0047_4997/2022</td>\n      <td>924</td>\n      <td>611.0</td>\n      <td>581.0</td>\n      <td>763</td>\n      <td>803.0</td>\n      <td>371</td>\n      <td>162.0</td>\n      <td>668.0</td>\n      <td>606.0</td>\n      <td>...</td>\n      <td>Philippines</td>\n      <td>Western Visayas</td>\n      <td>29846</td>\n      <td>76</td>\n      <td>Male</td>\n      <td>CM.8.1</td>\n      <td>2022</td>\n      <td>12</td>\n      <td>8</td>\n      <td>Omicron</td>\n    </tr>\n    <tr>\n      <th>9</th>\n      <td>hCoV-19/Philippines/PH-PGC-21762/2021</td>\n      <td>881</td>\n      <td>606.0</td>\n      <td>573.0</td>\n      <td>758</td>\n      <td>805.0</td>\n      <td>367</td>\n      <td>164.0</td>\n      <td>669.0</td>\n      <td>596.0</td>\n      <td>...</td>\n      <td>Philippines</td>\n      <td>National Capital Region</td>\n      <td>29802</td>\n      <td>45</td>\n      <td>Female</td>\n      <td>B.1.351</td>\n      <td>2021</td>\n      <td>3</td>\n      <td>27</td>\n      <td>Beta</td>\n    </tr>\n  </tbody>\n</table>\n<p>10 rows × 78 columns</p>\n</div>"
     },
     "execution_count": 51,
     "metadata": {},
     "output_type": "execute_result"
    }
   ],
   "source": [
    "#Loading all the data files\n",
    "data3 = pd.read_csv('../data/kmers/kmer_3.csv')\n",
    "data5 = pd.read_csv('../data/kmers/kmer_5.csv')\n",
    "data7 = pd.read_csv('../data/kmers/kmer_7.csv')\n",
    "\n",
    "data3.head(10)"
   ]
  },
  {
   "cell_type": "code",
   "execution_count": 52,
   "outputs": [
    {
     "data": {
      "text/plain": "['Alpha', 'Beta', 'Delta', 'Omicron', 'Omicron Sub']"
     },
     "execution_count": 52,
     "metadata": {},
     "output_type": "execute_result"
    }
   ],
   "source": [
    "# Scratch\n",
    "slice_col = data3.columns.get_loc('strain')\n",
    "X = data3.iloc[:, 1:slice_col]\n",
    "X\n",
    "target = data3['variant']\n",
    "list(map(lambda var: var.replace('_', ' ').title(), target.unique()))\n",
    "sorted(list(target.unique()))"
   ],
   "metadata": {
    "collapsed": false,
    "ExecuteTime": {
     "end_time": "2023-07-06T11:45:46.365911900Z",
     "start_time": "2023-07-06T11:45:46.355902300Z"
    }
   }
  },
  {
   "cell_type": "markdown",
   "id": "784e91e8",
   "metadata": {},
   "source": [
    "## Method 1: Principal Component Analysis "
   ]
  },
  {
   "cell_type": "code",
   "execution_count": 53,
   "id": "db149d0e",
   "metadata": {
    "ExecuteTime": {
     "end_time": "2023-07-06T11:45:46.435285Z",
     "start_time": "2023-07-06T11:45:46.365911900Z"
    }
   },
   "outputs": [],
   "source": [
    "def pca(data,image_name):\n",
    "    slice_col = data.columns.get_loc('strain')\n",
    "    X = data.iloc[:, 1:slice_col]\n",
    "    target = data['variant']\n",
    "    x = StandardScaler().fit_transform(X)\n",
    "    pca = PCA(n_components=2)\n",
    "    PC = pca.fit_transform(x)\n",
    "    PDF = pd.DataFrame(data = PC,columns = ['Principal Component 1', 'Principal Component 2'])\n",
    "    FDF = pd.concat([PDF, data['variant']], axis = 1)\n",
    "    print('Variance of each component:', pca.explained_variance_ratio_)\n",
    "    fig = plt.figure(figsize = (10,10))\n",
    "    plt.rcParams['font.size'] = 20\n",
    "    ax = fig.add_subplot(1,1,1) \n",
    "    ax.set_xlabel(\"Principal Component 1 ({:.2%})\".format(pca.explained_variance_ratio_[0]))\n",
    "    ax.set_ylabel(\"Principal Component 2 ({:.2%})\".format(pca.explained_variance_ratio_[1]))\n",
    "    targets = sorted(list(target.unique()))\n",
    "    colors = ['r','b','g','m','c']\n",
    "    for target, color in zip(targets,colors):\n",
    "        rowsToKeep = FDF['variant'] == target    # ensures that variant rows are mapped to correct data\n",
    "        ax.scatter(FDF.loc[rowsToKeep, 'Principal Component 1']\n",
    "               , FDF.loc[rowsToKeep, 'Principal Component 2']\n",
    "               , c = color\n",
    "               , s = 40\n",
    "                )\n",
    "    ax.legend(targets,loc='best')\n",
    "    plt.savefig(image_name)"
   ]
  },
  {
   "cell_type": "code",
   "execution_count": 54,
   "id": "d6bfbba0",
   "metadata": {
    "ExecuteTime": {
     "end_time": "2023-07-06T11:45:49.588860100Z",
     "start_time": "2023-07-06T11:45:46.387524400Z"
    }
   },
   "outputs": [
    {
     "name": "stdout",
     "output_type": "stream",
     "text": [
      "Variance of each component: [0.95501869 0.01258744]\n",
      "Variance of each component: [0.60842177 0.06270218]\n",
      "Variance of each component: [0.1639139 0.0537407]\n"
     ]
    },
    {
     "data": {
      "text/plain": "<Figure size 1000x1000 with 1 Axes>",
      "image/png": "[encoded data removed]"
     },
     "metadata": {},
     "output_type": "display_data"
    },
    {
     "data": {
      "text/plain": "<Figure size 1000x1000 with 1 Axes>",
      "image/png": "[encoded data removed]"
     },
     "metadata": {},
     "output_type": "display_data"
    },
    {
     "data": {
      "text/plain": "<Figure size 1000x1000 with 1 Axes>",
      "image/png": "[encoded data removed]"
     },
     "metadata": {},
     "output_type": "display_data"
    }
   ],
   "source": [
    "pca(data3,'../results/dim-reduce/pca-kmer-3.png')\n",
    "pca(data5,'../results/dim-reduce/pca-kmer-5.png')\n",
    "pca(data7,'../results/dim-reduce/pca-kmer-7.png')"
   ]
  },
  {
   "cell_type": "markdown",
   "id": "34cdd05b",
   "metadata": {},
   "source": [
    "### Combined PCA screenplot"
   ]
  },
  {
   "cell_type": "code",
   "execution_count": 55,
   "id": "08ea3af2",
   "metadata": {
    "ExecuteTime": {
     "end_time": "2023-07-06T11:45:49.596480300Z",
     "start_time": "2023-07-06T11:45:49.593262400Z"
    }
   },
   "outputs": [],
   "source": [
    "def pcaPlot(data, pt, color, label):\n",
    "    global fig\n",
    "    slice_col = data.columns.get_loc('strain')\n",
    "    X = data.iloc[:, 1:slice_col]\n",
    "    target = data['variant']\n",
    "    x = StandardScaler().fit_transform(X)\n",
    "    pca = PCA(n_components = 10)\n",
    "    PC = pca.fit_transform(x)\n",
    "    print('Variance of each component:', pca.explained_variance_ratio_)\n",
    "\n",
    "    plt.rcParams['font.size'] = 20\n",
    "    PC_values = np.arange(pca.n_components_) + 1\n",
    "    plt.plot(PC_values, pca.explained_variance_ratio_, pt, linewidth=2, color=color,label=label)\n",
    "    \n",
    "    plt.xlabel('Number of Principal Components')\n",
    "    plt.ylabel('Proportion of Variance Explained')\n",
    "    plt.legend(loc='best')\n",
    "    plt.savefig('../results/dim-reduce/pca-combined.png')"
   ]
  },
  {
   "cell_type": "code",
   "execution_count": 56,
   "outputs": [
    {
     "name": "stdout",
     "output_type": "stream",
     "text": [
      "Variance of each component: [0.95501869 0.01258744 0.00666114 0.00364281 0.00319724 0.00227937\n",
      " 0.00160215 0.00143249 0.00140039 0.00106193]\n",
      "Variance of each component: [0.60842177 0.06270218 0.02635902 0.02234892 0.01818415 0.01582287\n",
      " 0.01349114 0.01195068 0.01091298 0.0104935 ]\n",
      "Variance of each component: [0.1639139  0.0537407  0.0448182  0.03609263 0.02753905 0.0251998\n",
      " 0.02095693 0.01903611 0.01853259 0.01659905]\n"
     ]
    },
    {
     "data": {
      "text/plain": "<Figure size 1000x1000 with 1 Axes>",
      "image/png": "[encoded data removed]"
     },
     "metadata": {},
     "output_type": "display_data"
    }
   ],
   "source": [
    "fig = plt.figure(figsize = (10,10))\n",
    "pcaPlot(data3, 'h-', 'purple', 'k=3')\n",
    "pcaPlot(data5, '*-', 'red', 'k=5')\n",
    "pcaPlot(data7, 'o-', 'blue', 'k=7')"
   ],
   "metadata": {
    "collapsed": false,
    "ExecuteTime": {
     "end_time": "2023-07-06T11:45:50.983769500Z",
     "start_time": "2023-07-06T11:45:49.599186300Z"
    }
   }
  },
  {
   "cell_type": "markdown",
   "id": "5a0eeaed",
   "metadata": {},
   "source": [
    "## Method 2: t-Distributed Stochastic Neighbor Embedding"
   ]
  },
  {
   "cell_type": "code",
   "execution_count": 57,
   "id": "576ad68d",
   "metadata": {
    "ExecuteTime": {
     "end_time": "2023-07-06T11:45:51.000298600Z",
     "start_time": "2023-07-06T11:45:50.988430900Z"
    }
   },
   "outputs": [],
   "source": [
    "def tsne_fn(data, k):\n",
    "    data = data.sort_values(by='variant', ascending=True)\n",
    "    slice_col = data.columns.get_loc('strain')\n",
    "    X = data.iloc[:, 1:slice_col]\n",
    "    target = data['variant']\n",
    "    time_start = time.time()\n",
    "    tsne = TSNE(n_components=2, verbose=1, perplexity=40, n_iter=300, random_state=10)\n",
    "    tsne_results_1 = tsne.fit_transform(X)\n",
    "    fig = px.scatter(\n",
    "    tsne_results_1, x=0, y=1,\n",
    "    color=target, labels={'color': 'Variant'})\n",
    "    fig.update_layout(\n",
    "        xaxis_title=\"TSNE-2D-1\",\n",
    "        yaxis_title=\"TSNE-2D-2\",\n",
    "        font=dict(\n",
    "            family=\"Courier New, monospace\",\n",
    "            size=18,\n",
    "            color=\"RebeccaPurple\"))\n",
    "    fig.update_xaxes(showgrid=False,zeroline=False)\n",
    "    fig.update_yaxes(showgrid=False,zeroline=False)\n",
    "    fig.show()\n",
    "\n",
    "    # fig.write_image('../results/dim-reduce/tsne-{}.png'.format(k))"
   ]
  },
  {
   "cell_type": "code",
   "execution_count": 58,
   "id": "dce28d07",
   "metadata": {
    "ExecuteTime": {
     "end_time": "2023-07-06T11:45:53.347036900Z",
     "start_time": "2023-07-06T11:45:50.996624700Z"
    }
   },
   "outputs": [
    {
     "name": "stdout",
     "output_type": "stream",
     "text": [
      "[t-SNE] Computing 121 nearest neighbors...\n",
      "[t-SNE] Indexed 497 samples in 0.000s...\n",
      "[t-SNE] Computed neighbors for 497 samples in 0.015s...\n",
      "[t-SNE] Computed conditional probabilities for sample 497 / 497\n",
      "[t-SNE] Mean sigma: 10.898826\n",
      "[t-SNE] KL divergence after 250 iterations with early exaggeration: 49.440128\n",
      "[t-SNE] KL divergence after 300 iterations: 0.259245\n"
     ]
    },
    {
     "data": {
      "application/vnd.plotly.v1+json": {
       "data": [
        {
         "hovertemplate": "Variant=Alpha<br>0=%{x}<br>1=%{y}<extra></extra>",
         "legendgroup": "Alpha",
         "marker": {
          "color": "#636efa",
          "symbol": "circle"
         },
         "mode": "markers",
         "name": "Alpha",
         "orientation": "v",
         "showlegend": true,
         "x": [
          -6.1001057624816895,
          0.842036247253418,
          -0.21304592490196228,
          -6.460626602172852,
          1.701770544052124,
          4.391181945800781,
          0.6615325808525085,
          -0.24510404467582703,
          0.31586727499961853,
          0.28481635451316833,
          8.342658042907715,
          -0.18256966769695282,
          4.782097816467285,
          0.04400935396552086,
          -4.287723064422607,
          7.511105537414551,
          0.22281785309314728,
          4.786236763000488,
          4.127790927886963,
          -5.3770341873168945,
          -6.386168003082275,
          1.3375160694122314,
          8.338839530944824,
          0.22080276906490326,
          4.7934041023254395,
          9.727825164794922,
          0.16012375056743622,
          -0.45303255319595337,
          -0.09412024170160294,
          0.33331531286239624,
          0.2779789865016937,
          1.4972137212753296,
          11.483638763427734,
          -0.06882640719413757,
          15.952729225158691,
          9.351079940795898,
          -6.724025726318359,
          0.2603739798069,
          0.3269442319869995,
          13.472770690917969,
          -0.09416208416223526,
          -6.6432414054870605,
          0.5407332181930542,
          0.1378283053636551,
          4.35471773147583,
          -6.356321811676025,
          -0.12500588595867157,
          -6.539062023162842,
          0.14227524399757385,
          16.81894874572754,
          0.29686784744262695,
          0.5216037034988403,
          16.04217529296875,
          -0.3330107629299164,
          -0.026344656944274902
         ],
         "xaxis": "x",
         "y": [
          4.107419013977051,
          13.205840110778809,
          13.01797103881836,
          4.212047100067139,
          0.6000874042510986,
          8.050142288208008,
          12.847808837890625,
          12.82004451751709,
          13.195335388183594,
          13.258963584899902,
          -1.9293773174285889,
          12.276347160339355,
          1.7647631168365479,
          12.937131881713867,
          3.5567054748535156,
          -0.5264817476272583,
          12.704861640930176,
          0.3926539421081543,
          9.014573097229004,
          3.924628734588623,
          4.177677631378174,
          0.8446633815765381,
          -1.7402100563049316,
          12.480531692504883,
          -0.46010252833366394,
          -3.1268608570098877,
          12.74694538116455,
          13.003833770751953,
          12.910552978515625,
          12.970884323120117,
          12.932787895202637,
          0.7817577123641968,
          -3.8906326293945312,
          12.890281677246094,
          -2.5250794887542725,
          -2.695969343185425,
          4.251821041107178,
          12.823674201965332,
          12.640813827514648,
          -3.631732940673828,
          2.811779737472534,
          4.217689037322998,
          12.684514999389648,
          12.490422248840332,
          8.146798133850098,
          4.205987930297852,
          12.49460220336914,
          4.1574225425720215,
          12.834512710571289,
          -2.7834949493408203,
          13.244529724121094,
          12.8560209274292,
          -3.4286844730377197,
          12.755263328552246,
          12.617066383361816
         ],
         "yaxis": "y",
         "type": "scatter"
        },
        {
         "hovertemplate": "Variant=Beta<br>0=%{x}<br>1=%{y}<extra></extra>",
         "legendgroup": "Beta",
         "marker": {
          "color": "#EF553B",
          "symbol": "circle"
         },
         "mode": "markers",
         "name": "Beta",
         "orientation": "v",
         "showlegend": true,
         "x": [
          12.12307071685791,
          7.052019119262695,
          -1.2887674570083618,
          -1.4956125020980835,
          0.7147536277770996,
          -0.2929777204990387,
          3.786104202270508,
          3.567396879196167,
          3.5497825145721436,
          -1.3912503719329834,
          3.643075942993164,
          -1.3469473123550415,
          -1.6450073719024658,
          -0.5098167061805725,
          3.567955493927002,
          3.330570697784424,
          0.7384940981864929,
          -1.0638659000396729,
          3.5944299697875977,
          3.6437292098999023,
          3.750150680541992,
          8.22846508026123,
          3.6341919898986816,
          -1.5154932737350464,
          4.112422943115234,
          3.5695674419403076,
          -8.805428504943848,
          -8.388263702392578,
          0.7527153491973877,
          10.483430862426758,
          -8.829503059387207,
          14.922484397888184,
          15.60177230834961,
          12.995697975158691,
          3.5201826095581055,
          -1.7150415182113647,
          3.5720322132110596,
          -1.435118317604065,
          0.9485073685646057,
          3.5262413024902344,
          -1.459507942199707,
          3.5501315593719482,
          -1.4251103401184082,
          4.584676742553711,
          6.374910354614258,
          4.157772541046143,
          -8.748429298400879,
          -8.703063011169434,
          3.4741461277008057,
          1.8467230796813965,
          0.6954157948493958,
          3.583555221557617,
          3.567361831665039,
          3.669320821762085,
          -8.247148513793945,
          0.7352644205093384,
          -1.4199501276016235,
          1.5746632814407349,
          3.57204270362854,
          -8.744190216064453,
          -1.4107156991958618,
          6.259690761566162,
          2.798029661178589,
          -8.641688346862793
         ],
         "xaxis": "x",
         "y": [
          -3.4124245643615723,
          0.17371906340122223,
          2.286574363708496,
          2.298140048980713,
          11.38930892944336,
          1.8845597505569458,
          0.698340654373169,
          8.198446273803711,
          8.112432479858398,
          2.3016982078552246,
          8.224733352661133,
          2.3258674144744873,
          2.45207142829895,
          1.7820340394973755,
          8.223285675048828,
          8.586379051208496,
          11.342721939086914,
          2.0203630924224854,
          8.635900497436523,
          8.060823440551758,
          7.946221351623535,
          -1.8229374885559082,
          0.5675500631332397,
          2.217327356338501,
          6.622295379638672,
          8.073224067687988,
          4.353676795959473,
          3.965847969055176,
          11.414582252502441,
          -3.405945062637329,
          4.320431709289551,
          -2.8271007537841797,
          -3.6262338161468506,
          -3.782593011856079,
          8.24980640411377,
          2.2489449977874756,
          8.336960792541504,
          2.264507532119751,
          11.054393768310547,
          8.333736419677734,
          2.382964611053467,
          8.187423706054688,
          2.3669748306274414,
          0.20592357218265533,
          -1.3192638158798218,
          6.98533821105957,
          4.266027927398682,
          4.347139358520508,
          8.257838249206543,
          0.5215919613838196,
          11.330204963684082,
          8.225293159484863,
          8.259519577026367,
          8.211726188659668,
          3.982438564300537,
          11.219194412231445,
          2.3318254947662354,
          0.8978272080421448,
          8.318765640258789,
          4.268770694732666,
          2.2613589763641357,
          0.9035789370536804,
          9.349206924438477,
          4.036948204040527
         ],
         "yaxis": "y",
         "type": "scatter"
        },
        {
         "hovertemplate": "Variant=Delta<br>0=%{x}<br>1=%{y}<extra></extra>",
         "legendgroup": "Delta",
         "marker": {
          "color": "#00cc96",
          "symbol": "circle"
         },
         "mode": "markers",
         "name": "Delta",
         "orientation": "v",
         "showlegend": true,
         "x": [
          -8.169986724853516,
          2.5867862701416016,
          3.477356433868408,
          -8.20565414428711,
          -8.542525291442871,
          -8.995089530944824,
          7.612007141113281,
          -8.38188648223877,
          -8.112871170043945,
          11.063484191894531,
          -1.8485592603683472,
          -3.2192163467407227,
          0.23962633311748505,
          -7.769852638244629,
          3.9433887004852295,
          1.1645210981369019,
          14.674752235412598,
          5.304487705230713,
          -0.12098314613103867,
          14.221854209899902,
          8.674748420715332,
          -7.697993278503418,
          -8.303887367248535,
          -7.964341163635254,
          -7.911729335784912,
          -1.2007086277008057,
          14.810025215148926,
          -0.9431592226028442,
          -7.906680583953857,
          9.189162254333496,
          3.7174885272979736,
          -8.27816390991211,
          1.5597537755966187,
          -8.465198516845703,
          8.243866920471191,
          -8.118345260620117,
          -7.204752445220947,
          -0.38747861981391907,
          -1.3166370391845703,
          3.124129295349121,
          -8.121440887451172,
          -8.247129440307617,
          -8.861955642700195,
          -7.9520392417907715,
          3.2068357467651367,
          -6.455877304077148,
          1.136918306350708,
          -0.29229167103767395,
          -7.757802486419678,
          2.7235469818115234,
          -3.0849924087524414,
          4.48972749710083,
          5.122198104858398,
          -8.281521797180176,
          6.3429083824157715,
          1.6864031553268433,
          5.246522903442383,
          3.2680606842041016,
          -2.590257167816162,
          1.4988120794296265,
          -8.913820266723633,
          -8.367462158203125,
          13.329212188720703,
          -8.097474098205566,
          2.0174331665039062,
          1.1662137508392334
         ],
         "xaxis": "x",
         "y": [
          6.302300930023193,
          0.359174907207489,
          6.829469203948975,
          5.906196117401123,
          5.699987411499023,
          6.235508441925049,
          -0.8054656386375427,
          6.074690818786621,
          5.930399417877197,
          -3.7720401287078857,
          3.4313173294067383,
          4.01889705657959,
          1.8924471139907837,
          6.00895881652832,
          0.563614547252655,
          12.074907302856445,
          -2.906467914581299,
          0.38653603196144104,
          3.176710844039917,
          -3.1825215816497803,
          -1.649003267288208,
          5.394601821899414,
          5.970901012420654,
          5.865495681762695,
          6.365168571472168,
          3.46382999420166,
          -2.8436312675476074,
          2.7731621265411377,
          5.65866231918335,
          -3.917966842651367,
          6.696329593658447,
          5.762799263000488,
          11.639857292175293,
          5.59156608581543,
          -2.305410623550415,
          5.974025249481201,
          5.774100303649902,
          3.284912109375,
          3.2861368656158447,
          7.112751483917236,
          5.837419033050537,
          5.874536037445068,
          6.127787113189697,
          5.649054527282715,
          7.661595821380615,
          5.31856632232666,
          12.013654708862305,
          3.1738624572753906,
          5.567192077636719,
          0.5716342329978943,
          4.025926113128662,
          0.5099011063575745,
          0.37391337752342224,
          6.2447381019592285,
          -0.6158621907234192,
          11.567842483520508,
          1.1615115404129028,
          7.271368026733398,
          3.8352463245391846,
          11.800119400024414,
          6.149655342102051,
          6.225606918334961,
          -3.569319248199463,
          5.505677223205566,
          11.36787223815918,
          12.0540189743042
         ],
         "yaxis": "y",
         "type": "scatter"
        },
        {
         "hovertemplate": "Variant=Omicron<br>0=%{x}<br>1=%{y}<extra></extra>",
         "legendgroup": "Omicron",
         "marker": {
          "color": "#ab63fa",
          "symbol": "circle"
         },
         "mode": "markers",
         "name": "Omicron",
         "orientation": "v",
         "showlegend": true,
         "x": [
          -0.8182917833328247,
          12.071219444274902,
          -2.4245965480804443,
          -11.40208625793457,
          -6.767475605010986,
          -1.5687181949615479,
          2.1368634700775146,
          6.285706043243408,
          -5.3949761390686035,
          -6.772415637969971,
          15.554923057556152,
          9.008174896240234,
          12.238442420959473,
          15.563438415527344,
          -5.790047645568848,
          11.548562049865723,
          -9.008585929870605,
          -6.634283542633057,
          -6.247604846954346,
          1.4080793857574463,
          -0.5869796276092529,
          -8.606722831726074,
          5.833008766174316,
          -4.23521089553833,
          -11.61963176727295,
          -6.06873083114624,
          -0.8295328617095947,
          -0.5765982866287231,
          -6.387944221496582,
          17.750911712646484,
          -7.386532783508301,
          -5.738579750061035,
          -0.6636071801185608,
          -7.404866695404053,
          -11.584875106811523,
          -0.8963140249252319,
          -3.605813503265381,
          -7.958652496337891,
          -6.0462565422058105,
          -11.282244682312012,
          14.876932144165039,
          6.272497177124023,
          -0.9793316721916199,
          -0.9511702060699463,
          3.9183430671691895,
          -11.832662582397461,
          -0.774565577507019,
          -5.7224202156066895,
          -5.3853912353515625,
          1.9936922788619995,
          -10.525562286376953,
          -8.71821403503418,
          8.019217491149902,
          -11.593494415283203,
          15.174870491027832,
          -2.0431506633758545,
          -5.004632949829102,
          -6.490880489349365,
          -1.1182655096054077,
          12.762697219848633,
          -5.624754428863525,
          -5.950545310974121,
          -7.0967254638671875,
          -1.6304636001586914,
          1.4551225900650024,
          14.782926559448242,
          -0.398120254278183,
          -8.839733123779297,
          -8.68871784210205,
          -9.980597496032715,
          12.439385414123535,
          -7.467419624328613,
          -5.120197772979736,
          -11.47488784790039,
          -8.882078170776367,
          12.825935363769531,
          -7.511124134063721,
          -8.080526351928711,
          9.474892616271973,
          15.686885833740234,
          9.328638076782227,
          -9.326933860778809,
          5.742725849151611,
          -0.7949009537696838,
          -9.979364395141602,
          -6.728505611419678,
          -8.222089767456055,
          8.545650482177734,
          16.977827072143555,
          -11.139979362487793,
          -8.962778091430664,
          -11.175552368164062,
          -8.606715202331543,
          9.70695972442627,
          -7.56002140045166,
          10.132192611694336,
          -7.209546089172363,
          -8.738707542419434,
          17.121299743652344,
          3.8494205474853516,
          -6.181617736816406,
          13.6930513381958,
          -0.7474197149276733,
          13.08043384552002,
          15.669392585754395,
          -11.25804328918457,
          -6.492228031158447,
          9.919062614440918,
          -6.489430904388428,
          13.023691177368164,
          16.687877655029297,
          -9.99057388305664,
          -6.40031099319458,
          -9.139328956604004,
          -0.31453409790992737,
          6.324138641357422,
          5.454382419586182,
          -5.85556697845459,
          15.301398277282715,
          -8.533140182495117,
          -8.59990406036377,
          16.996051788330078,
          7.670516490936279,
          -11.525496482849121,
          3.803318500518799,
          -7.5260210037231445,
          -0.6109060645103455,
          -4.8786940574646,
          -11.262216567993164,
          -0.9237549304962158,
          -8.436948776245117,
          17.71463394165039,
          -9.256710052490234,
          -9.993725776672363,
          -8.463654518127441,
          -8.183065414428711,
          10.668746948242188,
          -0.9291477799415588,
          -6.453041076660156,
          17.716039657592773,
          -8.817182540893555,
          10.83544635772705,
          1.338976502418518,
          -8.47170639038086,
          13.964949607849121,
          -0.7935416102409363,
          7.883110523223877,
          -5.947939872741699,
          9.417912483215332,
          0.7244689464569092,
          -8.557242393493652,
          -8.306511878967285,
          -8.29364013671875,
          15.002522468566895,
          8.258843421936035,
          -5.830000877380371,
          -9.99668025970459,
          -5.6360650062561035,
          1.3228994607925415,
          4.569342136383057,
          -6.566501617431641,
          12.541726112365723,
          -8.699447631835938,
          16.19601058959961,
          -7.743963718414307,
          9.513500213623047,
          -8.57357406616211,
          12.837634086608887,
          -0.7681747674942017,
          -6.666374683380127,
          -6.805887222290039,
          -7.102883815765381,
          -11.100683212280273,
          16.00580406188965,
          9.42063045501709,
          3.8943581581115723,
          -8.956707000732422,
          -6.998018264770508,
          -1.443529486656189,
          -7.1771345138549805,
          -6.686433792114258,
          12.80517292022705,
          -0.1152617558836937,
          -9.122061729431152,
          -3.037371873855591,
          17.600019454956055,
          5.876926422119141,
          1.4400975704193115,
          -1.5314215421676636,
          -5.310458660125732,
          -5.2436981201171875,
          -0.48123276233673096,
          1.1919790506362915,
          17.7728214263916,
          17.00132179260254,
          -7.831643581390381,
          6.108363628387451,
          -5.058676242828369,
          6.358848571777344,
          3.0998709201812744,
          3.983980417251587,
          -5.772675514221191,
          9.62043285369873,
          12.597618103027344,
          -3.628019094467163,
          -5.150193691253662,
          -7.106479167938232,
          -9.988443374633789,
          11.38922119140625,
          16.20131492614746,
          5.388294219970703,
          -9.979981422424316,
          -6.057257175445557,
          -7.719698905944824,
          9.691545486450195,
          0.5553770065307617,
          -0.3350974917411804,
          1.2287882566452026,
          -1.8185651302337646,
          4.673603057861328,
          1.3986032009124756,
          -5.428802967071533,
          1.0055115222930908,
          4.823074817657471,
          -0.5973407626152039,
          17.79286003112793,
          13.844987869262695,
          -8.408230781555176,
          -2.3821749687194824,
          -7.396773815155029,
          -0.8436950445175171,
          5.115662574768066,
          -7.631005764007568,
          16.52271842956543,
          14.40894603729248,
          10.498074531555176,
          15.139732360839844,
          0.7932212352752686,
          -8.110824584960938,
          -0.7563742399215698,
          -0.9334578514099121,
          -7.555682182312012,
          -3.8946151733398438,
          8.393048286437988,
          -11.31467056274414,
          -2.573805570602417,
          -7.124759674072266,
          6.432454586029053,
          -0.5770578980445862,
          -4.964376449584961,
          9.125556945800781,
          -5.608105659484863,
          6.007634162902832,
          -2.1507294178009033,
          -2.669081687927246,
          3.5076780319213867,
          -5.976469993591309,
          -5.336554050445557,
          14.977706909179688,
          7.739316940307617,
          7.822564601898193,
          5.72495174407959,
          7.286042213439941,
          0.7431397438049316,
          -3.8133814334869385,
          12.224711418151855,
          0.5796542763710022,
          10.149155616760254,
          -8.403587341308594,
          -8.116039276123047,
          -5.351890563964844,
          13.9375,
          8.973764419555664
         ],
         "xaxis": "x",
         "y": [
          9.17296028137207,
          -3.936793088912964,
          -5.451032638549805,
          -5.9200215339660645,
          -10.185029029846191,
          -4.503539562225342,
          0.3379683792591095,
          -0.6478914022445679,
          -5.547120094299316,
          -9.928876876831055,
          -2.5360615253448486,
          -2.319708824157715,
          -4.061540603637695,
          -2.658348798751831,
          -5.4062886238098145,
          -3.95121169090271,
          -4.959126949310303,
          -9.948112487792969,
          -5.4428606033325195,
          -1.4788436889648438,
          9.121272087097168,
          -4.745162487030029,
          -0.7178977131843567,
          -8.335593223571777,
          -5.931661128997803,
          -10.408204078674316,
          -3.9705889225006104,
          9.090593338012695,
          -9.94751262664795,
          -3.6170830726623535,
          -4.938060760498047,
          -0.6132936477661133,
          -3.8909568786621094,
          -4.716148853302002,
          -5.889792442321777,
          9.336254119873047,
          -4.756434440612793,
          -4.208860397338867,
          -5.382568359375,
          -6.050660610198975,
          -2.7264328002929688,
          -0.2771461009979248,
          -4.152119159698486,
          -4.0507588386535645,
          4.811131954193115,
          -5.749898433685303,
          9.081558227539062,
          -9.658113479614258,
          -0.8995707035064697,
          -0.9415940046310425,
          -7.036032676696777,
          -4.188363552093506,
          -2.774536609649658,
          -5.745093822479248,
          -2.739643096923828,
          -4.576438903808594,
          -5.254794597625732,
          -10.459367752075195,
          -4.195075035095215,
          -3.650221347808838,
          -0.7211958169937134,
          -5.32064151763916,
          -10.214767456054688,
          -4.399149417877197,
          -1.3151966333389282,
          -2.8524038791656494,
          -2.9587526321411133,
          -3.6388065814971924,
          -4.2854132652282715,
          1.0717105865478516,
          -3.905942916870117,
          -3.635406017303467,
          -9.477826118469238,
          -5.861069679260254,
          -4.536955833435059,
          -3.9050779342651367,
          -4.226716041564941,
          -3.486306667327881,
          -2.0990195274353027,
          -2.6171414852142334,
          -3.3660833835601807,
          -4.173028469085693,
          -0.8799291253089905,
          9.505521774291992,
          1.0672907829284668,
          -4.129795074462891,
          -4.669356346130371,
          -2.260378837585449,
          -2.912660598754883,
          -6.263635158538818,
          -4.150475025177002,
          -6.1860480308532715,
          -4.74533224105835,
          -2.8797192573547363,
          -4.5719895362854,
          -4.0204854011535645,
          -4.776719570159912,
          -4.854680061340332,
          -3.0050084590911865,
          -0.18752719461917877,
          -4.339581489562988,
          -3.4258415699005127,
          9.334134101867676,
          -3.7496495246887207,
          -2.6530768871307373,
          -6.0912065505981445,
          -10.108718872070312,
          -3.920698642730713,
          -10.425474166870117,
          -3.7737460136413574,
          -2.7205710411071777,
          1.058093547821045,
          -9.91246223449707,
          -3.4783380031585693,
          -3.8819427490234375,
          0.9597142934799194,
          0.003687772899866104,
          -10.19643783569336,
          -2.5747506618499756,
          -4.595119476318359,
          -3.8410391807556152,
          -2.885997772216797,
          -0.3371855318546295,
          -5.8880414962768555,
          -0.007744252681732178,
          -9.771880149841309,
          9.122027397155762,
          -1.647728681564331,
          -6.095217704772949,
          -4.087197303771973,
          -3.9334754943847656,
          -3.5690112113952637,
          -4.878982067108154,
          1.0548526048660278,
          -3.8657100200653076,
          -5.101999282836914,
          -3.472647190093994,
          9.270609855651855,
          -10.056056022644043,
          -3.566321849822998,
          -4.9084649085998535,
          -3.5452184677124023,
          7.493305206298828,
          -4.666401386260986,
          -3.4049172401428223,
          9.120983123779297,
          -1.1063991785049438,
          -5.4155073165893555,
          -2.26029634475708,
          -1.3594722747802734,
          -3.845890760421753,
          -4.352926731109619,
          -3.6012051105499268,
          -2.9262263774871826,
          -2.9129364490509033,
          -4.44865608215332,
          1.0510090589523315,
          -0.7433354258537292,
          -1.7638840675354004,
          0.045653317123651505,
          -5.938908100128174,
          -4.1906938552856445,
          -3.772665500640869,
          -2.624330759048462,
          -5.024508476257324,
          -3.380746603012085,
          -5.225697994232178,
          -3.8788228034973145,
          -0.6297431588172913,
          -10.667549133300781,
          -9.993016242980957,
          -10.434469223022461,
          -6.721450328826904,
          -2.581116199493408,
          -3.44148588180542,
          1.5435394048690796,
          -2.6884469985961914,
          -10.389957427978516,
          -4.354325294494629,
          -9.410943984985352,
          -10.227168083190918,
          -4.199046611785889,
          -2.820857524871826,
          -3.4486353397369385,
          -4.739589691162109,
          -3.4324862957000732,
          0.8719980120658875,
          -0.5346792936325073,
          0.8029831051826477,
          -0.9722192287445068,
          -2.899195909500122,
          -4.657436370849609,
          -1.3591536283493042,
          -3.638361692428589,
          -2.875025510787964,
          -4.628791809082031,
          0.7923488020896912,
          -9.383495330810547,
          0.42788493633270264,
          0.478618323802948,
          -0.35696303844451904,
          -10.029754638671875,
          -3.490044593811035,
          -3.74381947517395,
          -2.5801150798797607,
          -4.5086493492126465,
          -10.696187019348145,
          0.8927941918373108,
          -3.7849769592285156,
          -2.5325355529785156,
          -0.4035627841949463,
          1.0962027311325073,
          -10.729103088378906,
          -4.546502590179443,
          -2.9102885723114014,
          8.284854888916016,
          -4.461066722869873,
          -1.9847244024276733,
          -4.470970630645752,
          -0.39340662956237793,
          7.4436869621276855,
          -9.680710792541504,
          -1.9033808708190918,
          -0.11509120464324951,
          9.114933013916016,
          -3.6558051109313965,
          -3.402531623840332,
          -4.66919469833374,
          -5.730533123016357,
          -10.50603199005127,
          -4.021973133087158,
          0.1433921605348587,
          -3.165050745010376,
          -2.6994237899780273,
          -3.06510329246521,
          -4.212404727935791,
          -2.7620882987976074,
          -2.1089999675750732,
          -4.4303131103515625,
          9.486387252807617,
          -3.8270719051361084,
          -10.689208030700684,
          -4.96322774887085,
          -2.908474922180176,
          -5.296619892120361,
          -5.426651954650879,
          -10.335465431213379,
          -0.8854520320892334,
          9.077507972717285,
          -1.7205803394317627,
          -1.8433763980865479,
          -5.512101173400879,
          -0.2895784080028534,
          -5.231758117675781,
          -4.671841621398926,
          0.0255848728120327,
          -10.429734230041504,
          -9.646581649780273,
          -2.7635509967803955,
          -2.509392499923706,
          -2.4365720748901367,
          -0.6741322875022888,
          -2.2024335861206055,
          -2.117058515548706,
          -4.605643272399902,
          -3.823928117752075,
          -3.561220645904541,
          -3.4405300617218018,
          -4.324977874755859,
          -4.832010746002197,
          -0.918317973613739,
          -3.391592264175415,
          -2.30519962310791
         ],
         "yaxis": "y",
         "type": "scatter"
        },
        {
         "hovertemplate": "Variant=Omicron Sub<br>0=%{x}<br>1=%{y}<extra></extra>",
         "legendgroup": "Omicron Sub",
         "marker": {
          "color": "#FFA15A",
          "symbol": "circle"
         },
         "mode": "markers",
         "name": "Omicron Sub",
         "orientation": "v",
         "showlegend": true,
         "x": [
          -4.341677188873291,
          17.734264373779297,
          17.750125885009766,
          1.4842768907546997,
          -5.368967056274414,
          -5.206000328063965,
          -4.146365642547607,
          -4.869565486907959,
          -3.4344089031219482,
          -5.5564188957214355,
          -5.071932792663574,
          8.704686164855957,
          -5.394373416900635,
          -5.934065341949463,
          -6.319387912750244,
          8.959202766418457,
          -4.1120219230651855,
          -3.8333702087402344,
          4.440850257873535,
          6.863335132598877,
          -5.953467845916748,
          2.7288453578948975,
          6.454554557800293,
          9.964953422546387,
          5.929105758666992,
          -4.925382614135742,
          11.759149551391602,
          -4.841919422149658,
          -4.010146141052246,
          8.378351211547852,
          -6.00160026550293,
          -5.326396942138672,
          15.867781639099121,
          -4.8316755294799805,
          1.5976520776748657,
          8.821685791015625,
          -4.985933780670166,
          0.7366071343421936,
          -5.441839694976807
         ],
         "xaxis": "x",
         "y": [
          -0.7995859980583191,
          -3.5967931747436523,
          -3.6202142238616943,
          -0.7621058821678162,
          -0.9057603478431702,
          -1.1204335689544678,
          -1.4216850996017456,
          -1.7479052543640137,
          -3.7196226119995117,
          -0.6722071170806885,
          -1.1314588785171509,
          -3.3046817779541016,
          -0.8397027254104614,
          -0.575469434261322,
          -0.44656750559806824,
          -2.2815351486206055,
          -1.3760476112365723,
          -1.7958288192749023,
          -0.18627190589904785,
          -1.6812138557434082,
          -0.5716595649719238,
          -0.3055652976036072,
          -1.2439042329788208,
          -3.9233078956604004,
          0.7475602030754089,
          -1.6658861637115479,
          -4.130553245544434,
          -0.6752541065216064,
          -1.7618606090545654,
          -2.948831796646118,
          -0.5427810549736023,
          -0.9515039324760437,
          -2.5668680667877197,
          -1.7937304973602295,
          -1.1040587425231934,
          -1.7977224588394165,
          -1.6522578001022339,
          -1.1555936336517334,
          -0.7982192635536194
         ],
         "yaxis": "y",
         "type": "scatter"
        }
       ],
       "layout": {
        "template": {
         "data": {
          "histogram2dcontour": [
           {
            "type": "histogram2dcontour",
            "colorbar": {
             "outlinewidth": 0,
             "ticks": ""
            },
            "colorscale": [
             [
              0.0,
              "#0d0887"
             ],
             [
              0.1111111111111111,
              "#46039f"
             ],
             [
              0.2222222222222222,
              "#7201a8"
             ],
             [
              0.3333333333333333,
              "#9c179e"
             ],
             [
              0.4444444444444444,
              "#bd3786"
             ],
             [
              0.5555555555555556,
              "#d8576b"
             ],
             [
              0.6666666666666666,
              "#ed7953"
             ],
             [
              0.7777777777777778,
              "#fb9f3a"
             ],
             [
              0.8888888888888888,
              "#fdca26"
             ],
             [
              1.0,
              "#f0f921"
             ]
            ]
           }
          ],
          "choropleth": [
           {
            "type": "choropleth",
            "colorbar": {
             "outlinewidth": 0,
             "ticks": ""
            }
           }
          ],
          "histogram2d": [
           {
            "type": "histogram2d",
            "colorbar": {
             "outlinewidth": 0,
             "ticks": ""
            },
            "colorscale": [
             [
              0.0,
              "#0d0887"
             ],
             [
              0.1111111111111111,
              "#46039f"
             ],
             [
              0.2222222222222222,
              "#7201a8"
             ],
             [
              0.3333333333333333,
              "#9c179e"
             ],
             [
              0.4444444444444444,
              "#bd3786"
             ],
             [
              0.5555555555555556,
              "#d8576b"
             ],
             [
              0.6666666666666666,
              "#ed7953"
             ],
             [
              0.7777777777777778,
              "#fb9f3a"
             ],
             [
              0.8888888888888888,
              "#fdca26"
             ],
             [
              1.0,
              "#f0f921"
             ]
            ]
           }
          ],
          "heatmap": [
           {
            "type": "heatmap",
            "colorbar": {
             "outlinewidth": 0,
             "ticks": ""
            },
            "colorscale": [
             [
              0.0,
              "#0d0887"
             ],
             [
              0.1111111111111111,
              "#46039f"
             ],
             [
              0.2222222222222222,
              "#7201a8"
             ],
             [
              0.3333333333333333,
              "#9c179e"
             ],
             [
              0.4444444444444444,
              "#bd3786"
             ],
             [
              0.5555555555555556,
              "#d8576b"
             ],
             [
              0.6666666666666666,
              "#ed7953"
             ],
             [
              0.7777777777777778,
              "#fb9f3a"
             ],
             [
              0.8888888888888888,
              "#fdca26"
             ],
             [
              1.0,
              "#f0f921"
             ]
            ]
           }
          ],
          "heatmapgl": [
           {
            "type": "heatmapgl",
            "colorbar": {
             "outlinewidth": 0,
             "ticks": ""
            },
            "colorscale": [
             [
              0.0,
              "#0d0887"
             ],
             [
              0.1111111111111111,
              "#46039f"
             ],
             [
              0.2222222222222222,
              "#7201a8"
             ],
             [
              0.3333333333333333,
              "#9c179e"
             ],
             [
              0.4444444444444444,
              "#bd3786"
             ],
             [
              0.5555555555555556,
              "#d8576b"
             ],
             [
              0.6666666666666666,
              "#ed7953"
             ],
             [
              0.7777777777777778,
              "#fb9f3a"
             ],
             [
              0.8888888888888888,
              "#fdca26"
             ],
             [
              1.0,
              "#f0f921"
             ]
            ]
           }
          ],
          "contourcarpet": [
           {
            "type": "contourcarpet",
            "colorbar": {
             "outlinewidth": 0,
             "ticks": ""
            }
           }
          ],
          "contour": [
           {
            "type": "contour",
            "colorbar": {
             "outlinewidth": 0,
             "ticks": ""
            },
            "colorscale": [
             [
              0.0,
              "#0d0887"
             ],
             [
              0.1111111111111111,
              "#46039f"
             ],
             [
              0.2222222222222222,
              "#7201a8"
             ],
             [
              0.3333333333333333,
              "#9c179e"
             ],
             [
              0.4444444444444444,
              "#bd3786"
             ],
             [
              0.5555555555555556,
              "#d8576b"
             ],
             [
              0.6666666666666666,
              "#ed7953"
             ],
             [
              0.7777777777777778,
              "#fb9f3a"
             ],
             [
              0.8888888888888888,
              "#fdca26"
             ],
             [
              1.0,
              "#f0f921"
             ]
            ]
           }
          ],
          "surface": [
           {
            "type": "surface",
            "colorbar": {
             "outlinewidth": 0,
             "ticks": ""
            },
            "colorscale": [
             [
              0.0,
              "#0d0887"
             ],
             [
              0.1111111111111111,
              "#46039f"
             ],
             [
              0.2222222222222222,
              "#7201a8"
             ],
             [
              0.3333333333333333,
              "#9c179e"
             ],
             [
              0.4444444444444444,
              "#bd3786"
             ],
             [
              0.5555555555555556,
              "#d8576b"
             ],
             [
              0.6666666666666666,
              "#ed7953"
             ],
             [
              0.7777777777777778,
              "#fb9f3a"
             ],
             [
              0.8888888888888888,
              "#fdca26"
             ],
             [
              1.0,
              "#f0f921"
             ]
            ]
           }
          ],
          "mesh3d": [
           {
            "type": "mesh3d",
            "colorbar": {
             "outlinewidth": 0,
             "ticks": ""
            }
           }
          ],
          "scatter": [
           {
            "fillpattern": {
             "fillmode": "overlay",
             "size": 10,
             "solidity": 0.2
            },
            "type": "scatter"
           }
          ],
          "parcoords": [
           {
            "type": "parcoords",
            "line": {
             "colorbar": {
              "outlinewidth": 0,
              "ticks": ""
             }
            }
           }
          ],
          "scatterpolargl": [
           {
            "type": "scatterpolargl",
            "marker": {
             "colorbar": {
              "outlinewidth": 0,
              "ticks": ""
             }
            }
           }
          ],
          "bar": [
           {
            "error_x": {
             "color": "#2a3f5f"
            },
            "error_y": {
             "color": "#2a3f5f"
            },
            "marker": {
             "line": {
              "color": "#E5ECF6",
              "width": 0.5
             },
             "pattern": {
              "fillmode": "overlay",
              "size": 10,
              "solidity": 0.2
             }
            },
            "type": "bar"
           }
          ],
          "scattergeo": [
           {
            "type": "scattergeo",
            "marker": {
             "colorbar": {
              "outlinewidth": 0,
              "ticks": ""
             }
            }
           }
          ],
          "scatterpolar": [
           {
            "type": "scatterpolar",
            "marker": {
             "colorbar": {
              "outlinewidth": 0,
              "ticks": ""
             }
            }
           }
          ],
          "histogram": [
           {
            "marker": {
             "pattern": {
              "fillmode": "overlay",
              "size": 10,
              "solidity": 0.2
             }
            },
            "type": "histogram"
           }
          ],
          "scattergl": [
           {
            "type": "scattergl",
            "marker": {
             "colorbar": {
              "outlinewidth": 0,
              "ticks": ""
             }
            }
           }
          ],
          "scatter3d": [
           {
            "type": "scatter3d",
            "line": {
             "colorbar": {
              "outlinewidth": 0,
              "ticks": ""
             }
            },
            "marker": {
             "colorbar": {
              "outlinewidth": 0,
              "ticks": ""
             }
            }
           }
          ],
          "scattermapbox": [
           {
            "type": "scattermapbox",
            "marker": {
             "colorbar": {
              "outlinewidth": 0,
              "ticks": ""
             }
            }
           }
          ],
          "scatterternary": [
           {
            "type": "scatterternary",
            "marker": {
             "colorbar": {
              "outlinewidth": 0,
              "ticks": ""
             }
            }
           }
          ],
          "scattercarpet": [
           {
            "type": "scattercarpet",
            "marker": {
             "colorbar": {
              "outlinewidth": 0,
              "ticks": ""
             }
            }
           }
          ],
          "carpet": [
           {
            "aaxis": {
             "endlinecolor": "#2a3f5f",
             "gridcolor": "white",
             "linecolor": "white",
             "minorgridcolor": "white",
             "startlinecolor": "#2a3f5f"
            },
            "baxis": {
             "endlinecolor": "#2a3f5f",
             "gridcolor": "white",
             "linecolor": "white",
             "minorgridcolor": "white",
             "startlinecolor": "#2a3f5f"
            },
            "type": "carpet"
           }
          ],
          "table": [
           {
            "cells": {
             "fill": {
              "color": "#EBF0F8"
             },
             "line": {
              "color": "white"
             }
            },
            "header": {
             "fill": {
              "color": "#C8D4E3"
             },
             "line": {
              "color": "white"
             }
            },
            "type": "table"
           }
          ],
          "barpolar": [
           {
            "marker": {
             "line": {
              "color": "#E5ECF6",
              "width": 0.5
             },
             "pattern": {
              "fillmode": "overlay",
              "size": 10,
              "solidity": 0.2
             }
            },
            "type": "barpolar"
           }
          ],
          "pie": [
           {
            "automargin": true,
            "type": "pie"
           }
          ]
         },
         "layout": {
          "autotypenumbers": "strict",
          "colorway": [
           "#636efa",
           "#EF553B",
           "#00cc96",
           "#ab63fa",
           "#FFA15A",
           "#19d3f3",
           "#FF6692",
           "#B6E880",
           "#FF97FF",
           "#FECB52"
          ],
          "font": {
           "color": "#2a3f5f"
          },
          "hovermode": "closest",
          "hoverlabel": {
           "align": "left"
          },
          "paper_bgcolor": "white",
          "plot_bgcolor": "#E5ECF6",
          "polar": {
           "bgcolor": "#E5ECF6",
           "angularaxis": {
            "gridcolor": "white",
            "linecolor": "white",
            "ticks": ""
           },
           "radialaxis": {
            "gridcolor": "white",
            "linecolor": "white",
            "ticks": ""
           }
          },
          "ternary": {
           "bgcolor": "#E5ECF6",
           "aaxis": {
            "gridcolor": "white",
            "linecolor": "white",
            "ticks": ""
           },
           "baxis": {
            "gridcolor": "white",
            "linecolor": "white",
            "ticks": ""
           },
           "caxis": {
            "gridcolor": "white",
            "linecolor": "white",
            "ticks": ""
           }
          },
          "coloraxis": {
           "colorbar": {
            "outlinewidth": 0,
            "ticks": ""
           }
          },
          "colorscale": {
           "sequential": [
            [
             0.0,
             "#0d0887"
            ],
            [
             0.1111111111111111,
             "#46039f"
            ],
            [
             0.2222222222222222,
             "#7201a8"
            ],
            [
             0.3333333333333333,
             "#9c179e"
            ],
            [
             0.4444444444444444,
             "#bd3786"
            ],
            [
             0.5555555555555556,
             "#d8576b"
            ],
            [
             0.6666666666666666,
             "#ed7953"
            ],
            [
             0.7777777777777778,
             "#fb9f3a"
            ],
            [
             0.8888888888888888,
             "#fdca26"
            ],
            [
             1.0,
             "#f0f921"
            ]
           ],
           "sequentialminus": [
            [
             0.0,
             "#0d0887"
            ],
            [
             0.1111111111111111,
             "#46039f"
            ],
            [
             0.2222222222222222,
             "#7201a8"
            ],
            [
             0.3333333333333333,
             "#9c179e"
            ],
            [
             0.4444444444444444,
             "#bd3786"
            ],
            [
             0.5555555555555556,
             "#d8576b"
            ],
            [
             0.6666666666666666,
             "#ed7953"
            ],
            [
             0.7777777777777778,
             "#fb9f3a"
            ],
            [
             0.8888888888888888,
             "#fdca26"
            ],
            [
             1.0,
             "#f0f921"
            ]
           ],
           "diverging": [
            [
             0,
             "#8e0152"
            ],
            [
             0.1,
             "#c51b7d"
            ],
            [
             0.2,
             "#de77ae"
            ],
            [
             0.3,
             "#f1b6da"
            ],
            [
             0.4,
             "#fde0ef"
            ],
            [
             0.5,
             "#f7f7f7"
            ],
            [
             0.6,
             "#e6f5d0"
            ],
            [
             0.7,
             "#b8e186"
            ],
            [
             0.8,
             "#7fbc41"
            ],
            [
             0.9,
             "#4d9221"
            ],
            [
             1,
             "#276419"
            ]
           ]
          },
          "xaxis": {
           "gridcolor": "white",
           "linecolor": "white",
           "ticks": "",
           "title": {
            "standoff": 15
           },
           "zerolinecolor": "white",
           "automargin": true,
           "zerolinewidth": 2
          },
          "yaxis": {
           "gridcolor": "white",
           "linecolor": "white",
           "ticks": "",
           "title": {
            "standoff": 15
           },
           "zerolinecolor": "white",
           "automargin": true,
           "zerolinewidth": 2
          },
          "scene": {
           "xaxis": {
            "backgroundcolor": "#E5ECF6",
            "gridcolor": "white",
            "linecolor": "white",
            "showbackground": true,
            "ticks": "",
            "zerolinecolor": "white",
            "gridwidth": 2
           },
           "yaxis": {
            "backgroundcolor": "#E5ECF6",
            "gridcolor": "white",
            "linecolor": "white",
            "showbackground": true,
            "ticks": "",
            "zerolinecolor": "white",
            "gridwidth": 2
           },
           "zaxis": {
            "backgroundcolor": "#E5ECF6",
            "gridcolor": "white",
            "linecolor": "white",
            "showbackground": true,
            "ticks": "",
            "zerolinecolor": "white",
            "gridwidth": 2
           }
          },
          "shapedefaults": {
           "line": {
            "color": "#2a3f5f"
           }
          },
          "annotationdefaults": {
           "arrowcolor": "#2a3f5f",
           "arrowhead": 0,
           "arrowwidth": 1
          },
          "geo": {
           "bgcolor": "white",
           "landcolor": "#E5ECF6",
           "subunitcolor": "white",
           "showland": true,
           "showlakes": true,
           "lakecolor": "white"
          },
          "title": {
           "x": 0.05
          },
          "mapbox": {
           "style": "light"
          }
         }
        },
        "xaxis": {
         "anchor": "y",
         "domain": [
          0.0,
          1.0
         ],
         "title": {
          "text": "TSNE-2D-1"
         },
         "showgrid": false,
         "zeroline": false
        },
        "yaxis": {
         "anchor": "x",
         "domain": [
          0.0,
          1.0
         ],
         "title": {
          "text": "TSNE-2D-2"
         },
         "showgrid": false,
         "zeroline": false
        },
        "legend": {
         "title": {
          "text": "Variant"
         },
         "tracegroupgap": 0
        },
        "margin": {
         "t": 60
        },
        "font": {
         "family": "Courier New, monospace",
         "size": 18,
         "color": "RebeccaPurple"
        }
       },
       "config": {
        "plotlyServerURL": "https://plot.ly"
       }
      },
      "text/html": "<div>                            <div id=\"bba3ba73-9be7-406a-916f-9b366bbdc27d\" class=\"plotly-graph-div\" style=\"height:525px; width:100%;\"></div>            <script type=\"text/javascript\">                require([\"plotly\"], function(Plotly) {                    window.PLOTLYENV=window.PLOTLYENV || {};                                    if (document.getElementById(\"bba3ba73-9be7-406a-916f-9b366bbdc27d\")) {                    Plotly.newPlot(                        \"bba3ba73-9be7-406a-916f-9b366bbdc27d\",                        [{\"hovertemplate\":\"Variant=Alpha\\u003cbr\\u003e0=%{x}\\u003cbr\\u003e1=%{y}\\u003cextra\\u003e\\u003c\\u002fextra\\u003e\",\"legendgroup\":\"Alpha\",\"marker\":{\"color\":\"#636efa\",\"symbol\":\"circle\"},\"mode\":\"markers\",\"name\":\"Alpha\",\"orientation\":\"v\",\"showlegend\":true,\"x\":[-6.1001057624816895,0.842036247253418,-0.21304592490196228,-6.460626602172852,1.701770544052124,4.391181945800781,0.6615325808525085,-0.24510404467582703,0.31586727499961853,0.28481635451316833,8.342658042907715,-0.18256966769695282,4.782097816467285,0.04400935396552086,-4.287723064422607,7.511105537414551,0.22281785309314728,4.786236763000488,4.127790927886963,-5.3770341873168945,-6.386168003082275,1.3375160694122314,8.338839530944824,0.22080276906490326,4.7934041023254395,9.727825164794922,0.16012375056743622,-0.45303255319595337,-0.09412024170160294,0.33331531286239624,0.2779789865016937,1.4972137212753296,11.483638763427734,-0.06882640719413757,15.952729225158691,9.351079940795898,-6.724025726318359,0.2603739798069,0.3269442319869995,13.472770690917969,-0.09416208416223526,-6.6432414054870605,0.5407332181930542,0.1378283053636551,4.35471773147583,-6.356321811676025,-0.12500588595867157,-6.539062023162842,0.14227524399757385,16.81894874572754,0.29686784744262695,0.5216037034988403,16.04217529296875,-0.3330107629299164,-0.026344656944274902],\"xaxis\":\"x\",\"y\":[4.107419013977051,13.205840110778809,13.01797103881836,4.212047100067139,0.6000874042510986,8.050142288208008,12.847808837890625,12.82004451751709,13.195335388183594,13.258963584899902,-1.9293773174285889,12.276347160339355,1.7647631168365479,12.937131881713867,3.5567054748535156,-0.5264817476272583,12.704861640930176,0.3926539421081543,9.014573097229004,3.924628734588623,4.177677631378174,0.8446633815765381,-1.7402100563049316,12.480531692504883,-0.46010252833366394,-3.1268608570098877,12.74694538116455,13.003833770751953,12.910552978515625,12.970884323120117,12.932787895202637,0.7817577123641968,-3.8906326293945312,12.890281677246094,-2.5250794887542725,-2.695969343185425,4.251821041107178,12.823674201965332,12.640813827514648,-3.631732940673828,2.811779737472534,4.217689037322998,12.684514999389648,12.490422248840332,8.146798133850098,4.205987930297852,12.49460220336914,4.1574225425720215,12.834512710571289,-2.7834949493408203,13.244529724121094,12.8560209274292,-3.4286844730377197,12.755263328552246,12.617066383361816],\"yaxis\":\"y\",\"type\":\"scatter\"},{\"hovertemplate\":\"Variant=Beta\\u003cbr\\u003e0=%{x}\\u003cbr\\u003e1=%{y}\\u003cextra\\u003e\\u003c\\u002fextra\\u003e\",\"legendgroup\":\"Beta\",\"marker\":{\"color\":\"#EF553B\",\"symbol\":\"circle\"},\"mode\":\"markers\",\"name\":\"Beta\",\"orientation\":\"v\",\"showlegend\":true,\"x\":[12.12307071685791,7.052019119262695,-1.2887674570083618,-1.4956125020980835,0.7147536277770996,-0.2929777204990387,3.786104202270508,3.567396879196167,3.5497825145721436,-1.3912503719329834,3.643075942993164,-1.3469473123550415,-1.6450073719024658,-0.5098167061805725,3.567955493927002,3.330570697784424,0.7384940981864929,-1.0638659000396729,3.5944299697875977,3.6437292098999023,3.750150680541992,8.22846508026123,3.6341919898986816,-1.5154932737350464,4.112422943115234,3.5695674419403076,-8.805428504943848,-8.388263702392578,0.7527153491973877,10.483430862426758,-8.829503059387207,14.922484397888184,15.60177230834961,12.995697975158691,3.5201826095581055,-1.7150415182113647,3.5720322132110596,-1.435118317604065,0.9485073685646057,3.5262413024902344,-1.459507942199707,3.5501315593719482,-1.4251103401184082,4.584676742553711,6.374910354614258,4.157772541046143,-8.748429298400879,-8.703063011169434,3.4741461277008057,1.8467230796813965,0.6954157948493958,3.583555221557617,3.567361831665039,3.669320821762085,-8.247148513793945,0.7352644205093384,-1.4199501276016235,1.5746632814407349,3.57204270362854,-8.744190216064453,-1.4107156991958618,6.259690761566162,2.798029661178589,-8.641688346862793],\"xaxis\":\"x\",\"y\":[-3.4124245643615723,0.17371906340122223,2.286574363708496,2.298140048980713,11.38930892944336,1.8845597505569458,0.698340654373169,8.198446273803711,8.112432479858398,2.3016982078552246,8.224733352661133,2.3258674144744873,2.45207142829895,1.7820340394973755,8.223285675048828,8.586379051208496,11.342721939086914,2.0203630924224854,8.635900497436523,8.060823440551758,7.946221351623535,-1.8229374885559082,0.5675500631332397,2.217327356338501,6.622295379638672,8.073224067687988,4.353676795959473,3.965847969055176,11.414582252502441,-3.405945062637329,4.320431709289551,-2.8271007537841797,-3.6262338161468506,-3.782593011856079,8.24980640411377,2.2489449977874756,8.336960792541504,2.264507532119751,11.054393768310547,8.333736419677734,2.382964611053467,8.187423706054688,2.3669748306274414,0.20592357218265533,-1.3192638158798218,6.98533821105957,4.266027927398682,4.347139358520508,8.257838249206543,0.5215919613838196,11.330204963684082,8.225293159484863,8.259519577026367,8.211726188659668,3.982438564300537,11.219194412231445,2.3318254947662354,0.8978272080421448,8.318765640258789,4.268770694732666,2.2613589763641357,0.9035789370536804,9.349206924438477,4.036948204040527],\"yaxis\":\"y\",\"type\":\"scatter\"},{\"hovertemplate\":\"Variant=Delta\\u003cbr\\u003e0=%{x}\\u003cbr\\u003e1=%{y}\\u003cextra\\u003e\\u003c\\u002fextra\\u003e\",\"legendgroup\":\"Delta\",\"marker\":{\"color\":\"#00cc96\",\"symbol\":\"circle\"},\"mode\":\"markers\",\"name\":\"Delta\",\"orientation\":\"v\",\"showlegend\":true,\"x\":[-8.169986724853516,2.5867862701416016,3.477356433868408,-8.20565414428711,-8.542525291442871,-8.995089530944824,7.612007141113281,-8.38188648223877,-8.112871170043945,11.063484191894531,-1.8485592603683472,-3.2192163467407227,0.23962633311748505,-7.769852638244629,3.9433887004852295,1.1645210981369019,14.674752235412598,5.304487705230713,-0.12098314613103867,14.221854209899902,8.674748420715332,-7.697993278503418,-8.303887367248535,-7.964341163635254,-7.911729335784912,-1.2007086277008057,14.810025215148926,-0.9431592226028442,-7.906680583953857,9.189162254333496,3.7174885272979736,-8.27816390991211,1.5597537755966187,-8.465198516845703,8.243866920471191,-8.118345260620117,-7.204752445220947,-0.38747861981391907,-1.3166370391845703,3.124129295349121,-8.121440887451172,-8.247129440307617,-8.861955642700195,-7.9520392417907715,3.2068357467651367,-6.455877304077148,1.136918306350708,-0.29229167103767395,-7.757802486419678,2.7235469818115234,-3.0849924087524414,4.48972749710083,5.122198104858398,-8.281521797180176,6.3429083824157715,1.6864031553268433,5.246522903442383,3.2680606842041016,-2.590257167816162,1.4988120794296265,-8.913820266723633,-8.367462158203125,13.329212188720703,-8.097474098205566,2.0174331665039062,1.1662137508392334],\"xaxis\":\"x\",\"y\":[6.302300930023193,0.359174907207489,6.829469203948975,5.906196117401123,5.699987411499023,6.235508441925049,-0.8054656386375427,6.074690818786621,5.930399417877197,-3.7720401287078857,3.4313173294067383,4.01889705657959,1.8924471139907837,6.00895881652832,0.563614547252655,12.074907302856445,-2.906467914581299,0.38653603196144104,3.176710844039917,-3.1825215816497803,-1.649003267288208,5.394601821899414,5.970901012420654,5.865495681762695,6.365168571472168,3.46382999420166,-2.8436312675476074,2.7731621265411377,5.65866231918335,-3.917966842651367,6.696329593658447,5.762799263000488,11.639857292175293,5.59156608581543,-2.305410623550415,5.974025249481201,5.774100303649902,3.284912109375,3.2861368656158447,7.112751483917236,5.837419033050537,5.874536037445068,6.127787113189697,5.649054527282715,7.661595821380615,5.31856632232666,12.013654708862305,3.1738624572753906,5.567192077636719,0.5716342329978943,4.025926113128662,0.5099011063575745,0.37391337752342224,6.2447381019592285,-0.6158621907234192,11.567842483520508,1.1615115404129028,7.271368026733398,3.8352463245391846,11.800119400024414,6.149655342102051,6.225606918334961,-3.569319248199463,5.505677223205566,11.36787223815918,12.0540189743042],\"yaxis\":\"y\",\"type\":\"scatter\"},{\"hovertemplate\":\"Variant=Omicron\\u003cbr\\u003e0=%{x}\\u003cbr\\u003e1=%{y}\\u003cextra\\u003e\\u003c\\u002fextra\\u003e\",\"legendgroup\":\"Omicron\",\"marker\":{\"color\":\"#ab63fa\",\"symbol\":\"circle\"},\"mode\":\"markers\",\"name\":\"Omicron\",\"orientation\":\"v\",\"showlegend\":true,\"x\":[-0.8182917833328247,12.071219444274902,-2.4245965480804443,-11.40208625793457,-6.767475605010986,-1.5687181949615479,2.1368634700775146,6.285706043243408,-5.3949761390686035,-6.772415637969971,15.554923057556152,9.008174896240234,12.238442420959473,15.563438415527344,-5.790047645568848,11.548562049865723,-9.008585929870605,-6.634283542633057,-6.247604846954346,1.4080793857574463,-0.5869796276092529,-8.606722831726074,5.833008766174316,-4.23521089553833,-11.61963176727295,-6.06873083114624,-0.8295328617095947,-0.5765982866287231,-6.387944221496582,17.750911712646484,-7.386532783508301,-5.738579750061035,-0.6636071801185608,-7.404866695404053,-11.584875106811523,-0.8963140249252319,-3.605813503265381,-7.958652496337891,-6.0462565422058105,-11.282244682312012,14.876932144165039,6.272497177124023,-0.9793316721916199,-0.9511702060699463,3.9183430671691895,-11.832662582397461,-0.774565577507019,-5.7224202156066895,-5.3853912353515625,1.9936922788619995,-10.525562286376953,-8.71821403503418,8.019217491149902,-11.593494415283203,15.174870491027832,-2.0431506633758545,-5.004632949829102,-6.490880489349365,-1.1182655096054077,12.762697219848633,-5.624754428863525,-5.950545310974121,-7.0967254638671875,-1.6304636001586914,1.4551225900650024,14.782926559448242,-0.398120254278183,-8.839733123779297,-8.68871784210205,-9.980597496032715,12.439385414123535,-7.467419624328613,-5.120197772979736,-11.47488784790039,-8.882078170776367,12.825935363769531,-7.511124134063721,-8.080526351928711,9.474892616271973,15.686885833740234,9.328638076782227,-9.326933860778809,5.742725849151611,-0.7949009537696838,-9.979364395141602,-6.728505611419678,-8.222089767456055,8.545650482177734,16.977827072143555,-11.139979362487793,-8.962778091430664,-11.175552368164062,-8.606715202331543,9.70695972442627,-7.56002140045166,10.132192611694336,-7.209546089172363,-8.738707542419434,17.121299743652344,3.8494205474853516,-6.181617736816406,13.6930513381958,-0.7474197149276733,13.08043384552002,15.669392585754395,-11.25804328918457,-6.492228031158447,9.919062614440918,-6.489430904388428,13.023691177368164,16.687877655029297,-9.99057388305664,-6.40031099319458,-9.139328956604004,-0.31453409790992737,6.324138641357422,5.454382419586182,-5.85556697845459,15.301398277282715,-8.533140182495117,-8.59990406036377,16.996051788330078,7.670516490936279,-11.525496482849121,3.803318500518799,-7.5260210037231445,-0.6109060645103455,-4.8786940574646,-11.262216567993164,-0.9237549304962158,-8.436948776245117,17.71463394165039,-9.256710052490234,-9.993725776672363,-8.463654518127441,-8.183065414428711,10.668746948242188,-0.9291477799415588,-6.453041076660156,17.716039657592773,-8.817182540893555,10.83544635772705,1.338976502418518,-8.47170639038086,13.964949607849121,-0.7935416102409363,7.883110523223877,-5.947939872741699,9.417912483215332,0.7244689464569092,-8.557242393493652,-8.306511878967285,-8.29364013671875,15.002522468566895,8.258843421936035,-5.830000877380371,-9.99668025970459,-5.6360650062561035,1.3228994607925415,4.569342136383057,-6.566501617431641,12.541726112365723,-8.699447631835938,16.19601058959961,-7.743963718414307,9.513500213623047,-8.57357406616211,12.837634086608887,-0.7681747674942017,-6.666374683380127,-6.805887222290039,-7.102883815765381,-11.100683212280273,16.00580406188965,9.42063045501709,3.8943581581115723,-8.956707000732422,-6.998018264770508,-1.443529486656189,-7.1771345138549805,-6.686433792114258,12.80517292022705,-0.1152617558836937,-9.122061729431152,-3.037371873855591,17.600019454956055,5.876926422119141,1.4400975704193115,-1.5314215421676636,-5.310458660125732,-5.2436981201171875,-0.48123276233673096,1.1919790506362915,17.7728214263916,17.00132179260254,-7.831643581390381,6.108363628387451,-5.058676242828369,6.358848571777344,3.0998709201812744,3.983980417251587,-5.772675514221191,9.62043285369873,12.597618103027344,-3.628019094467163,-5.150193691253662,-7.106479167938232,-9.988443374633789,11.38922119140625,16.20131492614746,5.388294219970703,-9.979981422424316,-6.057257175445557,-7.719698905944824,9.691545486450195,0.5553770065307617,-0.3350974917411804,1.2287882566452026,-1.8185651302337646,4.673603057861328,1.3986032009124756,-5.428802967071533,1.0055115222930908,4.823074817657471,-0.5973407626152039,17.79286003112793,13.844987869262695,-8.408230781555176,-2.3821749687194824,-7.396773815155029,-0.8436950445175171,5.115662574768066,-7.631005764007568,16.52271842956543,14.40894603729248,10.498074531555176,15.139732360839844,0.7932212352752686,-8.110824584960938,-0.7563742399215698,-0.9334578514099121,-7.555682182312012,-3.8946151733398438,8.393048286437988,-11.31467056274414,-2.573805570602417,-7.124759674072266,6.432454586029053,-0.5770578980445862,-4.964376449584961,9.125556945800781,-5.608105659484863,6.007634162902832,-2.1507294178009033,-2.669081687927246,3.5076780319213867,-5.976469993591309,-5.336554050445557,14.977706909179688,7.739316940307617,7.822564601898193,5.72495174407959,7.286042213439941,0.7431397438049316,-3.8133814334869385,12.224711418151855,0.5796542763710022,10.149155616760254,-8.403587341308594,-8.116039276123047,-5.351890563964844,13.9375,8.973764419555664],\"xaxis\":\"x\",\"y\":[9.17296028137207,-3.936793088912964,-5.451032638549805,-5.9200215339660645,-10.185029029846191,-4.503539562225342,0.3379683792591095,-0.6478914022445679,-5.547120094299316,-9.928876876831055,-2.5360615253448486,-2.319708824157715,-4.061540603637695,-2.658348798751831,-5.4062886238098145,-3.95121169090271,-4.959126949310303,-9.948112487792969,-5.4428606033325195,-1.4788436889648438,9.121272087097168,-4.745162487030029,-0.7178977131843567,-8.335593223571777,-5.931661128997803,-10.408204078674316,-3.9705889225006104,9.090593338012695,-9.94751262664795,-3.6170830726623535,-4.938060760498047,-0.6132936477661133,-3.8909568786621094,-4.716148853302002,-5.889792442321777,9.336254119873047,-4.756434440612793,-4.208860397338867,-5.382568359375,-6.050660610198975,-2.7264328002929688,-0.2771461009979248,-4.152119159698486,-4.0507588386535645,4.811131954193115,-5.749898433685303,9.081558227539062,-9.658113479614258,-0.8995707035064697,-0.9415940046310425,-7.036032676696777,-4.188363552093506,-2.774536609649658,-5.745093822479248,-2.739643096923828,-4.576438903808594,-5.254794597625732,-10.459367752075195,-4.195075035095215,-3.650221347808838,-0.7211958169937134,-5.32064151763916,-10.214767456054688,-4.399149417877197,-1.3151966333389282,-2.8524038791656494,-2.9587526321411133,-3.6388065814971924,-4.2854132652282715,1.0717105865478516,-3.905942916870117,-3.635406017303467,-9.477826118469238,-5.861069679260254,-4.536955833435059,-3.9050779342651367,-4.226716041564941,-3.486306667327881,-2.0990195274353027,-2.6171414852142334,-3.3660833835601807,-4.173028469085693,-0.8799291253089905,9.505521774291992,1.0672907829284668,-4.129795074462891,-4.669356346130371,-2.260378837585449,-2.912660598754883,-6.263635158538818,-4.150475025177002,-6.1860480308532715,-4.74533224105835,-2.8797192573547363,-4.5719895362854,-4.0204854011535645,-4.776719570159912,-4.854680061340332,-3.0050084590911865,-0.18752719461917877,-4.339581489562988,-3.4258415699005127,9.334134101867676,-3.7496495246887207,-2.6530768871307373,-6.0912065505981445,-10.108718872070312,-3.920698642730713,-10.425474166870117,-3.7737460136413574,-2.7205710411071777,1.058093547821045,-9.91246223449707,-3.4783380031585693,-3.8819427490234375,0.9597142934799194,0.003687772899866104,-10.19643783569336,-2.5747506618499756,-4.595119476318359,-3.8410391807556152,-2.885997772216797,-0.3371855318546295,-5.8880414962768555,-0.007744252681732178,-9.771880149841309,9.122027397155762,-1.647728681564331,-6.095217704772949,-4.087197303771973,-3.9334754943847656,-3.5690112113952637,-4.878982067108154,1.0548526048660278,-3.8657100200653076,-5.101999282836914,-3.472647190093994,9.270609855651855,-10.056056022644043,-3.566321849822998,-4.9084649085998535,-3.5452184677124023,7.493305206298828,-4.666401386260986,-3.4049172401428223,9.120983123779297,-1.1063991785049438,-5.4155073165893555,-2.26029634475708,-1.3594722747802734,-3.845890760421753,-4.352926731109619,-3.6012051105499268,-2.9262263774871826,-2.9129364490509033,-4.44865608215332,1.0510090589523315,-0.7433354258537292,-1.7638840675354004,0.045653317123651505,-5.938908100128174,-4.1906938552856445,-3.772665500640869,-2.624330759048462,-5.024508476257324,-3.380746603012085,-5.225697994232178,-3.8788228034973145,-0.6297431588172913,-10.667549133300781,-9.993016242980957,-10.434469223022461,-6.721450328826904,-2.581116199493408,-3.44148588180542,1.5435394048690796,-2.6884469985961914,-10.389957427978516,-4.354325294494629,-9.410943984985352,-10.227168083190918,-4.199046611785889,-2.820857524871826,-3.4486353397369385,-4.739589691162109,-3.4324862957000732,0.8719980120658875,-0.5346792936325073,0.8029831051826477,-0.9722192287445068,-2.899195909500122,-4.657436370849609,-1.3591536283493042,-3.638361692428589,-2.875025510787964,-4.628791809082031,0.7923488020896912,-9.383495330810547,0.42788493633270264,0.478618323802948,-0.35696303844451904,-10.029754638671875,-3.490044593811035,-3.74381947517395,-2.5801150798797607,-4.5086493492126465,-10.696187019348145,0.8927941918373108,-3.7849769592285156,-2.5325355529785156,-0.4035627841949463,1.0962027311325073,-10.729103088378906,-4.546502590179443,-2.9102885723114014,8.284854888916016,-4.461066722869873,-1.9847244024276733,-4.470970630645752,-0.39340662956237793,7.4436869621276855,-9.680710792541504,-1.9033808708190918,-0.11509120464324951,9.114933013916016,-3.6558051109313965,-3.402531623840332,-4.66919469833374,-5.730533123016357,-10.50603199005127,-4.021973133087158,0.1433921605348587,-3.165050745010376,-2.6994237899780273,-3.06510329246521,-4.212404727935791,-2.7620882987976074,-2.1089999675750732,-4.4303131103515625,9.486387252807617,-3.8270719051361084,-10.689208030700684,-4.96322774887085,-2.908474922180176,-5.296619892120361,-5.426651954650879,-10.335465431213379,-0.8854520320892334,9.077507972717285,-1.7205803394317627,-1.8433763980865479,-5.512101173400879,-0.2895784080028534,-5.231758117675781,-4.671841621398926,0.0255848728120327,-10.429734230041504,-9.646581649780273,-2.7635509967803955,-2.509392499923706,-2.4365720748901367,-0.6741322875022888,-2.2024335861206055,-2.117058515548706,-4.605643272399902,-3.823928117752075,-3.561220645904541,-3.4405300617218018,-4.324977874755859,-4.832010746002197,-0.918317973613739,-3.391592264175415,-2.30519962310791],\"yaxis\":\"y\",\"type\":\"scatter\"},{\"hovertemplate\":\"Variant=Omicron Sub\\u003cbr\\u003e0=%{x}\\u003cbr\\u003e1=%{y}\\u003cextra\\u003e\\u003c\\u002fextra\\u003e\",\"legendgroup\":\"Omicron Sub\",\"marker\":{\"color\":\"#FFA15A\",\"symbol\":\"circle\"},\"mode\":\"markers\",\"name\":\"Omicron Sub\",\"orientation\":\"v\",\"showlegend\":true,\"x\":[-4.341677188873291,17.734264373779297,17.750125885009766,1.4842768907546997,-5.368967056274414,-5.206000328063965,-4.146365642547607,-4.869565486907959,-3.4344089031219482,-5.5564188957214355,-5.071932792663574,8.704686164855957,-5.394373416900635,-5.934065341949463,-6.319387912750244,8.959202766418457,-4.1120219230651855,-3.8333702087402344,4.440850257873535,6.863335132598877,-5.953467845916748,2.7288453578948975,6.454554557800293,9.964953422546387,5.929105758666992,-4.925382614135742,11.759149551391602,-4.841919422149658,-4.010146141052246,8.378351211547852,-6.00160026550293,-5.326396942138672,15.867781639099121,-4.8316755294799805,1.5976520776748657,8.821685791015625,-4.985933780670166,0.7366071343421936,-5.441839694976807],\"xaxis\":\"x\",\"y\":[-0.7995859980583191,-3.5967931747436523,-3.6202142238616943,-0.7621058821678162,-0.9057603478431702,-1.1204335689544678,-1.4216850996017456,-1.7479052543640137,-3.7196226119995117,-0.6722071170806885,-1.1314588785171509,-3.3046817779541016,-0.8397027254104614,-0.575469434261322,-0.44656750559806824,-2.2815351486206055,-1.3760476112365723,-1.7958288192749023,-0.18627190589904785,-1.6812138557434082,-0.5716595649719238,-0.3055652976036072,-1.2439042329788208,-3.9233078956604004,0.7475602030754089,-1.6658861637115479,-4.130553245544434,-0.6752541065216064,-1.7618606090545654,-2.948831796646118,-0.5427810549736023,-0.9515039324760437,-2.5668680667877197,-1.7937304973602295,-1.1040587425231934,-1.7977224588394165,-1.6522578001022339,-1.1555936336517334,-0.7982192635536194],\"yaxis\":\"y\",\"type\":\"scatter\"}],                        {\"template\":{\"data\":{\"histogram2dcontour\":[{\"type\":\"histogram2dcontour\",\"colorbar\":{\"outlinewidth\":0,\"ticks\":\"\"},\"colorscale\":[[0.0,\"#0d0887\"],[0.1111111111111111,\"#46039f\"],[0.2222222222222222,\"#7201a8\"],[0.3333333333333333,\"#9c179e\"],[0.4444444444444444,\"#bd3786\"],[0.5555555555555556,\"#d8576b\"],[0.6666666666666666,\"#ed7953\"],[0.7777777777777778,\"#fb9f3a\"],[0.8888888888888888,\"#fdca26\"],[1.0,\"#f0f921\"]]}],\"choropleth\":[{\"type\":\"choropleth\",\"colorbar\":{\"outlinewidth\":0,\"ticks\":\"\"}}],\"histogram2d\":[{\"type\":\"histogram2d\",\"colorbar\":{\"outlinewidth\":0,\"ticks\":\"\"},\"colorscale\":[[0.0,\"#0d0887\"],[0.1111111111111111,\"#46039f\"],[0.2222222222222222,\"#7201a8\"],[0.3333333333333333,\"#9c179e\"],[0.4444444444444444,\"#bd3786\"],[0.5555555555555556,\"#d8576b\"],[0.6666666666666666,\"#ed7953\"],[0.7777777777777778,\"#fb9f3a\"],[0.8888888888888888,\"#fdca26\"],[1.0,\"#f0f921\"]]}],\"heatmap\":[{\"type\":\"heatmap\",\"colorbar\":{\"outlinewidth\":0,\"ticks\":\"\"},\"colorscale\":[[0.0,\"#0d0887\"],[0.1111111111111111,\"#46039f\"],[0.2222222222222222,\"#7201a8\"],[0.3333333333333333,\"#9c179e\"],[0.4444444444444444,\"#bd3786\"],[0.5555555555555556,\"#d8576b\"],[0.6666666666666666,\"#ed7953\"],[0.7777777777777778,\"#fb9f3a\"],[0.8888888888888888,\"#fdca26\"],[1.0,\"#f0f921\"]]}],\"heatmapgl\":[{\"type\":\"heatmapgl\",\"colorbar\":{\"outlinewidth\":0,\"ticks\":\"\"},\"colorscale\":[[0.0,\"#0d0887\"],[0.1111111111111111,\"#46039f\"],[0.2222222222222222,\"#7201a8\"],[0.3333333333333333,\"#9c179e\"],[0.4444444444444444,\"#bd3786\"],[0.5555555555555556,\"#d8576b\"],[0.6666666666666666,\"#ed7953\"],[0.7777777777777778,\"#fb9f3a\"],[0.8888888888888888,\"#fdca26\"],[1.0,\"#f0f921\"]]}],\"contourcarpet\":[{\"type\":\"contourcarpet\",\"colorbar\":{\"outlinewidth\":0,\"ticks\":\"\"}}],\"contour\":[{\"type\":\"contour\",\"colorbar\":{\"outlinewidth\":0,\"ticks\":\"\"},\"colorscale\":[[0.0,\"#0d0887\"],[0.1111111111111111,\"#46039f\"],[0.2222222222222222,\"#7201a8\"],[0.3333333333333333,\"#9c179e\"],[0.4444444444444444,\"#bd3786\"],[0.5555555555555556,\"#d8576b\"],[0.6666666666666666,\"#ed7953\"],[0.7777777777777778,\"#fb9f3a\"],[0.8888888888888888,\"#fdca26\"],[1.0,\"#f0f921\"]]}],\"surface\":[{\"type\":\"surface\",\"colorbar\":{\"outlinewidth\":0,\"ticks\":\"\"},\"colorscale\":[[0.0,\"#0d0887\"],[0.1111111111111111,\"#46039f\"],[0.2222222222222222,\"#7201a8\"],[0.3333333333333333,\"#9c179e\"],[0.4444444444444444,\"#bd3786\"],[0.5555555555555556,\"#d8576b\"],[0.6666666666666666,\"#ed7953\"],[0.7777777777777778,\"#fb9f3a\"],[0.8888888888888888,\"#fdca26\"],[1.0,\"#f0f921\"]]}],\"mesh3d\":[{\"type\":\"mesh3d\",\"colorbar\":{\"outlinewidth\":0,\"ticks\":\"\"}}],\"scatter\":[{\"fillpattern\":{\"fillmode\":\"overlay\",\"size\":10,\"solidity\":0.2},\"type\":\"scatter\"}],\"parcoords\":[{\"type\":\"parcoords\",\"line\":{\"colorbar\":{\"outlinewidth\":0,\"ticks\":\"\"}}}],\"scatterpolargl\":[{\"type\":\"scatterpolargl\",\"marker\":{\"colorbar\":{\"outlinewidth\":0,\"ticks\":\"\"}}}],\"bar\":[{\"error_x\":{\"color\":\"#2a3f5f\"},\"error_y\":{\"color\":\"#2a3f5f\"},\"marker\":{\"line\":{\"color\":\"#E5ECF6\",\"width\":0.5},\"pattern\":{\"fillmode\":\"overlay\",\"size\":10,\"solidity\":0.2}},\"type\":\"bar\"}],\"scattergeo\":[{\"type\":\"scattergeo\",\"marker\":{\"colorbar\":{\"outlinewidth\":0,\"ticks\":\"\"}}}],\"scatterpolar\":[{\"type\":\"scatterpolar\",\"marker\":{\"colorbar\":{\"outlinewidth\":0,\"ticks\":\"\"}}}],\"histogram\":[{\"marker\":{\"pattern\":{\"fillmode\":\"overlay\",\"size\":10,\"solidity\":0.2}},\"type\":\"histogram\"}],\"scattergl\":[{\"type\":\"scattergl\",\"marker\":{\"colorbar\":{\"outlinewidth\":0,\"ticks\":\"\"}}}],\"scatter3d\":[{\"type\":\"scatter3d\",\"line\":{\"colorbar\":{\"outlinewidth\":0,\"ticks\":\"\"}},\"marker\":{\"colorbar\":{\"outlinewidth\":0,\"ticks\":\"\"}}}],\"scattermapbox\":[{\"type\":\"scattermapbox\",\"marker\":{\"colorbar\":{\"outlinewidth\":0,\"ticks\":\"\"}}}],\"scatterternary\":[{\"type\":\"scatterternary\",\"marker\":{\"colorbar\":{\"outlinewidth\":0,\"ticks\":\"\"}}}],\"scattercarpet\":[{\"type\":\"scattercarpet\",\"marker\":{\"colorbar\":{\"outlinewidth\":0,\"ticks\":\"\"}}}],\"carpet\":[{\"aaxis\":{\"endlinecolor\":\"#2a3f5f\",\"gridcolor\":\"white\",\"linecolor\":\"white\",\"minorgridcolor\":\"white\",\"startlinecolor\":\"#2a3f5f\"},\"baxis\":{\"endlinecolor\":\"#2a3f5f\",\"gridcolor\":\"white\",\"linecolor\":\"white\",\"minorgridcolor\":\"white\",\"startlinecolor\":\"#2a3f5f\"},\"type\":\"carpet\"}],\"table\":[{\"cells\":{\"fill\":{\"color\":\"#EBF0F8\"},\"line\":{\"color\":\"white\"}},\"header\":{\"fill\":{\"color\":\"#C8D4E3\"},\"line\":{\"color\":\"white\"}},\"type\":\"table\"}],\"barpolar\":[{\"marker\":{\"line\":{\"color\":\"#E5ECF6\",\"width\":0.5},\"pattern\":{\"fillmode\":\"overlay\",\"size\":10,\"solidity\":0.2}},\"type\":\"barpolar\"}],\"pie\":[{\"automargin\":true,\"type\":\"pie\"}]},\"layout\":{\"autotypenumbers\":\"strict\",\"colorway\":[\"#636efa\",\"#EF553B\",\"#00cc96\",\"#ab63fa\",\"#FFA15A\",\"#19d3f3\",\"#FF6692\",\"#B6E880\",\"#FF97FF\",\"#FECB52\"],\"font\":{\"color\":\"#2a3f5f\"},\"hovermode\":\"closest\",\"hoverlabel\":{\"align\":\"left\"},\"paper_bgcolor\":\"white\",\"plot_bgcolor\":\"#E5ECF6\",\"polar\":{\"bgcolor\":\"#E5ECF6\",\"angularaxis\":{\"gridcolor\":\"white\",\"linecolor\":\"white\",\"ticks\":\"\"},\"radialaxis\":{\"gridcolor\":\"white\",\"linecolor\":\"white\",\"ticks\":\"\"}},\"ternary\":{\"bgcolor\":\"#E5ECF6\",\"aaxis\":{\"gridcolor\":\"white\",\"linecolor\":\"white\",\"ticks\":\"\"},\"baxis\":{\"gridcolor\":\"white\",\"linecolor\":\"white\",\"ticks\":\"\"},\"caxis\":{\"gridcolor\":\"white\",\"linecolor\":\"white\",\"ticks\":\"\"}},\"coloraxis\":{\"colorbar\":{\"outlinewidth\":0,\"ticks\":\"\"}},\"colorscale\":{\"sequential\":[[0.0,\"#0d0887\"],[0.1111111111111111,\"#46039f\"],[0.2222222222222222,\"#7201a8\"],[0.3333333333333333,\"#9c179e\"],[0.4444444444444444,\"#bd3786\"],[0.5555555555555556,\"#d8576b\"],[0.6666666666666666,\"#ed7953\"],[0.7777777777777778,\"#fb9f3a\"],[0.8888888888888888,\"#fdca26\"],[1.0,\"#f0f921\"]],\"sequentialminus\":[[0.0,\"#0d0887\"],[0.1111111111111111,\"#46039f\"],[0.2222222222222222,\"#7201a8\"],[0.3333333333333333,\"#9c179e\"],[0.4444444444444444,\"#bd3786\"],[0.5555555555555556,\"#d8576b\"],[0.6666666666666666,\"#ed7953\"],[0.7777777777777778,\"#fb9f3a\"],[0.8888888888888888,\"#fdca26\"],[1.0,\"#f0f921\"]],\"diverging\":[[0,\"#8e0152\"],[0.1,\"#c51b7d\"],[0.2,\"#de77ae\"],[0.3,\"#f1b6da\"],[0.4,\"#fde0ef\"],[0.5,\"#f7f7f7\"],[0.6,\"#e6f5d0\"],[0.7,\"#b8e186\"],[0.8,\"#7fbc41\"],[0.9,\"#4d9221\"],[1,\"#276419\"]]},\"xaxis\":{\"gridcolor\":\"white\",\"linecolor\":\"white\",\"ticks\":\"\",\"title\":{\"standoff\":15},\"zerolinecolor\":\"white\",\"automargin\":true,\"zerolinewidth\":2},\"yaxis\":{\"gridcolor\":\"white\",\"linecolor\":\"white\",\"ticks\":\"\",\"title\":{\"standoff\":15},\"zerolinecolor\":\"white\",\"automargin\":true,\"zerolinewidth\":2},\"scene\":{\"xaxis\":{\"backgroundcolor\":\"#E5ECF6\",\"gridcolor\":\"white\",\"linecolor\":\"white\",\"showbackground\":true,\"ticks\":\"\",\"zerolinecolor\":\"white\",\"gridwidth\":2},\"yaxis\":{\"backgroundcolor\":\"#E5ECF6\",\"gridcolor\":\"white\",\"linecolor\":\"white\",\"showbackground\":true,\"ticks\":\"\",\"zerolinecolor\":\"white\",\"gridwidth\":2},\"zaxis\":{\"backgroundcolor\":\"#E5ECF6\",\"gridcolor\":\"white\",\"linecolor\":\"white\",\"showbackground\":true,\"ticks\":\"\",\"zerolinecolor\":\"white\",\"gridwidth\":2}},\"shapedefaults\":{\"line\":{\"color\":\"#2a3f5f\"}},\"annotationdefaults\":{\"arrowcolor\":\"#2a3f5f\",\"arrowhead\":0,\"arrowwidth\":1},\"geo\":{\"bgcolor\":\"white\",\"landcolor\":\"#E5ECF6\",\"subunitcolor\":\"white\",\"showland\":true,\"showlakes\":true,\"lakecolor\":\"white\"},\"title\":{\"x\":0.05},\"mapbox\":{\"style\":\"light\"}}},\"xaxis\":{\"anchor\":\"y\",\"domain\":[0.0,1.0],\"title\":{\"text\":\"TSNE-2D-1\"},\"showgrid\":false,\"zeroline\":false},\"yaxis\":{\"anchor\":\"x\",\"domain\":[0.0,1.0],\"title\":{\"text\":\"TSNE-2D-2\"},\"showgrid\":false,\"zeroline\":false},\"legend\":{\"title\":{\"text\":\"Variant\"},\"tracegroupgap\":0},\"margin\":{\"t\":60},\"font\":{\"family\":\"Courier New, monospace\",\"size\":18,\"color\":\"RebeccaPurple\"}},                        {\"responsive\": true}                    ).then(function(){\n                            \nvar gd = document.getElementById('bba3ba73-9be7-406a-916f-9b366bbdc27d');\nvar x = new MutationObserver(function (mutations, observer) {{\n        var display = window.getComputedStyle(gd).display;\n        if (!display || display === 'none') {{\n            console.log([gd, 'removed!']);\n            Plotly.purge(gd);\n            observer.disconnect();\n        }}\n}});\n\n// Listen for the removal of the full notebook cells\nvar notebookContainer = gd.closest('#notebook-container');\nif (notebookContainer) {{\n    x.observe(notebookContainer, {childList: true});\n}}\n\n// Listen for the clearing of the current output cell\nvar outputEl = gd.closest('.output');\nif (outputEl) {{\n    x.observe(outputEl, {childList: true});\n}}\n\n                        })                };                });            </script>        </div>"
     },
     "metadata": {},
     "output_type": "display_data"
    },
    {
     "name": "stdout",
     "output_type": "stream",
     "text": [
      "[t-SNE] Computing 121 nearest neighbors...\n",
      "[t-SNE] Indexed 497 samples in 0.007s...\n",
      "[t-SNE] Computed neighbors for 497 samples in 0.025s...\n",
      "[t-SNE] Computed conditional probabilities for sample 497 / 497\n",
      "[t-SNE] Mean sigma: 10.408208\n",
      "[t-SNE] KL divergence after 250 iterations with early exaggeration: 51.668865\n",
      "[t-SNE] KL divergence after 300 iterations: 0.289771\n"
     ]
    },
    {
     "data": {
      "application/vnd.plotly.v1+json": {
       "data": [
        {
         "hovertemplate": "Variant=Alpha<br>0=%{x}<br>1=%{y}<extra></extra>",
         "legendgroup": "Alpha",
         "marker": {
          "color": "#636efa",
          "symbol": "circle"
         },
         "mode": "markers",
         "name": "Alpha",
         "orientation": "v",
         "showlegend": true,
         "x": [
          -4.4058051109313965,
          7.492279052734375,
          7.247392177581787,
          -4.534393787384033,
          -3.544020175933838,
          8.071646690368652,
          6.644172191619873,
          7.363141059875488,
          7.261656284332275,
          7.679875373840332,
          7.481230735778809,
          6.785555362701416,
          8.378928184509277,
          7.496304512023926,
          -4.249979019165039,
          7.443922996520996,
          7.383360385894775,
          -3.0964417457580566,
          8.41258430480957,
          -4.327208518981934,
          -4.520659446716309,
          -3.4141104221343994,
          7.457461357116699,
          6.890389442443848,
          -2.5213711261749268,
          7.726159572601318,
          7.341853141784668,
          7.520826816558838,
          7.465761184692383,
          7.5374650955200195,
          7.360715866088867,
          -3.7589988708496094,
          7.977723598480225,
          7.295578479766846,
          11.18625545501709,
          7.558671951293945,
          -4.558743953704834,
          7.289045810699463,
          6.755058765411377,
          9.029473304748535,
          -4.054454326629639,
          -4.529254913330078,
          6.883003234863281,
          7.017177581787109,
          8.090946197509766,
          -4.473379135131836,
          6.834142684936523,
          -4.555579662322998,
          7.3517842292785645,
          12.238630294799805,
          7.553683280944824,
          6.775379657745361,
          11.310996055603027,
          7.582912445068359,
          6.82959508895874
         ],
         "xaxis": "x",
         "y": [
          9.406349182128906,
          9.343862533569336,
          10.32030963897705,
          9.527785301208496,
          8.244670867919922,
          8.68673038482666,
          9.992875099182129,
          10.177057266235352,
          10.262588500976562,
          9.910335540771484,
          1.4786816835403442,
          10.43893814086914,
          7.8032307624816895,
          9.8704195022583,
          9.49414348602295,
          1.675861120223999,
          9.682991027832031,
          7.860739707946777,
          9.899029731750488,
          9.320560455322266,
          9.519084930419922,
          8.477544784545898,
          1.3635574579238892,
          9.70966911315918,
          7.40464973449707,
          0.9131677150726318,
          9.77280330657959,
          10.331562042236328,
          9.652750968933105,
          9.769649505615234,
          9.676570892333984,
          8.409868240356445,
          0.16072164475917816,
          10.066246032714844,
          -3.9062235355377197,
          1.186921238899231,
          9.524109840393066,
          9.790450096130371,
          9.900372505187988,
          -3.3625824451446533,
          8.718505859375,
          9.495841979980469,
          9.552475929260254,
          9.690835952758789,
          8.605911254882812,
          9.459715843200684,
          10.04503059387207,
          9.509519577026367,
          9.69273567199707,
          -4.3094048500061035,
          9.903732299804688,
          9.755952835083008,
          -2.261323928833008,
          10.386366844177246,
          9.933348655700684
         ],
         "yaxis": "y",
         "type": "scatter"
        },
        {
         "hovertemplate": "Variant=Beta<br>0=%{x}<br>1=%{y}<extra></extra>",
         "legendgroup": "Beta",
         "marker": {
          "color": "#EF553B",
          "symbol": "circle"
         },
         "mode": "markers",
         "name": "Beta",
         "orientation": "v",
         "showlegend": true,
         "x": [
          8.071526527404785,
          7.137546539306641,
          -1.6896276473999023,
          -1.8029407262802124,
          6.475606441497803,
          -1.8205807209014893,
          -1.7009707689285278,
          6.8554582595825195,
          6.572996139526367,
          -1.7412850856781006,
          6.841070175170898,
          -1.8204514980316162,
          -1.8757988214492798,
          -1.1668120622634888,
          6.81423282623291,
          6.967710971832275,
          6.4631476402282715,
          -1.7449983358383179,
          7.543457508087158,
          6.874977111816406,
          7.032743453979492,
          7.433951377868652,
          -1.6383516788482666,
          -1.7906900644302368,
          7.2533769607543945,
          6.471482753753662,
          -2.4927639961242676,
          -2.25058913230896,
          6.438613414764404,
          7.170177459716797,
          -2.461792230606079,
          10.435787200927734,
          11.26425552368164,
          8.646675109863281,
          6.86079740524292,
          -1.5152112245559692,
          6.878471851348877,
          -1.8148216009140015,
          6.5272088050842285,
          6.489405632019043,
          -1.8388619422912598,
          6.7838592529296875,
          -1.7992064952850342,
          -1.5977039337158203,
          -1.3832981586456299,
          7.026942253112793,
          -2.464005470275879,
          -2.4638113975524902,
          6.767604351043701,
          -0.9074052572250366,
          6.476820468902588,
          6.808149814605713,
          6.851762294769287,
          7.188750743865967,
          -2.198153257369995,
          6.4440693855285645,
          -1.8104989528656006,
          -1.6685160398483276,
          6.854578971862793,
          -2.442453622817993,
          -1.604365348815918,
          6.998227119445801,
          6.676026344299316,
          -2.4060182571411133
         ],
         "xaxis": "x",
         "y": [
          -0.06076817587018013,
          4.371739864349365,
          9.397822380065918,
          9.439632415771484,
          7.190476417541504,
          8.910889625549316,
          7.46875,
          6.122225284576416,
          5.7827301025390625,
          9.411447525024414,
          6.055508136749268,
          9.334668159484863,
          9.515820503234863,
          9.155345916748047,
          6.1148786544799805,
          6.297632217407227,
          7.171984672546387,
          9.181364059448242,
          6.377416133880615,
          5.924009323120117,
          5.975032806396484,
          1.909572720527649,
          7.390028476715088,
          9.455038070678711,
          5.360025882720947,
          5.917891502380371,
          10.540349006652832,
          10.214947700500488,
          7.24608850479126,
          0.8082780241966248,
          10.513911247253418,
          -3.439639091491699,
          -2.1847052574157715,
          -3.598524570465088,
          6.124246120452881,
          9.71268081665039,
          6.1273980140686035,
          9.3892240524292,
          6.9008331298828125,
          5.904986381530762,
          9.434415817260742,
          6.099446773529053,
          9.402544021606445,
          7.227784633636475,
          6.686628341674805,
          5.306483268737793,
          10.474859237670898,
          10.460830688476562,
          6.127212047576904,
          8.991439819335938,
          7.19639778137207,
          6.070031642913818,
          6.0608415603637695,
          6.0408735275268555,
          10.115999221801758,
          7.1884894371032715,
          9.400590896606445,
          8.473426818847656,
          6.109911918640137,
          10.457746505737305,
          9.45226001739502,
          4.355964660644531,
          6.668732166290283,
          10.531795501708984
         ],
         "yaxis": "y",
         "type": "scatter"
        },
        {
         "hovertemplate": "Variant=Delta<br>0=%{x}<br>1=%{y}<extra></extra>",
         "legendgroup": "Delta",
         "marker": {
          "color": "#00cc96",
          "symbol": "circle"
         },
         "mode": "markers",
         "name": "Delta",
         "orientation": "v",
         "showlegend": true,
         "x": [
          -7.089680194854736,
          -4.291542053222656,
          4.102035045623779,
          -7.236884117126465,
          -7.479236125946045,
          -6.950453281402588,
          5.159471035003662,
          -7.207982540130615,
          -7.203091621398926,
          7.910620212554932,
          -6.602536201477051,
          -7.935123920440674,
          -4.9235615730285645,
          -7.527185916900635,
          5.012933254241943,
          4.513885498046875,
          10.051745414733887,
          -3.526470899581909,
          -5.671955108642578,
          10.006888389587402,
          5.388665199279785,
          -6.6520891189575195,
          -7.170742988586426,
          -7.1727752685546875,
          -7.567678451538086,
          -8.034677505493164,
          10.281966209411621,
          -5.977711200714111,
          -7.108588695526123,
          4.660655498504639,
          4.205447196960449,
          -7.271635055541992,
          4.466424942016602,
          -7.564499855041504,
          -3.0449273586273193,
          -7.253842830657959,
          -7.016147136688232,
          -5.817337989807129,
          -8.23466968536377,
          4.178579330444336,
          -7.325368404388428,
          -7.20037841796875,
          -6.891114711761475,
          -7.093419551849365,
          4.511070728302002,
          -6.568172931671143,
          4.522803783416748,
          -5.799798965454102,
          -7.072440147399902,
          -4.432796001434326,
          -7.948526382446289,
          -3.8241567611694336,
          -3.635016918182373,
          -7.089608192443848,
          -3.6946377754211426,
          4.432427406311035,
          4.251159191131592,
          4.4758734703063965,
          -6.151500701904297,
          4.505631446838379,
          -6.866352081298828,
          -7.0909576416015625,
          9.234112739562988,
          -7.14248514175415,
          4.546642303466797,
          4.543524265289307
         ],
         "xaxis": "x",
         "y": [
          8.658560752868652,
          6.09588623046875,
          8.127388000488281,
          7.857645034790039,
          7.458522319793701,
          6.797852993011475,
          4.331210613250732,
          7.763341903686523,
          7.895625591278076,
          0.48438188433647156,
          6.404463768005371,
          7.20179557800293,
          6.468446731567383,
          7.8906731605529785,
          5.145227432250977,
          8.436092376708984,
          -3.456078290939331,
          6.052923202514648,
          6.2528181076049805,
          -3.063035726547241,
          1.3452975749969482,
          8.23876667022705,
          7.846519470214844,
          7.833674907684326,
          7.861489772796631,
          8.475045204162598,
          -3.567596435546875,
          7.964145183563232,
          7.792962074279785,
          -2.8393478393554688,
          6.866416931152344,
          7.7913103103637695,
          8.37832260131836,
          7.484493732452393,
          5.450281620025635,
          7.895742416381836,
          8.844170570373535,
          6.281554222106934,
          8.051351547241211,
          7.020327091217041,
          7.940892696380615,
          7.827818393707275,
          6.83566951751709,
          7.779645919799805,
          7.956798553466797,
          7.746185302734375,
          8.437828063964844,
          6.272103786468506,
          7.851649284362793,
          6.0568742752075195,
          7.452328205108643,
          5.859591007232666,
          5.834391117095947,
          8.713619232177734,
          5.699464797973633,
          8.429422378540039,
          6.135888576507568,
          7.9123969078063965,
          6.470132350921631,
          8.428860664367676,
          6.789154052734375,
          8.671537399291992,
          -2.2670881748199463,
          7.7711920738220215,
          8.325674057006836,
          8.450456619262695
         ],
         "yaxis": "y",
         "type": "scatter"
        },
        {
         "hovertemplate": "Variant=Omicron<br>0=%{x}<br>1=%{y}<extra></extra>",
         "legendgroup": "Omicron",
         "marker": {
          "color": "#ab63fa",
          "symbol": "circle"
         },
         "mode": "markers",
         "name": "Omicron",
         "orientation": "v",
         "showlegend": true,
         "x": [
          2.0314581394195557,
          7.739034175872803,
          -2.0035109519958496,
          -6.160937786102295,
          -11.619412422180176,
          -0.9761198163032532,
          -4.540096282958984,
          -3.9700093269348145,
          -3.3633129596710205,
          -12.055074691772461,
          10.854140281677246,
          6.222255229949951,
          7.621756076812744,
          10.713224411010742,
          -3.008057117462158,
          7.050940036773682,
          -4.827466011047363,
          -11.645322799682617,
          -3.31080961227417,
          0.6020305156707764,
          2.0400583744049072,
          -4.431596279144287,
          3.28531813621521,
          -9.984334945678711,
          -6.42434549331665,
          -10.994550704956055,
          -0.5231465101242065,
          2.031357765197754,
          -11.614566802978516,
          13.380757331848145,
          -4.02926778793335,
          -0.8846047520637512,
          -0.40885651111602783,
          -4.205647945404053,
          -6.413962364196777,
          1.9691768884658813,
          -1.9867223501205444,
          -4.533200263977051,
          -3.1471521854400635,
          -6.135768890380859,
          10.136826515197754,
          2.800532817840576,
          -0.5909116864204407,
          -0.5746519565582275,
          3.035966157913208,
          -6.596950531005859,
          1.5984277725219727,
          -11.6913423538208,
          -1.3289629220962524,
          1.0138660669326782,
          -5.710236549377441,
          -4.958646297454834,
          4.245140075683594,
          -6.19336462020874,
          10.457098007202148,
          -1.709837794303894,
          -3.0188512802124023,
          -11.11986255645752,
          -0.9826799631118774,
          7.695168495178223,
          -1.0102733373641968,
          -3.1776247024536133,
          -11.88853645324707,
          -1.6342098712921143,
          0.8774386048316956,
          10.339973449707031,
          -2.9243674278259277,
          -5.057034015655518,
          -4.888655662536621,
          -8.514117240905762,
          7.898340702056885,
          -5.5120439529418945,
          -11.021530151367188,
          -6.157053470611572,
          -4.688484191894531,
          8.367571830749512,
          -5.808109283447266,
          -5.710093975067139,
          4.994719982147217,
          10.926016807556152,
          5.923005104064941,
          -5.974367618560791,
          3.670961380004883,
          1.9422495365142822,
          -8.512998580932617,
          -3.952760696411133,
          -4.32815408706665,
          5.148114204406738,
          12.411726951599121,
          -5.962427139282227,
          -5.207768440246582,
          -6.055400848388672,
          -4.431621551513672,
          6.38871955871582,
          -4.077314853668213,
          6.2931413650512695,
          -4.068537712097168,
          -4.343146324157715,
          12.50847339630127,
          1.276911973953247,
          -3.1856114864349365,
          8.993387222290039,
          1.9375598430633545,
          8.36209774017334,
          10.754448890686035,
          -5.935143947601318,
          -11.54409408569336,
          6.385976791381836,
          -11.144083023071289,
          8.190799713134766,
          12.094002723693848,
          -8.506892204284668,
          -11.855966567993164,
          -5.552234649658203,
          -1.35316002368927,
          4.1593732833862305,
          2.616105079650879,
          -11.041383743286133,
          11.061677932739258,
          -4.4971818923950195,
          -5.165702819824219,
          12.249873161315918,
          4.269739151000977,
          -6.162562370300293,
          -3.7901229858398438,
          -10.991427421569824,
          2.0366950035095215,
          -1.4880106449127197,
          -6.0845255851745605,
          -0.5741302371025085,
          -4.958871364593506,
          13.309733390808105,
          -4.980296611785889,
          -8.515196800231934,
          -5.012248992919922,
          -5.057682037353516,
          6.5172200202941895,
          1.9800602197647095,
          -11.496456146240234,
          13.310762405395508,
          -4.43782901763916,
          6.549734115600586,
          2.6854817867279053,
          -4.4412431716918945,
          9.276895523071289,
          2.03174090385437,
          4.870952606201172,
          -3.1554441452026367,
          5.250637054443359,
          -0.365181028842926,
          -5.1517815589904785,
          -4.470944404602051,
          -4.9512410163879395,
          10.871721267700195,
          5.4104743003845215,
          -3.12800931930542,
          -8.510393142700195,
          -1.1250979900360107,
          0.1488805115222931,
          -4.256913185119629,
          -6.959830284118652,
          7.663099765777588,
          -5.281729221343994,
          11.343262672424316,
          -3.8813819885253906,
          5.79586124420166,
          -4.206231594085693,
          8.289704322814941,
          -8.554788589477539,
          -11.536952018737793,
          -11.950360298156738,
          -11.54723834991455,
          -5.698146343231201,
          11.182531356811523,
          6.026717185974121,
          3.13332200050354,
          -5.781083106994629,
          -11.539326667785645,
          -1.2555230855941772,
          -10.989666938781738,
          -11.618108749389648,
          7.894585609436035,
          -0.20378477871418,
          -5.520850658416748,
          -2.009281635284424,
          13.018678665161133,
          3.606987476348877,
          1.8290684223175049,
          -4.978518486022949,
          -1.3983746767044067,
          -5.264018535614014,
          -10.631562232971191,
          0.6389126777648926,
          13.411720275878906,
          12.467926025390625,
          -4.099311828613281,
          4.271999359130859,
          -10.883556365966797,
          3.423283338546753,
          1.941046953201294,
          1.2062739133834839,
          -11.263799667358398,
          6.074047088623047,
          7.447379112243652,
          -1.0326732397079468,
          -4.076818943023682,
          -11.67049789428711,
          -8.527949333190918,
          6.632990837097168,
          11.566336631774902,
          2.3168275356292725,
          -8.516748428344727,
          -10.755516052246094,
          -4.155220031738281,
          6.386707782745361,
          2.3951034545898438,
          -10.58678150177002,
          0.06602875888347626,
          -1.1477986574172974,
          1.8799608945846558,
          2.3706741333007812,
          -11.521295547485352,
          0.11217097193002701,
          2.70615816116333,
          2.044987440109253,
          13.454586029052734,
          8.926130294799805,
          -4.415347576141357,
          -2.1339311599731445,
          -12.117512702941895,
          -0.5312815308570862,
          2.2522943019866943,
          -4.541974067687988,
          11.642919540405273,
          9.698348045349121,
          6.387918472290039,
          10.448113441467285,
          -10.342975616455078,
          -4.3609418869018555,
          1.9655907154083252,
          -1.2319309711456299,
          -12.183711051940918,
          -2.998526096343994,
          4.525119781494141,
          -6.487315654754639,
          -2.130470037460327,
          -11.778155326843262,
          3.3605539798736572,
          2.023322820663452,
          -1.4904179573059082,
          5.003578186035156,
          -2.7170708179473877,
          3.043657064437866,
          -5.0461015701293945,
          -1.686983346939087,
          -3.8170013427734375,
          -10.736275672912598,
          -11.075601577758789,
          10.379280090332031,
          4.9529619216918945,
          4.981799125671387,
          3.290794849395752,
          4.912563800811768,
          -0.6108660101890564,
          -2.5033459663391113,
          7.559809684753418,
          -11.847793579101562,
          6.612662315368652,
          -4.4828057289123535,
          -4.1638360023498535,
          -1.4312119483947754,
          9.297121047973633,
          6.242563247680664
         ],
         "xaxis": "x",
         "y": [
          1.7947633266448975,
          -4.151583194732666,
          -5.904403209686279,
          -6.694025993347168,
          -3.644758939743042,
          -2.521906852722168,
          4.126713752746582,
          4.566198348999023,
          -1.0764073133468628,
          -4.1303510665893555,
          -4.221761226654053,
          -1.1829394102096558,
          -4.669214248657227,
          -4.580433368682861,
          -1.8002585172653198,
          -3.9465718269348145,
          -3.5380337238311768,
          -3.86440372467041,
          -2.3158974647521973,
          -4.668208122253418,
          2.255150079727173,
          -3.0371737480163574,
          -6.204288005828857,
          -3.5756919384002686,
          -6.502254009246826,
          -3.7696287631988525,
          -3.9868998527526855,
          2.2639338970184326,
          -4.080166816711426,
          -4.741232872009277,
          -2.2799761295318604,
          -10.949614524841309,
          -3.9187395572662354,
          -1.6189481019973755,
          -6.5336594581604,
          1.785685658454895,
          -1.6363060474395752,
          -2.0374021530151367,
          -1.8134478330612183,
          -6.7170729637146,
          -4.530815124511719,
          -5.333282470703125,
          -3.974367141723633,
          -3.958704948425293,
          3.3255667686462402,
          -6.386245250701904,
          2.392576217651367,
          -4.294120788574219,
          -10.969426155090332,
          -5.143491744995117,
          -6.85805082321167,
          -2.407973527908325,
          -5.391540050506592,
          -6.62972354888916,
          -4.764410972595215,
          -3.6901843547821045,
          -2.3467836380004883,
          -3.356510639190674,
          -3.7007834911346436,
          -2.0081379413604736,
          -11.061397552490234,
          -2.4756269454956055,
          -3.5356292724609375,
          -1.7026911973953247,
          -5.3408966064453125,
          -4.27827787399292,
          -0.6511090397834778,
          -1.768843173980713,
          -2.690267324447632,
          0.1853361576795578,
          -1.5812641382217407,
          -3.2196195125579834,
          -4.566640377044678,
          -6.730944633483887,
          -3.331881046295166,
          -4.529337406158447,
          -2.5654873847961426,
          -2.303218364715576,
          0.3492744565010071,
          -4.630425453186035,
          -4.227852821350098,
          -1.9296436309814453,
          -4.367225170135498,
          2.385540246963501,
          0.18886877596378326,
          -4.130410671234131,
          -2.8783135414123535,
          0.33250918984413147,
          -4.5225067138671875,
          -6.909306526184082,
          -2.703148603439331,
          -6.804289817810059,
          -3.0367252826690674,
          -1.3457391262054443,
          -1.9732986688613892,
          -5.0481343269348145,
          -1.9431030750274658,
          -3.1194305419921875,
          -4.520934104919434,
          -4.546180248260498,
          -3.821453332901001,
          -4.256192684173584,
          2.4017326831817627,
          -4.214760780334473,
          -4.738272190093994,
          -6.982487678527832,
          -3.7215993404388428,
          -4.938734531402588,
          -3.5974268913269043,
          -4.563882350921631,
          -4.404633045196533,
          0.1787891536951065,
          -4.147911071777344,
          -1.467329502105713,
          -5.072667121887207,
          0.5599685907363892,
          -4.27873420715332,
          -3.8451993465423584,
          -3.556633949279785,
          -2.9615354537963867,
          -2.234971284866333,
          -4.548556804656982,
          0.4362495243549347,
          -6.692328929901123,
          3.3134682178497314,
          -2.3296589851379395,
          2.257155418395996,
          -11.388933181762695,
          -6.784796714782715,
          -3.951051712036133,
          -1.9367752075195312,
          -4.702691078186035,
          -3.6038553714752197,
          0.1808037906885147,
          -1.8494873046875,
          -2.8140623569488525,
          -1.4954339265823364,
          1.8226141929626465,
          -3.9254915714263916,
          -4.751928806304932,
          -3.177154541015625,
          -1.4631236791610718,
          2.0076229572296143,
          -2.921970844268799,
          -4.510997295379639,
          1.8890180587768555,
          0.9416654706001282,
          -1.833948016166687,
          0.17959365248680115,
          -6.149842262268066,
          -2.2221174240112305,
          -2.546410322189331,
          -1.4233218431472778,
          -3.2776503562927246,
          -4.954087257385254,
          -3.576754093170166,
          0.18186064064502716,
          -10.998183250427246,
          -4.003547668457031,
          4.276165008544922,
          -2.9178621768951416,
          -4.864246845245361,
          -2.166987180709839,
          -4.808802604675293,
          -3.1424005031585693,
          -4.674652576446533,
          -3.6911516189575195,
          -4.295486927032471,
          0.2000119686126709,
          -3.0661890506744385,
          -3.983855962753296,
          -3.4916937351226807,
          -7.1178059577941895,
          -4.700005054473877,
          -4.109486103057861,
          0.36682793498039246,
          -3.8937559127807617,
          -3.464928388595581,
          -3.5584568977355957,
          -2.280487298965454,
          -3.8746795654296875,
          -4.797711372375488,
          -5.764251708984375,
          -1.5140728950500488,
          -3.675971269607544,
          -4.651825428009033,
          1.4718475341796875,
          -3.1185169219970703,
          3.862070322036743,
          -11.013916969299316,
          3.8066110610961914,
          -5.233311653137207,
          -5.426581859588623,
          -4.768176555633545,
          -4.518412113189697,
          -2.3112475872039795,
          1.2832186222076416,
          -4.6673970222473145,
          0.07052447646856308,
          -3.2431254386901855,
          -5.043063640594482,
          -4.166267395019531,
          -4.091982841491699,
          -3.2400143146514893,
          -12.110920906066895,
          -1.0228064060211182,
          -3.2844033241271973,
          0.17325285077095032,
          -1.5177748203277588,
          -4.401463031768799,
          -3.703951835632324,
          0.19492091238498688,
          -3.476632595062256,
          -2.2673399448394775,
          -1.3394019603729248,
          2.662174940109253,
          -5.292501449584961,
          -3.423316478729248,
          -3.7358627319335938,
          -4.907307147979736,
          1.539405107498169,
          -4.552288055419922,
          -4.110637187957764,
          -4.60784912109375,
          2.2587406635284424,
          -4.767333030700684,
          -4.489342212677002,
          -2.915976047515869,
          -6.193182945251465,
          -3.2009994983673096,
          -3.9509975910186768,
          -3.647690773010254,
          -4.380350589752197,
          -4.731289386749268,
          -4.41122579574585,
          -5.1026434898376465,
          -4.582272052764893,
          -5.357100009918213,
          -2.5010130405426025,
          2.3572921752929688,
          -4.438339710235596,
          -3.1189823150634766,
          -1.1765811443328857,
          -3.973163366317749,
          -7.12575101852417,
          -5.846382141113281,
          -3.476346731185913,
          -4.675886154174805,
          2.2592902183532715,
          -11.598748207092285,
          0.9171525239944458,
          -1.572898030281067,
          -4.681626796722412,
          -0.5397293567657471,
          -3.683788776397705,
          3.313777208328247,
          -3.7313945293426514,
          -4.420812129974365,
          -4.525916576385498,
          -4.691080093383789,
          -4.617981433868408,
          -5.897945404052734,
          -4.999843597412109,
          -3.22660231590271,
          -2.486135959625244,
          -1.9074969291687012,
          -5.324753761291504,
          -3.229696273803711,
          -3.268911361694336,
          -2.9187393188476562,
          -10.997550964355469,
          -4.437448024749756,
          -1.2329649925231934
         ],
         "yaxis": "y",
         "type": "scatter"
        },
        {
         "hovertemplate": "Variant=Omicron Sub<br>0=%{x}<br>1=%{y}<extra></extra>",
         "legendgroup": "Omicron Sub",
         "marker": {
          "color": "#FFA15A",
          "symbol": "circle"
         },
         "mode": "markers",
         "name": "Omicron Sub",
         "orientation": "v",
         "showlegend": true,
         "x": [
          -0.4080272316932678,
          13.46461009979248,
          13.471941947937012,
          0.9841094017028809,
          -1.353065013885498,
          -1.4575985670089722,
          -2.1950595378875732,
          -1.5592379570007324,
          -2.209340810775757,
          -1.1875474452972412,
          -1.6136623620986938,
          5.428406715393066,
          -1.3813773393630981,
          -0.7439478039741516,
          -1.9537705183029175,
          6.197145938873291,
          -2.107424020767212,
          -2.3261818885803223,
          3.1275110244750977,
          3.633312225341797,
          -0.8925571441650391,
          1.4891748428344727,
          3.6771976947784424,
          6.223852157592773,
          3.4226269721984863,
          -1.424924612045288,
          6.958563327789307,
          -0.6758838295936584,
          -2.300236463546753,
          5.361327648162842,
          -0.711762547492981,
          -1.3728692531585693,
          11.117668151855469,
          -1.5304454565048218,
          0.9618861079216003,
          4.037720203399658,
          -1.4308143854141235,
          0.8839306831359863,
          -1.3146418333053589
         ],
         "xaxis": "x",
         "y": [
          -10.438767433166504,
          -4.731619834899902,
          -4.733447074890137,
          -7.721491813659668,
          -10.968517303466797,
          -11.16750717163086,
          -10.243807792663574,
          -11.52888298034668,
          -9.758657455444336,
          -10.837003707885742,
          -11.26593017578125,
          -5.060730934143066,
          -10.932574272155762,
          -11.167357444763184,
          -10.122702598571777,
          -1.1854844093322754,
          -10.13498306274414,
          -10.235800743103027,
          -6.426094055175781,
          -5.587624549865723,
          -11.009217262268066,
          -7.107174396514893,
          -5.815560340881348,
          -4.9850263595581055,
          -0.44756555557250977,
          -11.673896789550781,
          -4.919033050537109,
          -10.876236915588379,
          -10.934579849243164,
          -5.045163631439209,
          -11.139812469482422,
          -10.962029457092285,
          -4.545291423797607,
          -11.478053092956543,
          -7.744897842407227,
          -1.0952086448669434,
          -11.723503112792969,
          -7.96108341217041,
          -10.869414329528809
         ],
         "yaxis": "y",
         "type": "scatter"
        }
       ],
       "layout": {
        "template": {
         "data": {
          "histogram2dcontour": [
           {
            "type": "histogram2dcontour",
            "colorbar": {
             "outlinewidth": 0,
             "ticks": ""
            },
            "colorscale": [
             [
              0.0,
              "#0d0887"
             ],
             [
              0.1111111111111111,
              "#46039f"
             ],
             [
              0.2222222222222222,
              "#7201a8"
             ],
             [
              0.3333333333333333,
              "#9c179e"
             ],
             [
              0.4444444444444444,
              "#bd3786"
             ],
             [
              0.5555555555555556,
              "#d8576b"
             ],
             [
              0.6666666666666666,
              "#ed7953"
             ],
             [
              0.7777777777777778,
              "#fb9f3a"
             ],
             [
              0.8888888888888888,
              "#fdca26"
             ],
             [
              1.0,
              "#f0f921"
             ]
            ]
           }
          ],
          "choropleth": [
           {
            "type": "choropleth",
            "colorbar": {
             "outlinewidth": 0,
             "ticks": ""
            }
           }
          ],
          "histogram2d": [
           {
            "type": "histogram2d",
            "colorbar": {
             "outlinewidth": 0,
             "ticks": ""
            },
            "colorscale": [
             [
              0.0,
              "#0d0887"
             ],
             [
              0.1111111111111111,
              "#46039f"
             ],
             [
              0.2222222222222222,
              "#7201a8"
             ],
             [
              0.3333333333333333,
              "#9c179e"
             ],
             [
              0.4444444444444444,
              "#bd3786"
             ],
             [
              0.5555555555555556,
              "#d8576b"
             ],
             [
              0.6666666666666666,
              "#ed7953"
             ],
             [
              0.7777777777777778,
              "#fb9f3a"
             ],
             [
              0.8888888888888888,
              "#fdca26"
             ],
             [
              1.0,
              "#f0f921"
             ]
            ]
           }
          ],
          "heatmap": [
           {
            "type": "heatmap",
            "colorbar": {
             "outlinewidth": 0,
             "ticks": ""
            },
            "colorscale": [
             [
              0.0,
              "#0d0887"
             ],
             [
              0.1111111111111111,
              "#46039f"
             ],
             [
              0.2222222222222222,
              "#7201a8"
             ],
             [
              0.3333333333333333,
              "#9c179e"
             ],
             [
              0.4444444444444444,
              "#bd3786"
             ],
             [
              0.5555555555555556,
              "#d8576b"
             ],
             [
              0.6666666666666666,
              "#ed7953"
             ],
             [
              0.7777777777777778,
              "#fb9f3a"
             ],
             [
              0.8888888888888888,
              "#fdca26"
             ],
             [
              1.0,
              "#f0f921"
             ]
            ]
           }
          ],
          "heatmapgl": [
           {
            "type": "heatmapgl",
            "colorbar": {
             "outlinewidth": 0,
             "ticks": ""
            },
            "colorscale": [
             [
              0.0,
              "#0d0887"
             ],
             [
              0.1111111111111111,
              "#46039f"
             ],
             [
              0.2222222222222222,
              "#7201a8"
             ],
             [
              0.3333333333333333,
              "#9c179e"
             ],
             [
              0.4444444444444444,
              "#bd3786"
             ],
             [
              0.5555555555555556,
              "#d8576b"
             ],
             [
              0.6666666666666666,
              "#ed7953"
             ],
             [
              0.7777777777777778,
              "#fb9f3a"
             ],
             [
              0.8888888888888888,
              "#fdca26"
             ],
             [
              1.0,
              "#f0f921"
             ]
            ]
           }
          ],
          "contourcarpet": [
           {
            "type": "contourcarpet",
            "colorbar": {
             "outlinewidth": 0,
             "ticks": ""
            }
           }
          ],
          "contour": [
           {
            "type": "contour",
            "colorbar": {
             "outlinewidth": 0,
             "ticks": ""
            },
            "colorscale": [
             [
              0.0,
              "#0d0887"
             ],
             [
              0.1111111111111111,
              "#46039f"
             ],
             [
              0.2222222222222222,
              "#7201a8"
             ],
             [
              0.3333333333333333,
              "#9c179e"
             ],
             [
              0.4444444444444444,
              "#bd3786"
             ],
             [
              0.5555555555555556,
              "#d8576b"
             ],
             [
              0.6666666666666666,
              "#ed7953"
             ],
             [
              0.7777777777777778,
              "#fb9f3a"
             ],
             [
              0.8888888888888888,
              "#fdca26"
             ],
             [
              1.0,
              "#f0f921"
             ]
            ]
           }
          ],
          "surface": [
           {
            "type": "surface",
            "colorbar": {
             "outlinewidth": 0,
             "ticks": ""
            },
            "colorscale": [
             [
              0.0,
              "#0d0887"
             ],
             [
              0.1111111111111111,
              "#46039f"
             ],
             [
              0.2222222222222222,
              "#7201a8"
             ],
             [
              0.3333333333333333,
              "#9c179e"
             ],
             [
              0.4444444444444444,
              "#bd3786"
             ],
             [
              0.5555555555555556,
              "#d8576b"
             ],
             [
              0.6666666666666666,
              "#ed7953"
             ],
             [
              0.7777777777777778,
              "#fb9f3a"
             ],
             [
              0.8888888888888888,
              "#fdca26"
             ],
             [
              1.0,
              "#f0f921"
             ]
            ]
           }
          ],
          "mesh3d": [
           {
            "type": "mesh3d",
            "colorbar": {
             "outlinewidth": 0,
             "ticks": ""
            }
           }
          ],
          "scatter": [
           {
            "fillpattern": {
             "fillmode": "overlay",
             "size": 10,
             "solidity": 0.2
            },
            "type": "scatter"
           }
          ],
          "parcoords": [
           {
            "type": "parcoords",
            "line": {
             "colorbar": {
              "outlinewidth": 0,
              "ticks": ""
             }
            }
           }
          ],
          "scatterpolargl": [
           {
            "type": "scatterpolargl",
            "marker": {
             "colorbar": {
              "outlinewidth": 0,
              "ticks": ""
             }
            }
           }
          ],
          "bar": [
           {
            "error_x": {
             "color": "#2a3f5f"
            },
            "error_y": {
             "color": "#2a3f5f"
            },
            "marker": {
             "line": {
              "color": "#E5ECF6",
              "width": 0.5
             },
             "pattern": {
              "fillmode": "overlay",
              "size": 10,
              "solidity": 0.2
             }
            },
            "type": "bar"
           }
          ],
          "scattergeo": [
           {
            "type": "scattergeo",
            "marker": {
             "colorbar": {
              "outlinewidth": 0,
              "ticks": ""
             }
            }
           }
          ],
          "scatterpolar": [
           {
            "type": "scatterpolar",
            "marker": {
             "colorbar": {
              "outlinewidth": 0,
              "ticks": ""
             }
            }
           }
          ],
          "histogram": [
           {
            "marker": {
             "pattern": {
              "fillmode": "overlay",
              "size": 10,
              "solidity": 0.2
             }
            },
            "type": "histogram"
           }
          ],
          "scattergl": [
           {
            "type": "scattergl",
            "marker": {
             "colorbar": {
              "outlinewidth": 0,
              "ticks": ""
             }
            }
           }
          ],
          "scatter3d": [
           {
            "type": "scatter3d",
            "line": {
             "colorbar": {
              "outlinewidth": 0,
              "ticks": ""
             }
            },
            "marker": {
             "colorbar": {
              "outlinewidth": 0,
              "ticks": ""
             }
            }
           }
          ],
          "scattermapbox": [
           {
            "type": "scattermapbox",
            "marker": {
             "colorbar": {
              "outlinewidth": 0,
              "ticks": ""
             }
            }
           }
          ],
          "scatterternary": [
           {
            "type": "scatterternary",
            "marker": {
             "colorbar": {
              "outlinewidth": 0,
              "ticks": ""
             }
            }
           }
          ],
          "scattercarpet": [
           {
            "type": "scattercarpet",
            "marker": {
             "colorbar": {
              "outlinewidth": 0,
              "ticks": ""
             }
            }
           }
          ],
          "carpet": [
           {
            "aaxis": {
             "endlinecolor": "#2a3f5f",
             "gridcolor": "white",
             "linecolor": "white",
             "minorgridcolor": "white",
             "startlinecolor": "#2a3f5f"
            },
            "baxis": {
             "endlinecolor": "#2a3f5f",
             "gridcolor": "white",
             "linecolor": "white",
             "minorgridcolor": "white",
             "startlinecolor": "#2a3f5f"
            },
            "type": "carpet"
           }
          ],
          "table": [
           {
            "cells": {
             "fill": {
              "color": "#EBF0F8"
             },
             "line": {
              "color": "white"
             }
            },
            "header": {
             "fill": {
              "color": "#C8D4E3"
             },
             "line": {
              "color": "white"
             }
            },
            "type": "table"
           }
          ],
          "barpolar": [
           {
            "marker": {
             "line": {
              "color": "#E5ECF6",
              "width": 0.5
             },
             "pattern": {
              "fillmode": "overlay",
              "size": 10,
              "solidity": 0.2
             }
            },
            "type": "barpolar"
           }
          ],
          "pie": [
           {
            "automargin": true,
            "type": "pie"
           }
          ]
         },
         "layout": {
          "autotypenumbers": "strict",
          "colorway": [
           "#636efa",
           "#EF553B",
           "#00cc96",
           "#ab63fa",
           "#FFA15A",
           "#19d3f3",
           "#FF6692",
           "#B6E880",
           "#FF97FF",
           "#FECB52"
          ],
          "font": {
           "color": "#2a3f5f"
          },
          "hovermode": "closest",
          "hoverlabel": {
           "align": "left"
          },
          "paper_bgcolor": "white",
          "plot_bgcolor": "#E5ECF6",
          "polar": {
           "bgcolor": "#E5ECF6",
           "angularaxis": {
            "gridcolor": "white",
            "linecolor": "white",
            "ticks": ""
           },
           "radialaxis": {
            "gridcolor": "white",
            "linecolor": "white",
            "ticks": ""
           }
          },
          "ternary": {
           "bgcolor": "#E5ECF6",
           "aaxis": {
            "gridcolor": "white",
            "linecolor": "white",
            "ticks": ""
           },
           "baxis": {
            "gridcolor": "white",
            "linecolor": "white",
            "ticks": ""
           },
           "caxis": {
            "gridcolor": "white",
            "linecolor": "white",
            "ticks": ""
           }
          },
          "coloraxis": {
           "colorbar": {
            "outlinewidth": 0,
            "ticks": ""
           }
          },
          "colorscale": {
           "sequential": [
            [
             0.0,
             "#0d0887"
            ],
            [
             0.1111111111111111,
             "#46039f"
            ],
            [
             0.2222222222222222,
             "#7201a8"
            ],
            [
             0.3333333333333333,
             "#9c179e"
            ],
            [
             0.4444444444444444,
             "#bd3786"
            ],
            [
             0.5555555555555556,
             "#d8576b"
            ],
            [
             0.6666666666666666,
             "#ed7953"
            ],
            [
             0.7777777777777778,
             "#fb9f3a"
            ],
            [
             0.8888888888888888,
             "#fdca26"
            ],
            [
             1.0,
             "#f0f921"
            ]
           ],
           "sequentialminus": [
            [
             0.0,
             "#0d0887"
            ],
            [
             0.1111111111111111,
             "#46039f"
            ],
            [
             0.2222222222222222,
             "#7201a8"
            ],
            [
             0.3333333333333333,
             "#9c179e"
            ],
            [
             0.4444444444444444,
             "#bd3786"
            ],
            [
             0.5555555555555556,
             "#d8576b"
            ],
            [
             0.6666666666666666,
             "#ed7953"
            ],
            [
             0.7777777777777778,
             "#fb9f3a"
            ],
            [
             0.8888888888888888,
             "#fdca26"
            ],
            [
             1.0,
             "#f0f921"
            ]
           ],
           "diverging": [
            [
             0,
             "#8e0152"
            ],
            [
             0.1,
             "#c51b7d"
            ],
            [
             0.2,
             "#de77ae"
            ],
            [
             0.3,
             "#f1b6da"
            ],
            [
             0.4,
             "#fde0ef"
            ],
            [
             0.5,
             "#f7f7f7"
            ],
            [
             0.6,
             "#e6f5d0"
            ],
            [
             0.7,
             "#b8e186"
            ],
            [
             0.8,
             "#7fbc41"
            ],
            [
             0.9,
             "#4d9221"
            ],
            [
             1,
             "#276419"
            ]
           ]
          },
          "xaxis": {
           "gridcolor": "white",
           "linecolor": "white",
           "ticks": "",
           "title": {
            "standoff": 15
           },
           "zerolinecolor": "white",
           "automargin": true,
           "zerolinewidth": 2
          },
          "yaxis": {
           "gridcolor": "white",
           "linecolor": "white",
           "ticks": "",
           "title": {
            "standoff": 15
           },
           "zerolinecolor": "white",
           "automargin": true,
           "zerolinewidth": 2
          },
          "scene": {
           "xaxis": {
            "backgroundcolor": "#E5ECF6",
            "gridcolor": "white",
            "linecolor": "white",
            "showbackground": true,
            "ticks": "",
            "zerolinecolor": "white",
            "gridwidth": 2
           },
           "yaxis": {
            "backgroundcolor": "#E5ECF6",
            "gridcolor": "white",
            "linecolor": "white",
            "showbackground": true,
            "ticks": "",
            "zerolinecolor": "white",
            "gridwidth": 2
           },
           "zaxis": {
            "backgroundcolor": "#E5ECF6",
            "gridcolor": "white",
            "linecolor": "white",
            "showbackground": true,
            "ticks": "",
            "zerolinecolor": "white",
            "gridwidth": 2
           }
          },
          "shapedefaults": {
           "line": {
            "color": "#2a3f5f"
           }
          },
          "annotationdefaults": {
           "arrowcolor": "#2a3f5f",
           "arrowhead": 0,
           "arrowwidth": 1
          },
          "geo": {
           "bgcolor": "white",
           "landcolor": "#E5ECF6",
           "subunitcolor": "white",
           "showland": true,
           "showlakes": true,
           "lakecolor": "white"
          },
          "title": {
           "x": 0.05
          },
          "mapbox": {
           "style": "light"
          }
         }
        },
        "xaxis": {
         "anchor": "y",
         "domain": [
          0.0,
          1.0
         ],
         "title": {
          "text": "TSNE-2D-1"
         },
         "showgrid": false,
         "zeroline": false
        },
        "yaxis": {
         "anchor": "x",
         "domain": [
          0.0,
          1.0
         ],
         "title": {
          "text": "TSNE-2D-2"
         },
         "showgrid": false,
         "zeroline": false
        },
        "legend": {
         "title": {
          "text": "Variant"
         },
         "tracegroupgap": 0
        },
        "margin": {
         "t": 60
        },
        "font": {
         "family": "Courier New, monospace",
         "size": 18,
         "color": "RebeccaPurple"
        }
       },
       "config": {
        "plotlyServerURL": "https://plot.ly"
       }
      },
      "text/html": "<div>                            <div id=\"32b9c96b-b936-4897-a67f-c1e82dea85bc\" class=\"plotly-graph-div\" style=\"height:525px; width:100%;\"></div>            <script type=\"text/javascript\">                require([\"plotly\"], function(Plotly) {                    window.PLOTLYENV=window.PLOTLYENV || {};                                    if (document.getElementById(\"32b9c96b-b936-4897-a67f-c1e82dea85bc\")) {                    Plotly.newPlot(                        \"32b9c96b-b936-4897-a67f-c1e82dea85bc\",                        [{\"hovertemplate\":\"Variant=Alpha\\u003cbr\\u003e0=%{x}\\u003cbr\\u003e1=%{y}\\u003cextra\\u003e\\u003c\\u002fextra\\u003e\",\"legendgroup\":\"Alpha\",\"marker\":{\"color\":\"#636efa\",\"symbol\":\"circle\"},\"mode\":\"markers\",\"name\":\"Alpha\",\"orientation\":\"v\",\"showlegend\":true,\"x\":[-4.4058051109313965,7.492279052734375,7.247392177581787,-4.534393787384033,-3.544020175933838,8.071646690368652,6.644172191619873,7.363141059875488,7.261656284332275,7.679875373840332,7.481230735778809,6.785555362701416,8.378928184509277,7.496304512023926,-4.249979019165039,7.443922996520996,7.383360385894775,-3.0964417457580566,8.41258430480957,-4.327208518981934,-4.520659446716309,-3.4141104221343994,7.457461357116699,6.890389442443848,-2.5213711261749268,7.726159572601318,7.341853141784668,7.520826816558838,7.465761184692383,7.5374650955200195,7.360715866088867,-3.7589988708496094,7.977723598480225,7.295578479766846,11.18625545501709,7.558671951293945,-4.558743953704834,7.289045810699463,6.755058765411377,9.029473304748535,-4.054454326629639,-4.529254913330078,6.883003234863281,7.017177581787109,8.090946197509766,-4.473379135131836,6.834142684936523,-4.555579662322998,7.3517842292785645,12.238630294799805,7.553683280944824,6.775379657745361,11.310996055603027,7.582912445068359,6.82959508895874],\"xaxis\":\"x\",\"y\":[9.406349182128906,9.343862533569336,10.32030963897705,9.527785301208496,8.244670867919922,8.68673038482666,9.992875099182129,10.177057266235352,10.262588500976562,9.910335540771484,1.4786816835403442,10.43893814086914,7.8032307624816895,9.8704195022583,9.49414348602295,1.675861120223999,9.682991027832031,7.860739707946777,9.899029731750488,9.320560455322266,9.519084930419922,8.477544784545898,1.3635574579238892,9.70966911315918,7.40464973449707,0.9131677150726318,9.77280330657959,10.331562042236328,9.652750968933105,9.769649505615234,9.676570892333984,8.409868240356445,0.16072164475917816,10.066246032714844,-3.9062235355377197,1.186921238899231,9.524109840393066,9.790450096130371,9.900372505187988,-3.3625824451446533,8.718505859375,9.495841979980469,9.552475929260254,9.690835952758789,8.605911254882812,9.459715843200684,10.04503059387207,9.509519577026367,9.69273567199707,-4.3094048500061035,9.903732299804688,9.755952835083008,-2.261323928833008,10.386366844177246,9.933348655700684],\"yaxis\":\"y\",\"type\":\"scatter\"},{\"hovertemplate\":\"Variant=Beta\\u003cbr\\u003e0=%{x}\\u003cbr\\u003e1=%{y}\\u003cextra\\u003e\\u003c\\u002fextra\\u003e\",\"legendgroup\":\"Beta\",\"marker\":{\"color\":\"#EF553B\",\"symbol\":\"circle\"},\"mode\":\"markers\",\"name\":\"Beta\",\"orientation\":\"v\",\"showlegend\":true,\"x\":[8.071526527404785,7.137546539306641,-1.6896276473999023,-1.8029407262802124,6.475606441497803,-1.8205807209014893,-1.7009707689285278,6.8554582595825195,6.572996139526367,-1.7412850856781006,6.841070175170898,-1.8204514980316162,-1.8757988214492798,-1.1668120622634888,6.81423282623291,6.967710971832275,6.4631476402282715,-1.7449983358383179,7.543457508087158,6.874977111816406,7.032743453979492,7.433951377868652,-1.6383516788482666,-1.7906900644302368,7.2533769607543945,6.471482753753662,-2.4927639961242676,-2.25058913230896,6.438613414764404,7.170177459716797,-2.461792230606079,10.435787200927734,11.26425552368164,8.646675109863281,6.86079740524292,-1.5152112245559692,6.878471851348877,-1.8148216009140015,6.5272088050842285,6.489405632019043,-1.8388619422912598,6.7838592529296875,-1.7992064952850342,-1.5977039337158203,-1.3832981586456299,7.026942253112793,-2.464005470275879,-2.4638113975524902,6.767604351043701,-0.9074052572250366,6.476820468902588,6.808149814605713,6.851762294769287,7.188750743865967,-2.198153257369995,6.4440693855285645,-1.8104989528656006,-1.6685160398483276,6.854578971862793,-2.442453622817993,-1.604365348815918,6.998227119445801,6.676026344299316,-2.4060182571411133],\"xaxis\":\"x\",\"y\":[-0.06076817587018013,4.371739864349365,9.397822380065918,9.439632415771484,7.190476417541504,8.910889625549316,7.46875,6.122225284576416,5.7827301025390625,9.411447525024414,6.055508136749268,9.334668159484863,9.515820503234863,9.155345916748047,6.1148786544799805,6.297632217407227,7.171984672546387,9.181364059448242,6.377416133880615,5.924009323120117,5.975032806396484,1.909572720527649,7.390028476715088,9.455038070678711,5.360025882720947,5.917891502380371,10.540349006652832,10.214947700500488,7.24608850479126,0.8082780241966248,10.513911247253418,-3.439639091491699,-2.1847052574157715,-3.598524570465088,6.124246120452881,9.71268081665039,6.1273980140686035,9.3892240524292,6.9008331298828125,5.904986381530762,9.434415817260742,6.099446773529053,9.402544021606445,7.227784633636475,6.686628341674805,5.306483268737793,10.474859237670898,10.460830688476562,6.127212047576904,8.991439819335938,7.19639778137207,6.070031642913818,6.0608415603637695,6.0408735275268555,10.115999221801758,7.1884894371032715,9.400590896606445,8.473426818847656,6.109911918640137,10.457746505737305,9.45226001739502,4.355964660644531,6.668732166290283,10.531795501708984],\"yaxis\":\"y\",\"type\":\"scatter\"},{\"hovertemplate\":\"Variant=Delta\\u003cbr\\u003e0=%{x}\\u003cbr\\u003e1=%{y}\\u003cextra\\u003e\\u003c\\u002fextra\\u003e\",\"legendgroup\":\"Delta\",\"marker\":{\"color\":\"#00cc96\",\"symbol\":\"circle\"},\"mode\":\"markers\",\"name\":\"Delta\",\"orientation\":\"v\",\"showlegend\":true,\"x\":[-7.089680194854736,-4.291542053222656,4.102035045623779,-7.236884117126465,-7.479236125946045,-6.950453281402588,5.159471035003662,-7.207982540130615,-7.203091621398926,7.910620212554932,-6.602536201477051,-7.935123920440674,-4.9235615730285645,-7.527185916900635,5.012933254241943,4.513885498046875,10.051745414733887,-3.526470899581909,-5.671955108642578,10.006888389587402,5.388665199279785,-6.6520891189575195,-7.170742988586426,-7.1727752685546875,-7.567678451538086,-8.034677505493164,10.281966209411621,-5.977711200714111,-7.108588695526123,4.660655498504639,4.205447196960449,-7.271635055541992,4.466424942016602,-7.564499855041504,-3.0449273586273193,-7.253842830657959,-7.016147136688232,-5.817337989807129,-8.23466968536377,4.178579330444336,-7.325368404388428,-7.20037841796875,-6.891114711761475,-7.093419551849365,4.511070728302002,-6.568172931671143,4.522803783416748,-5.799798965454102,-7.072440147399902,-4.432796001434326,-7.948526382446289,-3.8241567611694336,-3.635016918182373,-7.089608192443848,-3.6946377754211426,4.432427406311035,4.251159191131592,4.4758734703063965,-6.151500701904297,4.505631446838379,-6.866352081298828,-7.0909576416015625,9.234112739562988,-7.14248514175415,4.546642303466797,4.543524265289307],\"xaxis\":\"x\",\"y\":[8.658560752868652,6.09588623046875,8.127388000488281,7.857645034790039,7.458522319793701,6.797852993011475,4.331210613250732,7.763341903686523,7.895625591278076,0.48438188433647156,6.404463768005371,7.20179557800293,6.468446731567383,7.8906731605529785,5.145227432250977,8.436092376708984,-3.456078290939331,6.052923202514648,6.2528181076049805,-3.063035726547241,1.3452975749969482,8.23876667022705,7.846519470214844,7.833674907684326,7.861489772796631,8.475045204162598,-3.567596435546875,7.964145183563232,7.792962074279785,-2.8393478393554688,6.866416931152344,7.7913103103637695,8.37832260131836,7.484493732452393,5.450281620025635,7.895742416381836,8.844170570373535,6.281554222106934,8.051351547241211,7.020327091217041,7.940892696380615,7.827818393707275,6.83566951751709,7.779645919799805,7.956798553466797,7.746185302734375,8.437828063964844,6.272103786468506,7.851649284362793,6.0568742752075195,7.452328205108643,5.859591007232666,5.834391117095947,8.713619232177734,5.699464797973633,8.429422378540039,6.135888576507568,7.9123969078063965,6.470132350921631,8.428860664367676,6.789154052734375,8.671537399291992,-2.2670881748199463,7.7711920738220215,8.325674057006836,8.450456619262695],\"yaxis\":\"y\",\"type\":\"scatter\"},{\"hovertemplate\":\"Variant=Omicron\\u003cbr\\u003e0=%{x}\\u003cbr\\u003e1=%{y}\\u003cextra\\u003e\\u003c\\u002fextra\\u003e\",\"legendgroup\":\"Omicron\",\"marker\":{\"color\":\"#ab63fa\",\"symbol\":\"circle\"},\"mode\":\"markers\",\"name\":\"Omicron\",\"orientation\":\"v\",\"showlegend\":true,\"x\":[2.0314581394195557,7.739034175872803,-2.0035109519958496,-6.160937786102295,-11.619412422180176,-0.9761198163032532,-4.540096282958984,-3.9700093269348145,-3.3633129596710205,-12.055074691772461,10.854140281677246,6.222255229949951,7.621756076812744,10.713224411010742,-3.008057117462158,7.050940036773682,-4.827466011047363,-11.645322799682617,-3.31080961227417,0.6020305156707764,2.0400583744049072,-4.431596279144287,3.28531813621521,-9.984334945678711,-6.42434549331665,-10.994550704956055,-0.5231465101242065,2.031357765197754,-11.614566802978516,13.380757331848145,-4.02926778793335,-0.8846047520637512,-0.40885651111602783,-4.205647945404053,-6.413962364196777,1.9691768884658813,-1.9867223501205444,-4.533200263977051,-3.1471521854400635,-6.135768890380859,10.136826515197754,2.800532817840576,-0.5909116864204407,-0.5746519565582275,3.035966157913208,-6.596950531005859,1.5984277725219727,-11.6913423538208,-1.3289629220962524,1.0138660669326782,-5.710236549377441,-4.958646297454834,4.245140075683594,-6.19336462020874,10.457098007202148,-1.709837794303894,-3.0188512802124023,-11.11986255645752,-0.9826799631118774,7.695168495178223,-1.0102733373641968,-3.1776247024536133,-11.88853645324707,-1.6342098712921143,0.8774386048316956,10.339973449707031,-2.9243674278259277,-5.057034015655518,-4.888655662536621,-8.514117240905762,7.898340702056885,-5.5120439529418945,-11.021530151367188,-6.157053470611572,-4.688484191894531,8.367571830749512,-5.808109283447266,-5.710093975067139,4.994719982147217,10.926016807556152,5.923005104064941,-5.974367618560791,3.670961380004883,1.9422495365142822,-8.512998580932617,-3.952760696411133,-4.32815408706665,5.148114204406738,12.411726951599121,-5.962427139282227,-5.207768440246582,-6.055400848388672,-4.431621551513672,6.38871955871582,-4.077314853668213,6.2931413650512695,-4.068537712097168,-4.343146324157715,12.50847339630127,1.276911973953247,-3.1856114864349365,8.993387222290039,1.9375598430633545,8.36209774017334,10.754448890686035,-5.935143947601318,-11.54409408569336,6.385976791381836,-11.144083023071289,8.190799713134766,12.094002723693848,-8.506892204284668,-11.855966567993164,-5.552234649658203,-1.35316002368927,4.1593732833862305,2.616105079650879,-11.041383743286133,11.061677932739258,-4.4971818923950195,-5.165702819824219,12.249873161315918,4.269739151000977,-6.162562370300293,-3.7901229858398438,-10.991427421569824,2.0366950035095215,-1.4880106449127197,-6.0845255851745605,-0.5741302371025085,-4.958871364593506,13.309733390808105,-4.980296611785889,-8.515196800231934,-5.012248992919922,-5.057682037353516,6.5172200202941895,1.9800602197647095,-11.496456146240234,13.310762405395508,-4.43782901763916,6.549734115600586,2.6854817867279053,-4.4412431716918945,9.276895523071289,2.03174090385437,4.870952606201172,-3.1554441452026367,5.250637054443359,-0.365181028842926,-5.1517815589904785,-4.470944404602051,-4.9512410163879395,10.871721267700195,5.4104743003845215,-3.12800931930542,-8.510393142700195,-1.1250979900360107,0.1488805115222931,-4.256913185119629,-6.959830284118652,7.663099765777588,-5.281729221343994,11.343262672424316,-3.8813819885253906,5.79586124420166,-4.206231594085693,8.289704322814941,-8.554788589477539,-11.536952018737793,-11.950360298156738,-11.54723834991455,-5.698146343231201,11.182531356811523,6.026717185974121,3.13332200050354,-5.781083106994629,-11.539326667785645,-1.2555230855941772,-10.989666938781738,-11.618108749389648,7.894585609436035,-0.20378477871418,-5.520850658416748,-2.009281635284424,13.018678665161133,3.606987476348877,1.8290684223175049,-4.978518486022949,-1.3983746767044067,-5.264018535614014,-10.631562232971191,0.6389126777648926,13.411720275878906,12.467926025390625,-4.099311828613281,4.271999359130859,-10.883556365966797,3.423283338546753,1.941046953201294,1.2062739133834839,-11.263799667358398,6.074047088623047,7.447379112243652,-1.0326732397079468,-4.076818943023682,-11.67049789428711,-8.527949333190918,6.632990837097168,11.566336631774902,2.3168275356292725,-8.516748428344727,-10.755516052246094,-4.155220031738281,6.386707782745361,2.3951034545898438,-10.58678150177002,0.06602875888347626,-1.1477986574172974,1.8799608945846558,2.3706741333007812,-11.521295547485352,0.11217097193002701,2.70615816116333,2.044987440109253,13.454586029052734,8.926130294799805,-4.415347576141357,-2.1339311599731445,-12.117512702941895,-0.5312815308570862,2.2522943019866943,-4.541974067687988,11.642919540405273,9.698348045349121,6.387918472290039,10.448113441467285,-10.342975616455078,-4.3609418869018555,1.9655907154083252,-1.2319309711456299,-12.183711051940918,-2.998526096343994,4.525119781494141,-6.487315654754639,-2.130470037460327,-11.778155326843262,3.3605539798736572,2.023322820663452,-1.4904179573059082,5.003578186035156,-2.7170708179473877,3.043657064437866,-5.0461015701293945,-1.686983346939087,-3.8170013427734375,-10.736275672912598,-11.075601577758789,10.379280090332031,4.9529619216918945,4.981799125671387,3.290794849395752,4.912563800811768,-0.6108660101890564,-2.5033459663391113,7.559809684753418,-11.847793579101562,6.612662315368652,-4.4828057289123535,-4.1638360023498535,-1.4312119483947754,9.297121047973633,6.242563247680664],\"xaxis\":\"x\",\"y\":[1.7947633266448975,-4.151583194732666,-5.904403209686279,-6.694025993347168,-3.644758939743042,-2.521906852722168,4.126713752746582,4.566198348999023,-1.0764073133468628,-4.1303510665893555,-4.221761226654053,-1.1829394102096558,-4.669214248657227,-4.580433368682861,-1.8002585172653198,-3.9465718269348145,-3.5380337238311768,-3.86440372467041,-2.3158974647521973,-4.668208122253418,2.255150079727173,-3.0371737480163574,-6.204288005828857,-3.5756919384002686,-6.502254009246826,-3.7696287631988525,-3.9868998527526855,2.2639338970184326,-4.080166816711426,-4.741232872009277,-2.2799761295318604,-10.949614524841309,-3.9187395572662354,-1.6189481019973755,-6.5336594581604,1.785685658454895,-1.6363060474395752,-2.0374021530151367,-1.8134478330612183,-6.7170729637146,-4.530815124511719,-5.333282470703125,-3.974367141723633,-3.958704948425293,3.3255667686462402,-6.386245250701904,2.392576217651367,-4.294120788574219,-10.969426155090332,-5.143491744995117,-6.85805082321167,-2.407973527908325,-5.391540050506592,-6.62972354888916,-4.764410972595215,-3.6901843547821045,-2.3467836380004883,-3.356510639190674,-3.7007834911346436,-2.0081379413604736,-11.061397552490234,-2.4756269454956055,-3.5356292724609375,-1.7026911973953247,-5.3408966064453125,-4.27827787399292,-0.6511090397834778,-1.768843173980713,-2.690267324447632,0.1853361576795578,-1.5812641382217407,-3.2196195125579834,-4.566640377044678,-6.730944633483887,-3.331881046295166,-4.529337406158447,-2.5654873847961426,-2.303218364715576,0.3492744565010071,-4.630425453186035,-4.227852821350098,-1.9296436309814453,-4.367225170135498,2.385540246963501,0.18886877596378326,-4.130410671234131,-2.8783135414123535,0.33250918984413147,-4.5225067138671875,-6.909306526184082,-2.703148603439331,-6.804289817810059,-3.0367252826690674,-1.3457391262054443,-1.9732986688613892,-5.0481343269348145,-1.9431030750274658,-3.1194305419921875,-4.520934104919434,-4.546180248260498,-3.821453332901001,-4.256192684173584,2.4017326831817627,-4.214760780334473,-4.738272190093994,-6.982487678527832,-3.7215993404388428,-4.938734531402588,-3.5974268913269043,-4.563882350921631,-4.404633045196533,0.1787891536951065,-4.147911071777344,-1.467329502105713,-5.072667121887207,0.5599685907363892,-4.27873420715332,-3.8451993465423584,-3.556633949279785,-2.9615354537963867,-2.234971284866333,-4.548556804656982,0.4362495243549347,-6.692328929901123,3.3134682178497314,-2.3296589851379395,2.257155418395996,-11.388933181762695,-6.784796714782715,-3.951051712036133,-1.9367752075195312,-4.702691078186035,-3.6038553714752197,0.1808037906885147,-1.8494873046875,-2.8140623569488525,-1.4954339265823364,1.8226141929626465,-3.9254915714263916,-4.751928806304932,-3.177154541015625,-1.4631236791610718,2.0076229572296143,-2.921970844268799,-4.510997295379639,1.8890180587768555,0.9416654706001282,-1.833948016166687,0.17959365248680115,-6.149842262268066,-2.2221174240112305,-2.546410322189331,-1.4233218431472778,-3.2776503562927246,-4.954087257385254,-3.576754093170166,0.18186064064502716,-10.998183250427246,-4.003547668457031,4.276165008544922,-2.9178621768951416,-4.864246845245361,-2.166987180709839,-4.808802604675293,-3.1424005031585693,-4.674652576446533,-3.6911516189575195,-4.295486927032471,0.2000119686126709,-3.0661890506744385,-3.983855962753296,-3.4916937351226807,-7.1178059577941895,-4.700005054473877,-4.109486103057861,0.36682793498039246,-3.8937559127807617,-3.464928388595581,-3.5584568977355957,-2.280487298965454,-3.8746795654296875,-4.797711372375488,-5.764251708984375,-1.5140728950500488,-3.675971269607544,-4.651825428009033,1.4718475341796875,-3.1185169219970703,3.862070322036743,-11.013916969299316,3.8066110610961914,-5.233311653137207,-5.426581859588623,-4.768176555633545,-4.518412113189697,-2.3112475872039795,1.2832186222076416,-4.6673970222473145,0.07052447646856308,-3.2431254386901855,-5.043063640594482,-4.166267395019531,-4.091982841491699,-3.2400143146514893,-12.110920906066895,-1.0228064060211182,-3.2844033241271973,0.17325285077095032,-1.5177748203277588,-4.401463031768799,-3.703951835632324,0.19492091238498688,-3.476632595062256,-2.2673399448394775,-1.3394019603729248,2.662174940109253,-5.292501449584961,-3.423316478729248,-3.7358627319335938,-4.907307147979736,1.539405107498169,-4.552288055419922,-4.110637187957764,-4.60784912109375,2.2587406635284424,-4.767333030700684,-4.489342212677002,-2.915976047515869,-6.193182945251465,-3.2009994983673096,-3.9509975910186768,-3.647690773010254,-4.380350589752197,-4.731289386749268,-4.41122579574585,-5.1026434898376465,-4.582272052764893,-5.357100009918213,-2.5010130405426025,2.3572921752929688,-4.438339710235596,-3.1189823150634766,-1.1765811443328857,-3.973163366317749,-7.12575101852417,-5.846382141113281,-3.476346731185913,-4.675886154174805,2.2592902183532715,-11.598748207092285,0.9171525239944458,-1.572898030281067,-4.681626796722412,-0.5397293567657471,-3.683788776397705,3.313777208328247,-3.7313945293426514,-4.420812129974365,-4.525916576385498,-4.691080093383789,-4.617981433868408,-5.897945404052734,-4.999843597412109,-3.22660231590271,-2.486135959625244,-1.9074969291687012,-5.324753761291504,-3.229696273803711,-3.268911361694336,-2.9187393188476562,-10.997550964355469,-4.437448024749756,-1.2329649925231934],\"yaxis\":\"y\",\"type\":\"scatter\"},{\"hovertemplate\":\"Variant=Omicron Sub\\u003cbr\\u003e0=%{x}\\u003cbr\\u003e1=%{y}\\u003cextra\\u003e\\u003c\\u002fextra\\u003e\",\"legendgroup\":\"Omicron Sub\",\"marker\":{\"color\":\"#FFA15A\",\"symbol\":\"circle\"},\"mode\":\"markers\",\"name\":\"Omicron Sub\",\"orientation\":\"v\",\"showlegend\":true,\"x\":[-0.4080272316932678,13.46461009979248,13.471941947937012,0.9841094017028809,-1.353065013885498,-1.4575985670089722,-2.1950595378875732,-1.5592379570007324,-2.209340810775757,-1.1875474452972412,-1.6136623620986938,5.428406715393066,-1.3813773393630981,-0.7439478039741516,-1.9537705183029175,6.197145938873291,-2.107424020767212,-2.3261818885803223,3.1275110244750977,3.633312225341797,-0.8925571441650391,1.4891748428344727,3.6771976947784424,6.223852157592773,3.4226269721984863,-1.424924612045288,6.958563327789307,-0.6758838295936584,-2.300236463546753,5.361327648162842,-0.711762547492981,-1.3728692531585693,11.117668151855469,-1.5304454565048218,0.9618861079216003,4.037720203399658,-1.4308143854141235,0.8839306831359863,-1.3146418333053589],\"xaxis\":\"x\",\"y\":[-10.438767433166504,-4.731619834899902,-4.733447074890137,-7.721491813659668,-10.968517303466797,-11.16750717163086,-10.243807792663574,-11.52888298034668,-9.758657455444336,-10.837003707885742,-11.26593017578125,-5.060730934143066,-10.932574272155762,-11.167357444763184,-10.122702598571777,-1.1854844093322754,-10.13498306274414,-10.235800743103027,-6.426094055175781,-5.587624549865723,-11.009217262268066,-7.107174396514893,-5.815560340881348,-4.9850263595581055,-0.44756555557250977,-11.673896789550781,-4.919033050537109,-10.876236915588379,-10.934579849243164,-5.045163631439209,-11.139812469482422,-10.962029457092285,-4.545291423797607,-11.478053092956543,-7.744897842407227,-1.0952086448669434,-11.723503112792969,-7.96108341217041,-10.869414329528809],\"yaxis\":\"y\",\"type\":\"scatter\"}],                        {\"template\":{\"data\":{\"histogram2dcontour\":[{\"type\":\"histogram2dcontour\",\"colorbar\":{\"outlinewidth\":0,\"ticks\":\"\"},\"colorscale\":[[0.0,\"#0d0887\"],[0.1111111111111111,\"#46039f\"],[0.2222222222222222,\"#7201a8\"],[0.3333333333333333,\"#9c179e\"],[0.4444444444444444,\"#bd3786\"],[0.5555555555555556,\"#d8576b\"],[0.6666666666666666,\"#ed7953\"],[0.7777777777777778,\"#fb9f3a\"],[0.8888888888888888,\"#fdca26\"],[1.0,\"#f0f921\"]]}],\"choropleth\":[{\"type\":\"choropleth\",\"colorbar\":{\"outlinewidth\":0,\"ticks\":\"\"}}],\"histogram2d\":[{\"type\":\"histogram2d\",\"colorbar\":{\"outlinewidth\":0,\"ticks\":\"\"},\"colorscale\":[[0.0,\"#0d0887\"],[0.1111111111111111,\"#46039f\"],[0.2222222222222222,\"#7201a8\"],[0.3333333333333333,\"#9c179e\"],[0.4444444444444444,\"#bd3786\"],[0.5555555555555556,\"#d8576b\"],[0.6666666666666666,\"#ed7953\"],[0.7777777777777778,\"#fb9f3a\"],[0.8888888888888888,\"#fdca26\"],[1.0,\"#f0f921\"]]}],\"heatmap\":[{\"type\":\"heatmap\",\"colorbar\":{\"outlinewidth\":0,\"ticks\":\"\"},\"colorscale\":[[0.0,\"#0d0887\"],[0.1111111111111111,\"#46039f\"],[0.2222222222222222,\"#7201a8\"],[0.3333333333333333,\"#9c179e\"],[0.4444444444444444,\"#bd3786\"],[0.5555555555555556,\"#d8576b\"],[0.6666666666666666,\"#ed7953\"],[0.7777777777777778,\"#fb9f3a\"],[0.8888888888888888,\"#fdca26\"],[1.0,\"#f0f921\"]]}],\"heatmapgl\":[{\"type\":\"heatmapgl\",\"colorbar\":{\"outlinewidth\":0,\"ticks\":\"\"},\"colorscale\":[[0.0,\"#0d0887\"],[0.1111111111111111,\"#46039f\"],[0.2222222222222222,\"#7201a8\"],[0.3333333333333333,\"#9c179e\"],[0.4444444444444444,\"#bd3786\"],[0.5555555555555556,\"#d8576b\"],[0.6666666666666666,\"#ed7953\"],[0.7777777777777778,\"#fb9f3a\"],[0.8888888888888888,\"#fdca26\"],[1.0,\"#f0f921\"]]}],\"contourcarpet\":[{\"type\":\"contourcarpet\",\"colorbar\":{\"outlinewidth\":0,\"ticks\":\"\"}}],\"contour\":[{\"type\":\"contour\",\"colorbar\":{\"outlinewidth\":0,\"ticks\":\"\"},\"colorscale\":[[0.0,\"#0d0887\"],[0.1111111111111111,\"#46039f\"],[0.2222222222222222,\"#7201a8\"],[0.3333333333333333,\"#9c179e\"],[0.4444444444444444,\"#bd3786\"],[0.5555555555555556,\"#d8576b\"],[0.6666666666666666,\"#ed7953\"],[0.7777777777777778,\"#fb9f3a\"],[0.8888888888888888,\"#fdca26\"],[1.0,\"#f0f921\"]]}],\"surface\":[{\"type\":\"surface\",\"colorbar\":{\"outlinewidth\":0,\"ticks\":\"\"},\"colorscale\":[[0.0,\"#0d0887\"],[0.1111111111111111,\"#46039f\"],[0.2222222222222222,\"#7201a8\"],[0.3333333333333333,\"#9c179e\"],[0.4444444444444444,\"#bd3786\"],[0.5555555555555556,\"#d8576b\"],[0.6666666666666666,\"#ed7953\"],[0.7777777777777778,\"#fb9f3a\"],[0.8888888888888888,\"#fdca26\"],[1.0,\"#f0f921\"]]}],\"mesh3d\":[{\"type\":\"mesh3d\",\"colorbar\":{\"outlinewidth\":0,\"ticks\":\"\"}}],\"scatter\":[{\"fillpattern\":{\"fillmode\":\"overlay\",\"size\":10,\"solidity\":0.2},\"type\":\"scatter\"}],\"parcoords\":[{\"type\":\"parcoords\",\"line\":{\"colorbar\":{\"outlinewidth\":0,\"ticks\":\"\"}}}],\"scatterpolargl\":[{\"type\":\"scatterpolargl\",\"marker\":{\"colorbar\":{\"outlinewidth\":0,\"ticks\":\"\"}}}],\"bar\":[{\"error_x\":{\"color\":\"#2a3f5f\"},\"error_y\":{\"color\":\"#2a3f5f\"},\"marker\":{\"line\":{\"color\":\"#E5ECF6\",\"width\":0.5},\"pattern\":{\"fillmode\":\"overlay\",\"size\":10,\"solidity\":0.2}},\"type\":\"bar\"}],\"scattergeo\":[{\"type\":\"scattergeo\",\"marker\":{\"colorbar\":{\"outlinewidth\":0,\"ticks\":\"\"}}}],\"scatterpolar\":[{\"type\":\"scatterpolar\",\"marker\":{\"colorbar\":{\"outlinewidth\":0,\"ticks\":\"\"}}}],\"histogram\":[{\"marker\":{\"pattern\":{\"fillmode\":\"overlay\",\"size\":10,\"solidity\":0.2}},\"type\":\"histogram\"}],\"scattergl\":[{\"type\":\"scattergl\",\"marker\":{\"colorbar\":{\"outlinewidth\":0,\"ticks\":\"\"}}}],\"scatter3d\":[{\"type\":\"scatter3d\",\"line\":{\"colorbar\":{\"outlinewidth\":0,\"ticks\":\"\"}},\"marker\":{\"colorbar\":{\"outlinewidth\":0,\"ticks\":\"\"}}}],\"scattermapbox\":[{\"type\":\"scattermapbox\",\"marker\":{\"colorbar\":{\"outlinewidth\":0,\"ticks\":\"\"}}}],\"scatterternary\":[{\"type\":\"scatterternary\",\"marker\":{\"colorbar\":{\"outlinewidth\":0,\"ticks\":\"\"}}}],\"scattercarpet\":[{\"type\":\"scattercarpet\",\"marker\":{\"colorbar\":{\"outlinewidth\":0,\"ticks\":\"\"}}}],\"carpet\":[{\"aaxis\":{\"endlinecolor\":\"#2a3f5f\",\"gridcolor\":\"white\",\"linecolor\":\"white\",\"minorgridcolor\":\"white\",\"startlinecolor\":\"#2a3f5f\"},\"baxis\":{\"endlinecolor\":\"#2a3f5f\",\"gridcolor\":\"white\",\"linecolor\":\"white\",\"minorgridcolor\":\"white\",\"startlinecolor\":\"#2a3f5f\"},\"type\":\"carpet\"}],\"table\":[{\"cells\":{\"fill\":{\"color\":\"#EBF0F8\"},\"line\":{\"color\":\"white\"}},\"header\":{\"fill\":{\"color\":\"#C8D4E3\"},\"line\":{\"color\":\"white\"}},\"type\":\"table\"}],\"barpolar\":[{\"marker\":{\"line\":{\"color\":\"#E5ECF6\",\"width\":0.5},\"pattern\":{\"fillmode\":\"overlay\",\"size\":10,\"solidity\":0.2}},\"type\":\"barpolar\"}],\"pie\":[{\"automargin\":true,\"type\":\"pie\"}]},\"layout\":{\"autotypenumbers\":\"strict\",\"colorway\":[\"#636efa\",\"#EF553B\",\"#00cc96\",\"#ab63fa\",\"#FFA15A\",\"#19d3f3\",\"#FF6692\",\"#B6E880\",\"#FF97FF\",\"#FECB52\"],\"font\":{\"color\":\"#2a3f5f\"},\"hovermode\":\"closest\",\"hoverlabel\":{\"align\":\"left\"},\"paper_bgcolor\":\"white\",\"plot_bgcolor\":\"#E5ECF6\",\"polar\":{\"bgcolor\":\"#E5ECF6\",\"angularaxis\":{\"gridcolor\":\"white\",\"linecolor\":\"white\",\"ticks\":\"\"},\"radialaxis\":{\"gridcolor\":\"white\",\"linecolor\":\"white\",\"ticks\":\"\"}},\"ternary\":{\"bgcolor\":\"#E5ECF6\",\"aaxis\":{\"gridcolor\":\"white\",\"linecolor\":\"white\",\"ticks\":\"\"},\"baxis\":{\"gridcolor\":\"white\",\"linecolor\":\"white\",\"ticks\":\"\"},\"caxis\":{\"gridcolor\":\"white\",\"linecolor\":\"white\",\"ticks\":\"\"}},\"coloraxis\":{\"colorbar\":{\"outlinewidth\":0,\"ticks\":\"\"}},\"colorscale\":{\"sequential\":[[0.0,\"#0d0887\"],[0.1111111111111111,\"#46039f\"],[0.2222222222222222,\"#7201a8\"],[0.3333333333333333,\"#9c179e\"],[0.4444444444444444,\"#bd3786\"],[0.5555555555555556,\"#d8576b\"],[0.6666666666666666,\"#ed7953\"],[0.7777777777777778,\"#fb9f3a\"],[0.8888888888888888,\"#fdca26\"],[1.0,\"#f0f921\"]],\"sequentialminus\":[[0.0,\"#0d0887\"],[0.1111111111111111,\"#46039f\"],[0.2222222222222222,\"#7201a8\"],[0.3333333333333333,\"#9c179e\"],[0.4444444444444444,\"#bd3786\"],[0.5555555555555556,\"#d8576b\"],[0.6666666666666666,\"#ed7953\"],[0.7777777777777778,\"#fb9f3a\"],[0.8888888888888888,\"#fdca26\"],[1.0,\"#f0f921\"]],\"diverging\":[[0,\"#8e0152\"],[0.1,\"#c51b7d\"],[0.2,\"#de77ae\"],[0.3,\"#f1b6da\"],[0.4,\"#fde0ef\"],[0.5,\"#f7f7f7\"],[0.6,\"#e6f5d0\"],[0.7,\"#b8e186\"],[0.8,\"#7fbc41\"],[0.9,\"#4d9221\"],[1,\"#276419\"]]},\"xaxis\":{\"gridcolor\":\"white\",\"linecolor\":\"white\",\"ticks\":\"\",\"title\":{\"standoff\":15},\"zerolinecolor\":\"white\",\"automargin\":true,\"zerolinewidth\":2},\"yaxis\":{\"gridcolor\":\"white\",\"linecolor\":\"white\",\"ticks\":\"\",\"title\":{\"standoff\":15},\"zerolinecolor\":\"white\",\"automargin\":true,\"zerolinewidth\":2},\"scene\":{\"xaxis\":{\"backgroundcolor\":\"#E5ECF6\",\"gridcolor\":\"white\",\"linecolor\":\"white\",\"showbackground\":true,\"ticks\":\"\",\"zerolinecolor\":\"white\",\"gridwidth\":2},\"yaxis\":{\"backgroundcolor\":\"#E5ECF6\",\"gridcolor\":\"white\",\"linecolor\":\"white\",\"showbackground\":true,\"ticks\":\"\",\"zerolinecolor\":\"white\",\"gridwidth\":2},\"zaxis\":{\"backgroundcolor\":\"#E5ECF6\",\"gridcolor\":\"white\",\"linecolor\":\"white\",\"showbackground\":true,\"ticks\":\"\",\"zerolinecolor\":\"white\",\"gridwidth\":2}},\"shapedefaults\":{\"line\":{\"color\":\"#2a3f5f\"}},\"annotationdefaults\":{\"arrowcolor\":\"#2a3f5f\",\"arrowhead\":0,\"arrowwidth\":1},\"geo\":{\"bgcolor\":\"white\",\"landcolor\":\"#E5ECF6\",\"subunitcolor\":\"white\",\"showland\":true,\"showlakes\":true,\"lakecolor\":\"white\"},\"title\":{\"x\":0.05},\"mapbox\":{\"style\":\"light\"}}},\"xaxis\":{\"anchor\":\"y\",\"domain\":[0.0,1.0],\"title\":{\"text\":\"TSNE-2D-1\"},\"showgrid\":false,\"zeroline\":false},\"yaxis\":{\"anchor\":\"x\",\"domain\":[0.0,1.0],\"title\":{\"text\":\"TSNE-2D-2\"},\"showgrid\":false,\"zeroline\":false},\"legend\":{\"title\":{\"text\":\"Variant\"},\"tracegroupgap\":0},\"margin\":{\"t\":60},\"font\":{\"family\":\"Courier New, monospace\",\"size\":18,\"color\":\"RebeccaPurple\"}},                        {\"responsive\": true}                    ).then(function(){\n                            \nvar gd = document.getElementById('32b9c96b-b936-4897-a67f-c1e82dea85bc');\nvar x = new MutationObserver(function (mutations, observer) {{\n        var display = window.getComputedStyle(gd).display;\n        if (!display || display === 'none') {{\n            console.log([gd, 'removed!']);\n            Plotly.purge(gd);\n            observer.disconnect();\n        }}\n}});\n\n// Listen for the removal of the full notebook cells\nvar notebookContainer = gd.closest('#notebook-container');\nif (notebookContainer) {{\n    x.observe(notebookContainer, {childList: true});\n}}\n\n// Listen for the clearing of the current output cell\nvar outputEl = gd.closest('.output');\nif (outputEl) {{\n    x.observe(outputEl, {childList: true});\n}}\n\n                        })                };                });            </script>        </div>"
     },
     "metadata": {},
     "output_type": "display_data"
    },
    {
     "name": "stdout",
     "output_type": "stream",
     "text": [
      "[t-SNE] Computing 121 nearest neighbors...\n",
      "[t-SNE] Indexed 497 samples in 0.060s...\n",
      "[t-SNE] Computed neighbors for 497 samples in 0.142s...\n",
      "[t-SNE] Computed conditional probabilities for sample 497 / 497\n",
      "[t-SNE] Mean sigma: 10.754220\n",
      "[t-SNE] KL divergence after 250 iterations with early exaggeration: 51.333893\n",
      "[t-SNE] KL divergence after 300 iterations: 0.368974\n"
     ]
    },
    {
     "data": {
      "application/vnd.plotly.v1+json": {
       "data": [
        {
         "hovertemplate": "Variant=Alpha<br>0=%{x}<br>1=%{y}<extra></extra>",
         "legendgroup": "Alpha",
         "marker": {
          "color": "#636efa",
          "symbol": "circle"
         },
         "mode": "markers",
         "name": "Alpha",
         "orientation": "v",
         "showlegend": true,
         "x": [
          -1.0351200103759766,
          -7.674575328826904,
          -7.760470390319824,
          -1.1311699151992798,
          -0.8753509521484375,
          -7.689067840576172,
          -7.108253002166748,
          -7.6863322257995605,
          -7.870642185211182,
          -7.862231731414795,
          -8.541971206665039,
          -7.002005100250244,
          -7.461859226226807,
          -7.77816915512085,
          -1.2739763259887695,
          -8.798565864562988,
          -7.632416725158691,
          -0.798612654209137,
          -7.389195442199707,
          -1.0395095348358154,
          -1.1131207942962646,
          -0.8136144280433655,
          -7.9131364822387695,
          -7.209178447723389,
          -0.6125406622886658,
          -8.78464126586914,
          -7.599480152130127,
          -7.819699764251709,
          -7.671355724334717,
          -7.642167091369629,
          -7.605461597442627,
          -0.9059033393859863,
          -8.161423683166504,
          -7.6045637130737305,
          -4.67124080657959,
          -8.89379596710205,
          -1.0994030237197876,
          -7.5611138343811035,
          -7.1731133460998535,
          -0.9737655520439148,
          -1.0399134159088135,
          -1.1037482023239136,
          -7.149930953979492,
          -7.331763744354248,
          -7.760009288787842,
          -1.1098673343658447,
          -7.247213363647461,
          -1.1046743392944336,
          -7.595786094665527,
          -0.5964251756668091,
          -7.768094062805176,
          -7.088380336761475,
          -3.687465190887451,
          -7.879393100738525,
          -7.22420072555542
         ],
         "xaxis": "x",
         "y": [
          12.079835891723633,
          10.190455436706543,
          10.794584274291992,
          12.122264862060547,
          11.910905838012695,
          9.744564056396484,
          10.851407051086426,
          10.692227363586426,
          10.603693962097168,
          10.521477699279785,
          9.094666481018066,
          10.909244537353516,
          9.473280906677246,
          10.65467643737793,
          12.0579195022583,
          9.251884460449219,
          10.512320518493652,
          11.358092308044434,
          11.413113594055176,
          12.089542388916016,
          12.101369857788086,
          11.662477493286133,
          8.891799926757812,
          10.68347454071045,
          11.328455924987793,
          8.64938735961914,
          10.502189636230469,
          10.89653205871582,
          10.453722953796387,
          10.457138061523438,
          10.493803977966309,
          12.39114761352539,
          8.326997756958008,
          10.599324226379395,
          3.3829164505004883,
          9.014427185058594,
          12.117459297180176,
          10.50072193145752,
          10.701504707336426,
          10.774163246154785,
          12.290822982788086,
          12.104548454284668,
          10.45580005645752,
          10.536561012268066,
          9.690900802612305,
          12.096807479858398,
          10.755857467651367,
          12.127226829528809,
          10.483728408813477,
          1.9200586080551147,
          10.67066478729248,
          10.737116813659668,
          6.137479305267334,
          10.899834632873535,
          10.707623481750488
         ],
         "yaxis": "y",
         "type": "scatter"
        },
        {
         "hovertemplate": "Variant=Beta<br>0=%{x}<br>1=%{y}<extra></extra>",
         "legendgroup": "Beta",
         "marker": {
          "color": "#EF553B",
          "symbol": "circle"
         },
         "mode": "markers",
         "name": "Beta",
         "orientation": "v",
         "showlegend": true,
         "x": [
          -7.882915019989014,
          -7.019989490509033,
          2.0611114501953125,
          2.1339073181152344,
          -6.022634506225586,
          2.165968179702759,
          2.5337235927581787,
          -6.517220497131348,
          -6.832987308502197,
          2.1024978160858154,
          -6.552431583404541,
          2.1209778785705566,
          2.1834285259246826,
          1.7635469436645508,
          -6.520113945007324,
          -6.521803855895996,
          -6.0917277336120605,
          2.0410468578338623,
          -6.9527788162231445,
          -6.636079788208008,
          -6.492275714874268,
          -5.71788215637207,
          2.5232696533203125,
          2.1255033016204834,
          -6.03373908996582,
          -6.423676490783691,
          2.72438907623291,
          2.489366292953491,
          -6.008570194244385,
          -7.4298505783081055,
          2.676758289337158,
          -4.69783878326416,
          -3.6877079010009766,
          0.7446944713592529,
          -6.53253173828125,
          2.4023983478546143,
          -6.527223110198975,
          2.1276330947875977,
          -6.183094024658203,
          -6.791961669921875,
          2.1410601139068604,
          -6.52678918838501,
          2.126929521560669,
          2.5307021141052246,
          1.1840344667434692,
          -6.225051403045654,
          2.647481918334961,
          2.612565040588379,
          -6.583181858062744,
          1.5590870380401611,
          -6.045835018157959,
          -6.53103494644165,
          -6.5556864738464355,
          -6.481109142303467,
          2.460428476333618,
          -5.999110221862793,
          2.1232893466949463,
          1.5865541696548462,
          -6.533105373382568,
          2.6294004917144775,
          2.0626943111419678,
          -5.986212730407715,
          -6.289824962615967,
          2.7296524047851562
         ],
         "xaxis": "x",
         "y": [
          6.488245487213135,
          5.564748287200928,
          11.080587387084961,
          11.09267807006836,
          7.282619953155518,
          11.311127662658691,
          11.962340354919434,
          6.5842132568359375,
          6.526251792907715,
          11.081486701965332,
          6.578755855560303,
          11.079293251037598,
          11.033862113952637,
          11.272931098937988,
          6.601358890533447,
          6.631036758422852,
          7.199200630187988,
          11.114962577819824,
          7.148188591003418,
          6.568778038024902,
          6.553294658660889,
          5.35215950012207,
          12.057198524475098,
          11.10269546508789,
          6.153416633605957,
          6.408106803894043,
          10.410948753356934,
          10.652003288269043,
          7.305132865905762,
          5.9611053466796875,
          10.441404342651367,
          3.480254888534546,
          6.147887229919434,
          9.902064323425293,
          6.596733093261719,
          11.295245170593262,
          6.579129695892334,
          11.068958282470703,
          7.071495532989502,
          6.51906156539917,
          11.058234214782715,
          6.592125415802002,
          11.103535652160645,
          12.127669334411621,
          10.339240074157715,
          6.106301307678223,
          10.453808784484863,
          10.474136352539062,
          6.578092575073242,
          11.248385429382324,
          7.2316460609436035,
          6.579077243804932,
          6.566084861755371,
          6.477039813995361,
          10.6890869140625,
          7.299439907073975,
          11.072824478149414,
          10.729730606079102,
          6.569511890411377,
          10.492910385131836,
          11.103041648864746,
          5.57771110534668,
          6.865808010101318,
          10.460561752319336
         ],
         "yaxis": "y",
         "type": "scatter"
        },
        {
         "hovertemplate": "Variant=Delta<br>0=%{x}<br>1=%{y}<extra></extra>",
         "legendgroup": "Delta",
         "marker": {
          "color": "#00cc96",
          "symbol": "circle"
         },
         "mode": "markers",
         "name": "Delta",
         "orientation": "v",
         "showlegend": true,
         "x": [
          1.2767198085784912,
          -0.6260797381401062,
          -3.652194023132324,
          0.8261182308197021,
          0.6351072788238525,
          1.9387329816818237,
          -3.8559494018554688,
          0.8597639203071594,
          0.8141451478004456,
          -4.50582218170166,
          2.1920833587646484,
          0.24737773835659027,
          -0.379357248544693,
          0.9547555446624756,
          -4.266231060028076,
          -3.8626444339752197,
          -2.5213921070098877,
          3.028440237045288,
          2.6294379234313965,
          -4.656704425811768,
          -4.0410027503967285,
          1.0178468227386475,
          0.8421198725700378,
          0.7437212467193604,
          0.884506344795227,
          0.7295470833778381,
          -4.454567909240723,
          0.6841983199119568,
          0.7168038487434387,
          -0.835142195224762,
          -3.1704561710357666,
          0.8580309152603149,
          -3.8635475635528564,
          0.6078815460205078,
          -1.2158122062683105,
          0.8032350540161133,
          1.3687021732330322,
          2.62640643119812,
          0.266122430562973,
          -3.17645525932312,
          0.7556042075157166,
          0.7723944187164307,
          1.926088571548462,
          0.7912277579307556,
          -3.9059505462646484,
          0.2857453525066376,
          -3.8667047023773193,
          2.6624302864074707,
          0.6780757904052734,
          2.68894362449646,
          0.45620447397232056,
          -0.9362140893936157,
          -0.983539342880249,
          1.3000215291976929,
          -0.7963325381278992,
          -3.860943555831909,
          -3.3644368648529053,
          -3.9772636890411377,
          2.3792059421539307,
          -3.865380048751831,
          2.025730609893799,
          1.2959245443344116,
          -4.4108734130859375,
          0.7257113456726074,
          -3.87481427192688,
          -3.871983766555786
         ],
         "xaxis": "x",
         "y": [
          5.975470542907715,
          6.043951988220215,
          8.775644302368164,
          6.705875396728516,
          6.697940349578857,
          6.851866722106934,
          9.47553825378418,
          6.781641960144043,
          6.729867458343506,
          4.583716869354248,
          6.658371448516846,
          6.3489789962768555,
          6.2211809158325195,
          6.786702632904053,
          8.651473045349121,
          8.945935249328613,
          4.413830280303955,
          7.0753092765808105,
          7.003499984741211,
          3.7524642944335938,
          9.609603881835938,
          6.05325174331665,
          6.71818733215332,
          6.729311943054199,
          6.805441856384277,
          7.384301662445068,
          3.4754741191864014,
          5.646548271179199,
          6.790119647979736,
          5.733758449554443,
          8.01343059539795,
          6.673534870147705,
          9.001561164855957,
          6.527985095977783,
          6.350702285766602,
          6.730088233947754,
          5.815643787384033,
          6.97587251663208,
          6.362856864929199,
          8.050490379333496,
          6.847870826721191,
          6.728148460388184,
          6.839787483215332,
          6.758055686950684,
          8.902657508850098,
          6.786704063415527,
          8.964056968688965,
          6.982626914978027,
          6.72957181930542,
          7.002802848815918,
          7.03371524810791,
          6.276878833770752,
          6.325622081756592,
          5.93506383895874,
          5.77170467376709,
          9.047685623168945,
          8.148148536682129,
          9.022603034973145,
          6.93717622756958,
          8.964007377624512,
          6.811404705047607,
          5.95695686340332,
          4.776161193847656,
          6.677627086639404,
          8.941372871398926,
          8.945978164672852
         ],
         "yaxis": "y",
         "type": "scatter"
        },
        {
         "hovertemplate": "Variant=Omicron<br>0=%{x}<br>1=%{y}<extra></extra>",
         "legendgroup": "Omicron",
         "marker": {
          "color": "#ab63fa",
          "symbol": "circle"
         },
         "mode": "markers",
         "name": "Omicron",
         "orientation": "v",
         "showlegend": true,
         "x": [
          6.660373210906982,
          -0.1674719750881195,
          2.5313358306884766,
          -4.096022129058838,
          8.053943634033203,
          -0.9073613286018372,
          -7.023139476776123,
          -6.998703479766846,
          0.40551236271858215,
          8.32546615600586,
          -3.959907293319702,
          3.279165029525757,
          -1.860268473625183,
          -2.679335832595825,
          0.6726718544960022,
          0.3865051865577698,
          1.245153546333313,
          8.224435806274414,
          1.0221790075302124,
          -1.0615321397781372,
          6.048659801483154,
          0.797271192073822,
          3.707608699798584,
          7.168444633483887,
          -3.848588466644287,
          7.856088161468506,
          -1.902956485748291,
          6.047222137451172,
          8.38131046295166,
          -2.9136979579925537,
          0.3572448790073395,
          4.00074577331543,
          -1.8464064598083496,
          -0.17153221368789673,
          -3.855119228363037,
          6.646618366241455,
          1.3195394277572632,
          0.1027454361319542,
          0.6485016345977783,
          -4.101983547210693,
          -1.4554433822631836,
          -3.2211127281188965,
          -1.973372459411621,
          -1.9116086959838867,
          4.792399883270264,
          -3.6079773902893066,
          5.733786106109619,
          8.53909969329834,
          3.7296857833862305,
          -0.5009355545043945,
          -4.231847286224365,
          0.17384663224220276,
          1.129945158958435,
          -4.057227611541748,
          -2.4939911365509033,
          -1.6099655628204346,
          1.5017884969711304,
          7.60252046585083,
          -1.9280548095703125,
          3.8203165531158447,
          3.8944811820983887,
          1.4250373840332031,
          7.997403621673584,
          1.297102928161621,
          -0.4264488220214844,
          -3.7483010292053223,
          0.07953493297100067,
          -0.26419728994369507,
          0.4091762900352478,
          -6.264653205871582,
          7.737216472625732,
          0.7158061265945435,
          8.864459991455078,
          -4.095017433166504,
          0.9852664470672607,
          -1.6283310651779175,
          0.3421582579612732,
          -0.11401578783988953,
          7.889551639556885,
          -2.392758846282959,
          0.09209054708480835,
          -0.09590519219636917,
          -0.6191531419754028,
          5.961588382720947,
          -6.259260654449463,
          1.9332923889160156,
          0.6452637910842896,
          7.618098735809326,
          1.6258227825164795,
          -4.188986301422119,
          0.3012555241584778,
          -4.141973495483398,
          0.7967795729637146,
          3.10977840423584,
          0.19690214097499847,
          1.5035008192062378,
          0.17849582433700562,
          0.8314315676689148,
          1.6497745513916016,
          -1.8647494316101074,
          -1.0187429189682007,
          -0.5667649507522583,
          5.9611077308654785,
          0.03854900225996971,
          -3.010316848754883,
          -4.254984378814697,
          8.044699668884277,
          -2.28562331199646,
          7.73578405380249,
          -1.340868592262268,
          -0.8540827631950378,
          -6.270322322845459,
          8.352554321289062,
          -0.5058290958404541,
          -4.099496364593506,
          7.713644504547119,
          0.5481822490692139,
          8.032858848571777,
          2.162814140319824,
          0.7441942095756531,
          -0.009755106642842293,
          -2.869938850402832,
          7.761010646820068,
          -4.073999404907227,
          -7.056613445281982,
          6.52245569229126,
          6.047184467315674,
          3.7600793838500977,
          -4.1307878494262695,
          -1.9016410112380981,
          -0.14455433189868927,
          -0.7838918566703796,
          1.2247661352157593,
          -6.273543834686279,
          -0.2559617757797241,
          -0.06719980388879776,
          3.065653085708618,
          6.650866985321045,
          8.226213455200195,
          -3.3348326683044434,
          0.862372875213623,
          3.0369250774383545,
          6.0480475425720215,
          0.6379128098487854,
          -2.1395421028137207,
          6.582352638244629,
          6.128045558929443,
          0.7211939096450806,
          7.700801849365234,
          3.9970388412475586,
          -0.012400449253618717,
          0.4009932577610016,
          -0.5311247706413269,
          7.842343807220459,
          1.0731916427612305,
          -0.6347758769989014,
          -6.270309925079346,
          3.798814296722412,
          -2.279418706893921,
          -7.023142337799072,
          2.5739383697509766,
          -2.4226016998291016,
          -0.1125066727399826,
          -1.7487221956253052,
          1.2151073217391968,
          -0.8645265102386475,
          1.3221962451934814,
          -0.44940152764320374,
          -6.144840717315674,
          7.539078235626221,
          8.258275985717773,
          7.929507732391357,
          -4.465255260467529,
          -2.036375045776367,
          -0.8467369079589844,
          6.162317276000977,
          1.5411251783370972,
          7.903581619262695,
          -2.231919527053833,
          6.514159202575684,
          8.288074493408203,
          -2.5424890518188477,
          1.8244178295135498,
          -0.41532495617866516,
          -1.4459470510482788,
          1.4730662107467651,
          6.625272750854492,
          1.6507067680358887,
          -7.028933525085449,
          3.735714912414551,
          -7.021218299865723,
          9.232818603515625,
          -0.30104172229766846,
          -3.378479480743408,
          1.5874214172363281,
          0.34334662556648254,
          6.0444464683532715,
          8.8599271774292,
          5.868611812591553,
          1.5774531364440918,
          -1.2351152896881104,
          8.410679817199707,
          -0.8578318357467651,
          4.543585300445557,
          4.193897247314453,
          1.4402092695236206,
          7.850461959838867,
          -6.274074554443359,
          3.0641376972198486,
          -1.2942265272140503,
          9.038350105285645,
          -6.268728256225586,
          7.420375823974609,
          0.36099255084991455,
          3.110795021057129,
          5.562714576721191,
          9.276994705200195,
          -2.4340789318084717,
          -1.9045828580856323,
          -0.6802465319633484,
          7.079892158508301,
          8.600608825683594,
          -2.2931368350982666,
          9.788604736328125,
          6.046056747436523,
          -2.4821813106536865,
          0.11811075359582901,
          0.6441594958305359,
          4.921285152435303,
          7.879170894622803,
          -1.9006932973861694,
          1.3176945447921753,
          2.050346612930298,
          -2.5164549350738525,
          -1.4474143981933594,
          -1.5459544658660889,
          -2.531383991241455,
          9.57815170288086,
          0.40672925114631653,
          5.983757495880127,
          -2.1002821922302246,
          7.946837902069092,
          1.983660340309143,
          -5.405106067657471,
          -4.390015125274658,
          2.5202505588531494,
          7.903853416442871,
          0.08318661898374557,
          6.052600383758545,
          3.9463303089141846,
          6.0948872566223145,
          0.9413377046585083,
          0.170419842004776,
          -0.6267918348312378,
          -1.6786898374557495,
          -7.058536052703857,
          7.621257781982422,
          8.593610763549805,
          -2.3958451747894287,
          -1.3303027153015137,
          -0.9482043385505676,
          2.264253854751587,
          -1.8979146480560303,
          -2.1442487239837646,
          -1.9331774711608887,
          3.8590097427368164,
          7.427844047546387,
          4.953941345214844,
          1.0116063356399536,
          0.8093768954277039,
          3.7272045612335205,
          -1.944632649421692,
          3.1820006370544434
         ],
         "xaxis": "x",
         "y": [
          0.2850213348865509,
          -1.0917960405349731,
          -5.147284507751465,
          -9.481555938720703,
          -4.657200336456299,
          -5.163456439971924,
          1.564871072769165,
          1.7493786811828613,
          -5.688273906707764,
          -4.144720554351807,
          -1.2993468046188354,
          0.8572123050689697,
          -2.197584629058838,
          -0.5284755229949951,
          -5.708641529083252,
          -1.1912933588027954,
          -7.46188497543335,
          -4.647633075714111,
          -6.3106207847595215,
          -4.244573593139648,
          0.5024055242538452,
          -7.058895111083984,
          -10.413174629211426,
          -3.697671890258789,
          -9.577083587646484,
          -4.399919033050537,
          -4.9624762535095215,
          0.5121169090270996,
          -4.489165306091309,
          0.6508644819259644,
          -6.520921230316162,
          -13.318748474121094,
          -4.916627883911133,
          -6.724061965942383,
          -9.572880744934082,
          0.2504076063632965,
          -5.12517786026001,
          -6.930974960327148,
          -5.787875652313232,
          -9.483037948608398,
          -0.5570759177207947,
          -5.504183769226074,
          -5.0364837646484375,
          -5.008025169372559,
          0.23174737393856049,
          -9.731611251831055,
          0.4174237549304962,
          -4.795466423034668,
          -13.06800651550293,
          -3.5508408546447754,
          -9.403350830078125,
          -7.457905292510986,
          -10.185114860534668,
          -9.490859985351562,
          -1.4157291650772095,
          -5.92880392074585,
          -6.3717732429504395,
          -4.188030242919922,
          -5.629262447357178,
          1.496452808380127,
          -13.134140014648438,
          -6.286375522613525,
          -4.744161605834961,
          -4.995769023895264,
          -3.656407356262207,
          -1.1788054704666138,
          -5.218689918518066,
          -7.463955879211426,
          -7.394460678100586,
          -4.6218414306640625,
          1.6942564249038696,
          -7.99711799621582,
          -4.42954158782959,
          -9.47909927368164,
          -7.3184661865234375,
          -0.8584182858467102,
          -8.30698013305664,
          -8.112939834594727,
          0.3753809332847595,
          -0.39918816089630127,
          -1.7854911088943481,
          -8.508055686950684,
          -2.984748601913452,
          0.46535125374794006,
          -4.612133979797363,
          -7.092763900756836,
          -6.941681861877441,
          1.5367892980575562,
          1.413385033607483,
          -9.46095085144043,
          -7.750729084014893,
          -9.454092979431152,
          -7.059204578399658,
          0.8573341369628906,
          -6.439000606536865,
          -2.233304977416992,
          -6.361752033233643,
          -7.090051174163818,
          1.4145216941833496,
          -4.212504863739014,
          -6.637899875640869,
          -0.8562764525413513,
          0.49017173051834106,
          -1.0103451013565063,
          -1.3168511390686035,
          -9.47214126586914,
          -4.808408260345459,
          -2.6056065559387207,
          -4.328797817230225,
          -1.7897367477416992,
          0.8061665892601013,
          -4.629373073577881,
          -4.250290393829346,
          -8.072936058044434,
          -8.595195770263672,
          0.28908586502075195,
          -2.7008073329925537,
          -4.350057601928711,
          1.350308895111084,
          -7.066236972808838,
          -7.633691787719727,
          0.3375661075115204,
          0.21879731118679047,
          -9.489676475524902,
          1.0527644157409668,
          -5.586969375610352,
          0.501179039478302,
          -12.882942199707031,
          -9.462970733642578,
          -5.0439300537109375,
          -7.42430305480957,
          1.5867116451263428,
          -7.7403645515441895,
          -4.633880615234375,
          -7.479022026062012,
          -6.876267433166504,
          0.8546382188796997,
          0.25927677750587463,
          -4.564493656158447,
          0.08316099643707275,
          -7.159661769866943,
          0.8864179253578186,
          0.924310564994812,
          -7.0312180519104,
          -1.3874142169952393,
          0.3823803961277008,
          1.7788259983062744,
          -5.925716876983643,
          1.5287765264511108,
          -4.785597801208496,
          -7.619130611419678,
          -6.888655662536621,
          -7.487257957458496,
          1.808575987815857,
          -2.269031286239624,
          -6.351170539855957,
          -4.628863334655762,
          -13.111509323120117,
          -4.595979690551758,
          1.6364507675170898,
          -6.812774181365967,
          -2.1592421531677246,
          -7.715301990509033,
          -0.1768294721841812,
          -7.105407238006592,
          -2.064648151397705,
          -7.154360771179199,
          -1.012593388557434,
          -4.458238124847412,
          -4.222426414489746,
          -4.279347896575928,
          -4.639184474945068,
          -9.4612398147583,
          -0.4162788987159729,
          -1.319980502128601,
          -0.7217499613761902,
          -8.437350273132324,
          -4.711156845092773,
          -6.073633670806885,
          -5.614024639129639,
          -4.7786664962768555,
          -2.081652879714966,
          -4.761316776275635,
          -8.029207229614258,
          -6.074637413024902,
          1.4152586460113525,
          0.9876096248626709,
          -3.854750871658325,
          1.3855875730514526,
          -13.046931266784668,
          1.324186086654663,
          -4.062660217285156,
          -3.6622419357299805,
          0.05344628542661667,
          1.3896552324295044,
          -6.559820175170898,
          1.6661847829818726,
          -4.349190711975098,
          -1.0102218389511108,
          -3.7383241653442383,
          -3.880448818206787,
          -4.6353888511657715,
          -1.313193917274475,
          -1.443637728691101,
          -12.316561698913574,
          -6.099818229675293,
          -4.86311149597168,
          -4.636443614959717,
          0.8495290875434875,
          0.4211225211620331,
          -5.572917938232422,
          -4.621479034423828,
          -4.307892799377441,
          -6.572814464569092,
          0.8601548671722412,
          0.22884570062160492,
          -4.036245346069336,
          -5.388144493103027,
          -5.594488143920898,
          -3.1528759002685547,
          0.4396040737628937,
          -4.157139778137207,
          -4.863840579986572,
          -4.13539981842041,
          0.5012994408607483,
          0.5022271871566772,
          -0.8785962462425232,
          -7.018921852111816,
          -4.788608074188232,
          -5.162497043609619,
          -5.013967990875244,
          -3.4744322299957275,
          -7.785741329193115,
          -0.36159420013427734,
          -0.5073111653327942,
          -2.5241823196411133,
          -0.9433062672615051,
          -4.227675437927246,
          -6.803529739379883,
          0.4663030505180359,
          -7.641966342926025,
          -5.28463888168335,
          -6.094738960266113,
          -3.541994571685791,
          -9.756759643554688,
          -5.250467300415039,
          -4.8049187660217285,
          -2.5480759143829346,
          0.5140623450279236,
          -12.756562232971191,
          1.876078724861145,
          -5.5514044761657715,
          -2.5368542671203613,
          -8.701793670654297,
          -5.885456085205078,
          1.0588849782943726,
          -4.149612903594971,
          -4.496888160705566,
          -0.56915283203125,
          -2.9173097610473633,
          -2.414363145828247,
          -11.412769317626953,
          -3.270984411239624,
          -6.213590621948242,
          -7.77996301651001,
          1.4767625331878662,
          -5.639362335205078,
          -1.3689453601837158,
          -7.170870304107666,
          -6.867212295532227,
          -13.102226257324219,
          -1.2601782083511353,
          0.8497577905654907
         ],
         "yaxis": "y",
         "type": "scatter"
        },
        {
         "hovertemplate": "Variant=Omicron Sub<br>0=%{x}<br>1=%{y}<extra></extra>",
         "legendgroup": "Omicron Sub",
         "marker": {
          "color": "#FFA15A",
          "symbol": "circle"
         },
         "mode": "markers",
         "name": "Omicron Sub",
         "orientation": "v",
         "showlegend": true,
         "x": [
          3.4639904499053955,
          -2.9562828540802,
          -2.955038547515869,
          2.545559883117676,
          3.7181973457336426,
          3.759880304336548,
          2.8787217140197754,
          3.8388607501983643,
          2.5225510597229004,
          3.9205005168914795,
          3.7171454429626465,
          3.8834781646728516,
          3.743591785430908,
          4.198472023010254,
          2.7527849674224854,
          3.265097141265869,
          2.7685487270355225,
          2.8099606037139893,
          3.7990267276763916,
          2.0811643600463867,
          3.962053060531616,
          2.332514762878418,
          3.5330023765563965,
          1.3132884502410889,
          5.31942892074585,
          4.0294718742370605,
          1.8191859722137451,
          3.4954795837402344,
          3.008553981781006,
          3.8738296031951904,
          4.149966239929199,
          3.7221298217773438,
          -3.1861886978149414,
          3.817701816558838,
          3.250333309173584,
          2.0435640811920166,
          4.172379493713379,
          2.8705637454986572,
          3.846809148788452
         ],
         "xaxis": "x",
         "y": [
          -12.396926879882812,
          1.7902543544769287,
          1.7897725105285645,
          -11.88841438293457,
          -13.064289093017578,
          -13.015759468078613,
          -13.826547622680664,
          -12.760109901428223,
          -13.688316345214844,
          -13.25936222076416,
          -12.957518577575684,
          -9.58035945892334,
          -13.1143217086792,
          -13.337589263916016,
          -13.846779823303223,
          0.8313701748847961,
          -13.814312934875488,
          -14.039815902709961,
          -10.465398788452148,
          -11.327351570129395,
          -13.245080947875977,
          -11.648444175720215,
          -10.294027328491211,
          -2.3932840824127197,
          -0.6944954991340637,
          -12.712639808654785,
          -2.432706594467163,
          -12.80362606048584,
          -13.46926498413086,
          -9.527849197387695,
          -13.401470184326172,
          -13.0602445602417,
          -0.9118760824203491,
          -12.810454368591309,
          -11.717238426208496,
          -10.636353492736816,
          -12.75533676147461,
          -11.933911323547363,
          -13.14706802368164
         ],
         "yaxis": "y",
         "type": "scatter"
        }
       ],
       "layout": {
        "template": {
         "data": {
          "histogram2dcontour": [
           {
            "type": "histogram2dcontour",
            "colorbar": {
             "outlinewidth": 0,
             "ticks": ""
            },
            "colorscale": [
             [
              0.0,
              "#0d0887"
             ],
             [
              0.1111111111111111,
              "#46039f"
             ],
             [
              0.2222222222222222,
              "#7201a8"
             ],
             [
              0.3333333333333333,
              "#9c179e"
             ],
             [
              0.4444444444444444,
              "#bd3786"
             ],
             [
              0.5555555555555556,
              "#d8576b"
             ],
             [
              0.6666666666666666,
              "#ed7953"
             ],
             [
              0.7777777777777778,
              "#fb9f3a"
             ],
             [
              0.8888888888888888,
              "#fdca26"
             ],
             [
              1.0,
              "#f0f921"
             ]
            ]
           }
          ],
          "choropleth": [
           {
            "type": "choropleth",
            "colorbar": {
             "outlinewidth": 0,
             "ticks": ""
            }
           }
          ],
          "histogram2d": [
           {
            "type": "histogram2d",
            "colorbar": {
             "outlinewidth": 0,
             "ticks": ""
            },
            "colorscale": [
             [
              0.0,
              "#0d0887"
             ],
             [
              0.1111111111111111,
              "#46039f"
             ],
             [
              0.2222222222222222,
              "#7201a8"
             ],
             [
              0.3333333333333333,
              "#9c179e"
             ],
             [
              0.4444444444444444,
              "#bd3786"
             ],
             [
              0.5555555555555556,
              "#d8576b"
             ],
             [
              0.6666666666666666,
              "#ed7953"
             ],
             [
              0.7777777777777778,
              "#fb9f3a"
             ],
             [
              0.8888888888888888,
              "#fdca26"
             ],
             [
              1.0,
              "#f0f921"
             ]
            ]
           }
          ],
          "heatmap": [
           {
            "type": "heatmap",
            "colorbar": {
             "outlinewidth": 0,
             "ticks": ""
            },
            "colorscale": [
             [
              0.0,
              "#0d0887"
             ],
             [
              0.1111111111111111,
              "#46039f"
             ],
             [
              0.2222222222222222,
              "#7201a8"
             ],
             [
              0.3333333333333333,
              "#9c179e"
             ],
             [
              0.4444444444444444,
              "#bd3786"
             ],
             [
              0.5555555555555556,
              "#d8576b"
             ],
             [
              0.6666666666666666,
              "#ed7953"
             ],
             [
              0.7777777777777778,
              "#fb9f3a"
             ],
             [
              0.8888888888888888,
              "#fdca26"
             ],
             [
              1.0,
              "#f0f921"
             ]
            ]
           }
          ],
          "heatmapgl": [
           {
            "type": "heatmapgl",
            "colorbar": {
             "outlinewidth": 0,
             "ticks": ""
            },
            "colorscale": [
             [
              0.0,
              "#0d0887"
             ],
             [
              0.1111111111111111,
              "#46039f"
             ],
             [
              0.2222222222222222,
              "#7201a8"
             ],
             [
              0.3333333333333333,
              "#9c179e"
             ],
             [
              0.4444444444444444,
              "#bd3786"
             ],
             [
              0.5555555555555556,
              "#d8576b"
             ],
             [
              0.6666666666666666,
              "#ed7953"
             ],
             [
              0.7777777777777778,
              "#fb9f3a"
             ],
             [
              0.8888888888888888,
              "#fdca26"
             ],
             [
              1.0,
              "#f0f921"
             ]
            ]
           }
          ],
          "contourcarpet": [
           {
            "type": "contourcarpet",
            "colorbar": {
             "outlinewidth": 0,
             "ticks": ""
            }
           }
          ],
          "contour": [
           {
            "type": "contour",
            "colorbar": {
             "outlinewidth": 0,
             "ticks": ""
            },
            "colorscale": [
             [
              0.0,
              "#0d0887"
             ],
             [
              0.1111111111111111,
              "#46039f"
             ],
             [
              0.2222222222222222,
              "#7201a8"
             ],
             [
              0.3333333333333333,
              "#9c179e"
             ],
             [
              0.4444444444444444,
              "#bd3786"
             ],
             [
              0.5555555555555556,
              "#d8576b"
             ],
             [
              0.6666666666666666,
              "#ed7953"
             ],
             [
              0.7777777777777778,
              "#fb9f3a"
             ],
             [
              0.8888888888888888,
              "#fdca26"
             ],
             [
              1.0,
              "#f0f921"
             ]
            ]
           }
          ],
          "surface": [
           {
            "type": "surface",
            "colorbar": {
             "outlinewidth": 0,
             "ticks": ""
            },
            "colorscale": [
             [
              0.0,
              "#0d0887"
             ],
             [
              0.1111111111111111,
              "#46039f"
             ],
             [
              0.2222222222222222,
              "#7201a8"
             ],
             [
              0.3333333333333333,
              "#9c179e"
             ],
             [
              0.4444444444444444,
              "#bd3786"
             ],
             [
              0.5555555555555556,
              "#d8576b"
             ],
             [
              0.6666666666666666,
              "#ed7953"
             ],
             [
              0.7777777777777778,
              "#fb9f3a"
             ],
             [
              0.8888888888888888,
              "#fdca26"
             ],
             [
              1.0,
              "#f0f921"
             ]
            ]
           }
          ],
          "mesh3d": [
           {
            "type": "mesh3d",
            "colorbar": {
             "outlinewidth": 0,
             "ticks": ""
            }
           }
          ],
          "scatter": [
           {
            "fillpattern": {
             "fillmode": "overlay",
             "size": 10,
             "solidity": 0.2
            },
            "type": "scatter"
           }
          ],
          "parcoords": [
           {
            "type": "parcoords",
            "line": {
             "colorbar": {
              "outlinewidth": 0,
              "ticks": ""
             }
            }
           }
          ],
          "scatterpolargl": [
           {
            "type": "scatterpolargl",
            "marker": {
             "colorbar": {
              "outlinewidth": 0,
              "ticks": ""
             }
            }
           }
          ],
          "bar": [
           {
            "error_x": {
             "color": "#2a3f5f"
            },
            "error_y": {
             "color": "#2a3f5f"
            },
            "marker": {
             "line": {
              "color": "#E5ECF6",
              "width": 0.5
             },
             "pattern": {
              "fillmode": "overlay",
              "size": 10,
              "solidity": 0.2
             }
            },
            "type": "bar"
           }
          ],
          "scattergeo": [
           {
            "type": "scattergeo",
            "marker": {
             "colorbar": {
              "outlinewidth": 0,
              "ticks": ""
             }
            }
           }
          ],
          "scatterpolar": [
           {
            "type": "scatterpolar",
            "marker": {
             "colorbar": {
              "outlinewidth": 0,
              "ticks": ""
             }
            }
           }
          ],
          "histogram": [
           {
            "marker": {
             "pattern": {
              "fillmode": "overlay",
              "size": 10,
              "solidity": 0.2
             }
            },
            "type": "histogram"
           }
          ],
          "scattergl": [
           {
            "type": "scattergl",
            "marker": {
             "colorbar": {
              "outlinewidth": 0,
              "ticks": ""
             }
            }
           }
          ],
          "scatter3d": [
           {
            "type": "scatter3d",
            "line": {
             "colorbar": {
              "outlinewidth": 0,
              "ticks": ""
             }
            },
            "marker": {
             "colorbar": {
              "outlinewidth": 0,
              "ticks": ""
             }
            }
           }
          ],
          "scattermapbox": [
           {
            "type": "scattermapbox",
            "marker": {
             "colorbar": {
              "outlinewidth": 0,
              "ticks": ""
             }
            }
           }
          ],
          "scatterternary": [
           {
            "type": "scatterternary",
            "marker": {
             "colorbar": {
              "outlinewidth": 0,
              "ticks": ""
             }
            }
           }
          ],
          "scattercarpet": [
           {
            "type": "scattercarpet",
            "marker": {
             "colorbar": {
              "outlinewidth": 0,
              "ticks": ""
             }
            }
           }
          ],
          "carpet": [
           {
            "aaxis": {
             "endlinecolor": "#2a3f5f",
             "gridcolor": "white",
             "linecolor": "white",
             "minorgridcolor": "white",
             "startlinecolor": "#2a3f5f"
            },
            "baxis": {
             "endlinecolor": "#2a3f5f",
             "gridcolor": "white",
             "linecolor": "white",
             "minorgridcolor": "white",
             "startlinecolor": "#2a3f5f"
            },
            "type": "carpet"
           }
          ],
          "table": [
           {
            "cells": {
             "fill": {
              "color": "#EBF0F8"
             },
             "line": {
              "color": "white"
             }
            },
            "header": {
             "fill": {
              "color": "#C8D4E3"
             },
             "line": {
              "color": "white"
             }
            },
            "type": "table"
           }
          ],
          "barpolar": [
           {
            "marker": {
             "line": {
              "color": "#E5ECF6",
              "width": 0.5
             },
             "pattern": {
              "fillmode": "overlay",
              "size": 10,
              "solidity": 0.2
             }
            },
            "type": "barpolar"
           }
          ],
          "pie": [
           {
            "automargin": true,
            "type": "pie"
           }
          ]
         },
         "layout": {
          "autotypenumbers": "strict",
          "colorway": [
           "#636efa",
           "#EF553B",
           "#00cc96",
           "#ab63fa",
           "#FFA15A",
           "#19d3f3",
           "#FF6692",
           "#B6E880",
           "#FF97FF",
           "#FECB52"
          ],
          "font": {
           "color": "#2a3f5f"
          },
          "hovermode": "closest",
          "hoverlabel": {
           "align": "left"
          },
          "paper_bgcolor": "white",
          "plot_bgcolor": "#E5ECF6",
          "polar": {
           "bgcolor": "#E5ECF6",
           "angularaxis": {
            "gridcolor": "white",
            "linecolor": "white",
            "ticks": ""
           },
           "radialaxis": {
            "gridcolor": "white",
            "linecolor": "white",
            "ticks": ""
           }
          },
          "ternary": {
           "bgcolor": "#E5ECF6",
           "aaxis": {
            "gridcolor": "white",
            "linecolor": "white",
            "ticks": ""
           },
           "baxis": {
            "gridcolor": "white",
            "linecolor": "white",
            "ticks": ""
           },
           "caxis": {
            "gridcolor": "white",
            "linecolor": "white",
            "ticks": ""
           }
          },
          "coloraxis": {
           "colorbar": {
            "outlinewidth": 0,
            "ticks": ""
           }
          },
          "colorscale": {
           "sequential": [
            [
             0.0,
             "#0d0887"
            ],
            [
             0.1111111111111111,
             "#46039f"
            ],
            [
             0.2222222222222222,
             "#7201a8"
            ],
            [
             0.3333333333333333,
             "#9c179e"
            ],
            [
             0.4444444444444444,
             "#bd3786"
            ],
            [
             0.5555555555555556,
             "#d8576b"
            ],
            [
             0.6666666666666666,
             "#ed7953"
            ],
            [
             0.7777777777777778,
             "#fb9f3a"
            ],
            [
             0.8888888888888888,
             "#fdca26"
            ],
            [
             1.0,
             "#f0f921"
            ]
           ],
           "sequentialminus": [
            [
             0.0,
             "#0d0887"
            ],
            [
             0.1111111111111111,
             "#46039f"
            ],
            [
             0.2222222222222222,
             "#7201a8"
            ],
            [
             0.3333333333333333,
             "#9c179e"
            ],
            [
             0.4444444444444444,
             "#bd3786"
            ],
            [
             0.5555555555555556,
             "#d8576b"
            ],
            [
             0.6666666666666666,
             "#ed7953"
            ],
            [
             0.7777777777777778,
             "#fb9f3a"
            ],
            [
             0.8888888888888888,
             "#fdca26"
            ],
            [
             1.0,
             "#f0f921"
            ]
           ],
           "diverging": [
            [
             0,
             "#8e0152"
            ],
            [
             0.1,
             "#c51b7d"
            ],
            [
             0.2,
             "#de77ae"
            ],
            [
             0.3,
             "#f1b6da"
            ],
            [
             0.4,
             "#fde0ef"
            ],
            [
             0.5,
             "#f7f7f7"
            ],
            [
             0.6,
             "#e6f5d0"
            ],
            [
             0.7,
             "#b8e186"
            ],
            [
             0.8,
             "#7fbc41"
            ],
            [
             0.9,
             "#4d9221"
            ],
            [
             1,
             "#276419"
            ]
           ]
          },
          "xaxis": {
           "gridcolor": "white",
           "linecolor": "white",
           "ticks": "",
           "title": {
            "standoff": 15
           },
           "zerolinecolor": "white",
           "automargin": true,
           "zerolinewidth": 2
          },
          "yaxis": {
           "gridcolor": "white",
           "linecolor": "white",
           "ticks": "",
           "title": {
            "standoff": 15
           },
           "zerolinecolor": "white",
           "automargin": true,
           "zerolinewidth": 2
          },
          "scene": {
           "xaxis": {
            "backgroundcolor": "#E5ECF6",
            "gridcolor": "white",
            "linecolor": "white",
            "showbackground": true,
            "ticks": "",
            "zerolinecolor": "white",
            "gridwidth": 2
           },
           "yaxis": {
            "backgroundcolor": "#E5ECF6",
            "gridcolor": "white",
            "linecolor": "white",
            "showbackground": true,
            "ticks": "",
            "zerolinecolor": "white",
            "gridwidth": 2
           },
           "zaxis": {
            "backgroundcolor": "#E5ECF6",
            "gridcolor": "white",
            "linecolor": "white",
            "showbackground": true,
            "ticks": "",
            "zerolinecolor": "white",
            "gridwidth": 2
           }
          },
          "shapedefaults": {
           "line": {
            "color": "#2a3f5f"
           }
          },
          "annotationdefaults": {
           "arrowcolor": "#2a3f5f",
           "arrowhead": 0,
           "arrowwidth": 1
          },
          "geo": {
           "bgcolor": "white",
           "landcolor": "#E5ECF6",
           "subunitcolor": "white",
           "showland": true,
           "showlakes": true,
           "lakecolor": "white"
          },
          "title": {
           "x": 0.05
          },
          "mapbox": {
           "style": "light"
          }
         }
        },
        "xaxis": {
         "anchor": "y",
         "domain": [
          0.0,
          1.0
         ],
         "title": {
          "text": "TSNE-2D-1"
         },
         "showgrid": false,
         "zeroline": false
        },
        "yaxis": {
         "anchor": "x",
         "domain": [
          0.0,
          1.0
         ],
         "title": {
          "text": "TSNE-2D-2"
         },
         "showgrid": false,
         "zeroline": false
        },
        "legend": {
         "title": {
          "text": "Variant"
         },
         "tracegroupgap": 0
        },
        "margin": {
         "t": 60
        },
        "font": {
         "family": "Courier New, monospace",
         "size": 18,
         "color": "RebeccaPurple"
        }
       },
       "config": {
        "plotlyServerURL": "https://plot.ly"
       }
      },
      "text/html": "<div>                            <div id=\"6145741b-b40f-486a-b7d2-24c0d76d4ad4\" class=\"plotly-graph-div\" style=\"height:525px; width:100%;\"></div>            <script type=\"text/javascript\">                require([\"plotly\"], function(Plotly) {                    window.PLOTLYENV=window.PLOTLYENV || {};                                    if (document.getElementById(\"6145741b-b40f-486a-b7d2-24c0d76d4ad4\")) {                    Plotly.newPlot(                        \"6145741b-b40f-486a-b7d2-24c0d76d4ad4\",                        [{\"hovertemplate\":\"Variant=Alpha\\u003cbr\\u003e0=%{x}\\u003cbr\\u003e1=%{y}\\u003cextra\\u003e\\u003c\\u002fextra\\u003e\",\"legendgroup\":\"Alpha\",\"marker\":{\"color\":\"#636efa\",\"symbol\":\"circle\"},\"mode\":\"markers\",\"name\":\"Alpha\",\"orientation\":\"v\",\"showlegend\":true,\"x\":[-1.0351200103759766,-7.674575328826904,-7.760470390319824,-1.1311699151992798,-0.8753509521484375,-7.689067840576172,-7.108253002166748,-7.6863322257995605,-7.870642185211182,-7.862231731414795,-8.541971206665039,-7.002005100250244,-7.461859226226807,-7.77816915512085,-1.2739763259887695,-8.798565864562988,-7.632416725158691,-0.798612654209137,-7.389195442199707,-1.0395095348358154,-1.1131207942962646,-0.8136144280433655,-7.9131364822387695,-7.209178447723389,-0.6125406622886658,-8.78464126586914,-7.599480152130127,-7.819699764251709,-7.671355724334717,-7.642167091369629,-7.605461597442627,-0.9059033393859863,-8.161423683166504,-7.6045637130737305,-4.67124080657959,-8.89379596710205,-1.0994030237197876,-7.5611138343811035,-7.1731133460998535,-0.9737655520439148,-1.0399134159088135,-1.1037482023239136,-7.149930953979492,-7.331763744354248,-7.760009288787842,-1.1098673343658447,-7.247213363647461,-1.1046743392944336,-7.595786094665527,-0.5964251756668091,-7.768094062805176,-7.088380336761475,-3.687465190887451,-7.879393100738525,-7.22420072555542],\"xaxis\":\"x\",\"y\":[12.079835891723633,10.190455436706543,10.794584274291992,12.122264862060547,11.910905838012695,9.744564056396484,10.851407051086426,10.692227363586426,10.603693962097168,10.521477699279785,9.094666481018066,10.909244537353516,9.473280906677246,10.65467643737793,12.0579195022583,9.251884460449219,10.512320518493652,11.358092308044434,11.413113594055176,12.089542388916016,12.101369857788086,11.662477493286133,8.891799926757812,10.68347454071045,11.328455924987793,8.64938735961914,10.502189636230469,10.89653205871582,10.453722953796387,10.457138061523438,10.493803977966309,12.39114761352539,8.326997756958008,10.599324226379395,3.3829164505004883,9.014427185058594,12.117459297180176,10.50072193145752,10.701504707336426,10.774163246154785,12.290822982788086,12.104548454284668,10.45580005645752,10.536561012268066,9.690900802612305,12.096807479858398,10.755857467651367,12.127226829528809,10.483728408813477,1.9200586080551147,10.67066478729248,10.737116813659668,6.137479305267334,10.899834632873535,10.707623481750488],\"yaxis\":\"y\",\"type\":\"scatter\"},{\"hovertemplate\":\"Variant=Beta\\u003cbr\\u003e0=%{x}\\u003cbr\\u003e1=%{y}\\u003cextra\\u003e\\u003c\\u002fextra\\u003e\",\"legendgroup\":\"Beta\",\"marker\":{\"color\":\"#EF553B\",\"symbol\":\"circle\"},\"mode\":\"markers\",\"name\":\"Beta\",\"orientation\":\"v\",\"showlegend\":true,\"x\":[-7.882915019989014,-7.019989490509033,2.0611114501953125,2.1339073181152344,-6.022634506225586,2.165968179702759,2.5337235927581787,-6.517220497131348,-6.832987308502197,2.1024978160858154,-6.552431583404541,2.1209778785705566,2.1834285259246826,1.7635469436645508,-6.520113945007324,-6.521803855895996,-6.0917277336120605,2.0410468578338623,-6.9527788162231445,-6.636079788208008,-6.492275714874268,-5.71788215637207,2.5232696533203125,2.1255033016204834,-6.03373908996582,-6.423676490783691,2.72438907623291,2.489366292953491,-6.008570194244385,-7.4298505783081055,2.676758289337158,-4.69783878326416,-3.6877079010009766,0.7446944713592529,-6.53253173828125,2.4023983478546143,-6.527223110198975,2.1276330947875977,-6.183094024658203,-6.791961669921875,2.1410601139068604,-6.52678918838501,2.126929521560669,2.5307021141052246,1.1840344667434692,-6.225051403045654,2.647481918334961,2.612565040588379,-6.583181858062744,1.5590870380401611,-6.045835018157959,-6.53103494644165,-6.5556864738464355,-6.481109142303467,2.460428476333618,-5.999110221862793,2.1232893466949463,1.5865541696548462,-6.533105373382568,2.6294004917144775,2.0626943111419678,-5.986212730407715,-6.289824962615967,2.7296524047851562],\"xaxis\":\"x\",\"y\":[6.488245487213135,5.564748287200928,11.080587387084961,11.09267807006836,7.282619953155518,11.311127662658691,11.962340354919434,6.5842132568359375,6.526251792907715,11.081486701965332,6.578755855560303,11.079293251037598,11.033862113952637,11.272931098937988,6.601358890533447,6.631036758422852,7.199200630187988,11.114962577819824,7.148188591003418,6.568778038024902,6.553294658660889,5.35215950012207,12.057198524475098,11.10269546508789,6.153416633605957,6.408106803894043,10.410948753356934,10.652003288269043,7.305132865905762,5.9611053466796875,10.441404342651367,3.480254888534546,6.147887229919434,9.902064323425293,6.596733093261719,11.295245170593262,6.579129695892334,11.068958282470703,7.071495532989502,6.51906156539917,11.058234214782715,6.592125415802002,11.103535652160645,12.127669334411621,10.339240074157715,6.106301307678223,10.453808784484863,10.474136352539062,6.578092575073242,11.248385429382324,7.2316460609436035,6.579077243804932,6.566084861755371,6.477039813995361,10.6890869140625,7.299439907073975,11.072824478149414,10.729730606079102,6.569511890411377,10.492910385131836,11.103041648864746,5.57771110534668,6.865808010101318,10.460561752319336],\"yaxis\":\"y\",\"type\":\"scatter\"},{\"hovertemplate\":\"Variant=Delta\\u003cbr\\u003e0=%{x}\\u003cbr\\u003e1=%{y}\\u003cextra\\u003e\\u003c\\u002fextra\\u003e\",\"legendgroup\":\"Delta\",\"marker\":{\"color\":\"#00cc96\",\"symbol\":\"circle\"},\"mode\":\"markers\",\"name\":\"Delta\",\"orientation\":\"v\",\"showlegend\":true,\"x\":[1.2767198085784912,-0.6260797381401062,-3.652194023132324,0.8261182308197021,0.6351072788238525,1.9387329816818237,-3.8559494018554688,0.8597639203071594,0.8141451478004456,-4.50582218170166,2.1920833587646484,0.24737773835659027,-0.379357248544693,0.9547555446624756,-4.266231060028076,-3.8626444339752197,-2.5213921070098877,3.028440237045288,2.6294379234313965,-4.656704425811768,-4.0410027503967285,1.0178468227386475,0.8421198725700378,0.7437212467193604,0.884506344795227,0.7295470833778381,-4.454567909240723,0.6841983199119568,0.7168038487434387,-0.835142195224762,-3.1704561710357666,0.8580309152603149,-3.8635475635528564,0.6078815460205078,-1.2158122062683105,0.8032350540161133,1.3687021732330322,2.62640643119812,0.266122430562973,-3.17645525932312,0.7556042075157166,0.7723944187164307,1.926088571548462,0.7912277579307556,-3.9059505462646484,0.2857453525066376,-3.8667047023773193,2.6624302864074707,0.6780757904052734,2.68894362449646,0.45620447397232056,-0.9362140893936157,-0.983539342880249,1.3000215291976929,-0.7963325381278992,-3.860943555831909,-3.3644368648529053,-3.9772636890411377,2.3792059421539307,-3.865380048751831,2.025730609893799,1.2959245443344116,-4.4108734130859375,0.7257113456726074,-3.87481427192688,-3.871983766555786],\"xaxis\":\"x\",\"y\":[5.975470542907715,6.043951988220215,8.775644302368164,6.705875396728516,6.697940349578857,6.851866722106934,9.47553825378418,6.781641960144043,6.729867458343506,4.583716869354248,6.658371448516846,6.3489789962768555,6.2211809158325195,6.786702632904053,8.651473045349121,8.945935249328613,4.413830280303955,7.0753092765808105,7.003499984741211,3.7524642944335938,9.609603881835938,6.05325174331665,6.71818733215332,6.729311943054199,6.805441856384277,7.384301662445068,3.4754741191864014,5.646548271179199,6.790119647979736,5.733758449554443,8.01343059539795,6.673534870147705,9.001561164855957,6.527985095977783,6.350702285766602,6.730088233947754,5.815643787384033,6.97587251663208,6.362856864929199,8.050490379333496,6.847870826721191,6.728148460388184,6.839787483215332,6.758055686950684,8.902657508850098,6.786704063415527,8.964056968688965,6.982626914978027,6.72957181930542,7.002802848815918,7.03371524810791,6.276878833770752,6.325622081756592,5.93506383895874,5.77170467376709,9.047685623168945,8.148148536682129,9.022603034973145,6.93717622756958,8.964007377624512,6.811404705047607,5.95695686340332,4.776161193847656,6.677627086639404,8.941372871398926,8.945978164672852],\"yaxis\":\"y\",\"type\":\"scatter\"},{\"hovertemplate\":\"Variant=Omicron\\u003cbr\\u003e0=%{x}\\u003cbr\\u003e1=%{y}\\u003cextra\\u003e\\u003c\\u002fextra\\u003e\",\"legendgroup\":\"Omicron\",\"marker\":{\"color\":\"#ab63fa\",\"symbol\":\"circle\"},\"mode\":\"markers\",\"name\":\"Omicron\",\"orientation\":\"v\",\"showlegend\":true,\"x\":[6.660373210906982,-0.1674719750881195,2.5313358306884766,-4.096022129058838,8.053943634033203,-0.9073613286018372,-7.023139476776123,-6.998703479766846,0.40551236271858215,8.32546615600586,-3.959907293319702,3.279165029525757,-1.860268473625183,-2.679335832595825,0.6726718544960022,0.3865051865577698,1.245153546333313,8.224435806274414,1.0221790075302124,-1.0615321397781372,6.048659801483154,0.797271192073822,3.707608699798584,7.168444633483887,-3.848588466644287,7.856088161468506,-1.902956485748291,6.047222137451172,8.38131046295166,-2.9136979579925537,0.3572448790073395,4.00074577331543,-1.8464064598083496,-0.17153221368789673,-3.855119228363037,6.646618366241455,1.3195394277572632,0.1027454361319542,0.6485016345977783,-4.101983547210693,-1.4554433822631836,-3.2211127281188965,-1.973372459411621,-1.9116086959838867,4.792399883270264,-3.6079773902893066,5.733786106109619,8.53909969329834,3.7296857833862305,-0.5009355545043945,-4.231847286224365,0.17384663224220276,1.129945158958435,-4.057227611541748,-2.4939911365509033,-1.6099655628204346,1.5017884969711304,7.60252046585083,-1.9280548095703125,3.8203165531158447,3.8944811820983887,1.4250373840332031,7.997403621673584,1.297102928161621,-0.4264488220214844,-3.7483010292053223,0.07953493297100067,-0.26419728994369507,0.4091762900352478,-6.264653205871582,7.737216472625732,0.7158061265945435,8.864459991455078,-4.095017433166504,0.9852664470672607,-1.6283310651779175,0.3421582579612732,-0.11401578783988953,7.889551639556885,-2.392758846282959,0.09209054708480835,-0.09590519219636917,-0.6191531419754028,5.961588382720947,-6.259260654449463,1.9332923889160156,0.6452637910842896,7.618098735809326,1.6258227825164795,-4.188986301422119,0.3012555241584778,-4.141973495483398,0.7967795729637146,3.10977840423584,0.19690214097499847,1.5035008192062378,0.17849582433700562,0.8314315676689148,1.6497745513916016,-1.8647494316101074,-1.0187429189682007,-0.5667649507522583,5.9611077308654785,0.03854900225996971,-3.010316848754883,-4.254984378814697,8.044699668884277,-2.28562331199646,7.73578405380249,-1.340868592262268,-0.8540827631950378,-6.270322322845459,8.352554321289062,-0.5058290958404541,-4.099496364593506,7.713644504547119,0.5481822490692139,8.032858848571777,2.162814140319824,0.7441942095756531,-0.009755106642842293,-2.869938850402832,7.761010646820068,-4.073999404907227,-7.056613445281982,6.52245569229126,6.047184467315674,3.7600793838500977,-4.1307878494262695,-1.9016410112380981,-0.14455433189868927,-0.7838918566703796,1.2247661352157593,-6.273543834686279,-0.2559617757797241,-0.06719980388879776,3.065653085708618,6.650866985321045,8.226213455200195,-3.3348326683044434,0.862372875213623,3.0369250774383545,6.0480475425720215,0.6379128098487854,-2.1395421028137207,6.582352638244629,6.128045558929443,0.7211939096450806,7.700801849365234,3.9970388412475586,-0.012400449253618717,0.4009932577610016,-0.5311247706413269,7.842343807220459,1.0731916427612305,-0.6347758769989014,-6.270309925079346,3.798814296722412,-2.279418706893921,-7.023142337799072,2.5739383697509766,-2.4226016998291016,-0.1125066727399826,-1.7487221956253052,1.2151073217391968,-0.8645265102386475,1.3221962451934814,-0.44940152764320374,-6.144840717315674,7.539078235626221,8.258275985717773,7.929507732391357,-4.465255260467529,-2.036375045776367,-0.8467369079589844,6.162317276000977,1.5411251783370972,7.903581619262695,-2.231919527053833,6.514159202575684,8.288074493408203,-2.5424890518188477,1.8244178295135498,-0.41532495617866516,-1.4459470510482788,1.4730662107467651,6.625272750854492,1.6507067680358887,-7.028933525085449,3.735714912414551,-7.021218299865723,9.232818603515625,-0.30104172229766846,-3.378479480743408,1.5874214172363281,0.34334662556648254,6.0444464683532715,8.8599271774292,5.868611812591553,1.5774531364440918,-1.2351152896881104,8.410679817199707,-0.8578318357467651,4.543585300445557,4.193897247314453,1.4402092695236206,7.850461959838867,-6.274074554443359,3.0641376972198486,-1.2942265272140503,9.038350105285645,-6.268728256225586,7.420375823974609,0.36099255084991455,3.110795021057129,5.562714576721191,9.276994705200195,-2.4340789318084717,-1.9045828580856323,-0.6802465319633484,7.079892158508301,8.600608825683594,-2.2931368350982666,9.788604736328125,6.046056747436523,-2.4821813106536865,0.11811075359582901,0.6441594958305359,4.921285152435303,7.879170894622803,-1.9006932973861694,1.3176945447921753,2.050346612930298,-2.5164549350738525,-1.4474143981933594,-1.5459544658660889,-2.531383991241455,9.57815170288086,0.40672925114631653,5.983757495880127,-2.1002821922302246,7.946837902069092,1.983660340309143,-5.405106067657471,-4.390015125274658,2.5202505588531494,7.903853416442871,0.08318661898374557,6.052600383758545,3.9463303089141846,6.0948872566223145,0.9413377046585083,0.170419842004776,-0.6267918348312378,-1.6786898374557495,-7.058536052703857,7.621257781982422,8.593610763549805,-2.3958451747894287,-1.3303027153015137,-0.9482043385505676,2.264253854751587,-1.8979146480560303,-2.1442487239837646,-1.9331774711608887,3.8590097427368164,7.427844047546387,4.953941345214844,1.0116063356399536,0.8093768954277039,3.7272045612335205,-1.944632649421692,3.1820006370544434],\"xaxis\":\"x\",\"y\":[0.2850213348865509,-1.0917960405349731,-5.147284507751465,-9.481555938720703,-4.657200336456299,-5.163456439971924,1.564871072769165,1.7493786811828613,-5.688273906707764,-4.144720554351807,-1.2993468046188354,0.8572123050689697,-2.197584629058838,-0.5284755229949951,-5.708641529083252,-1.1912933588027954,-7.46188497543335,-4.647633075714111,-6.3106207847595215,-4.244573593139648,0.5024055242538452,-7.058895111083984,-10.413174629211426,-3.697671890258789,-9.577083587646484,-4.399919033050537,-4.9624762535095215,0.5121169090270996,-4.489165306091309,0.6508644819259644,-6.520921230316162,-13.318748474121094,-4.916627883911133,-6.724061965942383,-9.572880744934082,0.2504076063632965,-5.12517786026001,-6.930974960327148,-5.787875652313232,-9.483037948608398,-0.5570759177207947,-5.504183769226074,-5.0364837646484375,-5.008025169372559,0.23174737393856049,-9.731611251831055,0.4174237549304962,-4.795466423034668,-13.06800651550293,-3.5508408546447754,-9.403350830078125,-7.457905292510986,-10.185114860534668,-9.490859985351562,-1.4157291650772095,-5.92880392074585,-6.3717732429504395,-4.188030242919922,-5.629262447357178,1.496452808380127,-13.134140014648438,-6.286375522613525,-4.744161605834961,-4.995769023895264,-3.656407356262207,-1.1788054704666138,-5.218689918518066,-7.463955879211426,-7.394460678100586,-4.6218414306640625,1.6942564249038696,-7.99711799621582,-4.42954158782959,-9.47909927368164,-7.3184661865234375,-0.8584182858467102,-8.30698013305664,-8.112939834594727,0.3753809332847595,-0.39918816089630127,-1.7854911088943481,-8.508055686950684,-2.984748601913452,0.46535125374794006,-4.612133979797363,-7.092763900756836,-6.941681861877441,1.5367892980575562,1.413385033607483,-9.46095085144043,-7.750729084014893,-9.454092979431152,-7.059204578399658,0.8573341369628906,-6.439000606536865,-2.233304977416992,-6.361752033233643,-7.090051174163818,1.4145216941833496,-4.212504863739014,-6.637899875640869,-0.8562764525413513,0.49017173051834106,-1.0103451013565063,-1.3168511390686035,-9.47214126586914,-4.808408260345459,-2.6056065559387207,-4.328797817230225,-1.7897367477416992,0.8061665892601013,-4.629373073577881,-4.250290393829346,-8.072936058044434,-8.595195770263672,0.28908586502075195,-2.7008073329925537,-4.350057601928711,1.350308895111084,-7.066236972808838,-7.633691787719727,0.3375661075115204,0.21879731118679047,-9.489676475524902,1.0527644157409668,-5.586969375610352,0.501179039478302,-12.882942199707031,-9.462970733642578,-5.0439300537109375,-7.42430305480957,1.5867116451263428,-7.7403645515441895,-4.633880615234375,-7.479022026062012,-6.876267433166504,0.8546382188796997,0.25927677750587463,-4.564493656158447,0.08316099643707275,-7.159661769866943,0.8864179253578186,0.924310564994812,-7.0312180519104,-1.3874142169952393,0.3823803961277008,1.7788259983062744,-5.925716876983643,1.5287765264511108,-4.785597801208496,-7.619130611419678,-6.888655662536621,-7.487257957458496,1.808575987815857,-2.269031286239624,-6.351170539855957,-4.628863334655762,-13.111509323120117,-4.595979690551758,1.6364507675170898,-6.812774181365967,-2.1592421531677246,-7.715301990509033,-0.1768294721841812,-7.105407238006592,-2.064648151397705,-7.154360771179199,-1.012593388557434,-4.458238124847412,-4.222426414489746,-4.279347896575928,-4.639184474945068,-9.4612398147583,-0.4162788987159729,-1.319980502128601,-0.7217499613761902,-8.437350273132324,-4.711156845092773,-6.073633670806885,-5.614024639129639,-4.7786664962768555,-2.081652879714966,-4.761316776275635,-8.029207229614258,-6.074637413024902,1.4152586460113525,0.9876096248626709,-3.854750871658325,1.3855875730514526,-13.046931266784668,1.324186086654663,-4.062660217285156,-3.6622419357299805,0.05344628542661667,1.3896552324295044,-6.559820175170898,1.6661847829818726,-4.349190711975098,-1.0102218389511108,-3.7383241653442383,-3.880448818206787,-4.6353888511657715,-1.313193917274475,-1.443637728691101,-12.316561698913574,-6.099818229675293,-4.86311149597168,-4.636443614959717,0.8495290875434875,0.4211225211620331,-5.572917938232422,-4.621479034423828,-4.307892799377441,-6.572814464569092,0.8601548671722412,0.22884570062160492,-4.036245346069336,-5.388144493103027,-5.594488143920898,-3.1528759002685547,0.4396040737628937,-4.157139778137207,-4.863840579986572,-4.13539981842041,0.5012994408607483,0.5022271871566772,-0.8785962462425232,-7.018921852111816,-4.788608074188232,-5.162497043609619,-5.013967990875244,-3.4744322299957275,-7.785741329193115,-0.36159420013427734,-0.5073111653327942,-2.5241823196411133,-0.9433062672615051,-4.227675437927246,-6.803529739379883,0.4663030505180359,-7.641966342926025,-5.28463888168335,-6.094738960266113,-3.541994571685791,-9.756759643554688,-5.250467300415039,-4.8049187660217285,-2.5480759143829346,0.5140623450279236,-12.756562232971191,1.876078724861145,-5.5514044761657715,-2.5368542671203613,-8.701793670654297,-5.885456085205078,1.0588849782943726,-4.149612903594971,-4.496888160705566,-0.56915283203125,-2.9173097610473633,-2.414363145828247,-11.412769317626953,-3.270984411239624,-6.213590621948242,-7.77996301651001,1.4767625331878662,-5.639362335205078,-1.3689453601837158,-7.170870304107666,-6.867212295532227,-13.102226257324219,-1.2601782083511353,0.8497577905654907],\"yaxis\":\"y\",\"type\":\"scatter\"},{\"hovertemplate\":\"Variant=Omicron Sub\\u003cbr\\u003e0=%{x}\\u003cbr\\u003e1=%{y}\\u003cextra\\u003e\\u003c\\u002fextra\\u003e\",\"legendgroup\":\"Omicron Sub\",\"marker\":{\"color\":\"#FFA15A\",\"symbol\":\"circle\"},\"mode\":\"markers\",\"name\":\"Omicron Sub\",\"orientation\":\"v\",\"showlegend\":true,\"x\":[3.4639904499053955,-2.9562828540802,-2.955038547515869,2.545559883117676,3.7181973457336426,3.759880304336548,2.8787217140197754,3.8388607501983643,2.5225510597229004,3.9205005168914795,3.7171454429626465,3.8834781646728516,3.743591785430908,4.198472023010254,2.7527849674224854,3.265097141265869,2.7685487270355225,2.8099606037139893,3.7990267276763916,2.0811643600463867,3.962053060531616,2.332514762878418,3.5330023765563965,1.3132884502410889,5.31942892074585,4.0294718742370605,1.8191859722137451,3.4954795837402344,3.008553981781006,3.8738296031951904,4.149966239929199,3.7221298217773438,-3.1861886978149414,3.817701816558838,3.250333309173584,2.0435640811920166,4.172379493713379,2.8705637454986572,3.846809148788452],\"xaxis\":\"x\",\"y\":[-12.396926879882812,1.7902543544769287,1.7897725105285645,-11.88841438293457,-13.064289093017578,-13.015759468078613,-13.826547622680664,-12.760109901428223,-13.688316345214844,-13.25936222076416,-12.957518577575684,-9.58035945892334,-13.1143217086792,-13.337589263916016,-13.846779823303223,0.8313701748847961,-13.814312934875488,-14.039815902709961,-10.465398788452148,-11.327351570129395,-13.245080947875977,-11.648444175720215,-10.294027328491211,-2.3932840824127197,-0.6944954991340637,-12.712639808654785,-2.432706594467163,-12.80362606048584,-13.46926498413086,-9.527849197387695,-13.401470184326172,-13.0602445602417,-0.9118760824203491,-12.810454368591309,-11.717238426208496,-10.636353492736816,-12.75533676147461,-11.933911323547363,-13.14706802368164],\"yaxis\":\"y\",\"type\":\"scatter\"}],                        {\"template\":{\"data\":{\"histogram2dcontour\":[{\"type\":\"histogram2dcontour\",\"colorbar\":{\"outlinewidth\":0,\"ticks\":\"\"},\"colorscale\":[[0.0,\"#0d0887\"],[0.1111111111111111,\"#46039f\"],[0.2222222222222222,\"#7201a8\"],[0.3333333333333333,\"#9c179e\"],[0.4444444444444444,\"#bd3786\"],[0.5555555555555556,\"#d8576b\"],[0.6666666666666666,\"#ed7953\"],[0.7777777777777778,\"#fb9f3a\"],[0.8888888888888888,\"#fdca26\"],[1.0,\"#f0f921\"]]}],\"choropleth\":[{\"type\":\"choropleth\",\"colorbar\":{\"outlinewidth\":0,\"ticks\":\"\"}}],\"histogram2d\":[{\"type\":\"histogram2d\",\"colorbar\":{\"outlinewidth\":0,\"ticks\":\"\"},\"colorscale\":[[0.0,\"#0d0887\"],[0.1111111111111111,\"#46039f\"],[0.2222222222222222,\"#7201a8\"],[0.3333333333333333,\"#9c179e\"],[0.4444444444444444,\"#bd3786\"],[0.5555555555555556,\"#d8576b\"],[0.6666666666666666,\"#ed7953\"],[0.7777777777777778,\"#fb9f3a\"],[0.8888888888888888,\"#fdca26\"],[1.0,\"#f0f921\"]]}],\"heatmap\":[{\"type\":\"heatmap\",\"colorbar\":{\"outlinewidth\":0,\"ticks\":\"\"},\"colorscale\":[[0.0,\"#0d0887\"],[0.1111111111111111,\"#46039f\"],[0.2222222222222222,\"#7201a8\"],[0.3333333333333333,\"#9c179e\"],[0.4444444444444444,\"#bd3786\"],[0.5555555555555556,\"#d8576b\"],[0.6666666666666666,\"#ed7953\"],[0.7777777777777778,\"#fb9f3a\"],[0.8888888888888888,\"#fdca26\"],[1.0,\"#f0f921\"]]}],\"heatmapgl\":[{\"type\":\"heatmapgl\",\"colorbar\":{\"outlinewidth\":0,\"ticks\":\"\"},\"colorscale\":[[0.0,\"#0d0887\"],[0.1111111111111111,\"#46039f\"],[0.2222222222222222,\"#7201a8\"],[0.3333333333333333,\"#9c179e\"],[0.4444444444444444,\"#bd3786\"],[0.5555555555555556,\"#d8576b\"],[0.6666666666666666,\"#ed7953\"],[0.7777777777777778,\"#fb9f3a\"],[0.8888888888888888,\"#fdca26\"],[1.0,\"#f0f921\"]]}],\"contourcarpet\":[{\"type\":\"contourcarpet\",\"colorbar\":{\"outlinewidth\":0,\"ticks\":\"\"}}],\"contour\":[{\"type\":\"contour\",\"colorbar\":{\"outlinewidth\":0,\"ticks\":\"\"},\"colorscale\":[[0.0,\"#0d0887\"],[0.1111111111111111,\"#46039f\"],[0.2222222222222222,\"#7201a8\"],[0.3333333333333333,\"#9c179e\"],[0.4444444444444444,\"#bd3786\"],[0.5555555555555556,\"#d8576b\"],[0.6666666666666666,\"#ed7953\"],[0.7777777777777778,\"#fb9f3a\"],[0.8888888888888888,\"#fdca26\"],[1.0,\"#f0f921\"]]}],\"surface\":[{\"type\":\"surface\",\"colorbar\":{\"outlinewidth\":0,\"ticks\":\"\"},\"colorscale\":[[0.0,\"#0d0887\"],[0.1111111111111111,\"#46039f\"],[0.2222222222222222,\"#7201a8\"],[0.3333333333333333,\"#9c179e\"],[0.4444444444444444,\"#bd3786\"],[0.5555555555555556,\"#d8576b\"],[0.6666666666666666,\"#ed7953\"],[0.7777777777777778,\"#fb9f3a\"],[0.8888888888888888,\"#fdca26\"],[1.0,\"#f0f921\"]]}],\"mesh3d\":[{\"type\":\"mesh3d\",\"colorbar\":{\"outlinewidth\":0,\"ticks\":\"\"}}],\"scatter\":[{\"fillpattern\":{\"fillmode\":\"overlay\",\"size\":10,\"solidity\":0.2},\"type\":\"scatter\"}],\"parcoords\":[{\"type\":\"parcoords\",\"line\":{\"colorbar\":{\"outlinewidth\":0,\"ticks\":\"\"}}}],\"scatterpolargl\":[{\"type\":\"scatterpolargl\",\"marker\":{\"colorbar\":{\"outlinewidth\":0,\"ticks\":\"\"}}}],\"bar\":[{\"error_x\":{\"color\":\"#2a3f5f\"},\"error_y\":{\"color\":\"#2a3f5f\"},\"marker\":{\"line\":{\"color\":\"#E5ECF6\",\"width\":0.5},\"pattern\":{\"fillmode\":\"overlay\",\"size\":10,\"solidity\":0.2}},\"type\":\"bar\"}],\"scattergeo\":[{\"type\":\"scattergeo\",\"marker\":{\"colorbar\":{\"outlinewidth\":0,\"ticks\":\"\"}}}],\"scatterpolar\":[{\"type\":\"scatterpolar\",\"marker\":{\"colorbar\":{\"outlinewidth\":0,\"ticks\":\"\"}}}],\"histogram\":[{\"marker\":{\"pattern\":{\"fillmode\":\"overlay\",\"size\":10,\"solidity\":0.2}},\"type\":\"histogram\"}],\"scattergl\":[{\"type\":\"scattergl\",\"marker\":{\"colorbar\":{\"outlinewidth\":0,\"ticks\":\"\"}}}],\"scatter3d\":[{\"type\":\"scatter3d\",\"line\":{\"colorbar\":{\"outlinewidth\":0,\"ticks\":\"\"}},\"marker\":{\"colorbar\":{\"outlinewidth\":0,\"ticks\":\"\"}}}],\"scattermapbox\":[{\"type\":\"scattermapbox\",\"marker\":{\"colorbar\":{\"outlinewidth\":0,\"ticks\":\"\"}}}],\"scatterternary\":[{\"type\":\"scatterternary\",\"marker\":{\"colorbar\":{\"outlinewidth\":0,\"ticks\":\"\"}}}],\"scattercarpet\":[{\"type\":\"scattercarpet\",\"marker\":{\"colorbar\":{\"outlinewidth\":0,\"ticks\":\"\"}}}],\"carpet\":[{\"aaxis\":{\"endlinecolor\":\"#2a3f5f\",\"gridcolor\":\"white\",\"linecolor\":\"white\",\"minorgridcolor\":\"white\",\"startlinecolor\":\"#2a3f5f\"},\"baxis\":{\"endlinecolor\":\"#2a3f5f\",\"gridcolor\":\"white\",\"linecolor\":\"white\",\"minorgridcolor\":\"white\",\"startlinecolor\":\"#2a3f5f\"},\"type\":\"carpet\"}],\"table\":[{\"cells\":{\"fill\":{\"color\":\"#EBF0F8\"},\"line\":{\"color\":\"white\"}},\"header\":{\"fill\":{\"color\":\"#C8D4E3\"},\"line\":{\"color\":\"white\"}},\"type\":\"table\"}],\"barpolar\":[{\"marker\":{\"line\":{\"color\":\"#E5ECF6\",\"width\":0.5},\"pattern\":{\"fillmode\":\"overlay\",\"size\":10,\"solidity\":0.2}},\"type\":\"barpolar\"}],\"pie\":[{\"automargin\":true,\"type\":\"pie\"}]},\"layout\":{\"autotypenumbers\":\"strict\",\"colorway\":[\"#636efa\",\"#EF553B\",\"#00cc96\",\"#ab63fa\",\"#FFA15A\",\"#19d3f3\",\"#FF6692\",\"#B6E880\",\"#FF97FF\",\"#FECB52\"],\"font\":{\"color\":\"#2a3f5f\"},\"hovermode\":\"closest\",\"hoverlabel\":{\"align\":\"left\"},\"paper_bgcolor\":\"white\",\"plot_bgcolor\":\"#E5ECF6\",\"polar\":{\"bgcolor\":\"#E5ECF6\",\"angularaxis\":{\"gridcolor\":\"white\",\"linecolor\":\"white\",\"ticks\":\"\"},\"radialaxis\":{\"gridcolor\":\"white\",\"linecolor\":\"white\",\"ticks\":\"\"}},\"ternary\":{\"bgcolor\":\"#E5ECF6\",\"aaxis\":{\"gridcolor\":\"white\",\"linecolor\":\"white\",\"ticks\":\"\"},\"baxis\":{\"gridcolor\":\"white\",\"linecolor\":\"white\",\"ticks\":\"\"},\"caxis\":{\"gridcolor\":\"white\",\"linecolor\":\"white\",\"ticks\":\"\"}},\"coloraxis\":{\"colorbar\":{\"outlinewidth\":0,\"ticks\":\"\"}},\"colorscale\":{\"sequential\":[[0.0,\"#0d0887\"],[0.1111111111111111,\"#46039f\"],[0.2222222222222222,\"#7201a8\"],[0.3333333333333333,\"#9c179e\"],[0.4444444444444444,\"#bd3786\"],[0.5555555555555556,\"#d8576b\"],[0.6666666666666666,\"#ed7953\"],[0.7777777777777778,\"#fb9f3a\"],[0.8888888888888888,\"#fdca26\"],[1.0,\"#f0f921\"]],\"sequentialminus\":[[0.0,\"#0d0887\"],[0.1111111111111111,\"#46039f\"],[0.2222222222222222,\"#7201a8\"],[0.3333333333333333,\"#9c179e\"],[0.4444444444444444,\"#bd3786\"],[0.5555555555555556,\"#d8576b\"],[0.6666666666666666,\"#ed7953\"],[0.7777777777777778,\"#fb9f3a\"],[0.8888888888888888,\"#fdca26\"],[1.0,\"#f0f921\"]],\"diverging\":[[0,\"#8e0152\"],[0.1,\"#c51b7d\"],[0.2,\"#de77ae\"],[0.3,\"#f1b6da\"],[0.4,\"#fde0ef\"],[0.5,\"#f7f7f7\"],[0.6,\"#e6f5d0\"],[0.7,\"#b8e186\"],[0.8,\"#7fbc41\"],[0.9,\"#4d9221\"],[1,\"#276419\"]]},\"xaxis\":{\"gridcolor\":\"white\",\"linecolor\":\"white\",\"ticks\":\"\",\"title\":{\"standoff\":15},\"zerolinecolor\":\"white\",\"automargin\":true,\"zerolinewidth\":2},\"yaxis\":{\"gridcolor\":\"white\",\"linecolor\":\"white\",\"ticks\":\"\",\"title\":{\"standoff\":15},\"zerolinecolor\":\"white\",\"automargin\":true,\"zerolinewidth\":2},\"scene\":{\"xaxis\":{\"backgroundcolor\":\"#E5ECF6\",\"gridcolor\":\"white\",\"linecolor\":\"white\",\"showbackground\":true,\"ticks\":\"\",\"zerolinecolor\":\"white\",\"gridwidth\":2},\"yaxis\":{\"backgroundcolor\":\"#E5ECF6\",\"gridcolor\":\"white\",\"linecolor\":\"white\",\"showbackground\":true,\"ticks\":\"\",\"zerolinecolor\":\"white\",\"gridwidth\":2},\"zaxis\":{\"backgroundcolor\":\"#E5ECF6\",\"gridcolor\":\"white\",\"linecolor\":\"white\",\"showbackground\":true,\"ticks\":\"\",\"zerolinecolor\":\"white\",\"gridwidth\":2}},\"shapedefaults\":{\"line\":{\"color\":\"#2a3f5f\"}},\"annotationdefaults\":{\"arrowcolor\":\"#2a3f5f\",\"arrowhead\":0,\"arrowwidth\":1},\"geo\":{\"bgcolor\":\"white\",\"landcolor\":\"#E5ECF6\",\"subunitcolor\":\"white\",\"showland\":true,\"showlakes\":true,\"lakecolor\":\"white\"},\"title\":{\"x\":0.05},\"mapbox\":{\"style\":\"light\"}}},\"xaxis\":{\"anchor\":\"y\",\"domain\":[0.0,1.0],\"title\":{\"text\":\"TSNE-2D-1\"},\"showgrid\":false,\"zeroline\":false},\"yaxis\":{\"anchor\":\"x\",\"domain\":[0.0,1.0],\"title\":{\"text\":\"TSNE-2D-2\"},\"showgrid\":false,\"zeroline\":false},\"legend\":{\"title\":{\"text\":\"Variant\"},\"tracegroupgap\":0},\"margin\":{\"t\":60},\"font\":{\"family\":\"Courier New, monospace\",\"size\":18,\"color\":\"RebeccaPurple\"}},                        {\"responsive\": true}                    ).then(function(){\n                            \nvar gd = document.getElementById('6145741b-b40f-486a-b7d2-24c0d76d4ad4');\nvar x = new MutationObserver(function (mutations, observer) {{\n        var display = window.getComputedStyle(gd).display;\n        if (!display || display === 'none') {{\n            console.log([gd, 'removed!']);\n            Plotly.purge(gd);\n            observer.disconnect();\n        }}\n}});\n\n// Listen for the removal of the full notebook cells\nvar notebookContainer = gd.closest('#notebook-container');\nif (notebookContainer) {{\n    x.observe(notebookContainer, {childList: true});\n}}\n\n// Listen for the clearing of the current output cell\nvar outputEl = gd.closest('.output');\nif (outputEl) {{\n    x.observe(outputEl, {childList: true});\n}}\n\n                        })                };                });            </script>        </div>"
     },
     "metadata": {},
     "output_type": "display_data"
    }
   ],
   "source": [
    "tsne_fn(data3, 3)\n",
    "tsne_fn(data5, 5)\n",
    "tsne_fn(data7, 7)"
   ]
  },
  {
   "cell_type": "markdown",
   "id": "6c30d063",
   "metadata": {},
   "source": [
    "## Method 3: Uniform Manifold Approximation and Projection (UMAP)"
   ]
  },
  {
   "cell_type": "code",
   "execution_count": 59,
   "id": "d72dab61",
   "metadata": {
    "ExecuteTime": {
     "end_time": "2023-07-06T11:45:53.351122100Z",
     "start_time": "2023-07-06T11:45:53.347036900Z"
    }
   },
   "outputs": [],
   "source": [
    "def umap_fn(data, k):\n",
    "    # Sort data so figure labels are sorted\n",
    "    data = data.sort_values(by='variant', ascending=True)\n",
    "    slice_col = data.columns.get_loc('strain')\n",
    "    X = data.iloc[:, 1:slice_col]\n",
    "    target = data['variant']\n",
    "    umap_reduce = umap.UMAP(random_state=10)\n",
    "    scaled_X = StandardScaler().fit_transform(X)\n",
    "    emb = umap_reduce.fit_transform(scaled_X)\n",
    "    emb.shape\n",
    "    X_o = emb[:,0]\n",
    "    Y_o = emb[:,1]\n",
    "    umap_2d = px.scatter(\n",
    "        emb, x= 0, y= 1,\n",
    "        color=data.variant, labels={'color': 'Variant'})\n",
    "    umap_2d.update_layout(\n",
    "    xaxis_title=\"UMAP_1\",\n",
    "    yaxis_title=\"UMAP_2\",\n",
    "    font=dict(\n",
    "        family=\"Courier New, monospace\",\n",
    "        size=18,\n",
    "        color=\"RebeccaPurple\"))\n",
    "    umap_2d.update_xaxes(showgrid=False,zeroline=False)\n",
    "    umap_2d.update_yaxes(showgrid=False,zeroline=False)\n",
    "    umap_2d.show()\n",
    "\n",
    "    # fig.write_image('../results/dim-reduce/umap-{}.png'.format(k))"
   ]
  },
  {
   "cell_type": "code",
   "execution_count": 60,
   "id": "556f0830",
   "metadata": {
    "ExecuteTime": {
     "end_time": "2023-07-06T11:46:09.985559700Z",
     "start_time": "2023-07-06T11:45:53.351122100Z"
    }
   },
   "outputs": [
    {
     "data": {
      "application/vnd.plotly.v1+json": {
       "data": [
        {
         "hovertemplate": "Variant=Alpha<br>0=%{x}<br>1=%{y}<extra></extra>",
         "legendgroup": "Alpha",
         "marker": {
          "color": "#636efa",
          "symbol": "circle"
         },
         "mode": "markers",
         "name": "Alpha",
         "orientation": "v",
         "showlegend": true,
         "x": [
          6.273480415344238,
          6.595022201538086,
          6.924826145172119,
          6.21101713180542,
          6.726672649383545,
          8.074358940124512,
          6.918755531311035,
          7.182466506958008,
          6.673254013061523,
          7.027004718780518,
          3.7684381008148193,
          7.073664665222168,
          6.491051197052002,
          6.839319229125977,
          6.377810478210449,
          4.821419715881348,
          6.752157688140869,
          5.715271949768066,
          8.04056167602539,
          6.279560089111328,
          6.156655788421631,
          8.385882377624512,
          3.6419196128845215,
          6.936374187469482,
          6.002941608428955,
          2.877582550048828,
          6.957744598388672,
          7.021480560302734,
          6.753687381744385,
          6.950900554656982,
          6.819911003112793,
          8.275520324707031,
          1.4922337532043457,
          7.0371222496032715,
          -1.3822191953659058,
          3.591525077819824,
          6.247625827789307,
          6.8214802742004395,
          6.855964183807373,
          0.061942458152770996,
          8.57147216796875,
          6.256439685821533,
          6.79760217666626,
          6.863509178161621,
          8.112149238586426,
          6.207353591918945,
          6.9582319259643555,
          6.260227203369141,
          6.801393508911133,
          -1.9974857568740845,
          6.840504169464111,
          6.818418979644775,
          -1.6651721000671387,
          7.0934062004089355,
          6.979602813720703
         ],
         "xaxis": "x",
         "y": [
          16.391895294189453,
          16.070602416992188,
          16.39769172668457,
          16.478620529174805,
          2.781277894973755,
          6.601829528808594,
          15.933119773864746,
          16.17365264892578,
          16.039833068847656,
          16.30204200744629,
          2.6197447776794434,
          15.999488830566406,
          2.7418506145477295,
          16.32518768310547,
          16.200956344604492,
          2.450138807296753,
          16.28982162475586,
          2.0650153160095215,
          6.730037212371826,
          16.345914840698242,
          16.505352020263672,
          5.271254539489746,
          2.5402796268463135,
          15.929171562194824,
          2.436509609222412,
          2.727731704711914,
          16.211759567260742,
          16.318191528320312,
          16.183347702026367,
          16.336410522460938,
          16.407480239868164,
          5.11923885345459,
          3.005624532699585,
          16.248371124267578,
          3.444441318511963,
          2.680438756942749,
          16.457866668701172,
          16.239376068115234,
          16.169944763183594,
          3.281921625137329,
          5.336760997772217,
          16.429594039916992,
          16.17613410949707,
          16.361398696899414,
          6.607913494110107,
          16.458698272705078,
          16.0505313873291,
          16.433568954467773,
          16.157398223876953,
          3.7811079025268555,
          16.24271011352539,
          16.03996467590332,
          3.5879383087158203,
          16.124893188476562,
          16.009687423706055
         ],
         "yaxis": "y",
         "type": "scatter"
        },
        {
         "hovertemplate": "Variant=Beta<br>0=%{x}<br>1=%{y}<extra></extra>",
         "legendgroup": "Beta",
         "marker": {
          "color": "#EF553B",
          "symbol": "circle"
         },
         "mode": "markers",
         "name": "Beta",
         "orientation": "v",
         "showlegend": true,
         "x": [
          1.4119904041290283,
          5.915449142456055,
          9.039548873901367,
          9.13782024383545,
          6.75146484375,
          8.945929527282715,
          6.357925891876221,
          8.05937385559082,
          8.205601692199707,
          9.116957664489746,
          8.348184585571289,
          9.150458335876465,
          9.086466789245605,
          8.933477401733398,
          8.224222183227539,
          8.065996170043945,
          6.7610015869140625,
          9.076863288879395,
          8.0394926071167,
          8.107260704040527,
          8.35383129119873,
          4.8310089111328125,
          6.441696643829346,
          9.181715965270996,
          8.504654884338379,
          8.183082580566406,
          6.516033172607422,
          6.596985340118408,
          6.6100311279296875,
          1.7354539632797241,
          6.607975006103516,
          -0.6446799039840698,
          -1.567699909210205,
          0.7042019367218018,
          8.210732460021973,
          9.076391220092773,
          8.211719512939453,
          9.101479530334473,
          6.833991050720215,
          8.2167387008667,
          9.134031295776367,
          8.116719245910645,
          9.190065383911133,
          6.226049900054932,
          5.040842056274414,
          8.414617538452148,
          6.609997749328613,
          6.564998149871826,
          8.092733383178711,
          6.9108734130859375,
          6.805156707763672,
          8.3052339553833,
          8.28143310546875,
          8.188335418701172,
          6.545016765594482,
          6.773664951324463,
          9.17192268371582,
          8.721954345703125,
          8.199037551879883,
          6.581208229064941,
          9.125754356384277,
          6.125019550323486,
          7.935734272003174,
          6.657392501831055
         ],
         "xaxis": "x",
         "y": [
          3.049790382385254,
          2.6649839878082275,
          5.354373455047607,
          5.451867580413818,
          8.795976638793945,
          5.3741302490234375,
          2.6563799381256104,
          7.071271896362305,
          6.941310405731201,
          5.440832614898682,
          6.909796237945557,
          5.423250198364258,
          5.39589262008667,
          5.249075412750244,
          7.010876178741455,
          7.205685138702393,
          8.782265663146973,
          5.410805702209473,
          7.100076675415039,
          6.929605960845947,
          7.089532852172852,
          2.5715296268463135,
          2.644076108932495,
          5.504193305969238,
          6.8097357749938965,
          6.826639175415039,
          9.04086685180664,
          8.96602725982666,
          8.940702438354492,
          2.9001688957214355,
          8.946995735168457,
          3.3215904235839844,
          3.549168586730957,
          3.1811623573303223,
          7.026888847351074,
          5.413174629211426,
          7.116852283477783,
          5.372681140899658,
          8.702521324157715,
          6.9026336669921875,
          5.44182014465332,
          6.869367599487305,
          5.332187652587891,
          2.557964563369751,
          2.578378915786743,
          6.882541656494141,
          8.990108489990234,
          8.989330291748047,
          6.9796142578125,
          2.619044542312622,
          8.735467910766602,
          6.912846565246582,
          7.028501033782959,
          7.112217426300049,
          8.951675415039062,
          8.77039623260498,
          5.4596848487854,
          5.560391426086426,
          7.077300071716309,
          8.973620414733887,
          5.447321891784668,
          2.680509090423584,
          7.371803283691406,
          8.901708602905273
         ],
         "yaxis": "y",
         "type": "scatter"
        },
        {
         "hovertemplate": "Variant=Delta<br>0=%{x}<br>1=%{y}<extra></extra>",
         "legendgroup": "Delta",
         "marker": {
          "color": "#00cc96",
          "symbol": "circle"
         },
         "mode": "markers",
         "name": "Delta",
         "orientation": "v",
         "showlegend": true,
         "x": [
          11.30305004119873,
          6.74983549118042,
          9.712133407592773,
          11.31994915008545,
          11.355618476867676,
          11.244633674621582,
          5.3897705078125,
          11.197035789489746,
          11.290690422058105,
          2.26969575881958,
          10.302303314208984,
          10.914872169494629,
          10.121642112731934,
          11.483500480651855,
          6.455541133880615,
          10.710858345031738,
          -0.4551965296268463,
          6.165262699127197,
          10.253686904907227,
          -0.4678053855895996,
          3.313443899154663,
          10.935611724853516,
          11.283001899719238,
          10.973313331604004,
          11.416780471801758,
          10.38692855834961,
          -0.5570895075798035,
          10.164061546325684,
          11.009465217590332,
          2.748051881790161,
          10.156160354614258,
          11.11029052734375,
          10.471418380737305,
          11.19111442565918,
          3.4628078937530518,
          11.25517749786377,
          11.377178192138672,
          10.24565601348877,
          10.347445487976074,
          10.28838062286377,
          11.171613693237305,
          10.982908248901367,
          11.288033485412598,
          11.146696090698242,
          10.144445419311523,
          10.874755859375,
          10.62424373626709,
          10.286059379577637,
          10.911508560180664,
          6.77276086807251,
          10.806265830993652,
          6.135831832885742,
          6.048630714416504,
          11.314923286437988,
          5.876461982727051,
          10.418540954589844,
          6.112006664276123,
          10.256940841674805,
          10.445496559143066,
          10.584407806396484,
          11.331964492797852,
          11.290456771850586,
          0.5978145003318787,
          10.999555587768555,
          10.399723052978516,
          10.739675521850586
         ],
         "xaxis": "x",
         "y": [
          7.618943214416504,
          2.447678327560425,
          6.919086456298828,
          7.740233421325684,
          7.926732540130615,
          7.987034320831299,
          2.549771785736084,
          7.913664817810059,
          7.894482612609863,
          2.771955728530884,
          6.799876689910889,
          7.499582290649414,
          6.8378424644470215,
          7.829636096954346,
          2.4331881999969482,
          7.894052028656006,
          3.1539113521575928,
          2.6632158756256104,
          6.710397720336914,
          3.2849791049957275,
          2.367490530014038,
          7.6605448722839355,
          7.920966148376465,
          7.741217136383057,
          7.799753665924072,
          7.091034412384033,
          3.2568585872650146,
          6.952914237976074,
          7.838528633117676,
          2.644110679626465,
          6.672754287719727,
          7.8072099685668945,
          7.533705711364746,
          7.650773525238037,
          2.5429115295410156,
          7.745706558227539,
          7.674704074859619,
          6.775784015655518,
          7.021871089935303,
          6.769127368927002,
          7.624577045440674,
          7.681672096252441,
          7.965923309326172,
          7.715299606323242,
          7.2165141105651855,
          7.515438079833984,
          7.8099365234375,
          6.720952987670898,
          7.687343120574951,
          2.5941145420074463,
          7.4591498374938965,
          2.6559951305389404,
          2.6385679244995117,
          7.622101306915283,
          2.583287239074707,
          7.485897541046143,
          2.6381452083587646,
          6.7716593742370605,
          6.932496070861816,
          7.845914840698242,
          7.943080425262451,
          7.665304183959961,
          3.3159122467041016,
          7.629142761230469,
          7.409832954406738,
          7.880197525024414
         ],
         "yaxis": "y",
         "type": "scatter"
        },
        {
         "hovertemplate": "Variant=Omicron<br>0=%{x}<br>1=%{y}<extra></extra>",
         "legendgroup": "Omicron",
         "marker": {
          "color": "#ab63fa",
          "symbol": "circle"
         },
         "mode": "markers",
         "name": "Omicron",
         "orientation": "v",
         "showlegend": true,
         "x": [
          7.9024658203125,
          0.9826743006706238,
          8.697540283203125,
          7.286964416503906,
          7.29550838470459,
          8.362056732177734,
          6.8976664543151855,
          5.8455328941345215,
          9.501466751098633,
          7.2762322425842285,
          -1.1343587636947632,
          2.9010820388793945,
          0.960433304309845,
          -1.393846869468689,
          9.610745429992676,
          1.1706193685531616,
          11.297843933105469,
          7.287515163421631,
          9.593915939331055,
          7.258523941040039,
          9.140275955200195,
          11.2483549118042,
          4.96792459487915,
          9.164322853088379,
          7.342577934265137,
          7.376138210296631,
          8.137885093688965,
          9.116211891174316,
          7.261556625366211,
          -2.727623224258423,
          10.588305473327637,
          17.529123306274414,
          8.066553115844727,
          11.573555946350098,
          7.1187639236450195,
          7.611774444580078,
          8.855487823486328,
          10.87408447265625,
          9.618200302124023,
          7.114960193634033,
          -0.7352500557899475,
          4.881317138671875,
          8.31281852722168,
          8.187544822692871,
          7.267501354217529,
          7.215095043182373,
          8.819125175476074,
          7.4300055503845215,
          17.869108200073242,
          6.872199535369873,
          7.126661777496338,
          11.798064231872559,
          3.0591585636138916,
          7.185616493225098,
          -1.1086978912353516,
          8.863162994384766,
          9.386591911315918,
          7.319271564483643,
          8.25455093383789,
          0.9085333943367004,
          17.50749969482422,
          9.475836753845215,
          7.276096820831299,
          8.510778427124023,
          7.061434745788574,
          -0.7153875827789307,
          8.827009201049805,
          11.874045372009277,
          11.874475479125977,
          11.587868690490723,
          0.9039897918701172,
          11.0895357131958,
          7.475931644439697,
          7.210245132446289,
          11.181679725646973,
          0.8497623801231384,
          11.762585639953613,
          12.147080421447754,
          3.1895694732666016,
          -1.3105651140213013,
          2.4737703800201416,
          12.052872657775879,
          5.157263278961182,
          10.56790542602539,
          11.636725425720215,
          11.126947402954102,
          10.938331604003906,
          3.029280185699463,
          -2.0751395225524902,
          7.187580108642578,
          12.021635055541992,
          7.133151531219482,
          11.135205268859863,
          2.6656229496002197,
          10.647805213928223,
          1.930957317352295,
          10.746246337890625,
          11.312379837036133,
          -2.174689531326294,
          6.47601318359375,
          10.288758277893066,
          0.20203852653503418,
          9.474632263183594,
          0.6047139167785645,
          -1.4657405614852905,
          7.193313121795654,
          7.35312557220459,
          2.2529234886169434,
          7.188412666320801,
          0.7154552936553955,
          -1.8310503959655762,
          11.618245124816895,
          7.258103370666504,
          11.953035354614258,
          8.198418617248535,
          5.087019920349121,
          5.556163311004639,
          7.26667594909668,
          -1.0532597303390503,
          11.215015411376953,
          12.009254455566406,
          -2.0375993251800537,
          4.8390021324157715,
          7.135971546173096,
          6.425721168518066,
          7.219089984893799,
          9.065860748291016,
          18.113460540771484,
          7.174407005310059,
          8.212867736816406,
          11.836282730102539,
          -2.723222494125366,
          11.125692367553711,
          11.568145751953125,
          11.822851181030273,
          10.801498413085938,
          2.411618947982788,
          7.74522066116333,
          7.32585334777832,
          -2.711948871612549,
          11.2859525680542,
          2.2247464656829834,
          7.4668989181518555,
          11.07288932800293,
          -0.36394622921943665,
          8.659904479980469,
          4.3834333419799805,
          9.569300651550293,
          2.8836755752563477,
          7.347938537597656,
          11.985391616821289,
          10.91755485534668,
          11.82002067565918,
          -0.9476583003997803,
          3.027745246887207,
          10.290680885314941,
          11.495064735412598,
          17.506393432617188,
          7.073212623596191,
          6.104349136352539,
          9.571619987487793,
          0.69734787940979,
          12.054311752319336,
          -1.6050015687942505,
          11.240416526794434,
          2.4563791751861572,
          11.209606170654297,
          0.8099779486656189,
          9.082019805908203,
          7.257918834686279,
          7.147603988647461,
          7.132079601287842,
          7.09784460067749,
          -1.538920521736145,
          2.6415395736694336,
          6.637332439422607,
          11.142970085144043,
          7.186634063720703,
          8.378847122192383,
          7.234702110290527,
          7.458280563354492,
          0.446526437997818,
          7.952003479003906,
          11.933489799499512,
          10.181124687194824,
          -2.5748236179351807,
          5.0727009773254395,
          6.994507312774658,
          9.940046310424805,
          17.649309158325195,
          17.70989990234375,
          7.560245990753174,
          7.289706707000732,
          -2.7901015281677246,
          -2.0620670318603516,
          10.667770385742188,
          5.010331630706787,
          7.4312520027160645,
          5.140698432922363,
          6.599281311035156,
          6.082337856292725,
          7.375288486480713,
          2.560643196105957,
          0.835530161857605,
          8.316238403320312,
          10.227912902832031,
          7.215695381164551,
          9.495193481445312,
          1.7086377143859863,
          -1.431716799736023,
          5.097820281982422,
          11.591339111328125,
          7.329568386077881,
          10.715457916259766,
          2.5971357822418213,
          8.643383979797363,
          7.512474536895752,
          7.020057678222656,
          8.434053421020508,
          5.8589959144592285,
          7.308447360992432,
          7.410242557525635,
          7.725184440612793,
          5.537106037139893,
          9.093500137329102,
          -2.7556493282318115,
          -0.1921704262495041,
          11.045343399047852,
          8.642206192016602,
          7.188091278076172,
          8.20359992980957,
          5.670589447021484,
          11.012362480163574,
          -1.9153131246566772,
          -0.32315486669540405,
          1.6804436445236206,
          -0.9775341749191284,
          7.278861999511719,
          10.708633422851562,
          10.62088394165039,
          8.180710792541504,
          7.149059772491455,
          9.225337982177734,
          4.264957904815674,
          7.251535415649414,
          8.956474304199219,
          7.129395008087158,
          4.825815677642822,
          9.049041748046875,
          18.074783325195312,
          3.2768568992614746,
          9.390833854675293,
          5.183088779449463,
          9.001830101013184,
          8.630388259887695,
          6.544661521911621,
          7.35673713684082,
          7.441593647003174,
          -0.8103576898574829,
          4.243373870849609,
          4.3656744956970215,
          5.192976474761963,
          3.909754753112793,
          7.5054545402526855,
          8.424028396606445,
          1.03189218044281,
          7.179049491882324,
          2.452996253967285,
          11.096179008483887,
          10.874673843383789,
          17.801464080810547,
          -0.30890777707099915,
          2.856208086013794
         ],
         "xaxis": "x",
         "y": [
          -2.569157123565674,
          3.189770460128784,
          -0.5046929717063904,
          -5.1943745613098145,
          -3.362602472305298,
          -0.5569494366645813,
          2.062410831451416,
          2.6088767051696777,
          -0.839739203453064,
          -2.9391846656799316,
          3.311847686767578,
          2.4653990268707275,
          3.1810927391052246,
          3.442683219909668,
          -0.7430445551872253,
          3.1075706481933594,
          -1.2729661464691162,
          -2.8595807552337646,
          -0.9659608602523804,
          1.2272433042526245,
          -1.7039958238601685,
          -1.2518417835235596,
          2.245595932006836,
          -0.7901893258094788,
          -5.401928901672363,
          -2.901366710662842,
          0.3865766227245331,
          -1.7182915210723877,
          -3.115234613418579,
          4.392763137817383,
          -0.9109780788421631,
          4.00868034362793,
          0.401111900806427,
          -0.5502721667289734,
          -5.405799388885498,
          -2.9649462699890137,
          -0.6557183265686035,
          -0.7459983825683594,
          -0.8215634226799011,
          -5.212313652038574,
          3.3401434421539307,
          2.0661914348602295,
          0.08205369859933853,
          0.26105186343193054,
          1.4617605209350586,
          -5.351836204528809,
          -2.039179801940918,
          -2.597546339035034,
          3.5643506050109863,
          1.477049708366394,
          -5.235053539276123,
          -0.4583430290222168,
          2.5934345722198486,
          -5.323776721954346,
          3.3173840045928955,
          -0.17812830209732056,
          -0.8369356989860535,
          -3.158048629760742,
          0.3050333261489868,
          3.114175796508789,
          3.816305160522461,
          -0.8945000171661377,
          -3.4184718132019043,
          -0.44195207953453064,
          1.375583291053772,
          3.2548654079437256,
          -0.1666635125875473,
          -0.3606695532798767,
          -0.3851093351840973,
          -1.962335228919983,
          3.18454909324646,
          -0.9898284673690796,
          -2.473583459854126,
          -5.2175140380859375,
          -1.0447795391082764,
          3.177462339401245,
          -0.4421074390411377,
          -0.0965772196650505,
          2.393876314163208,
          3.399340867996216,
          2.6492137908935547,
          -0.2276424765586853,
          2.3479840755462646,
          -1.2970935106277466,
          -2.014003038406372,
          -1.2714604139328003,
          -1.2377493381500244,
          2.5341780185699463,
          3.842592477798462,
          -5.181053638458252,
          -0.26048743724823,
          -5.2121663093566895,
          -1.0927249193191528,
          2.6859114170074463,
          -0.9329851269721985,
          2.8035247325897217,
          -1.0144649744033813,
          -1.2357100248336792,
          3.9412872791290283,
          1.7860947847366333,
          -0.7291238307952881,
          3.2391960620880127,
          -1.5608811378479004,
          3.1695215702056885,
          3.482959270477295,
          -5.277242660522461,
          -3.2918813228607178,
          2.7209270000457764,
          -3.240389585494995,
          3.2493035793304443,
          3.6493113040924072,
          -1.9855479001998901,
          -3.083942413330078,
          -0.32130005955696106,
          -0.0563049390912056,
          2.038566827774048,
          2.1865005493164062,
          -2.9152565002441406,
          3.3319242000579834,
          -1.1143304109573364,
          -0.2531110644340515,
          3.7993671894073486,
          2.0709688663482666,
          -5.373258590698242,
          2.249819040298462,
          -4.195010185241699,
          -1.77934992313385,
          3.724762201309204,
          -5.179950714111328,
          0.23470140993595123,
          -0.3944464325904846,
          4.388341903686523,
          -0.979175329208374,
          -1.9330527782440186,
          -0.40523892641067505,
          -0.9205403923988342,
          2.7559280395507812,
          -2.889620542526245,
          -2.8631603717803955,
          4.377200603485107,
          -1.231579065322876,
          2.8179242610931396,
          0.9561058878898621,
          -1.0161516666412354,
          3.3191418647766113,
          -2.100778818130493,
          2.1900479793548584,
          -0.8812929391860962,
          2.4708619117736816,
          1.1984847784042358,
          -0.271731436252594,
          -0.873336911201477,
          -0.4051031172275543,
          3.350355863571167,
          2.6367311477661133,
          -0.7474454641342163,
          -1.851818561553955,
          3.877094030380249,
          1.143996238708496,
          2.244873285293579,
          -0.96885085105896,
          3.1991019248962402,
          -0.20310072600841522,
          3.5216386318206787,
          -0.8941922187805176,
          2.6653130054473877,
          -1.2049857378005981,
          3.1866848468780518,
          -0.5242444276809692,
          -3.3417553901672363,
          -3.561040163040161,
          -3.5463461875915527,
          -5.202712535858154,
          3.5136072635650635,
          2.562352418899536,
          1.5079002380371094,
          -1.186218023300171,
          -3.427733898162842,
          0.09196025133132935,
          -4.497267246246338,
          -2.6765081882476807,
          3.2579360008239746,
          0.5353090763092041,
          -0.3249295651912689,
          -0.7241832613945007,
          4.261466979980469,
          1.9838247299194336,
          1.8958545923233032,
          6.891040325164795,
          3.728855609893799,
          4.069907188415527,
          -2.0575058460235596,
          1.2839226722717285,
          4.4538164138793945,
          3.8304195404052734,
          -1.0442323684692383,
          2.053572177886963,
          -2.530836582183838,
          2.1894025802612305,
          1.958051085472107,
          1.927328109741211,
          -2.521069049835205,
          2.6722099781036377,
          3.1611855030059814,
          -0.2911917567253113,
          -0.7791330218315125,
          -3.4011051654815674,
          -0.8253663182258606,
          2.9399006366729736,
          3.4328227043151855,
          2.1707723140716553,
          -1.9574534893035889,
          -2.914299488067627,
          -0.956499457359314,
          2.635378122329712,
          -0.540855884552002,
          -1.972381353378296,
          1.058558464050293,
          0.1132812649011612,
          2.0083065032958984,
          0.8749197721481323,
          -2.4668354988098145,
          0.8186756372451782,
          2.1557631492614746,
          -1.7346514463424683,
          4.419604301452637,
          3.2541656494140625,
          -1.077384114265442,
          -0.5641259551048279,
          -3.457789182662964,
          0.28802594542503357,
          2.3253986835479736,
          -0.8531422019004822,
          3.7250375747680664,
          3.246485471725464,
          2.9233078956604004,
          3.323967933654785,
          0.9404367208480835,
          -1.0022499561309814,
          -1.2571096420288086,
          0.06297770887613297,
          -3.4935271739959717,
          -0.7101560831069946,
          2.4818358421325684,
          -5.193436145782471,
          -0.5372195839881897,
          -3.6387076377868652,
          2.342461109161377,
          -1.7837287187576294,
          3.8270418643951416,
          2.404254674911499,
          -0.9556782841682434,
          2.21394419670105,
          -0.4802052676677704,
          0.06729917973279953,
          2.1539456844329834,
          -3.102203369140625,
          -2.4951229095458984,
          3.3490493297576904,
          2.525116205215454,
          2.501075267791748,
          2.0150482654571533,
          2.4892771244049072,
          0.966655969619751,
          -0.6894962787628174,
          3.0913305282592773,
          0.8027774691581726,
          2.6794121265411377,
          -1.2800538539886475,
          -1.205081820487976,
          3.566404342651367,
          3.3230268955230713,
          2.550128698348999
         ],
         "yaxis": "y",
         "type": "scatter"
        },
        {
         "hovertemplate": "Variant=Omicron Sub<br>0=%{x}<br>1=%{y}<extra></extra>",
         "legendgroup": "Omicron Sub",
         "marker": {
          "color": "#FFA15A",
          "symbol": "circle"
         },
         "mode": "markers",
         "name": "Omicron Sub",
         "orientation": "v",
         "showlegend": true,
         "x": [
          17.470375061035156,
          -2.7171547412872314,
          -2.7431015968322754,
          7.044983863830566,
          17.782577514648438,
          17.900386810302734,
          18.045848846435547,
          17.99608039855957,
          18.066057205200195,
          17.762563705444336,
          17.81888771057129,
          2.8198509216308594,
          17.736583709716797,
          17.433290481567383,
          17.556589126586914,
          2.8510193824768066,
          17.862895965576172,
          18.02120018005371,
          5.555582523345947,
          4.419358253479004,
          17.519102096557617,
          6.817445278167725,
          4.063082218170166,
          2.029022455215454,
          5.567389011383057,
          18.138139724731445,
          1.185037612915039,
          17.499006271362305,
          18.085041046142578,
          3.004952907562256,
          17.503833770751953,
          17.856338500976562,
          -1.300737738609314,
          17.941892623901367,
          7.073193073272705,
          3.570260763168335,
          18.037708282470703,
          7.201988697052002,
          17.5668888092041
         ],
         "xaxis": "x",
         "y": [
          3.68204402923584,
          4.384372234344482,
          4.408306121826172,
          1.4411861896514893,
          3.606497049331665,
          3.5469348430633545,
          3.4781930446624756,
          3.6455295085906982,
          3.3860132694244385,
          3.63334321975708,
          3.494547128677368,
          2.6500508785247803,
          3.5357837677001953,
          3.9045522212982178,
          3.7786014080047607,
          2.430854320526123,
          3.4590601921081543,
          3.5008296966552734,
          2.054245710372925,
          2.3183038234710693,
          3.8491954803466797,
          1.6220812797546387,
          2.447054147720337,
          2.7950222492218018,
          2.0383880138397217,
          3.6897830963134766,
          3.1211252212524414,
          3.8031184673309326,
          3.5644617080688477,
          2.6274735927581787,
          3.8353099822998047,
          3.6281509399414062,
          3.3945960998535156,
          3.704862117767334,
          1.4520812034606934,
          2.297189950942993,
          3.806295871734619,
          1.4118493795394897,
          3.8676908016204834
         ],
         "yaxis": "y",
         "type": "scatter"
        }
       ],
       "layout": {
        "template": {
         "data": {
          "histogram2dcontour": [
           {
            "type": "histogram2dcontour",
            "colorbar": {
             "outlinewidth": 0,
             "ticks": ""
            },
            "colorscale": [
             [
              0.0,
              "#0d0887"
             ],
             [
              0.1111111111111111,
              "#46039f"
             ],
             [
              0.2222222222222222,
              "#7201a8"
             ],
             [
              0.3333333333333333,
              "#9c179e"
             ],
             [
              0.4444444444444444,
              "#bd3786"
             ],
             [
              0.5555555555555556,
              "#d8576b"
             ],
             [
              0.6666666666666666,
              "#ed7953"
             ],
             [
              0.7777777777777778,
              "#fb9f3a"
             ],
             [
              0.8888888888888888,
              "#fdca26"
             ],
             [
              1.0,
              "#f0f921"
             ]
            ]
           }
          ],
          "choropleth": [
           {
            "type": "choropleth",
            "colorbar": {
             "outlinewidth": 0,
             "ticks": ""
            }
           }
          ],
          "histogram2d": [
           {
            "type": "histogram2d",
            "colorbar": {
             "outlinewidth": 0,
             "ticks": ""
            },
            "colorscale": [
             [
              0.0,
              "#0d0887"
             ],
             [
              0.1111111111111111,
              "#46039f"
             ],
             [
              0.2222222222222222,
              "#7201a8"
             ],
             [
              0.3333333333333333,
              "#9c179e"
             ],
             [
              0.4444444444444444,
              "#bd3786"
             ],
             [
              0.5555555555555556,
              "#d8576b"
             ],
             [
              0.6666666666666666,
              "#ed7953"
             ],
             [
              0.7777777777777778,
              "#fb9f3a"
             ],
             [
              0.8888888888888888,
              "#fdca26"
             ],
             [
              1.0,
              "#f0f921"
             ]
            ]
           }
          ],
          "heatmap": [
           {
            "type": "heatmap",
            "colorbar": {
             "outlinewidth": 0,
             "ticks": ""
            },
            "colorscale": [
             [
              0.0,
              "#0d0887"
             ],
             [
              0.1111111111111111,
              "#46039f"
             ],
             [
              0.2222222222222222,
              "#7201a8"
             ],
             [
              0.3333333333333333,
              "#9c179e"
             ],
             [
              0.4444444444444444,
              "#bd3786"
             ],
             [
              0.5555555555555556,
              "#d8576b"
             ],
             [
              0.6666666666666666,
              "#ed7953"
             ],
             [
              0.7777777777777778,
              "#fb9f3a"
             ],
             [
              0.8888888888888888,
              "#fdca26"
             ],
             [
              1.0,
              "#f0f921"
             ]
            ]
           }
          ],
          "heatmapgl": [
           {
            "type": "heatmapgl",
            "colorbar": {
             "outlinewidth": 0,
             "ticks": ""
            },
            "colorscale": [
             [
              0.0,
              "#0d0887"
             ],
             [
              0.1111111111111111,
              "#46039f"
             ],
             [
              0.2222222222222222,
              "#7201a8"
             ],
             [
              0.3333333333333333,
              "#9c179e"
             ],
             [
              0.4444444444444444,
              "#bd3786"
             ],
             [
              0.5555555555555556,
              "#d8576b"
             ],
             [
              0.6666666666666666,
              "#ed7953"
             ],
             [
              0.7777777777777778,
              "#fb9f3a"
             ],
             [
              0.8888888888888888,
              "#fdca26"
             ],
             [
              1.0,
              "#f0f921"
             ]
            ]
           }
          ],
          "contourcarpet": [
           {
            "type": "contourcarpet",
            "colorbar": {
             "outlinewidth": 0,
             "ticks": ""
            }
           }
          ],
          "contour": [
           {
            "type": "contour",
            "colorbar": {
             "outlinewidth": 0,
             "ticks": ""
            },
            "colorscale": [
             [
              0.0,
              "#0d0887"
             ],
             [
              0.1111111111111111,
              "#46039f"
             ],
             [
              0.2222222222222222,
              "#7201a8"
             ],
             [
              0.3333333333333333,
              "#9c179e"
             ],
             [
              0.4444444444444444,
              "#bd3786"
             ],
             [
              0.5555555555555556,
              "#d8576b"
             ],
             [
              0.6666666666666666,
              "#ed7953"
             ],
             [
              0.7777777777777778,
              "#fb9f3a"
             ],
             [
              0.8888888888888888,
              "#fdca26"
             ],
             [
              1.0,
              "#f0f921"
             ]
            ]
           }
          ],
          "surface": [
           {
            "type": "surface",
            "colorbar": {
             "outlinewidth": 0,
             "ticks": ""
            },
            "colorscale": [
             [
              0.0,
              "#0d0887"
             ],
             [
              0.1111111111111111,
              "#46039f"
             ],
             [
              0.2222222222222222,
              "#7201a8"
             ],
             [
              0.3333333333333333,
              "#9c179e"
             ],
             [
              0.4444444444444444,
              "#bd3786"
             ],
             [
              0.5555555555555556,
              "#d8576b"
             ],
             [
              0.6666666666666666,
              "#ed7953"
             ],
             [
              0.7777777777777778,
              "#fb9f3a"
             ],
             [
              0.8888888888888888,
              "#fdca26"
             ],
             [
              1.0,
              "#f0f921"
             ]
            ]
           }
          ],
          "mesh3d": [
           {
            "type": "mesh3d",
            "colorbar": {
             "outlinewidth": 0,
             "ticks": ""
            }
           }
          ],
          "scatter": [
           {
            "fillpattern": {
             "fillmode": "overlay",
             "size": 10,
             "solidity": 0.2
            },
            "type": "scatter"
           }
          ],
          "parcoords": [
           {
            "type": "parcoords",
            "line": {
             "colorbar": {
              "outlinewidth": 0,
              "ticks": ""
             }
            }
           }
          ],
          "scatterpolargl": [
           {
            "type": "scatterpolargl",
            "marker": {
             "colorbar": {
              "outlinewidth": 0,
              "ticks": ""
             }
            }
           }
          ],
          "bar": [
           {
            "error_x": {
             "color": "#2a3f5f"
            },
            "error_y": {
             "color": "#2a3f5f"
            },
            "marker": {
             "line": {
              "color": "#E5ECF6",
              "width": 0.5
             },
             "pattern": {
              "fillmode": "overlay",
              "size": 10,
              "solidity": 0.2
             }
            },
            "type": "bar"
           }
          ],
          "scattergeo": [
           {
            "type": "scattergeo",
            "marker": {
             "colorbar": {
              "outlinewidth": 0,
              "ticks": ""
             }
            }
           }
          ],
          "scatterpolar": [
           {
            "type": "scatterpolar",
            "marker": {
             "colorbar": {
              "outlinewidth": 0,
              "ticks": ""
             }
            }
           }
          ],
          "histogram": [
           {
            "marker": {
             "pattern": {
              "fillmode": "overlay",
              "size": 10,
              "solidity": 0.2
             }
            },
            "type": "histogram"
           }
          ],
          "scattergl": [
           {
            "type": "scattergl",
            "marker": {
             "colorbar": {
              "outlinewidth": 0,
              "ticks": ""
             }
            }
           }
          ],
          "scatter3d": [
           {
            "type": "scatter3d",
            "line": {
             "colorbar": {
              "outlinewidth": 0,
              "ticks": ""
             }
            },
            "marker": {
             "colorbar": {
              "outlinewidth": 0,
              "ticks": ""
             }
            }
           }
          ],
          "scattermapbox": [
           {
            "type": "scattermapbox",
            "marker": {
             "colorbar": {
              "outlinewidth": 0,
              "ticks": ""
             }
            }
           }
          ],
          "scatterternary": [
           {
            "type": "scatterternary",
            "marker": {
             "colorbar": {
              "outlinewidth": 0,
              "ticks": ""
             }
            }
           }
          ],
          "scattercarpet": [
           {
            "type": "scattercarpet",
            "marker": {
             "colorbar": {
              "outlinewidth": 0,
              "ticks": ""
             }
            }
           }
          ],
          "carpet": [
           {
            "aaxis": {
             "endlinecolor": "#2a3f5f",
             "gridcolor": "white",
             "linecolor": "white",
             "minorgridcolor": "white",
             "startlinecolor": "#2a3f5f"
            },
            "baxis": {
             "endlinecolor": "#2a3f5f",
             "gridcolor": "white",
             "linecolor": "white",
             "minorgridcolor": "white",
             "startlinecolor": "#2a3f5f"
            },
            "type": "carpet"
           }
          ],
          "table": [
           {
            "cells": {
             "fill": {
              "color": "#EBF0F8"
             },
             "line": {
              "color": "white"
             }
            },
            "header": {
             "fill": {
              "color": "#C8D4E3"
             },
             "line": {
              "color": "white"
             }
            },
            "type": "table"
           }
          ],
          "barpolar": [
           {
            "marker": {
             "line": {
              "color": "#E5ECF6",
              "width": 0.5
             },
             "pattern": {
              "fillmode": "overlay",
              "size": 10,
              "solidity": 0.2
             }
            },
            "type": "barpolar"
           }
          ],
          "pie": [
           {
            "automargin": true,
            "type": "pie"
           }
          ]
         },
         "layout": {
          "autotypenumbers": "strict",
          "colorway": [
           "#636efa",
           "#EF553B",
           "#00cc96",
           "#ab63fa",
           "#FFA15A",
           "#19d3f3",
           "#FF6692",
           "#B6E880",
           "#FF97FF",
           "#FECB52"
          ],
          "font": {
           "color": "#2a3f5f"
          },
          "hovermode": "closest",
          "hoverlabel": {
           "align": "left"
          },
          "paper_bgcolor": "white",
          "plot_bgcolor": "#E5ECF6",
          "polar": {
           "bgcolor": "#E5ECF6",
           "angularaxis": {
            "gridcolor": "white",
            "linecolor": "white",
            "ticks": ""
           },
           "radialaxis": {
            "gridcolor": "white",
            "linecolor": "white",
            "ticks": ""
           }
          },
          "ternary": {
           "bgcolor": "#E5ECF6",
           "aaxis": {
            "gridcolor": "white",
            "linecolor": "white",
            "ticks": ""
           },
           "baxis": {
            "gridcolor": "white",
            "linecolor": "white",
            "ticks": ""
           },
           "caxis": {
            "gridcolor": "white",
            "linecolor": "white",
            "ticks": ""
           }
          },
          "coloraxis": {
           "colorbar": {
            "outlinewidth": 0,
            "ticks": ""
           }
          },
          "colorscale": {
           "sequential": [
            [
             0.0,
             "#0d0887"
            ],
            [
             0.1111111111111111,
             "#46039f"
            ],
            [
             0.2222222222222222,
             "#7201a8"
            ],
            [
             0.3333333333333333,
             "#9c179e"
            ],
            [
             0.4444444444444444,
             "#bd3786"
            ],
            [
             0.5555555555555556,
             "#d8576b"
            ],
            [
             0.6666666666666666,
             "#ed7953"
            ],
            [
             0.7777777777777778,
             "#fb9f3a"
            ],
            [
             0.8888888888888888,
             "#fdca26"
            ],
            [
             1.0,
             "#f0f921"
            ]
           ],
           "sequentialminus": [
            [
             0.0,
             "#0d0887"
            ],
            [
             0.1111111111111111,
             "#46039f"
            ],
            [
             0.2222222222222222,
             "#7201a8"
            ],
            [
             0.3333333333333333,
             "#9c179e"
            ],
            [
             0.4444444444444444,
             "#bd3786"
            ],
            [
             0.5555555555555556,
             "#d8576b"
            ],
            [
             0.6666666666666666,
             "#ed7953"
            ],
            [
             0.7777777777777778,
             "#fb9f3a"
            ],
            [
             0.8888888888888888,
             "#fdca26"
            ],
            [
             1.0,
             "#f0f921"
            ]
           ],
           "diverging": [
            [
             0,
             "#8e0152"
            ],
            [
             0.1,
             "#c51b7d"
            ],
            [
             0.2,
             "#de77ae"
            ],
            [
             0.3,
             "#f1b6da"
            ],
            [
             0.4,
             "#fde0ef"
            ],
            [
             0.5,
             "#f7f7f7"
            ],
            [
             0.6,
             "#e6f5d0"
            ],
            [
             0.7,
             "#b8e186"
            ],
            [
             0.8,
             "#7fbc41"
            ],
            [
             0.9,
             "#4d9221"
            ],
            [
             1,
             "#276419"
            ]
           ]
          },
          "xaxis": {
           "gridcolor": "white",
           "linecolor": "white",
           "ticks": "",
           "title": {
            "standoff": 15
           },
           "zerolinecolor": "white",
           "automargin": true,
           "zerolinewidth": 2
          },
          "yaxis": {
           "gridcolor": "white",
           "linecolor": "white",
           "ticks": "",
           "title": {
            "standoff": 15
           },
           "zerolinecolor": "white",
           "automargin": true,
           "zerolinewidth": 2
          },
          "scene": {
           "xaxis": {
            "backgroundcolor": "#E5ECF6",
            "gridcolor": "white",
            "linecolor": "white",
            "showbackground": true,
            "ticks": "",
            "zerolinecolor": "white",
            "gridwidth": 2
           },
           "yaxis": {
            "backgroundcolor": "#E5ECF6",
            "gridcolor": "white",
            "linecolor": "white",
            "showbackground": true,
            "ticks": "",
            "zerolinecolor": "white",
            "gridwidth": 2
           },
           "zaxis": {
            "backgroundcolor": "#E5ECF6",
            "gridcolor": "white",
            "linecolor": "white",
            "showbackground": true,
            "ticks": "",
            "zerolinecolor": "white",
            "gridwidth": 2
           }
          },
          "shapedefaults": {
           "line": {
            "color": "#2a3f5f"
           }
          },
          "annotationdefaults": {
           "arrowcolor": "#2a3f5f",
           "arrowhead": 0,
           "arrowwidth": 1
          },
          "geo": {
           "bgcolor": "white",
           "landcolor": "#E5ECF6",
           "subunitcolor": "white",
           "showland": true,
           "showlakes": true,
           "lakecolor": "white"
          },
          "title": {
           "x": 0.05
          },
          "mapbox": {
           "style": "light"
          }
         }
        },
        "xaxis": {
         "anchor": "y",
         "domain": [
          0.0,
          1.0
         ],
         "title": {
          "text": "UMAP_1"
         },
         "showgrid": false,
         "zeroline": false
        },
        "yaxis": {
         "anchor": "x",
         "domain": [
          0.0,
          1.0
         ],
         "title": {
          "text": "UMAP_2"
         },
         "showgrid": false,
         "zeroline": false
        },
        "legend": {
         "title": {
          "text": "Variant"
         },
         "tracegroupgap": 0
        },
        "margin": {
         "t": 60
        },
        "font": {
         "family": "Courier New, monospace",
         "size": 18,
         "color": "RebeccaPurple"
        }
       },
       "config": {
        "plotlyServerURL": "https://plot.ly"
       }
      },
      "text/html": "<div>                            <div id=\"5b044810-cb7d-4fcb-a748-47711330a5d9\" class=\"plotly-graph-div\" style=\"height:525px; width:100%;\"></div>            <script type=\"text/javascript\">                require([\"plotly\"], function(Plotly) {                    window.PLOTLYENV=window.PLOTLYENV || {};                                    if (document.getElementById(\"5b044810-cb7d-4fcb-a748-47711330a5d9\")) {                    Plotly.newPlot(                        \"5b044810-cb7d-4fcb-a748-47711330a5d9\",                        [{\"hovertemplate\":\"Variant=Alpha\\u003cbr\\u003e0=%{x}\\u003cbr\\u003e1=%{y}\\u003cextra\\u003e\\u003c\\u002fextra\\u003e\",\"legendgroup\":\"Alpha\",\"marker\":{\"color\":\"#636efa\",\"symbol\":\"circle\"},\"mode\":\"markers\",\"name\":\"Alpha\",\"orientation\":\"v\",\"showlegend\":true,\"x\":[6.273480415344238,6.595022201538086,6.924826145172119,6.21101713180542,6.726672649383545,8.074358940124512,6.918755531311035,7.182466506958008,6.673254013061523,7.027004718780518,3.7684381008148193,7.073664665222168,6.491051197052002,6.839319229125977,6.377810478210449,4.821419715881348,6.752157688140869,5.715271949768066,8.04056167602539,6.279560089111328,6.156655788421631,8.385882377624512,3.6419196128845215,6.936374187469482,6.002941608428955,2.877582550048828,6.957744598388672,7.021480560302734,6.753687381744385,6.950900554656982,6.819911003112793,8.275520324707031,1.4922337532043457,7.0371222496032715,-1.3822191953659058,3.591525077819824,6.247625827789307,6.8214802742004395,6.855964183807373,0.061942458152770996,8.57147216796875,6.256439685821533,6.79760217666626,6.863509178161621,8.112149238586426,6.207353591918945,6.9582319259643555,6.260227203369141,6.801393508911133,-1.9974857568740845,6.840504169464111,6.818418979644775,-1.6651721000671387,7.0934062004089355,6.979602813720703],\"xaxis\":\"x\",\"y\":[16.391895294189453,16.070602416992188,16.39769172668457,16.478620529174805,2.781277894973755,6.601829528808594,15.933119773864746,16.17365264892578,16.039833068847656,16.30204200744629,2.6197447776794434,15.999488830566406,2.7418506145477295,16.32518768310547,16.200956344604492,2.450138807296753,16.28982162475586,2.0650153160095215,6.730037212371826,16.345914840698242,16.505352020263672,5.271254539489746,2.5402796268463135,15.929171562194824,2.436509609222412,2.727731704711914,16.211759567260742,16.318191528320312,16.183347702026367,16.336410522460938,16.407480239868164,5.11923885345459,3.005624532699585,16.248371124267578,3.444441318511963,2.680438756942749,16.457866668701172,16.239376068115234,16.169944763183594,3.281921625137329,5.336760997772217,16.429594039916992,16.17613410949707,16.361398696899414,6.607913494110107,16.458698272705078,16.0505313873291,16.433568954467773,16.157398223876953,3.7811079025268555,16.24271011352539,16.03996467590332,3.5879383087158203,16.124893188476562,16.009687423706055],\"yaxis\":\"y\",\"type\":\"scatter\"},{\"hovertemplate\":\"Variant=Beta\\u003cbr\\u003e0=%{x}\\u003cbr\\u003e1=%{y}\\u003cextra\\u003e\\u003c\\u002fextra\\u003e\",\"legendgroup\":\"Beta\",\"marker\":{\"color\":\"#EF553B\",\"symbol\":\"circle\"},\"mode\":\"markers\",\"name\":\"Beta\",\"orientation\":\"v\",\"showlegend\":true,\"x\":[1.4119904041290283,5.915449142456055,9.039548873901367,9.13782024383545,6.75146484375,8.945929527282715,6.357925891876221,8.05937385559082,8.205601692199707,9.116957664489746,8.348184585571289,9.150458335876465,9.086466789245605,8.933477401733398,8.224222183227539,8.065996170043945,6.7610015869140625,9.076863288879395,8.0394926071167,8.107260704040527,8.35383129119873,4.8310089111328125,6.441696643829346,9.181715965270996,8.504654884338379,8.183082580566406,6.516033172607422,6.596985340118408,6.6100311279296875,1.7354539632797241,6.607975006103516,-0.6446799039840698,-1.567699909210205,0.7042019367218018,8.210732460021973,9.076391220092773,8.211719512939453,9.101479530334473,6.833991050720215,8.2167387008667,9.134031295776367,8.116719245910645,9.190065383911133,6.226049900054932,5.040842056274414,8.414617538452148,6.609997749328613,6.564998149871826,8.092733383178711,6.9108734130859375,6.805156707763672,8.3052339553833,8.28143310546875,8.188335418701172,6.545016765594482,6.773664951324463,9.17192268371582,8.721954345703125,8.199037551879883,6.581208229064941,9.125754356384277,6.125019550323486,7.935734272003174,6.657392501831055],\"xaxis\":\"x\",\"y\":[3.049790382385254,2.6649839878082275,5.354373455047607,5.451867580413818,8.795976638793945,5.3741302490234375,2.6563799381256104,7.071271896362305,6.941310405731201,5.440832614898682,6.909796237945557,5.423250198364258,5.39589262008667,5.249075412750244,7.010876178741455,7.205685138702393,8.782265663146973,5.410805702209473,7.100076675415039,6.929605960845947,7.089532852172852,2.5715296268463135,2.644076108932495,5.504193305969238,6.8097357749938965,6.826639175415039,9.04086685180664,8.96602725982666,8.940702438354492,2.9001688957214355,8.946995735168457,3.3215904235839844,3.549168586730957,3.1811623573303223,7.026888847351074,5.413174629211426,7.116852283477783,5.372681140899658,8.702521324157715,6.9026336669921875,5.44182014465332,6.869367599487305,5.332187652587891,2.557964563369751,2.578378915786743,6.882541656494141,8.990108489990234,8.989330291748047,6.9796142578125,2.619044542312622,8.735467910766602,6.912846565246582,7.028501033782959,7.112217426300049,8.951675415039062,8.77039623260498,5.4596848487854,5.560391426086426,7.077300071716309,8.973620414733887,5.447321891784668,2.680509090423584,7.371803283691406,8.901708602905273],\"yaxis\":\"y\",\"type\":\"scatter\"},{\"hovertemplate\":\"Variant=Delta\\u003cbr\\u003e0=%{x}\\u003cbr\\u003e1=%{y}\\u003cextra\\u003e\\u003c\\u002fextra\\u003e\",\"legendgroup\":\"Delta\",\"marker\":{\"color\":\"#00cc96\",\"symbol\":\"circle\"},\"mode\":\"markers\",\"name\":\"Delta\",\"orientation\":\"v\",\"showlegend\":true,\"x\":[11.30305004119873,6.74983549118042,9.712133407592773,11.31994915008545,11.355618476867676,11.244633674621582,5.3897705078125,11.197035789489746,11.290690422058105,2.26969575881958,10.302303314208984,10.914872169494629,10.121642112731934,11.483500480651855,6.455541133880615,10.710858345031738,-0.4551965296268463,6.165262699127197,10.253686904907227,-0.4678053855895996,3.313443899154663,10.935611724853516,11.283001899719238,10.973313331604004,11.416780471801758,10.38692855834961,-0.5570895075798035,10.164061546325684,11.009465217590332,2.748051881790161,10.156160354614258,11.11029052734375,10.471418380737305,11.19111442565918,3.4628078937530518,11.25517749786377,11.377178192138672,10.24565601348877,10.347445487976074,10.28838062286377,11.171613693237305,10.982908248901367,11.288033485412598,11.146696090698242,10.144445419311523,10.874755859375,10.62424373626709,10.286059379577637,10.911508560180664,6.77276086807251,10.806265830993652,6.135831832885742,6.048630714416504,11.314923286437988,5.876461982727051,10.418540954589844,6.112006664276123,10.256940841674805,10.445496559143066,10.584407806396484,11.331964492797852,11.290456771850586,0.5978145003318787,10.999555587768555,10.399723052978516,10.739675521850586],\"xaxis\":\"x\",\"y\":[7.618943214416504,2.447678327560425,6.919086456298828,7.740233421325684,7.926732540130615,7.987034320831299,2.549771785736084,7.913664817810059,7.894482612609863,2.771955728530884,6.799876689910889,7.499582290649414,6.8378424644470215,7.829636096954346,2.4331881999969482,7.894052028656006,3.1539113521575928,2.6632158756256104,6.710397720336914,3.2849791049957275,2.367490530014038,7.6605448722839355,7.920966148376465,7.741217136383057,7.799753665924072,7.091034412384033,3.2568585872650146,6.952914237976074,7.838528633117676,2.644110679626465,6.672754287719727,7.8072099685668945,7.533705711364746,7.650773525238037,2.5429115295410156,7.745706558227539,7.674704074859619,6.775784015655518,7.021871089935303,6.769127368927002,7.624577045440674,7.681672096252441,7.965923309326172,7.715299606323242,7.2165141105651855,7.515438079833984,7.8099365234375,6.720952987670898,7.687343120574951,2.5941145420074463,7.4591498374938965,2.6559951305389404,2.6385679244995117,7.622101306915283,2.583287239074707,7.485897541046143,2.6381452083587646,6.7716593742370605,6.932496070861816,7.845914840698242,7.943080425262451,7.665304183959961,3.3159122467041016,7.629142761230469,7.409832954406738,7.880197525024414],\"yaxis\":\"y\",\"type\":\"scatter\"},{\"hovertemplate\":\"Variant=Omicron\\u003cbr\\u003e0=%{x}\\u003cbr\\u003e1=%{y}\\u003cextra\\u003e\\u003c\\u002fextra\\u003e\",\"legendgroup\":\"Omicron\",\"marker\":{\"color\":\"#ab63fa\",\"symbol\":\"circle\"},\"mode\":\"markers\",\"name\":\"Omicron\",\"orientation\":\"v\",\"showlegend\":true,\"x\":[7.9024658203125,0.9826743006706238,8.697540283203125,7.286964416503906,7.29550838470459,8.362056732177734,6.8976664543151855,5.8455328941345215,9.501466751098633,7.2762322425842285,-1.1343587636947632,2.9010820388793945,0.960433304309845,-1.393846869468689,9.610745429992676,1.1706193685531616,11.297843933105469,7.287515163421631,9.593915939331055,7.258523941040039,9.140275955200195,11.2483549118042,4.96792459487915,9.164322853088379,7.342577934265137,7.376138210296631,8.137885093688965,9.116211891174316,7.261556625366211,-2.727623224258423,10.588305473327637,17.529123306274414,8.066553115844727,11.573555946350098,7.1187639236450195,7.611774444580078,8.855487823486328,10.87408447265625,9.618200302124023,7.114960193634033,-0.7352500557899475,4.881317138671875,8.31281852722168,8.187544822692871,7.267501354217529,7.215095043182373,8.819125175476074,7.4300055503845215,17.869108200073242,6.872199535369873,7.126661777496338,11.798064231872559,3.0591585636138916,7.185616493225098,-1.1086978912353516,8.863162994384766,9.386591911315918,7.319271564483643,8.25455093383789,0.9085333943367004,17.50749969482422,9.475836753845215,7.276096820831299,8.510778427124023,7.061434745788574,-0.7153875827789307,8.827009201049805,11.874045372009277,11.874475479125977,11.587868690490723,0.9039897918701172,11.0895357131958,7.475931644439697,7.210245132446289,11.181679725646973,0.8497623801231384,11.762585639953613,12.147080421447754,3.1895694732666016,-1.3105651140213013,2.4737703800201416,12.052872657775879,5.157263278961182,10.56790542602539,11.636725425720215,11.126947402954102,10.938331604003906,3.029280185699463,-2.0751395225524902,7.187580108642578,12.021635055541992,7.133151531219482,11.135205268859863,2.6656229496002197,10.647805213928223,1.930957317352295,10.746246337890625,11.312379837036133,-2.174689531326294,6.47601318359375,10.288758277893066,0.20203852653503418,9.474632263183594,0.6047139167785645,-1.4657405614852905,7.193313121795654,7.35312557220459,2.2529234886169434,7.188412666320801,0.7154552936553955,-1.8310503959655762,11.618245124816895,7.258103370666504,11.953035354614258,8.198418617248535,5.087019920349121,5.556163311004639,7.26667594909668,-1.0532597303390503,11.215015411376953,12.009254455566406,-2.0375993251800537,4.8390021324157715,7.135971546173096,6.425721168518066,7.219089984893799,9.065860748291016,18.113460540771484,7.174407005310059,8.212867736816406,11.836282730102539,-2.723222494125366,11.125692367553711,11.568145751953125,11.822851181030273,10.801498413085938,2.411618947982788,7.74522066116333,7.32585334777832,-2.711948871612549,11.2859525680542,2.2247464656829834,7.4668989181518555,11.07288932800293,-0.36394622921943665,8.659904479980469,4.3834333419799805,9.569300651550293,2.8836755752563477,7.347938537597656,11.985391616821289,10.91755485534668,11.82002067565918,-0.9476583003997803,3.027745246887207,10.290680885314941,11.495064735412598,17.506393432617188,7.073212623596191,6.104349136352539,9.571619987487793,0.69734787940979,12.054311752319336,-1.6050015687942505,11.240416526794434,2.4563791751861572,11.209606170654297,0.8099779486656189,9.082019805908203,7.257918834686279,7.147603988647461,7.132079601287842,7.09784460067749,-1.538920521736145,2.6415395736694336,6.637332439422607,11.142970085144043,7.186634063720703,8.378847122192383,7.234702110290527,7.458280563354492,0.446526437997818,7.952003479003906,11.933489799499512,10.181124687194824,-2.5748236179351807,5.0727009773254395,6.994507312774658,9.940046310424805,17.649309158325195,17.70989990234375,7.560245990753174,7.289706707000732,-2.7901015281677246,-2.0620670318603516,10.667770385742188,5.010331630706787,7.4312520027160645,5.140698432922363,6.599281311035156,6.082337856292725,7.375288486480713,2.560643196105957,0.835530161857605,8.316238403320312,10.227912902832031,7.215695381164551,9.495193481445312,1.7086377143859863,-1.431716799736023,5.097820281982422,11.591339111328125,7.329568386077881,10.715457916259766,2.5971357822418213,8.643383979797363,7.512474536895752,7.020057678222656,8.434053421020508,5.8589959144592285,7.308447360992432,7.410242557525635,7.725184440612793,5.537106037139893,9.093500137329102,-2.7556493282318115,-0.1921704262495041,11.045343399047852,8.642206192016602,7.188091278076172,8.20359992980957,5.670589447021484,11.012362480163574,-1.9153131246566772,-0.32315486669540405,1.6804436445236206,-0.9775341749191284,7.278861999511719,10.708633422851562,10.62088394165039,8.180710792541504,7.149059772491455,9.225337982177734,4.264957904815674,7.251535415649414,8.956474304199219,7.129395008087158,4.825815677642822,9.049041748046875,18.074783325195312,3.2768568992614746,9.390833854675293,5.183088779449463,9.001830101013184,8.630388259887695,6.544661521911621,7.35673713684082,7.441593647003174,-0.8103576898574829,4.243373870849609,4.3656744956970215,5.192976474761963,3.909754753112793,7.5054545402526855,8.424028396606445,1.03189218044281,7.179049491882324,2.452996253967285,11.096179008483887,10.874673843383789,17.801464080810547,-0.30890777707099915,2.856208086013794],\"xaxis\":\"x\",\"y\":[-2.569157123565674,3.189770460128784,-0.5046929717063904,-5.1943745613098145,-3.362602472305298,-0.5569494366645813,2.062410831451416,2.6088767051696777,-0.839739203453064,-2.9391846656799316,3.311847686767578,2.4653990268707275,3.1810927391052246,3.442683219909668,-0.7430445551872253,3.1075706481933594,-1.2729661464691162,-2.8595807552337646,-0.9659608602523804,1.2272433042526245,-1.7039958238601685,-1.2518417835235596,2.245595932006836,-0.7901893258094788,-5.401928901672363,-2.901366710662842,0.3865766227245331,-1.7182915210723877,-3.115234613418579,4.392763137817383,-0.9109780788421631,4.00868034362793,0.401111900806427,-0.5502721667289734,-5.405799388885498,-2.9649462699890137,-0.6557183265686035,-0.7459983825683594,-0.8215634226799011,-5.212313652038574,3.3401434421539307,2.0661914348602295,0.08205369859933853,0.26105186343193054,1.4617605209350586,-5.351836204528809,-2.039179801940918,-2.597546339035034,3.5643506050109863,1.477049708366394,-5.235053539276123,-0.4583430290222168,2.5934345722198486,-5.323776721954346,3.3173840045928955,-0.17812830209732056,-0.8369356989860535,-3.158048629760742,0.3050333261489868,3.114175796508789,3.816305160522461,-0.8945000171661377,-3.4184718132019043,-0.44195207953453064,1.375583291053772,3.2548654079437256,-0.1666635125875473,-0.3606695532798767,-0.3851093351840973,-1.962335228919983,3.18454909324646,-0.9898284673690796,-2.473583459854126,-5.2175140380859375,-1.0447795391082764,3.177462339401245,-0.4421074390411377,-0.0965772196650505,2.393876314163208,3.399340867996216,2.6492137908935547,-0.2276424765586853,2.3479840755462646,-1.2970935106277466,-2.014003038406372,-1.2714604139328003,-1.2377493381500244,2.5341780185699463,3.842592477798462,-5.181053638458252,-0.26048743724823,-5.2121663093566895,-1.0927249193191528,2.6859114170074463,-0.9329851269721985,2.8035247325897217,-1.0144649744033813,-1.2357100248336792,3.9412872791290283,1.7860947847366333,-0.7291238307952881,3.2391960620880127,-1.5608811378479004,3.1695215702056885,3.482959270477295,-5.277242660522461,-3.2918813228607178,2.7209270000457764,-3.240389585494995,3.2493035793304443,3.6493113040924072,-1.9855479001998901,-3.083942413330078,-0.32130005955696106,-0.0563049390912056,2.038566827774048,2.1865005493164062,-2.9152565002441406,3.3319242000579834,-1.1143304109573364,-0.2531110644340515,3.7993671894073486,2.0709688663482666,-5.373258590698242,2.249819040298462,-4.195010185241699,-1.77934992313385,3.724762201309204,-5.179950714111328,0.23470140993595123,-0.3944464325904846,4.388341903686523,-0.979175329208374,-1.9330527782440186,-0.40523892641067505,-0.9205403923988342,2.7559280395507812,-2.889620542526245,-2.8631603717803955,4.377200603485107,-1.231579065322876,2.8179242610931396,0.9561058878898621,-1.0161516666412354,3.3191418647766113,-2.100778818130493,2.1900479793548584,-0.8812929391860962,2.4708619117736816,1.1984847784042358,-0.271731436252594,-0.873336911201477,-0.4051031172275543,3.350355863571167,2.6367311477661133,-0.7474454641342163,-1.851818561553955,3.877094030380249,1.143996238708496,2.244873285293579,-0.96885085105896,3.1991019248962402,-0.20310072600841522,3.5216386318206787,-0.8941922187805176,2.6653130054473877,-1.2049857378005981,3.1866848468780518,-0.5242444276809692,-3.3417553901672363,-3.561040163040161,-3.5463461875915527,-5.202712535858154,3.5136072635650635,2.562352418899536,1.5079002380371094,-1.186218023300171,-3.427733898162842,0.09196025133132935,-4.497267246246338,-2.6765081882476807,3.2579360008239746,0.5353090763092041,-0.3249295651912689,-0.7241832613945007,4.261466979980469,1.9838247299194336,1.8958545923233032,6.891040325164795,3.728855609893799,4.069907188415527,-2.0575058460235596,1.2839226722717285,4.4538164138793945,3.8304195404052734,-1.0442323684692383,2.053572177886963,-2.530836582183838,2.1894025802612305,1.958051085472107,1.927328109741211,-2.521069049835205,2.6722099781036377,3.1611855030059814,-0.2911917567253113,-0.7791330218315125,-3.4011051654815674,-0.8253663182258606,2.9399006366729736,3.4328227043151855,2.1707723140716553,-1.9574534893035889,-2.914299488067627,-0.956499457359314,2.635378122329712,-0.540855884552002,-1.972381353378296,1.058558464050293,0.1132812649011612,2.0083065032958984,0.8749197721481323,-2.4668354988098145,0.8186756372451782,2.1557631492614746,-1.7346514463424683,4.419604301452637,3.2541656494140625,-1.077384114265442,-0.5641259551048279,-3.457789182662964,0.28802594542503357,2.3253986835479736,-0.8531422019004822,3.7250375747680664,3.246485471725464,2.9233078956604004,3.323967933654785,0.9404367208480835,-1.0022499561309814,-1.2571096420288086,0.06297770887613297,-3.4935271739959717,-0.7101560831069946,2.4818358421325684,-5.193436145782471,-0.5372195839881897,-3.6387076377868652,2.342461109161377,-1.7837287187576294,3.8270418643951416,2.404254674911499,-0.9556782841682434,2.21394419670105,-0.4802052676677704,0.06729917973279953,2.1539456844329834,-3.102203369140625,-2.4951229095458984,3.3490493297576904,2.525116205215454,2.501075267791748,2.0150482654571533,2.4892771244049072,0.966655969619751,-0.6894962787628174,3.0913305282592773,0.8027774691581726,2.6794121265411377,-1.2800538539886475,-1.205081820487976,3.566404342651367,3.3230268955230713,2.550128698348999],\"yaxis\":\"y\",\"type\":\"scatter\"},{\"hovertemplate\":\"Variant=Omicron Sub\\u003cbr\\u003e0=%{x}\\u003cbr\\u003e1=%{y}\\u003cextra\\u003e\\u003c\\u002fextra\\u003e\",\"legendgroup\":\"Omicron Sub\",\"marker\":{\"color\":\"#FFA15A\",\"symbol\":\"circle\"},\"mode\":\"markers\",\"name\":\"Omicron Sub\",\"orientation\":\"v\",\"showlegend\":true,\"x\":[17.470375061035156,-2.7171547412872314,-2.7431015968322754,7.044983863830566,17.782577514648438,17.900386810302734,18.045848846435547,17.99608039855957,18.066057205200195,17.762563705444336,17.81888771057129,2.8198509216308594,17.736583709716797,17.433290481567383,17.556589126586914,2.8510193824768066,17.862895965576172,18.02120018005371,5.555582523345947,4.419358253479004,17.519102096557617,6.817445278167725,4.063082218170166,2.029022455215454,5.567389011383057,18.138139724731445,1.185037612915039,17.499006271362305,18.085041046142578,3.004952907562256,17.503833770751953,17.856338500976562,-1.300737738609314,17.941892623901367,7.073193073272705,3.570260763168335,18.037708282470703,7.201988697052002,17.5668888092041],\"xaxis\":\"x\",\"y\":[3.68204402923584,4.384372234344482,4.408306121826172,1.4411861896514893,3.606497049331665,3.5469348430633545,3.4781930446624756,3.6455295085906982,3.3860132694244385,3.63334321975708,3.494547128677368,2.6500508785247803,3.5357837677001953,3.9045522212982178,3.7786014080047607,2.430854320526123,3.4590601921081543,3.5008296966552734,2.054245710372925,2.3183038234710693,3.8491954803466797,1.6220812797546387,2.447054147720337,2.7950222492218018,2.0383880138397217,3.6897830963134766,3.1211252212524414,3.8031184673309326,3.5644617080688477,2.6274735927581787,3.8353099822998047,3.6281509399414062,3.3945960998535156,3.704862117767334,1.4520812034606934,2.297189950942993,3.806295871734619,1.4118493795394897,3.8676908016204834],\"yaxis\":\"y\",\"type\":\"scatter\"}],                        {\"template\":{\"data\":{\"histogram2dcontour\":[{\"type\":\"histogram2dcontour\",\"colorbar\":{\"outlinewidth\":0,\"ticks\":\"\"},\"colorscale\":[[0.0,\"#0d0887\"],[0.1111111111111111,\"#46039f\"],[0.2222222222222222,\"#7201a8\"],[0.3333333333333333,\"#9c179e\"],[0.4444444444444444,\"#bd3786\"],[0.5555555555555556,\"#d8576b\"],[0.6666666666666666,\"#ed7953\"],[0.7777777777777778,\"#fb9f3a\"],[0.8888888888888888,\"#fdca26\"],[1.0,\"#f0f921\"]]}],\"choropleth\":[{\"type\":\"choropleth\",\"colorbar\":{\"outlinewidth\":0,\"ticks\":\"\"}}],\"histogram2d\":[{\"type\":\"histogram2d\",\"colorbar\":{\"outlinewidth\":0,\"ticks\":\"\"},\"colorscale\":[[0.0,\"#0d0887\"],[0.1111111111111111,\"#46039f\"],[0.2222222222222222,\"#7201a8\"],[0.3333333333333333,\"#9c179e\"],[0.4444444444444444,\"#bd3786\"],[0.5555555555555556,\"#d8576b\"],[0.6666666666666666,\"#ed7953\"],[0.7777777777777778,\"#fb9f3a\"],[0.8888888888888888,\"#fdca26\"],[1.0,\"#f0f921\"]]}],\"heatmap\":[{\"type\":\"heatmap\",\"colorbar\":{\"outlinewidth\":0,\"ticks\":\"\"},\"colorscale\":[[0.0,\"#0d0887\"],[0.1111111111111111,\"#46039f\"],[0.2222222222222222,\"#7201a8\"],[0.3333333333333333,\"#9c179e\"],[0.4444444444444444,\"#bd3786\"],[0.5555555555555556,\"#d8576b\"],[0.6666666666666666,\"#ed7953\"],[0.7777777777777778,\"#fb9f3a\"],[0.8888888888888888,\"#fdca26\"],[1.0,\"#f0f921\"]]}],\"heatmapgl\":[{\"type\":\"heatmapgl\",\"colorbar\":{\"outlinewidth\":0,\"ticks\":\"\"},\"colorscale\":[[0.0,\"#0d0887\"],[0.1111111111111111,\"#46039f\"],[0.2222222222222222,\"#7201a8\"],[0.3333333333333333,\"#9c179e\"],[0.4444444444444444,\"#bd3786\"],[0.5555555555555556,\"#d8576b\"],[0.6666666666666666,\"#ed7953\"],[0.7777777777777778,\"#fb9f3a\"],[0.8888888888888888,\"#fdca26\"],[1.0,\"#f0f921\"]]}],\"contourcarpet\":[{\"type\":\"contourcarpet\",\"colorbar\":{\"outlinewidth\":0,\"ticks\":\"\"}}],\"contour\":[{\"type\":\"contour\",\"colorbar\":{\"outlinewidth\":0,\"ticks\":\"\"},\"colorscale\":[[0.0,\"#0d0887\"],[0.1111111111111111,\"#46039f\"],[0.2222222222222222,\"#7201a8\"],[0.3333333333333333,\"#9c179e\"],[0.4444444444444444,\"#bd3786\"],[0.5555555555555556,\"#d8576b\"],[0.6666666666666666,\"#ed7953\"],[0.7777777777777778,\"#fb9f3a\"],[0.8888888888888888,\"#fdca26\"],[1.0,\"#f0f921\"]]}],\"surface\":[{\"type\":\"surface\",\"colorbar\":{\"outlinewidth\":0,\"ticks\":\"\"},\"colorscale\":[[0.0,\"#0d0887\"],[0.1111111111111111,\"#46039f\"],[0.2222222222222222,\"#7201a8\"],[0.3333333333333333,\"#9c179e\"],[0.4444444444444444,\"#bd3786\"],[0.5555555555555556,\"#d8576b\"],[0.6666666666666666,\"#ed7953\"],[0.7777777777777778,\"#fb9f3a\"],[0.8888888888888888,\"#fdca26\"],[1.0,\"#f0f921\"]]}],\"mesh3d\":[{\"type\":\"mesh3d\",\"colorbar\":{\"outlinewidth\":0,\"ticks\":\"\"}}],\"scatter\":[{\"fillpattern\":{\"fillmode\":\"overlay\",\"size\":10,\"solidity\":0.2},\"type\":\"scatter\"}],\"parcoords\":[{\"type\":\"parcoords\",\"line\":{\"colorbar\":{\"outlinewidth\":0,\"ticks\":\"\"}}}],\"scatterpolargl\":[{\"type\":\"scatterpolargl\",\"marker\":{\"colorbar\":{\"outlinewidth\":0,\"ticks\":\"\"}}}],\"bar\":[{\"error_x\":{\"color\":\"#2a3f5f\"},\"error_y\":{\"color\":\"#2a3f5f\"},\"marker\":{\"line\":{\"color\":\"#E5ECF6\",\"width\":0.5},\"pattern\":{\"fillmode\":\"overlay\",\"size\":10,\"solidity\":0.2}},\"type\":\"bar\"}],\"scattergeo\":[{\"type\":\"scattergeo\",\"marker\":{\"colorbar\":{\"outlinewidth\":0,\"ticks\":\"\"}}}],\"scatterpolar\":[{\"type\":\"scatterpolar\",\"marker\":{\"colorbar\":{\"outlinewidth\":0,\"ticks\":\"\"}}}],\"histogram\":[{\"marker\":{\"pattern\":{\"fillmode\":\"overlay\",\"size\":10,\"solidity\":0.2}},\"type\":\"histogram\"}],\"scattergl\":[{\"type\":\"scattergl\",\"marker\":{\"colorbar\":{\"outlinewidth\":0,\"ticks\":\"\"}}}],\"scatter3d\":[{\"type\":\"scatter3d\",\"line\":{\"colorbar\":{\"outlinewidth\":0,\"ticks\":\"\"}},\"marker\":{\"colorbar\":{\"outlinewidth\":0,\"ticks\":\"\"}}}],\"scattermapbox\":[{\"type\":\"scattermapbox\",\"marker\":{\"colorbar\":{\"outlinewidth\":0,\"ticks\":\"\"}}}],\"scatterternary\":[{\"type\":\"scatterternary\",\"marker\":{\"colorbar\":{\"outlinewidth\":0,\"ticks\":\"\"}}}],\"scattercarpet\":[{\"type\":\"scattercarpet\",\"marker\":{\"colorbar\":{\"outlinewidth\":0,\"ticks\":\"\"}}}],\"carpet\":[{\"aaxis\":{\"endlinecolor\":\"#2a3f5f\",\"gridcolor\":\"white\",\"linecolor\":\"white\",\"minorgridcolor\":\"white\",\"startlinecolor\":\"#2a3f5f\"},\"baxis\":{\"endlinecolor\":\"#2a3f5f\",\"gridcolor\":\"white\",\"linecolor\":\"white\",\"minorgridcolor\":\"white\",\"startlinecolor\":\"#2a3f5f\"},\"type\":\"carpet\"}],\"table\":[{\"cells\":{\"fill\":{\"color\":\"#EBF0F8\"},\"line\":{\"color\":\"white\"}},\"header\":{\"fill\":{\"color\":\"#C8D4E3\"},\"line\":{\"color\":\"white\"}},\"type\":\"table\"}],\"barpolar\":[{\"marker\":{\"line\":{\"color\":\"#E5ECF6\",\"width\":0.5},\"pattern\":{\"fillmode\":\"overlay\",\"size\":10,\"solidity\":0.2}},\"type\":\"barpolar\"}],\"pie\":[{\"automargin\":true,\"type\":\"pie\"}]},\"layout\":{\"autotypenumbers\":\"strict\",\"colorway\":[\"#636efa\",\"#EF553B\",\"#00cc96\",\"#ab63fa\",\"#FFA15A\",\"#19d3f3\",\"#FF6692\",\"#B6E880\",\"#FF97FF\",\"#FECB52\"],\"font\":{\"color\":\"#2a3f5f\"},\"hovermode\":\"closest\",\"hoverlabel\":{\"align\":\"left\"},\"paper_bgcolor\":\"white\",\"plot_bgcolor\":\"#E5ECF6\",\"polar\":{\"bgcolor\":\"#E5ECF6\",\"angularaxis\":{\"gridcolor\":\"white\",\"linecolor\":\"white\",\"ticks\":\"\"},\"radialaxis\":{\"gridcolor\":\"white\",\"linecolor\":\"white\",\"ticks\":\"\"}},\"ternary\":{\"bgcolor\":\"#E5ECF6\",\"aaxis\":{\"gridcolor\":\"white\",\"linecolor\":\"white\",\"ticks\":\"\"},\"baxis\":{\"gridcolor\":\"white\",\"linecolor\":\"white\",\"ticks\":\"\"},\"caxis\":{\"gridcolor\":\"white\",\"linecolor\":\"white\",\"ticks\":\"\"}},\"coloraxis\":{\"colorbar\":{\"outlinewidth\":0,\"ticks\":\"\"}},\"colorscale\":{\"sequential\":[[0.0,\"#0d0887\"],[0.1111111111111111,\"#46039f\"],[0.2222222222222222,\"#7201a8\"],[0.3333333333333333,\"#9c179e\"],[0.4444444444444444,\"#bd3786\"],[0.5555555555555556,\"#d8576b\"],[0.6666666666666666,\"#ed7953\"],[0.7777777777777778,\"#fb9f3a\"],[0.8888888888888888,\"#fdca26\"],[1.0,\"#f0f921\"]],\"sequentialminus\":[[0.0,\"#0d0887\"],[0.1111111111111111,\"#46039f\"],[0.2222222222222222,\"#7201a8\"],[0.3333333333333333,\"#9c179e\"],[0.4444444444444444,\"#bd3786\"],[0.5555555555555556,\"#d8576b\"],[0.6666666666666666,\"#ed7953\"],[0.7777777777777778,\"#fb9f3a\"],[0.8888888888888888,\"#fdca26\"],[1.0,\"#f0f921\"]],\"diverging\":[[0,\"#8e0152\"],[0.1,\"#c51b7d\"],[0.2,\"#de77ae\"],[0.3,\"#f1b6da\"],[0.4,\"#fde0ef\"],[0.5,\"#f7f7f7\"],[0.6,\"#e6f5d0\"],[0.7,\"#b8e186\"],[0.8,\"#7fbc41\"],[0.9,\"#4d9221\"],[1,\"#276419\"]]},\"xaxis\":{\"gridcolor\":\"white\",\"linecolor\":\"white\",\"ticks\":\"\",\"title\":{\"standoff\":15},\"zerolinecolor\":\"white\",\"automargin\":true,\"zerolinewidth\":2},\"yaxis\":{\"gridcolor\":\"white\",\"linecolor\":\"white\",\"ticks\":\"\",\"title\":{\"standoff\":15},\"zerolinecolor\":\"white\",\"automargin\":true,\"zerolinewidth\":2},\"scene\":{\"xaxis\":{\"backgroundcolor\":\"#E5ECF6\",\"gridcolor\":\"white\",\"linecolor\":\"white\",\"showbackground\":true,\"ticks\":\"\",\"zerolinecolor\":\"white\",\"gridwidth\":2},\"yaxis\":{\"backgroundcolor\":\"#E5ECF6\",\"gridcolor\":\"white\",\"linecolor\":\"white\",\"showbackground\":true,\"ticks\":\"\",\"zerolinecolor\":\"white\",\"gridwidth\":2},\"zaxis\":{\"backgroundcolor\":\"#E5ECF6\",\"gridcolor\":\"white\",\"linecolor\":\"white\",\"showbackground\":true,\"ticks\":\"\",\"zerolinecolor\":\"white\",\"gridwidth\":2}},\"shapedefaults\":{\"line\":{\"color\":\"#2a3f5f\"}},\"annotationdefaults\":{\"arrowcolor\":\"#2a3f5f\",\"arrowhead\":0,\"arrowwidth\":1},\"geo\":{\"bgcolor\":\"white\",\"landcolor\":\"#E5ECF6\",\"subunitcolor\":\"white\",\"showland\":true,\"showlakes\":true,\"lakecolor\":\"white\"},\"title\":{\"x\":0.05},\"mapbox\":{\"style\":\"light\"}}},\"xaxis\":{\"anchor\":\"y\",\"domain\":[0.0,1.0],\"title\":{\"text\":\"UMAP_1\"},\"showgrid\":false,\"zeroline\":false},\"yaxis\":{\"anchor\":\"x\",\"domain\":[0.0,1.0],\"title\":{\"text\":\"UMAP_2\"},\"showgrid\":false,\"zeroline\":false},\"legend\":{\"title\":{\"text\":\"Variant\"},\"tracegroupgap\":0},\"margin\":{\"t\":60},\"font\":{\"family\":\"Courier New, monospace\",\"size\":18,\"color\":\"RebeccaPurple\"}},                        {\"responsive\": true}                    ).then(function(){\n                            \nvar gd = document.getElementById('5b044810-cb7d-4fcb-a748-47711330a5d9');\nvar x = new MutationObserver(function (mutations, observer) {{\n        var display = window.getComputedStyle(gd).display;\n        if (!display || display === 'none') {{\n            console.log([gd, 'removed!']);\n            Plotly.purge(gd);\n            observer.disconnect();\n        }}\n}});\n\n// Listen for the removal of the full notebook cells\nvar notebookContainer = gd.closest('#notebook-container');\nif (notebookContainer) {{\n    x.observe(notebookContainer, {childList: true});\n}}\n\n// Listen for the clearing of the current output cell\nvar outputEl = gd.closest('.output');\nif (outputEl) {{\n    x.observe(outputEl, {childList: true});\n}}\n\n                        })                };                });            </script>        </div>"
     },
     "metadata": {},
     "output_type": "display_data"
    },
    {
     "data": {
      "application/vnd.plotly.v1+json": {
       "data": [
        {
         "hovertemplate": "Variant=Alpha<br>0=%{x}<br>1=%{y}<extra></extra>",
         "legendgroup": "Alpha",
         "marker": {
          "color": "#636efa",
          "symbol": "circle"
         },
         "mode": "markers",
         "name": "Alpha",
         "orientation": "v",
         "showlegend": true,
         "x": [
          8.007513999938965,
          7.93768835067749,
          8.149833679199219,
          8.310397148132324,
          7.567071914672852,
          7.728460788726807,
          8.656060218811035,
          8.308794021606445,
          8.07339859008789,
          7.980689525604248,
          6.8559722900390625,
          8.135231971740723,
          7.667913913726807,
          8.268073081970215,
          7.95235013961792,
          7.351556777954102,
          7.971665382385254,
          7.328823566436768,
          8.202276229858398,
          8.020177841186523,
          7.994818210601807,
          7.7778239250183105,
          6.937953472137451,
          8.651755332946777,
          7.56063175201416,
          6.889224529266357,
          8.132214546203613,
          8.394775390625,
          7.947249889373779,
          8.241865158081055,
          7.908905506134033,
          7.662652492523193,
          6.673742294311523,
          8.206802368164062,
          3.58687424659729,
          6.963191509246826,
          8.174931526184082,
          8.166624069213867,
          8.611291885375977,
          6.536931037902832,
          7.682043075561523,
          8.224662780761719,
          8.221305847167969,
          8.1605224609375,
          7.785925388336182,
          8.05534839630127,
          8.306929588317871,
          8.135436058044434,
          8.243339538574219,
          3.0113394260406494,
          8.253336906433105,
          8.552224159240723,
          2.8958613872528076,
          8.35473918914795,
          8.612730979919434
         ],
         "xaxis": "x",
         "y": [
          -1.3277006149291992,
          -1.240492343902588,
          -0.6247226595878601,
          -1.06984281539917,
          -1.2363418340682983,
          -1.1685452461242676,
          -0.6902770400047302,
          -0.7775256633758545,
          -0.7831777334213257,
          -0.7708942294120789,
          -1.5985673666000366,
          -0.8422194719314575,
          -1.1146118640899658,
          -0.9092471599578857,
          -0.8117268681526184,
          -1.3230808973312378,
          -0.8796476721763611,
          -1.3574938774108887,
          -0.9073773622512817,
          -1.187795639038086,
          -0.8562005758285522,
          -1.2661398649215698,
          -1.5180518627166748,
          -0.8073956966400146,
          -1.2569313049316406,
          -1.535654067993164,
          -0.8888174891471863,
          -1.0292742252349854,
          -1.0324604511260986,
          -0.9097757935523987,
          -0.7293235659599304,
          -1.1608576774597168,
          -1.69381582736969,
          -1.1213663816452026,
          -2.991039276123047,
          -1.4964045286178589,
          -1.1408286094665527,
          -0.9241591095924377,
          -0.7092621326446533,
          -1.7538044452667236,
          -1.0906139612197876,
          -1.0703020095825195,
          -1.117848515510559,
          -0.9432786703109741,
          -1.211692452430725,
          -1.01972234249115,
          -1.0696855783462524,
          -1.0715254545211792,
          -0.9645171761512756,
          -2.4147040843963623,
          -1.0427979230880737,
          -0.7518474459648132,
          -2.788890838623047,
          -0.7952483892440796,
          -0.7245858907699585
         ],
         "yaxis": "y",
         "type": "scatter"
        },
        {
         "hovertemplate": "Variant=Beta<br>0=%{x}<br>1=%{y}<extra></extra>",
         "legendgroup": "Beta",
         "marker": {
          "color": "#EF553B",
          "symbol": "circle"
         },
         "mode": "markers",
         "name": "Beta",
         "orientation": "v",
         "showlegend": true,
         "x": [
          6.769912242889404,
          8.328189849853516,
          7.695265293121338,
          7.982251167297363,
          6.956994533538818,
          8.182759284973145,
          8.418006896972656,
          7.867944240570068,
          8.04529857635498,
          8.014487266540527,
          7.863620281219482,
          7.875705242156982,
          7.925248622894287,
          8.006296157836914,
          8.189248085021973,
          8.092894554138184,
          6.885532855987549,
          7.783397674560547,
          7.676775932312012,
          7.944362163543701,
          8.373740196228027,
          8.728497505187988,
          8.456457138061523,
          7.7453436851501465,
          8.299301147460938,
          7.782429218292236,
          6.84281587600708,
          7.007818698883057,
          6.732236862182617,
          6.9250946044921875,
          6.886674880981445,
          3.786212682723999,
          2.883066177368164,
          4.37365198135376,
          8.100911140441895,
          7.961338520050049,
          7.949035167694092,
          7.780737400054932,
          7.074316024780273,
          7.8960113525390625,
          7.688157081604004,
          7.941140174865723,
          7.72614860534668,
          8.567434310913086,
          8.575752258300781,
          8.419357299804688,
          6.878386497497559,
          6.812453746795654,
          7.995744705200195,
          8.092594146728516,
          6.831398010253906,
          7.901206970214844,
          8.22000503540039,
          8.072277069091797,
          6.886998653411865,
          6.88216495513916,
          7.927553176879883,
          8.186711311340332,
          7.971805095672607,
          6.878334045410156,
          7.905043125152588,
          8.531415939331055,
          7.572021961212158,
          6.880941867828369
         ],
         "xaxis": "x",
         "y": [
          -1.6315503120422363,
          15.496450424194336,
          15.512928009033203,
          15.426054000854492,
          16.18821144104004,
          15.277335166931152,
          15.414837837219238,
          15.57812213897705,
          15.666577339172363,
          15.603507995605469,
          15.403079986572266,
          15.225125312805176,
          15.804439544677734,
          15.780938148498535,
          15.885174751281738,
          15.798872947692871,
          16.199493408203125,
          15.346898078918457,
          15.45997142791748,
          15.286799430847168,
          15.538003921508789,
          15.382769584655762,
          15.40954875946045,
          15.32097053527832,
          15.490991592407227,
          15.40755558013916,
          16.338369369506836,
          16.153642654418945,
          16.407875061035156,
          -1.5220009088516235,
          16.278423309326172,
          -2.971055030822754,
          -2.9326720237731934,
          -2.7396321296691895,
          15.776838302612305,
          15.837624549865723,
          15.823587417602539,
          15.51465892791748,
          16.09588623046875,
          15.643946647644043,
          15.407546043395996,
          15.540894508361816,
          15.404704093933105,
          15.462482452392578,
          15.444014549255371,
          15.37576675415039,
          16.306215286254883,
          16.323881149291992,
          15.455245971679688,
          15.472992897033691,
          16.359682083129883,
          15.412381172180176,
          15.555581092834473,
          15.708401679992676,
          16.314821243286133,
          16.16000747680664,
          15.561439514160156,
          15.407715797424316,
          15.778182983398438,
          16.258726119995117,
          15.56182861328125,
          15.263882637023926,
          15.933457374572754,
          16.261062622070312
         ],
         "yaxis": "y",
         "type": "scatter"
        },
        {
         "hovertemplate": "Variant=Delta<br>0=%{x}<br>1=%{y}<extra></extra>",
         "legendgroup": "Delta",
         "marker": {
          "color": "#00cc96",
          "symbol": "circle"
         },
         "mode": "markers",
         "name": "Delta",
         "orientation": "v",
         "showlegend": true,
         "x": [
          7.541802883148193,
          8.249975204467773,
          8.164804458618164,
          8.251872062683105,
          8.378549575805664,
          8.824541091918945,
          7.8902587890625,
          8.282211303710938,
          8.125251770019531,
          4.48421049118042,
          8.930397987365723,
          8.454850196838379,
          8.160573959350586,
          8.431715965270996,
          7.8568854331970215,
          8.242246627807617,
          4.037077903747559,
          9.044546127319336,
          9.016000747680664,
          3.8218164443969727,
          8.02812671661377,
          7.490758419036865,
          8.148694038391113,
          8.067997932434082,
          8.093409538269043,
          8.002182960510254,
          3.859670877456665,
          7.687674522399902,
          8.068949699401855,
          8.263519287109375,
          9.035257339477539,
          8.55520248413086,
          7.955982208251953,
          8.442538261413574,
          8.25986099243164,
          8.417447090148926,
          7.5196146965026855,
          9.01116943359375,
          8.002450942993164,
          9.009137153625488,
          8.057207107543945,
          8.237796783447266,
          8.866286277770996,
          8.123775482177734,
          8.216520309448242,
          8.153130531311035,
          8.20805549621582,
          9.084428787231445,
          7.971390724182129,
          8.834732055664062,
          8.241357803344727,
          8.232185363769531,
          8.325580596923828,
          7.536162853240967,
          8.243687629699707,
          8.190979957580566,
          8.263608932495117,
          7.966163635253906,
          8.976187705993652,
          8.173683166503906,
          8.8703031539917,
          7.600398063659668,
          4.489898681640625,
          8.101147651672363,
          8.08740234375,
          8.238142967224121
         ],
         "xaxis": "x",
         "y": [
          9.433797836303711,
          8.338985443115234,
          8.65220832824707,
          9.232861518859863,
          9.247243881225586,
          8.72050952911377,
          8.880095481872559,
          9.146306991577148,
          9.145732879638672,
          -2.60720157623291,
          8.530007362365723,
          9.055956840515137,
          8.556173324584961,
          9.2574462890625,
          8.878274917602539,
          9.151436805725098,
          -2.8997151851654053,
          8.20179271697998,
          8.169120788574219,
          -2.9744579792022705,
          8.36546802520752,
          9.4851713180542,
          9.129700660705566,
          9.302836418151855,
          9.144763946533203,
          9.002018928527832,
          -2.932581901550293,
          9.405101776123047,
          9.540754318237305,
          8.157280921936035,
          8.123486518859863,
          9.29940128326416,
          9.211543083190918,
          9.177282333374023,
          8.04170036315918,
          9.413201332092285,
          9.468618392944336,
          8.239441871643066,
          9.459206581115723,
          8.207295417785645,
          9.375100135803223,
          9.065946578979492,
          8.648006439208984,
          9.513853073120117,
          9.083170890808105,
          8.941662788391113,
          9.379624366760254,
          8.240384101867676,
          9.305133819580078,
          8.077817916870117,
          9.265155792236328,
          8.233221054077148,
          8.140007019042969,
          9.436835289001465,
          8.288686752319336,
          9.335699081420898,
          8.194694519042969,
          9.247594833374023,
          8.300701141357422,
          9.41741943359375,
          8.66238021850586,
          9.405261039733887,
          -2.6397159099578857,
          9.401191711425781,
          9.271300315856934,
          9.17861557006836
         ],
         "yaxis": "y",
         "type": "scatter"
        },
        {
         "hovertemplate": "Variant=Omicron<br>0=%{x}<br>1=%{y}<extra></extra>",
         "legendgroup": "Omicron",
         "marker": {
          "color": "#ab63fa",
          "symbol": "circle"
         },
         "mode": "markers",
         "name": "Omicron",
         "orientation": "v",
         "showlegend": true,
         "x": [
          -0.8654943704605103,
          2.110670328140259,
          -1.499330997467041,
          -4.662518501281738,
          -1.6000332832336426,
          -1.2969931364059448,
          7.626354694366455,
          7.774263858795166,
          -1.6255794763565063,
          -1.34345281124115,
          3.073187828063965,
          0.5724241733551025,
          1.8941701650619507,
          2.794703960418701,
          -1.349166989326477,
          1.7522549629211426,
          -1.7862327098846436,
          -1.392971158027649,
          -1.3271585702896118,
          -0.06400235742330551,
          -1.2633647918701172,
          -1.8578442335128784,
          2.238088607788086,
          -1.2046945095062256,
          -4.705155849456787,
          -1.1300418376922607,
          0.11978661268949509,
          -1.3099333047866821,
          -1.4378900527954102,
          3.1655802726745605,
          -2.201118230819702,
          2.92059588432312,
          -0.011611904948949814,
          -1.421483039855957,
          -4.664796829223633,
          -1.1411000490188599,
          -1.2033473253250122,
          -2.1686389446258545,
          -1.3809596300125122,
          -4.70654821395874,
          2.636711835861206,
          0.30717819929122925,
          -0.02150569297373295,
          0.12383784353733063,
          -1.096108317375183,
          -4.718358993530273,
          -4.5641770362854,
          -1.156337857246399,
          3.269883155822754,
          0.45671820640563965,
          -4.629473686218262,
          -2.7997050285339355,
          2.070876121520996,
          -4.543089389801025,
          2.7583587169647217,
          -0.25106313824653625,
          -1.4671798944473267,
          -1.1256276369094849,
          0.04596485197544098,
          0.83807373046875,
          2.8324780464172363,
          -1.2245489358901978,
          -1.5573828220367432,
          -1.2639771699905396,
          0.5037921071052551,
          3.1541242599487305,
          -1.2624125480651855,
          -2.7776410579681396,
          -2.621243715286255,
          -1.1583997011184692,
          -0.004076808225363493,
          -2.0926148891448975,
          -1.0014774799346924,
          -4.622145652770996,
          -1.9683036804199219,
          2.2001214027404785,
          -2.750169515609741,
          -3.0729219913482666,
          -0.3489742577075958,
          2.987992525100708,
          1.7235339879989624,
          -3.095741033554077,
          0.7250422835350037,
          -2.7624924182891846,
          -1.1091886758804321,
          -1.5522822141647339,
          -1.640000820159912,
          -0.28335610032081604,
          3.1107306480407715,
          -4.584977626800537,
          -2.9428904056549072,
          -4.645924091339111,
          -1.9549142122268677,
          0.6997025609016418,
          -2.0925538539886475,
          1.8564348220825195,
          -2.12304949760437,
          -1.905142068862915,
          3.0448477268218994,
          0.10017896443605423,
          -1.918715000152588,
          2.270866632461548,
          -2.03487229347229,
          2.1291308403015137,
          2.8165552616119385,
          -4.524172306060791,
          -1.5458407402038574,
          1.4451771974563599,
          -1.4121620655059814,
          1.7358043193817139,
          3.038538932800293,
          -1.1171425580978394,
          -1.3109017610549927,
          -3.004432439804077,
          -4.56785249710083,
          -0.5484604239463806,
          0.5555662512779236,
          -1.3949917554855347,
          2.5054519176483154,
          -2.0574560165405273,
          -3.127969741821289,
          2.856356382369995,
          -0.4896791875362396,
          -4.605030059814453,
          7.653661251068115,
          -1.854567289352417,
          -1.340900182723999,
          3.1990416049957275,
          -4.548675060272217,
          0.04188079759478569,
          -2.882397413253784,
          3.1170694828033447,
          -1.9011342525482178,
          -1.1159542798995972,
          -2.8496339321136475,
          -1.8818190097808838,
          0.7450125217437744,
          -1.2167901992797852,
          -1.3032290935516357,
          3.1681296825408936,
          -1.8403592109680176,
          0.648195207118988,
          -1.2326982021331787,
          -1.751643419265747,
          2.5830819606781006,
          -1.686691403388977,
          -0.5246754288673401,
          -1.3452481031417847,
          -0.2591293752193451,
          -1.1693243980407715,
          -3.0058648586273193,
          -2.1073005199432373,
          -2.590700149536133,
          2.4905803203582764,
          1.7692855596542358,
          -1.8507134914398193,
          -1.1239715814590454,
          2.953400135040283,
          -0.003062025411054492,
          7.682956695556641,
          -1.5862541198730469,
          2.054757595062256,
          -2.9949538707733154,
          3.0161571502685547,
          -1.8293131589889526,
          1.6949658393859863,
          -1.835059642791748,
          2.1417744159698486,
          -1.1232879161834717,
          -1.5896649360656738,
          -1.5230478048324585,
          -1.6013879776000977,
          -4.6407647132873535,
          2.8336172103881836,
          1.564994215965271,
          -0.6325399875640869,
          -1.911136269569397,
          -1.4482946395874023,
          -0.09569674730300903,
          -1.8389601707458496,
          -1.4583243131637573,
          2.239321231842041,
          -1.0174925327301025,
          -3.0743558406829834,
          -0.4192967712879181,
          3.06990647315979,
          -1.4840576648712158,
          -2.7245125770568848,
          7.667034149169922,
          3.2068471908569336,
          7.728342056274414,
          -0.9578849077224731,
          0.27109140157699585,
          3.0550873279571533,
          3.01155686378479,
          -1.9375993013381958,
          -0.7537810206413269,
          -1.053868055343628,
          -0.45993664860725403,
          -2.7100751399993896,
          0.5227872729301453,
          -1.3725234270095825,
          1.6070691347122192,
          2.0136702060699463,
          3.233262777328491,
          -2.1070258617401123,
          -1.5558903217315674,
          -1.1394351720809937,
          0.7576353549957275,
          3.054278612136841,
          -0.6571113467216492,
          -1.0820841789245605,
          -1.2209769487380981,
          -1.968679428100586,
          0.6927741765975952,
          -1.4916123151779175,
          -0.9740628600120544,
          0.23371709883213043,
          -0.07823825627565384,
          0.6909751296043396,
          -0.7611384987831116,
          -1.0535380840301514,
          0.005268588662147522,
          -0.7191075086593628,
          -1.3098701238632202,
          3.1911473274230957,
          2.1547691822052,
          -2.0228428840637207,
          -1.6090760231018066,
          -1.7546491622924805,
          0.05693810060620308,
          0.3704668879508972,
          -1.8733989000320435,
          3.0012285709381104,
          2.447981357574463,
          2.037316083908081,
          2.8831632137298584,
          -0.9375145435333252,
          -2.014549493789673,
          -1.9705206155776978,
          -0.6414619088172913,
          -1.638864517211914,
          -1.1713721752166748,
          0.8068220615386963,
          -4.677464962005615,
          -1.621821403503418,
          -1.6814590692520142,
          0.8512150645256042,
          -1.2995431423187256,
          3.1965954303741455,
          -0.5266923308372498,
          -1.4125168323516846,
          0.7361958026885986,
          -2.899942636489868,
          -0.27279627323150635,
          7.699221611022949,
          -1.2140837907791138,
          -0.9768704771995544,
          3.0000996589660645,
          0.9745813012123108,
          0.9264070987701416,
          2.500671625137329,
          1.2885526418685913,
          -0.015735970810055733,
          -1.1605054140090942,
          0.7037261724472046,
          -0.9729239344596863,
          1.6450313329696655,
          -2.0171432495117188,
          -1.7318730354309082,
          3.267930507659912,
          2.53337025642395,
          0.6721991896629333
         ],
         "xaxis": "x",
         "y": [
          -1.8652400970458984,
          -3.70133900642395,
          -6.52334451675415,
          11.032299995422363,
          -1.165326476097107,
          -5.679499626159668,
          8.577560424804688,
          8.436304092407227,
          -5.8443121910095215,
          -1.6295548677444458,
          -3.1940817832946777,
          -3.1542999744415283,
          -4.225527286529541,
          -3.01426362991333,
          -5.743269443511963,
          -3.7752301692962646,
          -7.006621837615967,
          -1.7068828344345093,
          -5.895466327667236,
          -5.369088649749756,
          -5.209193229675293,
          -6.879104137420654,
          -5.199237823486328,
          -1.277451515197754,
          10.985414505004883,
          -1.3460344076156616,
          -5.2705302238464355,
          -5.175885200500488,
          -1.5884511470794678,
          -2.0657076835632324,
          -6.20353364944458,
          -6.8361358642578125,
          -5.312894821166992,
          -5.860351085662842,
          10.958964347839355,
          -1.224793553352356,
          -5.987682819366455,
          -6.257342338562012,
          -5.802927017211914,
          11.03876781463623,
          -3.2437362670898438,
          -4.675558090209961,
          -5.425299644470215,
          -5.498959541320801,
          -8.163131713867188,
          10.978076934814453,
          10.978384017944336,
          -1.8576455116271973,
          -6.844766616821289,
          -4.870280742645264,
          11.06152629852295,
          -6.584992408752441,
          -5.020870685577393,
          11.053847312927246,
          -3.0016491413116455,
          -5.628220558166504,
          -6.079124927520752,
          -1.315000057220459,
          -5.4031453132629395,
          -2.911750078201294,
          -6.818502902984619,
          -5.390163898468018,
          -1.3755443096160889,
          -6.0586419105529785,
          -4.9066386222839355,
          -3.0926544666290283,
          -5.826187610626221,
          -6.474140167236328,
          -6.62954568862915,
          -8.136467933654785,
          -2.9711737632751465,
          -6.448511123657227,
          -1.9720607995986938,
          11.08694076538086,
          -6.864984512329102,
          -3.833524703979492,
          -6.569750785827637,
          -6.3703389167785645,
          -2.8559622764587402,
          -2.9667019844055176,
          -4.119626998901367,
          -6.396746635437012,
          -4.697800636291504,
          -6.691137313842773,
          -8.189379692077637,
          -6.696990489959717,
          -6.920335292816162,
          -2.8737449645996094,
          -2.295118808746338,
          11.110687255859375,
          -6.51455545425415,
          11.16450309753418,
          -6.977554798126221,
          -3.046125650405884,
          -6.3305206298828125,
          -4.431748867034912,
          -6.234450817108154,
          -7.009929656982422,
          -2.262133836746216,
          -5.265625953674316,
          -6.351195335388184,
          -3.5868828296661377,
          -6.821927070617676,
          -3.655776262283325,
          -2.903913974761963,
          11.16339111328125,
          -1.2280089855194092,
          -4.49210786819458,
          -1.3128236532211304,
          -3.982697010040283,
          -2.5102736949920654,
          -8.181632041931152,
          -1.67391037940979,
          -6.393161296844482,
          11.13165283203125,
          -2.5376336574554443,
          -4.328670024871826,
          -1.274707555770874,
          -2.6933186054229736,
          -6.827220439910889,
          -6.34231424331665,
          -2.633091449737549,
          -2.644115924835205,
          11.105399131774902,
          8.667613983154297,
          -5.038852214813232,
          -5.208653926849365,
          -6.805442810058594,
          11.115966796875,
          -5.379462718963623,
          -6.429002285003662,
          -2.105541229248047,
          -6.9095916748046875,
          -8.17945384979248,
          -6.403753280639648,
          -6.583993434906006,
          -3.052396297454834,
          -1.2579575777053833,
          -1.7123314142227173,
          -2.063566207885742,
          -7.053333282470703,
          -3.0967273712158203,
          -4.977450370788574,
          -6.823007106781006,
          -3.33931040763855,
          -4.902872085571289,
          -4.064811706542969,
          -5.731151103973389,
          -2.853870391845703,
          -6.027575492858887,
          -6.395216941833496,
          -6.361599445343018,
          -6.386623859405518,
          -2.739241600036621,
          -4.55051851272583,
          -6.331245422363281,
          -8.178018569946289,
          -6.913532257080078,
          -5.323612689971924,
          8.524819374084473,
          -6.063262939453125,
          -4.371668815612793,
          -6.417370319366455,
          -2.8095099925994873,
          -6.734799861907959,
          -4.379382133483887,
          -6.962073802947998,
          -3.714247465133667,
          -8.167084693908691,
          -1.2443909645080566,
          -1.463995337486267,
          -1.4474350214004517,
          11.15640926361084,
          -2.821035146713257,
          -4.0740156173706055,
          -2.498826503753662,
          -7.006663799285889,
          -1.368576169013977,
          -5.481016159057617,
          -4.952706813812256,
          -1.7437047958374023,
          -4.058773040771484,
          -5.964747428894043,
          -6.3836469650268555,
          -5.788952827453613,
          -2.189397096633911,
          -4.824704647064209,
          -6.174646854400635,
          8.751120567321777,
          -6.751064300537109,
          8.859476089477539,
          -2.0844037532806396,
          -4.995966911315918,
          -2.021681070327759,
          -2.309816837310791,
          -6.28761100769043,
          -4.305452823638916,
          -1.7997804880142212,
          -2.673309087753296,
          -6.175431728363037,
          -4.9594340324401855,
          -1.7075449228286743,
          -4.0580525398254395,
          -3.774785280227661,
          -6.686974048614502,
          -6.302328109741211,
          -1.356445074081421,
          -8.148140907287598,
          -3.012346029281616,
          -2.920715093612671,
          -2.479459762573242,
          -8.216775894165039,
          -1.2932243347167969,
          -6.200112342834473,
          -3.0191221237182617,
          -6.571287631988525,
          -2.1885526180267334,
          -5.322043418884277,
          -5.475417613983154,
          -4.825052738189697,
          -1.9084059000015259,
          -1.7816238403320312,
          -5.103161334991455,
          -2.3337435722351074,
          -5.154294013977051,
          -2.095897912979126,
          -3.6574833393096924,
          -6.7631683349609375,
          -1.2310353517532349,
          -1.3079032897949219,
          -5.372683048248291,
          -4.434930324554443,
          -6.739032745361328,
          -2.7292184829711914,
          -3.517834424972534,
          -4.586547374725342,
          -3.0582103729248047,
          -2.0545451641082764,
          -6.318892478942871,
          -6.769627094268799,
          -5.383247375488281,
          -1.4169403314590454,
          -5.894627571105957,
          -4.70424747467041,
          11.061629295349121,
          -6.413550853729248,
          -1.2949519157409668,
          -4.443422317504883,
          -5.217870712280273,
          -7.037634372711182,
          -3.97719407081604,
          -5.828352928161621,
          -4.466353416442871,
          -6.28024435043335,
          -5.645041465759277,
          8.697883605957031,
          -1.2644493579864502,
          -1.8485108613967896,
          -3.0296759605407715,
          -4.605788707733154,
          -4.5845046043396,
          -5.69140625,
          -4.736952781677246,
          -5.390659332275391,
          -5.415155410766602,
          -2.9606211185455322,
          -1.4713795185089111,
          -3.963834762573242,
          -6.896473407745361,
          -6.588672161102295,
          -6.766845226287842,
          -3.376849412918091,
          -3.0352272987365723
         ],
         "yaxis": "y",
         "type": "scatter"
        },
        {
         "hovertemplate": "Variant=Omicron Sub<br>0=%{x}<br>1=%{y}<extra></extra>",
         "legendgroup": "Omicron Sub",
         "marker": {
          "color": "#FFA15A",
          "symbol": "circle"
         },
         "mode": "markers",
         "name": "Omicron Sub",
         "orientation": "v",
         "showlegend": true,
         "x": [
          2.8732717037200928,
          3.041203022003174,
          3.100024938583374,
          2.7408194541931152,
          3.1275908946990967,
          3.389005184173584,
          3.311190366744995,
          3.2033276557922363,
          2.918607234954834,
          3.0940778255462646,
          3.3579249382019043,
          2.1220953464508057,
          3.3801276683807373,
          2.981764793395996,
          2.949132204055786,
          0.705034613609314,
          3.0559158325195312,
          3.073969602584839,
          2.2573964595794678,
          2.370368242263794,
          2.9484503269195557,
          2.620086193084717,
          2.058549165725708,
          1.9435999393463135,
          2.52669620513916,
          3.113783836364746,
          2.0379955768585205,
          2.9961111545562744,
          3.28391170501709,
          2.113797903060913,
          3.0308892726898193,
          3.2267963886260986,
          3.0909323692321777,
          3.021414041519165,
          2.7408008575439453,
          2.422574758529663,
          3.239672899246216,
          2.7290642261505127,
          3.0754079818725586
         ],
         "xaxis": "x",
         "y": [
          -6.451642036437988,
          -2.1538119316101074,
          -2.154313087463379,
          -6.023039817810059,
          -6.845602989196777,
          -6.630576133728027,
          -6.64155387878418,
          -6.537129878997803,
          -6.484875202178955,
          -6.924455165863037,
          -6.841477394104004,
          -4.922103404998779,
          -6.7116827964782715,
          -6.960882663726807,
          -6.719717979431152,
          -3.0325944423675537,
          -6.578866481781006,
          -6.613654613494873,
          -5.250706672668457,
          -5.492341041564941,
          -6.934192180633545,
          -5.853209018707275,
          -4.954460144042969,
          -4.609956741333008,
          -5.716437816619873,
          -6.596890449523926,
          -4.589941501617432,
          -6.899822235107422,
          -6.834071636199951,
          -4.917916774749756,
          -6.977687835693359,
          -6.8080668449401855,
          -2.963341474533081,
          -6.884670257568359,
          -6.011056423187256,
          -5.595701217651367,
          -6.850074768066406,
          -6.004642963409424,
          -6.855814456939697
         ],
         "yaxis": "y",
         "type": "scatter"
        }
       ],
       "layout": {
        "template": {
         "data": {
          "histogram2dcontour": [
           {
            "type": "histogram2dcontour",
            "colorbar": {
             "outlinewidth": 0,
             "ticks": ""
            },
            "colorscale": [
             [
              0.0,
              "#0d0887"
             ],
             [
              0.1111111111111111,
              "#46039f"
             ],
             [
              0.2222222222222222,
              "#7201a8"
             ],
             [
              0.3333333333333333,
              "#9c179e"
             ],
             [
              0.4444444444444444,
              "#bd3786"
             ],
             [
              0.5555555555555556,
              "#d8576b"
             ],
             [
              0.6666666666666666,
              "#ed7953"
             ],
             [
              0.7777777777777778,
              "#fb9f3a"
             ],
             [
              0.8888888888888888,
              "#fdca26"
             ],
             [
              1.0,
              "#f0f921"
             ]
            ]
           }
          ],
          "choropleth": [
           {
            "type": "choropleth",
            "colorbar": {
             "outlinewidth": 0,
             "ticks": ""
            }
           }
          ],
          "histogram2d": [
           {
            "type": "histogram2d",
            "colorbar": {
             "outlinewidth": 0,
             "ticks": ""
            },
            "colorscale": [
             [
              0.0,
              "#0d0887"
             ],
             [
              0.1111111111111111,
              "#46039f"
             ],
             [
              0.2222222222222222,
              "#7201a8"
             ],
             [
              0.3333333333333333,
              "#9c179e"
             ],
             [
              0.4444444444444444,
              "#bd3786"
             ],
             [
              0.5555555555555556,
              "#d8576b"
             ],
             [
              0.6666666666666666,
              "#ed7953"
             ],
             [
              0.7777777777777778,
              "#fb9f3a"
             ],
             [
              0.8888888888888888,
              "#fdca26"
             ],
             [
              1.0,
              "#f0f921"
             ]
            ]
           }
          ],
          "heatmap": [
           {
            "type": "heatmap",
            "colorbar": {
             "outlinewidth": 0,
             "ticks": ""
            },
            "colorscale": [
             [
              0.0,
              "#0d0887"
             ],
             [
              0.1111111111111111,
              "#46039f"
             ],
             [
              0.2222222222222222,
              "#7201a8"
             ],
             [
              0.3333333333333333,
              "#9c179e"
             ],
             [
              0.4444444444444444,
              "#bd3786"
             ],
             [
              0.5555555555555556,
              "#d8576b"
             ],
             [
              0.6666666666666666,
              "#ed7953"
             ],
             [
              0.7777777777777778,
              "#fb9f3a"
             ],
             [
              0.8888888888888888,
              "#fdca26"
             ],
             [
              1.0,
              "#f0f921"
             ]
            ]
           }
          ],
          "heatmapgl": [
           {
            "type": "heatmapgl",
            "colorbar": {
             "outlinewidth": 0,
             "ticks": ""
            },
            "colorscale": [
             [
              0.0,
              "#0d0887"
             ],
             [
              0.1111111111111111,
              "#46039f"
             ],
             [
              0.2222222222222222,
              "#7201a8"
             ],
             [
              0.3333333333333333,
              "#9c179e"
             ],
             [
              0.4444444444444444,
              "#bd3786"
             ],
             [
              0.5555555555555556,
              "#d8576b"
             ],
             [
              0.6666666666666666,
              "#ed7953"
             ],
             [
              0.7777777777777778,
              "#fb9f3a"
             ],
             [
              0.8888888888888888,
              "#fdca26"
             ],
             [
              1.0,
              "#f0f921"
             ]
            ]
           }
          ],
          "contourcarpet": [
           {
            "type": "contourcarpet",
            "colorbar": {
             "outlinewidth": 0,
             "ticks": ""
            }
           }
          ],
          "contour": [
           {
            "type": "contour",
            "colorbar": {
             "outlinewidth": 0,
             "ticks": ""
            },
            "colorscale": [
             [
              0.0,
              "#0d0887"
             ],
             [
              0.1111111111111111,
              "#46039f"
             ],
             [
              0.2222222222222222,
              "#7201a8"
             ],
             [
              0.3333333333333333,
              "#9c179e"
             ],
             [
              0.4444444444444444,
              "#bd3786"
             ],
             [
              0.5555555555555556,
              "#d8576b"
             ],
             [
              0.6666666666666666,
              "#ed7953"
             ],
             [
              0.7777777777777778,
              "#fb9f3a"
             ],
             [
              0.8888888888888888,
              "#fdca26"
             ],
             [
              1.0,
              "#f0f921"
             ]
            ]
           }
          ],
          "surface": [
           {
            "type": "surface",
            "colorbar": {
             "outlinewidth": 0,
             "ticks": ""
            },
            "colorscale": [
             [
              0.0,
              "#0d0887"
             ],
             [
              0.1111111111111111,
              "#46039f"
             ],
             [
              0.2222222222222222,
              "#7201a8"
             ],
             [
              0.3333333333333333,
              "#9c179e"
             ],
             [
              0.4444444444444444,
              "#bd3786"
             ],
             [
              0.5555555555555556,
              "#d8576b"
             ],
             [
              0.6666666666666666,
              "#ed7953"
             ],
             [
              0.7777777777777778,
              "#fb9f3a"
             ],
             [
              0.8888888888888888,
              "#fdca26"
             ],
             [
              1.0,
              "#f0f921"
             ]
            ]
           }
          ],
          "mesh3d": [
           {
            "type": "mesh3d",
            "colorbar": {
             "outlinewidth": 0,
             "ticks": ""
            }
           }
          ],
          "scatter": [
           {
            "fillpattern": {
             "fillmode": "overlay",
             "size": 10,
             "solidity": 0.2
            },
            "type": "scatter"
           }
          ],
          "parcoords": [
           {
            "type": "parcoords",
            "line": {
             "colorbar": {
              "outlinewidth": 0,
              "ticks": ""
             }
            }
           }
          ],
          "scatterpolargl": [
           {
            "type": "scatterpolargl",
            "marker": {
             "colorbar": {
              "outlinewidth": 0,
              "ticks": ""
             }
            }
           }
          ],
          "bar": [
           {
            "error_x": {
             "color": "#2a3f5f"
            },
            "error_y": {
             "color": "#2a3f5f"
            },
            "marker": {
             "line": {
              "color": "#E5ECF6",
              "width": 0.5
             },
             "pattern": {
              "fillmode": "overlay",
              "size": 10,
              "solidity": 0.2
             }
            },
            "type": "bar"
           }
          ],
          "scattergeo": [
           {
            "type": "scattergeo",
            "marker": {
             "colorbar": {
              "outlinewidth": 0,
              "ticks": ""
             }
            }
           }
          ],
          "scatterpolar": [
           {
            "type": "scatterpolar",
            "marker": {
             "colorbar": {
              "outlinewidth": 0,
              "ticks": ""
             }
            }
           }
          ],
          "histogram": [
           {
            "marker": {
             "pattern": {
              "fillmode": "overlay",
              "size": 10,
              "solidity": 0.2
             }
            },
            "type": "histogram"
           }
          ],
          "scattergl": [
           {
            "type": "scattergl",
            "marker": {
             "colorbar": {
              "outlinewidth": 0,
              "ticks": ""
             }
            }
           }
          ],
          "scatter3d": [
           {
            "type": "scatter3d",
            "line": {
             "colorbar": {
              "outlinewidth": 0,
              "ticks": ""
             }
            },
            "marker": {
             "colorbar": {
              "outlinewidth": 0,
              "ticks": ""
             }
            }
           }
          ],
          "scattermapbox": [
           {
            "type": "scattermapbox",
            "marker": {
             "colorbar": {
              "outlinewidth": 0,
              "ticks": ""
             }
            }
           }
          ],
          "scatterternary": [
           {
            "type": "scatterternary",
            "marker": {
             "colorbar": {
              "outlinewidth": 0,
              "ticks": ""
             }
            }
           }
          ],
          "scattercarpet": [
           {
            "type": "scattercarpet",
            "marker": {
             "colorbar": {
              "outlinewidth": 0,
              "ticks": ""
             }
            }
           }
          ],
          "carpet": [
           {
            "aaxis": {
             "endlinecolor": "#2a3f5f",
             "gridcolor": "white",
             "linecolor": "white",
             "minorgridcolor": "white",
             "startlinecolor": "#2a3f5f"
            },
            "baxis": {
             "endlinecolor": "#2a3f5f",
             "gridcolor": "white",
             "linecolor": "white",
             "minorgridcolor": "white",
             "startlinecolor": "#2a3f5f"
            },
            "type": "carpet"
           }
          ],
          "table": [
           {
            "cells": {
             "fill": {
              "color": "#EBF0F8"
             },
             "line": {
              "color": "white"
             }
            },
            "header": {
             "fill": {
              "color": "#C8D4E3"
             },
             "line": {
              "color": "white"
             }
            },
            "type": "table"
           }
          ],
          "barpolar": [
           {
            "marker": {
             "line": {
              "color": "#E5ECF6",
              "width": 0.5
             },
             "pattern": {
              "fillmode": "overlay",
              "size": 10,
              "solidity": 0.2
             }
            },
            "type": "barpolar"
           }
          ],
          "pie": [
           {
            "automargin": true,
            "type": "pie"
           }
          ]
         },
         "layout": {
          "autotypenumbers": "strict",
          "colorway": [
           "#636efa",
           "#EF553B",
           "#00cc96",
           "#ab63fa",
           "#FFA15A",
           "#19d3f3",
           "#FF6692",
           "#B6E880",
           "#FF97FF",
           "#FECB52"
          ],
          "font": {
           "color": "#2a3f5f"
          },
          "hovermode": "closest",
          "hoverlabel": {
           "align": "left"
          },
          "paper_bgcolor": "white",
          "plot_bgcolor": "#E5ECF6",
          "polar": {
           "bgcolor": "#E5ECF6",
           "angularaxis": {
            "gridcolor": "white",
            "linecolor": "white",
            "ticks": ""
           },
           "radialaxis": {
            "gridcolor": "white",
            "linecolor": "white",
            "ticks": ""
           }
          },
          "ternary": {
           "bgcolor": "#E5ECF6",
           "aaxis": {
            "gridcolor": "white",
            "linecolor": "white",
            "ticks": ""
           },
           "baxis": {
            "gridcolor": "white",
            "linecolor": "white",
            "ticks": ""
           },
           "caxis": {
            "gridcolor": "white",
            "linecolor": "white",
            "ticks": ""
           }
          },
          "coloraxis": {
           "colorbar": {
            "outlinewidth": 0,
            "ticks": ""
           }
          },
          "colorscale": {
           "sequential": [
            [
             0.0,
             "#0d0887"
            ],
            [
             0.1111111111111111,
             "#46039f"
            ],
            [
             0.2222222222222222,
             "#7201a8"
            ],
            [
             0.3333333333333333,
             "#9c179e"
            ],
            [
             0.4444444444444444,
             "#bd3786"
            ],
            [
             0.5555555555555556,
             "#d8576b"
            ],
            [
             0.6666666666666666,
             "#ed7953"
            ],
            [
             0.7777777777777778,
             "#fb9f3a"
            ],
            [
             0.8888888888888888,
             "#fdca26"
            ],
            [
             1.0,
             "#f0f921"
            ]
           ],
           "sequentialminus": [
            [
             0.0,
             "#0d0887"
            ],
            [
             0.1111111111111111,
             "#46039f"
            ],
            [
             0.2222222222222222,
             "#7201a8"
            ],
            [
             0.3333333333333333,
             "#9c179e"
            ],
            [
             0.4444444444444444,
             "#bd3786"
            ],
            [
             0.5555555555555556,
             "#d8576b"
            ],
            [
             0.6666666666666666,
             "#ed7953"
            ],
            [
             0.7777777777777778,
             "#fb9f3a"
            ],
            [
             0.8888888888888888,
             "#fdca26"
            ],
            [
             1.0,
             "#f0f921"
            ]
           ],
           "diverging": [
            [
             0,
             "#8e0152"
            ],
            [
             0.1,
             "#c51b7d"
            ],
            [
             0.2,
             "#de77ae"
            ],
            [
             0.3,
             "#f1b6da"
            ],
            [
             0.4,
             "#fde0ef"
            ],
            [
             0.5,
             "#f7f7f7"
            ],
            [
             0.6,
             "#e6f5d0"
            ],
            [
             0.7,
             "#b8e186"
            ],
            [
             0.8,
             "#7fbc41"
            ],
            [
             0.9,
             "#4d9221"
            ],
            [
             1,
             "#276419"
            ]
           ]
          },
          "xaxis": {
           "gridcolor": "white",
           "linecolor": "white",
           "ticks": "",
           "title": {
            "standoff": 15
           },
           "zerolinecolor": "white",
           "automargin": true,
           "zerolinewidth": 2
          },
          "yaxis": {
           "gridcolor": "white",
           "linecolor": "white",
           "ticks": "",
           "title": {
            "standoff": 15
           },
           "zerolinecolor": "white",
           "automargin": true,
           "zerolinewidth": 2
          },
          "scene": {
           "xaxis": {
            "backgroundcolor": "#E5ECF6",
            "gridcolor": "white",
            "linecolor": "white",
            "showbackground": true,
            "ticks": "",
            "zerolinecolor": "white",
            "gridwidth": 2
           },
           "yaxis": {
            "backgroundcolor": "#E5ECF6",
            "gridcolor": "white",
            "linecolor": "white",
            "showbackground": true,
            "ticks": "",
            "zerolinecolor": "white",
            "gridwidth": 2
           },
           "zaxis": {
            "backgroundcolor": "#E5ECF6",
            "gridcolor": "white",
            "linecolor": "white",
            "showbackground": true,
            "ticks": "",
            "zerolinecolor": "white",
            "gridwidth": 2
           }
          },
          "shapedefaults": {
           "line": {
            "color": "#2a3f5f"
           }
          },
          "annotationdefaults": {
           "arrowcolor": "#2a3f5f",
           "arrowhead": 0,
           "arrowwidth": 1
          },
          "geo": {
           "bgcolor": "white",
           "landcolor": "#E5ECF6",
           "subunitcolor": "white",
           "showland": true,
           "showlakes": true,
           "lakecolor": "white"
          },
          "title": {
           "x": 0.05
          },
          "mapbox": {
           "style": "light"
          }
         }
        },
        "xaxis": {
         "anchor": "y",
         "domain": [
          0.0,
          1.0
         ],
         "title": {
          "text": "UMAP_1"
         },
         "showgrid": false,
         "zeroline": false
        },
        "yaxis": {
         "anchor": "x",
         "domain": [
          0.0,
          1.0
         ],
         "title": {
          "text": "UMAP_2"
         },
         "showgrid": false,
         "zeroline": false
        },
        "legend": {
         "title": {
          "text": "Variant"
         },
         "tracegroupgap": 0
        },
        "margin": {
         "t": 60
        },
        "font": {
         "family": "Courier New, monospace",
         "size": 18,
         "color": "RebeccaPurple"
        }
       },
       "config": {
        "plotlyServerURL": "https://plot.ly"
       }
      },
      "text/html": "<div>                            <div id=\"33bae605-8198-4fad-b687-8d97c6a1a32c\" class=\"plotly-graph-div\" style=\"height:525px; width:100%;\"></div>            <script type=\"text/javascript\">                require([\"plotly\"], function(Plotly) {                    window.PLOTLYENV=window.PLOTLYENV || {};                                    if (document.getElementById(\"33bae605-8198-4fad-b687-8d97c6a1a32c\")) {                    Plotly.newPlot(                        \"33bae605-8198-4fad-b687-8d97c6a1a32c\",                        [{\"hovertemplate\":\"Variant=Alpha\\u003cbr\\u003e0=%{x}\\u003cbr\\u003e1=%{y}\\u003cextra\\u003e\\u003c\\u002fextra\\u003e\",\"legendgroup\":\"Alpha\",\"marker\":{\"color\":\"#636efa\",\"symbol\":\"circle\"},\"mode\":\"markers\",\"name\":\"Alpha\",\"orientation\":\"v\",\"showlegend\":true,\"x\":[8.007513999938965,7.93768835067749,8.149833679199219,8.310397148132324,7.567071914672852,7.728460788726807,8.656060218811035,8.308794021606445,8.07339859008789,7.980689525604248,6.8559722900390625,8.135231971740723,7.667913913726807,8.268073081970215,7.95235013961792,7.351556777954102,7.971665382385254,7.328823566436768,8.202276229858398,8.020177841186523,7.994818210601807,7.7778239250183105,6.937953472137451,8.651755332946777,7.56063175201416,6.889224529266357,8.132214546203613,8.394775390625,7.947249889373779,8.241865158081055,7.908905506134033,7.662652492523193,6.673742294311523,8.206802368164062,3.58687424659729,6.963191509246826,8.174931526184082,8.166624069213867,8.611291885375977,6.536931037902832,7.682043075561523,8.224662780761719,8.221305847167969,8.1605224609375,7.785925388336182,8.05534839630127,8.306929588317871,8.135436058044434,8.243339538574219,3.0113394260406494,8.253336906433105,8.552224159240723,2.8958613872528076,8.35473918914795,8.612730979919434],\"xaxis\":\"x\",\"y\":[-1.3277006149291992,-1.240492343902588,-0.6247226595878601,-1.06984281539917,-1.2363418340682983,-1.1685452461242676,-0.6902770400047302,-0.7775256633758545,-0.7831777334213257,-0.7708942294120789,-1.5985673666000366,-0.8422194719314575,-1.1146118640899658,-0.9092471599578857,-0.8117268681526184,-1.3230808973312378,-0.8796476721763611,-1.3574938774108887,-0.9073773622512817,-1.187795639038086,-0.8562005758285522,-1.2661398649215698,-1.5180518627166748,-0.8073956966400146,-1.2569313049316406,-1.535654067993164,-0.8888174891471863,-1.0292742252349854,-1.0324604511260986,-0.9097757935523987,-0.7293235659599304,-1.1608576774597168,-1.69381582736969,-1.1213663816452026,-2.991039276123047,-1.4964045286178589,-1.1408286094665527,-0.9241591095924377,-0.7092621326446533,-1.7538044452667236,-1.0906139612197876,-1.0703020095825195,-1.117848515510559,-0.9432786703109741,-1.211692452430725,-1.01972234249115,-1.0696855783462524,-1.0715254545211792,-0.9645171761512756,-2.4147040843963623,-1.0427979230880737,-0.7518474459648132,-2.788890838623047,-0.7952483892440796,-0.7245858907699585],\"yaxis\":\"y\",\"type\":\"scatter\"},{\"hovertemplate\":\"Variant=Beta\\u003cbr\\u003e0=%{x}\\u003cbr\\u003e1=%{y}\\u003cextra\\u003e\\u003c\\u002fextra\\u003e\",\"legendgroup\":\"Beta\",\"marker\":{\"color\":\"#EF553B\",\"symbol\":\"circle\"},\"mode\":\"markers\",\"name\":\"Beta\",\"orientation\":\"v\",\"showlegend\":true,\"x\":[6.769912242889404,8.328189849853516,7.695265293121338,7.982251167297363,6.956994533538818,8.182759284973145,8.418006896972656,7.867944240570068,8.04529857635498,8.014487266540527,7.863620281219482,7.875705242156982,7.925248622894287,8.006296157836914,8.189248085021973,8.092894554138184,6.885532855987549,7.783397674560547,7.676775932312012,7.944362163543701,8.373740196228027,8.728497505187988,8.456457138061523,7.7453436851501465,8.299301147460938,7.782429218292236,6.84281587600708,7.007818698883057,6.732236862182617,6.9250946044921875,6.886674880981445,3.786212682723999,2.883066177368164,4.37365198135376,8.100911140441895,7.961338520050049,7.949035167694092,7.780737400054932,7.074316024780273,7.8960113525390625,7.688157081604004,7.941140174865723,7.72614860534668,8.567434310913086,8.575752258300781,8.419357299804688,6.878386497497559,6.812453746795654,7.995744705200195,8.092594146728516,6.831398010253906,7.901206970214844,8.22000503540039,8.072277069091797,6.886998653411865,6.88216495513916,7.927553176879883,8.186711311340332,7.971805095672607,6.878334045410156,7.905043125152588,8.531415939331055,7.572021961212158,6.880941867828369],\"xaxis\":\"x\",\"y\":[-1.6315503120422363,15.496450424194336,15.512928009033203,15.426054000854492,16.18821144104004,15.277335166931152,15.414837837219238,15.57812213897705,15.666577339172363,15.603507995605469,15.403079986572266,15.225125312805176,15.804439544677734,15.780938148498535,15.885174751281738,15.798872947692871,16.199493408203125,15.346898078918457,15.45997142791748,15.286799430847168,15.538003921508789,15.382769584655762,15.40954875946045,15.32097053527832,15.490991592407227,15.40755558013916,16.338369369506836,16.153642654418945,16.407875061035156,-1.5220009088516235,16.278423309326172,-2.971055030822754,-2.9326720237731934,-2.7396321296691895,15.776838302612305,15.837624549865723,15.823587417602539,15.51465892791748,16.09588623046875,15.643946647644043,15.407546043395996,15.540894508361816,15.404704093933105,15.462482452392578,15.444014549255371,15.37576675415039,16.306215286254883,16.323881149291992,15.455245971679688,15.472992897033691,16.359682083129883,15.412381172180176,15.555581092834473,15.708401679992676,16.314821243286133,16.16000747680664,15.561439514160156,15.407715797424316,15.778182983398438,16.258726119995117,15.56182861328125,15.263882637023926,15.933457374572754,16.261062622070312],\"yaxis\":\"y\",\"type\":\"scatter\"},{\"hovertemplate\":\"Variant=Delta\\u003cbr\\u003e0=%{x}\\u003cbr\\u003e1=%{y}\\u003cextra\\u003e\\u003c\\u002fextra\\u003e\",\"legendgroup\":\"Delta\",\"marker\":{\"color\":\"#00cc96\",\"symbol\":\"circle\"},\"mode\":\"markers\",\"name\":\"Delta\",\"orientation\":\"v\",\"showlegend\":true,\"x\":[7.541802883148193,8.249975204467773,8.164804458618164,8.251872062683105,8.378549575805664,8.824541091918945,7.8902587890625,8.282211303710938,8.125251770019531,4.48421049118042,8.930397987365723,8.454850196838379,8.160573959350586,8.431715965270996,7.8568854331970215,8.242246627807617,4.037077903747559,9.044546127319336,9.016000747680664,3.8218164443969727,8.02812671661377,7.490758419036865,8.148694038391113,8.067997932434082,8.093409538269043,8.002182960510254,3.859670877456665,7.687674522399902,8.068949699401855,8.263519287109375,9.035257339477539,8.55520248413086,7.955982208251953,8.442538261413574,8.25986099243164,8.417447090148926,7.5196146965026855,9.01116943359375,8.002450942993164,9.009137153625488,8.057207107543945,8.237796783447266,8.866286277770996,8.123775482177734,8.216520309448242,8.153130531311035,8.20805549621582,9.084428787231445,7.971390724182129,8.834732055664062,8.241357803344727,8.232185363769531,8.325580596923828,7.536162853240967,8.243687629699707,8.190979957580566,8.263608932495117,7.966163635253906,8.976187705993652,8.173683166503906,8.8703031539917,7.600398063659668,4.489898681640625,8.101147651672363,8.08740234375,8.238142967224121],\"xaxis\":\"x\",\"y\":[9.433797836303711,8.338985443115234,8.65220832824707,9.232861518859863,9.247243881225586,8.72050952911377,8.880095481872559,9.146306991577148,9.145732879638672,-2.60720157623291,8.530007362365723,9.055956840515137,8.556173324584961,9.2574462890625,8.878274917602539,9.151436805725098,-2.8997151851654053,8.20179271697998,8.169120788574219,-2.9744579792022705,8.36546802520752,9.4851713180542,9.129700660705566,9.302836418151855,9.144763946533203,9.002018928527832,-2.932581901550293,9.405101776123047,9.540754318237305,8.157280921936035,8.123486518859863,9.29940128326416,9.211543083190918,9.177282333374023,8.04170036315918,9.413201332092285,9.468618392944336,8.239441871643066,9.459206581115723,8.207295417785645,9.375100135803223,9.065946578979492,8.648006439208984,9.513853073120117,9.083170890808105,8.941662788391113,9.379624366760254,8.240384101867676,9.305133819580078,8.077817916870117,9.265155792236328,8.233221054077148,8.140007019042969,9.436835289001465,8.288686752319336,9.335699081420898,8.194694519042969,9.247594833374023,8.300701141357422,9.41741943359375,8.66238021850586,9.405261039733887,-2.6397159099578857,9.401191711425781,9.271300315856934,9.17861557006836],\"yaxis\":\"y\",\"type\":\"scatter\"},{\"hovertemplate\":\"Variant=Omicron\\u003cbr\\u003e0=%{x}\\u003cbr\\u003e1=%{y}\\u003cextra\\u003e\\u003c\\u002fextra\\u003e\",\"legendgroup\":\"Omicron\",\"marker\":{\"color\":\"#ab63fa\",\"symbol\":\"circle\"},\"mode\":\"markers\",\"name\":\"Omicron\",\"orientation\":\"v\",\"showlegend\":true,\"x\":[-0.8654943704605103,2.110670328140259,-1.499330997467041,-4.662518501281738,-1.6000332832336426,-1.2969931364059448,7.626354694366455,7.774263858795166,-1.6255794763565063,-1.34345281124115,3.073187828063965,0.5724241733551025,1.8941701650619507,2.794703960418701,-1.349166989326477,1.7522549629211426,-1.7862327098846436,-1.392971158027649,-1.3271585702896118,-0.06400235742330551,-1.2633647918701172,-1.8578442335128784,2.238088607788086,-1.2046945095062256,-4.705155849456787,-1.1300418376922607,0.11978661268949509,-1.3099333047866821,-1.4378900527954102,3.1655802726745605,-2.201118230819702,2.92059588432312,-0.011611904948949814,-1.421483039855957,-4.664796829223633,-1.1411000490188599,-1.2033473253250122,-2.1686389446258545,-1.3809596300125122,-4.70654821395874,2.636711835861206,0.30717819929122925,-0.02150569297373295,0.12383784353733063,-1.096108317375183,-4.718358993530273,-4.5641770362854,-1.156337857246399,3.269883155822754,0.45671820640563965,-4.629473686218262,-2.7997050285339355,2.070876121520996,-4.543089389801025,2.7583587169647217,-0.25106313824653625,-1.4671798944473267,-1.1256276369094849,0.04596485197544098,0.83807373046875,2.8324780464172363,-1.2245489358901978,-1.5573828220367432,-1.2639771699905396,0.5037921071052551,3.1541242599487305,-1.2624125480651855,-2.7776410579681396,-2.621243715286255,-1.1583997011184692,-0.004076808225363493,-2.0926148891448975,-1.0014774799346924,-4.622145652770996,-1.9683036804199219,2.2001214027404785,-2.750169515609741,-3.0729219913482666,-0.3489742577075958,2.987992525100708,1.7235339879989624,-3.095741033554077,0.7250422835350037,-2.7624924182891846,-1.1091886758804321,-1.5522822141647339,-1.640000820159912,-0.28335610032081604,3.1107306480407715,-4.584977626800537,-2.9428904056549072,-4.645924091339111,-1.9549142122268677,0.6997025609016418,-2.0925538539886475,1.8564348220825195,-2.12304949760437,-1.905142068862915,3.0448477268218994,0.10017896443605423,-1.918715000152588,2.270866632461548,-2.03487229347229,2.1291308403015137,2.8165552616119385,-4.524172306060791,-1.5458407402038574,1.4451771974563599,-1.4121620655059814,1.7358043193817139,3.038538932800293,-1.1171425580978394,-1.3109017610549927,-3.004432439804077,-4.56785249710083,-0.5484604239463806,0.5555662512779236,-1.3949917554855347,2.5054519176483154,-2.0574560165405273,-3.127969741821289,2.856356382369995,-0.4896791875362396,-4.605030059814453,7.653661251068115,-1.854567289352417,-1.340900182723999,3.1990416049957275,-4.548675060272217,0.04188079759478569,-2.882397413253784,3.1170694828033447,-1.9011342525482178,-1.1159542798995972,-2.8496339321136475,-1.8818190097808838,0.7450125217437744,-1.2167901992797852,-1.3032290935516357,3.1681296825408936,-1.8403592109680176,0.648195207118988,-1.2326982021331787,-1.751643419265747,2.5830819606781006,-1.686691403388977,-0.5246754288673401,-1.3452481031417847,-0.2591293752193451,-1.1693243980407715,-3.0058648586273193,-2.1073005199432373,-2.590700149536133,2.4905803203582764,1.7692855596542358,-1.8507134914398193,-1.1239715814590454,2.953400135040283,-0.003062025411054492,7.682956695556641,-1.5862541198730469,2.054757595062256,-2.9949538707733154,3.0161571502685547,-1.8293131589889526,1.6949658393859863,-1.835059642791748,2.1417744159698486,-1.1232879161834717,-1.5896649360656738,-1.5230478048324585,-1.6013879776000977,-4.6407647132873535,2.8336172103881836,1.564994215965271,-0.6325399875640869,-1.911136269569397,-1.4482946395874023,-0.09569674730300903,-1.8389601707458496,-1.4583243131637573,2.239321231842041,-1.0174925327301025,-3.0743558406829834,-0.4192967712879181,3.06990647315979,-1.4840576648712158,-2.7245125770568848,7.667034149169922,3.2068471908569336,7.728342056274414,-0.9578849077224731,0.27109140157699585,3.0550873279571533,3.01155686378479,-1.9375993013381958,-0.7537810206413269,-1.053868055343628,-0.45993664860725403,-2.7100751399993896,0.5227872729301453,-1.3725234270095825,1.6070691347122192,2.0136702060699463,3.233262777328491,-2.1070258617401123,-1.5558903217315674,-1.1394351720809937,0.7576353549957275,3.054278612136841,-0.6571113467216492,-1.0820841789245605,-1.2209769487380981,-1.968679428100586,0.6927741765975952,-1.4916123151779175,-0.9740628600120544,0.23371709883213043,-0.07823825627565384,0.6909751296043396,-0.7611384987831116,-1.0535380840301514,0.005268588662147522,-0.7191075086593628,-1.3098701238632202,3.1911473274230957,2.1547691822052,-2.0228428840637207,-1.6090760231018066,-1.7546491622924805,0.05693810060620308,0.3704668879508972,-1.8733989000320435,3.0012285709381104,2.447981357574463,2.037316083908081,2.8831632137298584,-0.9375145435333252,-2.014549493789673,-1.9705206155776978,-0.6414619088172913,-1.638864517211914,-1.1713721752166748,0.8068220615386963,-4.677464962005615,-1.621821403503418,-1.6814590692520142,0.8512150645256042,-1.2995431423187256,3.1965954303741455,-0.5266923308372498,-1.4125168323516846,0.7361958026885986,-2.899942636489868,-0.27279627323150635,7.699221611022949,-1.2140837907791138,-0.9768704771995544,3.0000996589660645,0.9745813012123108,0.9264070987701416,2.500671625137329,1.2885526418685913,-0.015735970810055733,-1.1605054140090942,0.7037261724472046,-0.9729239344596863,1.6450313329696655,-2.0171432495117188,-1.7318730354309082,3.267930507659912,2.53337025642395,0.6721991896629333],\"xaxis\":\"x\",\"y\":[-1.8652400970458984,-3.70133900642395,-6.52334451675415,11.032299995422363,-1.165326476097107,-5.679499626159668,8.577560424804688,8.436304092407227,-5.8443121910095215,-1.6295548677444458,-3.1940817832946777,-3.1542999744415283,-4.225527286529541,-3.01426362991333,-5.743269443511963,-3.7752301692962646,-7.006621837615967,-1.7068828344345093,-5.895466327667236,-5.369088649749756,-5.209193229675293,-6.879104137420654,-5.199237823486328,-1.277451515197754,10.985414505004883,-1.3460344076156616,-5.2705302238464355,-5.175885200500488,-1.5884511470794678,-2.0657076835632324,-6.20353364944458,-6.8361358642578125,-5.312894821166992,-5.860351085662842,10.958964347839355,-1.224793553352356,-5.987682819366455,-6.257342338562012,-5.802927017211914,11.03876781463623,-3.2437362670898438,-4.675558090209961,-5.425299644470215,-5.498959541320801,-8.163131713867188,10.978076934814453,10.978384017944336,-1.8576455116271973,-6.844766616821289,-4.870280742645264,11.06152629852295,-6.584992408752441,-5.020870685577393,11.053847312927246,-3.0016491413116455,-5.628220558166504,-6.079124927520752,-1.315000057220459,-5.4031453132629395,-2.911750078201294,-6.818502902984619,-5.390163898468018,-1.3755443096160889,-6.0586419105529785,-4.9066386222839355,-3.0926544666290283,-5.826187610626221,-6.474140167236328,-6.62954568862915,-8.136467933654785,-2.9711737632751465,-6.448511123657227,-1.9720607995986938,11.08694076538086,-6.864984512329102,-3.833524703979492,-6.569750785827637,-6.3703389167785645,-2.8559622764587402,-2.9667019844055176,-4.119626998901367,-6.396746635437012,-4.697800636291504,-6.691137313842773,-8.189379692077637,-6.696990489959717,-6.920335292816162,-2.8737449645996094,-2.295118808746338,11.110687255859375,-6.51455545425415,11.16450309753418,-6.977554798126221,-3.046125650405884,-6.3305206298828125,-4.431748867034912,-6.234450817108154,-7.009929656982422,-2.262133836746216,-5.265625953674316,-6.351195335388184,-3.5868828296661377,-6.821927070617676,-3.655776262283325,-2.903913974761963,11.16339111328125,-1.2280089855194092,-4.49210786819458,-1.3128236532211304,-3.982697010040283,-2.5102736949920654,-8.181632041931152,-1.67391037940979,-6.393161296844482,11.13165283203125,-2.5376336574554443,-4.328670024871826,-1.274707555770874,-2.6933186054229736,-6.827220439910889,-6.34231424331665,-2.633091449737549,-2.644115924835205,11.105399131774902,8.667613983154297,-5.038852214813232,-5.208653926849365,-6.805442810058594,11.115966796875,-5.379462718963623,-6.429002285003662,-2.105541229248047,-6.9095916748046875,-8.17945384979248,-6.403753280639648,-6.583993434906006,-3.052396297454834,-1.2579575777053833,-1.7123314142227173,-2.063566207885742,-7.053333282470703,-3.0967273712158203,-4.977450370788574,-6.823007106781006,-3.33931040763855,-4.902872085571289,-4.064811706542969,-5.731151103973389,-2.853870391845703,-6.027575492858887,-6.395216941833496,-6.361599445343018,-6.386623859405518,-2.739241600036621,-4.55051851272583,-6.331245422363281,-8.178018569946289,-6.913532257080078,-5.323612689971924,8.524819374084473,-6.063262939453125,-4.371668815612793,-6.417370319366455,-2.8095099925994873,-6.734799861907959,-4.379382133483887,-6.962073802947998,-3.714247465133667,-8.167084693908691,-1.2443909645080566,-1.463995337486267,-1.4474350214004517,11.15640926361084,-2.821035146713257,-4.0740156173706055,-2.498826503753662,-7.006663799285889,-1.368576169013977,-5.481016159057617,-4.952706813812256,-1.7437047958374023,-4.058773040771484,-5.964747428894043,-6.3836469650268555,-5.788952827453613,-2.189397096633911,-4.824704647064209,-6.174646854400635,8.751120567321777,-6.751064300537109,8.859476089477539,-2.0844037532806396,-4.995966911315918,-2.021681070327759,-2.309816837310791,-6.28761100769043,-4.305452823638916,-1.7997804880142212,-2.673309087753296,-6.175431728363037,-4.9594340324401855,-1.7075449228286743,-4.0580525398254395,-3.774785280227661,-6.686974048614502,-6.302328109741211,-1.356445074081421,-8.148140907287598,-3.012346029281616,-2.920715093612671,-2.479459762573242,-8.216775894165039,-1.2932243347167969,-6.200112342834473,-3.0191221237182617,-6.571287631988525,-2.1885526180267334,-5.322043418884277,-5.475417613983154,-4.825052738189697,-1.9084059000015259,-1.7816238403320312,-5.103161334991455,-2.3337435722351074,-5.154294013977051,-2.095897912979126,-3.6574833393096924,-6.7631683349609375,-1.2310353517532349,-1.3079032897949219,-5.372683048248291,-4.434930324554443,-6.739032745361328,-2.7292184829711914,-3.517834424972534,-4.586547374725342,-3.0582103729248047,-2.0545451641082764,-6.318892478942871,-6.769627094268799,-5.383247375488281,-1.4169403314590454,-5.894627571105957,-4.70424747467041,11.061629295349121,-6.413550853729248,-1.2949519157409668,-4.443422317504883,-5.217870712280273,-7.037634372711182,-3.97719407081604,-5.828352928161621,-4.466353416442871,-6.28024435043335,-5.645041465759277,8.697883605957031,-1.2644493579864502,-1.8485108613967896,-3.0296759605407715,-4.605788707733154,-4.5845046043396,-5.69140625,-4.736952781677246,-5.390659332275391,-5.415155410766602,-2.9606211185455322,-1.4713795185089111,-3.963834762573242,-6.896473407745361,-6.588672161102295,-6.766845226287842,-3.376849412918091,-3.0352272987365723],\"yaxis\":\"y\",\"type\":\"scatter\"},{\"hovertemplate\":\"Variant=Omicron Sub\\u003cbr\\u003e0=%{x}\\u003cbr\\u003e1=%{y}\\u003cextra\\u003e\\u003c\\u002fextra\\u003e\",\"legendgroup\":\"Omicron Sub\",\"marker\":{\"color\":\"#FFA15A\",\"symbol\":\"circle\"},\"mode\":\"markers\",\"name\":\"Omicron Sub\",\"orientation\":\"v\",\"showlegend\":true,\"x\":[2.8732717037200928,3.041203022003174,3.100024938583374,2.7408194541931152,3.1275908946990967,3.389005184173584,3.311190366744995,3.2033276557922363,2.918607234954834,3.0940778255462646,3.3579249382019043,2.1220953464508057,3.3801276683807373,2.981764793395996,2.949132204055786,0.705034613609314,3.0559158325195312,3.073969602584839,2.2573964595794678,2.370368242263794,2.9484503269195557,2.620086193084717,2.058549165725708,1.9435999393463135,2.52669620513916,3.113783836364746,2.0379955768585205,2.9961111545562744,3.28391170501709,2.113797903060913,3.0308892726898193,3.2267963886260986,3.0909323692321777,3.021414041519165,2.7408008575439453,2.422574758529663,3.239672899246216,2.7290642261505127,3.0754079818725586],\"xaxis\":\"x\",\"y\":[-6.451642036437988,-2.1538119316101074,-2.154313087463379,-6.023039817810059,-6.845602989196777,-6.630576133728027,-6.64155387878418,-6.537129878997803,-6.484875202178955,-6.924455165863037,-6.841477394104004,-4.922103404998779,-6.7116827964782715,-6.960882663726807,-6.719717979431152,-3.0325944423675537,-6.578866481781006,-6.613654613494873,-5.250706672668457,-5.492341041564941,-6.934192180633545,-5.853209018707275,-4.954460144042969,-4.609956741333008,-5.716437816619873,-6.596890449523926,-4.589941501617432,-6.899822235107422,-6.834071636199951,-4.917916774749756,-6.977687835693359,-6.8080668449401855,-2.963341474533081,-6.884670257568359,-6.011056423187256,-5.595701217651367,-6.850074768066406,-6.004642963409424,-6.855814456939697],\"yaxis\":\"y\",\"type\":\"scatter\"}],                        {\"template\":{\"data\":{\"histogram2dcontour\":[{\"type\":\"histogram2dcontour\",\"colorbar\":{\"outlinewidth\":0,\"ticks\":\"\"},\"colorscale\":[[0.0,\"#0d0887\"],[0.1111111111111111,\"#46039f\"],[0.2222222222222222,\"#7201a8\"],[0.3333333333333333,\"#9c179e\"],[0.4444444444444444,\"#bd3786\"],[0.5555555555555556,\"#d8576b\"],[0.6666666666666666,\"#ed7953\"],[0.7777777777777778,\"#fb9f3a\"],[0.8888888888888888,\"#fdca26\"],[1.0,\"#f0f921\"]]}],\"choropleth\":[{\"type\":\"choropleth\",\"colorbar\":{\"outlinewidth\":0,\"ticks\":\"\"}}],\"histogram2d\":[{\"type\":\"histogram2d\",\"colorbar\":{\"outlinewidth\":0,\"ticks\":\"\"},\"colorscale\":[[0.0,\"#0d0887\"],[0.1111111111111111,\"#46039f\"],[0.2222222222222222,\"#7201a8\"],[0.3333333333333333,\"#9c179e\"],[0.4444444444444444,\"#bd3786\"],[0.5555555555555556,\"#d8576b\"],[0.6666666666666666,\"#ed7953\"],[0.7777777777777778,\"#fb9f3a\"],[0.8888888888888888,\"#fdca26\"],[1.0,\"#f0f921\"]]}],\"heatmap\":[{\"type\":\"heatmap\",\"colorbar\":{\"outlinewidth\":0,\"ticks\":\"\"},\"colorscale\":[[0.0,\"#0d0887\"],[0.1111111111111111,\"#46039f\"],[0.2222222222222222,\"#7201a8\"],[0.3333333333333333,\"#9c179e\"],[0.4444444444444444,\"#bd3786\"],[0.5555555555555556,\"#d8576b\"],[0.6666666666666666,\"#ed7953\"],[0.7777777777777778,\"#fb9f3a\"],[0.8888888888888888,\"#fdca26\"],[1.0,\"#f0f921\"]]}],\"heatmapgl\":[{\"type\":\"heatmapgl\",\"colorbar\":{\"outlinewidth\":0,\"ticks\":\"\"},\"colorscale\":[[0.0,\"#0d0887\"],[0.1111111111111111,\"#46039f\"],[0.2222222222222222,\"#7201a8\"],[0.3333333333333333,\"#9c179e\"],[0.4444444444444444,\"#bd3786\"],[0.5555555555555556,\"#d8576b\"],[0.6666666666666666,\"#ed7953\"],[0.7777777777777778,\"#fb9f3a\"],[0.8888888888888888,\"#fdca26\"],[1.0,\"#f0f921\"]]}],\"contourcarpet\":[{\"type\":\"contourcarpet\",\"colorbar\":{\"outlinewidth\":0,\"ticks\":\"\"}}],\"contour\":[{\"type\":\"contour\",\"colorbar\":{\"outlinewidth\":0,\"ticks\":\"\"},\"colorscale\":[[0.0,\"#0d0887\"],[0.1111111111111111,\"#46039f\"],[0.2222222222222222,\"#7201a8\"],[0.3333333333333333,\"#9c179e\"],[0.4444444444444444,\"#bd3786\"],[0.5555555555555556,\"#d8576b\"],[0.6666666666666666,\"#ed7953\"],[0.7777777777777778,\"#fb9f3a\"],[0.8888888888888888,\"#fdca26\"],[1.0,\"#f0f921\"]]}],\"surface\":[{\"type\":\"surface\",\"colorbar\":{\"outlinewidth\":0,\"ticks\":\"\"},\"colorscale\":[[0.0,\"#0d0887\"],[0.1111111111111111,\"#46039f\"],[0.2222222222222222,\"#7201a8\"],[0.3333333333333333,\"#9c179e\"],[0.4444444444444444,\"#bd3786\"],[0.5555555555555556,\"#d8576b\"],[0.6666666666666666,\"#ed7953\"],[0.7777777777777778,\"#fb9f3a\"],[0.8888888888888888,\"#fdca26\"],[1.0,\"#f0f921\"]]}],\"mesh3d\":[{\"type\":\"mesh3d\",\"colorbar\":{\"outlinewidth\":0,\"ticks\":\"\"}}],\"scatter\":[{\"fillpattern\":{\"fillmode\":\"overlay\",\"size\":10,\"solidity\":0.2},\"type\":\"scatter\"}],\"parcoords\":[{\"type\":\"parcoords\",\"line\":{\"colorbar\":{\"outlinewidth\":0,\"ticks\":\"\"}}}],\"scatterpolargl\":[{\"type\":\"scatterpolargl\",\"marker\":{\"colorbar\":{\"outlinewidth\":0,\"ticks\":\"\"}}}],\"bar\":[{\"error_x\":{\"color\":\"#2a3f5f\"},\"error_y\":{\"color\":\"#2a3f5f\"},\"marker\":{\"line\":{\"color\":\"#E5ECF6\",\"width\":0.5},\"pattern\":{\"fillmode\":\"overlay\",\"size\":10,\"solidity\":0.2}},\"type\":\"bar\"}],\"scattergeo\":[{\"type\":\"scattergeo\",\"marker\":{\"colorbar\":{\"outlinewidth\":0,\"ticks\":\"\"}}}],\"scatterpolar\":[{\"type\":\"scatterpolar\",\"marker\":{\"colorbar\":{\"outlinewidth\":0,\"ticks\":\"\"}}}],\"histogram\":[{\"marker\":{\"pattern\":{\"fillmode\":\"overlay\",\"size\":10,\"solidity\":0.2}},\"type\":\"histogram\"}],\"scattergl\":[{\"type\":\"scattergl\",\"marker\":{\"colorbar\":{\"outlinewidth\":0,\"ticks\":\"\"}}}],\"scatter3d\":[{\"type\":\"scatter3d\",\"line\":{\"colorbar\":{\"outlinewidth\":0,\"ticks\":\"\"}},\"marker\":{\"colorbar\":{\"outlinewidth\":0,\"ticks\":\"\"}}}],\"scattermapbox\":[{\"type\":\"scattermapbox\",\"marker\":{\"colorbar\":{\"outlinewidth\":0,\"ticks\":\"\"}}}],\"scatterternary\":[{\"type\":\"scatterternary\",\"marker\":{\"colorbar\":{\"outlinewidth\":0,\"ticks\":\"\"}}}],\"scattercarpet\":[{\"type\":\"scattercarpet\",\"marker\":{\"colorbar\":{\"outlinewidth\":0,\"ticks\":\"\"}}}],\"carpet\":[{\"aaxis\":{\"endlinecolor\":\"#2a3f5f\",\"gridcolor\":\"white\",\"linecolor\":\"white\",\"minorgridcolor\":\"white\",\"startlinecolor\":\"#2a3f5f\"},\"baxis\":{\"endlinecolor\":\"#2a3f5f\",\"gridcolor\":\"white\",\"linecolor\":\"white\",\"minorgridcolor\":\"white\",\"startlinecolor\":\"#2a3f5f\"},\"type\":\"carpet\"}],\"table\":[{\"cells\":{\"fill\":{\"color\":\"#EBF0F8\"},\"line\":{\"color\":\"white\"}},\"header\":{\"fill\":{\"color\":\"#C8D4E3\"},\"line\":{\"color\":\"white\"}},\"type\":\"table\"}],\"barpolar\":[{\"marker\":{\"line\":{\"color\":\"#E5ECF6\",\"width\":0.5},\"pattern\":{\"fillmode\":\"overlay\",\"size\":10,\"solidity\":0.2}},\"type\":\"barpolar\"}],\"pie\":[{\"automargin\":true,\"type\":\"pie\"}]},\"layout\":{\"autotypenumbers\":\"strict\",\"colorway\":[\"#636efa\",\"#EF553B\",\"#00cc96\",\"#ab63fa\",\"#FFA15A\",\"#19d3f3\",\"#FF6692\",\"#B6E880\",\"#FF97FF\",\"#FECB52\"],\"font\":{\"color\":\"#2a3f5f\"},\"hovermode\":\"closest\",\"hoverlabel\":{\"align\":\"left\"},\"paper_bgcolor\":\"white\",\"plot_bgcolor\":\"#E5ECF6\",\"polar\":{\"bgcolor\":\"#E5ECF6\",\"angularaxis\":{\"gridcolor\":\"white\",\"linecolor\":\"white\",\"ticks\":\"\"},\"radialaxis\":{\"gridcolor\":\"white\",\"linecolor\":\"white\",\"ticks\":\"\"}},\"ternary\":{\"bgcolor\":\"#E5ECF6\",\"aaxis\":{\"gridcolor\":\"white\",\"linecolor\":\"white\",\"ticks\":\"\"},\"baxis\":{\"gridcolor\":\"white\",\"linecolor\":\"white\",\"ticks\":\"\"},\"caxis\":{\"gridcolor\":\"white\",\"linecolor\":\"white\",\"ticks\":\"\"}},\"coloraxis\":{\"colorbar\":{\"outlinewidth\":0,\"ticks\":\"\"}},\"colorscale\":{\"sequential\":[[0.0,\"#0d0887\"],[0.1111111111111111,\"#46039f\"],[0.2222222222222222,\"#7201a8\"],[0.3333333333333333,\"#9c179e\"],[0.4444444444444444,\"#bd3786\"],[0.5555555555555556,\"#d8576b\"],[0.6666666666666666,\"#ed7953\"],[0.7777777777777778,\"#fb9f3a\"],[0.8888888888888888,\"#fdca26\"],[1.0,\"#f0f921\"]],\"sequentialminus\":[[0.0,\"#0d0887\"],[0.1111111111111111,\"#46039f\"],[0.2222222222222222,\"#7201a8\"],[0.3333333333333333,\"#9c179e\"],[0.4444444444444444,\"#bd3786\"],[0.5555555555555556,\"#d8576b\"],[0.6666666666666666,\"#ed7953\"],[0.7777777777777778,\"#fb9f3a\"],[0.8888888888888888,\"#fdca26\"],[1.0,\"#f0f921\"]],\"diverging\":[[0,\"#8e0152\"],[0.1,\"#c51b7d\"],[0.2,\"#de77ae\"],[0.3,\"#f1b6da\"],[0.4,\"#fde0ef\"],[0.5,\"#f7f7f7\"],[0.6,\"#e6f5d0\"],[0.7,\"#b8e186\"],[0.8,\"#7fbc41\"],[0.9,\"#4d9221\"],[1,\"#276419\"]]},\"xaxis\":{\"gridcolor\":\"white\",\"linecolor\":\"white\",\"ticks\":\"\",\"title\":{\"standoff\":15},\"zerolinecolor\":\"white\",\"automargin\":true,\"zerolinewidth\":2},\"yaxis\":{\"gridcolor\":\"white\",\"linecolor\":\"white\",\"ticks\":\"\",\"title\":{\"standoff\":15},\"zerolinecolor\":\"white\",\"automargin\":true,\"zerolinewidth\":2},\"scene\":{\"xaxis\":{\"backgroundcolor\":\"#E5ECF6\",\"gridcolor\":\"white\",\"linecolor\":\"white\",\"showbackground\":true,\"ticks\":\"\",\"zerolinecolor\":\"white\",\"gridwidth\":2},\"yaxis\":{\"backgroundcolor\":\"#E5ECF6\",\"gridcolor\":\"white\",\"linecolor\":\"white\",\"showbackground\":true,\"ticks\":\"\",\"zerolinecolor\":\"white\",\"gridwidth\":2},\"zaxis\":{\"backgroundcolor\":\"#E5ECF6\",\"gridcolor\":\"white\",\"linecolor\":\"white\",\"showbackground\":true,\"ticks\":\"\",\"zerolinecolor\":\"white\",\"gridwidth\":2}},\"shapedefaults\":{\"line\":{\"color\":\"#2a3f5f\"}},\"annotationdefaults\":{\"arrowcolor\":\"#2a3f5f\",\"arrowhead\":0,\"arrowwidth\":1},\"geo\":{\"bgcolor\":\"white\",\"landcolor\":\"#E5ECF6\",\"subunitcolor\":\"white\",\"showland\":true,\"showlakes\":true,\"lakecolor\":\"white\"},\"title\":{\"x\":0.05},\"mapbox\":{\"style\":\"light\"}}},\"xaxis\":{\"anchor\":\"y\",\"domain\":[0.0,1.0],\"title\":{\"text\":\"UMAP_1\"},\"showgrid\":false,\"zeroline\":false},\"yaxis\":{\"anchor\":\"x\",\"domain\":[0.0,1.0],\"title\":{\"text\":\"UMAP_2\"},\"showgrid\":false,\"zeroline\":false},\"legend\":{\"title\":{\"text\":\"Variant\"},\"tracegroupgap\":0},\"margin\":{\"t\":60},\"font\":{\"family\":\"Courier New, monospace\",\"size\":18,\"color\":\"RebeccaPurple\"}},                        {\"responsive\": true}                    ).then(function(){\n                            \nvar gd = document.getElementById('33bae605-8198-4fad-b687-8d97c6a1a32c');\nvar x = new MutationObserver(function (mutations, observer) {{\n        var display = window.getComputedStyle(gd).display;\n        if (!display || display === 'none') {{\n            console.log([gd, 'removed!']);\n            Plotly.purge(gd);\n            observer.disconnect();\n        }}\n}});\n\n// Listen for the removal of the full notebook cells\nvar notebookContainer = gd.closest('#notebook-container');\nif (notebookContainer) {{\n    x.observe(notebookContainer, {childList: true});\n}}\n\n// Listen for the clearing of the current output cell\nvar outputEl = gd.closest('.output');\nif (outputEl) {{\n    x.observe(outputEl, {childList: true});\n}}\n\n                        })                };                });            </script>        </div>"
     },
     "metadata": {},
     "output_type": "display_data"
    },
    {
     "data": {
      "application/vnd.plotly.v1+json": {
       "data": [
        {
         "hovertemplate": "Variant=Alpha<br>0=%{x}<br>1=%{y}<extra></extra>",
         "legendgroup": "Alpha",
         "marker": {
          "color": "#636efa",
          "symbol": "circle"
         },
         "mode": "markers",
         "name": "Alpha",
         "orientation": "v",
         "showlegend": true,
         "x": [
          6.455751895904541,
          6.792472839355469,
          6.309737682342529,
          6.180174827575684,
          6.900477886199951,
          6.952524185180664,
          6.389564514160156,
          6.836410045623779,
          6.732495307922363,
          6.492461204528809,
          6.838053226470947,
          6.636509895324707,
          6.360382080078125,
          6.369455337524414,
          6.314598083496094,
          6.6643571853637695,
          6.6682209968566895,
          6.4539594650268555,
          6.446256160736084,
          6.736772060394287,
          6.598441123962402,
          6.52753210067749,
          6.303536891937256,
          6.58887243270874,
          6.716056823730469,
          6.754354000091553,
          6.589369297027588,
          6.777681350708008,
          6.550317764282227,
          6.896437168121338,
          6.947391033172607,
          6.709200859069824,
          6.8317389488220215,
          6.559157371520996,
          7.046335697174072,
          7.06978702545166,
          6.781525135040283,
          6.494215488433838,
          6.906418800354004,
          6.439489364624023,
          6.749813079833984,
          6.53631591796875,
          6.7168354988098145,
          6.590998649597168,
          6.602900505065918,
          6.577424049377441,
          6.818333148956299,
          6.615869998931885,
          6.692650318145752,
          -7.400535583496094,
          6.531247138977051,
          6.636004447937012,
          6.953696250915527,
          6.393277645111084,
          6.7390265464782715
         ],
         "xaxis": "x",
         "y": [
          10.929940223693848,
          10.327947616577148,
          10.306964874267578,
          10.494656562805176,
          10.837526321411133,
          10.354788780212402,
          10.581314086914062,
          10.769734382629395,
          10.476069450378418,
          10.784488677978516,
          10.113188743591309,
          10.366177558898926,
          10.539289474487305,
          10.52651309967041,
          10.568475723266602,
          10.870584487915039,
          10.73442268371582,
          10.266828536987305,
          10.632329940795898,
          10.251431465148926,
          10.18749713897705,
          10.413588523864746,
          10.49800968170166,
          10.4970703125,
          10.786829948425293,
          10.464303970336914,
          10.645047187805176,
          10.560117721557617,
          10.81223201751709,
          10.558185577392578,
          10.535500526428223,
          10.269369125366211,
          10.970638275146484,
          10.44946575164795,
          9.763036727905273,
          10.297859191894531,
          10.740010261535645,
          10.424023628234863,
          10.473311424255371,
          10.670613288879395,
          10.398465156555176,
          10.79504108428955,
          10.596417427062988,
          10.652495384216309,
          10.740270614624023,
          10.6209135055542,
          10.611560821533203,
          10.78942584991455,
          10.507514953613281,
          3.7220065593719482,
          10.568737983703613,
          10.562822341918945,
          10.742327690124512,
          10.724567413330078,
          10.619709014892578
         ],
         "yaxis": "y",
         "type": "scatter"
        },
        {
         "hovertemplate": "Variant=Beta<br>0=%{x}<br>1=%{y}<extra></extra>",
         "legendgroup": "Beta",
         "marker": {
          "color": "#EF553B",
          "symbol": "circle"
         },
         "mode": "markers",
         "name": "Beta",
         "orientation": "v",
         "showlegend": true,
         "x": [
          12.971400260925293,
          12.894771575927734,
          13.012937545776367,
          12.895998001098633,
          12.450648307800293,
          13.2457914352417,
          13.344730377197266,
          12.944270133972168,
          13.324052810668945,
          13.218592643737793,
          12.6664400100708,
          13.024669647216797,
          13.359713554382324,
          13.089323997497559,
          13.013628005981445,
          13.175108909606934,
          12.541836738586426,
          12.874812126159668,
          13.153512001037598,
          12.829574584960938,
          13.10571002960205,
          13.669325828552246,
          13.557435989379883,
          13.274125099182129,
          12.971717834472656,
          13.143991470336914,
          12.519505500793457,
          12.779388427734375,
          12.507890701293945,
          12.98015022277832,
          12.431748390197754,
          13.669076919555664,
          12.422710418701172,
          13.204527854919434,
          12.863287925720215,
          13.236658096313477,
          12.678932189941406,
          12.942870140075684,
          12.907740592956543,
          13.164711952209473,
          13.072352409362793,
          13.062466621398926,
          12.844148635864258,
          13.639798164367676,
          13.021383285522461,
          12.979902267456055,
          12.489007949829102,
          12.485384941101074,
          12.931841850280762,
          13.018924713134766,
          12.568437576293945,
          13.02973461151123,
          12.958697319030762,
          13.129740715026855,
          12.473381042480469,
          12.647292137145996,
          13.137533187866211,
          13.0867338180542,
          13.07917308807373,
          12.397430419921875,
          12.741398811340332,
          13.097734451293945,
          12.86279582977295,
          12.509062767028809
         ],
         "xaxis": "x",
         "y": [
          6.07273006439209,
          6.519855499267578,
          6.743865489959717,
          6.219095706939697,
          6.858222007751465,
          6.278960227966309,
          6.257264614105225,
          6.385297775268555,
          6.948268413543701,
          6.540854454040527,
          6.32721471786499,
          6.252835750579834,
          6.663101673126221,
          6.929105281829834,
          6.493204116821289,
          6.502370834350586,
          6.750707149505615,
          6.202612400054932,
          6.789755344390869,
          6.228326797485352,
          6.834994792938232,
          6.394134998321533,
          6.440093994140625,
          6.412875175476074,
          6.778083801269531,
          6.389304161071777,
          6.516491889953613,
          6.513162612915039,
          6.684721946716309,
          6.723637580871582,
          6.6013360023498535,
          6.309647083282471,
          6.330726146697998,
          6.911105632781982,
          6.941152095794678,
          6.7612457275390625,
          6.754128932952881,
          6.538729667663574,
          6.431883811950684,
          6.4268293380737305,
          6.370912551879883,
          6.483218193054199,
          6.626458168029785,
          6.540806293487549,
          6.568112373352051,
          6.525745391845703,
          6.582536220550537,
          6.48844051361084,
          6.440117835998535,
          6.7821831703186035,
          6.471181392669678,
          6.662469387054443,
          6.574810981750488,
          6.583345890045166,
          6.515398979187012,
          6.751635551452637,
          6.38047981262207,
          6.648903846740723,
          6.460812091827393,
          6.555316925048828,
          6.59099817276001,
          6.3683857917785645,
          6.654043674468994,
          6.732981204986572
         ],
         "yaxis": "y",
         "type": "scatter"
        },
        {
         "hovertemplate": "Variant=Delta<br>0=%{x}<br>1=%{y}<extra></extra>",
         "legendgroup": "Delta",
         "marker": {
          "color": "#00cc96",
          "symbol": "circle"
         },
         "mode": "markers",
         "name": "Delta",
         "orientation": "v",
         "showlegend": true,
         "x": [
          14.184233665466309,
          14.491029739379883,
          14.364567756652832,
          14.72262954711914,
          14.531363487243652,
          15.086463928222656,
          14.821648597717285,
          14.882569313049316,
          14.704141616821289,
          14.419035911560059,
          15.268266677856445,
          14.528664588928223,
          14.43582820892334,
          14.636327743530273,
          14.782045364379883,
          14.661251068115234,
          14.494514465332031,
          15.333562850952148,
          15.23731803894043,
          15.368674278259277,
          14.369444847106934,
          14.286116600036621,
          14.62159538269043,
          14.607344627380371,
          14.759008407592773,
          14.908897399902344,
          14.455611228942871,
          14.231426239013672,
          14.310487747192383,
          14.442660331726074,
          15.231217384338379,
          14.534003257751465,
          14.568085670471191,
          14.549307823181152,
          14.410825729370117,
          14.63093376159668,
          14.33180046081543,
          15.29421615600586,
          14.41827392578125,
          15.208273887634277,
          14.732308387756348,
          14.656789779663086,
          15.185528755187988,
          14.740165710449219,
          14.71672248840332,
          14.529430389404297,
          14.380511283874512,
          15.3241605758667,
          14.615267753601074,
          15.225906372070312,
          14.693977355957031,
          14.352267265319824,
          14.72414493560791,
          14.28979778289795,
          14.568275451660156,
          14.345834732055664,
          14.466012954711914,
          14.742477416992188,
          15.17762279510498,
          14.531593322753906,
          15.228260040283203,
          14.35268497467041,
          14.519740104675293,
          14.265776634216309,
          14.567211151123047,
          14.621782302856445
         ],
         "xaxis": "x",
         "y": [
          -3.559056282043457,
          -2.792689561843872,
          -2.728487014770508,
          -3.2637510299682617,
          -3.5932891368865967,
          -3.2286510467529297,
          -3.0220775604248047,
          -3.082709789276123,
          -2.9473190307617188,
          -2.4388961791992188,
          -3.137939214706421,
          -3.4792215824127197,
          -2.721364974975586,
          -3.0296101570129395,
          -2.8321173191070557,
          -3.332484006881714,
          -2.688143730163574,
          -3.263960838317871,
          -3.2956342697143555,
          -3.1368701457977295,
          -3.1806282997131348,
          -3.4590370655059814,
          -3.307455062866211,
          -3.0529115200042725,
          -3.003450393676758,
          -3.3488688468933105,
          -2.304203748703003,
          -3.3562114238739014,
          -2.9729409217834473,
          -2.7835614681243896,
          -3.3418684005737305,
          -3.135270833969116,
          -3.4414799213409424,
          -3.5609331130981445,
          -2.4557597637176514,
          -3.433764696121216,
          -3.6938328742980957,
          -3.367696762084961,
          -3.171349048614502,
          -3.40010666847229,
          -3.0825886726379395,
          -3.371073007583618,
          -3.2033658027648926,
          -3.1562089920043945,
          -3.237682580947876,
          -3.1998801231384277,
          -3.1032629013061523,
          -3.2706871032714844,
          -3.009885311126709,
          -3.239196538925171,
          -3.297750473022461,
          -2.4776554107666016,
          -2.7051734924316406,
          -3.596865653991699,
          -2.917132616043091,
          -3.1473934650421143,
          -2.6034128665924072,
          -3.134859800338745,
          -3.3368613719940186,
          -3.109520435333252,
          -3.1857564449310303,
          -3.6561172008514404,
          -2.7032761573791504,
          -3.2102363109588623,
          -3.1714344024658203,
          -3.094722032546997
         ],
         "yaxis": "y",
         "type": "scatter"
        },
        {
         "hovertemplate": "Variant=Omicron<br>0=%{x}<br>1=%{y}<extra></extra>",
         "legendgroup": "Omicron",
         "marker": {
          "color": "#ab63fa",
          "symbol": "circle"
         },
         "mode": "markers",
         "name": "Omicron",
         "orientation": "v",
         "showlegend": true,
         "x": [
          -8.20121955871582,
          -9.291510581970215,
          -10.55104923248291,
          -11.642532348632812,
          -8.23144817352295,
          -10.312300682067871,
          13.863515853881836,
          13.875434875488281,
          -10.518745422363281,
          -7.821385383605957,
          -9.82519817352295,
          -6.869551658630371,
          -8.981852531433105,
          -8.482575416564941,
          -10.299994468688965,
          -8.692923545837402,
          -11.491032600402832,
          -8.281057357788086,
          -10.38409423828125,
          -9.851457595825195,
          -11.42391586303711,
          -11.208564758300781,
          -3.948761463165283,
          -8.308687210083008,
          -11.778035163879395,
          -8.222304344177246,
          -9.64078140258789,
          -11.51996898651123,
          -8.299888610839844,
          -8.703691482543945,
          -10.684381484985352,
          -3.339052200317383,
          -9.6462984085083,
          -10.782181739807129,
          -11.837590217590332,
          -8.494208335876465,
          -10.51510238647461,
          -10.557578086853027,
          -10.650647163391113,
          -11.59765338897705,
          -8.549519538879395,
          -9.768518447875977,
          -10.003734588623047,
          -9.800127029418945,
          -10.205455780029297,
          -11.8350830078125,
          -11.53146743774414,
          -8.450410842895508,
          -3.2246153354644775,
          -9.361308097839355,
          -11.51130199432373,
          -11.070333480834961,
          -9.545127868652344,
          -11.45930004119873,
          -8.364473342895508,
          -10.342657089233398,
          -10.435132026672363,
          -8.693276405334473,
          -9.509411811828613,
          -7.367246150970459,
          -3.2708547115325928,
          -10.706939697265625,
          -8.432068824768066,
          -10.58520793914795,
          -9.588483810424805,
          -9.891779899597168,
          -9.918532371520996,
          -10.815112113952637,
          -11.091658592224121,
          -10.29116153717041,
          -7.834547996520996,
          -10.712279319763184,
          -8.433138847351074,
          -11.496155738830566,
          -11.217537879943848,
          -9.27385139465332,
          -11.106207847595215,
          -10.927749633789062,
          -7.9225029945373535,
          -8.320507049560547,
          -9.036345481872559,
          -11.035645484924316,
          -9.140119552612305,
          -10.89893913269043,
          -10.248918533325195,
          -11.251765251159668,
          -10.91921615600586,
          -7.8402485847473145,
          -7.065193176269531,
          -11.449881553649902,
          -11.22986125946045,
          -11.560529708862305,
          -11.261412620544434,
          -6.861738681793213,
          -10.63880729675293,
          -8.653459548950195,
          -10.667439460754395,
          -11.246685028076172,
          -7.0318193435668945,
          -9.91643238067627,
          -10.738788604736328,
          -8.74925708770752,
          -10.878350257873535,
          -8.767244338989258,
          -8.62193775177002,
          -11.541524887084961,
          -8.32115650177002,
          -9.606098175048828,
          -8.311929702758789,
          -9.181946754455566,
          -8.603331565856934,
          -10.282265663146973,
          -7.9078168869018555,
          -11.016873359680176,
          -11.341669082641602,
          -8.003100395202637,
          -10.101638793945312,
          -8.19797134399414,
          -6.973120212554932,
          -11.16419506072998,
          -10.782800674438477,
          -8.629679679870605,
          -8.06713581085205,
          -11.474141120910645,
          13.828041076660156,
          -11.479557991027832,
          -11.306829452514648,
          -3.5462448596954346,
          -11.466815948486328,
          -9.960922241210938,
          -10.803956031799316,
          -7.719605445861816,
          -10.787384033203125,
          -10.403403282165527,
          -10.945343017578125,
          -10.994940757751465,
          -6.962551593780518,
          -8.683394432067871,
          -8.109552383422852,
          -8.583240509033203,
          -11.254480361938477,
          -6.964850425720215,
          -11.049715995788574,
          -10.80556583404541,
          -4.204086780548096,
          -11.530187606811523,
          -11.232514381408691,
          -10.408306121826172,
          -7.8285746574401855,
          -10.715404510498047,
          -10.983360290527344,
          -10.544710159301758,
          -10.963339805603027,
          -7.7000532150268555,
          -8.796035766601562,
          -10.753524780273438,
          -10.326207160949707,
          -3.333360195159912,
          -10.114706039428711,
          13.882865905761719,
          -10.563612937927246,
          -8.880064964294434,
          -10.906420707702637,
          -8.61020565032959,
          -10.908275604248047,
          -9.601067543029785,
          -11.348424911499023,
          -9.096243858337402,
          -10.229634284973145,
          -8.724878311157227,
          -7.909247875213623,
          -8.562718391418457,
          -11.343152046203613,
          -8.323351860046387,
          -8.770047187805176,
          -8.678908348083496,
          -11.09695816040039,
          -8.411676406860352,
          -10.166388511657715,
          -11.499344825744629,
          -8.301928520202637,
          -8.720757484436035,
          -10.49169635772705,
          -10.957396507263184,
          -10.91508960723877,
          -6.985980033874512,
          -11.493180274963379,
          -10.517071723937988,
          13.939083099365234,
          -3.2044637203216553,
          13.994466781616211,
          -8.232636451721191,
          -9.306236267089844,
          -8.407960891723633,
          -6.944046497344971,
          -10.740456581115723,
          -11.300538063049316,
          -8.38858699798584,
          -8.665539741516113,
          -10.557028770446777,
          -9.25035285949707,
          -8.360699653625488,
          -8.801453590393066,
          -8.71994686126709,
          -3.176830530166626,
          -10.552534103393555,
          -8.637320518493652,
          -10.323129653930664,
          -6.979518413543701,
          -8.767510414123535,
          -8.600025177001953,
          -10.317676544189453,
          -8.59957504272461,
          -10.379530906677246,
          -6.885992050170898,
          -10.288861274719238,
          -8.301589012145996,
          -9.314919471740723,
          -9.710976600646973,
          -9.300331115722656,
          -8.08098316192627,
          -7.9065728187561035,
          -9.699158668518066,
          -8.509618759155273,
          -11.230292320251465,
          -8.416910171508789,
          -8.828780174255371,
          -10.854905128479004,
          -10.523977279663086,
          -8.501893043518066,
          -9.56441593170166,
          -10.375127792358398,
          -10.84851360321045,
          -8.563559532165527,
          -8.905946731567383,
          -9.434210777282715,
          -8.908902168273926,
          -8.144775390625,
          -10.503256797790527,
          -10.752143859863281,
          -10.718469619750977,
          -8.37774658203125,
          -10.779932975769043,
          -10.091082572937012,
          -11.34972095489502,
          -10.752279281616211,
          -8.221147537231445,
          -9.54875659942627,
          -11.019925117492676,
          -3.3017256259918213,
          -11.142094612121582,
          -10.539498329162598,
          -9.048404693603516,
          -10.39584732055664,
          -10.420778274536133,
          13.877805709838867,
          -8.333755493164062,
          -8.305078506469727,
          -8.683086395263672,
          -10.22243595123291,
          -9.53791332244873,
          -3.504061222076416,
          -9.208754539489746,
          -9.832046508789062,
          -10.675790786743164,
          -7.420197010040283,
          -8.568416595458984,
          -8.618556022644043,
          -11.008939743041992,
          -10.957152366638184,
          -3.3975603580474854,
          -8.72681713104248,
          -6.880781173706055
         ],
         "xaxis": "x",
         "y": [
          5.319399356842041,
          3.3770153522491455,
          2.6252050399780273,
          1.6848812103271484,
          5.654332637786865,
          3.176300525665283,
          -2.9999072551727295,
          -2.9954683780670166,
          2.670947551727295,
          5.403295516967773,
          1.396977186203003,
          3.1564745903015137,
          2.881789207458496,
          2.939849615097046,
          2.214120388031006,
          4.008014678955078,
          2.304973840713501,
          5.531691551208496,
          2.2467494010925293,
          3.044001340866089,
          2.5802526473999023,
          2.460449695587158,
          2.9969358444213867,
          5.181347846984863,
          1.9891817569732666,
          5.343899250030518,
          2.8092901706695557,
          2.72304630279541,
          5.725253105163574,
          3.7189791202545166,
          2.4667463302612305,
          2.4617788791656494,
          2.8686394691467285,
          3.3823676109313965,
          1.9798575639724731,
          5.334593772888184,
          2.238959789276123,
          3.216303825378418,
          2.9564208984375,
          1.7153264284133911,
          3.4480695724487305,
          2.9657340049743652,
          2.9909908771514893,
          2.9364094734191895,
          1.245811104774475,
          1.9695801734924316,
          1.771708369255066,
          4.986998081207275,
          2.568742036819458,
          3.392261266708374,
          1.7716642618179321,
          3.5336272716522217,
          3.5085642337799072,
          1.797744631767273,
          3.0751237869262695,
          2.6252243518829346,
          2.271477222442627,
          5.458301544189453,
          3.040195941925049,
          3.68623423576355,
          2.5857656002044678,
          2.305936813354492,
          5.653158187866211,
          3.0035157203674316,
          3.066631317138672,
          1.3011034727096558,
          2.4690701961517334,
          3.650007963180542,
          3.3689844608306885,
          1.1467995643615723,
          4.9049601554870605,
          3.4577748775482178,
          5.590454578399658,
          1.8095425367355347,
          2.6483874320983887,
          3.227719783782959,
          2.7922818660736084,
          3.8177764415740967,
          4.805026054382324,
          3.1574957370758057,
          3.4070589542388916,
          3.818392753601074,
          2.5890157222747803,
          3.4287643432617188,
          1.3038867712020874,
          2.904343366622925,
          2.415980815887451,
          4.991305828094482,
          3.5677270889282227,
          1.8765207529067993,
          3.2781715393066406,
          1.770956039428711,
          2.3812100887298584,
          3.1530566215515137,
          3.12458872795105,
          4.136614799499512,
          2.992478132247925,
          2.432318925857544,
          3.4990651607513428,
          3.0025792121887207,
          2.8709006309509277,
          3.460740089416504,
          2.492572069168091,
          3.7088348865509033,
          2.5520901679992676,
          1.9016764163970947,
          5.5395026206970215,
          2.8466920852661133,
          5.2263078689575195,
          2.833390474319458,
          3.6017849445343018,
          1.2458698749542236,
          5.402410984039307,
          3.699124574661255,
          1.6328014135360718,
          4.885008811950684,
          3.4236230850219727,
          5.375650882720947,
          3.343296527862549,
          2.6482460498809814,
          3.898740530014038,
          3.0426454544067383,
          4.797660827636719,
          1.7152657508850098,
          -3.144338846206665,
          3.0828895568847656,
          2.443923234939575,
          2.750213623046875,
          1.7471843957901,
          2.9084384441375732,
          3.6854617595672607,
          3.6124114990234375,
          2.6082425117492676,
          1.2227206230163574,
          3.4975483417510986,
          3.2039597034454346,
          3.1837971210479736,
          5.1393723487854,
          5.47123384475708,
          2.8245115280151367,
          2.535451889038086,
          3.1886985301971436,
          2.451105833053589,
          2.4399988651275635,
          2.9698538780212402,
          3.0180118083953857,
          2.357154130935669,
          2.4862382411956787,
          4.916504859924316,
          2.2533867359161377,
          3.7864370346069336,
          3.1470165252685547,
          3.350646734237671,
          4.795060634613037,
          4.307719707489014,
          2.489577531814575,
          1.1716958284378052,
          3.082000732421875,
          3.02315092086792,
          -3.0512783527374268,
          2.220517158508301,
          2.6294891834259033,
          3.6338002681732178,
          3.4332408905029297,
          2.5317435264587402,
          3.3744640350341797,
          2.527158737182617,
          3.40755558013916,
          1.220923900604248,
          5.237550735473633,
          5.492140293121338,
          5.495880603790283,
          1.9335987567901611,
          2.7601664066314697,
          3.312535047531128,
          4.286980628967285,
          2.4343643188476562,
          5.356620788574219,
          2.8778536319732666,
          3.062823534011841,
          5.3705925941467285,
          2.621612310409546,
          2.4467995166778564,
          3.670419454574585,
          2.497023820877075,
          3.483851432800293,
          3.0398857593536377,
          3.7616629600524902,
          -3.1041653156280518,
          2.6859138011932373,
          -3.1408674716949463,
          5.404675483703613,
          3.4377331733703613,
          2.8705270290374756,
          3.3009626865386963,
          3.0272376537323,
          2.66375470161438,
          5.2544121742248535,
          4.62093448638916,
          3.736536741256714,
          2.6755404472351074,
          5.249352931976318,
          3.2586967945098877,
          3.6726012229919434,
          2.6429243087768555,
          2.9580118656158447,
          5.375164031982422,
          1.298330307006836,
          3.1637449264526367,
          3.2041690349578857,
          4.7620368003845215,
          1.2594399452209473,
          5.206841945648193,
          2.765942335128784,
          3.2305877208709717,
          3.138554334640503,
          5.571773529052734,
          3.022874355316162,
          2.958017587661743,
          3.190742254257202,
          4.915989398956299,
          5.446134090423584,
          2.7244670391082764,
          4.91083288192749,
          2.6958935260772705,
          3.3809947967529297,
          3.757678985595703,
          2.795827865600586,
          3.838012456893921,
          5.477219581604004,
          3.096890687942505,
          3.097921848297119,
          2.5079333782196045,
          3.028109073638916,
          3.252760648727417,
          3.7283334732055664,
          2.8266818523406982,
          5.37060546875,
          2.954047441482544,
          2.293200969696045,
          2.2893080711364746,
          5.3876471519470215,
          2.2336714267730713,
          1.2091634273529053,
          1.9513405561447144,
          2.845597267150879,
          5.63144588470459,
          3.2653489112854004,
          2.593564748764038,
          2.804450273513794,
          2.843538999557495,
          2.7556326389312744,
          3.520033597946167,
          3.811771869659424,
          2.6714870929718018,
          -3.0826292037963867,
          5.1911211013793945,
          5.1766839027404785,
          3.1545965671539307,
          2.657397508621216,
          3.161731719970703,
          2.999006748199463,
          2.7641468048095703,
          2.8335444927215576,
          2.2563257217407227,
          3.7515876293182373,
          5.063111782073975,
          3.6497812271118164,
          2.7056992053985596,
          2.6197926998138428,
          2.7753071784973145,
          3.415736675262451,
          3.1900391578674316
         ],
         "yaxis": "y",
         "type": "scatter"
        },
        {
         "hovertemplate": "Variant=Omicron Sub<br>0=%{x}<br>1=%{y}<extra></extra>",
         "legendgroup": "Omicron Sub",
         "marker": {
          "color": "#FFA15A",
          "symbol": "circle"
         },
         "mode": "markers",
         "name": "Omicron Sub",
         "orientation": "v",
         "showlegend": true,
         "x": [
          -3.2673449516296387,
          -8.067132949829102,
          -8.104307174682617,
          -3.144566535949707,
          -3.3295178413391113,
          -3.4201676845550537,
          -3.31833815574646,
          -3.345428705215454,
          -3.3430964946746826,
          -3.228914976119995,
          -3.429659366607666,
          -3.844097375869751,
          -3.5012900829315186,
          -3.5174081325531006,
          -3.308770179748535,
          -6.736304759979248,
          -3.1929945945739746,
          -3.085170269012451,
          -3.931574821472168,
          -3.6768710613250732,
          -3.373037099838257,
          -3.0522477626800537,
          -4.169065475463867,
          -8.714736938476562,
          -3.733570098876953,
          -3.4356772899627686,
          -3.9995944499969482,
          -3.3089771270751953,
          -3.090792417526245,
          -3.8415439128875732,
          -3.1458868980407715,
          -3.239975690841675,
          -3.856963872909546,
          -3.4712822437286377,
          -3.1767780780792236,
          -3.594907283782959,
          -3.4142792224884033,
          -3.4042654037475586,
          -3.3716073036193848
         ],
         "xaxis": "x",
         "y": [
          2.8234875202178955,
          4.134182453155518,
          4.096320152282715,
          2.9256927967071533,
          2.7154924869537354,
          2.863663911819458,
          2.7060983180999756,
          2.9219815731048584,
          3.24625563621521,
          2.6683549880981445,
          2.8586888313293457,
          2.9263827800750732,
          2.5284371376037598,
          2.678725481033325,
          3.133075714111328,
          3.173957586288452,
          2.72448468208313,
          2.8267135620117188,
          2.9218084812164307,
          3.19978666305542,
          2.984452962875366,
          2.934921979904175,
          2.9971678256988525,
          2.7196547985076904,
          2.979931354522705,
          2.6921865940093994,
          3.219022035598755,
          2.795969009399414,
          2.939208984375,
          2.9586498737335205,
          2.787097454071045,
          2.9502663612365723,
          3.3720755577087402,
          2.796729803085327,
          2.766664981842041,
          3.2552711963653564,
          2.720414400100708,
          2.851808786392212,
          2.85912823677063
         ],
         "yaxis": "y",
         "type": "scatter"
        }
       ],
       "layout": {
        "template": {
         "data": {
          "histogram2dcontour": [
           {
            "type": "histogram2dcontour",
            "colorbar": {
             "outlinewidth": 0,
             "ticks": ""
            },
            "colorscale": [
             [
              0.0,
              "#0d0887"
             ],
             [
              0.1111111111111111,
              "#46039f"
             ],
             [
              0.2222222222222222,
              "#7201a8"
             ],
             [
              0.3333333333333333,
              "#9c179e"
             ],
             [
              0.4444444444444444,
              "#bd3786"
             ],
             [
              0.5555555555555556,
              "#d8576b"
             ],
             [
              0.6666666666666666,
              "#ed7953"
             ],
             [
              0.7777777777777778,
              "#fb9f3a"
             ],
             [
              0.8888888888888888,
              "#fdca26"
             ],
             [
              1.0,
              "#f0f921"
             ]
            ]
           }
          ],
          "choropleth": [
           {
            "type": "choropleth",
            "colorbar": {
             "outlinewidth": 0,
             "ticks": ""
            }
           }
          ],
          "histogram2d": [
           {
            "type": "histogram2d",
            "colorbar": {
             "outlinewidth": 0,
             "ticks": ""
            },
            "colorscale": [
             [
              0.0,
              "#0d0887"
             ],
             [
              0.1111111111111111,
              "#46039f"
             ],
             [
              0.2222222222222222,
              "#7201a8"
             ],
             [
              0.3333333333333333,
              "#9c179e"
             ],
             [
              0.4444444444444444,
              "#bd3786"
             ],
             [
              0.5555555555555556,
              "#d8576b"
             ],
             [
              0.6666666666666666,
              "#ed7953"
             ],
             [
              0.7777777777777778,
              "#fb9f3a"
             ],
             [
              0.8888888888888888,
              "#fdca26"
             ],
             [
              1.0,
              "#f0f921"
             ]
            ]
           }
          ],
          "heatmap": [
           {
            "type": "heatmap",
            "colorbar": {
             "outlinewidth": 0,
             "ticks": ""
            },
            "colorscale": [
             [
              0.0,
              "#0d0887"
             ],
             [
              0.1111111111111111,
              "#46039f"
             ],
             [
              0.2222222222222222,
              "#7201a8"
             ],
             [
              0.3333333333333333,
              "#9c179e"
             ],
             [
              0.4444444444444444,
              "#bd3786"
             ],
             [
              0.5555555555555556,
              "#d8576b"
             ],
             [
              0.6666666666666666,
              "#ed7953"
             ],
             [
              0.7777777777777778,
              "#fb9f3a"
             ],
             [
              0.8888888888888888,
              "#fdca26"
             ],
             [
              1.0,
              "#f0f921"
             ]
            ]
           }
          ],
          "heatmapgl": [
           {
            "type": "heatmapgl",
            "colorbar": {
             "outlinewidth": 0,
             "ticks": ""
            },
            "colorscale": [
             [
              0.0,
              "#0d0887"
             ],
             [
              0.1111111111111111,
              "#46039f"
             ],
             [
              0.2222222222222222,
              "#7201a8"
             ],
             [
              0.3333333333333333,
              "#9c179e"
             ],
             [
              0.4444444444444444,
              "#bd3786"
             ],
             [
              0.5555555555555556,
              "#d8576b"
             ],
             [
              0.6666666666666666,
              "#ed7953"
             ],
             [
              0.7777777777777778,
              "#fb9f3a"
             ],
             [
              0.8888888888888888,
              "#fdca26"
             ],
             [
              1.0,
              "#f0f921"
             ]
            ]
           }
          ],
          "contourcarpet": [
           {
            "type": "contourcarpet",
            "colorbar": {
             "outlinewidth": 0,
             "ticks": ""
            }
           }
          ],
          "contour": [
           {
            "type": "contour",
            "colorbar": {
             "outlinewidth": 0,
             "ticks": ""
            },
            "colorscale": [
             [
              0.0,
              "#0d0887"
             ],
             [
              0.1111111111111111,
              "#46039f"
             ],
             [
              0.2222222222222222,
              "#7201a8"
             ],
             [
              0.3333333333333333,
              "#9c179e"
             ],
             [
              0.4444444444444444,
              "#bd3786"
             ],
             [
              0.5555555555555556,
              "#d8576b"
             ],
             [
              0.6666666666666666,
              "#ed7953"
             ],
             [
              0.7777777777777778,
              "#fb9f3a"
             ],
             [
              0.8888888888888888,
              "#fdca26"
             ],
             [
              1.0,
              "#f0f921"
             ]
            ]
           }
          ],
          "surface": [
           {
            "type": "surface",
            "colorbar": {
             "outlinewidth": 0,
             "ticks": ""
            },
            "colorscale": [
             [
              0.0,
              "#0d0887"
             ],
             [
              0.1111111111111111,
              "#46039f"
             ],
             [
              0.2222222222222222,
              "#7201a8"
             ],
             [
              0.3333333333333333,
              "#9c179e"
             ],
             [
              0.4444444444444444,
              "#bd3786"
             ],
             [
              0.5555555555555556,
              "#d8576b"
             ],
             [
              0.6666666666666666,
              "#ed7953"
             ],
             [
              0.7777777777777778,
              "#fb9f3a"
             ],
             [
              0.8888888888888888,
              "#fdca26"
             ],
             [
              1.0,
              "#f0f921"
             ]
            ]
           }
          ],
          "mesh3d": [
           {
            "type": "mesh3d",
            "colorbar": {
             "outlinewidth": 0,
             "ticks": ""
            }
           }
          ],
          "scatter": [
           {
            "fillpattern": {
             "fillmode": "overlay",
             "size": 10,
             "solidity": 0.2
            },
            "type": "scatter"
           }
          ],
          "parcoords": [
           {
            "type": "parcoords",
            "line": {
             "colorbar": {
              "outlinewidth": 0,
              "ticks": ""
             }
            }
           }
          ],
          "scatterpolargl": [
           {
            "type": "scatterpolargl",
            "marker": {
             "colorbar": {
              "outlinewidth": 0,
              "ticks": ""
             }
            }
           }
          ],
          "bar": [
           {
            "error_x": {
             "color": "#2a3f5f"
            },
            "error_y": {
             "color": "#2a3f5f"
            },
            "marker": {
             "line": {
              "color": "#E5ECF6",
              "width": 0.5
             },
             "pattern": {
              "fillmode": "overlay",
              "size": 10,
              "solidity": 0.2
             }
            },
            "type": "bar"
           }
          ],
          "scattergeo": [
           {
            "type": "scattergeo",
            "marker": {
             "colorbar": {
              "outlinewidth": 0,
              "ticks": ""
             }
            }
           }
          ],
          "scatterpolar": [
           {
            "type": "scatterpolar",
            "marker": {
             "colorbar": {
              "outlinewidth": 0,
              "ticks": ""
             }
            }
           }
          ],
          "histogram": [
           {
            "marker": {
             "pattern": {
              "fillmode": "overlay",
              "size": 10,
              "solidity": 0.2
             }
            },
            "type": "histogram"
           }
          ],
          "scattergl": [
           {
            "type": "scattergl",
            "marker": {
             "colorbar": {
              "outlinewidth": 0,
              "ticks": ""
             }
            }
           }
          ],
          "scatter3d": [
           {
            "type": "scatter3d",
            "line": {
             "colorbar": {
              "outlinewidth": 0,
              "ticks": ""
             }
            },
            "marker": {
             "colorbar": {
              "outlinewidth": 0,
              "ticks": ""
             }
            }
           }
          ],
          "scattermapbox": [
           {
            "type": "scattermapbox",
            "marker": {
             "colorbar": {
              "outlinewidth": 0,
              "ticks": ""
             }
            }
           }
          ],
          "scatterternary": [
           {
            "type": "scatterternary",
            "marker": {
             "colorbar": {
              "outlinewidth": 0,
              "ticks": ""
             }
            }
           }
          ],
          "scattercarpet": [
           {
            "type": "scattercarpet",
            "marker": {
             "colorbar": {
              "outlinewidth": 0,
              "ticks": ""
             }
            }
           }
          ],
          "carpet": [
           {
            "aaxis": {
             "endlinecolor": "#2a3f5f",
             "gridcolor": "white",
             "linecolor": "white",
             "minorgridcolor": "white",
             "startlinecolor": "#2a3f5f"
            },
            "baxis": {
             "endlinecolor": "#2a3f5f",
             "gridcolor": "white",
             "linecolor": "white",
             "minorgridcolor": "white",
             "startlinecolor": "#2a3f5f"
            },
            "type": "carpet"
           }
          ],
          "table": [
           {
            "cells": {
             "fill": {
              "color": "#EBF0F8"
             },
             "line": {
              "color": "white"
             }
            },
            "header": {
             "fill": {
              "color": "#C8D4E3"
             },
             "line": {
              "color": "white"
             }
            },
            "type": "table"
           }
          ],
          "barpolar": [
           {
            "marker": {
             "line": {
              "color": "#E5ECF6",
              "width": 0.5
             },
             "pattern": {
              "fillmode": "overlay",
              "size": 10,
              "solidity": 0.2
             }
            },
            "type": "barpolar"
           }
          ],
          "pie": [
           {
            "automargin": true,
            "type": "pie"
           }
          ]
         },
         "layout": {
          "autotypenumbers": "strict",
          "colorway": [
           "#636efa",
           "#EF553B",
           "#00cc96",
           "#ab63fa",
           "#FFA15A",
           "#19d3f3",
           "#FF6692",
           "#B6E880",
           "#FF97FF",
           "#FECB52"
          ],
          "font": {
           "color": "#2a3f5f"
          },
          "hovermode": "closest",
          "hoverlabel": {
           "align": "left"
          },
          "paper_bgcolor": "white",
          "plot_bgcolor": "#E5ECF6",
          "polar": {
           "bgcolor": "#E5ECF6",
           "angularaxis": {
            "gridcolor": "white",
            "linecolor": "white",
            "ticks": ""
           },
           "radialaxis": {
            "gridcolor": "white",
            "linecolor": "white",
            "ticks": ""
           }
          },
          "ternary": {
           "bgcolor": "#E5ECF6",
           "aaxis": {
            "gridcolor": "white",
            "linecolor": "white",
            "ticks": ""
           },
           "baxis": {
            "gridcolor": "white",
            "linecolor": "white",
            "ticks": ""
           },
           "caxis": {
            "gridcolor": "white",
            "linecolor": "white",
            "ticks": ""
           }
          },
          "coloraxis": {
           "colorbar": {
            "outlinewidth": 0,
            "ticks": ""
           }
          },
          "colorscale": {
           "sequential": [
            [
             0.0,
             "#0d0887"
            ],
            [
             0.1111111111111111,
             "#46039f"
            ],
            [
             0.2222222222222222,
             "#7201a8"
            ],
            [
             0.3333333333333333,
             "#9c179e"
            ],
            [
             0.4444444444444444,
             "#bd3786"
            ],
            [
             0.5555555555555556,
             "#d8576b"
            ],
            [
             0.6666666666666666,
             "#ed7953"
            ],
            [
             0.7777777777777778,
             "#fb9f3a"
            ],
            [
             0.8888888888888888,
             "#fdca26"
            ],
            [
             1.0,
             "#f0f921"
            ]
           ],
           "sequentialminus": [
            [
             0.0,
             "#0d0887"
            ],
            [
             0.1111111111111111,
             "#46039f"
            ],
            [
             0.2222222222222222,
             "#7201a8"
            ],
            [
             0.3333333333333333,
             "#9c179e"
            ],
            [
             0.4444444444444444,
             "#bd3786"
            ],
            [
             0.5555555555555556,
             "#d8576b"
            ],
            [
             0.6666666666666666,
             "#ed7953"
            ],
            [
             0.7777777777777778,
             "#fb9f3a"
            ],
            [
             0.8888888888888888,
             "#fdca26"
            ],
            [
             1.0,
             "#f0f921"
            ]
           ],
           "diverging": [
            [
             0,
             "#8e0152"
            ],
            [
             0.1,
             "#c51b7d"
            ],
            [
             0.2,
             "#de77ae"
            ],
            [
             0.3,
             "#f1b6da"
            ],
            [
             0.4,
             "#fde0ef"
            ],
            [
             0.5,
             "#f7f7f7"
            ],
            [
             0.6,
             "#e6f5d0"
            ],
            [
             0.7,
             "#b8e186"
            ],
            [
             0.8,
             "#7fbc41"
            ],
            [
             0.9,
             "#4d9221"
            ],
            [
             1,
             "#276419"
            ]
           ]
          },
          "xaxis": {
           "gridcolor": "white",
           "linecolor": "white",
           "ticks": "",
           "title": {
            "standoff": 15
           },
           "zerolinecolor": "white",
           "automargin": true,
           "zerolinewidth": 2
          },
          "yaxis": {
           "gridcolor": "white",
           "linecolor": "white",
           "ticks": "",
           "title": {
            "standoff": 15
           },
           "zerolinecolor": "white",
           "automargin": true,
           "zerolinewidth": 2
          },
          "scene": {
           "xaxis": {
            "backgroundcolor": "#E5ECF6",
            "gridcolor": "white",
            "linecolor": "white",
            "showbackground": true,
            "ticks": "",
            "zerolinecolor": "white",
            "gridwidth": 2
           },
           "yaxis": {
            "backgroundcolor": "#E5ECF6",
            "gridcolor": "white",
            "linecolor": "white",
            "showbackground": true,
            "ticks": "",
            "zerolinecolor": "white",
            "gridwidth": 2
           },
           "zaxis": {
            "backgroundcolor": "#E5ECF6",
            "gridcolor": "white",
            "linecolor": "white",
            "showbackground": true,
            "ticks": "",
            "zerolinecolor": "white",
            "gridwidth": 2
           }
          },
          "shapedefaults": {
           "line": {
            "color": "#2a3f5f"
           }
          },
          "annotationdefaults": {
           "arrowcolor": "#2a3f5f",
           "arrowhead": 0,
           "arrowwidth": 1
          },
          "geo": {
           "bgcolor": "white",
           "landcolor": "#E5ECF6",
           "subunitcolor": "white",
           "showland": true,
           "showlakes": true,
           "lakecolor": "white"
          },
          "title": {
           "x": 0.05
          },
          "mapbox": {
           "style": "light"
          }
         }
        },
        "xaxis": {
         "anchor": "y",
         "domain": [
          0.0,
          1.0
         ],
         "title": {
          "text": "UMAP_1"
         },
         "showgrid": false,
         "zeroline": false
        },
        "yaxis": {
         "anchor": "x",
         "domain": [
          0.0,
          1.0
         ],
         "title": {
          "text": "UMAP_2"
         },
         "showgrid": false,
         "zeroline": false
        },
        "legend": {
         "title": {
          "text": "Variant"
         },
         "tracegroupgap": 0
        },
        "margin": {
         "t": 60
        },
        "font": {
         "family": "Courier New, monospace",
         "size": 18,
         "color": "RebeccaPurple"
        }
       },
       "config": {
        "plotlyServerURL": "https://plot.ly"
       }
      },
      "text/html": "<div>                            <div id=\"063818fe-a600-4be1-b5f2-d1eee7ffff08\" class=\"plotly-graph-div\" style=\"height:525px; width:100%;\"></div>            <script type=\"text/javascript\">                require([\"plotly\"], function(Plotly) {                    window.PLOTLYENV=window.PLOTLYENV || {};                                    if (document.getElementById(\"063818fe-a600-4be1-b5f2-d1eee7ffff08\")) {                    Plotly.newPlot(                        \"063818fe-a600-4be1-b5f2-d1eee7ffff08\",                        [{\"hovertemplate\":\"Variant=Alpha\\u003cbr\\u003e0=%{x}\\u003cbr\\u003e1=%{y}\\u003cextra\\u003e\\u003c\\u002fextra\\u003e\",\"legendgroup\":\"Alpha\",\"marker\":{\"color\":\"#636efa\",\"symbol\":\"circle\"},\"mode\":\"markers\",\"name\":\"Alpha\",\"orientation\":\"v\",\"showlegend\":true,\"x\":[6.455751895904541,6.792472839355469,6.309737682342529,6.180174827575684,6.900477886199951,6.952524185180664,6.389564514160156,6.836410045623779,6.732495307922363,6.492461204528809,6.838053226470947,6.636509895324707,6.360382080078125,6.369455337524414,6.314598083496094,6.6643571853637695,6.6682209968566895,6.4539594650268555,6.446256160736084,6.736772060394287,6.598441123962402,6.52753210067749,6.303536891937256,6.58887243270874,6.716056823730469,6.754354000091553,6.589369297027588,6.777681350708008,6.550317764282227,6.896437168121338,6.947391033172607,6.709200859069824,6.8317389488220215,6.559157371520996,7.046335697174072,7.06978702545166,6.781525135040283,6.494215488433838,6.906418800354004,6.439489364624023,6.749813079833984,6.53631591796875,6.7168354988098145,6.590998649597168,6.602900505065918,6.577424049377441,6.818333148956299,6.615869998931885,6.692650318145752,-7.400535583496094,6.531247138977051,6.636004447937012,6.953696250915527,6.393277645111084,6.7390265464782715],\"xaxis\":\"x\",\"y\":[10.929940223693848,10.327947616577148,10.306964874267578,10.494656562805176,10.837526321411133,10.354788780212402,10.581314086914062,10.769734382629395,10.476069450378418,10.784488677978516,10.113188743591309,10.366177558898926,10.539289474487305,10.52651309967041,10.568475723266602,10.870584487915039,10.73442268371582,10.266828536987305,10.632329940795898,10.251431465148926,10.18749713897705,10.413588523864746,10.49800968170166,10.4970703125,10.786829948425293,10.464303970336914,10.645047187805176,10.560117721557617,10.81223201751709,10.558185577392578,10.535500526428223,10.269369125366211,10.970638275146484,10.44946575164795,9.763036727905273,10.297859191894531,10.740010261535645,10.424023628234863,10.473311424255371,10.670613288879395,10.398465156555176,10.79504108428955,10.596417427062988,10.652495384216309,10.740270614624023,10.6209135055542,10.611560821533203,10.78942584991455,10.507514953613281,3.7220065593719482,10.568737983703613,10.562822341918945,10.742327690124512,10.724567413330078,10.619709014892578],\"yaxis\":\"y\",\"type\":\"scatter\"},{\"hovertemplate\":\"Variant=Beta\\u003cbr\\u003e0=%{x}\\u003cbr\\u003e1=%{y}\\u003cextra\\u003e\\u003c\\u002fextra\\u003e\",\"legendgroup\":\"Beta\",\"marker\":{\"color\":\"#EF553B\",\"symbol\":\"circle\"},\"mode\":\"markers\",\"name\":\"Beta\",\"orientation\":\"v\",\"showlegend\":true,\"x\":[12.971400260925293,12.894771575927734,13.012937545776367,12.895998001098633,12.450648307800293,13.2457914352417,13.344730377197266,12.944270133972168,13.324052810668945,13.218592643737793,12.6664400100708,13.024669647216797,13.359713554382324,13.089323997497559,13.013628005981445,13.175108909606934,12.541836738586426,12.874812126159668,13.153512001037598,12.829574584960938,13.10571002960205,13.669325828552246,13.557435989379883,13.274125099182129,12.971717834472656,13.143991470336914,12.519505500793457,12.779388427734375,12.507890701293945,12.98015022277832,12.431748390197754,13.669076919555664,12.422710418701172,13.204527854919434,12.863287925720215,13.236658096313477,12.678932189941406,12.942870140075684,12.907740592956543,13.164711952209473,13.072352409362793,13.062466621398926,12.844148635864258,13.639798164367676,13.021383285522461,12.979902267456055,12.489007949829102,12.485384941101074,12.931841850280762,13.018924713134766,12.568437576293945,13.02973461151123,12.958697319030762,13.129740715026855,12.473381042480469,12.647292137145996,13.137533187866211,13.0867338180542,13.07917308807373,12.397430419921875,12.741398811340332,13.097734451293945,12.86279582977295,12.509062767028809],\"xaxis\":\"x\",\"y\":[6.07273006439209,6.519855499267578,6.743865489959717,6.219095706939697,6.858222007751465,6.278960227966309,6.257264614105225,6.385297775268555,6.948268413543701,6.540854454040527,6.32721471786499,6.252835750579834,6.663101673126221,6.929105281829834,6.493204116821289,6.502370834350586,6.750707149505615,6.202612400054932,6.789755344390869,6.228326797485352,6.834994792938232,6.394134998321533,6.440093994140625,6.412875175476074,6.778083801269531,6.389304161071777,6.516491889953613,6.513162612915039,6.684721946716309,6.723637580871582,6.6013360023498535,6.309647083282471,6.330726146697998,6.911105632781982,6.941152095794678,6.7612457275390625,6.754128932952881,6.538729667663574,6.431883811950684,6.4268293380737305,6.370912551879883,6.483218193054199,6.626458168029785,6.540806293487549,6.568112373352051,6.525745391845703,6.582536220550537,6.48844051361084,6.440117835998535,6.7821831703186035,6.471181392669678,6.662469387054443,6.574810981750488,6.583345890045166,6.515398979187012,6.751635551452637,6.38047981262207,6.648903846740723,6.460812091827393,6.555316925048828,6.59099817276001,6.3683857917785645,6.654043674468994,6.732981204986572],\"yaxis\":\"y\",\"type\":\"scatter\"},{\"hovertemplate\":\"Variant=Delta\\u003cbr\\u003e0=%{x}\\u003cbr\\u003e1=%{y}\\u003cextra\\u003e\\u003c\\u002fextra\\u003e\",\"legendgroup\":\"Delta\",\"marker\":{\"color\":\"#00cc96\",\"symbol\":\"circle\"},\"mode\":\"markers\",\"name\":\"Delta\",\"orientation\":\"v\",\"showlegend\":true,\"x\":[14.184233665466309,14.491029739379883,14.364567756652832,14.72262954711914,14.531363487243652,15.086463928222656,14.821648597717285,14.882569313049316,14.704141616821289,14.419035911560059,15.268266677856445,14.528664588928223,14.43582820892334,14.636327743530273,14.782045364379883,14.661251068115234,14.494514465332031,15.333562850952148,15.23731803894043,15.368674278259277,14.369444847106934,14.286116600036621,14.62159538269043,14.607344627380371,14.759008407592773,14.908897399902344,14.455611228942871,14.231426239013672,14.310487747192383,14.442660331726074,15.231217384338379,14.534003257751465,14.568085670471191,14.549307823181152,14.410825729370117,14.63093376159668,14.33180046081543,15.29421615600586,14.41827392578125,15.208273887634277,14.732308387756348,14.656789779663086,15.185528755187988,14.740165710449219,14.71672248840332,14.529430389404297,14.380511283874512,15.3241605758667,14.615267753601074,15.225906372070312,14.693977355957031,14.352267265319824,14.72414493560791,14.28979778289795,14.568275451660156,14.345834732055664,14.466012954711914,14.742477416992188,15.17762279510498,14.531593322753906,15.228260040283203,14.35268497467041,14.519740104675293,14.265776634216309,14.567211151123047,14.621782302856445],\"xaxis\":\"x\",\"y\":[-3.559056282043457,-2.792689561843872,-2.728487014770508,-3.2637510299682617,-3.5932891368865967,-3.2286510467529297,-3.0220775604248047,-3.082709789276123,-2.9473190307617188,-2.4388961791992188,-3.137939214706421,-3.4792215824127197,-2.721364974975586,-3.0296101570129395,-2.8321173191070557,-3.332484006881714,-2.688143730163574,-3.263960838317871,-3.2956342697143555,-3.1368701457977295,-3.1806282997131348,-3.4590370655059814,-3.307455062866211,-3.0529115200042725,-3.003450393676758,-3.3488688468933105,-2.304203748703003,-3.3562114238739014,-2.9729409217834473,-2.7835614681243896,-3.3418684005737305,-3.135270833969116,-3.4414799213409424,-3.5609331130981445,-2.4557597637176514,-3.433764696121216,-3.6938328742980957,-3.367696762084961,-3.171349048614502,-3.40010666847229,-3.0825886726379395,-3.371073007583618,-3.2033658027648926,-3.1562089920043945,-3.237682580947876,-3.1998801231384277,-3.1032629013061523,-3.2706871032714844,-3.009885311126709,-3.239196538925171,-3.297750473022461,-2.4776554107666016,-2.7051734924316406,-3.596865653991699,-2.917132616043091,-3.1473934650421143,-2.6034128665924072,-3.134859800338745,-3.3368613719940186,-3.109520435333252,-3.1857564449310303,-3.6561172008514404,-2.7032761573791504,-3.2102363109588623,-3.1714344024658203,-3.094722032546997],\"yaxis\":\"y\",\"type\":\"scatter\"},{\"hovertemplate\":\"Variant=Omicron\\u003cbr\\u003e0=%{x}\\u003cbr\\u003e1=%{y}\\u003cextra\\u003e\\u003c\\u002fextra\\u003e\",\"legendgroup\":\"Omicron\",\"marker\":{\"color\":\"#ab63fa\",\"symbol\":\"circle\"},\"mode\":\"markers\",\"name\":\"Omicron\",\"orientation\":\"v\",\"showlegend\":true,\"x\":[-8.20121955871582,-9.291510581970215,-10.55104923248291,-11.642532348632812,-8.23144817352295,-10.312300682067871,13.863515853881836,13.875434875488281,-10.518745422363281,-7.821385383605957,-9.82519817352295,-6.869551658630371,-8.981852531433105,-8.482575416564941,-10.299994468688965,-8.692923545837402,-11.491032600402832,-8.281057357788086,-10.38409423828125,-9.851457595825195,-11.42391586303711,-11.208564758300781,-3.948761463165283,-8.308687210083008,-11.778035163879395,-8.222304344177246,-9.64078140258789,-11.51996898651123,-8.299888610839844,-8.703691482543945,-10.684381484985352,-3.339052200317383,-9.6462984085083,-10.782181739807129,-11.837590217590332,-8.494208335876465,-10.51510238647461,-10.557578086853027,-10.650647163391113,-11.59765338897705,-8.549519538879395,-9.768518447875977,-10.003734588623047,-9.800127029418945,-10.205455780029297,-11.8350830078125,-11.53146743774414,-8.450410842895508,-3.2246153354644775,-9.361308097839355,-11.51130199432373,-11.070333480834961,-9.545127868652344,-11.45930004119873,-8.364473342895508,-10.342657089233398,-10.435132026672363,-8.693276405334473,-9.509411811828613,-7.367246150970459,-3.2708547115325928,-10.706939697265625,-8.432068824768066,-10.58520793914795,-9.588483810424805,-9.891779899597168,-9.918532371520996,-10.815112113952637,-11.091658592224121,-10.29116153717041,-7.834547996520996,-10.712279319763184,-8.433138847351074,-11.496155738830566,-11.217537879943848,-9.27385139465332,-11.106207847595215,-10.927749633789062,-7.9225029945373535,-8.320507049560547,-9.036345481872559,-11.035645484924316,-9.140119552612305,-10.89893913269043,-10.248918533325195,-11.251765251159668,-10.91921615600586,-7.8402485847473145,-7.065193176269531,-11.449881553649902,-11.22986125946045,-11.560529708862305,-11.261412620544434,-6.861738681793213,-10.63880729675293,-8.653459548950195,-10.667439460754395,-11.246685028076172,-7.0318193435668945,-9.91643238067627,-10.738788604736328,-8.74925708770752,-10.878350257873535,-8.767244338989258,-8.62193775177002,-11.541524887084961,-8.32115650177002,-9.606098175048828,-8.311929702758789,-9.181946754455566,-8.603331565856934,-10.282265663146973,-7.9078168869018555,-11.016873359680176,-11.341669082641602,-8.003100395202637,-10.101638793945312,-8.19797134399414,-6.973120212554932,-11.16419506072998,-10.782800674438477,-8.629679679870605,-8.06713581085205,-11.474141120910645,13.828041076660156,-11.479557991027832,-11.306829452514648,-3.5462448596954346,-11.466815948486328,-9.960922241210938,-10.803956031799316,-7.719605445861816,-10.787384033203125,-10.403403282165527,-10.945343017578125,-10.994940757751465,-6.962551593780518,-8.683394432067871,-8.109552383422852,-8.583240509033203,-11.254480361938477,-6.964850425720215,-11.049715995788574,-10.80556583404541,-4.204086780548096,-11.530187606811523,-11.232514381408691,-10.408306121826172,-7.8285746574401855,-10.715404510498047,-10.983360290527344,-10.544710159301758,-10.963339805603027,-7.7000532150268555,-8.796035766601562,-10.753524780273438,-10.326207160949707,-3.333360195159912,-10.114706039428711,13.882865905761719,-10.563612937927246,-8.880064964294434,-10.906420707702637,-8.61020565032959,-10.908275604248047,-9.601067543029785,-11.348424911499023,-9.096243858337402,-10.229634284973145,-8.724878311157227,-7.909247875213623,-8.562718391418457,-11.343152046203613,-8.323351860046387,-8.770047187805176,-8.678908348083496,-11.09695816040039,-8.411676406860352,-10.166388511657715,-11.499344825744629,-8.301928520202637,-8.720757484436035,-10.49169635772705,-10.957396507263184,-10.91508960723877,-6.985980033874512,-11.493180274963379,-10.517071723937988,13.939083099365234,-3.2044637203216553,13.994466781616211,-8.232636451721191,-9.306236267089844,-8.407960891723633,-6.944046497344971,-10.740456581115723,-11.300538063049316,-8.38858699798584,-8.665539741516113,-10.557028770446777,-9.25035285949707,-8.360699653625488,-8.801453590393066,-8.71994686126709,-3.176830530166626,-10.552534103393555,-8.637320518493652,-10.323129653930664,-6.979518413543701,-8.767510414123535,-8.600025177001953,-10.317676544189453,-8.59957504272461,-10.379530906677246,-6.885992050170898,-10.288861274719238,-8.301589012145996,-9.314919471740723,-9.710976600646973,-9.300331115722656,-8.08098316192627,-7.9065728187561035,-9.699158668518066,-8.509618759155273,-11.230292320251465,-8.416910171508789,-8.828780174255371,-10.854905128479004,-10.523977279663086,-8.501893043518066,-9.56441593170166,-10.375127792358398,-10.84851360321045,-8.563559532165527,-8.905946731567383,-9.434210777282715,-8.908902168273926,-8.144775390625,-10.503256797790527,-10.752143859863281,-10.718469619750977,-8.37774658203125,-10.779932975769043,-10.091082572937012,-11.34972095489502,-10.752279281616211,-8.221147537231445,-9.54875659942627,-11.019925117492676,-3.3017256259918213,-11.142094612121582,-10.539498329162598,-9.048404693603516,-10.39584732055664,-10.420778274536133,13.877805709838867,-8.333755493164062,-8.305078506469727,-8.683086395263672,-10.22243595123291,-9.53791332244873,-3.504061222076416,-9.208754539489746,-9.832046508789062,-10.675790786743164,-7.420197010040283,-8.568416595458984,-8.618556022644043,-11.008939743041992,-10.957152366638184,-3.3975603580474854,-8.72681713104248,-6.880781173706055],\"xaxis\":\"x\",\"y\":[5.319399356842041,3.3770153522491455,2.6252050399780273,1.6848812103271484,5.654332637786865,3.176300525665283,-2.9999072551727295,-2.9954683780670166,2.670947551727295,5.403295516967773,1.396977186203003,3.1564745903015137,2.881789207458496,2.939849615097046,2.214120388031006,4.008014678955078,2.304973840713501,5.531691551208496,2.2467494010925293,3.044001340866089,2.5802526473999023,2.460449695587158,2.9969358444213867,5.181347846984863,1.9891817569732666,5.343899250030518,2.8092901706695557,2.72304630279541,5.725253105163574,3.7189791202545166,2.4667463302612305,2.4617788791656494,2.8686394691467285,3.3823676109313965,1.9798575639724731,5.334593772888184,2.238959789276123,3.216303825378418,2.9564208984375,1.7153264284133911,3.4480695724487305,2.9657340049743652,2.9909908771514893,2.9364094734191895,1.245811104774475,1.9695801734924316,1.771708369255066,4.986998081207275,2.568742036819458,3.392261266708374,1.7716642618179321,3.5336272716522217,3.5085642337799072,1.797744631767273,3.0751237869262695,2.6252243518829346,2.271477222442627,5.458301544189453,3.040195941925049,3.68623423576355,2.5857656002044678,2.305936813354492,5.653158187866211,3.0035157203674316,3.066631317138672,1.3011034727096558,2.4690701961517334,3.650007963180542,3.3689844608306885,1.1467995643615723,4.9049601554870605,3.4577748775482178,5.590454578399658,1.8095425367355347,2.6483874320983887,3.227719783782959,2.7922818660736084,3.8177764415740967,4.805026054382324,3.1574957370758057,3.4070589542388916,3.818392753601074,2.5890157222747803,3.4287643432617188,1.3038867712020874,2.904343366622925,2.415980815887451,4.991305828094482,3.5677270889282227,1.8765207529067993,3.2781715393066406,1.770956039428711,2.3812100887298584,3.1530566215515137,3.12458872795105,4.136614799499512,2.992478132247925,2.432318925857544,3.4990651607513428,3.0025792121887207,2.8709006309509277,3.460740089416504,2.492572069168091,3.7088348865509033,2.5520901679992676,1.9016764163970947,5.5395026206970215,2.8466920852661133,5.2263078689575195,2.833390474319458,3.6017849445343018,1.2458698749542236,5.402410984039307,3.699124574661255,1.6328014135360718,4.885008811950684,3.4236230850219727,5.375650882720947,3.343296527862549,2.6482460498809814,3.898740530014038,3.0426454544067383,4.797660827636719,1.7152657508850098,-3.144338846206665,3.0828895568847656,2.443923234939575,2.750213623046875,1.7471843957901,2.9084384441375732,3.6854617595672607,3.6124114990234375,2.6082425117492676,1.2227206230163574,3.4975483417510986,3.2039597034454346,3.1837971210479736,5.1393723487854,5.47123384475708,2.8245115280151367,2.535451889038086,3.1886985301971436,2.451105833053589,2.4399988651275635,2.9698538780212402,3.0180118083953857,2.357154130935669,2.4862382411956787,4.916504859924316,2.2533867359161377,3.7864370346069336,3.1470165252685547,3.350646734237671,4.795060634613037,4.307719707489014,2.489577531814575,1.1716958284378052,3.082000732421875,3.02315092086792,-3.0512783527374268,2.220517158508301,2.6294891834259033,3.6338002681732178,3.4332408905029297,2.5317435264587402,3.3744640350341797,2.527158737182617,3.40755558013916,1.220923900604248,5.237550735473633,5.492140293121338,5.495880603790283,1.9335987567901611,2.7601664066314697,3.312535047531128,4.286980628967285,2.4343643188476562,5.356620788574219,2.8778536319732666,3.062823534011841,5.3705925941467285,2.621612310409546,2.4467995166778564,3.670419454574585,2.497023820877075,3.483851432800293,3.0398857593536377,3.7616629600524902,-3.1041653156280518,2.6859138011932373,-3.1408674716949463,5.404675483703613,3.4377331733703613,2.8705270290374756,3.3009626865386963,3.0272376537323,2.66375470161438,5.2544121742248535,4.62093448638916,3.736536741256714,2.6755404472351074,5.249352931976318,3.2586967945098877,3.6726012229919434,2.6429243087768555,2.9580118656158447,5.375164031982422,1.298330307006836,3.1637449264526367,3.2041690349578857,4.7620368003845215,1.2594399452209473,5.206841945648193,2.765942335128784,3.2305877208709717,3.138554334640503,5.571773529052734,3.022874355316162,2.958017587661743,3.190742254257202,4.915989398956299,5.446134090423584,2.7244670391082764,4.91083288192749,2.6958935260772705,3.3809947967529297,3.757678985595703,2.795827865600586,3.838012456893921,5.477219581604004,3.096890687942505,3.097921848297119,2.5079333782196045,3.028109073638916,3.252760648727417,3.7283334732055664,2.8266818523406982,5.37060546875,2.954047441482544,2.293200969696045,2.2893080711364746,5.3876471519470215,2.2336714267730713,1.2091634273529053,1.9513405561447144,2.845597267150879,5.63144588470459,3.2653489112854004,2.593564748764038,2.804450273513794,2.843538999557495,2.7556326389312744,3.520033597946167,3.811771869659424,2.6714870929718018,-3.0826292037963867,5.1911211013793945,5.1766839027404785,3.1545965671539307,2.657397508621216,3.161731719970703,2.999006748199463,2.7641468048095703,2.8335444927215576,2.2563257217407227,3.7515876293182373,5.063111782073975,3.6497812271118164,2.7056992053985596,2.6197926998138428,2.7753071784973145,3.415736675262451,3.1900391578674316],\"yaxis\":\"y\",\"type\":\"scatter\"},{\"hovertemplate\":\"Variant=Omicron Sub\\u003cbr\\u003e0=%{x}\\u003cbr\\u003e1=%{y}\\u003cextra\\u003e\\u003c\\u002fextra\\u003e\",\"legendgroup\":\"Omicron Sub\",\"marker\":{\"color\":\"#FFA15A\",\"symbol\":\"circle\"},\"mode\":\"markers\",\"name\":\"Omicron Sub\",\"orientation\":\"v\",\"showlegend\":true,\"x\":[-3.2673449516296387,-8.067132949829102,-8.104307174682617,-3.144566535949707,-3.3295178413391113,-3.4201676845550537,-3.31833815574646,-3.345428705215454,-3.3430964946746826,-3.228914976119995,-3.429659366607666,-3.844097375869751,-3.5012900829315186,-3.5174081325531006,-3.308770179748535,-6.736304759979248,-3.1929945945739746,-3.085170269012451,-3.931574821472168,-3.6768710613250732,-3.373037099838257,-3.0522477626800537,-4.169065475463867,-8.714736938476562,-3.733570098876953,-3.4356772899627686,-3.9995944499969482,-3.3089771270751953,-3.090792417526245,-3.8415439128875732,-3.1458868980407715,-3.239975690841675,-3.856963872909546,-3.4712822437286377,-3.1767780780792236,-3.594907283782959,-3.4142792224884033,-3.4042654037475586,-3.3716073036193848],\"xaxis\":\"x\",\"y\":[2.8234875202178955,4.134182453155518,4.096320152282715,2.9256927967071533,2.7154924869537354,2.863663911819458,2.7060983180999756,2.9219815731048584,3.24625563621521,2.6683549880981445,2.8586888313293457,2.9263827800750732,2.5284371376037598,2.678725481033325,3.133075714111328,3.173957586288452,2.72448468208313,2.8267135620117188,2.9218084812164307,3.19978666305542,2.984452962875366,2.934921979904175,2.9971678256988525,2.7196547985076904,2.979931354522705,2.6921865940093994,3.219022035598755,2.795969009399414,2.939208984375,2.9586498737335205,2.787097454071045,2.9502663612365723,3.3720755577087402,2.796729803085327,2.766664981842041,3.2552711963653564,2.720414400100708,2.851808786392212,2.85912823677063],\"yaxis\":\"y\",\"type\":\"scatter\"}],                        {\"template\":{\"data\":{\"histogram2dcontour\":[{\"type\":\"histogram2dcontour\",\"colorbar\":{\"outlinewidth\":0,\"ticks\":\"\"},\"colorscale\":[[0.0,\"#0d0887\"],[0.1111111111111111,\"#46039f\"],[0.2222222222222222,\"#7201a8\"],[0.3333333333333333,\"#9c179e\"],[0.4444444444444444,\"#bd3786\"],[0.5555555555555556,\"#d8576b\"],[0.6666666666666666,\"#ed7953\"],[0.7777777777777778,\"#fb9f3a\"],[0.8888888888888888,\"#fdca26\"],[1.0,\"#f0f921\"]]}],\"choropleth\":[{\"type\":\"choropleth\",\"colorbar\":{\"outlinewidth\":0,\"ticks\":\"\"}}],\"histogram2d\":[{\"type\":\"histogram2d\",\"colorbar\":{\"outlinewidth\":0,\"ticks\":\"\"},\"colorscale\":[[0.0,\"#0d0887\"],[0.1111111111111111,\"#46039f\"],[0.2222222222222222,\"#7201a8\"],[0.3333333333333333,\"#9c179e\"],[0.4444444444444444,\"#bd3786\"],[0.5555555555555556,\"#d8576b\"],[0.6666666666666666,\"#ed7953\"],[0.7777777777777778,\"#fb9f3a\"],[0.8888888888888888,\"#fdca26\"],[1.0,\"#f0f921\"]]}],\"heatmap\":[{\"type\":\"heatmap\",\"colorbar\":{\"outlinewidth\":0,\"ticks\":\"\"},\"colorscale\":[[0.0,\"#0d0887\"],[0.1111111111111111,\"#46039f\"],[0.2222222222222222,\"#7201a8\"],[0.3333333333333333,\"#9c179e\"],[0.4444444444444444,\"#bd3786\"],[0.5555555555555556,\"#d8576b\"],[0.6666666666666666,\"#ed7953\"],[0.7777777777777778,\"#fb9f3a\"],[0.8888888888888888,\"#fdca26\"],[1.0,\"#f0f921\"]]}],\"heatmapgl\":[{\"type\":\"heatmapgl\",\"colorbar\":{\"outlinewidth\":0,\"ticks\":\"\"},\"colorscale\":[[0.0,\"#0d0887\"],[0.1111111111111111,\"#46039f\"],[0.2222222222222222,\"#7201a8\"],[0.3333333333333333,\"#9c179e\"],[0.4444444444444444,\"#bd3786\"],[0.5555555555555556,\"#d8576b\"],[0.6666666666666666,\"#ed7953\"],[0.7777777777777778,\"#fb9f3a\"],[0.8888888888888888,\"#fdca26\"],[1.0,\"#f0f921\"]]}],\"contourcarpet\":[{\"type\":\"contourcarpet\",\"colorbar\":{\"outlinewidth\":0,\"ticks\":\"\"}}],\"contour\":[{\"type\":\"contour\",\"colorbar\":{\"outlinewidth\":0,\"ticks\":\"\"},\"colorscale\":[[0.0,\"#0d0887\"],[0.1111111111111111,\"#46039f\"],[0.2222222222222222,\"#7201a8\"],[0.3333333333333333,\"#9c179e\"],[0.4444444444444444,\"#bd3786\"],[0.5555555555555556,\"#d8576b\"],[0.6666666666666666,\"#ed7953\"],[0.7777777777777778,\"#fb9f3a\"],[0.8888888888888888,\"#fdca26\"],[1.0,\"#f0f921\"]]}],\"surface\":[{\"type\":\"surface\",\"colorbar\":{\"outlinewidth\":0,\"ticks\":\"\"},\"colorscale\":[[0.0,\"#0d0887\"],[0.1111111111111111,\"#46039f\"],[0.2222222222222222,\"#7201a8\"],[0.3333333333333333,\"#9c179e\"],[0.4444444444444444,\"#bd3786\"],[0.5555555555555556,\"#d8576b\"],[0.6666666666666666,\"#ed7953\"],[0.7777777777777778,\"#fb9f3a\"],[0.8888888888888888,\"#fdca26\"],[1.0,\"#f0f921\"]]}],\"mesh3d\":[{\"type\":\"mesh3d\",\"colorbar\":{\"outlinewidth\":0,\"ticks\":\"\"}}],\"scatter\":[{\"fillpattern\":{\"fillmode\":\"overlay\",\"size\":10,\"solidity\":0.2},\"type\":\"scatter\"}],\"parcoords\":[{\"type\":\"parcoords\",\"line\":{\"colorbar\":{\"outlinewidth\":0,\"ticks\":\"\"}}}],\"scatterpolargl\":[{\"type\":\"scatterpolargl\",\"marker\":{\"colorbar\":{\"outlinewidth\":0,\"ticks\":\"\"}}}],\"bar\":[{\"error_x\":{\"color\":\"#2a3f5f\"},\"error_y\":{\"color\":\"#2a3f5f\"},\"marker\":{\"line\":{\"color\":\"#E5ECF6\",\"width\":0.5},\"pattern\":{\"fillmode\":\"overlay\",\"size\":10,\"solidity\":0.2}},\"type\":\"bar\"}],\"scattergeo\":[{\"type\":\"scattergeo\",\"marker\":{\"colorbar\":{\"outlinewidth\":0,\"ticks\":\"\"}}}],\"scatterpolar\":[{\"type\":\"scatterpolar\",\"marker\":{\"colorbar\":{\"outlinewidth\":0,\"ticks\":\"\"}}}],\"histogram\":[{\"marker\":{\"pattern\":{\"fillmode\":\"overlay\",\"size\":10,\"solidity\":0.2}},\"type\":\"histogram\"}],\"scattergl\":[{\"type\":\"scattergl\",\"marker\":{\"colorbar\":{\"outlinewidth\":0,\"ticks\":\"\"}}}],\"scatter3d\":[{\"type\":\"scatter3d\",\"line\":{\"colorbar\":{\"outlinewidth\":0,\"ticks\":\"\"}},\"marker\":{\"colorbar\":{\"outlinewidth\":0,\"ticks\":\"\"}}}],\"scattermapbox\":[{\"type\":\"scattermapbox\",\"marker\":{\"colorbar\":{\"outlinewidth\":0,\"ticks\":\"\"}}}],\"scatterternary\":[{\"type\":\"scatterternary\",\"marker\":{\"colorbar\":{\"outlinewidth\":0,\"ticks\":\"\"}}}],\"scattercarpet\":[{\"type\":\"scattercarpet\",\"marker\":{\"colorbar\":{\"outlinewidth\":0,\"ticks\":\"\"}}}],\"carpet\":[{\"aaxis\":{\"endlinecolor\":\"#2a3f5f\",\"gridcolor\":\"white\",\"linecolor\":\"white\",\"minorgridcolor\":\"white\",\"startlinecolor\":\"#2a3f5f\"},\"baxis\":{\"endlinecolor\":\"#2a3f5f\",\"gridcolor\":\"white\",\"linecolor\":\"white\",\"minorgridcolor\":\"white\",\"startlinecolor\":\"#2a3f5f\"},\"type\":\"carpet\"}],\"table\":[{\"cells\":{\"fill\":{\"color\":\"#EBF0F8\"},\"line\":{\"color\":\"white\"}},\"header\":{\"fill\":{\"color\":\"#C8D4E3\"},\"line\":{\"color\":\"white\"}},\"type\":\"table\"}],\"barpolar\":[{\"marker\":{\"line\":{\"color\":\"#E5ECF6\",\"width\":0.5},\"pattern\":{\"fillmode\":\"overlay\",\"size\":10,\"solidity\":0.2}},\"type\":\"barpolar\"}],\"pie\":[{\"automargin\":true,\"type\":\"pie\"}]},\"layout\":{\"autotypenumbers\":\"strict\",\"colorway\":[\"#636efa\",\"#EF553B\",\"#00cc96\",\"#ab63fa\",\"#FFA15A\",\"#19d3f3\",\"#FF6692\",\"#B6E880\",\"#FF97FF\",\"#FECB52\"],\"font\":{\"color\":\"#2a3f5f\"},\"hovermode\":\"closest\",\"hoverlabel\":{\"align\":\"left\"},\"paper_bgcolor\":\"white\",\"plot_bgcolor\":\"#E5ECF6\",\"polar\":{\"bgcolor\":\"#E5ECF6\",\"angularaxis\":{\"gridcolor\":\"white\",\"linecolor\":\"white\",\"ticks\":\"\"},\"radialaxis\":{\"gridcolor\":\"white\",\"linecolor\":\"white\",\"ticks\":\"\"}},\"ternary\":{\"bgcolor\":\"#E5ECF6\",\"aaxis\":{\"gridcolor\":\"white\",\"linecolor\":\"white\",\"ticks\":\"\"},\"baxis\":{\"gridcolor\":\"white\",\"linecolor\":\"white\",\"ticks\":\"\"},\"caxis\":{\"gridcolor\":\"white\",\"linecolor\":\"white\",\"ticks\":\"\"}},\"coloraxis\":{\"colorbar\":{\"outlinewidth\":0,\"ticks\":\"\"}},\"colorscale\":{\"sequential\":[[0.0,\"#0d0887\"],[0.1111111111111111,\"#46039f\"],[0.2222222222222222,\"#7201a8\"],[0.3333333333333333,\"#9c179e\"],[0.4444444444444444,\"#bd3786\"],[0.5555555555555556,\"#d8576b\"],[0.6666666666666666,\"#ed7953\"],[0.7777777777777778,\"#fb9f3a\"],[0.8888888888888888,\"#fdca26\"],[1.0,\"#f0f921\"]],\"sequentialminus\":[[0.0,\"#0d0887\"],[0.1111111111111111,\"#46039f\"],[0.2222222222222222,\"#7201a8\"],[0.3333333333333333,\"#9c179e\"],[0.4444444444444444,\"#bd3786\"],[0.5555555555555556,\"#d8576b\"],[0.6666666666666666,\"#ed7953\"],[0.7777777777777778,\"#fb9f3a\"],[0.8888888888888888,\"#fdca26\"],[1.0,\"#f0f921\"]],\"diverging\":[[0,\"#8e0152\"],[0.1,\"#c51b7d\"],[0.2,\"#de77ae\"],[0.3,\"#f1b6da\"],[0.4,\"#fde0ef\"],[0.5,\"#f7f7f7\"],[0.6,\"#e6f5d0\"],[0.7,\"#b8e186\"],[0.8,\"#7fbc41\"],[0.9,\"#4d9221\"],[1,\"#276419\"]]},\"xaxis\":{\"gridcolor\":\"white\",\"linecolor\":\"white\",\"ticks\":\"\",\"title\":{\"standoff\":15},\"zerolinecolor\":\"white\",\"automargin\":true,\"zerolinewidth\":2},\"yaxis\":{\"gridcolor\":\"white\",\"linecolor\":\"white\",\"ticks\":\"\",\"title\":{\"standoff\":15},\"zerolinecolor\":\"white\",\"automargin\":true,\"zerolinewidth\":2},\"scene\":{\"xaxis\":{\"backgroundcolor\":\"#E5ECF6\",\"gridcolor\":\"white\",\"linecolor\":\"white\",\"showbackground\":true,\"ticks\":\"\",\"zerolinecolor\":\"white\",\"gridwidth\":2},\"yaxis\":{\"backgroundcolor\":\"#E5ECF6\",\"gridcolor\":\"white\",\"linecolor\":\"white\",\"showbackground\":true,\"ticks\":\"\",\"zerolinecolor\":\"white\",\"gridwidth\":2},\"zaxis\":{\"backgroundcolor\":\"#E5ECF6\",\"gridcolor\":\"white\",\"linecolor\":\"white\",\"showbackground\":true,\"ticks\":\"\",\"zerolinecolor\":\"white\",\"gridwidth\":2}},\"shapedefaults\":{\"line\":{\"color\":\"#2a3f5f\"}},\"annotationdefaults\":{\"arrowcolor\":\"#2a3f5f\",\"arrowhead\":0,\"arrowwidth\":1},\"geo\":{\"bgcolor\":\"white\",\"landcolor\":\"#E5ECF6\",\"subunitcolor\":\"white\",\"showland\":true,\"showlakes\":true,\"lakecolor\":\"white\"},\"title\":{\"x\":0.05},\"mapbox\":{\"style\":\"light\"}}},\"xaxis\":{\"anchor\":\"y\",\"domain\":[0.0,1.0],\"title\":{\"text\":\"UMAP_1\"},\"showgrid\":false,\"zeroline\":false},\"yaxis\":{\"anchor\":\"x\",\"domain\":[0.0,1.0],\"title\":{\"text\":\"UMAP_2\"},\"showgrid\":false,\"zeroline\":false},\"legend\":{\"title\":{\"text\":\"Variant\"},\"tracegroupgap\":0},\"margin\":{\"t\":60},\"font\":{\"family\":\"Courier New, monospace\",\"size\":18,\"color\":\"RebeccaPurple\"}},                        {\"responsive\": true}                    ).then(function(){\n                            \nvar gd = document.getElementById('063818fe-a600-4be1-b5f2-d1eee7ffff08');\nvar x = new MutationObserver(function (mutations, observer) {{\n        var display = window.getComputedStyle(gd).display;\n        if (!display || display === 'none') {{\n            console.log([gd, 'removed!']);\n            Plotly.purge(gd);\n            observer.disconnect();\n        }}\n}});\n\n// Listen for the removal of the full notebook cells\nvar notebookContainer = gd.closest('#notebook-container');\nif (notebookContainer) {{\n    x.observe(notebookContainer, {childList: true});\n}}\n\n// Listen for the clearing of the current output cell\nvar outputEl = gd.closest('.output');\nif (outputEl) {{\n    x.observe(outputEl, {childList: true});\n}}\n\n                        })                };                });            </script>        </div>"
     },
     "metadata": {},
     "output_type": "display_data"
    }
   ],
   "source": [
    "umap_fn(data3, 3)\n",
    "umap_fn(data5, 5)\n",
    "umap_fn(data7, 7)"
   ]
  },
  {
   "cell_type": "code",
   "execution_count": 60,
   "id": "99a7b21f",
   "metadata": {
    "ExecuteTime": {
     "end_time": "2023-07-06T11:46:09.986702700Z",
     "start_time": "2023-07-06T11:46:09.985559700Z"
    }
   },
   "outputs": [],
   "source": []
  }
 ],
 "metadata": {
  "kernelspec": {
   "display_name": "Python 3 (ipykernel)",
   "language": "python",
   "name": "python3"
  },
  "language_info": {
   "codemirror_mode": {
    "name": "ipython",
    "version": 3
   },
   "file_extension": ".py",
   "mimetype": "text/x-python",
   "name": "python",
   "nbconvert_exporter": "python",
   "pygments_lexer": "ipython3",
   "version": "3.9.12"
  }
 },
 "nbformat": 4,
 "nbformat_minor": 5
}
