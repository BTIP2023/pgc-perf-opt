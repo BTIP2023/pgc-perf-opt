{
 "cells": [
  {
   "cell_type": "code",
   "execution_count": 58,
   "id": "59b46aa0",
   "metadata": {
    "ExecuteTime": {
     "end_time": "2023-07-07T06:29:23.162641300Z",
     "start_time": "2023-07-07T06:29:23.146496600Z"
    }
   },
   "outputs": [],
   "source": [
    "import pandas as pd\n",
    "import numpy as np\n",
    "from sklearn.preprocessing import StandardScaler\n",
    "from sklearn.decomposition import PCA\n",
    "import matplotlib.pyplot as plt\n",
    "import umap.umap_ as umap           # note that umap is not umap in pip, it's umap-learn\n",
    "import plotly.express as px\n",
    "from sklearn.manifold import TSNE\n",
    "import time\n",
    "import kaleido"
   ]
  },
  {
   "cell_type": "code",
   "execution_count": 59,
   "id": "aae7c842",
   "metadata": {
    "ExecuteTime": {
     "end_time": "2023-07-07T06:29:25.240738300Z",
     "start_time": "2023-07-07T06:29:23.150673900Z"
    }
   },
   "outputs": [
    {
     "data": {
      "text/plain": "                                  Unnamed: 0    AAA  AAC    AAG    AAT    ACA   \n0      hCoV-19/Philippines/PH-PGC-03838/2021  920.0  613  580.0  757.0  806.0  \\\n1      hCoV-19/Philippines/PH-PGC-11032/2021  891.0  616  579.0  759.0  808.0   \n2      hCoV-19/Philippines/PH-PGC-52854/2021  921.0  614  579.0  759.0  806.0   \n3      hCoV-19/Philippines/PH-PGC-47467/2021  922.0  616  579.0  759.0  809.0   \n4      hCoV-19/Philippines/PH-PGC-59300/2021  765.0  528  500.0  648.0  690.0   \n..                                       ...    ...  ...    ...    ...    ...   \n490  hCoV-19/Philippines/PGCV_0039_3993/2022  924.0  612  578.0  761.0  801.0   \n491  hCoV-19/Philippines/PGCV_0039_3964/2022  924.0  613  578.0  761.0  803.0   \n492    hCoV-19/Philippines/PH-PGC-06816/2021  883.0  609  572.0  754.0  797.0   \n493    hCoV-19/Philippines/PH-PGC-13327/2021  864.0  568  549.0  722.0  764.0   \n494    hCoV-19/Philippines/PH-PGC-55046/2021  802.0  530  509.0  637.0  681.0   \n\n       ACC    ACG    ACT    AGA  ...  country_exposure   \n0    372.0  165.0  671.0  600.0  ...       Philippines  \\\n1    375.0  165.0  672.0  602.0  ...       Philippines   \n2    370.0  164.0  675.0  603.0  ...       Philippines   \n3    375.0  165.0  671.0  601.0  ...       Philippines   \n4    318.0  149.0  579.0  515.0  ...       Philippines   \n..     ...    ...    ...    ...  ...               ...   \n490  373.0  163.0  669.0  604.0  ...       Philippines   \n491  373.0  163.0  670.0  604.0  ...       Philippines   \n492  372.0  165.0  665.0  600.0  ...       Philippines   \n493  357.0  153.0  629.0  574.0  ...       Philippines   \n494  315.0  141.0  573.0  526.0  ...       Philippines   \n\n           division_exposure  length  age     sex  pangolin_lineage  year   \n0    National Capital Region   29854   47    Male           B.1.1.7  2021  \\\n1    National Capital Region   29831   36  Female           B.1.1.7  2021   \n2    National Capital Region   29851   29    Male           B.1.1.7  2021   \n3          Northern Mindanao   29878    4  Female           B.1.1.7  2021   \n4                     Ilocos   29806   49  Female           B.1.1.7  2021   \n..                       ...     ...  ...     ...               ...   ...   \n490          Western Visayas   29841   28    Male             XBB.9  2022   \n491          Western Visayas   29841   67    Male             XBB.9  2022   \n492  National Capital Region   29816   40    Male               P.1  2021   \n493  National Capital Region   29856   42    Male               P.1  2021   \n494            Central Luzon   29860   27    Male             P.1.7  2021   \n\n     month  day      variant  \n0        1   22        Alpha  \n1        3    5        Alpha  \n2        6    6        Alpha  \n3        5   17        Alpha  \n4        7    9        Alpha  \n..     ...  ...          ...  \n490     10   17  Omicron Sub  \n491     10    6  Omicron Sub  \n492      2   21        Gamma  \n493      3   11        Gamma  \n494      6   12        Gamma  \n\n[495 rows x 78 columns]",
      "text/html": "<div>\n<style scoped>\n    .dataframe tbody tr th:only-of-type {\n        vertical-align: middle;\n    }\n\n    .dataframe tbody tr th {\n        vertical-align: top;\n    }\n\n    .dataframe thead th {\n        text-align: right;\n    }\n</style>\n<table border=\"1\" class=\"dataframe\">\n  <thead>\n    <tr style=\"text-align: right;\">\n      <th></th>\n      <th>Unnamed: 0</th>\n      <th>AAA</th>\n      <th>AAC</th>\n      <th>AAG</th>\n      <th>AAT</th>\n      <th>ACA</th>\n      <th>ACC</th>\n      <th>ACG</th>\n      <th>ACT</th>\n      <th>AGA</th>\n      <th>...</th>\n      <th>country_exposure</th>\n      <th>division_exposure</th>\n      <th>length</th>\n      <th>age</th>\n      <th>sex</th>\n      <th>pangolin_lineage</th>\n      <th>year</th>\n      <th>month</th>\n      <th>day</th>\n      <th>variant</th>\n    </tr>\n  </thead>\n  <tbody>\n    <tr>\n      <th>0</th>\n      <td>hCoV-19/Philippines/PH-PGC-03838/2021</td>\n      <td>920.0</td>\n      <td>613</td>\n      <td>580.0</td>\n      <td>757.0</td>\n      <td>806.0</td>\n      <td>372.0</td>\n      <td>165.0</td>\n      <td>671.0</td>\n      <td>600.0</td>\n      <td>...</td>\n      <td>Philippines</td>\n      <td>National Capital Region</td>\n      <td>29854</td>\n      <td>47</td>\n      <td>Male</td>\n      <td>B.1.1.7</td>\n      <td>2021</td>\n      <td>1</td>\n      <td>22</td>\n      <td>Alpha</td>\n    </tr>\n    <tr>\n      <th>1</th>\n      <td>hCoV-19/Philippines/PH-PGC-11032/2021</td>\n      <td>891.0</td>\n      <td>616</td>\n      <td>579.0</td>\n      <td>759.0</td>\n      <td>808.0</td>\n      <td>375.0</td>\n      <td>165.0</td>\n      <td>672.0</td>\n      <td>602.0</td>\n      <td>...</td>\n      <td>Philippines</td>\n      <td>National Capital Region</td>\n      <td>29831</td>\n      <td>36</td>\n      <td>Female</td>\n      <td>B.1.1.7</td>\n      <td>2021</td>\n      <td>3</td>\n      <td>5</td>\n      <td>Alpha</td>\n    </tr>\n    <tr>\n      <th>2</th>\n      <td>hCoV-19/Philippines/PH-PGC-52854/2021</td>\n      <td>921.0</td>\n      <td>614</td>\n      <td>579.0</td>\n      <td>759.0</td>\n      <td>806.0</td>\n      <td>370.0</td>\n      <td>164.0</td>\n      <td>675.0</td>\n      <td>603.0</td>\n      <td>...</td>\n      <td>Philippines</td>\n      <td>National Capital Region</td>\n      <td>29851</td>\n      <td>29</td>\n      <td>Male</td>\n      <td>B.1.1.7</td>\n      <td>2021</td>\n      <td>6</td>\n      <td>6</td>\n      <td>Alpha</td>\n    </tr>\n    <tr>\n      <th>3</th>\n      <td>hCoV-19/Philippines/PH-PGC-47467/2021</td>\n      <td>922.0</td>\n      <td>616</td>\n      <td>579.0</td>\n      <td>759.0</td>\n      <td>809.0</td>\n      <td>375.0</td>\n      <td>165.0</td>\n      <td>671.0</td>\n      <td>601.0</td>\n      <td>...</td>\n      <td>Philippines</td>\n      <td>Northern Mindanao</td>\n      <td>29878</td>\n      <td>4</td>\n      <td>Female</td>\n      <td>B.1.1.7</td>\n      <td>2021</td>\n      <td>5</td>\n      <td>17</td>\n      <td>Alpha</td>\n    </tr>\n    <tr>\n      <th>4</th>\n      <td>hCoV-19/Philippines/PH-PGC-59300/2021</td>\n      <td>765.0</td>\n      <td>528</td>\n      <td>500.0</td>\n      <td>648.0</td>\n      <td>690.0</td>\n      <td>318.0</td>\n      <td>149.0</td>\n      <td>579.0</td>\n      <td>515.0</td>\n      <td>...</td>\n      <td>Philippines</td>\n      <td>Ilocos</td>\n      <td>29806</td>\n      <td>49</td>\n      <td>Female</td>\n      <td>B.1.1.7</td>\n      <td>2021</td>\n      <td>7</td>\n      <td>9</td>\n      <td>Alpha</td>\n    </tr>\n    <tr>\n      <th>...</th>\n      <td>...</td>\n      <td>...</td>\n      <td>...</td>\n      <td>...</td>\n      <td>...</td>\n      <td>...</td>\n      <td>...</td>\n      <td>...</td>\n      <td>...</td>\n      <td>...</td>\n      <td>...</td>\n      <td>...</td>\n      <td>...</td>\n      <td>...</td>\n      <td>...</td>\n      <td>...</td>\n      <td>...</td>\n      <td>...</td>\n      <td>...</td>\n      <td>...</td>\n      <td>...</td>\n    </tr>\n    <tr>\n      <th>490</th>\n      <td>hCoV-19/Philippines/PGCV_0039_3993/2022</td>\n      <td>924.0</td>\n      <td>612</td>\n      <td>578.0</td>\n      <td>761.0</td>\n      <td>801.0</td>\n      <td>373.0</td>\n      <td>163.0</td>\n      <td>669.0</td>\n      <td>604.0</td>\n      <td>...</td>\n      <td>Philippines</td>\n      <td>Western Visayas</td>\n      <td>29841</td>\n      <td>28</td>\n      <td>Male</td>\n      <td>XBB.9</td>\n      <td>2022</td>\n      <td>10</td>\n      <td>17</td>\n      <td>Omicron Sub</td>\n    </tr>\n    <tr>\n      <th>491</th>\n      <td>hCoV-19/Philippines/PGCV_0039_3964/2022</td>\n      <td>924.0</td>\n      <td>613</td>\n      <td>578.0</td>\n      <td>761.0</td>\n      <td>803.0</td>\n      <td>373.0</td>\n      <td>163.0</td>\n      <td>670.0</td>\n      <td>604.0</td>\n      <td>...</td>\n      <td>Philippines</td>\n      <td>Western Visayas</td>\n      <td>29841</td>\n      <td>67</td>\n      <td>Male</td>\n      <td>XBB.9</td>\n      <td>2022</td>\n      <td>10</td>\n      <td>6</td>\n      <td>Omicron Sub</td>\n    </tr>\n    <tr>\n      <th>492</th>\n      <td>hCoV-19/Philippines/PH-PGC-06816/2021</td>\n      <td>883.0</td>\n      <td>609</td>\n      <td>572.0</td>\n      <td>754.0</td>\n      <td>797.0</td>\n      <td>372.0</td>\n      <td>165.0</td>\n      <td>665.0</td>\n      <td>600.0</td>\n      <td>...</td>\n      <td>Philippines</td>\n      <td>National Capital Region</td>\n      <td>29816</td>\n      <td>40</td>\n      <td>Male</td>\n      <td>P.1</td>\n      <td>2021</td>\n      <td>2</td>\n      <td>21</td>\n      <td>Gamma</td>\n    </tr>\n    <tr>\n      <th>493</th>\n      <td>hCoV-19/Philippines/PH-PGC-13327/2021</td>\n      <td>864.0</td>\n      <td>568</td>\n      <td>549.0</td>\n      <td>722.0</td>\n      <td>764.0</td>\n      <td>357.0</td>\n      <td>153.0</td>\n      <td>629.0</td>\n      <td>574.0</td>\n      <td>...</td>\n      <td>Philippines</td>\n      <td>National Capital Region</td>\n      <td>29856</td>\n      <td>42</td>\n      <td>Male</td>\n      <td>P.1</td>\n      <td>2021</td>\n      <td>3</td>\n      <td>11</td>\n      <td>Gamma</td>\n    </tr>\n    <tr>\n      <th>494</th>\n      <td>hCoV-19/Philippines/PH-PGC-55046/2021</td>\n      <td>802.0</td>\n      <td>530</td>\n      <td>509.0</td>\n      <td>637.0</td>\n      <td>681.0</td>\n      <td>315.0</td>\n      <td>141.0</td>\n      <td>573.0</td>\n      <td>526.0</td>\n      <td>...</td>\n      <td>Philippines</td>\n      <td>Central Luzon</td>\n      <td>29860</td>\n      <td>27</td>\n      <td>Male</td>\n      <td>P.1.7</td>\n      <td>2021</td>\n      <td>6</td>\n      <td>12</td>\n      <td>Gamma</td>\n    </tr>\n  </tbody>\n</table>\n<p>495 rows × 78 columns</p>\n</div>"
     },
     "execution_count": 59,
     "metadata": {},
     "output_type": "execute_result"
    }
   ],
   "source": [
    "#Loading all the data files\n",
    "data3 = pd.read_csv('../data/kmers/kmer_3.csv')\n",
    "data5 = pd.read_csv('../data/kmers/kmer_5.csv')\n",
    "data7 = pd.read_csv('../data/kmers/kmer_7.csv')\n",
    "\n",
    "data3"
   ]
  },
  {
   "cell_type": "code",
   "execution_count": 60,
   "outputs": [
    {
     "data": {
      "text/plain": "['Alpha', 'Beta', 'Delta', 'Gamma', 'Omicron', 'Omicron Sub']"
     },
     "execution_count": 60,
     "metadata": {},
     "output_type": "execute_result"
    }
   ],
   "source": [
    "# Scratch\n",
    "slice_col = data3.columns.get_loc('strain')\n",
    "X = data3.iloc[:, 1:slice_col]\n",
    "target = data3['variant']\n",
    "list(map(lambda var: var.replace('_', ' ').title(), target.unique()))\n",
    "sorted(list(target.unique()))"
   ],
   "metadata": {
    "collapsed": false,
    "ExecuteTime": {
     "end_time": "2023-07-07T06:29:25.248857100Z",
     "start_time": "2023-07-07T06:29:25.242734700Z"
    }
   }
  },
  {
   "cell_type": "markdown",
   "id": "784e91e8",
   "metadata": {},
   "source": [
    "## Method 1: Principal Component Analysis "
   ]
  },
  {
   "cell_type": "code",
   "execution_count": 61,
   "id": "db149d0e",
   "metadata": {
    "ExecuteTime": {
     "end_time": "2023-07-07T06:29:25.257080Z",
     "start_time": "2023-07-07T06:29:25.252905700Z"
    }
   },
   "outputs": [],
   "source": [
    "def pca(data,image_name):\n",
    "    slice_col = data.columns.get_loc('strain')\n",
    "    X = data.iloc[:, 1:slice_col]\n",
    "    target = data['variant']\n",
    "    print(target.tail())\n",
    "    x = StandardScaler().fit_transform(X)\n",
    "    pca = PCA(n_components=2)\n",
    "    PC = pca.fit_transform(x)\n",
    "    PDF = pd.DataFrame(data = PC,columns = ['Principal Component 1', 'Principal Component 2'])\n",
    "    FDF = pd.concat([PDF, data['variant']], axis = 1)\n",
    "    print('Variance of each component:', pca.explained_variance_ratio_)\n",
    "    fig = plt.figure(figsize = (10,10))\n",
    "    plt.rcParams['font.size'] = 20\n",
    "    ax = fig.add_subplot(1,1,1) \n",
    "    ax.set_xlabel(\"PC 1 ({:.2%} explained variance)\".format(pca.explained_variance_ratio_[0]))\n",
    "    ax.set_ylabel(\"PC 2 ({:.2%} explained variance)\".format(pca.explained_variance_ratio_[1]))\n",
    "    targets = sorted(list(target.unique()))\n",
    "    colors = ['r','b','g','m','c','orange']\n",
    "    for target, color in zip(targets,colors):\n",
    "        rowsToKeep = FDF['variant'] == target    # ensures that variant rows are mapped to correct data\n",
    "        ax.scatter(FDF.loc[rowsToKeep, 'Principal Component 1']\n",
    "               , FDF.loc[rowsToKeep, 'Principal Component 2']\n",
    "               , c = color\n",
    "               , s = 40\n",
    "                )\n",
    "    ax.legend(targets,loc='best')\n",
    "    plt.savefig(image_name)"
   ]
  },
  {
   "cell_type": "code",
   "execution_count": 62,
   "id": "d6bfbba0",
   "metadata": {
    "ExecuteTime": {
     "end_time": "2023-07-07T06:29:27.380036800Z",
     "start_time": "2023-07-07T06:29:25.258079600Z"
    }
   },
   "outputs": [
    {
     "name": "stdout",
     "output_type": "stream",
     "text": [
      "490    Omicron Sub\n",
      "491    Omicron Sub\n",
      "492          Gamma\n",
      "493          Gamma\n",
      "494          Gamma\n",
      "Name: variant, dtype: object\n",
      "Variance of each component: [0.94339715 0.02262287]\n",
      "490    Omicron Sub\n",
      "491    Omicron Sub\n",
      "492          Gamma\n",
      "493          Gamma\n",
      "494          Gamma\n",
      "Name: variant, dtype: object\n",
      "Variance of each component: [0.58681464 0.07037968]\n",
      "490    Omicron Sub\n",
      "491    Omicron Sub\n",
      "492          Gamma\n",
      "493          Gamma\n",
      "494          Gamma\n",
      "Name: variant, dtype: object\n",
      "Variance of each component: [0.15840848 0.06084226]\n"
     ]
    },
    {
     "data": {
      "text/plain": "<Figure size 1000x1000 with 1 Axes>",
      "image/png": "[encoded data removed]"
     },
     "metadata": {},
     "output_type": "display_data"
    },
    {
     "data": {
      "text/plain": "<Figure size 1000x1000 with 1 Axes>",
      "image/png": "[encoded data removed]"
     },
     "metadata": {},
     "output_type": "display_data"
    },
    {
     "data": {
      "text/plain": "<Figure size 1000x1000 with 1 Axes>",
      "image/png": "[encoded data removed]"
     },
     "metadata": {},
     "output_type": "display_data"
    }
   ],
   "source": [
    "pca(data3,'../results/dim-reduce/pca-3.png')\n",
    "pca(data5,'../results/dim-reduce/pca-5.png')\n",
    "pca(data7,'../results/dim-reduce/pca-7.png')"
   ]
  },
  {
   "cell_type": "markdown",
   "id": "34cdd05b",
   "metadata": {},
   "source": [
    "### Combined PCA screenplot"
   ]
  },
  {
   "cell_type": "code",
   "execution_count": 63,
   "id": "08ea3af2",
   "metadata": {
    "ExecuteTime": {
     "end_time": "2023-07-07T06:29:27.384966800Z",
     "start_time": "2023-07-07T06:29:27.380036800Z"
    }
   },
   "outputs": [],
   "source": [
    "def pcaPlot(data, pt, color, label):\n",
    "    global fig\n",
    "    slice_col = data.columns.get_loc('strain')\n",
    "    X = data.iloc[:, 1:slice_col]\n",
    "    target = data['variant']\n",
    "    x = StandardScaler().fit_transform(X)\n",
    "    pca = PCA(n_components = 10)\n",
    "    PC = pca.fit_transform(x)\n",
    "    print('Variance of each component:', pca.explained_variance_ratio_)\n",
    "\n",
    "    plt.rcParams['font.size'] = 20\n",
    "    PC_values = np.arange(pca.n_components_) + 1\n",
    "    plt.plot(PC_values, pca.explained_variance_ratio_, pt, linewidth=2, color=color,label=label)\n",
    "    \n",
    "    plt.xlabel('Number of Principal Components')\n",
    "    plt.ylabel('Proportion of Variance Explained')\n",
    "    plt.legend(loc='best')\n",
    "    plt.savefig('../results/dim-reduce/pca-combined.png')"
   ]
  },
  {
   "cell_type": "code",
   "execution_count": 64,
   "outputs": [
    {
     "name": "stdout",
     "output_type": "stream",
     "text": [
      "Variance of each component: [0.94339715 0.02262287 0.0068363  0.00405764 0.00338494 0.00228067\n",
      " 0.00177603 0.00176091 0.00145105 0.0011092 ]\n",
      "Variance of each component: [0.58681464 0.07037968 0.04116455 0.0254254  0.02065622 0.01776829\n",
      " 0.01525308 0.01168375 0.01152194 0.00936453]\n",
      "Variance of each component: [0.15840848 0.06084226 0.0525306  0.03672346 0.02605942 0.02467927\n",
      " 0.02237874 0.02054914 0.01947465 0.01663511]\n"
     ]
    },
    {
     "data": {
      "text/plain": "<Figure size 1000x1000 with 1 Axes>",
      "image/png": "[encoded data removed]"
     },
     "metadata": {},
     "output_type": "display_data"
    }
   ],
   "source": [
    "fig = plt.figure(figsize = (10,10))\n",
    "pcaPlot(data3, 'h-', 'purple', 'k=3')\n",
    "pcaPlot(data5, '*-', 'red', 'k=5')\n",
    "pcaPlot(data7, 'o-', 'blue', 'k=7')"
   ],
   "metadata": {
    "collapsed": false,
    "ExecuteTime": {
     "end_time": "2023-07-07T06:29:29.155190200Z",
     "start_time": "2023-07-07T06:29:27.385476800Z"
    }
   }
  },
  {
   "cell_type": "markdown",
   "id": "5a0eeaed",
   "metadata": {},
   "source": [
    "## Method 2: t-Distributed Stochastic Neighbor Embedding"
   ]
  },
  {
   "cell_type": "code",
   "execution_count": 65,
   "id": "576ad68d",
   "metadata": {
    "ExecuteTime": {
     "end_time": "2023-07-07T06:29:29.161731400Z",
     "start_time": "2023-07-07T06:29:29.158202300Z"
    }
   },
   "outputs": [],
   "source": [
    "def tsne_fn(data, k):\n",
    "    data = data.sort_values(by='variant', ascending=True)\n",
    "    slice_col = data.columns.get_loc('strain')\n",
    "    X = data.iloc[:, 1:slice_col]\n",
    "    target = data['variant']\n",
    "    time_start = time.time()\n",
    "    tsne = TSNE(n_components=2, verbose=1, perplexity=40, n_iter=300, random_state=10)\n",
    "    tsne_results_1 = tsne.fit_transform(X)\n",
    "    fig = px.scatter(\n",
    "    tsne_results_1, x=0, y=1,\n",
    "    color=target, labels={'color': 'Variant'})\n",
    "    fig.update_layout(\n",
    "        xaxis_title=\"TSNE-2D-1\",\n",
    "        yaxis_title=\"TSNE-2D-2\",\n",
    "        font=dict(\n",
    "            family=\"Courier New, monospace\",\n",
    "            size=18,\n",
    "            color=\"RebeccaPurple\"))\n",
    "    fig.update_xaxes(showgrid=False,zeroline=False)\n",
    "    fig.update_yaxes(showgrid=False,zeroline=False)\n",
    "    fig.show()\n",
    "\n",
    "    fig.write_image('../results/dim-reduce/tsne-{}.png'.format(k))\n",
    "    fig.write_html('../results/dim-reduce/tsne-{}.html'.format(k))"
   ]
  },
  {
   "cell_type": "code",
   "execution_count": 66,
   "id": "dce28d07",
   "metadata": {
    "ExecuteTime": {
     "end_time": "2023-07-07T06:29:31.580290400Z",
     "start_time": "2023-07-07T06:29:29.162733100Z"
    }
   },
   "outputs": [
    {
     "name": "stdout",
     "output_type": "stream",
     "text": [
      "[t-SNE] Computing 121 nearest neighbors...\n",
      "[t-SNE] Indexed 495 samples in 0.000s...\n",
      "[t-SNE] Computed neighbors for 495 samples in 0.016s...\n",
      "[t-SNE] Computed conditional probabilities for sample 495 / 495\n",
      "[t-SNE] Mean sigma: 12.834426\n",
      "[t-SNE] KL divergence after 250 iterations with early exaggeration: 46.270802\n",
      "[t-SNE] KL divergence after 300 iterations: 0.228761\n"
     ]
    },
    {
     "data": {
      "application/vnd.plotly.v1+json": {
       "data": [
        {
         "hovertemplate": "Variant=Alpha<br>0=%{x}<br>1=%{y}<extra></extra>",
         "legendgroup": "Alpha",
         "marker": {
          "color": "#636efa",
          "symbol": "circle"
         },
         "mode": "markers",
         "name": "Alpha",
         "orientation": "v",
         "showlegend": true,
         "x": [
          -3.6852385997772217,
          14.700809478759766,
          -3.8915581703186035,
          -4.171975612640381,
          2.485192060470581,
          4.681581497192383,
          2.7836763858795166,
          3.2679245471954346,
          -3.9376635551452637,
          2.263111114501953,
          3.1605358123779297,
          3.0827629566192627,
          2.3257856369018555,
          -3.843064785003662,
          3.2744228839874268,
          -3.651592493057251,
          3.4356882572174072,
          4.177979469299316,
          13.606767654418945,
          -3.8911590576171875,
          2.8091092109680176,
          2.7307276725769043,
          4.835263252258301,
          2.2371342182159424,
          6.088294506072998,
          2.7966110706329346,
          2.9638309478759766,
          -3.161705732345581,
          4.4587721824646,
          2.8133373260498047,
          3.9131007194519043,
          2.836179256439209,
          6.793532848358154,
          2.2051613330841064,
          3.1226115226745605,
          3.962604522705078,
          -3.6427228450775146,
          4.704066276550293,
          2.9872448444366455,
          2.910773754119873,
          3.306077241897583,
          2.9547410011291504,
          4.890035152435303,
          3.0593302249908447,
          0.29871490597724915,
          9.848480224609375,
          2.8130130767822266,
          -3.7039105892181396,
          4.589219093322754,
          2.191575765609741,
          3.249981641769409,
          -3.784316301345825,
          13.829668998718262,
          5.401433944702148,
          3.638511896133423,
          2.803441286087036,
          8.001861572265625,
          3.2809059619903564,
          3.894209861755371,
          4.529500484466553,
          3.311962604522705,
          2.2595016956329346,
          2.278416156768799,
          7.110795497894287,
          -3.8730826377868652,
          -3.8428759574890137,
          2.760836124420166,
          2.8394358158111572,
          3.266538381576538,
          13.105100631713867,
          -4.026331901550293,
          -3.8709707260131836,
          2.6958115100860596,
          3.094749689102173,
          3.1483380794525146,
          11.846395492553711,
          3.3362765312194824,
          11.272335052490234,
          2.465906858444214,
          -3.6289947032928467,
          4.348266124725342,
          3.066849946975708,
          4.545731067657471,
          7.156184196472168,
          -3.9518985748291016,
          -3.6839139461517334,
          2.5933988094329834,
          13.082877159118652,
          3.07519793510437,
          2.9215681552886963,
          5.141789436340332,
          4.988071918487549,
          -3.9036145210266113,
          -3.6691651344299316,
          -3.7990171909332275,
          -3.7505249977111816,
          -3.8353192806243896,
          2.7839536666870117,
          14.631643295288086,
          -4.557798385620117
         ],
         "xaxis": "x",
         "y": [
          7.920653820037842,
          7.865723609924316,
          8.844962120056152,
          4.122629642486572,
          -12.306790351867676,
          -7.502939224243164,
          -12.507365226745605,
          2.503009557723999,
          9.299829483032227,
          -13.14304256439209,
          -11.628440856933594,
          2.1570589542388916,
          -12.55926513671875,
          9.401212692260742,
          -13.612147331237793,
          7.446405410766602,
          -12.600147247314453,
          -2.0748236179351807,
          7.283970832824707,
          9.181175231933594,
          -12.91564655303955,
          -11.794169425964355,
          -7.039943695068359,
          -13.501967430114746,
          3.566178321838379,
          -13.303841590881348,
          -13.0722074508667,
          3.727973222732544,
          -7.824710845947266,
          -13.55910873413086,
          0.6367877721786499,
          -13.347840309143066,
          4.626590728759766,
          -13.087285041809082,
          -12.494056701660156,
          0.574288010597229,
          8.542593955993652,
          -7.670825004577637,
          3.005707263946533,
          -12.293488502502441,
          -13.093491554260254,
          -12.753636360168457,
          -6.904043674468994,
          -13.038372993469238,
          1.489753246307373,
          6.493536472320557,
          -12.302818298339844,
          8.289835929870605,
          -7.395005226135254,
          -13.238720893859863,
          3.13533091545105,
          8.837128639221191,
          7.438144207000732,
          -5.3653244972229,
          -11.116025924682617,
          -13.484709739685059,
          6.13327693939209,
          -12.533828735351562,
          -11.996455192565918,
          -0.36897096037864685,
          2.3835408687591553,
          -13.082405090332031,
          -12.41894817352295,
          4.625433444976807,
          9.09736442565918,
          9.157209396362305,
          -13.354663848876953,
          2.750290632247925,
          -13.685303688049316,
          7.086041450500488,
          9.464885711669922,
          8.920003890991211,
          -13.388199806213379,
          -1.162062406539917,
          -12.216353416442871,
          6.8350934982299805,
          -12.799427032470703,
          6.722197532653809,
          -12.99849796295166,
          7.285372734069824,
          -8.425860404968262,
          -13.054080963134766,
          1.195177435874939,
          4.851990222930908,
          9.217045783996582,
          7.704971790313721,
          -12.210461616516113,
          7.857692718505859,
          -11.743334770202637,
          -11.410453796386719,
          4.436437606811523,
          -6.955357074737549,
          9.3598051071167,
          7.801252841949463,
          8.718321800231934,
          8.357540130615234,
          9.281326293945312,
          -13.541796684265137,
          7.836972236633301,
          4.091914176940918
         ],
         "yaxis": "y",
         "type": "scatter"
        },
        {
         "hovertemplate": "Variant=Beta<br>0=%{x}<br>1=%{y}<extra></extra>",
         "legendgroup": "Beta",
         "marker": {
          "color": "#EF553B",
          "symbol": "circle"
         },
         "mode": "markers",
         "name": "Beta",
         "orientation": "v",
         "showlegend": true,
         "x": [
          6.898417949676514,
          3.882323741912842,
          3.8920178413391113,
          4.2741379737854,
          6.279358863830566,
          4.0729570388793945,
          3.73160457611084,
          3.418250322341919,
          3.9255335330963135,
          4.361070156097412,
          3.9833931922912598,
          -6.774264812469482,
          0.8258334398269653,
          4.0854082107543945,
          -4.530745506286621,
          4.009460926055908,
          -6.755444526672363,
          3.6782989501953125,
          8.01940631866455,
          3.74247670173645,
          3.9027955532073975,
          -4.521668434143066,
          4.591246128082275,
          3.9191253185272217,
          5.464969158172607,
          3.997997522354126,
          3.9269158840179443,
          0.8472622632980347,
          4.0089569091796875,
          5.571913719177246,
          4.461833953857422,
          12.659624099731445,
          -4.568531036376953,
          5.786998271942139,
          0.5529093146324158,
          -4.556966781616211,
          -4.825296878814697,
          3.9589946269989014,
          -6.670341491699219,
          -4.5688323974609375,
          0.6509177684783936,
          0.8137834072113037,
          3.9913065433502197,
          7.409080982208252,
          -4.7136712074279785,
          -4.451535701751709,
          -6.783458232879639,
          4.229065418243408,
          4.257996082305908,
          5.341156482696533,
          -4.689926624298096,
          3.8945353031158447,
          -4.604132175445557,
          3.8023552894592285,
          4.048253059387207,
          3.7600040435791016,
          -6.78344202041626,
          -4.838808536529541,
          3.69933819770813,
          13.727218627929688,
          11.850266456604004,
          5.883547782897949,
          -6.794406890869141,
          4.005277156829834,
          4.3724870681762695,
          3.942277431488037,
          3.520859479904175,
          4.0096964836120605,
          3.769566535949707,
          -6.853196620941162,
          4.061961650848389,
          3.8420372009277344,
          12.98628044128418,
          4.061606407165527,
          4.175400257110596,
          4.395877838134766,
          3.7389042377471924,
          3.4392001628875732,
          3.941519021987915,
          -6.843865394592285,
          3.4123735427856445,
          12.830309867858887,
          14.660547256469727,
          -4.592267990112305,
          13.422501564025879,
          0.8094843029975891,
          3.955610513687134,
          4.56127405166626,
          0.48326021432876587,
          4.045405864715576,
          -6.524936199188232,
          -6.639705181121826,
          14.118326187133789,
          4.22145938873291,
          3.6666758060455322,
          -4.656815528869629,
          6.246434688568115,
          4.081120014190674,
          3.809257745742798,
          3.4070889949798584
         ],
         "xaxis": "x",
         "y": [
          4.528810024261475,
          -4.399416923522949,
          -6.178997993469238,
          -5.495430946350098,
          3.787014961242676,
          -5.5611066818237305,
          -1.1887614727020264,
          -5.339529037475586,
          -0.006930266506969929,
          -4.7962117195129395,
          -0.6930347681045532,
          8.530397415161133,
          -11.393391609191895,
          -1.8622241020202637,
          3.2296931743621826,
          -5.552799701690674,
          8.557342529296875,
          -4.875450134277344,
          5.489504337310791,
          -6.144746780395508,
          -3.233304262161255,
          3.311006546020508,
          0.3597165048122406,
          -5.928499698638916,
          2.5120902061462402,
          -5.331195831298828,
          -5.576859951019287,
          -11.466718673706055,
          -5.604262351989746,
          2.71065616607666,
          0.04365381598472595,
          7.831721305847168,
          3.282500982284546,
          3.3024213314056396,
          1.4580892324447632,
          3.3114609718322754,
          3.3664398193359375,
          -0.38371211290359497,
          8.447193145751953,
          3.264796257019043,
          1.007134199142456,
          -11.234697341918945,
          -0.7706782221794128,
          5.198780059814453,
          3.2951972484588623,
          3.094438314437866,
          8.692062377929688,
          -5.641121864318848,
          -5.824903964996338,
          2.3038837909698486,
          3.305420160293579,
          -0.7614679932594299,
          3.2803566455841064,
          2.3316433429718018,
          -5.55530309677124,
          -5.521080493927002,
          8.574867248535156,
          3.3060364723205566,
          -1.2130060195922852,
          7.426545143127441,
          6.826614856719971,
          2.848798990249634,
          8.684037208557129,
          -5.7475128173828125,
          -5.401838302612305,
          -5.553600788116455,
          -5.396857261657715,
          -3.31705904006958,
          -4.691014289855957,
          8.728981971740723,
          -5.469230651855469,
          -1.2972052097320557,
          7.877978324890137,
          -0.2919568717479706,
          -5.120351314544678,
          -4.422700881958008,
          -6.078522205352783,
          -5.301447868347168,
          -5.958581924438477,
          8.69375991821289,
          -6.52646541595459,
          7.105708599090576,
          7.877976894378662,
          3.2291595935821533,
          7.288451671600342,
          -10.950477600097656,
          -0.7914180159568787,
          -5.705954551696777,
          1.0570412874221802,
          -1.4947890043258667,
          8.17271614074707,
          8.403738975524902,
          8.057942390441895,
          -5.6459527015686035,
          -6.17058801651001,
          3.315833568572998,
          5.131720066070557,
          -3.0486433506011963,
          -5.176341533660889,
          -6.443729400634766
         ],
         "yaxis": "y",
         "type": "scatter"
        },
        {
         "hovertemplate": "Variant=Delta<br>0=%{x}<br>1=%{y}<extra></extra>",
         "legendgroup": "Delta",
         "marker": {
          "color": "#00cc96",
          "symbol": "circle"
         },
         "mode": "markers",
         "name": "Delta",
         "orientation": "v",
         "showlegend": true,
         "x": [
          -2.259359836578369,
          3.791282892227173,
          1.0564522743225098,
          1.3508936166763306,
          -6.370655536651611,
          -6.891456604003906,
          -8.048465728759766,
          -3.138772964477539,
          -2.2677948474884033,
          0.5494502186775208,
          -7.088362216949463,
          0.4535333514213562,
          -6.2380876541137695,
          -2.291712522506714,
          -7.9786224365234375,
          -8.078325271606445,
          2.2176504135131836,
          0.6072970032691956,
          0.22197452187538147,
          0.45544326305389404,
          -7.0858917236328125,
          -7.010326385498047,
          4.905812740325928,
          -6.843353271484375,
          -2.0987205505371094,
          -6.436363697052002,
          -6.787285327911377,
          -3.215794801712036,
          0.30852067470550537,
          -6.622800350189209,
          10.28840160369873,
          -6.847676753997803,
          13.865714073181152,
          -6.454421043395996,
          -0.1438991129398346,
          1.294548749923706,
          -5.493556499481201,
          2.2920849323272705,
          4.079453945159912,
          -6.965904712677002,
          7.843685150146484,
          11.780757904052734,
          10.711615562438965,
          -6.384410858154297,
          -2.072073459625244,
          0.608340322971344,
          9.69479751586914,
          4.515298843383789,
          -7.037966251373291,
          4.473153591156006,
          -2.2732415199279785,
          11.579424858093262,
          0.46269604563713074,
          -2.1694631576538086,
          -6.476255416870117,
          -7.871355056762695,
          -5.641307353973389,
          -6.28671407699585,
          -7.2546868324279785,
          -7.215206623077393,
          0.590455174446106,
          -1.9765568971633911,
          -8.028886795043945,
          -7.9567108154296875,
          -7.121865749359131,
          7.212002277374268,
          1.574692726135254,
          4.371633052825928,
          -6.699217319488525,
          13.369086265563965,
          -6.297945022583008,
          -0.021239763125777245,
          5.8772759437561035,
          -6.57967472076416,
          -6.657999515533447,
          0.4423752725124359,
          0.5002862215042114,
          -3.121717929840088,
          7.272101402282715,
          2.340365171432495,
          -7.970046520233154,
          2.2221367359161377,
          11.711312294006348,
          -6.438992500305176,
          0.42651763558387756,
          -2.10640549659729,
          -6.331397533416748,
          2.453437328338623,
          3.771528720855713,
          -3.380678176879883,
          -6.447661876678467,
          -6.615488052368164,
          6.560631275177002,
          2.299509048461914,
          4.499185562133789,
          2.256788492202759,
          0.41372084617614746,
          -6.454142093658447,
          -8.051477432250977
         ],
         "xaxis": "x",
         "y": [
          2.96404767036438,
          2.8705620765686035,
          1.6797010898590088,
          1.3961431980133057,
          10.91413402557373,
          10.112048149108887,
          10.936721801757812,
          3.191528797149658,
          3.0282344818115234,
          -12.289229393005371,
          11.500761032104492,
          -12.217411994934082,
          10.654497146606445,
          3.0925092697143555,
          11.077461242675781,
          11.155585289001465,
          -3.8670077323913574,
          1.6189138889312744,
          -12.219542503356934,
          -12.219934463500977,
          11.526638984680176,
          10.211538314819336,
          2.044407367706299,
          10.493491172790527,
          2.031658411026001,
          10.811758995056152,
          10.59158706665039,
          3.209801197052002,
          -12.249768257141113,
          10.80427360534668,
          6.54669713973999,
          10.699563026428223,
          7.405244827270508,
          11.702293395996094,
          -12.02701473236084,
          -10.835420608520508,
          11.594099044799805,
          -4.110947132110596,
          -7.325068473815918,
          10.4351167678833,
          5.359797477722168,
          6.818580627441406,
          6.657413005828857,
          10.331231117248535,
          2.9124629497528076,
          -12.410614013671875,
          6.595414638519287,
          1.656967043876648,
          10.890323638916016,
          0.17571799457073212,
          3.0680136680603027,
          6.7732720375061035,
          -12.15928840637207,
          2.8906607627868652,
          10.776494026184082,
          11.253321647644043,
          10.744453430175781,
          11.268040657043457,
          10.448188781738281,
          11.571789741516113,
          -12.404555320739746,
          2.8906118869781494,
          10.983220100402832,
          11.112122535705566,
          11.462301254272461,
          5.922532081604004,
          1.9219051599502563,
          -0.8454446196556091,
          10.52684211730957,
          7.251312732696533,
          11.379844665527344,
          -12.181763648986816,
          5.022487163543701,
          10.858851432800293,
          10.820039749145508,
          -12.435601234436035,
          -12.458165168762207,
          3.4033637046813965,
          6.315032482147217,
          2.0767180919647217,
          10.785746574401855,
          -3.89451265335083,
          6.821277618408203,
          10.84329891204834,
          1.6798170804977417,
          2.9720089435577393,
          11.490450859069824,
          2.249457597732544,
          0.0024694751482456923,
          2.7812390327453613,
          10.732824325561523,
          11.052626609802246,
          5.456601142883301,
          -4.350376129150391,
          1.1201080083847046,
          -3.9215500354766846,
          -12.33995532989502,
          11.457651138305664,
          11.070948600769043
         ],
         "yaxis": "y",
         "type": "scatter"
        },
        {
         "hovertemplate": "Variant=Gamma<br>0=%{x}<br>1=%{y}<extra></extra>",
         "legendgroup": "Gamma",
         "marker": {
          "color": "#ab63fa",
          "symbol": "circle"
         },
         "mode": "markers",
         "name": "Gamma",
         "orientation": "v",
         "showlegend": true,
         "x": [
          2.5863780975341797,
          13.077099800109863,
          8.32398796081543
         ],
         "xaxis": "x",
         "y": [
          -5.546358585357666,
          7.123706340789795,
          6.302891731262207
         ],
         "yaxis": "y",
         "type": "scatter"
        },
        {
         "hovertemplate": "Variant=Omicron<br>0=%{x}<br>1=%{y}<extra></extra>",
         "legendgroup": "Omicron",
         "marker": {
          "color": "#FFA15A",
          "symbol": "circle"
         },
         "mode": "markers",
         "name": "Omicron",
         "orientation": "v",
         "showlegend": true,
         "x": [
          -11.31222915649414,
          3.7282004356384277,
          -10.889095306396484,
          7.565548896789551,
          -11.57646656036377,
          1.6676443815231323,
          -11.640617370605469,
          14.1553373336792,
          -1.7473125457763672,
          -11.00905990600586,
          -11.533555030822754,
          -13.08911418914795,
          -12.274478912353516,
          9.037808418273926,
          -12.209080696105957,
          -3.1430013179779053,
          -11.444243431091309,
          5.510664463043213,
          10.89787483215332,
          -11.254446983337402,
          6.138288497924805,
          -3.968618392944336,
          -2.078317403793335,
          -12.726391792297363,
          1.2325600385665894,
          -2.7606446743011475,
          10.320147514343262,
          -11.295185089111328,
          2.0234928131103516,
          7.116042613983154,
          9.177248001098633,
          5.922077655792236,
          6.437855243682861,
          1.2847681045532227,
          -11.339577674865723,
          -11.615352630615234,
          -13.046038627624512,
          6.042156219482422,
          -1.8280400037765503,
          11.893280029296875,
          -13.050128936767578,
          2.037968873977661,
          -1.8079861402511597,
          12.162049293518066,
          2.5667994022369385,
          -11.518760681152344,
          -3.445493221282959,
          13.318368911743164,
          -1.8418936729431152,
          9.186798095703125,
          8.755995750427246,
          -11.005426406860352,
          5.818175315856934,
          10.705280303955078,
          12.745253562927246,
          -1.7713261842727661,
          -13.148646354675293,
          -11.364164352416992,
          -7.6015849113464355,
          -11.510476112365723,
          -1.796204686164856,
          1.2716697454452515,
          5.294802665710449,
          -2.2200653553009033,
          1.7963320016860962,
          -1.7965468168258667,
          -11.368812561035156,
          7.9043192863464355,
          -1.8041900396347046,
          -1.793278694152832,
          2.3791940212249756,
          -10.294510841369629,
          -1.8122762441635132,
          1.274912714958191,
          -1.823940396308899,
          -13.124460220336914,
          -13.062098503112793,
          -13.10686206817627,
          -11.792864799499512,
          -11.361878395080566,
          -1.9731175899505615,
          -12.196782112121582,
          -1.9674792289733887,
          -10.955159187316895,
          -8.487848281860352,
          -11.30408763885498,
          -8.48590087890625,
          -13.041625022888184,
          2.600922107696533,
          14.579721450805664,
          -3.366417169570923,
          -2.973747491836548,
          -7.160222053527832,
          -12.7495698928833,
          -10.726871490478516,
          -11.46072769165039,
          -12.193560600280762,
          -1.7816004753112793,
          -13.11577033996582,
          -4.59199333190918
         ],
         "xaxis": "x",
         "y": [
          -2.00981068611145,
          3.7772929668426514,
          -2.3713560104370117,
          6.4573163986206055,
          -2.0192275047302246,
          2.3714466094970703,
          -2.00885009765625,
          7.603082180023193,
          -0.2282603681087494,
          -1.8851345777511597,
          -1.8615660667419434,
          -1.5758506059646606,
          -3.1411914825439453,
          6.471675872802734,
          -3.1715002059936523,
          -0.5791633725166321,
          -2.0006606578826904,
          2.9468603134155273,
          6.675201892852783,
          -2.005861282348633,
          3.545851469039917,
          -0.04981904476881027,
          -0.14799697697162628,
          -1.4941248893737793,
          -5.304156303405762,
          -0.39863327145576477,
          6.604128837585449,
          -2.028019428253174,
          2.4937753677368164,
          5.843819618225098,
          6.108779430389404,
          3.50587797164917,
          5.453118801116943,
          -5.708390712738037,
          -1.6439414024353027,
          -2.105872631072998,
          -1.6234033107757568,
          3.0856735706329346,
          -10.237175941467285,
          6.856072425842285,
          -1.545354962348938,
          1.6096476316452026,
          -9.88345718383789,
          6.966062545776367,
          -0.11219703406095505,
          -1.8528205156326294,
          0.3302026391029358,
          7.249179840087891,
          -10.051219940185547,
          6.150317192077637,
          6.512601852416992,
          -2.4789135456085205,
          3.146442413330078,
          6.654933452606201,
          7.03839635848999,
          -9.874981880187988,
          -1.9143056869506836,
          -1.5324519872665405,
          -3.08512282371521,
          -1.9656399488449097,
          -9.851771354675293,
          -5.687431812286377,
          4.757967948913574,
          -0.1746790111064911,
          2.49906325340271,
          -10.237863540649414,
          -1.790299892425537,
          5.9807610511779785,
          -9.594094276428223,
          -9.855548858642578,
          2.78741192817688,
          -1.841162085533142,
          -10.121452331542969,
          -5.270193576812744,
          -10.122514724731445,
          -1.4828319549560547,
          -1.5854759216308594,
          -1.5327526330947876,
          -3.848145008087158,
          -1.9840149879455566,
          -0.16273318231105804,
          -3.430551052093506,
          -0.22195102274417877,
          -2.0462615489959717,
          6.733242988586426,
          -2.001119375228882,
          6.736886978149414,
          -2.0515949726104736,
          -0.056424256414175034,
          7.831453323364258,
          0.22798283398151398,
          -0.04822731763124466,
          -2.7350244522094727,
          -2.808708906173706,
          -2.5509421825408936,
          -1.9320014715194702,
          -3.1047616004943848,
          -9.912513732910156,
          -1.457774043083191,
          2.630291223526001
         ],
         "yaxis": "y",
         "type": "scatter"
        },
        {
         "hovertemplate": "Variant=Omicron Sub<br>0=%{x}<br>1=%{y}<extra></extra>",
         "legendgroup": "Omicron Sub",
         "marker": {
          "color": "#19d3f3",
          "symbol": "circle"
         },
         "mode": "markers",
         "name": "Omicron Sub",
         "orientation": "v",
         "showlegend": true,
         "x": [
          -4.388452053070068,
          13.238080024719238,
          -2.3991098403930664,
          -1.0513712167739868,
          -8.120448112487793,
          -8.048845291137695,
          -8.84584903717041,
          -9.081311225891113,
          7.010677814483643,
          -8.152509689331055,
          -3.1082561016082764,
          -9.355453491210938,
          -7.577600002288818,
          8.23541259765625,
          11.34074592590332,
          13.836355209350586,
          -2.818967819213867,
          -8.205108642578125,
          9.121100425720215,
          -7.686891078948975,
          -2.567081928253174,
          14.73332405090332,
          -8.245671272277832,
          -8.433037757873535,
          -6.154308795928955,
          -8.314125061035156,
          7.590027332305908,
          7.516096115112305,
          6.871372222900391,
          -7.529902458190918,
          8.543728828430176,
          -8.156185150146484,
          -8.868718147277832,
          -2.6098716259002686,
          -2.3504269123077393,
          -6.703930854797363,
          7.45772123336792,
          2.9671337604522705,
          1.8687458038330078,
          10.031338691711426,
          -8.224994659423828,
          14.409595489501953,
          5.3278679847717285,
          11.71327018737793,
          14.017066955566406,
          -7.863609313964844,
          9.59824275970459,
          7.090634346008301,
          -3.6838839054107666,
          -9.14193058013916,
          -7.122154235839844,
          6.333329677581787,
          -8.112970352172852,
          5.211644649505615,
          8.728363990783691,
          -9.267223358154297,
          4.655702590942383,
          -7.554121971130371,
          -7.368304252624512,
          7.658509731292725,
          -8.138127326965332,
          -7.856935977935791,
          -2.224203109741211,
          -9.124473571777344,
          -8.014554977416992,
          -7.572227954864502,
          -7.360713481903076,
          11.111157417297363,
          -2.8186936378479004,
          -3.305342197418213,
          -7.988076210021973,
          8.220373153686523,
          -8.58903980255127,
          -7.509866237640381,
          -3.4373838901519775,
          -1.281412124633789,
          3.928699016571045,
          -8.191717147827148,
          7.6720075607299805,
          -8.009223937988281,
          -2.4319956302642822,
          5.593558311462402,
          -1.7906036376953125,
          -4.2339348793029785,
          11.327281951904297,
          -0.950246274471283,
          -1.7575838565826416,
          14.698925018310547,
          -7.905097961425781,
          -8.925540924072266,
          -9.201926231384277,
          -7.617069721221924,
          9.479718208312988
         ],
         "xaxis": "x",
         "y": [
          -0.6278224587440491,
          7.266906261444092,
          0.43167316913604736,
          0.08921007812023163,
          -4.122622966766357,
          -4.151008129119873,
          -3.757359743118286,
          -4.209347248077393,
          6.052530288696289,
          -4.189969062805176,
          0.6231725811958313,
          -4.869313716888428,
          -3.213374376296997,
          6.481688976287842,
          6.7457661628723145,
          7.488666534423828,
          0.6247535347938538,
          -4.151874542236328,
          6.130575656890869,
          -3.1419219970703125,
          0.4647451937198639,
          7.939546585083008,
          -4.109494686126709,
          -3.8524186611175537,
          -1.965181827545166,
          -4.05813455581665,
          5.443885326385498,
          5.952444553375244,
          5.487600803375244,
          -3.085325002670288,
          6.580796718597412,
          -3.6891889572143555,
          -4.186624526977539,
          0.45380696654319763,
          0.47622010111808777,
          -3.318114995956421,
          4.995200157165527,
          -0.5996006727218628,
          2.5465989112854004,
          6.588665962219238,
          -4.225900650024414,
          7.757443904876709,
          4.8145365715026855,
          6.819215297698975,
          7.681354999542236,
          -3.683931827545166,
          6.347814083099365,
          5.982962608337402,
          -0.12931814789772034,
          -4.899165630340576,
          -2.712200164794922,
          5.505111217498779,
          -4.185320854187012,
          2.6011292934417725,
          6.312534332275391,
          -4.671703338623047,
          4.398054599761963,
          -3.1640617847442627,
          -2.942082166671753,
          5.218508720397949,
          -4.282201290130615,
          -4.884969711303711,
          0.4713992476463318,
          -4.5451436042785645,
          -4.8483967781066895,
          -3.09743332862854,
          -2.9042274951934814,
          6.710098743438721,
          -0.2642633616924286,
          0.6189153790473938,
          -4.38211727142334,
          5.567890644073486,
          -3.410914897918701,
          -3.1883485317230225,
          0.19985918700695038,
          0.36197036504745483,
          3.8408260345458984,
          -4.727551460266113,
          5.2305588722229,
          -4.572133541107178,
          0.4915717840194702,
          5.014190196990967,
          0.4847453832626343,
          -0.5749682188034058,
          6.741611480712891,
          0.06195724755525589,
          -9.377642631530762,
          7.91972541809082,
          -4.585973739624023,
          -3.706778049468994,
          -4.135593414306641,
          -3.201871633529663,
          6.221385478973389
         ],
         "yaxis": "y",
         "type": "scatter"
        }
       ],
       "layout": {
        "template": {
         "data": {
          "histogram2dcontour": [
           {
            "type": "histogram2dcontour",
            "colorbar": {
             "outlinewidth": 0,
             "ticks": ""
            },
            "colorscale": [
             [
              0.0,
              "#0d0887"
             ],
             [
              0.1111111111111111,
              "#46039f"
             ],
             [
              0.2222222222222222,
              "#7201a8"
             ],
             [
              0.3333333333333333,
              "#9c179e"
             ],
             [
              0.4444444444444444,
              "#bd3786"
             ],
             [
              0.5555555555555556,
              "#d8576b"
             ],
             [
              0.6666666666666666,
              "#ed7953"
             ],
             [
              0.7777777777777778,
              "#fb9f3a"
             ],
             [
              0.8888888888888888,
              "#fdca26"
             ],
             [
              1.0,
              "#f0f921"
             ]
            ]
           }
          ],
          "choropleth": [
           {
            "type": "choropleth",
            "colorbar": {
             "outlinewidth": 0,
             "ticks": ""
            }
           }
          ],
          "histogram2d": [
           {
            "type": "histogram2d",
            "colorbar": {
             "outlinewidth": 0,
             "ticks": ""
            },
            "colorscale": [
             [
              0.0,
              "#0d0887"
             ],
             [
              0.1111111111111111,
              "#46039f"
             ],
             [
              0.2222222222222222,
              "#7201a8"
             ],
             [
              0.3333333333333333,
              "#9c179e"
             ],
             [
              0.4444444444444444,
              "#bd3786"
             ],
             [
              0.5555555555555556,
              "#d8576b"
             ],
             [
              0.6666666666666666,
              "#ed7953"
             ],
             [
              0.7777777777777778,
              "#fb9f3a"
             ],
             [
              0.8888888888888888,
              "#fdca26"
             ],
             [
              1.0,
              "#f0f921"
             ]
            ]
           }
          ],
          "heatmap": [
           {
            "type": "heatmap",
            "colorbar": {
             "outlinewidth": 0,
             "ticks": ""
            },
            "colorscale": [
             [
              0.0,
              "#0d0887"
             ],
             [
              0.1111111111111111,
              "#46039f"
             ],
             [
              0.2222222222222222,
              "#7201a8"
             ],
             [
              0.3333333333333333,
              "#9c179e"
             ],
             [
              0.4444444444444444,
              "#bd3786"
             ],
             [
              0.5555555555555556,
              "#d8576b"
             ],
             [
              0.6666666666666666,
              "#ed7953"
             ],
             [
              0.7777777777777778,
              "#fb9f3a"
             ],
             [
              0.8888888888888888,
              "#fdca26"
             ],
             [
              1.0,
              "#f0f921"
             ]
            ]
           }
          ],
          "heatmapgl": [
           {
            "type": "heatmapgl",
            "colorbar": {
             "outlinewidth": 0,
             "ticks": ""
            },
            "colorscale": [
             [
              0.0,
              "#0d0887"
             ],
             [
              0.1111111111111111,
              "#46039f"
             ],
             [
              0.2222222222222222,
              "#7201a8"
             ],
             [
              0.3333333333333333,
              "#9c179e"
             ],
             [
              0.4444444444444444,
              "#bd3786"
             ],
             [
              0.5555555555555556,
              "#d8576b"
             ],
             [
              0.6666666666666666,
              "#ed7953"
             ],
             [
              0.7777777777777778,
              "#fb9f3a"
             ],
             [
              0.8888888888888888,
              "#fdca26"
             ],
             [
              1.0,
              "#f0f921"
             ]
            ]
           }
          ],
          "contourcarpet": [
           {
            "type": "contourcarpet",
            "colorbar": {
             "outlinewidth": 0,
             "ticks": ""
            }
           }
          ],
          "contour": [
           {
            "type": "contour",
            "colorbar": {
             "outlinewidth": 0,
             "ticks": ""
            },
            "colorscale": [
             [
              0.0,
              "#0d0887"
             ],
             [
              0.1111111111111111,
              "#46039f"
             ],
             [
              0.2222222222222222,
              "#7201a8"
             ],
             [
              0.3333333333333333,
              "#9c179e"
             ],
             [
              0.4444444444444444,
              "#bd3786"
             ],
             [
              0.5555555555555556,
              "#d8576b"
             ],
             [
              0.6666666666666666,
              "#ed7953"
             ],
             [
              0.7777777777777778,
              "#fb9f3a"
             ],
             [
              0.8888888888888888,
              "#fdca26"
             ],
             [
              1.0,
              "#f0f921"
             ]
            ]
           }
          ],
          "surface": [
           {
            "type": "surface",
            "colorbar": {
             "outlinewidth": 0,
             "ticks": ""
            },
            "colorscale": [
             [
              0.0,
              "#0d0887"
             ],
             [
              0.1111111111111111,
              "#46039f"
             ],
             [
              0.2222222222222222,
              "#7201a8"
             ],
             [
              0.3333333333333333,
              "#9c179e"
             ],
             [
              0.4444444444444444,
              "#bd3786"
             ],
             [
              0.5555555555555556,
              "#d8576b"
             ],
             [
              0.6666666666666666,
              "#ed7953"
             ],
             [
              0.7777777777777778,
              "#fb9f3a"
             ],
             [
              0.8888888888888888,
              "#fdca26"
             ],
             [
              1.0,
              "#f0f921"
             ]
            ]
           }
          ],
          "mesh3d": [
           {
            "type": "mesh3d",
            "colorbar": {
             "outlinewidth": 0,
             "ticks": ""
            }
           }
          ],
          "scatter": [
           {
            "fillpattern": {
             "fillmode": "overlay",
             "size": 10,
             "solidity": 0.2
            },
            "type": "scatter"
           }
          ],
          "parcoords": [
           {
            "type": "parcoords",
            "line": {
             "colorbar": {
              "outlinewidth": 0,
              "ticks": ""
             }
            }
           }
          ],
          "scatterpolargl": [
           {
            "type": "scatterpolargl",
            "marker": {
             "colorbar": {
              "outlinewidth": 0,
              "ticks": ""
             }
            }
           }
          ],
          "bar": [
           {
            "error_x": {
             "color": "#2a3f5f"
            },
            "error_y": {
             "color": "#2a3f5f"
            },
            "marker": {
             "line": {
              "color": "#E5ECF6",
              "width": 0.5
             },
             "pattern": {
              "fillmode": "overlay",
              "size": 10,
              "solidity": 0.2
             }
            },
            "type": "bar"
           }
          ],
          "scattergeo": [
           {
            "type": "scattergeo",
            "marker": {
             "colorbar": {
              "outlinewidth": 0,
              "ticks": ""
             }
            }
           }
          ],
          "scatterpolar": [
           {
            "type": "scatterpolar",
            "marker": {
             "colorbar": {
              "outlinewidth": 0,
              "ticks": ""
             }
            }
           }
          ],
          "histogram": [
           {
            "marker": {
             "pattern": {
              "fillmode": "overlay",
              "size": 10,
              "solidity": 0.2
             }
            },
            "type": "histogram"
           }
          ],
          "scattergl": [
           {
            "type": "scattergl",
            "marker": {
             "colorbar": {
              "outlinewidth": 0,
              "ticks": ""
             }
            }
           }
          ],
          "scatter3d": [
           {
            "type": "scatter3d",
            "line": {
             "colorbar": {
              "outlinewidth": 0,
              "ticks": ""
             }
            },
            "marker": {
             "colorbar": {
              "outlinewidth": 0,
              "ticks": ""
             }
            }
           }
          ],
          "scattermapbox": [
           {
            "type": "scattermapbox",
            "marker": {
             "colorbar": {
              "outlinewidth": 0,
              "ticks": ""
             }
            }
           }
          ],
          "scatterternary": [
           {
            "type": "scatterternary",
            "marker": {
             "colorbar": {
              "outlinewidth": 0,
              "ticks": ""
             }
            }
           }
          ],
          "scattercarpet": [
           {
            "type": "scattercarpet",
            "marker": {
             "colorbar": {
              "outlinewidth": 0,
              "ticks": ""
             }
            }
           }
          ],
          "carpet": [
           {
            "aaxis": {
             "endlinecolor": "#2a3f5f",
             "gridcolor": "white",
             "linecolor": "white",
             "minorgridcolor": "white",
             "startlinecolor": "#2a3f5f"
            },
            "baxis": {
             "endlinecolor": "#2a3f5f",
             "gridcolor": "white",
             "linecolor": "white",
             "minorgridcolor": "white",
             "startlinecolor": "#2a3f5f"
            },
            "type": "carpet"
           }
          ],
          "table": [
           {
            "cells": {
             "fill": {
              "color": "#EBF0F8"
             },
             "line": {
              "color": "white"
             }
            },
            "header": {
             "fill": {
              "color": "#C8D4E3"
             },
             "line": {
              "color": "white"
             }
            },
            "type": "table"
           }
          ],
          "barpolar": [
           {
            "marker": {
             "line": {
              "color": "#E5ECF6",
              "width": 0.5
             },
             "pattern": {
              "fillmode": "overlay",
              "size": 10,
              "solidity": 0.2
             }
            },
            "type": "barpolar"
           }
          ],
          "pie": [
           {
            "automargin": true,
            "type": "pie"
           }
          ]
         },
         "layout": {
          "autotypenumbers": "strict",
          "colorway": [
           "#636efa",
           "#EF553B",
           "#00cc96",
           "#ab63fa",
           "#FFA15A",
           "#19d3f3",
           "#FF6692",
           "#B6E880",
           "#FF97FF",
           "#FECB52"
          ],
          "font": {
           "color": "#2a3f5f"
          },
          "hovermode": "closest",
          "hoverlabel": {
           "align": "left"
          },
          "paper_bgcolor": "white",
          "plot_bgcolor": "#E5ECF6",
          "polar": {
           "bgcolor": "#E5ECF6",
           "angularaxis": {
            "gridcolor": "white",
            "linecolor": "white",
            "ticks": ""
           },
           "radialaxis": {
            "gridcolor": "white",
            "linecolor": "white",
            "ticks": ""
           }
          },
          "ternary": {
           "bgcolor": "#E5ECF6",
           "aaxis": {
            "gridcolor": "white",
            "linecolor": "white",
            "ticks": ""
           },
           "baxis": {
            "gridcolor": "white",
            "linecolor": "white",
            "ticks": ""
           },
           "caxis": {
            "gridcolor": "white",
            "linecolor": "white",
            "ticks": ""
           }
          },
          "coloraxis": {
           "colorbar": {
            "outlinewidth": 0,
            "ticks": ""
           }
          },
          "colorscale": {
           "sequential": [
            [
             0.0,
             "#0d0887"
            ],
            [
             0.1111111111111111,
             "#46039f"
            ],
            [
             0.2222222222222222,
             "#7201a8"
            ],
            [
             0.3333333333333333,
             "#9c179e"
            ],
            [
             0.4444444444444444,
             "#bd3786"
            ],
            [
             0.5555555555555556,
             "#d8576b"
            ],
            [
             0.6666666666666666,
             "#ed7953"
            ],
            [
             0.7777777777777778,
             "#fb9f3a"
            ],
            [
             0.8888888888888888,
             "#fdca26"
            ],
            [
             1.0,
             "#f0f921"
            ]
           ],
           "sequentialminus": [
            [
             0.0,
             "#0d0887"
            ],
            [
             0.1111111111111111,
             "#46039f"
            ],
            [
             0.2222222222222222,
             "#7201a8"
            ],
            [
             0.3333333333333333,
             "#9c179e"
            ],
            [
             0.4444444444444444,
             "#bd3786"
            ],
            [
             0.5555555555555556,
             "#d8576b"
            ],
            [
             0.6666666666666666,
             "#ed7953"
            ],
            [
             0.7777777777777778,
             "#fb9f3a"
            ],
            [
             0.8888888888888888,
             "#fdca26"
            ],
            [
             1.0,
             "#f0f921"
            ]
           ],
           "diverging": [
            [
             0,
             "#8e0152"
            ],
            [
             0.1,
             "#c51b7d"
            ],
            [
             0.2,
             "#de77ae"
            ],
            [
             0.3,
             "#f1b6da"
            ],
            [
             0.4,
             "#fde0ef"
            ],
            [
             0.5,
             "#f7f7f7"
            ],
            [
             0.6,
             "#e6f5d0"
            ],
            [
             0.7,
             "#b8e186"
            ],
            [
             0.8,
             "#7fbc41"
            ],
            [
             0.9,
             "#4d9221"
            ],
            [
             1,
             "#276419"
            ]
           ]
          },
          "xaxis": {
           "gridcolor": "white",
           "linecolor": "white",
           "ticks": "",
           "title": {
            "standoff": 15
           },
           "zerolinecolor": "white",
           "automargin": true,
           "zerolinewidth": 2
          },
          "yaxis": {
           "gridcolor": "white",
           "linecolor": "white",
           "ticks": "",
           "title": {
            "standoff": 15
           },
           "zerolinecolor": "white",
           "automargin": true,
           "zerolinewidth": 2
          },
          "scene": {
           "xaxis": {
            "backgroundcolor": "#E5ECF6",
            "gridcolor": "white",
            "linecolor": "white",
            "showbackground": true,
            "ticks": "",
            "zerolinecolor": "white",
            "gridwidth": 2
           },
           "yaxis": {
            "backgroundcolor": "#E5ECF6",
            "gridcolor": "white",
            "linecolor": "white",
            "showbackground": true,
            "ticks": "",
            "zerolinecolor": "white",
            "gridwidth": 2
           },
           "zaxis": {
            "backgroundcolor": "#E5ECF6",
            "gridcolor": "white",
            "linecolor": "white",
            "showbackground": true,
            "ticks": "",
            "zerolinecolor": "white",
            "gridwidth": 2
           }
          },
          "shapedefaults": {
           "line": {
            "color": "#2a3f5f"
           }
          },
          "annotationdefaults": {
           "arrowcolor": "#2a3f5f",
           "arrowhead": 0,
           "arrowwidth": 1
          },
          "geo": {
           "bgcolor": "white",
           "landcolor": "#E5ECF6",
           "subunitcolor": "white",
           "showland": true,
           "showlakes": true,
           "lakecolor": "white"
          },
          "title": {
           "x": 0.05
          },
          "mapbox": {
           "style": "light"
          }
         }
        },
        "xaxis": {
         "anchor": "y",
         "domain": [
          0.0,
          1.0
         ],
         "title": {
          "text": "TSNE-2D-1"
         },
         "showgrid": false,
         "zeroline": false
        },
        "yaxis": {
         "anchor": "x",
         "domain": [
          0.0,
          1.0
         ],
         "title": {
          "text": "TSNE-2D-2"
         },
         "showgrid": false,
         "zeroline": false
        },
        "legend": {
         "title": {
          "text": "Variant"
         },
         "tracegroupgap": 0
        },
        "margin": {
         "t": 60
        },
        "font": {
         "family": "Courier New, monospace",
         "size": 18,
         "color": "RebeccaPurple"
        }
       },
       "config": {
        "plotlyServerURL": "https://plot.ly"
       }
      },
      "text/html": "<div>                            <div id=\"9e6f9968-38e4-4d50-b626-36fa45353789\" class=\"plotly-graph-div\" style=\"height:525px; width:100%;\"></div>            <script type=\"text/javascript\">                require([\"plotly\"], function(Plotly) {                    window.PLOTLYENV=window.PLOTLYENV || {};                                    if (document.getElementById(\"9e6f9968-38e4-4d50-b626-36fa45353789\")) {                    Plotly.newPlot(                        \"9e6f9968-38e4-4d50-b626-36fa45353789\",                        [{\"hovertemplate\":\"Variant=Alpha\\u003cbr\\u003e0=%{x}\\u003cbr\\u003e1=%{y}\\u003cextra\\u003e\\u003c\\u002fextra\\u003e\",\"legendgroup\":\"Alpha\",\"marker\":{\"color\":\"#636efa\",\"symbol\":\"circle\"},\"mode\":\"markers\",\"name\":\"Alpha\",\"orientation\":\"v\",\"showlegend\":true,\"x\":[-3.6852385997772217,14.700809478759766,-3.8915581703186035,-4.171975612640381,2.485192060470581,4.681581497192383,2.7836763858795166,3.2679245471954346,-3.9376635551452637,2.263111114501953,3.1605358123779297,3.0827629566192627,2.3257856369018555,-3.843064785003662,3.2744228839874268,-3.651592493057251,3.4356882572174072,4.177979469299316,13.606767654418945,-3.8911590576171875,2.8091092109680176,2.7307276725769043,4.835263252258301,2.2371342182159424,6.088294506072998,2.7966110706329346,2.9638309478759766,-3.161705732345581,4.4587721824646,2.8133373260498047,3.9131007194519043,2.836179256439209,6.793532848358154,2.2051613330841064,3.1226115226745605,3.962604522705078,-3.6427228450775146,4.704066276550293,2.9872448444366455,2.910773754119873,3.306077241897583,2.9547410011291504,4.890035152435303,3.0593302249908447,0.29871490597724915,9.848480224609375,2.8130130767822266,-3.7039105892181396,4.589219093322754,2.191575765609741,3.249981641769409,-3.784316301345825,13.829668998718262,5.401433944702148,3.638511896133423,2.803441286087036,8.001861572265625,3.2809059619903564,3.894209861755371,4.529500484466553,3.311962604522705,2.2595016956329346,2.278416156768799,7.110795497894287,-3.8730826377868652,-3.8428759574890137,2.760836124420166,2.8394358158111572,3.266538381576538,13.105100631713867,-4.026331901550293,-3.8709707260131836,2.6958115100860596,3.094749689102173,3.1483380794525146,11.846395492553711,3.3362765312194824,11.272335052490234,2.465906858444214,-3.6289947032928467,4.348266124725342,3.066849946975708,4.545731067657471,7.156184196472168,-3.9518985748291016,-3.6839139461517334,2.5933988094329834,13.082877159118652,3.07519793510437,2.9215681552886963,5.141789436340332,4.988071918487549,-3.9036145210266113,-3.6691651344299316,-3.7990171909332275,-3.7505249977111816,-3.8353192806243896,2.7839536666870117,14.631643295288086,-4.557798385620117],\"xaxis\":\"x\",\"y\":[7.920653820037842,7.865723609924316,8.844962120056152,4.122629642486572,-12.306790351867676,-7.502939224243164,-12.507365226745605,2.503009557723999,9.299829483032227,-13.14304256439209,-11.628440856933594,2.1570589542388916,-12.55926513671875,9.401212692260742,-13.612147331237793,7.446405410766602,-12.600147247314453,-2.0748236179351807,7.283970832824707,9.181175231933594,-12.91564655303955,-11.794169425964355,-7.039943695068359,-13.501967430114746,3.566178321838379,-13.303841590881348,-13.0722074508667,3.727973222732544,-7.824710845947266,-13.55910873413086,0.6367877721786499,-13.347840309143066,4.626590728759766,-13.087285041809082,-12.494056701660156,0.574288010597229,8.542593955993652,-7.670825004577637,3.005707263946533,-12.293488502502441,-13.093491554260254,-12.753636360168457,-6.904043674468994,-13.038372993469238,1.489753246307373,6.493536472320557,-12.302818298339844,8.289835929870605,-7.395005226135254,-13.238720893859863,3.13533091545105,8.837128639221191,7.438144207000732,-5.3653244972229,-11.116025924682617,-13.484709739685059,6.13327693939209,-12.533828735351562,-11.996455192565918,-0.36897096037864685,2.3835408687591553,-13.082405090332031,-12.41894817352295,4.625433444976807,9.09736442565918,9.157209396362305,-13.354663848876953,2.750290632247925,-13.685303688049316,7.086041450500488,9.464885711669922,8.920003890991211,-13.388199806213379,-1.162062406539917,-12.216353416442871,6.8350934982299805,-12.799427032470703,6.722197532653809,-12.99849796295166,7.285372734069824,-8.425860404968262,-13.054080963134766,1.195177435874939,4.851990222930908,9.217045783996582,7.704971790313721,-12.210461616516113,7.857692718505859,-11.743334770202637,-11.410453796386719,4.436437606811523,-6.955357074737549,9.3598051071167,7.801252841949463,8.718321800231934,8.357540130615234,9.281326293945312,-13.541796684265137,7.836972236633301,4.091914176940918],\"yaxis\":\"y\",\"type\":\"scatter\"},{\"hovertemplate\":\"Variant=Beta\\u003cbr\\u003e0=%{x}\\u003cbr\\u003e1=%{y}\\u003cextra\\u003e\\u003c\\u002fextra\\u003e\",\"legendgroup\":\"Beta\",\"marker\":{\"color\":\"#EF553B\",\"symbol\":\"circle\"},\"mode\":\"markers\",\"name\":\"Beta\",\"orientation\":\"v\",\"showlegend\":true,\"x\":[6.898417949676514,3.882323741912842,3.8920178413391113,4.2741379737854,6.279358863830566,4.0729570388793945,3.73160457611084,3.418250322341919,3.9255335330963135,4.361070156097412,3.9833931922912598,-6.774264812469482,0.8258334398269653,4.0854082107543945,-4.530745506286621,4.009460926055908,-6.755444526672363,3.6782989501953125,8.01940631866455,3.74247670173645,3.9027955532073975,-4.521668434143066,4.591246128082275,3.9191253185272217,5.464969158172607,3.997997522354126,3.9269158840179443,0.8472622632980347,4.0089569091796875,5.571913719177246,4.461833953857422,12.659624099731445,-4.568531036376953,5.786998271942139,0.5529093146324158,-4.556966781616211,-4.825296878814697,3.9589946269989014,-6.670341491699219,-4.5688323974609375,0.6509177684783936,0.8137834072113037,3.9913065433502197,7.409080982208252,-4.7136712074279785,-4.451535701751709,-6.783458232879639,4.229065418243408,4.257996082305908,5.341156482696533,-4.689926624298096,3.8945353031158447,-4.604132175445557,3.8023552894592285,4.048253059387207,3.7600040435791016,-6.78344202041626,-4.838808536529541,3.69933819770813,13.727218627929688,11.850266456604004,5.883547782897949,-6.794406890869141,4.005277156829834,4.3724870681762695,3.942277431488037,3.520859479904175,4.0096964836120605,3.769566535949707,-6.853196620941162,4.061961650848389,3.8420372009277344,12.98628044128418,4.061606407165527,4.175400257110596,4.395877838134766,3.7389042377471924,3.4392001628875732,3.941519021987915,-6.843865394592285,3.4123735427856445,12.830309867858887,14.660547256469727,-4.592267990112305,13.422501564025879,0.8094843029975891,3.955610513687134,4.56127405166626,0.48326021432876587,4.045405864715576,-6.524936199188232,-6.639705181121826,14.118326187133789,4.22145938873291,3.6666758060455322,-4.656815528869629,6.246434688568115,4.081120014190674,3.809257745742798,3.4070889949798584],\"xaxis\":\"x\",\"y\":[4.528810024261475,-4.399416923522949,-6.178997993469238,-5.495430946350098,3.787014961242676,-5.5611066818237305,-1.1887614727020264,-5.339529037475586,-0.006930266506969929,-4.7962117195129395,-0.6930347681045532,8.530397415161133,-11.393391609191895,-1.8622241020202637,3.2296931743621826,-5.552799701690674,8.557342529296875,-4.875450134277344,5.489504337310791,-6.144746780395508,-3.233304262161255,3.311006546020508,0.3597165048122406,-5.928499698638916,2.5120902061462402,-5.331195831298828,-5.576859951019287,-11.466718673706055,-5.604262351989746,2.71065616607666,0.04365381598472595,7.831721305847168,3.282500982284546,3.3024213314056396,1.4580892324447632,3.3114609718322754,3.3664398193359375,-0.38371211290359497,8.447193145751953,3.264796257019043,1.007134199142456,-11.234697341918945,-0.7706782221794128,5.198780059814453,3.2951972484588623,3.094438314437866,8.692062377929688,-5.641121864318848,-5.824903964996338,2.3038837909698486,3.305420160293579,-0.7614679932594299,3.2803566455841064,2.3316433429718018,-5.55530309677124,-5.521080493927002,8.574867248535156,3.3060364723205566,-1.2130060195922852,7.426545143127441,6.826614856719971,2.848798990249634,8.684037208557129,-5.7475128173828125,-5.401838302612305,-5.553600788116455,-5.396857261657715,-3.31705904006958,-4.691014289855957,8.728981971740723,-5.469230651855469,-1.2972052097320557,7.877978324890137,-0.2919568717479706,-5.120351314544678,-4.422700881958008,-6.078522205352783,-5.301447868347168,-5.958581924438477,8.69375991821289,-6.52646541595459,7.105708599090576,7.877976894378662,3.2291595935821533,7.288451671600342,-10.950477600097656,-0.7914180159568787,-5.705954551696777,1.0570412874221802,-1.4947890043258667,8.17271614074707,8.403738975524902,8.057942390441895,-5.6459527015686035,-6.17058801651001,3.315833568572998,5.131720066070557,-3.0486433506011963,-5.176341533660889,-6.443729400634766],\"yaxis\":\"y\",\"type\":\"scatter\"},{\"hovertemplate\":\"Variant=Delta\\u003cbr\\u003e0=%{x}\\u003cbr\\u003e1=%{y}\\u003cextra\\u003e\\u003c\\u002fextra\\u003e\",\"legendgroup\":\"Delta\",\"marker\":{\"color\":\"#00cc96\",\"symbol\":\"circle\"},\"mode\":\"markers\",\"name\":\"Delta\",\"orientation\":\"v\",\"showlegend\":true,\"x\":[-2.259359836578369,3.791282892227173,1.0564522743225098,1.3508936166763306,-6.370655536651611,-6.891456604003906,-8.048465728759766,-3.138772964477539,-2.2677948474884033,0.5494502186775208,-7.088362216949463,0.4535333514213562,-6.2380876541137695,-2.291712522506714,-7.9786224365234375,-8.078325271606445,2.2176504135131836,0.6072970032691956,0.22197452187538147,0.45544326305389404,-7.0858917236328125,-7.010326385498047,4.905812740325928,-6.843353271484375,-2.0987205505371094,-6.436363697052002,-6.787285327911377,-3.215794801712036,0.30852067470550537,-6.622800350189209,10.28840160369873,-6.847676753997803,13.865714073181152,-6.454421043395996,-0.1438991129398346,1.294548749923706,-5.493556499481201,2.2920849323272705,4.079453945159912,-6.965904712677002,7.843685150146484,11.780757904052734,10.711615562438965,-6.384410858154297,-2.072073459625244,0.608340322971344,9.69479751586914,4.515298843383789,-7.037966251373291,4.473153591156006,-2.2732415199279785,11.579424858093262,0.46269604563713074,-2.1694631576538086,-6.476255416870117,-7.871355056762695,-5.641307353973389,-6.28671407699585,-7.2546868324279785,-7.215206623077393,0.590455174446106,-1.9765568971633911,-8.028886795043945,-7.9567108154296875,-7.121865749359131,7.212002277374268,1.574692726135254,4.371633052825928,-6.699217319488525,13.369086265563965,-6.297945022583008,-0.021239763125777245,5.8772759437561035,-6.57967472076416,-6.657999515533447,0.4423752725124359,0.5002862215042114,-3.121717929840088,7.272101402282715,2.340365171432495,-7.970046520233154,2.2221367359161377,11.711312294006348,-6.438992500305176,0.42651763558387756,-2.10640549659729,-6.331397533416748,2.453437328338623,3.771528720855713,-3.380678176879883,-6.447661876678467,-6.615488052368164,6.560631275177002,2.299509048461914,4.499185562133789,2.256788492202759,0.41372084617614746,-6.454142093658447,-8.051477432250977],\"xaxis\":\"x\",\"y\":[2.96404767036438,2.8705620765686035,1.6797010898590088,1.3961431980133057,10.91413402557373,10.112048149108887,10.936721801757812,3.191528797149658,3.0282344818115234,-12.289229393005371,11.500761032104492,-12.217411994934082,10.654497146606445,3.0925092697143555,11.077461242675781,11.155585289001465,-3.8670077323913574,1.6189138889312744,-12.219542503356934,-12.219934463500977,11.526638984680176,10.211538314819336,2.044407367706299,10.493491172790527,2.031658411026001,10.811758995056152,10.59158706665039,3.209801197052002,-12.249768257141113,10.80427360534668,6.54669713973999,10.699563026428223,7.405244827270508,11.702293395996094,-12.02701473236084,-10.835420608520508,11.594099044799805,-4.110947132110596,-7.325068473815918,10.4351167678833,5.359797477722168,6.818580627441406,6.657413005828857,10.331231117248535,2.9124629497528076,-12.410614013671875,6.595414638519287,1.656967043876648,10.890323638916016,0.17571799457073212,3.0680136680603027,6.7732720375061035,-12.15928840637207,2.8906607627868652,10.776494026184082,11.253321647644043,10.744453430175781,11.268040657043457,10.448188781738281,11.571789741516113,-12.404555320739746,2.8906118869781494,10.983220100402832,11.112122535705566,11.462301254272461,5.922532081604004,1.9219051599502563,-0.8454446196556091,10.52684211730957,7.251312732696533,11.379844665527344,-12.181763648986816,5.022487163543701,10.858851432800293,10.820039749145508,-12.435601234436035,-12.458165168762207,3.4033637046813965,6.315032482147217,2.0767180919647217,10.785746574401855,-3.89451265335083,6.821277618408203,10.84329891204834,1.6798170804977417,2.9720089435577393,11.490450859069824,2.249457597732544,0.0024694751482456923,2.7812390327453613,10.732824325561523,11.052626609802246,5.456601142883301,-4.350376129150391,1.1201080083847046,-3.9215500354766846,-12.33995532989502,11.457651138305664,11.070948600769043],\"yaxis\":\"y\",\"type\":\"scatter\"},{\"hovertemplate\":\"Variant=Gamma\\u003cbr\\u003e0=%{x}\\u003cbr\\u003e1=%{y}\\u003cextra\\u003e\\u003c\\u002fextra\\u003e\",\"legendgroup\":\"Gamma\",\"marker\":{\"color\":\"#ab63fa\",\"symbol\":\"circle\"},\"mode\":\"markers\",\"name\":\"Gamma\",\"orientation\":\"v\",\"showlegend\":true,\"x\":[2.5863780975341797,13.077099800109863,8.32398796081543],\"xaxis\":\"x\",\"y\":[-5.546358585357666,7.123706340789795,6.302891731262207],\"yaxis\":\"y\",\"type\":\"scatter\"},{\"hovertemplate\":\"Variant=Omicron\\u003cbr\\u003e0=%{x}\\u003cbr\\u003e1=%{y}\\u003cextra\\u003e\\u003c\\u002fextra\\u003e\",\"legendgroup\":\"Omicron\",\"marker\":{\"color\":\"#FFA15A\",\"symbol\":\"circle\"},\"mode\":\"markers\",\"name\":\"Omicron\",\"orientation\":\"v\",\"showlegend\":true,\"x\":[-11.31222915649414,3.7282004356384277,-10.889095306396484,7.565548896789551,-11.57646656036377,1.6676443815231323,-11.640617370605469,14.1553373336792,-1.7473125457763672,-11.00905990600586,-11.533555030822754,-13.08911418914795,-12.274478912353516,9.037808418273926,-12.209080696105957,-3.1430013179779053,-11.444243431091309,5.510664463043213,10.89787483215332,-11.254446983337402,6.138288497924805,-3.968618392944336,-2.078317403793335,-12.726391792297363,1.2325600385665894,-2.7606446743011475,10.320147514343262,-11.295185089111328,2.0234928131103516,7.116042613983154,9.177248001098633,5.922077655792236,6.437855243682861,1.2847681045532227,-11.339577674865723,-11.615352630615234,-13.046038627624512,6.042156219482422,-1.8280400037765503,11.893280029296875,-13.050128936767578,2.037968873977661,-1.8079861402511597,12.162049293518066,2.5667994022369385,-11.518760681152344,-3.445493221282959,13.318368911743164,-1.8418936729431152,9.186798095703125,8.755995750427246,-11.005426406860352,5.818175315856934,10.705280303955078,12.745253562927246,-1.7713261842727661,-13.148646354675293,-11.364164352416992,-7.6015849113464355,-11.510476112365723,-1.796204686164856,1.2716697454452515,5.294802665710449,-2.2200653553009033,1.7963320016860962,-1.7965468168258667,-11.368812561035156,7.9043192863464355,-1.8041900396347046,-1.793278694152832,2.3791940212249756,-10.294510841369629,-1.8122762441635132,1.274912714958191,-1.823940396308899,-13.124460220336914,-13.062098503112793,-13.10686206817627,-11.792864799499512,-11.361878395080566,-1.9731175899505615,-12.196782112121582,-1.9674792289733887,-10.955159187316895,-8.487848281860352,-11.30408763885498,-8.48590087890625,-13.041625022888184,2.600922107696533,14.579721450805664,-3.366417169570923,-2.973747491836548,-7.160222053527832,-12.7495698928833,-10.726871490478516,-11.46072769165039,-12.193560600280762,-1.7816004753112793,-13.11577033996582,-4.59199333190918],\"xaxis\":\"x\",\"y\":[-2.00981068611145,3.7772929668426514,-2.3713560104370117,6.4573163986206055,-2.0192275047302246,2.3714466094970703,-2.00885009765625,7.603082180023193,-0.2282603681087494,-1.8851345777511597,-1.8615660667419434,-1.5758506059646606,-3.1411914825439453,6.471675872802734,-3.1715002059936523,-0.5791633725166321,-2.0006606578826904,2.9468603134155273,6.675201892852783,-2.005861282348633,3.545851469039917,-0.04981904476881027,-0.14799697697162628,-1.4941248893737793,-5.304156303405762,-0.39863327145576477,6.604128837585449,-2.028019428253174,2.4937753677368164,5.843819618225098,6.108779430389404,3.50587797164917,5.453118801116943,-5.708390712738037,-1.6439414024353027,-2.105872631072998,-1.6234033107757568,3.0856735706329346,-10.237175941467285,6.856072425842285,-1.545354962348938,1.6096476316452026,-9.88345718383789,6.966062545776367,-0.11219703406095505,-1.8528205156326294,0.3302026391029358,7.249179840087891,-10.051219940185547,6.150317192077637,6.512601852416992,-2.4789135456085205,3.146442413330078,6.654933452606201,7.03839635848999,-9.874981880187988,-1.9143056869506836,-1.5324519872665405,-3.08512282371521,-1.9656399488449097,-9.851771354675293,-5.687431812286377,4.757967948913574,-0.1746790111064911,2.49906325340271,-10.237863540649414,-1.790299892425537,5.9807610511779785,-9.594094276428223,-9.855548858642578,2.78741192817688,-1.841162085533142,-10.121452331542969,-5.270193576812744,-10.122514724731445,-1.4828319549560547,-1.5854759216308594,-1.5327526330947876,-3.848145008087158,-1.9840149879455566,-0.16273318231105804,-3.430551052093506,-0.22195102274417877,-2.0462615489959717,6.733242988586426,-2.001119375228882,6.736886978149414,-2.0515949726104736,-0.056424256414175034,7.831453323364258,0.22798283398151398,-0.04822731763124466,-2.7350244522094727,-2.808708906173706,-2.5509421825408936,-1.9320014715194702,-3.1047616004943848,-9.912513732910156,-1.457774043083191,2.630291223526001],\"yaxis\":\"y\",\"type\":\"scatter\"},{\"hovertemplate\":\"Variant=Omicron Sub\\u003cbr\\u003e0=%{x}\\u003cbr\\u003e1=%{y}\\u003cextra\\u003e\\u003c\\u002fextra\\u003e\",\"legendgroup\":\"Omicron Sub\",\"marker\":{\"color\":\"#19d3f3\",\"symbol\":\"circle\"},\"mode\":\"markers\",\"name\":\"Omicron Sub\",\"orientation\":\"v\",\"showlegend\":true,\"x\":[-4.388452053070068,13.238080024719238,-2.3991098403930664,-1.0513712167739868,-8.120448112487793,-8.048845291137695,-8.84584903717041,-9.081311225891113,7.010677814483643,-8.152509689331055,-3.1082561016082764,-9.355453491210938,-7.577600002288818,8.23541259765625,11.34074592590332,13.836355209350586,-2.818967819213867,-8.205108642578125,9.121100425720215,-7.686891078948975,-2.567081928253174,14.73332405090332,-8.245671272277832,-8.433037757873535,-6.154308795928955,-8.314125061035156,7.590027332305908,7.516096115112305,6.871372222900391,-7.529902458190918,8.543728828430176,-8.156185150146484,-8.868718147277832,-2.6098716259002686,-2.3504269123077393,-6.703930854797363,7.45772123336792,2.9671337604522705,1.8687458038330078,10.031338691711426,-8.224994659423828,14.409595489501953,5.3278679847717285,11.71327018737793,14.017066955566406,-7.863609313964844,9.59824275970459,7.090634346008301,-3.6838839054107666,-9.14193058013916,-7.122154235839844,6.333329677581787,-8.112970352172852,5.211644649505615,8.728363990783691,-9.267223358154297,4.655702590942383,-7.554121971130371,-7.368304252624512,7.658509731292725,-8.138127326965332,-7.856935977935791,-2.224203109741211,-9.124473571777344,-8.014554977416992,-7.572227954864502,-7.360713481903076,11.111157417297363,-2.8186936378479004,-3.305342197418213,-7.988076210021973,8.220373153686523,-8.58903980255127,-7.509866237640381,-3.4373838901519775,-1.281412124633789,3.928699016571045,-8.191717147827148,7.6720075607299805,-8.009223937988281,-2.4319956302642822,5.593558311462402,-1.7906036376953125,-4.2339348793029785,11.327281951904297,-0.950246274471283,-1.7575838565826416,14.698925018310547,-7.905097961425781,-8.925540924072266,-9.201926231384277,-7.617069721221924,9.479718208312988],\"xaxis\":\"x\",\"y\":[-0.6278224587440491,7.266906261444092,0.43167316913604736,0.08921007812023163,-4.122622966766357,-4.151008129119873,-3.757359743118286,-4.209347248077393,6.052530288696289,-4.189969062805176,0.6231725811958313,-4.869313716888428,-3.213374376296997,6.481688976287842,6.7457661628723145,7.488666534423828,0.6247535347938538,-4.151874542236328,6.130575656890869,-3.1419219970703125,0.4647451937198639,7.939546585083008,-4.109494686126709,-3.8524186611175537,-1.965181827545166,-4.05813455581665,5.443885326385498,5.952444553375244,5.487600803375244,-3.085325002670288,6.580796718597412,-3.6891889572143555,-4.186624526977539,0.45380696654319763,0.47622010111808777,-3.318114995956421,4.995200157165527,-0.5996006727218628,2.5465989112854004,6.588665962219238,-4.225900650024414,7.757443904876709,4.8145365715026855,6.819215297698975,7.681354999542236,-3.683931827545166,6.347814083099365,5.982962608337402,-0.12931814789772034,-4.899165630340576,-2.712200164794922,5.505111217498779,-4.185320854187012,2.6011292934417725,6.312534332275391,-4.671703338623047,4.398054599761963,-3.1640617847442627,-2.942082166671753,5.218508720397949,-4.282201290130615,-4.884969711303711,0.4713992476463318,-4.5451436042785645,-4.8483967781066895,-3.09743332862854,-2.9042274951934814,6.710098743438721,-0.2642633616924286,0.6189153790473938,-4.38211727142334,5.567890644073486,-3.410914897918701,-3.1883485317230225,0.19985918700695038,0.36197036504745483,3.8408260345458984,-4.727551460266113,5.2305588722229,-4.572133541107178,0.4915717840194702,5.014190196990967,0.4847453832626343,-0.5749682188034058,6.741611480712891,0.06195724755525589,-9.377642631530762,7.91972541809082,-4.585973739624023,-3.706778049468994,-4.135593414306641,-3.201871633529663,6.221385478973389],\"yaxis\":\"y\",\"type\":\"scatter\"}],                        {\"template\":{\"data\":{\"histogram2dcontour\":[{\"type\":\"histogram2dcontour\",\"colorbar\":{\"outlinewidth\":0,\"ticks\":\"\"},\"colorscale\":[[0.0,\"#0d0887\"],[0.1111111111111111,\"#46039f\"],[0.2222222222222222,\"#7201a8\"],[0.3333333333333333,\"#9c179e\"],[0.4444444444444444,\"#bd3786\"],[0.5555555555555556,\"#d8576b\"],[0.6666666666666666,\"#ed7953\"],[0.7777777777777778,\"#fb9f3a\"],[0.8888888888888888,\"#fdca26\"],[1.0,\"#f0f921\"]]}],\"choropleth\":[{\"type\":\"choropleth\",\"colorbar\":{\"outlinewidth\":0,\"ticks\":\"\"}}],\"histogram2d\":[{\"type\":\"histogram2d\",\"colorbar\":{\"outlinewidth\":0,\"ticks\":\"\"},\"colorscale\":[[0.0,\"#0d0887\"],[0.1111111111111111,\"#46039f\"],[0.2222222222222222,\"#7201a8\"],[0.3333333333333333,\"#9c179e\"],[0.4444444444444444,\"#bd3786\"],[0.5555555555555556,\"#d8576b\"],[0.6666666666666666,\"#ed7953\"],[0.7777777777777778,\"#fb9f3a\"],[0.8888888888888888,\"#fdca26\"],[1.0,\"#f0f921\"]]}],\"heatmap\":[{\"type\":\"heatmap\",\"colorbar\":{\"outlinewidth\":0,\"ticks\":\"\"},\"colorscale\":[[0.0,\"#0d0887\"],[0.1111111111111111,\"#46039f\"],[0.2222222222222222,\"#7201a8\"],[0.3333333333333333,\"#9c179e\"],[0.4444444444444444,\"#bd3786\"],[0.5555555555555556,\"#d8576b\"],[0.6666666666666666,\"#ed7953\"],[0.7777777777777778,\"#fb9f3a\"],[0.8888888888888888,\"#fdca26\"],[1.0,\"#f0f921\"]]}],\"heatmapgl\":[{\"type\":\"heatmapgl\",\"colorbar\":{\"outlinewidth\":0,\"ticks\":\"\"},\"colorscale\":[[0.0,\"#0d0887\"],[0.1111111111111111,\"#46039f\"],[0.2222222222222222,\"#7201a8\"],[0.3333333333333333,\"#9c179e\"],[0.4444444444444444,\"#bd3786\"],[0.5555555555555556,\"#d8576b\"],[0.6666666666666666,\"#ed7953\"],[0.7777777777777778,\"#fb9f3a\"],[0.8888888888888888,\"#fdca26\"],[1.0,\"#f0f921\"]]}],\"contourcarpet\":[{\"type\":\"contourcarpet\",\"colorbar\":{\"outlinewidth\":0,\"ticks\":\"\"}}],\"contour\":[{\"type\":\"contour\",\"colorbar\":{\"outlinewidth\":0,\"ticks\":\"\"},\"colorscale\":[[0.0,\"#0d0887\"],[0.1111111111111111,\"#46039f\"],[0.2222222222222222,\"#7201a8\"],[0.3333333333333333,\"#9c179e\"],[0.4444444444444444,\"#bd3786\"],[0.5555555555555556,\"#d8576b\"],[0.6666666666666666,\"#ed7953\"],[0.7777777777777778,\"#fb9f3a\"],[0.8888888888888888,\"#fdca26\"],[1.0,\"#f0f921\"]]}],\"surface\":[{\"type\":\"surface\",\"colorbar\":{\"outlinewidth\":0,\"ticks\":\"\"},\"colorscale\":[[0.0,\"#0d0887\"],[0.1111111111111111,\"#46039f\"],[0.2222222222222222,\"#7201a8\"],[0.3333333333333333,\"#9c179e\"],[0.4444444444444444,\"#bd3786\"],[0.5555555555555556,\"#d8576b\"],[0.6666666666666666,\"#ed7953\"],[0.7777777777777778,\"#fb9f3a\"],[0.8888888888888888,\"#fdca26\"],[1.0,\"#f0f921\"]]}],\"mesh3d\":[{\"type\":\"mesh3d\",\"colorbar\":{\"outlinewidth\":0,\"ticks\":\"\"}}],\"scatter\":[{\"fillpattern\":{\"fillmode\":\"overlay\",\"size\":10,\"solidity\":0.2},\"type\":\"scatter\"}],\"parcoords\":[{\"type\":\"parcoords\",\"line\":{\"colorbar\":{\"outlinewidth\":0,\"ticks\":\"\"}}}],\"scatterpolargl\":[{\"type\":\"scatterpolargl\",\"marker\":{\"colorbar\":{\"outlinewidth\":0,\"ticks\":\"\"}}}],\"bar\":[{\"error_x\":{\"color\":\"#2a3f5f\"},\"error_y\":{\"color\":\"#2a3f5f\"},\"marker\":{\"line\":{\"color\":\"#E5ECF6\",\"width\":0.5},\"pattern\":{\"fillmode\":\"overlay\",\"size\":10,\"solidity\":0.2}},\"type\":\"bar\"}],\"scattergeo\":[{\"type\":\"scattergeo\",\"marker\":{\"colorbar\":{\"outlinewidth\":0,\"ticks\":\"\"}}}],\"scatterpolar\":[{\"type\":\"scatterpolar\",\"marker\":{\"colorbar\":{\"outlinewidth\":0,\"ticks\":\"\"}}}],\"histogram\":[{\"marker\":{\"pattern\":{\"fillmode\":\"overlay\",\"size\":10,\"solidity\":0.2}},\"type\":\"histogram\"}],\"scattergl\":[{\"type\":\"scattergl\",\"marker\":{\"colorbar\":{\"outlinewidth\":0,\"ticks\":\"\"}}}],\"scatter3d\":[{\"type\":\"scatter3d\",\"line\":{\"colorbar\":{\"outlinewidth\":0,\"ticks\":\"\"}},\"marker\":{\"colorbar\":{\"outlinewidth\":0,\"ticks\":\"\"}}}],\"scattermapbox\":[{\"type\":\"scattermapbox\",\"marker\":{\"colorbar\":{\"outlinewidth\":0,\"ticks\":\"\"}}}],\"scatterternary\":[{\"type\":\"scatterternary\",\"marker\":{\"colorbar\":{\"outlinewidth\":0,\"ticks\":\"\"}}}],\"scattercarpet\":[{\"type\":\"scattercarpet\",\"marker\":{\"colorbar\":{\"outlinewidth\":0,\"ticks\":\"\"}}}],\"carpet\":[{\"aaxis\":{\"endlinecolor\":\"#2a3f5f\",\"gridcolor\":\"white\",\"linecolor\":\"white\",\"minorgridcolor\":\"white\",\"startlinecolor\":\"#2a3f5f\"},\"baxis\":{\"endlinecolor\":\"#2a3f5f\",\"gridcolor\":\"white\",\"linecolor\":\"white\",\"minorgridcolor\":\"white\",\"startlinecolor\":\"#2a3f5f\"},\"type\":\"carpet\"}],\"table\":[{\"cells\":{\"fill\":{\"color\":\"#EBF0F8\"},\"line\":{\"color\":\"white\"}},\"header\":{\"fill\":{\"color\":\"#C8D4E3\"},\"line\":{\"color\":\"white\"}},\"type\":\"table\"}],\"barpolar\":[{\"marker\":{\"line\":{\"color\":\"#E5ECF6\",\"width\":0.5},\"pattern\":{\"fillmode\":\"overlay\",\"size\":10,\"solidity\":0.2}},\"type\":\"barpolar\"}],\"pie\":[{\"automargin\":true,\"type\":\"pie\"}]},\"layout\":{\"autotypenumbers\":\"strict\",\"colorway\":[\"#636efa\",\"#EF553B\",\"#00cc96\",\"#ab63fa\",\"#FFA15A\",\"#19d3f3\",\"#FF6692\",\"#B6E880\",\"#FF97FF\",\"#FECB52\"],\"font\":{\"color\":\"#2a3f5f\"},\"hovermode\":\"closest\",\"hoverlabel\":{\"align\":\"left\"},\"paper_bgcolor\":\"white\",\"plot_bgcolor\":\"#E5ECF6\",\"polar\":{\"bgcolor\":\"#E5ECF6\",\"angularaxis\":{\"gridcolor\":\"white\",\"linecolor\":\"white\",\"ticks\":\"\"},\"radialaxis\":{\"gridcolor\":\"white\",\"linecolor\":\"white\",\"ticks\":\"\"}},\"ternary\":{\"bgcolor\":\"#E5ECF6\",\"aaxis\":{\"gridcolor\":\"white\",\"linecolor\":\"white\",\"ticks\":\"\"},\"baxis\":{\"gridcolor\":\"white\",\"linecolor\":\"white\",\"ticks\":\"\"},\"caxis\":{\"gridcolor\":\"white\",\"linecolor\":\"white\",\"ticks\":\"\"}},\"coloraxis\":{\"colorbar\":{\"outlinewidth\":0,\"ticks\":\"\"}},\"colorscale\":{\"sequential\":[[0.0,\"#0d0887\"],[0.1111111111111111,\"#46039f\"],[0.2222222222222222,\"#7201a8\"],[0.3333333333333333,\"#9c179e\"],[0.4444444444444444,\"#bd3786\"],[0.5555555555555556,\"#d8576b\"],[0.6666666666666666,\"#ed7953\"],[0.7777777777777778,\"#fb9f3a\"],[0.8888888888888888,\"#fdca26\"],[1.0,\"#f0f921\"]],\"sequentialminus\":[[0.0,\"#0d0887\"],[0.1111111111111111,\"#46039f\"],[0.2222222222222222,\"#7201a8\"],[0.3333333333333333,\"#9c179e\"],[0.4444444444444444,\"#bd3786\"],[0.5555555555555556,\"#d8576b\"],[0.6666666666666666,\"#ed7953\"],[0.7777777777777778,\"#fb9f3a\"],[0.8888888888888888,\"#fdca26\"],[1.0,\"#f0f921\"]],\"diverging\":[[0,\"#8e0152\"],[0.1,\"#c51b7d\"],[0.2,\"#de77ae\"],[0.3,\"#f1b6da\"],[0.4,\"#fde0ef\"],[0.5,\"#f7f7f7\"],[0.6,\"#e6f5d0\"],[0.7,\"#b8e186\"],[0.8,\"#7fbc41\"],[0.9,\"#4d9221\"],[1,\"#276419\"]]},\"xaxis\":{\"gridcolor\":\"white\",\"linecolor\":\"white\",\"ticks\":\"\",\"title\":{\"standoff\":15},\"zerolinecolor\":\"white\",\"automargin\":true,\"zerolinewidth\":2},\"yaxis\":{\"gridcolor\":\"white\",\"linecolor\":\"white\",\"ticks\":\"\",\"title\":{\"standoff\":15},\"zerolinecolor\":\"white\",\"automargin\":true,\"zerolinewidth\":2},\"scene\":{\"xaxis\":{\"backgroundcolor\":\"#E5ECF6\",\"gridcolor\":\"white\",\"linecolor\":\"white\",\"showbackground\":true,\"ticks\":\"\",\"zerolinecolor\":\"white\",\"gridwidth\":2},\"yaxis\":{\"backgroundcolor\":\"#E5ECF6\",\"gridcolor\":\"white\",\"linecolor\":\"white\",\"showbackground\":true,\"ticks\":\"\",\"zerolinecolor\":\"white\",\"gridwidth\":2},\"zaxis\":{\"backgroundcolor\":\"#E5ECF6\",\"gridcolor\":\"white\",\"linecolor\":\"white\",\"showbackground\":true,\"ticks\":\"\",\"zerolinecolor\":\"white\",\"gridwidth\":2}},\"shapedefaults\":{\"line\":{\"color\":\"#2a3f5f\"}},\"annotationdefaults\":{\"arrowcolor\":\"#2a3f5f\",\"arrowhead\":0,\"arrowwidth\":1},\"geo\":{\"bgcolor\":\"white\",\"landcolor\":\"#E5ECF6\",\"subunitcolor\":\"white\",\"showland\":true,\"showlakes\":true,\"lakecolor\":\"white\"},\"title\":{\"x\":0.05},\"mapbox\":{\"style\":\"light\"}}},\"xaxis\":{\"anchor\":\"y\",\"domain\":[0.0,1.0],\"title\":{\"text\":\"TSNE-2D-1\"},\"showgrid\":false,\"zeroline\":false},\"yaxis\":{\"anchor\":\"x\",\"domain\":[0.0,1.0],\"title\":{\"text\":\"TSNE-2D-2\"},\"showgrid\":false,\"zeroline\":false},\"legend\":{\"title\":{\"text\":\"Variant\"},\"tracegroupgap\":0},\"margin\":{\"t\":60},\"font\":{\"family\":\"Courier New, monospace\",\"size\":18,\"color\":\"RebeccaPurple\"}},                        {\"responsive\": true}                    ).then(function(){\n                            \nvar gd = document.getElementById('9e6f9968-38e4-4d50-b626-36fa45353789');\nvar x = new MutationObserver(function (mutations, observer) {{\n        var display = window.getComputedStyle(gd).display;\n        if (!display || display === 'none') {{\n            console.log([gd, 'removed!']);\n            Plotly.purge(gd);\n            observer.disconnect();\n        }}\n}});\n\n// Listen for the removal of the full notebook cells\nvar notebookContainer = gd.closest('#notebook-container');\nif (notebookContainer) {{\n    x.observe(notebookContainer, {childList: true});\n}}\n\n// Listen for the clearing of the current output cell\nvar outputEl = gd.closest('.output');\nif (outputEl) {{\n    x.observe(outputEl, {childList: true});\n}}\n\n                        })                };                });            </script>        </div>"
     },
     "metadata": {},
     "output_type": "display_data"
    },
    {
     "name": "stdout",
     "output_type": "stream",
     "text": [
      "[t-SNE] Computing 121 nearest neighbors...\n",
      "[t-SNE] Indexed 495 samples in 0.001s...\n",
      "[t-SNE] Computed neighbors for 495 samples in 0.022s...\n",
      "[t-SNE] Computed conditional probabilities for sample 495 / 495\n",
      "[t-SNE] Mean sigma: 12.427666\n",
      "[t-SNE] KL divergence after 250 iterations with early exaggeration: 49.280258\n",
      "[t-SNE] KL divergence after 300 iterations: 0.278216\n"
     ]
    },
    {
     "data": {
      "application/vnd.plotly.v1+json": {
       "data": [
        {
         "hovertemplate": "Variant=Alpha<br>0=%{x}<br>1=%{y}<extra></extra>",
         "legendgroup": "Alpha",
         "marker": {
          "color": "#636efa",
          "symbol": "circle"
         },
         "mode": "markers",
         "name": "Alpha",
         "orientation": "v",
         "showlegend": true,
         "x": [
          -8.426226615905762,
          -2.116570472717285,
          -8.867313385009766,
          -7.957318305969238,
          6.284384250640869,
          7.40213680267334,
          6.626662731170654,
          -5.9369378089904785,
          -8.88530158996582,
          6.959991931915283,
          6.312854290008545,
          -6.057617664337158,
          6.299075126647949,
          -9.25053882598877,
          7.758179187774658,
          -8.070138931274414,
          7.242373943328857,
          4.658600330352783,
          -1.5961642265319824,
          -8.800328254699707,
          7.064467430114746,
          6.127681255340576,
          5.209019184112549,
          6.769192218780518,
          -0.4733761250972748,
          7.181203842163086,
          7.0092549324035645,
          -7.38254451751709,
          6.155673503875732,
          7.284638404846191,
          5.614532470703125,
          7.198474884033203,
          -0.7428309917449951,
          6.932855606079102,
          6.729276657104492,
          5.44677209854126,
          -8.59245777130127,
          6.336447715759277,
          -5.278207302093506,
          6.525904178619385,
          7.338663578033447,
          6.840969085693359,
          5.262392044067383,
          7.083024501800537,
          -6.831806182861328,
          -1.0677008628845215,
          6.664054870605469,
          -8.479249000549316,
          6.098516464233398,
          6.738470077514648,
          -5.1357421875,
          -9.003153800964355,
          -1.7382522821426392,
          5.87678861618042,
          6.1571269035339355,
          7.417784214019775,
          -2.06118106842041,
          7.134503364562988,
          7.8924946784973145,
          4.121572971343994,
          -5.978427410125732,
          6.619979381561279,
          6.208707809448242,
          0.09905385971069336,
          -8.75507926940918,
          -8.82681941986084,
          7.072360038757324,
          -5.28408145904541,
          7.716596603393555,
          -1.4752358198165894,
          -8.99397087097168,
          -8.731841087341309,
          7.1480631828308105,
          7.338495254516602,
          6.768124580383301,
          -0.9916913509368896,
          7.152721405029297,
          -1.111749291419983,
          6.585169315338135,
          -8.316431999206543,
          5.574728965759277,
          7.22322416305542,
          2.43019962310791,
          -0.9313830137252808,
          -8.937774658203125,
          -8.452574729919434,
          6.165254592895508,
          -2.714303731918335,
          6.374479293823242,
          5.786887168884277,
          -5.030584812164307,
          5.072415828704834,
          -9.157207489013672,
          -8.286127090454102,
          -8.649018287658691,
          -8.61046314239502,
          -9.036554336547852,
          7.809759140014648,
          -2.0880186557769775,
          -7.808154106140137
         ],
         "xaxis": "x",
         "y": [
          3.831178903579712,
          4.9430766105651855,
          3.9541823863983154,
          3.372671365737915,
          -8.651711463928223,
          -6.5412726402282715,
          -8.063990592956543,
          1.412797212600708,
          4.015065670013428,
          -8.972668647766113,
          -8.057781219482422,
          0.19771836698055267,
          -8.722014427185059,
          4.152923107147217,
          -8.78853702545166,
          3.963641881942749,
          -7.61482572555542,
          -7.222651481628418,
          3.6954774856567383,
          4.0078887939453125,
          -8.222636222839355,
          -8.623076438903809,
          -7.437956809997559,
          -8.881608963012695,
          -2.4452004432678223,
          -8.346921920776367,
          -8.275593757629395,
          3.3686647415161133,
          -6.799281120300293,
          -8.400242805480957,
          -6.000129699707031,
          -8.3980712890625,
          -2.203974962234497,
          -8.941418647766113,
          -7.998623371124268,
          -5.9223856925964355,
          3.9706671237945557,
          -6.705965518951416,
          1.1358540058135986,
          -8.058241844177246,
          -8.23630142211914,
          -8.104637145996094,
          -7.4106035232543945,
          -8.209627151489258,
          2.950040340423584,
          0.26103198528289795,
          -8.029097557067871,
          3.8998301029205322,
          -6.584853172302246,
          -8.928241729736328,
          0.8894667029380798,
          4.033180236816406,
          4.0642852783203125,
          -9.666258811950684,
          -7.613638877868652,
          -8.504079818725586,
          -0.6188815236091614,
          -7.777653694152832,
          -7.772356033325195,
          -7.0228376388549805,
          1.5628314018249512,
          -8.80783748626709,
          -9.025472640991211,
          -2.154582977294922,
          3.969141721725464,
          4.047586441040039,
          -8.374197959899902,
          1.0866283178329468,
          -8.337953567504883,
          3.3685150146484375,
          4.0737457275390625,
          3.957475423812866,
          -8.314654350280762,
          -6.175716400146484,
          -7.747916221618652,
          2.2027485370635986,
          -9.427854537963867,
          1.4765151739120483,
          -8.872498512268066,
          4.363760471343994,
          -7.889119625091553,
          -7.978184700012207,
          -4.888280868530273,
          -2.123370409011841,
          4.064396858215332,
          3.777160882949829,
          -8.76829719543457,
          3.0693156719207764,
          -8.092799186706543,
          -8.812936782836914,
          0.8656203746795654,
          -7.393591403961182,
          4.073244094848633,
          3.8366780281066895,
          3.957538604736328,
          3.9052700996398926,
          4.017601013183594,
          -8.418829917907715,
          4.899050235748291,
          3.7908527851104736
         ],
         "yaxis": "y",
         "type": "scatter"
        },
        {
         "hovertemplate": "Variant=Beta<br>0=%{x}<br>1=%{y}<extra></extra>",
         "legendgroup": "Beta",
         "marker": {
          "color": "#EF553B",
          "symbol": "circle"
         },
         "mode": "markers",
         "name": "Beta",
         "orientation": "v",
         "showlegend": true,
         "x": [
          -0.975460946559906,
          -1.3044171333312988,
          0.029728002846240997,
          -0.3605197072029114,
          -1.1047723293304443,
          -0.22681771218776703,
          -0.17349505424499512,
          0.5031626224517822,
          -0.18270458281040192,
          -0.9116870760917664,
          1.353128433227539,
          -9.125454902648926,
          0.9786699414253235,
          -0.8918476700782776,
          -8.104619026184082,
          -0.18919625878334045,
          -9.142899513244629,
          0.5329229235649109,
          -0.8729391098022461,
          -0.1854698807001114,
          -1.193652629852295,
          -8.07855224609375,
          -1.2397316694259644,
          -0.2585145831108093,
          -1.4674476385116577,
          0.26972874999046326,
          -0.19165252149105072,
          1.0237809419631958,
          -0.15596109628677368,
          -1.1490041017532349,
          -0.9146023392677307,
          -2.774353504180908,
          -8.105877876281738,
          -0.8972132205963135,
          -7.2869343757629395,
          -8.098133087158203,
          -8.25793170928955,
          1.4487826824188232,
          -9.1201810836792,
          -8.109853744506836,
          -7.262572288513184,
          1.0109524726867676,
          1.3897720575332642,
          -1.154733657836914,
          -8.195076942443848,
          -8.089620590209961,
          -9.118922233581543,
          -0.2571125328540802,
          -0.2776535749435425,
          -1.0819581747055054,
          -8.032564163208008,
          0.4239634573459625,
          -8.09714126586914,
          -6.569762706756592,
          -0.2101244330406189,
          0.0067201172932982445,
          -9.126379013061523,
          -8.244584083557129,
          -0.14827600121498108,
          -1.7181681394577026,
          -1.294075846672058,
          -1.3307253122329712,
          -9.227704048156738,
          -0.1557077020406723,
          -0.5714038014411926,
          -0.057604268193244934,
          0.38625407218933105,
          -1.5177674293518066,
          0.8384221196174622,
          -9.18010139465332,
          -0.210853710770607,
          -0.2708754539489746,
          -2.7415735721588135,
          1.4344254732131958,
          0.2149054855108261,
          -0.9335311651229858,
          -0.16172274947166443,
          -0.7726938128471375,
          -0.18630312383174896,
          -9.1849365234375,
          0.20578022301197052,
          -1.2753605842590332,
          -2.16977596282959,
          -8.101574897766113,
          -1.5989148616790771,
          0.5496714115142822,
          1.2942078113555908,
          -0.5660346150398254,
          -7.455559730529785,
          -1.1919537782669067,
          -8.844622611999512,
          -9.02641487121582,
          -2.709583044052124,
          -0.3779882490634918,
          -0.05002522096037865,
          -8.14116382598877,
          -4.228373050689697,
          -0.448147714138031,
          -0.28580373525619507,
          0.34725725650787354
         ],
         "xaxis": "x",
         "y": [
          -2.624481439590454,
          -7.387813568115234,
          -7.4140400886535645,
          -6.835658550262451,
          -3.217179298400879,
          -6.80656099319458,
          -4.80768346786499,
          -6.932413578033447,
          -4.358951568603516,
          -7.794127941131592,
          -5.285857677459717,
          1.1591910123825073,
          -8.413189888000488,
          -5.46750545501709,
          0.43625974655151367,
          -6.791874408721924,
          1.1691343784332275,
          -6.693507671356201,
          -2.0701375007629395,
          -7.422638416290283,
          -6.499145030975342,
          0.4271138906478882,
          -4.346201419830322,
          -7.171126365661621,
          -4.467237949371338,
          -7.005914211273193,
          -6.774118423461914,
          -8.451669692993164,
          -6.904849529266357,
          -3.733386516571045,
          -4.633769989013672,
          2.941995620727539,
          0.4462229609489441,
          -3.107649564743042,
          -0.3169190585613251,
          0.42799824476242065,
          0.5346532464027405,
          -5.24921178817749,
          1.1686012744903564,
          0.45327454805374146,
          0.30684658885002136,
          -8.429365158081055,
          -5.305699825286865,
          -2.2669272422790527,
          0.4883610010147095,
          0.24234116077423096,
          1.166061520576477,
          -6.796151161193848,
          -6.946807384490967,
          -4.38083553314209,
          0.4236987829208374,
          -5.8285932540893555,
          0.43636083602905273,
          -0.5301233530044556,
          -6.79887056350708,
          -6.990804195404053,
          1.1662166118621826,
          0.46648022532463074,
          -4.820745944976807,
          3.9334840774536133,
          1.9625306129455566,
          -3.810133695602417,
          1.2044275999069214,
          -7.125529766082764,
          -7.1057515144348145,
          -6.951640605926514,
          -6.855966567993164,
          -6.577434539794922,
          -6.577505588531494,
          1.1922560930252075,
          -6.799901485443115,
          -5.037296295166016,
          3.0440404415130615,
          -5.2018961906433105,
          -6.493300437927246,
          -6.454654216766357,
          -7.505496978759766,
          -7.060705661773682,
          -7.041635036468506,
          1.1904398202896118,
          -7.728013515472412,
          2.9175596237182617,
          4.878698825836182,
          0.42681747674942017,
          3.539250135421753,
          -8.052943229675293,
          -5.36864709854126,
          -7.710914134979248,
          0.1877748668193817,
          -5.724125862121582,
          0.9892867803573608,
          1.1119743585586548,
          3.607724905014038,
          -6.847410202026367,
          -7.335132598876953,
          0.44859692454338074,
          -0.047118086367845535,
          -5.919873237609863,
          -6.534789085388184,
          -7.574245929718018
         ],
         "yaxis": "y",
         "type": "scatter"
        },
        {
         "hovertemplate": "Variant=Delta<br>0=%{x}<br>1=%{y}<extra></extra>",
         "legendgroup": "Delta",
         "marker": {
          "color": "#00cc96",
          "symbol": "circle"
         },
         "mode": "markers",
         "name": "Delta",
         "orientation": "v",
         "showlegend": true,
         "x": [
          -10.637297630310059,
          -5.703685760498047,
          -9.837698936462402,
          -9.508674621582031,
          -12.828200340270996,
          -12.497011184692383,
          -12.773331642150879,
          -10.985445976257324,
          -10.922685623168945,
          1.49751877784729,
          -13.733967781066895,
          1.397202491760254,
          -12.770302772521973,
          -10.821884155273438,
          -12.760870933532715,
          -12.92533016204834,
          -1.6517730951309204,
          -10.000431060791016,
          1.432209849357605,
          1.4307583570480347,
          -13.655313491821289,
          -12.361664772033691,
          -0.15830078721046448,
          -12.437707901000977,
          -13.96684455871582,
          -12.578939437866211,
          -12.598993301391602,
          -11.027881622314453,
          1.4229744672775269,
          -12.840938568115234,
          -0.9630152583122253,
          -12.595611572265625,
          -1.6511163711547852,
          -12.261880874633789,
          1.1593599319458008,
          1.8209303617477417,
          -12.575019836425781,
          0.7573418021202087,
          0.889460027217865,
          -12.375720977783203,
          -1.0915824174880981,
          -1.2094789743423462,
          -0.780447244644165,
          -13.451543807983398,
          -10.476937294006348,
          1.5016875267028809,
          -3.4779510498046875,
          -2.016904830932617,
          -12.776833534240723,
          -1.814130425453186,
          -10.633881568908691,
          -1.0278464555740356,
          1.4756637811660767,
          -10.34017562866211,
          -12.704216003417969,
          -12.911458969116211,
          -12.747734069824219,
          -12.555971145629883,
          -12.28682804107666,
          -13.728644371032715,
          1.505942702293396,
          -10.52346420288086,
          -12.898640632629395,
          -12.887571334838867,
          -13.672554969787598,
          -4.677628040313721,
          -10.311551094055176,
          -1.7095444202423096,
          -12.477842330932617,
          -1.5723686218261719,
          -12.153923034667969,
          1.5166877508163452,
          -5.043464660644531,
          -12.804059982299805,
          -12.775259971618652,
          1.5534013509750366,
          1.5001462697982788,
          -12.280282974243164,
          -4.2653303146362305,
          -9.354040145874023,
          -12.696738243103027,
          -1.6439191102981567,
          -0.9473969340324402,
          -12.773489952087402,
          -9.8020658493042,
          -10.465110778808594,
          -12.22411060333252,
          -9.223939895629883,
          -0.10480138659477234,
          -10.319939613342285,
          -12.644411087036133,
          -12.767849922180176,
          -4.4272236824035645,
          0.8956289291381836,
          -1.9832637310028076,
          -1.6682140827178955,
          1.7377372980117798,
          -12.141160011291504,
          -12.862772941589355
         ],
         "xaxis": "x",
         "y": [
          -3.0863776206970215,
          -1.9497370719909668,
          -2.970742702484131,
          -1.699765682220459,
          -0.15550313889980316,
          -0.8500385880470276,
          -2.010845422744751,
          -1.0287681818008423,
          -3.176521062850952,
          -11.951485633850098,
          0.16656282544136047,
          -11.93889331817627,
          -0.05653705447912216,
          -3.126906394958496,
          -2.0227155685424805,
          -1.9595918655395508,
          -10.748648643493652,
          -2.9825851917266846,
          -11.956339836120605,
          -11.950935363769531,
          0.12389984726905823,
          -0.7134631872177124,
          -10.470284461975098,
          -0.5308716297149658,
          -1.0428801774978638,
          -0.2993634343147278,
          -0.6515925526618958,
          -1.0046002864837646,
          -11.937799453735352,
          -0.28766995668411255,
          0.47962090373039246,
          -0.5799563527107239,
          4.046177864074707,
          0.03729061037302017,
          -11.939370155334473,
          -11.875947952270508,
          0.6268141269683838,
          -12.37930965423584,
          -11.76653003692627,
          -0.6212908029556274,
          -1.9060972929000854,
          1.8586369752883911,
          1.3767443895339966,
          -0.3215707540512085,
          -3.0809812545776367,
          -11.943855285644531,
          -1.1128208637237549,
          -10.5435152053833,
          -0.19831319153308868,
          -10.601914405822754,
          -3.0408599376678467,
          1.945085883140564,
          -11.953604698181152,
          -2.3612289428710938,
          -0.1995830535888672,
          -1.864037036895752,
          0.42759257555007935,
          -0.40446364879608154,
          -0.6496902704238892,
          0.1736505925655365,
          -11.952013969421387,
          -3.1529204845428467,
          -1.9027936458587646,
          -1.882312536239624,
          0.14077149331569672,
          -1.6001112461090088,
          -3.424588203430176,
          -10.62525463104248,
          -0.38326355814933777,
          3.5527656078338623,
          -0.18912556767463684,
          -11.968843460083008,
          -1.7089459896087646,
          -0.2843264937400818,
          -0.18368496000766754,
          -12.127781867980957,
          -11.946843147277832,
          -2.6630806922912598,
          -1.3029693365097046,
          -2.1558473110198975,
          -2.014504909515381,
          -10.738959312438965,
          2.0493829250335693,
          -0.24914675951004028,
          -2.6864771842956543,
          -2.4814107418060303,
          0.015131846070289612,
          -2.0274498462677,
          -10.518537521362305,
          -1.3256241083145142,
          -0.2744065523147583,
          -0.18966104090213776,
          -1.387088418006897,
          -11.641446113586426,
          -10.507811546325684,
          -10.730270385742188,
          -12.054303169250488,
          -0.33296167850494385,
          -1.8985756635665894
         ],
         "yaxis": "y",
         "type": "scatter"
        },
        {
         "hovertemplate": "Variant=Gamma<br>0=%{x}<br>1=%{y}<extra></extra>",
         "legendgroup": "Gamma",
         "marker": {
          "color": "#ab63fa",
          "symbol": "circle"
         },
         "mode": "markers",
         "name": "Gamma",
         "orientation": "v",
         "showlegend": true,
         "x": [
          4.774873733520508,
          -1.393609881401062,
          1.6674734354019165
         ],
         "xaxis": "x",
         "y": [
          -9.217981338500977,
          3.220029592514038,
          2.556155204772949
         ],
         "yaxis": "y",
         "type": "scatter"
        },
        {
         "hovertemplate": "Variant=Omicron<br>0=%{x}<br>1=%{y}<extra></extra>",
         "legendgroup": "Omicron",
         "marker": {
          "color": "#FFA15A",
          "symbol": "circle"
         },
         "mode": "markers",
         "name": "Omicron",
         "orientation": "v",
         "showlegend": true,
         "x": [
          8.062183380126953,
          3.4083642959594727,
          7.936893463134766,
          1.8696088790893555,
          8.156521797180176,
          5.282219886779785,
          7.933667182922363,
          -1.8841872215270996,
          5.564603805541992,
          8.00889778137207,
          8.167993545532227,
          9.472408294677734,
          9.266648292541504,
          1.4842705726623535,
          9.261832237243652,
          8.767082214355469,
          8.097156524658203,
          0.801188051700592,
          0.13132894039154053,
          8.073781967163086,
          0.1137932687997818,
          7.108857154846191,
          5.570997714996338,
          9.336501121520996,
          7.437749862670898,
          6.940480709075928,
          0.4068250358104706,
          8.096451759338379,
          5.265700340270996,
          3.7901158332824707,
          1.94960618019104,
          6.384451389312744,
          3.8107008934020996,
          7.911941051483154,
          8.407842636108398,
          7.993515968322754,
          9.479137420654297,
          4.952575206756592,
          8.217852592468262,
          -0.3836340308189392,
          9.471151351928711,
          -11.25771713256836,
          8.108946800231934,
          -0.6457991003990173,
          7.145369529724121,
          8.131876945495605,
          5.825446605682373,
          -1.4381977319717407,
          8.152772903442383,
          1.9427956342697144,
          2.3378679752349854,
          7.8510260581970215,
          4.957672595977783,
          0.40697741508483887,
          -1.0749729871749878,
          7.824103355407715,
          9.439119338989258,
          8.352566719055176,
          2.708892822265625,
          7.993055820465088,
          8.069151878356934,
          7.860318183898926,
          -4.616751194000244,
          5.63560152053833,
          5.365906715393066,
          8.196691513061523,
          8.209488868713379,
          -4.0243353843688965,
          8.15196704864502,
          8.062944412231445,
          4.910062789916992,
          7.508145809173584,
          8.141538619995117,
          7.491005897521973,
          8.16235637664795,
          9.53623104095459,
          9.49343204498291,
          9.485921859741211,
          9.28448486328125,
          8.12186050415039,
          5.556720733642578,
          9.284250259399414,
          5.568248271942139,
          7.958130359649658,
          -2.423663854598999,
          8.073409080505371,
          -2.419485330581665,
          9.488173484802246,
          6.918185234069824,
          -2.030362367630005,
          5.81801176071167,
          5.8129191398620605,
          2.483229637145996,
          9.506633758544922,
          7.744864463806152,
          8.153767585754395,
          9.265787124633789,
          7.8560967445373535,
          9.500314712524414,
          -11.667908668518066
         ],
         "xaxis": "x",
         "y": [
          6.616008758544922,
          4.401660442352295,
          6.329962730407715,
          2.8814759254455566,
          6.736089706420898,
          3.771353006362915,
          7.0850443840026855,
          4.300284385681152,
          4.893791675567627,
          6.704708576202393,
          6.7664971351623535,
          5.544758319854736,
          7.913392066955566,
          1.650774598121643,
          7.906677722930908,
          4.765010356903076,
          6.773865699768066,
          -3.2524313926696777,
          1.7787220478057861,
          6.646701335906982,
          -3.7410964965820312,
          5.607951641082764,
          4.941126346588135,
          5.910075664520264,
          -1.3304557800292969,
          5.414769172668457,
          1.9352535009384155,
          6.635571002960205,
          3.7098355293273926,
          2.452942132949829,
          -0.300823450088501,
          -1.7395259141921997,
          2.5370194911956787,
          -1.3063502311706543,
          6.653110027313232,
          6.8763747215271,
          5.5748395919799805,
          -0.20845746994018555,
          -1.7835726737976074,
          2.406930923461914,
          5.6030049324035645,
          1.2472871541976929,
          -1.8684487342834473,
          2.573538064956665,
          -1.7730542421340942,
          6.694291591644287,
          5.3136515617370605,
          3.533676862716675,
          -1.7770277261734009,
          -0.18173040449619293,
          1.8346045017242432,
          6.395081996917725,
          -0.1739208698272705,
          2.0136125087738037,
          2.982616662979126,
          -1.994545340538025,
          5.4221649169921875,
          6.952859878540039,
          9.59628963470459,
          6.907779693603516,
          -1.8398069143295288,
          -1.3260703086853027,
          0.6409943699836731,
          5.0308613777160645,
          4.015685081481934,
          -1.8117923736572266,
          6.735347747802734,
          -1.3201225996017456,
          -1.6525264978408813,
          -1.8351877927780151,
          4.362545013427734,
          7.0764288902282715,
          -1.8088765144348145,
          -2.0581302642822266,
          -1.8140296936035156,
          5.555689811706543,
          5.576252460479736,
          5.540937900543213,
          8.13594913482666,
          6.680515289306641,
          4.923832893371582,
          7.9674248695373535,
          4.924914836883545,
          6.9313483238220215,
          9.855518341064453,
          6.472756862640381,
          9.856154441833496,
          5.3283185958862305,
          -1.8083686828613281,
          4.7347588539123535,
          5.310164928436279,
          5.2195210456848145,
          9.371724128723145,
          7.644376754760742,
          6.3692474365234375,
          6.721331596374512,
          7.931692123413086,
          -1.9829808473587036,
          5.557020664215088,
          1.0162835121154785
         ],
         "yaxis": "y",
         "type": "scatter"
        },
        {
         "hovertemplate": "Variant=Omicron Sub<br>0=%{x}<br>1=%{y}<extra></extra>",
         "legendgroup": "Omicron Sub",
         "marker": {
          "color": "#19d3f3",
          "symbol": "circle"
         },
         "mode": "markers",
         "name": "Omicron Sub",
         "orientation": "v",
         "showlegend": true,
         "x": [
          1.8057951927185059,
          -1.2468109130859375,
          3.6041741371154785,
          1.6189351081848145,
          2.8594377040863037,
          2.439371109008789,
          3.8639981746673584,
          4.270501136779785,
          2.1915626525878906,
          2.875831365585327,
          3.8154749870300293,
          3.933418035507202,
          2.7614970207214355,
          1.9730688333511353,
          -0.08203854411840439,
          -1.6162790060043335,
          3.760024309158325,
          2.9422309398651123,
          1.9606788158416748,
          3.155747413635254,
          3.7498629093170166,
          -2.2905657291412354,
          2.801976442337036,
          2.9813733100891113,
          3.9941539764404297,
          2.956200361251831,
          3.491352081298828,
          2.491295576095581,
          2.7935409545898438,
          2.8471975326538086,
          1.7202539443969727,
          2.4113807678222656,
          3.839362621307373,
          3.765984296798706,
          3.787348747253418,
          4.389414310455322,
          3.584890365600586,
          5.805654048919678,
          3.629073143005371,
          1.2131427526474,
          2.8897593021392822,
          -2.138427257537842,
          2.9407856464385986,
          -0.2736330032348633,
          -2.201246976852417,
          2.777818202972412,
          1.8804816007614136,
          2.7588019371032715,
          1.488584041595459,
          4.406165599822998,
          2.2786848545074463,
          2.2941067218780518,
          2.8519604206085205,
          5.153724193572998,
          2.3291804790496826,
          4.465785026550293,
          2.794285535812378,
          2.815335988998413,
          2.7342281341552734,
          2.0677835941314697,
          2.9517688751220703,
          2.4140329360961914,
          3.7425568103790283,
          4.312739372253418,
          2.677806854248047,
          2.8486080169677734,
          2.676506519317627,
          0.21580496430397034,
          1.347419023513794,
          3.628584861755371,
          2.7746431827545166,
          2.0186545848846436,
          4.290846347808838,
          2.7927181720733643,
          2.76529598236084,
          3.1596503257751465,
          2.8296899795532227,
          2.649399995803833,
          2.0673484802246094,
          2.452791690826416,
          3.6893746852874756,
          2.923197031021118,
          3.5386781692504883,
          1.7521995306015015,
          0.08425147831439972,
          1.5330488681793213,
          8.481133460998535,
          -2.2897956371307373,
          2.7719602584838867,
          3.9016547203063965,
          4.279138088226318,
          2.88008451461792,
          2.067800998687744
         ],
         "xaxis": "x",
         "y": [
          8.546792984008789,
          3.360771894454956,
          6.73065710067749,
          7.95457649230957,
          10.207380294799805,
          10.240171432495117,
          10.219049453735352,
          10.555837631225586,
          2.9672577381134033,
          10.299127578735352,
          6.745982646942139,
          11.197141647338867,
          9.616610527038574,
          2.7601821422576904,
          2.2113678455352783,
          3.9968225955963135,
          6.798851490020752,
          10.187958717346191,
          -0.20428237318992615,
          9.529227256774902,
          6.6823410987854,
          4.835361480712891,
          10.21247386932373,
          10.294437408447266,
          8.997228622436523,
          10.18264389038086,
          0.710634708404541,
          2.440178871154785,
          2.641674041748047,
          9.509188652038574,
          2.6622676849365234,
          10.492722511291504,
          10.437460899353027,
          6.701249122619629,
          6.750820159912109,
          10.11791706085205,
          0.6205494403839111,
          -0.3839285969734192,
          5.701091766357422,
          2.2736377716064453,
          10.285079956054688,
          4.565232753753662,
          2.932217597961426,
          2.341066837310791,
          4.208953380584717,
          9.873703002929688,
          -0.18866609036922455,
          2.679069757461548,
          9.31579875946045,
          10.842677116394043,
          9.425521850585938,
          3.1446728706359863,
          10.258940696716309,
          -0.14158429205417633,
          2.103419542312622,
          10.859590530395508,
          3.789653778076172,
          9.53238582611084,
          9.430399894714355,
          -0.2814409136772156,
          10.439873695373535,
          10.736339569091797,
          6.665064811706543,
          10.60651969909668,
          10.663575172424316,
          9.460068702697754,
          9.399429321289062,
          2.2177672386169434,
          10.398728370666504,
          7.677007675170898,
          10.466917991638184,
          -0.23947833478450775,
          10.489800453186035,
          9.566967964172363,
          8.356555938720703,
          7.135218620300293,
          3.985889196395874,
          10.686443328857422,
          -0.27411964535713196,
          10.488478660583496,
          6.338758945465088,
          2.884819269180298,
          6.2422966957092285,
          8.423093795776367,
          2.322033166885376,
          7.905632019042969,
          -2.0877418518066406,
          4.8489885330200195,
          10.583292961120605,
          10.22307300567627,
          10.618480682373047,
          9.626145362854004,
          0.4659278988838196
         ],
         "yaxis": "y",
         "type": "scatter"
        }
       ],
       "layout": {
        "template": {
         "data": {
          "histogram2dcontour": [
           {
            "type": "histogram2dcontour",
            "colorbar": {
             "outlinewidth": 0,
             "ticks": ""
            },
            "colorscale": [
             [
              0.0,
              "#0d0887"
             ],
             [
              0.1111111111111111,
              "#46039f"
             ],
             [
              0.2222222222222222,
              "#7201a8"
             ],
             [
              0.3333333333333333,
              "#9c179e"
             ],
             [
              0.4444444444444444,
              "#bd3786"
             ],
             [
              0.5555555555555556,
              "#d8576b"
             ],
             [
              0.6666666666666666,
              "#ed7953"
             ],
             [
              0.7777777777777778,
              "#fb9f3a"
             ],
             [
              0.8888888888888888,
              "#fdca26"
             ],
             [
              1.0,
              "#f0f921"
             ]
            ]
           }
          ],
          "choropleth": [
           {
            "type": "choropleth",
            "colorbar": {
             "outlinewidth": 0,
             "ticks": ""
            }
           }
          ],
          "histogram2d": [
           {
            "type": "histogram2d",
            "colorbar": {
             "outlinewidth": 0,
             "ticks": ""
            },
            "colorscale": [
             [
              0.0,
              "#0d0887"
             ],
             [
              0.1111111111111111,
              "#46039f"
             ],
             [
              0.2222222222222222,
              "#7201a8"
             ],
             [
              0.3333333333333333,
              "#9c179e"
             ],
             [
              0.4444444444444444,
              "#bd3786"
             ],
             [
              0.5555555555555556,
              "#d8576b"
             ],
             [
              0.6666666666666666,
              "#ed7953"
             ],
             [
              0.7777777777777778,
              "#fb9f3a"
             ],
             [
              0.8888888888888888,
              "#fdca26"
             ],
             [
              1.0,
              "#f0f921"
             ]
            ]
           }
          ],
          "heatmap": [
           {
            "type": "heatmap",
            "colorbar": {
             "outlinewidth": 0,
             "ticks": ""
            },
            "colorscale": [
             [
              0.0,
              "#0d0887"
             ],
             [
              0.1111111111111111,
              "#46039f"
             ],
             [
              0.2222222222222222,
              "#7201a8"
             ],
             [
              0.3333333333333333,
              "#9c179e"
             ],
             [
              0.4444444444444444,
              "#bd3786"
             ],
             [
              0.5555555555555556,
              "#d8576b"
             ],
             [
              0.6666666666666666,
              "#ed7953"
             ],
             [
              0.7777777777777778,
              "#fb9f3a"
             ],
             [
              0.8888888888888888,
              "#fdca26"
             ],
             [
              1.0,
              "#f0f921"
             ]
            ]
           }
          ],
          "heatmapgl": [
           {
            "type": "heatmapgl",
            "colorbar": {
             "outlinewidth": 0,
             "ticks": ""
            },
            "colorscale": [
             [
              0.0,
              "#0d0887"
             ],
             [
              0.1111111111111111,
              "#46039f"
             ],
             [
              0.2222222222222222,
              "#7201a8"
             ],
             [
              0.3333333333333333,
              "#9c179e"
             ],
             [
              0.4444444444444444,
              "#bd3786"
             ],
             [
              0.5555555555555556,
              "#d8576b"
             ],
             [
              0.6666666666666666,
              "#ed7953"
             ],
             [
              0.7777777777777778,
              "#fb9f3a"
             ],
             [
              0.8888888888888888,
              "#fdca26"
             ],
             [
              1.0,
              "#f0f921"
             ]
            ]
           }
          ],
          "contourcarpet": [
           {
            "type": "contourcarpet",
            "colorbar": {
             "outlinewidth": 0,
             "ticks": ""
            }
           }
          ],
          "contour": [
           {
            "type": "contour",
            "colorbar": {
             "outlinewidth": 0,
             "ticks": ""
            },
            "colorscale": [
             [
              0.0,
              "#0d0887"
             ],
             [
              0.1111111111111111,
              "#46039f"
             ],
             [
              0.2222222222222222,
              "#7201a8"
             ],
             [
              0.3333333333333333,
              "#9c179e"
             ],
             [
              0.4444444444444444,
              "#bd3786"
             ],
             [
              0.5555555555555556,
              "#d8576b"
             ],
             [
              0.6666666666666666,
              "#ed7953"
             ],
             [
              0.7777777777777778,
              "#fb9f3a"
             ],
             [
              0.8888888888888888,
              "#fdca26"
             ],
             [
              1.0,
              "#f0f921"
             ]
            ]
           }
          ],
          "surface": [
           {
            "type": "surface",
            "colorbar": {
             "outlinewidth": 0,
             "ticks": ""
            },
            "colorscale": [
             [
              0.0,
              "#0d0887"
             ],
             [
              0.1111111111111111,
              "#46039f"
             ],
             [
              0.2222222222222222,
              "#7201a8"
             ],
             [
              0.3333333333333333,
              "#9c179e"
             ],
             [
              0.4444444444444444,
              "#bd3786"
             ],
             [
              0.5555555555555556,
              "#d8576b"
             ],
             [
              0.6666666666666666,
              "#ed7953"
             ],
             [
              0.7777777777777778,
              "#fb9f3a"
             ],
             [
              0.8888888888888888,
              "#fdca26"
             ],
             [
              1.0,
              "#f0f921"
             ]
            ]
           }
          ],
          "mesh3d": [
           {
            "type": "mesh3d",
            "colorbar": {
             "outlinewidth": 0,
             "ticks": ""
            }
           }
          ],
          "scatter": [
           {
            "fillpattern": {
             "fillmode": "overlay",
             "size": 10,
             "solidity": 0.2
            },
            "type": "scatter"
           }
          ],
          "parcoords": [
           {
            "type": "parcoords",
            "line": {
             "colorbar": {
              "outlinewidth": 0,
              "ticks": ""
             }
            }
           }
          ],
          "scatterpolargl": [
           {
            "type": "scatterpolargl",
            "marker": {
             "colorbar": {
              "outlinewidth": 0,
              "ticks": ""
             }
            }
           }
          ],
          "bar": [
           {
            "error_x": {
             "color": "#2a3f5f"
            },
            "error_y": {
             "color": "#2a3f5f"
            },
            "marker": {
             "line": {
              "color": "#E5ECF6",
              "width": 0.5
             },
             "pattern": {
              "fillmode": "overlay",
              "size": 10,
              "solidity": 0.2
             }
            },
            "type": "bar"
           }
          ],
          "scattergeo": [
           {
            "type": "scattergeo",
            "marker": {
             "colorbar": {
              "outlinewidth": 0,
              "ticks": ""
             }
            }
           }
          ],
          "scatterpolar": [
           {
            "type": "scatterpolar",
            "marker": {
             "colorbar": {
              "outlinewidth": 0,
              "ticks": ""
             }
            }
           }
          ],
          "histogram": [
           {
            "marker": {
             "pattern": {
              "fillmode": "overlay",
              "size": 10,
              "solidity": 0.2
             }
            },
            "type": "histogram"
           }
          ],
          "scattergl": [
           {
            "type": "scattergl",
            "marker": {
             "colorbar": {
              "outlinewidth": 0,
              "ticks": ""
             }
            }
           }
          ],
          "scatter3d": [
           {
            "type": "scatter3d",
            "line": {
             "colorbar": {
              "outlinewidth": 0,
              "ticks": ""
             }
            },
            "marker": {
             "colorbar": {
              "outlinewidth": 0,
              "ticks": ""
             }
            }
           }
          ],
          "scattermapbox": [
           {
            "type": "scattermapbox",
            "marker": {
             "colorbar": {
              "outlinewidth": 0,
              "ticks": ""
             }
            }
           }
          ],
          "scatterternary": [
           {
            "type": "scatterternary",
            "marker": {
             "colorbar": {
              "outlinewidth": 0,
              "ticks": ""
             }
            }
           }
          ],
          "scattercarpet": [
           {
            "type": "scattercarpet",
            "marker": {
             "colorbar": {
              "outlinewidth": 0,
              "ticks": ""
             }
            }
           }
          ],
          "carpet": [
           {
            "aaxis": {
             "endlinecolor": "#2a3f5f",
             "gridcolor": "white",
             "linecolor": "white",
             "minorgridcolor": "white",
             "startlinecolor": "#2a3f5f"
            },
            "baxis": {
             "endlinecolor": "#2a3f5f",
             "gridcolor": "white",
             "linecolor": "white",
             "minorgridcolor": "white",
             "startlinecolor": "#2a3f5f"
            },
            "type": "carpet"
           }
          ],
          "table": [
           {
            "cells": {
             "fill": {
              "color": "#EBF0F8"
             },
             "line": {
              "color": "white"
             }
            },
            "header": {
             "fill": {
              "color": "#C8D4E3"
             },
             "line": {
              "color": "white"
             }
            },
            "type": "table"
           }
          ],
          "barpolar": [
           {
            "marker": {
             "line": {
              "color": "#E5ECF6",
              "width": 0.5
             },
             "pattern": {
              "fillmode": "overlay",
              "size": 10,
              "solidity": 0.2
             }
            },
            "type": "barpolar"
           }
          ],
          "pie": [
           {
            "automargin": true,
            "type": "pie"
           }
          ]
         },
         "layout": {
          "autotypenumbers": "strict",
          "colorway": [
           "#636efa",
           "#EF553B",
           "#00cc96",
           "#ab63fa",
           "#FFA15A",
           "#19d3f3",
           "#FF6692",
           "#B6E880",
           "#FF97FF",
           "#FECB52"
          ],
          "font": {
           "color": "#2a3f5f"
          },
          "hovermode": "closest",
          "hoverlabel": {
           "align": "left"
          },
          "paper_bgcolor": "white",
          "plot_bgcolor": "#E5ECF6",
          "polar": {
           "bgcolor": "#E5ECF6",
           "angularaxis": {
            "gridcolor": "white",
            "linecolor": "white",
            "ticks": ""
           },
           "radialaxis": {
            "gridcolor": "white",
            "linecolor": "white",
            "ticks": ""
           }
          },
          "ternary": {
           "bgcolor": "#E5ECF6",
           "aaxis": {
            "gridcolor": "white",
            "linecolor": "white",
            "ticks": ""
           },
           "baxis": {
            "gridcolor": "white",
            "linecolor": "white",
            "ticks": ""
           },
           "caxis": {
            "gridcolor": "white",
            "linecolor": "white",
            "ticks": ""
           }
          },
          "coloraxis": {
           "colorbar": {
            "outlinewidth": 0,
            "ticks": ""
           }
          },
          "colorscale": {
           "sequential": [
            [
             0.0,
             "#0d0887"
            ],
            [
             0.1111111111111111,
             "#46039f"
            ],
            [
             0.2222222222222222,
             "#7201a8"
            ],
            [
             0.3333333333333333,
             "#9c179e"
            ],
            [
             0.4444444444444444,
             "#bd3786"
            ],
            [
             0.5555555555555556,
             "#d8576b"
            ],
            [
             0.6666666666666666,
             "#ed7953"
            ],
            [
             0.7777777777777778,
             "#fb9f3a"
            ],
            [
             0.8888888888888888,
             "#fdca26"
            ],
            [
             1.0,
             "#f0f921"
            ]
           ],
           "sequentialminus": [
            [
             0.0,
             "#0d0887"
            ],
            [
             0.1111111111111111,
             "#46039f"
            ],
            [
             0.2222222222222222,
             "#7201a8"
            ],
            [
             0.3333333333333333,
             "#9c179e"
            ],
            [
             0.4444444444444444,
             "#bd3786"
            ],
            [
             0.5555555555555556,
             "#d8576b"
            ],
            [
             0.6666666666666666,
             "#ed7953"
            ],
            [
             0.7777777777777778,
             "#fb9f3a"
            ],
            [
             0.8888888888888888,
             "#fdca26"
            ],
            [
             1.0,
             "#f0f921"
            ]
           ],
           "diverging": [
            [
             0,
             "#8e0152"
            ],
            [
             0.1,
             "#c51b7d"
            ],
            [
             0.2,
             "#de77ae"
            ],
            [
             0.3,
             "#f1b6da"
            ],
            [
             0.4,
             "#fde0ef"
            ],
            [
             0.5,
             "#f7f7f7"
            ],
            [
             0.6,
             "#e6f5d0"
            ],
            [
             0.7,
             "#b8e186"
            ],
            [
             0.8,
             "#7fbc41"
            ],
            [
             0.9,
             "#4d9221"
            ],
            [
             1,
             "#276419"
            ]
           ]
          },
          "xaxis": {
           "gridcolor": "white",
           "linecolor": "white",
           "ticks": "",
           "title": {
            "standoff": 15
           },
           "zerolinecolor": "white",
           "automargin": true,
           "zerolinewidth": 2
          },
          "yaxis": {
           "gridcolor": "white",
           "linecolor": "white",
           "ticks": "",
           "title": {
            "standoff": 15
           },
           "zerolinecolor": "white",
           "automargin": true,
           "zerolinewidth": 2
          },
          "scene": {
           "xaxis": {
            "backgroundcolor": "#E5ECF6",
            "gridcolor": "white",
            "linecolor": "white",
            "showbackground": true,
            "ticks": "",
            "zerolinecolor": "white",
            "gridwidth": 2
           },
           "yaxis": {
            "backgroundcolor": "#E5ECF6",
            "gridcolor": "white",
            "linecolor": "white",
            "showbackground": true,
            "ticks": "",
            "zerolinecolor": "white",
            "gridwidth": 2
           },
           "zaxis": {
            "backgroundcolor": "#E5ECF6",
            "gridcolor": "white",
            "linecolor": "white",
            "showbackground": true,
            "ticks": "",
            "zerolinecolor": "white",
            "gridwidth": 2
           }
          },
          "shapedefaults": {
           "line": {
            "color": "#2a3f5f"
           }
          },
          "annotationdefaults": {
           "arrowcolor": "#2a3f5f",
           "arrowhead": 0,
           "arrowwidth": 1
          },
          "geo": {
           "bgcolor": "white",
           "landcolor": "#E5ECF6",
           "subunitcolor": "white",
           "showland": true,
           "showlakes": true,
           "lakecolor": "white"
          },
          "title": {
           "x": 0.05
          },
          "mapbox": {
           "style": "light"
          }
         }
        },
        "xaxis": {
         "anchor": "y",
         "domain": [
          0.0,
          1.0
         ],
         "title": {
          "text": "TSNE-2D-1"
         },
         "showgrid": false,
         "zeroline": false
        },
        "yaxis": {
         "anchor": "x",
         "domain": [
          0.0,
          1.0
         ],
         "title": {
          "text": "TSNE-2D-2"
         },
         "showgrid": false,
         "zeroline": false
        },
        "legend": {
         "title": {
          "text": "Variant"
         },
         "tracegroupgap": 0
        },
        "margin": {
         "t": 60
        },
        "font": {
         "family": "Courier New, monospace",
         "size": 18,
         "color": "RebeccaPurple"
        }
       },
       "config": {
        "plotlyServerURL": "https://plot.ly"
       }
      },
      "text/html": "<div>                            <div id=\"1260d54f-bca2-4b24-9011-c6f7a49f7df6\" class=\"plotly-graph-div\" style=\"height:525px; width:100%;\"></div>            <script type=\"text/javascript\">                require([\"plotly\"], function(Plotly) {                    window.PLOTLYENV=window.PLOTLYENV || {};                                    if (document.getElementById(\"1260d54f-bca2-4b24-9011-c6f7a49f7df6\")) {                    Plotly.newPlot(                        \"1260d54f-bca2-4b24-9011-c6f7a49f7df6\",                        [{\"hovertemplate\":\"Variant=Alpha\\u003cbr\\u003e0=%{x}\\u003cbr\\u003e1=%{y}\\u003cextra\\u003e\\u003c\\u002fextra\\u003e\",\"legendgroup\":\"Alpha\",\"marker\":{\"color\":\"#636efa\",\"symbol\":\"circle\"},\"mode\":\"markers\",\"name\":\"Alpha\",\"orientation\":\"v\",\"showlegend\":true,\"x\":[-8.426226615905762,-2.116570472717285,-8.867313385009766,-7.957318305969238,6.284384250640869,7.40213680267334,6.626662731170654,-5.9369378089904785,-8.88530158996582,6.959991931915283,6.312854290008545,-6.057617664337158,6.299075126647949,-9.25053882598877,7.758179187774658,-8.070138931274414,7.242373943328857,4.658600330352783,-1.5961642265319824,-8.800328254699707,7.064467430114746,6.127681255340576,5.209019184112549,6.769192218780518,-0.4733761250972748,7.181203842163086,7.0092549324035645,-7.38254451751709,6.155673503875732,7.284638404846191,5.614532470703125,7.198474884033203,-0.7428309917449951,6.932855606079102,6.729276657104492,5.44677209854126,-8.59245777130127,6.336447715759277,-5.278207302093506,6.525904178619385,7.338663578033447,6.840969085693359,5.262392044067383,7.083024501800537,-6.831806182861328,-1.0677008628845215,6.664054870605469,-8.479249000549316,6.098516464233398,6.738470077514648,-5.1357421875,-9.003153800964355,-1.7382522821426392,5.87678861618042,6.1571269035339355,7.417784214019775,-2.06118106842041,7.134503364562988,7.8924946784973145,4.121572971343994,-5.978427410125732,6.619979381561279,6.208707809448242,0.09905385971069336,-8.75507926940918,-8.82681941986084,7.072360038757324,-5.28408145904541,7.716596603393555,-1.4752358198165894,-8.99397087097168,-8.731841087341309,7.1480631828308105,7.338495254516602,6.768124580383301,-0.9916913509368896,7.152721405029297,-1.111749291419983,6.585169315338135,-8.316431999206543,5.574728965759277,7.22322416305542,2.43019962310791,-0.9313830137252808,-8.937774658203125,-8.452574729919434,6.165254592895508,-2.714303731918335,6.374479293823242,5.786887168884277,-5.030584812164307,5.072415828704834,-9.157207489013672,-8.286127090454102,-8.649018287658691,-8.61046314239502,-9.036554336547852,7.809759140014648,-2.0880186557769775,-7.808154106140137],\"xaxis\":\"x\",\"y\":[3.831178903579712,4.9430766105651855,3.9541823863983154,3.372671365737915,-8.651711463928223,-6.5412726402282715,-8.063990592956543,1.412797212600708,4.015065670013428,-8.972668647766113,-8.057781219482422,0.19771836698055267,-8.722014427185059,4.152923107147217,-8.78853702545166,3.963641881942749,-7.61482572555542,-7.222651481628418,3.6954774856567383,4.0078887939453125,-8.222636222839355,-8.623076438903809,-7.437956809997559,-8.881608963012695,-2.4452004432678223,-8.346921920776367,-8.275593757629395,3.3686647415161133,-6.799281120300293,-8.400242805480957,-6.000129699707031,-8.3980712890625,-2.203974962234497,-8.941418647766113,-7.998623371124268,-5.9223856925964355,3.9706671237945557,-6.705965518951416,1.1358540058135986,-8.058241844177246,-8.23630142211914,-8.104637145996094,-7.4106035232543945,-8.209627151489258,2.950040340423584,0.26103198528289795,-8.029097557067871,3.8998301029205322,-6.584853172302246,-8.928241729736328,0.8894667029380798,4.033180236816406,4.0642852783203125,-9.666258811950684,-7.613638877868652,-8.504079818725586,-0.6188815236091614,-7.777653694152832,-7.772356033325195,-7.0228376388549805,1.5628314018249512,-8.80783748626709,-9.025472640991211,-2.154582977294922,3.969141721725464,4.047586441040039,-8.374197959899902,1.0866283178329468,-8.337953567504883,3.3685150146484375,4.0737457275390625,3.957475423812866,-8.314654350280762,-6.175716400146484,-7.747916221618652,2.2027485370635986,-9.427854537963867,1.4765151739120483,-8.872498512268066,4.363760471343994,-7.889119625091553,-7.978184700012207,-4.888280868530273,-2.123370409011841,4.064396858215332,3.777160882949829,-8.76829719543457,3.0693156719207764,-8.092799186706543,-8.812936782836914,0.8656203746795654,-7.393591403961182,4.073244094848633,3.8366780281066895,3.957538604736328,3.9052700996398926,4.017601013183594,-8.418829917907715,4.899050235748291,3.7908527851104736],\"yaxis\":\"y\",\"type\":\"scatter\"},{\"hovertemplate\":\"Variant=Beta\\u003cbr\\u003e0=%{x}\\u003cbr\\u003e1=%{y}\\u003cextra\\u003e\\u003c\\u002fextra\\u003e\",\"legendgroup\":\"Beta\",\"marker\":{\"color\":\"#EF553B\",\"symbol\":\"circle\"},\"mode\":\"markers\",\"name\":\"Beta\",\"orientation\":\"v\",\"showlegend\":true,\"x\":[-0.975460946559906,-1.3044171333312988,0.029728002846240997,-0.3605197072029114,-1.1047723293304443,-0.22681771218776703,-0.17349505424499512,0.5031626224517822,-0.18270458281040192,-0.9116870760917664,1.353128433227539,-9.125454902648926,0.9786699414253235,-0.8918476700782776,-8.104619026184082,-0.18919625878334045,-9.142899513244629,0.5329229235649109,-0.8729391098022461,-0.1854698807001114,-1.193652629852295,-8.07855224609375,-1.2397316694259644,-0.2585145831108093,-1.4674476385116577,0.26972874999046326,-0.19165252149105072,1.0237809419631958,-0.15596109628677368,-1.1490041017532349,-0.9146023392677307,-2.774353504180908,-8.105877876281738,-0.8972132205963135,-7.2869343757629395,-8.098133087158203,-8.25793170928955,1.4487826824188232,-9.1201810836792,-8.109853744506836,-7.262572288513184,1.0109524726867676,1.3897720575332642,-1.154733657836914,-8.195076942443848,-8.089620590209961,-9.118922233581543,-0.2571125328540802,-0.2776535749435425,-1.0819581747055054,-8.032564163208008,0.4239634573459625,-8.09714126586914,-6.569762706756592,-0.2101244330406189,0.0067201172932982445,-9.126379013061523,-8.244584083557129,-0.14827600121498108,-1.7181681394577026,-1.294075846672058,-1.3307253122329712,-9.227704048156738,-0.1557077020406723,-0.5714038014411926,-0.057604268193244934,0.38625407218933105,-1.5177674293518066,0.8384221196174622,-9.18010139465332,-0.210853710770607,-0.2708754539489746,-2.7415735721588135,1.4344254732131958,0.2149054855108261,-0.9335311651229858,-0.16172274947166443,-0.7726938128471375,-0.18630312383174896,-9.1849365234375,0.20578022301197052,-1.2753605842590332,-2.16977596282959,-8.101574897766113,-1.5989148616790771,0.5496714115142822,1.2942078113555908,-0.5660346150398254,-7.455559730529785,-1.1919537782669067,-8.844622611999512,-9.02641487121582,-2.709583044052124,-0.3779882490634918,-0.05002522096037865,-8.14116382598877,-4.228373050689697,-0.448147714138031,-0.28580373525619507,0.34725725650787354],\"xaxis\":\"x\",\"y\":[-2.624481439590454,-7.387813568115234,-7.4140400886535645,-6.835658550262451,-3.217179298400879,-6.80656099319458,-4.80768346786499,-6.932413578033447,-4.358951568603516,-7.794127941131592,-5.285857677459717,1.1591910123825073,-8.413189888000488,-5.46750545501709,0.43625974655151367,-6.791874408721924,1.1691343784332275,-6.693507671356201,-2.0701375007629395,-7.422638416290283,-6.499145030975342,0.4271138906478882,-4.346201419830322,-7.171126365661621,-4.467237949371338,-7.005914211273193,-6.774118423461914,-8.451669692993164,-6.904849529266357,-3.733386516571045,-4.633769989013672,2.941995620727539,0.4462229609489441,-3.107649564743042,-0.3169190585613251,0.42799824476242065,0.5346532464027405,-5.24921178817749,1.1686012744903564,0.45327454805374146,0.30684658885002136,-8.429365158081055,-5.305699825286865,-2.2669272422790527,0.4883610010147095,0.24234116077423096,1.166061520576477,-6.796151161193848,-6.946807384490967,-4.38083553314209,0.4236987829208374,-5.8285932540893555,0.43636083602905273,-0.5301233530044556,-6.79887056350708,-6.990804195404053,1.1662166118621826,0.46648022532463074,-4.820745944976807,3.9334840774536133,1.9625306129455566,-3.810133695602417,1.2044275999069214,-7.125529766082764,-7.1057515144348145,-6.951640605926514,-6.855966567993164,-6.577434539794922,-6.577505588531494,1.1922560930252075,-6.799901485443115,-5.037296295166016,3.0440404415130615,-5.2018961906433105,-6.493300437927246,-6.454654216766357,-7.505496978759766,-7.060705661773682,-7.041635036468506,1.1904398202896118,-7.728013515472412,2.9175596237182617,4.878698825836182,0.42681747674942017,3.539250135421753,-8.052943229675293,-5.36864709854126,-7.710914134979248,0.1877748668193817,-5.724125862121582,0.9892867803573608,1.1119743585586548,3.607724905014038,-6.847410202026367,-7.335132598876953,0.44859692454338074,-0.047118086367845535,-5.919873237609863,-6.534789085388184,-7.574245929718018],\"yaxis\":\"y\",\"type\":\"scatter\"},{\"hovertemplate\":\"Variant=Delta\\u003cbr\\u003e0=%{x}\\u003cbr\\u003e1=%{y}\\u003cextra\\u003e\\u003c\\u002fextra\\u003e\",\"legendgroup\":\"Delta\",\"marker\":{\"color\":\"#00cc96\",\"symbol\":\"circle\"},\"mode\":\"markers\",\"name\":\"Delta\",\"orientation\":\"v\",\"showlegend\":true,\"x\":[-10.637297630310059,-5.703685760498047,-9.837698936462402,-9.508674621582031,-12.828200340270996,-12.497011184692383,-12.773331642150879,-10.985445976257324,-10.922685623168945,1.49751877784729,-13.733967781066895,1.397202491760254,-12.770302772521973,-10.821884155273438,-12.760870933532715,-12.92533016204834,-1.6517730951309204,-10.000431060791016,1.432209849357605,1.4307583570480347,-13.655313491821289,-12.361664772033691,-0.15830078721046448,-12.437707901000977,-13.96684455871582,-12.578939437866211,-12.598993301391602,-11.027881622314453,1.4229744672775269,-12.840938568115234,-0.9630152583122253,-12.595611572265625,-1.6511163711547852,-12.261880874633789,1.1593599319458008,1.8209303617477417,-12.575019836425781,0.7573418021202087,0.889460027217865,-12.375720977783203,-1.0915824174880981,-1.2094789743423462,-0.780447244644165,-13.451543807983398,-10.476937294006348,1.5016875267028809,-3.4779510498046875,-2.016904830932617,-12.776833534240723,-1.814130425453186,-10.633881568908691,-1.0278464555740356,1.4756637811660767,-10.34017562866211,-12.704216003417969,-12.911458969116211,-12.747734069824219,-12.555971145629883,-12.28682804107666,-13.728644371032715,1.505942702293396,-10.52346420288086,-12.898640632629395,-12.887571334838867,-13.672554969787598,-4.677628040313721,-10.311551094055176,-1.7095444202423096,-12.477842330932617,-1.5723686218261719,-12.153923034667969,1.5166877508163452,-5.043464660644531,-12.804059982299805,-12.775259971618652,1.5534013509750366,1.5001462697982788,-12.280282974243164,-4.2653303146362305,-9.354040145874023,-12.696738243103027,-1.6439191102981567,-0.9473969340324402,-12.773489952087402,-9.8020658493042,-10.465110778808594,-12.22411060333252,-9.223939895629883,-0.10480138659477234,-10.319939613342285,-12.644411087036133,-12.767849922180176,-4.4272236824035645,0.8956289291381836,-1.9832637310028076,-1.6682140827178955,1.7377372980117798,-12.141160011291504,-12.862772941589355],\"xaxis\":\"x\",\"y\":[-3.0863776206970215,-1.9497370719909668,-2.970742702484131,-1.699765682220459,-0.15550313889980316,-0.8500385880470276,-2.010845422744751,-1.0287681818008423,-3.176521062850952,-11.951485633850098,0.16656282544136047,-11.93889331817627,-0.05653705447912216,-3.126906394958496,-2.0227155685424805,-1.9595918655395508,-10.748648643493652,-2.9825851917266846,-11.956339836120605,-11.950935363769531,0.12389984726905823,-0.7134631872177124,-10.470284461975098,-0.5308716297149658,-1.0428801774978638,-0.2993634343147278,-0.6515925526618958,-1.0046002864837646,-11.937799453735352,-0.28766995668411255,0.47962090373039246,-0.5799563527107239,4.046177864074707,0.03729061037302017,-11.939370155334473,-11.875947952270508,0.6268141269683838,-12.37930965423584,-11.76653003692627,-0.6212908029556274,-1.9060972929000854,1.8586369752883911,1.3767443895339966,-0.3215707540512085,-3.0809812545776367,-11.943855285644531,-1.1128208637237549,-10.5435152053833,-0.19831319153308868,-10.601914405822754,-3.0408599376678467,1.945085883140564,-11.953604698181152,-2.3612289428710938,-0.1995830535888672,-1.864037036895752,0.42759257555007935,-0.40446364879608154,-0.6496902704238892,0.1736505925655365,-11.952013969421387,-3.1529204845428467,-1.9027936458587646,-1.882312536239624,0.14077149331569672,-1.6001112461090088,-3.424588203430176,-10.62525463104248,-0.38326355814933777,3.5527656078338623,-0.18912556767463684,-11.968843460083008,-1.7089459896087646,-0.2843264937400818,-0.18368496000766754,-12.127781867980957,-11.946843147277832,-2.6630806922912598,-1.3029693365097046,-2.1558473110198975,-2.014504909515381,-10.738959312438965,2.0493829250335693,-0.24914675951004028,-2.6864771842956543,-2.4814107418060303,0.015131846070289612,-2.0274498462677,-10.518537521362305,-1.3256241083145142,-0.2744065523147583,-0.18966104090213776,-1.387088418006897,-11.641446113586426,-10.507811546325684,-10.730270385742188,-12.054303169250488,-0.33296167850494385,-1.8985756635665894],\"yaxis\":\"y\",\"type\":\"scatter\"},{\"hovertemplate\":\"Variant=Gamma\\u003cbr\\u003e0=%{x}\\u003cbr\\u003e1=%{y}\\u003cextra\\u003e\\u003c\\u002fextra\\u003e\",\"legendgroup\":\"Gamma\",\"marker\":{\"color\":\"#ab63fa\",\"symbol\":\"circle\"},\"mode\":\"markers\",\"name\":\"Gamma\",\"orientation\":\"v\",\"showlegend\":true,\"x\":[4.774873733520508,-1.393609881401062,1.6674734354019165],\"xaxis\":\"x\",\"y\":[-9.217981338500977,3.220029592514038,2.556155204772949],\"yaxis\":\"y\",\"type\":\"scatter\"},{\"hovertemplate\":\"Variant=Omicron\\u003cbr\\u003e0=%{x}\\u003cbr\\u003e1=%{y}\\u003cextra\\u003e\\u003c\\u002fextra\\u003e\",\"legendgroup\":\"Omicron\",\"marker\":{\"color\":\"#FFA15A\",\"symbol\":\"circle\"},\"mode\":\"markers\",\"name\":\"Omicron\",\"orientation\":\"v\",\"showlegend\":true,\"x\":[8.062183380126953,3.4083642959594727,7.936893463134766,1.8696088790893555,8.156521797180176,5.282219886779785,7.933667182922363,-1.8841872215270996,5.564603805541992,8.00889778137207,8.167993545532227,9.472408294677734,9.266648292541504,1.4842705726623535,9.261832237243652,8.767082214355469,8.097156524658203,0.801188051700592,0.13132894039154053,8.073781967163086,0.1137932687997818,7.108857154846191,5.570997714996338,9.336501121520996,7.437749862670898,6.940480709075928,0.4068250358104706,8.096451759338379,5.265700340270996,3.7901158332824707,1.94960618019104,6.384451389312744,3.8107008934020996,7.911941051483154,8.407842636108398,7.993515968322754,9.479137420654297,4.952575206756592,8.217852592468262,-0.3836340308189392,9.471151351928711,-11.25771713256836,8.108946800231934,-0.6457991003990173,7.145369529724121,8.131876945495605,5.825446605682373,-1.4381977319717407,8.152772903442383,1.9427956342697144,2.3378679752349854,7.8510260581970215,4.957672595977783,0.40697741508483887,-1.0749729871749878,7.824103355407715,9.439119338989258,8.352566719055176,2.708892822265625,7.993055820465088,8.069151878356934,7.860318183898926,-4.616751194000244,5.63560152053833,5.365906715393066,8.196691513061523,8.209488868713379,-4.0243353843688965,8.15196704864502,8.062944412231445,4.910062789916992,7.508145809173584,8.141538619995117,7.491005897521973,8.16235637664795,9.53623104095459,9.49343204498291,9.485921859741211,9.28448486328125,8.12186050415039,5.556720733642578,9.284250259399414,5.568248271942139,7.958130359649658,-2.423663854598999,8.073409080505371,-2.419485330581665,9.488173484802246,6.918185234069824,-2.030362367630005,5.81801176071167,5.8129191398620605,2.483229637145996,9.506633758544922,7.744864463806152,8.153767585754395,9.265787124633789,7.8560967445373535,9.500314712524414,-11.667908668518066],\"xaxis\":\"x\",\"y\":[6.616008758544922,4.401660442352295,6.329962730407715,2.8814759254455566,6.736089706420898,3.771353006362915,7.0850443840026855,4.300284385681152,4.893791675567627,6.704708576202393,6.7664971351623535,5.544758319854736,7.913392066955566,1.650774598121643,7.906677722930908,4.765010356903076,6.773865699768066,-3.2524313926696777,1.7787220478057861,6.646701335906982,-3.7410964965820312,5.607951641082764,4.941126346588135,5.910075664520264,-1.3304557800292969,5.414769172668457,1.9352535009384155,6.635571002960205,3.7098355293273926,2.452942132949829,-0.300823450088501,-1.7395259141921997,2.5370194911956787,-1.3063502311706543,6.653110027313232,6.8763747215271,5.5748395919799805,-0.20845746994018555,-1.7835726737976074,2.406930923461914,5.6030049324035645,1.2472871541976929,-1.8684487342834473,2.573538064956665,-1.7730542421340942,6.694291591644287,5.3136515617370605,3.533676862716675,-1.7770277261734009,-0.18173040449619293,1.8346045017242432,6.395081996917725,-0.1739208698272705,2.0136125087738037,2.982616662979126,-1.994545340538025,5.4221649169921875,6.952859878540039,9.59628963470459,6.907779693603516,-1.8398069143295288,-1.3260703086853027,0.6409943699836731,5.0308613777160645,4.015685081481934,-1.8117923736572266,6.735347747802734,-1.3201225996017456,-1.6525264978408813,-1.8351877927780151,4.362545013427734,7.0764288902282715,-1.8088765144348145,-2.0581302642822266,-1.8140296936035156,5.555689811706543,5.576252460479736,5.540937900543213,8.13594913482666,6.680515289306641,4.923832893371582,7.9674248695373535,4.924914836883545,6.9313483238220215,9.855518341064453,6.472756862640381,9.856154441833496,5.3283185958862305,-1.8083686828613281,4.7347588539123535,5.310164928436279,5.2195210456848145,9.371724128723145,7.644376754760742,6.3692474365234375,6.721331596374512,7.931692123413086,-1.9829808473587036,5.557020664215088,1.0162835121154785],\"yaxis\":\"y\",\"type\":\"scatter\"},{\"hovertemplate\":\"Variant=Omicron Sub\\u003cbr\\u003e0=%{x}\\u003cbr\\u003e1=%{y}\\u003cextra\\u003e\\u003c\\u002fextra\\u003e\",\"legendgroup\":\"Omicron Sub\",\"marker\":{\"color\":\"#19d3f3\",\"symbol\":\"circle\"},\"mode\":\"markers\",\"name\":\"Omicron Sub\",\"orientation\":\"v\",\"showlegend\":true,\"x\":[1.8057951927185059,-1.2468109130859375,3.6041741371154785,1.6189351081848145,2.8594377040863037,2.439371109008789,3.8639981746673584,4.270501136779785,2.1915626525878906,2.875831365585327,3.8154749870300293,3.933418035507202,2.7614970207214355,1.9730688333511353,-0.08203854411840439,-1.6162790060043335,3.760024309158325,2.9422309398651123,1.9606788158416748,3.155747413635254,3.7498629093170166,-2.2905657291412354,2.801976442337036,2.9813733100891113,3.9941539764404297,2.956200361251831,3.491352081298828,2.491295576095581,2.7935409545898438,2.8471975326538086,1.7202539443969727,2.4113807678222656,3.839362621307373,3.765984296798706,3.787348747253418,4.389414310455322,3.584890365600586,5.805654048919678,3.629073143005371,1.2131427526474,2.8897593021392822,-2.138427257537842,2.9407856464385986,-0.2736330032348633,-2.201246976852417,2.777818202972412,1.8804816007614136,2.7588019371032715,1.488584041595459,4.406165599822998,2.2786848545074463,2.2941067218780518,2.8519604206085205,5.153724193572998,2.3291804790496826,4.465785026550293,2.794285535812378,2.815335988998413,2.7342281341552734,2.0677835941314697,2.9517688751220703,2.4140329360961914,3.7425568103790283,4.312739372253418,2.677806854248047,2.8486080169677734,2.676506519317627,0.21580496430397034,1.347419023513794,3.628584861755371,2.7746431827545166,2.0186545848846436,4.290846347808838,2.7927181720733643,2.76529598236084,3.1596503257751465,2.8296899795532227,2.649399995803833,2.0673484802246094,2.452791690826416,3.6893746852874756,2.923197031021118,3.5386781692504883,1.7521995306015015,0.08425147831439972,1.5330488681793213,8.481133460998535,-2.2897956371307373,2.7719602584838867,3.9016547203063965,4.279138088226318,2.88008451461792,2.067800998687744],\"xaxis\":\"x\",\"y\":[8.546792984008789,3.360771894454956,6.73065710067749,7.95457649230957,10.207380294799805,10.240171432495117,10.219049453735352,10.555837631225586,2.9672577381134033,10.299127578735352,6.745982646942139,11.197141647338867,9.616610527038574,2.7601821422576904,2.2113678455352783,3.9968225955963135,6.798851490020752,10.187958717346191,-0.20428237318992615,9.529227256774902,6.6823410987854,4.835361480712891,10.21247386932373,10.294437408447266,8.997228622436523,10.18264389038086,0.710634708404541,2.440178871154785,2.641674041748047,9.509188652038574,2.6622676849365234,10.492722511291504,10.437460899353027,6.701249122619629,6.750820159912109,10.11791706085205,0.6205494403839111,-0.3839285969734192,5.701091766357422,2.2736377716064453,10.285079956054688,4.565232753753662,2.932217597961426,2.341066837310791,4.208953380584717,9.873703002929688,-0.18866609036922455,2.679069757461548,9.31579875946045,10.842677116394043,9.425521850585938,3.1446728706359863,10.258940696716309,-0.14158429205417633,2.103419542312622,10.859590530395508,3.789653778076172,9.53238582611084,9.430399894714355,-0.2814409136772156,10.439873695373535,10.736339569091797,6.665064811706543,10.60651969909668,10.663575172424316,9.460068702697754,9.399429321289062,2.2177672386169434,10.398728370666504,7.677007675170898,10.466917991638184,-0.23947833478450775,10.489800453186035,9.566967964172363,8.356555938720703,7.135218620300293,3.985889196395874,10.686443328857422,-0.27411964535713196,10.488478660583496,6.338758945465088,2.884819269180298,6.2422966957092285,8.423093795776367,2.322033166885376,7.905632019042969,-2.0877418518066406,4.8489885330200195,10.583292961120605,10.22307300567627,10.618480682373047,9.626145362854004,0.4659278988838196],\"yaxis\":\"y\",\"type\":\"scatter\"}],                        {\"template\":{\"data\":{\"histogram2dcontour\":[{\"type\":\"histogram2dcontour\",\"colorbar\":{\"outlinewidth\":0,\"ticks\":\"\"},\"colorscale\":[[0.0,\"#0d0887\"],[0.1111111111111111,\"#46039f\"],[0.2222222222222222,\"#7201a8\"],[0.3333333333333333,\"#9c179e\"],[0.4444444444444444,\"#bd3786\"],[0.5555555555555556,\"#d8576b\"],[0.6666666666666666,\"#ed7953\"],[0.7777777777777778,\"#fb9f3a\"],[0.8888888888888888,\"#fdca26\"],[1.0,\"#f0f921\"]]}],\"choropleth\":[{\"type\":\"choropleth\",\"colorbar\":{\"outlinewidth\":0,\"ticks\":\"\"}}],\"histogram2d\":[{\"type\":\"histogram2d\",\"colorbar\":{\"outlinewidth\":0,\"ticks\":\"\"},\"colorscale\":[[0.0,\"#0d0887\"],[0.1111111111111111,\"#46039f\"],[0.2222222222222222,\"#7201a8\"],[0.3333333333333333,\"#9c179e\"],[0.4444444444444444,\"#bd3786\"],[0.5555555555555556,\"#d8576b\"],[0.6666666666666666,\"#ed7953\"],[0.7777777777777778,\"#fb9f3a\"],[0.8888888888888888,\"#fdca26\"],[1.0,\"#f0f921\"]]}],\"heatmap\":[{\"type\":\"heatmap\",\"colorbar\":{\"outlinewidth\":0,\"ticks\":\"\"},\"colorscale\":[[0.0,\"#0d0887\"],[0.1111111111111111,\"#46039f\"],[0.2222222222222222,\"#7201a8\"],[0.3333333333333333,\"#9c179e\"],[0.4444444444444444,\"#bd3786\"],[0.5555555555555556,\"#d8576b\"],[0.6666666666666666,\"#ed7953\"],[0.7777777777777778,\"#fb9f3a\"],[0.8888888888888888,\"#fdca26\"],[1.0,\"#f0f921\"]]}],\"heatmapgl\":[{\"type\":\"heatmapgl\",\"colorbar\":{\"outlinewidth\":0,\"ticks\":\"\"},\"colorscale\":[[0.0,\"#0d0887\"],[0.1111111111111111,\"#46039f\"],[0.2222222222222222,\"#7201a8\"],[0.3333333333333333,\"#9c179e\"],[0.4444444444444444,\"#bd3786\"],[0.5555555555555556,\"#d8576b\"],[0.6666666666666666,\"#ed7953\"],[0.7777777777777778,\"#fb9f3a\"],[0.8888888888888888,\"#fdca26\"],[1.0,\"#f0f921\"]]}],\"contourcarpet\":[{\"type\":\"contourcarpet\",\"colorbar\":{\"outlinewidth\":0,\"ticks\":\"\"}}],\"contour\":[{\"type\":\"contour\",\"colorbar\":{\"outlinewidth\":0,\"ticks\":\"\"},\"colorscale\":[[0.0,\"#0d0887\"],[0.1111111111111111,\"#46039f\"],[0.2222222222222222,\"#7201a8\"],[0.3333333333333333,\"#9c179e\"],[0.4444444444444444,\"#bd3786\"],[0.5555555555555556,\"#d8576b\"],[0.6666666666666666,\"#ed7953\"],[0.7777777777777778,\"#fb9f3a\"],[0.8888888888888888,\"#fdca26\"],[1.0,\"#f0f921\"]]}],\"surface\":[{\"type\":\"surface\",\"colorbar\":{\"outlinewidth\":0,\"ticks\":\"\"},\"colorscale\":[[0.0,\"#0d0887\"],[0.1111111111111111,\"#46039f\"],[0.2222222222222222,\"#7201a8\"],[0.3333333333333333,\"#9c179e\"],[0.4444444444444444,\"#bd3786\"],[0.5555555555555556,\"#d8576b\"],[0.6666666666666666,\"#ed7953\"],[0.7777777777777778,\"#fb9f3a\"],[0.8888888888888888,\"#fdca26\"],[1.0,\"#f0f921\"]]}],\"mesh3d\":[{\"type\":\"mesh3d\",\"colorbar\":{\"outlinewidth\":0,\"ticks\":\"\"}}],\"scatter\":[{\"fillpattern\":{\"fillmode\":\"overlay\",\"size\":10,\"solidity\":0.2},\"type\":\"scatter\"}],\"parcoords\":[{\"type\":\"parcoords\",\"line\":{\"colorbar\":{\"outlinewidth\":0,\"ticks\":\"\"}}}],\"scatterpolargl\":[{\"type\":\"scatterpolargl\",\"marker\":{\"colorbar\":{\"outlinewidth\":0,\"ticks\":\"\"}}}],\"bar\":[{\"error_x\":{\"color\":\"#2a3f5f\"},\"error_y\":{\"color\":\"#2a3f5f\"},\"marker\":{\"line\":{\"color\":\"#E5ECF6\",\"width\":0.5},\"pattern\":{\"fillmode\":\"overlay\",\"size\":10,\"solidity\":0.2}},\"type\":\"bar\"}],\"scattergeo\":[{\"type\":\"scattergeo\",\"marker\":{\"colorbar\":{\"outlinewidth\":0,\"ticks\":\"\"}}}],\"scatterpolar\":[{\"type\":\"scatterpolar\",\"marker\":{\"colorbar\":{\"outlinewidth\":0,\"ticks\":\"\"}}}],\"histogram\":[{\"marker\":{\"pattern\":{\"fillmode\":\"overlay\",\"size\":10,\"solidity\":0.2}},\"type\":\"histogram\"}],\"scattergl\":[{\"type\":\"scattergl\",\"marker\":{\"colorbar\":{\"outlinewidth\":0,\"ticks\":\"\"}}}],\"scatter3d\":[{\"type\":\"scatter3d\",\"line\":{\"colorbar\":{\"outlinewidth\":0,\"ticks\":\"\"}},\"marker\":{\"colorbar\":{\"outlinewidth\":0,\"ticks\":\"\"}}}],\"scattermapbox\":[{\"type\":\"scattermapbox\",\"marker\":{\"colorbar\":{\"outlinewidth\":0,\"ticks\":\"\"}}}],\"scatterternary\":[{\"type\":\"scatterternary\",\"marker\":{\"colorbar\":{\"outlinewidth\":0,\"ticks\":\"\"}}}],\"scattercarpet\":[{\"type\":\"scattercarpet\",\"marker\":{\"colorbar\":{\"outlinewidth\":0,\"ticks\":\"\"}}}],\"carpet\":[{\"aaxis\":{\"endlinecolor\":\"#2a3f5f\",\"gridcolor\":\"white\",\"linecolor\":\"white\",\"minorgridcolor\":\"white\",\"startlinecolor\":\"#2a3f5f\"},\"baxis\":{\"endlinecolor\":\"#2a3f5f\",\"gridcolor\":\"white\",\"linecolor\":\"white\",\"minorgridcolor\":\"white\",\"startlinecolor\":\"#2a3f5f\"},\"type\":\"carpet\"}],\"table\":[{\"cells\":{\"fill\":{\"color\":\"#EBF0F8\"},\"line\":{\"color\":\"white\"}},\"header\":{\"fill\":{\"color\":\"#C8D4E3\"},\"line\":{\"color\":\"white\"}},\"type\":\"table\"}],\"barpolar\":[{\"marker\":{\"line\":{\"color\":\"#E5ECF6\",\"width\":0.5},\"pattern\":{\"fillmode\":\"overlay\",\"size\":10,\"solidity\":0.2}},\"type\":\"barpolar\"}],\"pie\":[{\"automargin\":true,\"type\":\"pie\"}]},\"layout\":{\"autotypenumbers\":\"strict\",\"colorway\":[\"#636efa\",\"#EF553B\",\"#00cc96\",\"#ab63fa\",\"#FFA15A\",\"#19d3f3\",\"#FF6692\",\"#B6E880\",\"#FF97FF\",\"#FECB52\"],\"font\":{\"color\":\"#2a3f5f\"},\"hovermode\":\"closest\",\"hoverlabel\":{\"align\":\"left\"},\"paper_bgcolor\":\"white\",\"plot_bgcolor\":\"#E5ECF6\",\"polar\":{\"bgcolor\":\"#E5ECF6\",\"angularaxis\":{\"gridcolor\":\"white\",\"linecolor\":\"white\",\"ticks\":\"\"},\"radialaxis\":{\"gridcolor\":\"white\",\"linecolor\":\"white\",\"ticks\":\"\"}},\"ternary\":{\"bgcolor\":\"#E5ECF6\",\"aaxis\":{\"gridcolor\":\"white\",\"linecolor\":\"white\",\"ticks\":\"\"},\"baxis\":{\"gridcolor\":\"white\",\"linecolor\":\"white\",\"ticks\":\"\"},\"caxis\":{\"gridcolor\":\"white\",\"linecolor\":\"white\",\"ticks\":\"\"}},\"coloraxis\":{\"colorbar\":{\"outlinewidth\":0,\"ticks\":\"\"}},\"colorscale\":{\"sequential\":[[0.0,\"#0d0887\"],[0.1111111111111111,\"#46039f\"],[0.2222222222222222,\"#7201a8\"],[0.3333333333333333,\"#9c179e\"],[0.4444444444444444,\"#bd3786\"],[0.5555555555555556,\"#d8576b\"],[0.6666666666666666,\"#ed7953\"],[0.7777777777777778,\"#fb9f3a\"],[0.8888888888888888,\"#fdca26\"],[1.0,\"#f0f921\"]],\"sequentialminus\":[[0.0,\"#0d0887\"],[0.1111111111111111,\"#46039f\"],[0.2222222222222222,\"#7201a8\"],[0.3333333333333333,\"#9c179e\"],[0.4444444444444444,\"#bd3786\"],[0.5555555555555556,\"#d8576b\"],[0.6666666666666666,\"#ed7953\"],[0.7777777777777778,\"#fb9f3a\"],[0.8888888888888888,\"#fdca26\"],[1.0,\"#f0f921\"]],\"diverging\":[[0,\"#8e0152\"],[0.1,\"#c51b7d\"],[0.2,\"#de77ae\"],[0.3,\"#f1b6da\"],[0.4,\"#fde0ef\"],[0.5,\"#f7f7f7\"],[0.6,\"#e6f5d0\"],[0.7,\"#b8e186\"],[0.8,\"#7fbc41\"],[0.9,\"#4d9221\"],[1,\"#276419\"]]},\"xaxis\":{\"gridcolor\":\"white\",\"linecolor\":\"white\",\"ticks\":\"\",\"title\":{\"standoff\":15},\"zerolinecolor\":\"white\",\"automargin\":true,\"zerolinewidth\":2},\"yaxis\":{\"gridcolor\":\"white\",\"linecolor\":\"white\",\"ticks\":\"\",\"title\":{\"standoff\":15},\"zerolinecolor\":\"white\",\"automargin\":true,\"zerolinewidth\":2},\"scene\":{\"xaxis\":{\"backgroundcolor\":\"#E5ECF6\",\"gridcolor\":\"white\",\"linecolor\":\"white\",\"showbackground\":true,\"ticks\":\"\",\"zerolinecolor\":\"white\",\"gridwidth\":2},\"yaxis\":{\"backgroundcolor\":\"#E5ECF6\",\"gridcolor\":\"white\",\"linecolor\":\"white\",\"showbackground\":true,\"ticks\":\"\",\"zerolinecolor\":\"white\",\"gridwidth\":2},\"zaxis\":{\"backgroundcolor\":\"#E5ECF6\",\"gridcolor\":\"white\",\"linecolor\":\"white\",\"showbackground\":true,\"ticks\":\"\",\"zerolinecolor\":\"white\",\"gridwidth\":2}},\"shapedefaults\":{\"line\":{\"color\":\"#2a3f5f\"}},\"annotationdefaults\":{\"arrowcolor\":\"#2a3f5f\",\"arrowhead\":0,\"arrowwidth\":1},\"geo\":{\"bgcolor\":\"white\",\"landcolor\":\"#E5ECF6\",\"subunitcolor\":\"white\",\"showland\":true,\"showlakes\":true,\"lakecolor\":\"white\"},\"title\":{\"x\":0.05},\"mapbox\":{\"style\":\"light\"}}},\"xaxis\":{\"anchor\":\"y\",\"domain\":[0.0,1.0],\"title\":{\"text\":\"TSNE-2D-1\"},\"showgrid\":false,\"zeroline\":false},\"yaxis\":{\"anchor\":\"x\",\"domain\":[0.0,1.0],\"title\":{\"text\":\"TSNE-2D-2\"},\"showgrid\":false,\"zeroline\":false},\"legend\":{\"title\":{\"text\":\"Variant\"},\"tracegroupgap\":0},\"margin\":{\"t\":60},\"font\":{\"family\":\"Courier New, monospace\",\"size\":18,\"color\":\"RebeccaPurple\"}},                        {\"responsive\": true}                    ).then(function(){\n                            \nvar gd = document.getElementById('1260d54f-bca2-4b24-9011-c6f7a49f7df6');\nvar x = new MutationObserver(function (mutations, observer) {{\n        var display = window.getComputedStyle(gd).display;\n        if (!display || display === 'none') {{\n            console.log([gd, 'removed!']);\n            Plotly.purge(gd);\n            observer.disconnect();\n        }}\n}});\n\n// Listen for the removal of the full notebook cells\nvar notebookContainer = gd.closest('#notebook-container');\nif (notebookContainer) {{\n    x.observe(notebookContainer, {childList: true});\n}}\n\n// Listen for the clearing of the current output cell\nvar outputEl = gd.closest('.output');\nif (outputEl) {{\n    x.observe(outputEl, {childList: true});\n}}\n\n                        })                };                });            </script>        </div>"
     },
     "metadata": {},
     "output_type": "display_data"
    },
    {
     "name": "stdout",
     "output_type": "stream",
     "text": [
      "[t-SNE] Computing 121 nearest neighbors...\n",
      "[t-SNE] Indexed 495 samples in 0.053s...\n",
      "[t-SNE] Computed neighbors for 495 samples in 0.114s...\n",
      "[t-SNE] Computed conditional probabilities for sample 495 / 495\n",
      "[t-SNE] Mean sigma: 12.787426\n",
      "[t-SNE] KL divergence after 250 iterations with early exaggeration: 50.259052\n",
      "[t-SNE] KL divergence after 300 iterations: 0.310385\n"
     ]
    },
    {
     "data": {
      "application/vnd.plotly.v1+json": {
       "data": [
        {
         "hovertemplate": "Variant=Alpha<br>0=%{x}<br>1=%{y}<extra></extra>",
         "legendgroup": "Alpha",
         "marker": {
          "color": "#636efa",
          "symbol": "circle"
         },
         "mode": "markers",
         "name": "Alpha",
         "orientation": "v",
         "showlegend": true,
         "x": [
          0.9524050951004028,
          -0.9685806035995483,
          0.8146662712097168,
          -0.054117266088724136,
          10.010720252990723,
          7.916186809539795,
          9.190648078918457,
          -0.16265448927879333,
          0.9529661536216736,
          10.099854469299316,
          9.176546096801758,
          1.88448166847229,
          9.989818572998047,
          0.8884623050689697,
          9.229660034179688,
          0.9321404695510864,
          8.690813064575195,
          7.997598171234131,
          -1.9120864868164062,
          0.7799485921859741,
          9.308478355407715,
          9.95627212524414,
          8.31013298034668,
          9.941797256469727,
          6.798352241516113,
          9.315258026123047,
          9.325860023498535,
          0.8822956681251526,
          9.797942161560059,
          9.349645614624023,
          11.197402954101562,
          9.352031707763672,
          6.5375590324401855,
          9.980127334594727,
          9.174905776977539,
          10.757115364074707,
          0.7445588111877441,
          9.571735382080078,
          0.5055680274963379,
          9.219813346862793,
          9.285894393920898,
          9.255013465881348,
          8.572912216186523,
          9.3378324508667,
          1.3919764757156372,
          -1.1550415754318237,
          9.224824905395508,
          0.7700340747833252,
          9.938478469848633,
          10.017704010009766,
          0.43969956040382385,
          0.8388383984565735,
          -0.0873812735080719,
          10.881824493408203,
          8.85288143157959,
          9.327408790588379,
          -0.44025513529777527,
          8.806154251098633,
          8.82192325592041,
          8.108088493347168,
          -0.29418423771858215,
          9.937098503112793,
          10.268932342529297,
          10.85293960571289,
          0.8161014914512634,
          0.7978476881980896,
          9.360343933105469,
          0.6423553824424744,
          9.470423698425293,
          -0.7771430015563965,
          0.7624704837799072,
          0.7587240934371948,
          9.348743438720703,
          7.303658962249756,
          8.89852523803711,
          -1.5014315843582153,
          10.378449440002441,
          -1.3401802778244019,
          10.014039039611816,
          1.3565123081207275,
          9.274216651916504,
          9.04450798034668,
          9.210681915283203,
          6.425320625305176,
          1.026421070098877,
          0.7398194670677185,
          10.212862014770508,
          -3.378537893295288,
          9.251191139221191,
          10.478660583496094,
          0.032618794590234756,
          8.524898529052734,
          0.8623899817466736,
          0.7822949290275574,
          0.7677738666534424,
          0.7578580379486084,
          0.872470498085022,
          9.454882621765137,
          -0.9583212733268738,
          0.8614568710327148
         ],
         "xaxis": "x",
         "y": [
          -5.870162487030029,
          -1.9126789569854736,
          -6.117414951324463,
          -5.737684726715088,
          -1.3093446493148804,
          -1.9522979259490967,
          -1.5877909660339355,
          -5.241090774536133,
          -6.084608554840088,
          -1.9381771087646484,
          -1.434354305267334,
          -5.763625621795654,
          -1.337807059288025,
          -6.512225151062012,
          -2.6635031700134277,
          -5.570872783660889,
          -1.9009469747543335,
          -0.7959550619125366,
          -1.2507686614990234,
          -5.93956995010376,
          -1.7927011251449585,
          -1.3651505708694458,
          -0.9788299798965454,
          -1.5165480375289917,
          -1.3411728143692017,
          -1.861565113067627,
          -1.8040844202041626,
          -4.999138832092285,
          -0.15104231238365173,
          -1.896313190460205,
          -1.418534517288208,
          -1.8197457790374756,
          -1.2679469585418701,
          -1.9402389526367188,
          -1.4693137407302856,
          -0.3325417637825012,
          -5.8392486572265625,
          -0.412369042634964,
          -4.544277191162109,
          -1.546093463897705,
          -2.0621438026428223,
          -1.648339867591858,
          -0.6892898678779602,
          -1.7898956537246704,
          -4.901522636413574,
          -1.1169806718826294,
          -1.5905444622039795,
          -5.79135799407959,
          -0.09185081720352173,
          -1.5554152727127075,
          -4.380965709686279,
          -6.330248832702637,
          0.03707224503159523,
          -1.8749821186065674,
          -1.054408311843872,
          -2.162869691848755,
          -3.470369338989258,
          -1.7980846166610718,
          -2.4218807220458984,
          -0.31982558965682983,
          -5.531072616577148,
          -1.4618219137191772,
          -1.2715805768966675,
          -0.051810674369335175,
          -5.935798168182373,
          -5.958456039428711,
          -1.8201793432235718,
          -4.540884971618652,
          -2.3873915672302246,
          -1.1405272483825684,
          -6.046163082122803,
          -5.908427715301514,
          -1.8086847066879272,
          -1.5983577966690063,
          -2.0965771675109863,
          -2.3758089542388916,
          -2.1921446323394775,
          -1.1074352264404297,
          -1.4671363830566406,
          -6.095973014831543,
          -0.522612452507019,
          -1.5482618808746338,
          0.2884638011455536,
          -1.1986045837402344,
          -6.157674789428711,
          -5.887287616729736,
          -1.2751648426055908,
          1.2364412546157837,
          -1.4949833154678345,
          -2.3688719272613525,
          -4.130496501922607,
          -0.35048338770866394,
          -6.3833441734313965,
          -5.69390344619751,
          -5.888134002685547,
          -5.865912437438965,
          -6.255982875823975,
          -2.476706027984619,
          -1.9829665422439575,
          -5.366674900054932
         ],
         "yaxis": "y",
         "type": "scatter"
        },
        {
         "hovertemplate": "Variant=Beta<br>0=%{x}<br>1=%{y}<extra></extra>",
         "legendgroup": "Beta",
         "marker": {
          "color": "#EF553B",
          "symbol": "circle"
         },
         "mode": "markers",
         "name": "Beta",
         "orientation": "v",
         "showlegend": true,
         "x": [
          -4.9326491355896,
          -8.726654052734375,
          -7.732109069824219,
          -7.64108419418335,
          -5.30637264251709,
          -7.541835784912109,
          -6.099639415740967,
          -7.478477954864502,
          -5.796713352203369,
          -8.587480545043945,
          -6.704638481140137,
          -6.781651973724365,
          -7.915225982666016,
          -6.301930904388428,
          -6.907378673553467,
          -7.534790992736816,
          -6.777647972106934,
          -7.40792179107666,
          -4.581723213195801,
          -7.70927095413208,
          -8.153658866882324,
          -6.919066905975342,
          -5.723940372467041,
          -7.760236740112305,
          -8.78880786895752,
          -7.204420566558838,
          -7.579055309295654,
          -7.963252067565918,
          -7.495290279388428,
          -5.452412128448486,
          -6.0453410148620605,
          -3.440288543701172,
          -6.923308372497559,
          -5.342411041259766,
          -6.928962230682373,
          -6.929414749145508,
          -6.931107044219971,
          -6.671201229095459,
          -6.810518741607666,
          -6.924346446990967,
          -7.5971598625183105,
          -7.982492446899414,
          -6.690133571624756,
          -5.215977191925049,
          -6.936992645263672,
          -7.295705795288086,
          -6.814269542694092,
          -7.635829448699951,
          -7.609405517578125,
          -8.33984661102295,
          -6.965156555175781,
          -9.192634582519531,
          -6.922176361083984,
          -6.923990726470947,
          -7.529650688171387,
          -7.545133590698242,
          -6.783677101135254,
          -7.055711269378662,
          -6.129012584686279,
          -0.5254893898963928,
          -2.0633504390716553,
          -5.6001973152160645,
          -6.762561798095703,
          -7.620655536651611,
          -7.280683517456055,
          -7.480210304260254,
          -7.449413299560547,
          -8.735546112060547,
          -7.514308929443359,
          -6.7735724449157715,
          -7.5116448402404785,
          -6.310551166534424,
          -3.433558464050293,
          -6.633008003234863,
          -7.153855800628662,
          -8.295208930969238,
          -7.922816753387451,
          -8.164117813110352,
          -7.612718105316162,
          -6.775729179382324,
          -7.717626094818115,
          -2.0987417697906494,
          -0.13262976706027985,
          -6.945563793182373,
          -2.059983015060425,
          -7.724194526672363,
          -6.76268196105957,
          -8.454146385192871,
          -6.486995697021484,
          -8.390928268432617,
          -6.82610559463501,
          -6.818788051605225,
          -3.394836187362671,
          -7.592862129211426,
          -7.653585910797119,
          -6.930167198181152,
          -6.033444404602051,
          -6.79402494430542,
          -7.18242883682251,
          -7.607786655426025
         ],
         "xaxis": "x",
         "y": [
          -0.5270600914955139,
          -0.5448926091194153,
          -0.2506909966468811,
          0.11082594096660614,
          0.2307654619216919,
          0.07925396412611008,
          -0.853510320186615,
          0.6307355761528015,
          -0.8327454328536987,
          -0.2583731412887573,
          1.5088286399841309,
          -7.117286682128906,
          -1.2860965728759766,
          0.2980838418006897,
          -6.32243013381958,
          0.0812440887093544,
          -7.140808582305908,
          0.6907535195350647,
          -0.6827566623687744,
          -0.3222671449184418,
          0.7472783923149109,
          -6.311944484710693,
          0.456662118434906,
          -0.051068030297756195,
          1.469358205795288,
          -0.06991441547870636,
          0.0832672193646431,
          -1.3661565780639648,
          0.05578530207276344,
          0.2254694551229477,
          -0.02577190473675728,
          1.2331956624984741,
          -6.302060604095459,
          -0.5189626812934875,
          -5.743520259857178,
          -6.283811092376709,
          -6.410282135009766,
          1.711668848991394,
          -7.300102233886719,
          -6.324493408203125,
          -6.060472011566162,
          -1.397129774093628,
          1.5834510326385498,
          -0.8029362559318542,
          -6.350323677062988,
          -6.278850555419922,
          -7.155792236328125,
          0.0725574940443039,
          0.06618034094572067,
          1.724985957145691,
          -6.238424777984619,
          0.4050288796424866,
          -6.312843322753906,
          -5.367136001586914,
          0.08063976466655731,
          0.13465093076229095,
          -7.1439595222473145,
          -6.328587055206299,
          -0.8641424775123596,
          -0.35461270809173584,
          -1.0460091829299927,
          0.7051798105239868,
          -7.237051010131836,
          0.03879320248961449,
          -0.3844827711582184,
          0.04235324263572693,
          0.4930154085159302,
          0.5576593279838562,
          1.0363597869873047,
          -7.156094074249268,
          0.06927265971899033,
          -0.8436058163642883,
          1.234318733215332,
          1.580147624015808,
          0.2910899221897125,
          0.45010432600975037,
          -0.3387572765350342,
          0.24485552310943604,
          0.006786348298192024,
          -7.211730480194092,
          -0.6019330024719238,
          -2.925025463104248,
          0.21919292211532593,
          -6.293694019317627,
          -1.167437195777893,
          -0.8843241333961487,
          1.4850165843963623,
          -0.35270437598228455,
          -5.965641498565674,
          1.3050620555877686,
          -6.87162446975708,
          -7.083285331726074,
          1.233107566833496,
          0.0755419209599495,
          -0.14677146077156067,
          -6.335279941558838,
          -5.580771446228027,
          0.3062768578529358,
          -0.18392081558704376,
          -0.5444697737693787
         ],
         "yaxis": "y",
         "type": "scatter"
        },
        {
         "hovertemplate": "Variant=Delta<br>0=%{x}<br>1=%{y}<extra></extra>",
         "legendgroup": "Delta",
         "marker": {
          "color": "#00cc96",
          "symbol": "circle"
         },
         "mode": "markers",
         "name": "Delta",
         "orientation": "v",
         "showlegend": true,
         "x": [
          -2.3402011394500732,
          -2.8687691688537598,
          -2.0631275177001953,
          -2.2135190963745117,
          -0.8320717811584473,
          -0.36551618576049805,
          -2.161677122116089,
          -1.6267328262329102,
          -2.3861517906188965,
          6.687018871307373,
          0.38070133328437805,
          6.7260026931762695,
          -0.8480228185653687,
          -2.3726766109466553,
          -2.1734671592712402,
          -2.2010951042175293,
          5.605393886566162,
          -2.096158027648926,
          6.683426380157471,
          6.690179347991943,
          0.33895862102508545,
          -0.6776523590087891,
          6.942826747894287,
          -1.0676124095916748,
          -0.32742637395858765,
          -0.8953163623809814,
          -1.1155691146850586,
          -1.562463402748108,
          6.676431179046631,
          -0.7794913053512573,
          -0.17027582228183746,
          -1.0102856159210205,
          -1.182822585105896,
          -0.7499344348907471,
          6.812595844268799,
          6.700111389160156,
          -0.28647083044052124,
          7.329097747802734,
          6.978084087371826,
          -1.0435205698013306,
          -0.22294798493385315,
          -1.4640401601791382,
          -1.2335926294326782,
          -0.10693198442459106,
          -2.219498634338379,
          6.711337089538574,
          -1.7673548460006714,
          5.498210430145264,
          -0.743574321269989,
          5.519769191741943,
          -2.263291120529175,
          -1.3716659545898438,
          6.687533378601074,
          -0.7546147108078003,
          -0.8728097677230835,
          -2.0820813179016113,
          -0.4831695556640625,
          -0.9009628295898438,
          -1.0391755104064941,
          0.39525139331817627,
          6.678757667541504,
          -2.3879902362823486,
          -2.103591203689575,
          -2.1054117679595947,
          0.353301465511322,
          -2.4330623149871826,
          -2.5138607025146484,
          5.521102428436279,
          -0.9289068579673767,
          -1.837737798690796,
          -0.9691693782806396,
          6.66245174407959,
          -2.8152847290039062,
          -0.7626509666442871,
          -0.8398953080177307,
          6.795133113861084,
          6.719440937042236,
          -2.4689626693725586,
          -2.665224552154541,
          -2.296738862991333,
          -2.151834726333618,
          5.619272232055664,
          -1.4604146480560303,
          -0.7263950109481812,
          -0.8833287954330444,
          -0.7954873442649841,
          -0.4926421046257019,
          -2.2867045402526855,
          6.932276725769043,
          -2.067495822906494,
          -0.8898225426673889,
          -0.8391866087913513,
          -2.5069541931152344,
          6.297832012176514,
          5.5274505615234375,
          5.599416255950928,
          6.288958549499512,
          -0.9311065077781677,
          -2.1097419261932373
         ],
         "xaxis": "x",
         "y": [
          -9.115555763244629,
          -8.488889694213867,
          -8.853595733642578,
          -12.434733390808105,
          -11.108519554138184,
          -11.674972534179688,
          -10.283371925354004,
          -12.437416076660156,
          -9.335282325744629,
          -6.659093856811523,
          -11.001200675964355,
          -6.675887584686279,
          -11.125396728515625,
          -9.234816551208496,
          -10.288554191589355,
          -10.257038116455078,
          -5.309615135192871,
          -8.940451622009277,
          -6.6867756843566895,
          -6.6728692054748535,
          -11.00525951385498,
          -11.643548965454102,
          -7.603419303894043,
          -11.540380477905273,
          -12.637309074401855,
          -11.287994384765625,
          -11.501598358154297,
          -12.494009017944336,
          -6.6949687004089355,
          -11.166336059570312,
          -1.2951505184173584,
          -11.621786117553711,
          -2.1952569484710693,
          -11.798079490661621,
          -6.888228416442871,
          -6.73669958114624,
          -11.911459922790527,
          -6.410090446472168,
          -6.739283084869385,
          -11.68565559387207,
          -1.3224602937698364,
          -1.1926387548446655,
          -2.9533145427703857,
          -10.884886741638184,
          -9.099607467651367,
          -6.663187503814697,
          -12.879632949829102,
          -5.1583967208862305,
          -11.31312084197998,
          -5.2403435707092285,
          -9.186387062072754,
          -2.715799331665039,
          -6.665129661560059,
          -9.895373344421387,
          -11.179213523864746,
          -10.297112464904785,
          -11.242860794067383,
          -11.17269229888916,
          -11.728504180908203,
          -11.009238243103027,
          -6.680530548095703,
          -9.050337791442871,
          -10.256237983703613,
          -10.239206314086914,
          -11.009724617004395,
          -12.748557090759277,
          -9.055647850036621,
          -5.243710517883301,
          -11.35970401763916,
          -0.8646037578582764,
          -11.723472595214844,
          -6.718237400054932,
          -8.300444602966309,
          -11.288634300231934,
          -11.162447929382324,
          -6.506571292877197,
          -6.667829990386963,
          -10.203849792480469,
          -7.913559913635254,
          -12.358325958251953,
          -10.249032974243164,
          -5.327035903930664,
          -2.517887830734253,
          -11.246027946472168,
          -9.265151977539062,
          -9.985543251037598,
          -11.825118064880371,
          -12.346895217895508,
          -7.5121989250183105,
          -12.225289344787598,
          -11.256813049316406,
          -11.152005195617676,
          -8.101546287536621,
          -6.958364486694336,
          -5.132020473480225,
          -5.289697647094727,
          -6.0923686027526855,
          -11.76694393157959,
          -10.238718032836914
         ],
         "yaxis": "y",
         "type": "scatter"
        },
        {
         "hovertemplate": "Variant=Gamma<br>0=%{x}<br>1=%{y}<extra></extra>",
         "legendgroup": "Gamma",
         "marker": {
          "color": "#ab63fa",
          "symbol": "circle"
         },
         "mode": "markers",
         "name": "Gamma",
         "orientation": "v",
         "showlegend": true,
         "x": [
          9.99199104309082,
          -1.6563973426818848,
          -1.1233073472976685
         ],
         "xaxis": "x",
         "y": [
          -4.234954357147217,
          -2.177276611328125,
          -5.855160236358643
         ],
         "yaxis": "y",
         "type": "scatter"
        },
        {
         "hovertemplate": "Variant=Omicron<br>0=%{x}<br>1=%{y}<extra></extra>",
         "legendgroup": "Omicron",
         "marker": {
          "color": "#FFA15A",
          "symbol": "circle"
         },
         "mode": "markers",
         "name": "Omicron",
         "orientation": "v",
         "showlegend": true,
         "x": [
          2.927602529525757,
          1.8943511247634888,
          2.9383678436279297,
          -3.602713108062744,
          2.9816222190856934,
          1.3042086362838745,
          3.028698444366455,
          -1.9108495712280273,
          1.517892837524414,
          2.9238100051879883,
          2.9735682010650635,
          4.76640510559082,
          3.454559803009033,
          0.07127650827169418,
          3.4646894931793213,
          5.203967571258545,
          2.971497058868408,
          -5.520964622497559,
          -0.22107277810573578,
          2.942476749420166,
          -5.574480056762695,
          2.609340190887451,
          1.5653375387191772,
          4.357361316680908,
          4.8022661209106445,
          2.7592928409576416,
          -2.6619346141815186,
          2.9095351696014404,
          1.2014049291610718,
          0.47622865438461304,
          1.7655029296875,
          5.596731185913086,
          0.5354222059249878,
          4.792920112609863,
          3.0580530166625977,
          2.9772753715515137,
          4.775028228759766,
          4.400046348571777,
          5.1673970222473145,
          -2.833796262741089,
          4.726325988769531,
          -3.676236867904663,
          5.267323970794678,
          -1.569921612739563,
          5.7766571044921875,
          2.9500892162323,
          1.8886147737503052,
          3.5472571849823,
          5.15606164932251,
          1.7310154438018799,
          1.294063687324524,
          2.8296895027160645,
          4.264007091522217,
          -1.005036473274231,
          -2.8511593341827393,
          5.400713920593262,
          4.829680442810059,
          3.1150646209716797,
          -2.523106575012207,
          2.9721548557281494,
          5.233349323272705,
          4.8246941566467285,
          -6.648802280426025,
          1.6539965867996216,
          4.590842247009277,
          5.17657995223999,
          2.9741501808166504,
          -3.7873823642730713,
          4.970089435577393,
          5.224610805511475,
          1.0487473011016846,
          2.6877150535583496,
          5.168126583099365,
          5.521734714508057,
          5.181710243225098,
          4.804783344268799,
          4.73713493347168,
          4.769763469696045,
          3.4322383403778076,
          3.0294299125671387,
          1.548731803894043,
          3.4515578746795654,
          1.54249107837677,
          2.8881924152374268,
          -6.63349723815918,
          3.041743516921997,
          -6.6343913078308105,
          4.862365245819092,
          5.768183708190918,
          -2.666738510131836,
          1.8387246131896973,
          1.805816650390625,
          -2.837993621826172,
          3.6582024097442627,
          2.723351001739502,
          2.9632089138031006,
          3.4527997970581055,
          5.3977580070495605,
          4.790808200836182,
          -3.5636229515075684
         ],
         "xaxis": "x",
         "y": [
          7.89682149887085,
          8.502738952636719,
          7.743064880371094,
          6.393424987792969,
          7.915846824645996,
          7.962287902832031,
          8.2692289352417,
          4.089016437530518,
          6.482624530792236,
          8.045405387878418,
          7.950122833251953,
          7.879968166351318,
          9.711127281188965,
          6.432276248931885,
          9.728033065795898,
          7.866955757141113,
          7.986110210418701,
          2.9543824195861816,
          6.1760077476501465,
          7.8639421463012695,
          -2.0140275955200195,
          7.049586296081543,
          6.502542495727539,
          8.001298904418945,
          3.3875794410705566,
          6.858797550201416,
          5.377085208892822,
          7.881680965423584,
          7.931875228881836,
          7.18712854385376,
          2.6412081718444824,
          2.8799498081207275,
          6.99072790145874,
          3.941666841506958,
          8.017326354980469,
          8.021824836730957,
          7.900277614593506,
          4.187954425811768,
          3.9484026432037354,
          5.13221549987793,
          7.905035495758057,
          -12.029960632324219,
          3.848860025405884,
          6.396121025085449,
          3.9360785484313965,
          7.9066948890686035,
          6.797173500061035,
          2.1346163749694824,
          3.932466506958008,
          2.6825199127197266,
          5.9711012840271,
          7.720121383666992,
          3.3614089488983154,
          5.681831359863281,
          4.603515625,
          3.521679639816284,
          7.902882099151611,
          8.164570808410645,
          11.04111099243164,
          8.054726600646973,
          3.871833324432373,
          3.911228895187378,
          6.968750953674316,
          6.547645092010498,
          7.21773624420166,
          3.9219090938568115,
          7.946673393249512,
          -12.040307998657227,
          3.9517574310302734,
          3.865522623062134,
          6.389273166656494,
          8.38782024383545,
          3.903508424758911,
          3.3131422996520996,
          3.915818452835083,
          7.916971683502197,
          7.919346809387207,
          7.8864970207214355,
          9.861808776855469,
          7.955600738525391,
          6.495577335357666,
          9.726971626281738,
          6.451469421386719,
          8.008163452148438,
          7.016662120819092,
          7.807701587677002,
          7.0203857421875,
          7.906005382537842,
          3.314647674560547,
          3.8273684978485107,
          6.80263614654541,
          6.682140827178955,
          11.143204689025879,
          9.663418769836426,
          7.720815181732178,
          7.928971290588379,
          9.711877822875977,
          3.5458099842071533,
          7.908355712890625,
          -12.016468048095703
         ],
         "yaxis": "y",
         "type": "scatter"
        },
        {
         "hovertemplate": "Variant=Omicron Sub<br>0=%{x}<br>1=%{y}<extra></extra>",
         "legendgroup": "Omicron Sub",
         "marker": {
          "color": "#19d3f3",
          "symbol": "circle"
         },
         "mode": "markers",
         "name": "Omicron Sub",
         "orientation": "v",
         "showlegend": true,
         "x": [
          -3.580503463745117,
          -2.0671398639678955,
          -2.103675127029419,
          -3.873879909515381,
          -2.0746524333953857,
          -2.39402174949646,
          -1.1005803346633911,
          -0.48577508330345154,
          -2.1776766777038574,
          -2.057502031326294,
          -1.424567699432373,
          -0.3512900769710541,
          -2.499746084213257,
          -2.2222816944122314,
          -2.7837696075439453,
          -2.7924540042877197,
          -1.5663206577301025,
          -2.09346079826355,
          1.659232258796692,
          -2.590217351913452,
          -1.566789150238037,
          -1.0271480083465576,
          -2.276843786239624,
          -2.0605854988098145,
          -0.8090247511863708,
          -2.0921664237976074,
          3.1428534984588623,
          -3.2399494647979736,
          -3.13029146194458,
          -2.4619359970092773,
          -3.4665729999542236,
          -2.0104258060455322,
          -0.9529672265052795,
          -1.5929412841796875,
          -1.4190620183944702,
          -0.553641676902771,
          3.092139959335327,
          3.608766555786133,
          -1.6592702865600586,
          -3.2553346157073975,
          -2.0595498085021973,
          -1.005232572555542,
          -3.196737766265869,
          -2.7467594146728516,
          -1.024213433265686,
          -2.3808863162994385,
          1.6844581365585327,
          -3.2169694900512695,
          -3.4721057415008545,
          -0.33670860528945923,
          -2.930375576019287,
          -3.613022565841675,
          -2.0881102085113525,
          3.453871250152588,
          -3.234299659729004,
          -0.3035440444946289,
          -3.803722620010376,
          -2.5749049186706543,
          -2.6682558059692383,
          1.6882750988006592,
          -2.0066077709198,
          -2.210432767868042,
          -1.6271294355392456,
          -0.43746501207351685,
          -2.005437135696411,
          -2.589193344116211,
          -2.719113826751709,
          -2.2490272521972656,
          -2.240751266479492,
          -1.416361689567566,
          -2.0498034954071045,
          1.6836249828338623,
          -0.5110597014427185,
          -2.4882428646087646,
          -2.8905720710754395,
          -2.480435848236084,
          -3.8715035915374756,
          -1.9954127073287964,
          1.6889140605926514,
          -2.2158069610595703,
          -2.091996431350708,
          -3.1803314685821533,
          -2.445338487625122,
          -3.6748862266540527,
          -2.427602767944336,
          -3.996807336807251,
          5.491970539093018,
          -1.0722968578338623,
          -1.9607025384902954,
          -1.1382794380187988,
          -0.48763507604599,
          -2.3810718059539795,
          3.3910043239593506
         ],
         "xaxis": "x",
         "y": [
          10.656432151794434,
          4.477127552032471,
          9.133142471313477,
          10.026803970336914,
          11.285442352294922,
          11.652116775512695,
          10.931291580200195,
          10.843193054199219,
          6.497974395751953,
          11.313937187194824,
          9.062005043029785,
          11.337509155273438,
          11.114150047302246,
          6.368857383728027,
          5.312610626220703,
          4.583315372467041,
          9.039632797241211,
          11.218188285827637,
          2.6731650829315186,
          11.314433097839355,
          8.985738754272461,
          2.0899693965911865,
          11.505167007446289,
          11.26471996307373,
          11.832193374633789,
          11.23261547088623,
          3.6751296520233154,
          7.549746990203857,
          8.477845191955566,
          10.99035930633545,
          6.320953369140625,
          10.80143928527832,
          11.03184986114502,
          8.961390495300293,
          9.032936096191406,
          10.584633827209473,
          3.741408586502075,
          3.649245023727417,
          8.545976638793945,
          7.21611213684082,
          11.300467491149902,
          2.1140263080596924,
          7.815239906311035,
          5.311025142669678,
          2.1189963817596436,
          11.204235076904297,
          2.6521027088165283,
          7.719237327575684,
          11.735184669494629,
          10.905089378356934,
          11.20073413848877,
          6.579961776733398,
          11.289918899536133,
          3.458876609802246,
          7.738135814666748,
          10.893157958984375,
          9.082640647888184,
          11.0215482711792,
          11.025550842285156,
          2.6802639961242676,
          11.541645050048828,
          11.891765594482422,
          8.95748233795166,
          10.803366661071777,
          11.670487403869629,
          11.007279396057129,
          11.006285667419434,
          5.860379695892334,
          12.569193840026855,
          9.803418159484863,
          11.508326530456543,
          2.6763343811035156,
          10.870264053344727,
          11.016185760498047,
          10.22242546081543,
          9.796470642089844,
          9.237508773803711,
          11.716134071350098,
          2.6799299716949463,
          11.797870635986328,
          8.890029907226562,
          7.81953239440918,
          8.993606567382812,
          10.558001518249512,
          5.832164287567139,
          10.588708877563477,
          4.294091701507568,
          2.1243128776550293,
          11.53640079498291,
          10.907193183898926,
          10.808029174804688,
          11.03271484375,
          2.7661917209625244
         ],
         "yaxis": "y",
         "type": "scatter"
        }
       ],
       "layout": {
        "template": {
         "data": {
          "histogram2dcontour": [
           {
            "type": "histogram2dcontour",
            "colorbar": {
             "outlinewidth": 0,
             "ticks": ""
            },
            "colorscale": [
             [
              0.0,
              "#0d0887"
             ],
             [
              0.1111111111111111,
              "#46039f"
             ],
             [
              0.2222222222222222,
              "#7201a8"
             ],
             [
              0.3333333333333333,
              "#9c179e"
             ],
             [
              0.4444444444444444,
              "#bd3786"
             ],
             [
              0.5555555555555556,
              "#d8576b"
             ],
             [
              0.6666666666666666,
              "#ed7953"
             ],
             [
              0.7777777777777778,
              "#fb9f3a"
             ],
             [
              0.8888888888888888,
              "#fdca26"
             ],
             [
              1.0,
              "#f0f921"
             ]
            ]
           }
          ],
          "choropleth": [
           {
            "type": "choropleth",
            "colorbar": {
             "outlinewidth": 0,
             "ticks": ""
            }
           }
          ],
          "histogram2d": [
           {
            "type": "histogram2d",
            "colorbar": {
             "outlinewidth": 0,
             "ticks": ""
            },
            "colorscale": [
             [
              0.0,
              "#0d0887"
             ],
             [
              0.1111111111111111,
              "#46039f"
             ],
             [
              0.2222222222222222,
              "#7201a8"
             ],
             [
              0.3333333333333333,
              "#9c179e"
             ],
             [
              0.4444444444444444,
              "#bd3786"
             ],
             [
              0.5555555555555556,
              "#d8576b"
             ],
             [
              0.6666666666666666,
              "#ed7953"
             ],
             [
              0.7777777777777778,
              "#fb9f3a"
             ],
             [
              0.8888888888888888,
              "#fdca26"
             ],
             [
              1.0,
              "#f0f921"
             ]
            ]
           }
          ],
          "heatmap": [
           {
            "type": "heatmap",
            "colorbar": {
             "outlinewidth": 0,
             "ticks": ""
            },
            "colorscale": [
             [
              0.0,
              "#0d0887"
             ],
             [
              0.1111111111111111,
              "#46039f"
             ],
             [
              0.2222222222222222,
              "#7201a8"
             ],
             [
              0.3333333333333333,
              "#9c179e"
             ],
             [
              0.4444444444444444,
              "#bd3786"
             ],
             [
              0.5555555555555556,
              "#d8576b"
             ],
             [
              0.6666666666666666,
              "#ed7953"
             ],
             [
              0.7777777777777778,
              "#fb9f3a"
             ],
             [
              0.8888888888888888,
              "#fdca26"
             ],
             [
              1.0,
              "#f0f921"
             ]
            ]
           }
          ],
          "heatmapgl": [
           {
            "type": "heatmapgl",
            "colorbar": {
             "outlinewidth": 0,
             "ticks": ""
            },
            "colorscale": [
             [
              0.0,
              "#0d0887"
             ],
             [
              0.1111111111111111,
              "#46039f"
             ],
             [
              0.2222222222222222,
              "#7201a8"
             ],
             [
              0.3333333333333333,
              "#9c179e"
             ],
             [
              0.4444444444444444,
              "#bd3786"
             ],
             [
              0.5555555555555556,
              "#d8576b"
             ],
             [
              0.6666666666666666,
              "#ed7953"
             ],
             [
              0.7777777777777778,
              "#fb9f3a"
             ],
             [
              0.8888888888888888,
              "#fdca26"
             ],
             [
              1.0,
              "#f0f921"
             ]
            ]
           }
          ],
          "contourcarpet": [
           {
            "type": "contourcarpet",
            "colorbar": {
             "outlinewidth": 0,
             "ticks": ""
            }
           }
          ],
          "contour": [
           {
            "type": "contour",
            "colorbar": {
             "outlinewidth": 0,
             "ticks": ""
            },
            "colorscale": [
             [
              0.0,
              "#0d0887"
             ],
             [
              0.1111111111111111,
              "#46039f"
             ],
             [
              0.2222222222222222,
              "#7201a8"
             ],
             [
              0.3333333333333333,
              "#9c179e"
             ],
             [
              0.4444444444444444,
              "#bd3786"
             ],
             [
              0.5555555555555556,
              "#d8576b"
             ],
             [
              0.6666666666666666,
              "#ed7953"
             ],
             [
              0.7777777777777778,
              "#fb9f3a"
             ],
             [
              0.8888888888888888,
              "#fdca26"
             ],
             [
              1.0,
              "#f0f921"
             ]
            ]
           }
          ],
          "surface": [
           {
            "type": "surface",
            "colorbar": {
             "outlinewidth": 0,
             "ticks": ""
            },
            "colorscale": [
             [
              0.0,
              "#0d0887"
             ],
             [
              0.1111111111111111,
              "#46039f"
             ],
             [
              0.2222222222222222,
              "#7201a8"
             ],
             [
              0.3333333333333333,
              "#9c179e"
             ],
             [
              0.4444444444444444,
              "#bd3786"
             ],
             [
              0.5555555555555556,
              "#d8576b"
             ],
             [
              0.6666666666666666,
              "#ed7953"
             ],
             [
              0.7777777777777778,
              "#fb9f3a"
             ],
             [
              0.8888888888888888,
              "#fdca26"
             ],
             [
              1.0,
              "#f0f921"
             ]
            ]
           }
          ],
          "mesh3d": [
           {
            "type": "mesh3d",
            "colorbar": {
             "outlinewidth": 0,
             "ticks": ""
            }
           }
          ],
          "scatter": [
           {
            "fillpattern": {
             "fillmode": "overlay",
             "size": 10,
             "solidity": 0.2
            },
            "type": "scatter"
           }
          ],
          "parcoords": [
           {
            "type": "parcoords",
            "line": {
             "colorbar": {
              "outlinewidth": 0,
              "ticks": ""
             }
            }
           }
          ],
          "scatterpolargl": [
           {
            "type": "scatterpolargl",
            "marker": {
             "colorbar": {
              "outlinewidth": 0,
              "ticks": ""
             }
            }
           }
          ],
          "bar": [
           {
            "error_x": {
             "color": "#2a3f5f"
            },
            "error_y": {
             "color": "#2a3f5f"
            },
            "marker": {
             "line": {
              "color": "#E5ECF6",
              "width": 0.5
             },
             "pattern": {
              "fillmode": "overlay",
              "size": 10,
              "solidity": 0.2
             }
            },
            "type": "bar"
           }
          ],
          "scattergeo": [
           {
            "type": "scattergeo",
            "marker": {
             "colorbar": {
              "outlinewidth": 0,
              "ticks": ""
             }
            }
           }
          ],
          "scatterpolar": [
           {
            "type": "scatterpolar",
            "marker": {
             "colorbar": {
              "outlinewidth": 0,
              "ticks": ""
             }
            }
           }
          ],
          "histogram": [
           {
            "marker": {
             "pattern": {
              "fillmode": "overlay",
              "size": 10,
              "solidity": 0.2
             }
            },
            "type": "histogram"
           }
          ],
          "scattergl": [
           {
            "type": "scattergl",
            "marker": {
             "colorbar": {
              "outlinewidth": 0,
              "ticks": ""
             }
            }
           }
          ],
          "scatter3d": [
           {
            "type": "scatter3d",
            "line": {
             "colorbar": {
              "outlinewidth": 0,
              "ticks": ""
             }
            },
            "marker": {
             "colorbar": {
              "outlinewidth": 0,
              "ticks": ""
             }
            }
           }
          ],
          "scattermapbox": [
           {
            "type": "scattermapbox",
            "marker": {
             "colorbar": {
              "outlinewidth": 0,
              "ticks": ""
             }
            }
           }
          ],
          "scatterternary": [
           {
            "type": "scatterternary",
            "marker": {
             "colorbar": {
              "outlinewidth": 0,
              "ticks": ""
             }
            }
           }
          ],
          "scattercarpet": [
           {
            "type": "scattercarpet",
            "marker": {
             "colorbar": {
              "outlinewidth": 0,
              "ticks": ""
             }
            }
           }
          ],
          "carpet": [
           {
            "aaxis": {
             "endlinecolor": "#2a3f5f",
             "gridcolor": "white",
             "linecolor": "white",
             "minorgridcolor": "white",
             "startlinecolor": "#2a3f5f"
            },
            "baxis": {
             "endlinecolor": "#2a3f5f",
             "gridcolor": "white",
             "linecolor": "white",
             "minorgridcolor": "white",
             "startlinecolor": "#2a3f5f"
            },
            "type": "carpet"
           }
          ],
          "table": [
           {
            "cells": {
             "fill": {
              "color": "#EBF0F8"
             },
             "line": {
              "color": "white"
             }
            },
            "header": {
             "fill": {
              "color": "#C8D4E3"
             },
             "line": {
              "color": "white"
             }
            },
            "type": "table"
           }
          ],
          "barpolar": [
           {
            "marker": {
             "line": {
              "color": "#E5ECF6",
              "width": 0.5
             },
             "pattern": {
              "fillmode": "overlay",
              "size": 10,
              "solidity": 0.2
             }
            },
            "type": "barpolar"
           }
          ],
          "pie": [
           {
            "automargin": true,
            "type": "pie"
           }
          ]
         },
         "layout": {
          "autotypenumbers": "strict",
          "colorway": [
           "#636efa",
           "#EF553B",
           "#00cc96",
           "#ab63fa",
           "#FFA15A",
           "#19d3f3",
           "#FF6692",
           "#B6E880",
           "#FF97FF",
           "#FECB52"
          ],
          "font": {
           "color": "#2a3f5f"
          },
          "hovermode": "closest",
          "hoverlabel": {
           "align": "left"
          },
          "paper_bgcolor": "white",
          "plot_bgcolor": "#E5ECF6",
          "polar": {
           "bgcolor": "#E5ECF6",
           "angularaxis": {
            "gridcolor": "white",
            "linecolor": "white",
            "ticks": ""
           },
           "radialaxis": {
            "gridcolor": "white",
            "linecolor": "white",
            "ticks": ""
           }
          },
          "ternary": {
           "bgcolor": "#E5ECF6",
           "aaxis": {
            "gridcolor": "white",
            "linecolor": "white",
            "ticks": ""
           },
           "baxis": {
            "gridcolor": "white",
            "linecolor": "white",
            "ticks": ""
           },
           "caxis": {
            "gridcolor": "white",
            "linecolor": "white",
            "ticks": ""
           }
          },
          "coloraxis": {
           "colorbar": {
            "outlinewidth": 0,
            "ticks": ""
           }
          },
          "colorscale": {
           "sequential": [
            [
             0.0,
             "#0d0887"
            ],
            [
             0.1111111111111111,
             "#46039f"
            ],
            [
             0.2222222222222222,
             "#7201a8"
            ],
            [
             0.3333333333333333,
             "#9c179e"
            ],
            [
             0.4444444444444444,
             "#bd3786"
            ],
            [
             0.5555555555555556,
             "#d8576b"
            ],
            [
             0.6666666666666666,
             "#ed7953"
            ],
            [
             0.7777777777777778,
             "#fb9f3a"
            ],
            [
             0.8888888888888888,
             "#fdca26"
            ],
            [
             1.0,
             "#f0f921"
            ]
           ],
           "sequentialminus": [
            [
             0.0,
             "#0d0887"
            ],
            [
             0.1111111111111111,
             "#46039f"
            ],
            [
             0.2222222222222222,
             "#7201a8"
            ],
            [
             0.3333333333333333,
             "#9c179e"
            ],
            [
             0.4444444444444444,
             "#bd3786"
            ],
            [
             0.5555555555555556,
             "#d8576b"
            ],
            [
             0.6666666666666666,
             "#ed7953"
            ],
            [
             0.7777777777777778,
             "#fb9f3a"
            ],
            [
             0.8888888888888888,
             "#fdca26"
            ],
            [
             1.0,
             "#f0f921"
            ]
           ],
           "diverging": [
            [
             0,
             "#8e0152"
            ],
            [
             0.1,
             "#c51b7d"
            ],
            [
             0.2,
             "#de77ae"
            ],
            [
             0.3,
             "#f1b6da"
            ],
            [
             0.4,
             "#fde0ef"
            ],
            [
             0.5,
             "#f7f7f7"
            ],
            [
             0.6,
             "#e6f5d0"
            ],
            [
             0.7,
             "#b8e186"
            ],
            [
             0.8,
             "#7fbc41"
            ],
            [
             0.9,
             "#4d9221"
            ],
            [
             1,
             "#276419"
            ]
           ]
          },
          "xaxis": {
           "gridcolor": "white",
           "linecolor": "white",
           "ticks": "",
           "title": {
            "standoff": 15
           },
           "zerolinecolor": "white",
           "automargin": true,
           "zerolinewidth": 2
          },
          "yaxis": {
           "gridcolor": "white",
           "linecolor": "white",
           "ticks": "",
           "title": {
            "standoff": 15
           },
           "zerolinecolor": "white",
           "automargin": true,
           "zerolinewidth": 2
          },
          "scene": {
           "xaxis": {
            "backgroundcolor": "#E5ECF6",
            "gridcolor": "white",
            "linecolor": "white",
            "showbackground": true,
            "ticks": "",
            "zerolinecolor": "white",
            "gridwidth": 2
           },
           "yaxis": {
            "backgroundcolor": "#E5ECF6",
            "gridcolor": "white",
            "linecolor": "white",
            "showbackground": true,
            "ticks": "",
            "zerolinecolor": "white",
            "gridwidth": 2
           },
           "zaxis": {
            "backgroundcolor": "#E5ECF6",
            "gridcolor": "white",
            "linecolor": "white",
            "showbackground": true,
            "ticks": "",
            "zerolinecolor": "white",
            "gridwidth": 2
           }
          },
          "shapedefaults": {
           "line": {
            "color": "#2a3f5f"
           }
          },
          "annotationdefaults": {
           "arrowcolor": "#2a3f5f",
           "arrowhead": 0,
           "arrowwidth": 1
          },
          "geo": {
           "bgcolor": "white",
           "landcolor": "#E5ECF6",
           "subunitcolor": "white",
           "showland": true,
           "showlakes": true,
           "lakecolor": "white"
          },
          "title": {
           "x": 0.05
          },
          "mapbox": {
           "style": "light"
          }
         }
        },
        "xaxis": {
         "anchor": "y",
         "domain": [
          0.0,
          1.0
         ],
         "title": {
          "text": "TSNE-2D-1"
         },
         "showgrid": false,
         "zeroline": false
        },
        "yaxis": {
         "anchor": "x",
         "domain": [
          0.0,
          1.0
         ],
         "title": {
          "text": "TSNE-2D-2"
         },
         "showgrid": false,
         "zeroline": false
        },
        "legend": {
         "title": {
          "text": "Variant"
         },
         "tracegroupgap": 0
        },
        "margin": {
         "t": 60
        },
        "font": {
         "family": "Courier New, monospace",
         "size": 18,
         "color": "RebeccaPurple"
        }
       },
       "config": {
        "plotlyServerURL": "https://plot.ly"
       }
      },
      "text/html": "<div>                            <div id=\"f9c50d7f-13f1-426f-9e66-5bf29bc8c3ce\" class=\"plotly-graph-div\" style=\"height:525px; width:100%;\"></div>            <script type=\"text/javascript\">                require([\"plotly\"], function(Plotly) {                    window.PLOTLYENV=window.PLOTLYENV || {};                                    if (document.getElementById(\"f9c50d7f-13f1-426f-9e66-5bf29bc8c3ce\")) {                    Plotly.newPlot(                        \"f9c50d7f-13f1-426f-9e66-5bf29bc8c3ce\",                        [{\"hovertemplate\":\"Variant=Alpha\\u003cbr\\u003e0=%{x}\\u003cbr\\u003e1=%{y}\\u003cextra\\u003e\\u003c\\u002fextra\\u003e\",\"legendgroup\":\"Alpha\",\"marker\":{\"color\":\"#636efa\",\"symbol\":\"circle\"},\"mode\":\"markers\",\"name\":\"Alpha\",\"orientation\":\"v\",\"showlegend\":true,\"x\":[0.9524050951004028,-0.9685806035995483,0.8146662712097168,-0.054117266088724136,10.010720252990723,7.916186809539795,9.190648078918457,-0.16265448927879333,0.9529661536216736,10.099854469299316,9.176546096801758,1.88448166847229,9.989818572998047,0.8884623050689697,9.229660034179688,0.9321404695510864,8.690813064575195,7.997598171234131,-1.9120864868164062,0.7799485921859741,9.308478355407715,9.95627212524414,8.31013298034668,9.941797256469727,6.798352241516113,9.315258026123047,9.325860023498535,0.8822956681251526,9.797942161560059,9.349645614624023,11.197402954101562,9.352031707763672,6.5375590324401855,9.980127334594727,9.174905776977539,10.757115364074707,0.7445588111877441,9.571735382080078,0.5055680274963379,9.219813346862793,9.285894393920898,9.255013465881348,8.572912216186523,9.3378324508667,1.3919764757156372,-1.1550415754318237,9.224824905395508,0.7700340747833252,9.938478469848633,10.017704010009766,0.43969956040382385,0.8388383984565735,-0.0873812735080719,10.881824493408203,8.85288143157959,9.327408790588379,-0.44025513529777527,8.806154251098633,8.82192325592041,8.108088493347168,-0.29418423771858215,9.937098503112793,10.268932342529297,10.85293960571289,0.8161014914512634,0.7978476881980896,9.360343933105469,0.6423553824424744,9.470423698425293,-0.7771430015563965,0.7624704837799072,0.7587240934371948,9.348743438720703,7.303658962249756,8.89852523803711,-1.5014315843582153,10.378449440002441,-1.3401802778244019,10.014039039611816,1.3565123081207275,9.274216651916504,9.04450798034668,9.210681915283203,6.425320625305176,1.026421070098877,0.7398194670677185,10.212862014770508,-3.378537893295288,9.251191139221191,10.478660583496094,0.032618794590234756,8.524898529052734,0.8623899817466736,0.7822949290275574,0.7677738666534424,0.7578580379486084,0.872470498085022,9.454882621765137,-0.9583212733268738,0.8614568710327148],\"xaxis\":\"x\",\"y\":[-5.870162487030029,-1.9126789569854736,-6.117414951324463,-5.737684726715088,-1.3093446493148804,-1.9522979259490967,-1.5877909660339355,-5.241090774536133,-6.084608554840088,-1.9381771087646484,-1.434354305267334,-5.763625621795654,-1.337807059288025,-6.512225151062012,-2.6635031700134277,-5.570872783660889,-1.9009469747543335,-0.7959550619125366,-1.2507686614990234,-5.93956995010376,-1.7927011251449585,-1.3651505708694458,-0.9788299798965454,-1.5165480375289917,-1.3411728143692017,-1.861565113067627,-1.8040844202041626,-4.999138832092285,-0.15104231238365173,-1.896313190460205,-1.418534517288208,-1.8197457790374756,-1.2679469585418701,-1.9402389526367188,-1.4693137407302856,-0.3325417637825012,-5.8392486572265625,-0.412369042634964,-4.544277191162109,-1.546093463897705,-2.0621438026428223,-1.648339867591858,-0.6892898678779602,-1.7898956537246704,-4.901522636413574,-1.1169806718826294,-1.5905444622039795,-5.79135799407959,-0.09185081720352173,-1.5554152727127075,-4.380965709686279,-6.330248832702637,0.03707224503159523,-1.8749821186065674,-1.054408311843872,-2.162869691848755,-3.470369338989258,-1.7980846166610718,-2.4218807220458984,-0.31982558965682983,-5.531072616577148,-1.4618219137191772,-1.2715805768966675,-0.051810674369335175,-5.935798168182373,-5.958456039428711,-1.8201793432235718,-4.540884971618652,-2.3873915672302246,-1.1405272483825684,-6.046163082122803,-5.908427715301514,-1.8086847066879272,-1.5983577966690063,-2.0965771675109863,-2.3758089542388916,-2.1921446323394775,-1.1074352264404297,-1.4671363830566406,-6.095973014831543,-0.522612452507019,-1.5482618808746338,0.2884638011455536,-1.1986045837402344,-6.157674789428711,-5.887287616729736,-1.2751648426055908,1.2364412546157837,-1.4949833154678345,-2.3688719272613525,-4.130496501922607,-0.35048338770866394,-6.3833441734313965,-5.69390344619751,-5.888134002685547,-5.865912437438965,-6.255982875823975,-2.476706027984619,-1.9829665422439575,-5.366674900054932],\"yaxis\":\"y\",\"type\":\"scatter\"},{\"hovertemplate\":\"Variant=Beta\\u003cbr\\u003e0=%{x}\\u003cbr\\u003e1=%{y}\\u003cextra\\u003e\\u003c\\u002fextra\\u003e\",\"legendgroup\":\"Beta\",\"marker\":{\"color\":\"#EF553B\",\"symbol\":\"circle\"},\"mode\":\"markers\",\"name\":\"Beta\",\"orientation\":\"v\",\"showlegend\":true,\"x\":[-4.9326491355896,-8.726654052734375,-7.732109069824219,-7.64108419418335,-5.30637264251709,-7.541835784912109,-6.099639415740967,-7.478477954864502,-5.796713352203369,-8.587480545043945,-6.704638481140137,-6.781651973724365,-7.915225982666016,-6.301930904388428,-6.907378673553467,-7.534790992736816,-6.777647972106934,-7.40792179107666,-4.581723213195801,-7.70927095413208,-8.153658866882324,-6.919066905975342,-5.723940372467041,-7.760236740112305,-8.78880786895752,-7.204420566558838,-7.579055309295654,-7.963252067565918,-7.495290279388428,-5.452412128448486,-6.0453410148620605,-3.440288543701172,-6.923308372497559,-5.342411041259766,-6.928962230682373,-6.929414749145508,-6.931107044219971,-6.671201229095459,-6.810518741607666,-6.924346446990967,-7.5971598625183105,-7.982492446899414,-6.690133571624756,-5.215977191925049,-6.936992645263672,-7.295705795288086,-6.814269542694092,-7.635829448699951,-7.609405517578125,-8.33984661102295,-6.965156555175781,-9.192634582519531,-6.922176361083984,-6.923990726470947,-7.529650688171387,-7.545133590698242,-6.783677101135254,-7.055711269378662,-6.129012584686279,-0.5254893898963928,-2.0633504390716553,-5.6001973152160645,-6.762561798095703,-7.620655536651611,-7.280683517456055,-7.480210304260254,-7.449413299560547,-8.735546112060547,-7.514308929443359,-6.7735724449157715,-7.5116448402404785,-6.310551166534424,-3.433558464050293,-6.633008003234863,-7.153855800628662,-8.295208930969238,-7.922816753387451,-8.164117813110352,-7.612718105316162,-6.775729179382324,-7.717626094818115,-2.0987417697906494,-0.13262976706027985,-6.945563793182373,-2.059983015060425,-7.724194526672363,-6.76268196105957,-8.454146385192871,-6.486995697021484,-8.390928268432617,-6.82610559463501,-6.818788051605225,-3.394836187362671,-7.592862129211426,-7.653585910797119,-6.930167198181152,-6.033444404602051,-6.79402494430542,-7.18242883682251,-7.607786655426025],\"xaxis\":\"x\",\"y\":[-0.5270600914955139,-0.5448926091194153,-0.2506909966468811,0.11082594096660614,0.2307654619216919,0.07925396412611008,-0.853510320186615,0.6307355761528015,-0.8327454328536987,-0.2583731412887573,1.5088286399841309,-7.117286682128906,-1.2860965728759766,0.2980838418006897,-6.32243013381958,0.0812440887093544,-7.140808582305908,0.6907535195350647,-0.6827566623687744,-0.3222671449184418,0.7472783923149109,-6.311944484710693,0.456662118434906,-0.051068030297756195,1.469358205795288,-0.06991441547870636,0.0832672193646431,-1.3661565780639648,0.05578530207276344,0.2254694551229477,-0.02577190473675728,1.2331956624984741,-6.302060604095459,-0.5189626812934875,-5.743520259857178,-6.283811092376709,-6.410282135009766,1.711668848991394,-7.300102233886719,-6.324493408203125,-6.060472011566162,-1.397129774093628,1.5834510326385498,-0.8029362559318542,-6.350323677062988,-6.278850555419922,-7.155792236328125,0.0725574940443039,0.06618034094572067,1.724985957145691,-6.238424777984619,0.4050288796424866,-6.312843322753906,-5.367136001586914,0.08063976466655731,0.13465093076229095,-7.1439595222473145,-6.328587055206299,-0.8641424775123596,-0.35461270809173584,-1.0460091829299927,0.7051798105239868,-7.237051010131836,0.03879320248961449,-0.3844827711582184,0.04235324263572693,0.4930154085159302,0.5576593279838562,1.0363597869873047,-7.156094074249268,0.06927265971899033,-0.8436058163642883,1.234318733215332,1.580147624015808,0.2910899221897125,0.45010432600975037,-0.3387572765350342,0.24485552310943604,0.006786348298192024,-7.211730480194092,-0.6019330024719238,-2.925025463104248,0.21919292211532593,-6.293694019317627,-1.167437195777893,-0.8843241333961487,1.4850165843963623,-0.35270437598228455,-5.965641498565674,1.3050620555877686,-6.87162446975708,-7.083285331726074,1.233107566833496,0.0755419209599495,-0.14677146077156067,-6.335279941558838,-5.580771446228027,0.3062768578529358,-0.18392081558704376,-0.5444697737693787],\"yaxis\":\"y\",\"type\":\"scatter\"},{\"hovertemplate\":\"Variant=Delta\\u003cbr\\u003e0=%{x}\\u003cbr\\u003e1=%{y}\\u003cextra\\u003e\\u003c\\u002fextra\\u003e\",\"legendgroup\":\"Delta\",\"marker\":{\"color\":\"#00cc96\",\"symbol\":\"circle\"},\"mode\":\"markers\",\"name\":\"Delta\",\"orientation\":\"v\",\"showlegend\":true,\"x\":[-2.3402011394500732,-2.8687691688537598,-2.0631275177001953,-2.2135190963745117,-0.8320717811584473,-0.36551618576049805,-2.161677122116089,-1.6267328262329102,-2.3861517906188965,6.687018871307373,0.38070133328437805,6.7260026931762695,-0.8480228185653687,-2.3726766109466553,-2.1734671592712402,-2.2010951042175293,5.605393886566162,-2.096158027648926,6.683426380157471,6.690179347991943,0.33895862102508545,-0.6776523590087891,6.942826747894287,-1.0676124095916748,-0.32742637395858765,-0.8953163623809814,-1.1155691146850586,-1.562463402748108,6.676431179046631,-0.7794913053512573,-0.17027582228183746,-1.0102856159210205,-1.182822585105896,-0.7499344348907471,6.812595844268799,6.700111389160156,-0.28647083044052124,7.329097747802734,6.978084087371826,-1.0435205698013306,-0.22294798493385315,-1.4640401601791382,-1.2335926294326782,-0.10693198442459106,-2.219498634338379,6.711337089538574,-1.7673548460006714,5.498210430145264,-0.743574321269989,5.519769191741943,-2.263291120529175,-1.3716659545898438,6.687533378601074,-0.7546147108078003,-0.8728097677230835,-2.0820813179016113,-0.4831695556640625,-0.9009628295898438,-1.0391755104064941,0.39525139331817627,6.678757667541504,-2.3879902362823486,-2.103591203689575,-2.1054117679595947,0.353301465511322,-2.4330623149871826,-2.5138607025146484,5.521102428436279,-0.9289068579673767,-1.837737798690796,-0.9691693782806396,6.66245174407959,-2.8152847290039062,-0.7626509666442871,-0.8398953080177307,6.795133113861084,6.719440937042236,-2.4689626693725586,-2.665224552154541,-2.296738862991333,-2.151834726333618,5.619272232055664,-1.4604146480560303,-0.7263950109481812,-0.8833287954330444,-0.7954873442649841,-0.4926421046257019,-2.2867045402526855,6.932276725769043,-2.067495822906494,-0.8898225426673889,-0.8391866087913513,-2.5069541931152344,6.297832012176514,5.5274505615234375,5.599416255950928,6.288958549499512,-0.9311065077781677,-2.1097419261932373],\"xaxis\":\"x\",\"y\":[-9.115555763244629,-8.488889694213867,-8.853595733642578,-12.434733390808105,-11.108519554138184,-11.674972534179688,-10.283371925354004,-12.437416076660156,-9.335282325744629,-6.659093856811523,-11.001200675964355,-6.675887584686279,-11.125396728515625,-9.234816551208496,-10.288554191589355,-10.257038116455078,-5.309615135192871,-8.940451622009277,-6.6867756843566895,-6.6728692054748535,-11.00525951385498,-11.643548965454102,-7.603419303894043,-11.540380477905273,-12.637309074401855,-11.287994384765625,-11.501598358154297,-12.494009017944336,-6.6949687004089355,-11.166336059570312,-1.2951505184173584,-11.621786117553711,-2.1952569484710693,-11.798079490661621,-6.888228416442871,-6.73669958114624,-11.911459922790527,-6.410090446472168,-6.739283084869385,-11.68565559387207,-1.3224602937698364,-1.1926387548446655,-2.9533145427703857,-10.884886741638184,-9.099607467651367,-6.663187503814697,-12.879632949829102,-5.1583967208862305,-11.31312084197998,-5.2403435707092285,-9.186387062072754,-2.715799331665039,-6.665129661560059,-9.895373344421387,-11.179213523864746,-10.297112464904785,-11.242860794067383,-11.17269229888916,-11.728504180908203,-11.009238243103027,-6.680530548095703,-9.050337791442871,-10.256237983703613,-10.239206314086914,-11.009724617004395,-12.748557090759277,-9.055647850036621,-5.243710517883301,-11.35970401763916,-0.8646037578582764,-11.723472595214844,-6.718237400054932,-8.300444602966309,-11.288634300231934,-11.162447929382324,-6.506571292877197,-6.667829990386963,-10.203849792480469,-7.913559913635254,-12.358325958251953,-10.249032974243164,-5.327035903930664,-2.517887830734253,-11.246027946472168,-9.265151977539062,-9.985543251037598,-11.825118064880371,-12.346895217895508,-7.5121989250183105,-12.225289344787598,-11.256813049316406,-11.152005195617676,-8.101546287536621,-6.958364486694336,-5.132020473480225,-5.289697647094727,-6.0923686027526855,-11.76694393157959,-10.238718032836914],\"yaxis\":\"y\",\"type\":\"scatter\"},{\"hovertemplate\":\"Variant=Gamma\\u003cbr\\u003e0=%{x}\\u003cbr\\u003e1=%{y}\\u003cextra\\u003e\\u003c\\u002fextra\\u003e\",\"legendgroup\":\"Gamma\",\"marker\":{\"color\":\"#ab63fa\",\"symbol\":\"circle\"},\"mode\":\"markers\",\"name\":\"Gamma\",\"orientation\":\"v\",\"showlegend\":true,\"x\":[9.99199104309082,-1.6563973426818848,-1.1233073472976685],\"xaxis\":\"x\",\"y\":[-4.234954357147217,-2.177276611328125,-5.855160236358643],\"yaxis\":\"y\",\"type\":\"scatter\"},{\"hovertemplate\":\"Variant=Omicron\\u003cbr\\u003e0=%{x}\\u003cbr\\u003e1=%{y}\\u003cextra\\u003e\\u003c\\u002fextra\\u003e\",\"legendgroup\":\"Omicron\",\"marker\":{\"color\":\"#FFA15A\",\"symbol\":\"circle\"},\"mode\":\"markers\",\"name\":\"Omicron\",\"orientation\":\"v\",\"showlegend\":true,\"x\":[2.927602529525757,1.8943511247634888,2.9383678436279297,-3.602713108062744,2.9816222190856934,1.3042086362838745,3.028698444366455,-1.9108495712280273,1.517892837524414,2.9238100051879883,2.9735682010650635,4.76640510559082,3.454559803009033,0.07127650827169418,3.4646894931793213,5.203967571258545,2.971497058868408,-5.520964622497559,-0.22107277810573578,2.942476749420166,-5.574480056762695,2.609340190887451,1.5653375387191772,4.357361316680908,4.8022661209106445,2.7592928409576416,-2.6619346141815186,2.9095351696014404,1.2014049291610718,0.47622865438461304,1.7655029296875,5.596731185913086,0.5354222059249878,4.792920112609863,3.0580530166625977,2.9772753715515137,4.775028228759766,4.400046348571777,5.1673970222473145,-2.833796262741089,4.726325988769531,-3.676236867904663,5.267323970794678,-1.569921612739563,5.7766571044921875,2.9500892162323,1.8886147737503052,3.5472571849823,5.15606164932251,1.7310154438018799,1.294063687324524,2.8296895027160645,4.264007091522217,-1.005036473274231,-2.8511593341827393,5.400713920593262,4.829680442810059,3.1150646209716797,-2.523106575012207,2.9721548557281494,5.233349323272705,4.8246941566467285,-6.648802280426025,1.6539965867996216,4.590842247009277,5.17657995223999,2.9741501808166504,-3.7873823642730713,4.970089435577393,5.224610805511475,1.0487473011016846,2.6877150535583496,5.168126583099365,5.521734714508057,5.181710243225098,4.804783344268799,4.73713493347168,4.769763469696045,3.4322383403778076,3.0294299125671387,1.548731803894043,3.4515578746795654,1.54249107837677,2.8881924152374268,-6.63349723815918,3.041743516921997,-6.6343913078308105,4.862365245819092,5.768183708190918,-2.666738510131836,1.8387246131896973,1.805816650390625,-2.837993621826172,3.6582024097442627,2.723351001739502,2.9632089138031006,3.4527997970581055,5.3977580070495605,4.790808200836182,-3.5636229515075684],\"xaxis\":\"x\",\"y\":[7.89682149887085,8.502738952636719,7.743064880371094,6.393424987792969,7.915846824645996,7.962287902832031,8.2692289352417,4.089016437530518,6.482624530792236,8.045405387878418,7.950122833251953,7.879968166351318,9.711127281188965,6.432276248931885,9.728033065795898,7.866955757141113,7.986110210418701,2.9543824195861816,6.1760077476501465,7.8639421463012695,-2.0140275955200195,7.049586296081543,6.502542495727539,8.001298904418945,3.3875794410705566,6.858797550201416,5.377085208892822,7.881680965423584,7.931875228881836,7.18712854385376,2.6412081718444824,2.8799498081207275,6.99072790145874,3.941666841506958,8.017326354980469,8.021824836730957,7.900277614593506,4.187954425811768,3.9484026432037354,5.13221549987793,7.905035495758057,-12.029960632324219,3.848860025405884,6.396121025085449,3.9360785484313965,7.9066948890686035,6.797173500061035,2.1346163749694824,3.932466506958008,2.6825199127197266,5.9711012840271,7.720121383666992,3.3614089488983154,5.681831359863281,4.603515625,3.521679639816284,7.902882099151611,8.164570808410645,11.04111099243164,8.054726600646973,3.871833324432373,3.911228895187378,6.968750953674316,6.547645092010498,7.21773624420166,3.9219090938568115,7.946673393249512,-12.040307998657227,3.9517574310302734,3.865522623062134,6.389273166656494,8.38782024383545,3.903508424758911,3.3131422996520996,3.915818452835083,7.916971683502197,7.919346809387207,7.8864970207214355,9.861808776855469,7.955600738525391,6.495577335357666,9.726971626281738,6.451469421386719,8.008163452148438,7.016662120819092,7.807701587677002,7.0203857421875,7.906005382537842,3.314647674560547,3.8273684978485107,6.80263614654541,6.682140827178955,11.143204689025879,9.663418769836426,7.720815181732178,7.928971290588379,9.711877822875977,3.5458099842071533,7.908355712890625,-12.016468048095703],\"yaxis\":\"y\",\"type\":\"scatter\"},{\"hovertemplate\":\"Variant=Omicron Sub\\u003cbr\\u003e0=%{x}\\u003cbr\\u003e1=%{y}\\u003cextra\\u003e\\u003c\\u002fextra\\u003e\",\"legendgroup\":\"Omicron Sub\",\"marker\":{\"color\":\"#19d3f3\",\"symbol\":\"circle\"},\"mode\":\"markers\",\"name\":\"Omicron Sub\",\"orientation\":\"v\",\"showlegend\":true,\"x\":[-3.580503463745117,-2.0671398639678955,-2.103675127029419,-3.873879909515381,-2.0746524333953857,-2.39402174949646,-1.1005803346633911,-0.48577508330345154,-2.1776766777038574,-2.057502031326294,-1.424567699432373,-0.3512900769710541,-2.499746084213257,-2.2222816944122314,-2.7837696075439453,-2.7924540042877197,-1.5663206577301025,-2.09346079826355,1.659232258796692,-2.590217351913452,-1.566789150238037,-1.0271480083465576,-2.276843786239624,-2.0605854988098145,-0.8090247511863708,-2.0921664237976074,3.1428534984588623,-3.2399494647979736,-3.13029146194458,-2.4619359970092773,-3.4665729999542236,-2.0104258060455322,-0.9529672265052795,-1.5929412841796875,-1.4190620183944702,-0.553641676902771,3.092139959335327,3.608766555786133,-1.6592702865600586,-3.2553346157073975,-2.0595498085021973,-1.005232572555542,-3.196737766265869,-2.7467594146728516,-1.024213433265686,-2.3808863162994385,1.6844581365585327,-3.2169694900512695,-3.4721057415008545,-0.33670860528945923,-2.930375576019287,-3.613022565841675,-2.0881102085113525,3.453871250152588,-3.234299659729004,-0.3035440444946289,-3.803722620010376,-2.5749049186706543,-2.6682558059692383,1.6882750988006592,-2.0066077709198,-2.210432767868042,-1.6271294355392456,-0.43746501207351685,-2.005437135696411,-2.589193344116211,-2.719113826751709,-2.2490272521972656,-2.240751266479492,-1.416361689567566,-2.0498034954071045,1.6836249828338623,-0.5110597014427185,-2.4882428646087646,-2.8905720710754395,-2.480435848236084,-3.8715035915374756,-1.9954127073287964,1.6889140605926514,-2.2158069610595703,-2.091996431350708,-3.1803314685821533,-2.445338487625122,-3.6748862266540527,-2.427602767944336,-3.996807336807251,5.491970539093018,-1.0722968578338623,-1.9607025384902954,-1.1382794380187988,-0.48763507604599,-2.3810718059539795,3.3910043239593506],\"xaxis\":\"x\",\"y\":[10.656432151794434,4.477127552032471,9.133142471313477,10.026803970336914,11.285442352294922,11.652116775512695,10.931291580200195,10.843193054199219,6.497974395751953,11.313937187194824,9.062005043029785,11.337509155273438,11.114150047302246,6.368857383728027,5.312610626220703,4.583315372467041,9.039632797241211,11.218188285827637,2.6731650829315186,11.314433097839355,8.985738754272461,2.0899693965911865,11.505167007446289,11.26471996307373,11.832193374633789,11.23261547088623,3.6751296520233154,7.549746990203857,8.477845191955566,10.99035930633545,6.320953369140625,10.80143928527832,11.03184986114502,8.961390495300293,9.032936096191406,10.584633827209473,3.741408586502075,3.649245023727417,8.545976638793945,7.21611213684082,11.300467491149902,2.1140263080596924,7.815239906311035,5.311025142669678,2.1189963817596436,11.204235076904297,2.6521027088165283,7.719237327575684,11.735184669494629,10.905089378356934,11.20073413848877,6.579961776733398,11.289918899536133,3.458876609802246,7.738135814666748,10.893157958984375,9.082640647888184,11.0215482711792,11.025550842285156,2.6802639961242676,11.541645050048828,11.891765594482422,8.95748233795166,10.803366661071777,11.670487403869629,11.007279396057129,11.006285667419434,5.860379695892334,12.569193840026855,9.803418159484863,11.508326530456543,2.6763343811035156,10.870264053344727,11.016185760498047,10.22242546081543,9.796470642089844,9.237508773803711,11.716134071350098,2.6799299716949463,11.797870635986328,8.890029907226562,7.81953239440918,8.993606567382812,10.558001518249512,5.832164287567139,10.588708877563477,4.294091701507568,2.1243128776550293,11.53640079498291,10.907193183898926,10.808029174804688,11.03271484375,2.7661917209625244],\"yaxis\":\"y\",\"type\":\"scatter\"}],                        {\"template\":{\"data\":{\"histogram2dcontour\":[{\"type\":\"histogram2dcontour\",\"colorbar\":{\"outlinewidth\":0,\"ticks\":\"\"},\"colorscale\":[[0.0,\"#0d0887\"],[0.1111111111111111,\"#46039f\"],[0.2222222222222222,\"#7201a8\"],[0.3333333333333333,\"#9c179e\"],[0.4444444444444444,\"#bd3786\"],[0.5555555555555556,\"#d8576b\"],[0.6666666666666666,\"#ed7953\"],[0.7777777777777778,\"#fb9f3a\"],[0.8888888888888888,\"#fdca26\"],[1.0,\"#f0f921\"]]}],\"choropleth\":[{\"type\":\"choropleth\",\"colorbar\":{\"outlinewidth\":0,\"ticks\":\"\"}}],\"histogram2d\":[{\"type\":\"histogram2d\",\"colorbar\":{\"outlinewidth\":0,\"ticks\":\"\"},\"colorscale\":[[0.0,\"#0d0887\"],[0.1111111111111111,\"#46039f\"],[0.2222222222222222,\"#7201a8\"],[0.3333333333333333,\"#9c179e\"],[0.4444444444444444,\"#bd3786\"],[0.5555555555555556,\"#d8576b\"],[0.6666666666666666,\"#ed7953\"],[0.7777777777777778,\"#fb9f3a\"],[0.8888888888888888,\"#fdca26\"],[1.0,\"#f0f921\"]]}],\"heatmap\":[{\"type\":\"heatmap\",\"colorbar\":{\"outlinewidth\":0,\"ticks\":\"\"},\"colorscale\":[[0.0,\"#0d0887\"],[0.1111111111111111,\"#46039f\"],[0.2222222222222222,\"#7201a8\"],[0.3333333333333333,\"#9c179e\"],[0.4444444444444444,\"#bd3786\"],[0.5555555555555556,\"#d8576b\"],[0.6666666666666666,\"#ed7953\"],[0.7777777777777778,\"#fb9f3a\"],[0.8888888888888888,\"#fdca26\"],[1.0,\"#f0f921\"]]}],\"heatmapgl\":[{\"type\":\"heatmapgl\",\"colorbar\":{\"outlinewidth\":0,\"ticks\":\"\"},\"colorscale\":[[0.0,\"#0d0887\"],[0.1111111111111111,\"#46039f\"],[0.2222222222222222,\"#7201a8\"],[0.3333333333333333,\"#9c179e\"],[0.4444444444444444,\"#bd3786\"],[0.5555555555555556,\"#d8576b\"],[0.6666666666666666,\"#ed7953\"],[0.7777777777777778,\"#fb9f3a\"],[0.8888888888888888,\"#fdca26\"],[1.0,\"#f0f921\"]]}],\"contourcarpet\":[{\"type\":\"contourcarpet\",\"colorbar\":{\"outlinewidth\":0,\"ticks\":\"\"}}],\"contour\":[{\"type\":\"contour\",\"colorbar\":{\"outlinewidth\":0,\"ticks\":\"\"},\"colorscale\":[[0.0,\"#0d0887\"],[0.1111111111111111,\"#46039f\"],[0.2222222222222222,\"#7201a8\"],[0.3333333333333333,\"#9c179e\"],[0.4444444444444444,\"#bd3786\"],[0.5555555555555556,\"#d8576b\"],[0.6666666666666666,\"#ed7953\"],[0.7777777777777778,\"#fb9f3a\"],[0.8888888888888888,\"#fdca26\"],[1.0,\"#f0f921\"]]}],\"surface\":[{\"type\":\"surface\",\"colorbar\":{\"outlinewidth\":0,\"ticks\":\"\"},\"colorscale\":[[0.0,\"#0d0887\"],[0.1111111111111111,\"#46039f\"],[0.2222222222222222,\"#7201a8\"],[0.3333333333333333,\"#9c179e\"],[0.4444444444444444,\"#bd3786\"],[0.5555555555555556,\"#d8576b\"],[0.6666666666666666,\"#ed7953\"],[0.7777777777777778,\"#fb9f3a\"],[0.8888888888888888,\"#fdca26\"],[1.0,\"#f0f921\"]]}],\"mesh3d\":[{\"type\":\"mesh3d\",\"colorbar\":{\"outlinewidth\":0,\"ticks\":\"\"}}],\"scatter\":[{\"fillpattern\":{\"fillmode\":\"overlay\",\"size\":10,\"solidity\":0.2},\"type\":\"scatter\"}],\"parcoords\":[{\"type\":\"parcoords\",\"line\":{\"colorbar\":{\"outlinewidth\":0,\"ticks\":\"\"}}}],\"scatterpolargl\":[{\"type\":\"scatterpolargl\",\"marker\":{\"colorbar\":{\"outlinewidth\":0,\"ticks\":\"\"}}}],\"bar\":[{\"error_x\":{\"color\":\"#2a3f5f\"},\"error_y\":{\"color\":\"#2a3f5f\"},\"marker\":{\"line\":{\"color\":\"#E5ECF6\",\"width\":0.5},\"pattern\":{\"fillmode\":\"overlay\",\"size\":10,\"solidity\":0.2}},\"type\":\"bar\"}],\"scattergeo\":[{\"type\":\"scattergeo\",\"marker\":{\"colorbar\":{\"outlinewidth\":0,\"ticks\":\"\"}}}],\"scatterpolar\":[{\"type\":\"scatterpolar\",\"marker\":{\"colorbar\":{\"outlinewidth\":0,\"ticks\":\"\"}}}],\"histogram\":[{\"marker\":{\"pattern\":{\"fillmode\":\"overlay\",\"size\":10,\"solidity\":0.2}},\"type\":\"histogram\"}],\"scattergl\":[{\"type\":\"scattergl\",\"marker\":{\"colorbar\":{\"outlinewidth\":0,\"ticks\":\"\"}}}],\"scatter3d\":[{\"type\":\"scatter3d\",\"line\":{\"colorbar\":{\"outlinewidth\":0,\"ticks\":\"\"}},\"marker\":{\"colorbar\":{\"outlinewidth\":0,\"ticks\":\"\"}}}],\"scattermapbox\":[{\"type\":\"scattermapbox\",\"marker\":{\"colorbar\":{\"outlinewidth\":0,\"ticks\":\"\"}}}],\"scatterternary\":[{\"type\":\"scatterternary\",\"marker\":{\"colorbar\":{\"outlinewidth\":0,\"ticks\":\"\"}}}],\"scattercarpet\":[{\"type\":\"scattercarpet\",\"marker\":{\"colorbar\":{\"outlinewidth\":0,\"ticks\":\"\"}}}],\"carpet\":[{\"aaxis\":{\"endlinecolor\":\"#2a3f5f\",\"gridcolor\":\"white\",\"linecolor\":\"white\",\"minorgridcolor\":\"white\",\"startlinecolor\":\"#2a3f5f\"},\"baxis\":{\"endlinecolor\":\"#2a3f5f\",\"gridcolor\":\"white\",\"linecolor\":\"white\",\"minorgridcolor\":\"white\",\"startlinecolor\":\"#2a3f5f\"},\"type\":\"carpet\"}],\"table\":[{\"cells\":{\"fill\":{\"color\":\"#EBF0F8\"},\"line\":{\"color\":\"white\"}},\"header\":{\"fill\":{\"color\":\"#C8D4E3\"},\"line\":{\"color\":\"white\"}},\"type\":\"table\"}],\"barpolar\":[{\"marker\":{\"line\":{\"color\":\"#E5ECF6\",\"width\":0.5},\"pattern\":{\"fillmode\":\"overlay\",\"size\":10,\"solidity\":0.2}},\"type\":\"barpolar\"}],\"pie\":[{\"automargin\":true,\"type\":\"pie\"}]},\"layout\":{\"autotypenumbers\":\"strict\",\"colorway\":[\"#636efa\",\"#EF553B\",\"#00cc96\",\"#ab63fa\",\"#FFA15A\",\"#19d3f3\",\"#FF6692\",\"#B6E880\",\"#FF97FF\",\"#FECB52\"],\"font\":{\"color\":\"#2a3f5f\"},\"hovermode\":\"closest\",\"hoverlabel\":{\"align\":\"left\"},\"paper_bgcolor\":\"white\",\"plot_bgcolor\":\"#E5ECF6\",\"polar\":{\"bgcolor\":\"#E5ECF6\",\"angularaxis\":{\"gridcolor\":\"white\",\"linecolor\":\"white\",\"ticks\":\"\"},\"radialaxis\":{\"gridcolor\":\"white\",\"linecolor\":\"white\",\"ticks\":\"\"}},\"ternary\":{\"bgcolor\":\"#E5ECF6\",\"aaxis\":{\"gridcolor\":\"white\",\"linecolor\":\"white\",\"ticks\":\"\"},\"baxis\":{\"gridcolor\":\"white\",\"linecolor\":\"white\",\"ticks\":\"\"},\"caxis\":{\"gridcolor\":\"white\",\"linecolor\":\"white\",\"ticks\":\"\"}},\"coloraxis\":{\"colorbar\":{\"outlinewidth\":0,\"ticks\":\"\"}},\"colorscale\":{\"sequential\":[[0.0,\"#0d0887\"],[0.1111111111111111,\"#46039f\"],[0.2222222222222222,\"#7201a8\"],[0.3333333333333333,\"#9c179e\"],[0.4444444444444444,\"#bd3786\"],[0.5555555555555556,\"#d8576b\"],[0.6666666666666666,\"#ed7953\"],[0.7777777777777778,\"#fb9f3a\"],[0.8888888888888888,\"#fdca26\"],[1.0,\"#f0f921\"]],\"sequentialminus\":[[0.0,\"#0d0887\"],[0.1111111111111111,\"#46039f\"],[0.2222222222222222,\"#7201a8\"],[0.3333333333333333,\"#9c179e\"],[0.4444444444444444,\"#bd3786\"],[0.5555555555555556,\"#d8576b\"],[0.6666666666666666,\"#ed7953\"],[0.7777777777777778,\"#fb9f3a\"],[0.8888888888888888,\"#fdca26\"],[1.0,\"#f0f921\"]],\"diverging\":[[0,\"#8e0152\"],[0.1,\"#c51b7d\"],[0.2,\"#de77ae\"],[0.3,\"#f1b6da\"],[0.4,\"#fde0ef\"],[0.5,\"#f7f7f7\"],[0.6,\"#e6f5d0\"],[0.7,\"#b8e186\"],[0.8,\"#7fbc41\"],[0.9,\"#4d9221\"],[1,\"#276419\"]]},\"xaxis\":{\"gridcolor\":\"white\",\"linecolor\":\"white\",\"ticks\":\"\",\"title\":{\"standoff\":15},\"zerolinecolor\":\"white\",\"automargin\":true,\"zerolinewidth\":2},\"yaxis\":{\"gridcolor\":\"white\",\"linecolor\":\"white\",\"ticks\":\"\",\"title\":{\"standoff\":15},\"zerolinecolor\":\"white\",\"automargin\":true,\"zerolinewidth\":2},\"scene\":{\"xaxis\":{\"backgroundcolor\":\"#E5ECF6\",\"gridcolor\":\"white\",\"linecolor\":\"white\",\"showbackground\":true,\"ticks\":\"\",\"zerolinecolor\":\"white\",\"gridwidth\":2},\"yaxis\":{\"backgroundcolor\":\"#E5ECF6\",\"gridcolor\":\"white\",\"linecolor\":\"white\",\"showbackground\":true,\"ticks\":\"\",\"zerolinecolor\":\"white\",\"gridwidth\":2},\"zaxis\":{\"backgroundcolor\":\"#E5ECF6\",\"gridcolor\":\"white\",\"linecolor\":\"white\",\"showbackground\":true,\"ticks\":\"\",\"zerolinecolor\":\"white\",\"gridwidth\":2}},\"shapedefaults\":{\"line\":{\"color\":\"#2a3f5f\"}},\"annotationdefaults\":{\"arrowcolor\":\"#2a3f5f\",\"arrowhead\":0,\"arrowwidth\":1},\"geo\":{\"bgcolor\":\"white\",\"landcolor\":\"#E5ECF6\",\"subunitcolor\":\"white\",\"showland\":true,\"showlakes\":true,\"lakecolor\":\"white\"},\"title\":{\"x\":0.05},\"mapbox\":{\"style\":\"light\"}}},\"xaxis\":{\"anchor\":\"y\",\"domain\":[0.0,1.0],\"title\":{\"text\":\"TSNE-2D-1\"},\"showgrid\":false,\"zeroline\":false},\"yaxis\":{\"anchor\":\"x\",\"domain\":[0.0,1.0],\"title\":{\"text\":\"TSNE-2D-2\"},\"showgrid\":false,\"zeroline\":false},\"legend\":{\"title\":{\"text\":\"Variant\"},\"tracegroupgap\":0},\"margin\":{\"t\":60},\"font\":{\"family\":\"Courier New, monospace\",\"size\":18,\"color\":\"RebeccaPurple\"}},                        {\"responsive\": true}                    ).then(function(){\n                            \nvar gd = document.getElementById('f9c50d7f-13f1-426f-9e66-5bf29bc8c3ce');\nvar x = new MutationObserver(function (mutations, observer) {{\n        var display = window.getComputedStyle(gd).display;\n        if (!display || display === 'none') {{\n            console.log([gd, 'removed!']);\n            Plotly.purge(gd);\n            observer.disconnect();\n        }}\n}});\n\n// Listen for the removal of the full notebook cells\nvar notebookContainer = gd.closest('#notebook-container');\nif (notebookContainer) {{\n    x.observe(notebookContainer, {childList: true});\n}}\n\n// Listen for the clearing of the current output cell\nvar outputEl = gd.closest('.output');\nif (outputEl) {{\n    x.observe(outputEl, {childList: true});\n}}\n\n                        })                };                });            </script>        </div>"
     },
     "metadata": {},
     "output_type": "display_data"
    }
   ],
   "source": [
    "tsne_fn(data3, 3)\n",
    "tsne_fn(data5, 5)\n",
    "tsne_fn(data7, 7)"
   ]
  },
  {
   "cell_type": "markdown",
   "id": "6c30d063",
   "metadata": {},
   "source": [
    "## Method 3: Uniform Manifold Approximation and Projection (UMAP)"
   ]
  },
  {
   "cell_type": "code",
   "execution_count": 67,
   "id": "d72dab61",
   "metadata": {
    "ExecuteTime": {
     "end_time": "2023-07-07T06:29:31.588209800Z",
     "start_time": "2023-07-07T06:29:31.585427900Z"
    }
   },
   "outputs": [],
   "source": [
    "def umap_fn(data, k):\n",
    "    # Sort data so figure labels are sorted\n",
    "    data = data.sort_values(by='variant', ascending=True)\n",
    "    slice_col = data.columns.get_loc('strain')\n",
    "    X = data.iloc[:, 1:slice_col]\n",
    "    target = data['variant']\n",
    "    umap_reduce = umap.UMAP(random_state=10)\n",
    "    scaled_X = StandardScaler().fit_transform(X)\n",
    "    emb = umap_reduce.fit_transform(scaled_X)\n",
    "    emb.shape\n",
    "    X_o = emb[:,0]\n",
    "    Y_o = emb[:,1]\n",
    "    umap_2d = px.scatter(\n",
    "        emb, x= 0, y= 1,\n",
    "        color=data.variant, labels={'color': 'Variant'})\n",
    "    umap_2d.update_layout(\n",
    "    xaxis_title=\"UMAP_1\",\n",
    "    yaxis_title=\"UMAP_2\",\n",
    "    font=dict(\n",
    "        family=\"Courier New, monospace\",\n",
    "        size=18,\n",
    "        color=\"RebeccaPurple\"))\n",
    "    umap_2d.update_xaxes(showgrid=False,zeroline=False)\n",
    "    umap_2d.update_yaxes(showgrid=False,zeroline=False)\n",
    "    umap_2d.show()\n",
    "\n",
    "    umap_2d.write_image('../results/dim-reduce/umap-{}.png'.format(k))\n",
    "    umap_2d.write_html('../results/dim-reduce/umap-{}.html'.format(k))"
   ]
  },
  {
   "cell_type": "code",
   "execution_count": 68,
   "id": "556f0830",
   "metadata": {
    "ExecuteTime": {
     "end_time": "2023-07-07T06:29:37.478608500Z",
     "start_time": "2023-07-07T06:29:31.589224200Z"
    }
   },
   "outputs": [
    {
     "data": {
      "application/vnd.plotly.v1+json": {
       "data": [
        {
         "hovertemplate": "Variant=Alpha<br>0=%{x}<br>1=%{y}<extra></extra>",
         "legendgroup": "Alpha",
         "marker": {
          "color": "#636efa",
          "symbol": "circle"
         },
         "mode": "markers",
         "name": "Alpha",
         "orientation": "v",
         "showlegend": true,
         "x": [
          10.192342758178711,
          -1.6941310167312622,
          10.183317184448242,
          5.211721420288086,
          6.647911071777344,
          5.288311958312988,
          6.926830291748047,
          -0.278715580701828,
          10.227336883544922,
          7.4090776443481445,
          6.40194845199585,
          0.8254748582839966,
          7.002054691314697,
          10.066461563110352,
          7.615289688110352,
          10.210616111755371,
          6.909914493560791,
          2.2148427963256836,
          -1.2185423374176025,
          10.030525207519531,
          7.242768287658691,
          6.518218040466309,
          5.2966742515563965,
          7.547775745391846,
          -0.4284304082393646,
          7.542233467102051,
          7.532416343688965,
          5.204617023468018,
          5.813412666320801,
          7.525251388549805,
          -0.3851873576641083,
          7.619421005249023,
          -0.26966342329978943,
          7.569216251373291,
          7.012368202209473,
          -0.2872263491153717,
          10.174159049987793,
          5.588374614715576,
          -0.028777403756976128,
          6.767156600952148,
          7.339814186096191,
          7.149859428405762,
          5.3962907791137695,
          7.655387878417969,
          1.3878588676452637,
          -0.8329089283943176,
          6.778143405914307,
          10.181262969970703,
          5.529435634613037,
          7.410297393798828,
          0.28771594166755676,
          10.259867668151855,
          -1.3238370418548584,
          4.853618621826172,
          5.924424171447754,
          7.623844146728516,
          -0.338548868894577,
          6.9782843589782715,
          7.1085944175720215,
          1.3607177734375,
          -0.15839783847332,
          7.328426837921143,
          6.823133945465088,
          -0.22784677147865295,
          9.950157165527344,
          9.926362037658691,
          7.5849289894104,
          0.8560038208961487,
          7.625448226928711,
          -1.1935884952545166,
          10.057987213134766,
          10.225404739379883,
          7.668290615081787,
          1.7223459482192993,
          6.839556694030762,
          -1.0148358345031738,
          7.102874279022217,
          -0.8963698744773865,
          7.437004566192627,
          10.125065803527832,
          5.6136322021484375,
          7.35361385345459,
          -0.1615571230649948,
          -0.23662041127681732,
          10.045594215393066,
          10.172839164733887,
          6.7401018142700195,
          -1.5952911376953125,
          6.4722771644592285,
          6.549774646759033,
          -0.25014176964759827,
          5.434945106506348,
          9.95623779296875,
          10.228947639465332,
          10.047796249389648,
          10.04248046875,
          10.007128715515137,
          7.63401460647583,
          -1.6091203689575195,
          5.415649890899658
         ],
         "xaxis": "x",
         "y": [
          20.230484008789062,
          2.65049147605896,
          20.4420223236084,
          10.970860481262207,
          10.784998893737793,
          11.172533988952637,
          10.797003746032715,
          9.919024467468262,
          20.50855827331543,
          10.713348388671875,
          10.861178398132324,
          9.95313549041748,
          10.515599250793457,
          20.30753517150879,
          10.840422630310059,
          20.192930221557617,
          10.8718843460083,
          11.181645393371582,
          3.571824073791504,
          20.297285079956055,
          10.96654987335205,
          10.808892250061035,
          11.194482803344727,
          10.604083061218262,
          8.794827461242676,
          10.96485424041748,
          10.83926773071289,
          11.120413780212402,
          11.02199649810791,
          10.881474494934082,
          10.179726600646973,
          10.947311401367188,
          8.254990577697754,
          10.660650253295898,
          10.939043045043945,
          10.116020202636719,
          20.377561569213867,
          10.961604118347168,
          9.950506210327148,
          10.805296897888184,
          11.027983665466309,
          11.027485847473145,
          11.096518516540527,
          10.83016586303711,
          10.869861602783203,
          6.4667067527771,
          10.770522117614746,
          20.305246353149414,
          10.997820854187012,
          10.569565773010254,
          9.879956245422363,
          20.46443748474121,
          3.2178385257720947,
          11.436986923217773,
          11.000221252441406,
          10.827503204345703,
          7.796154975891113,
          10.941912651062012,
          10.904519081115723,
          10.461061477661133,
          9.981034278869629,
          10.564228057861328,
          10.703516006469727,
          7.965195178985596,
          20.501018524169922,
          20.444042205810547,
          10.773439407348633,
          10.34890365600586,
          10.784666061401367,
          3.7368266582489014,
          20.414794921875,
          20.42454719543457,
          10.858278274536133,
          11.095937728881836,
          10.879919052124023,
          5.005870819091797,
          10.828556060791016,
          5.275557518005371,
          10.631485939025879,
          20.326635360717773,
          11.043049812316895,
          10.870100021362305,
          9.982614517211914,
          8.112688064575195,
          20.362974166870117,
          20.24920654296875,
          10.686943054199219,
          3.1558573246002197,
          10.825630187988281,
          10.754672050476074,
          9.1299409866333,
          11.097482681274414,
          20.294504165649414,
          20.227270126342773,
          20.255754470825195,
          20.188217163085938,
          20.351459503173828,
          10.88420295715332,
          2.749552011489868,
          11.153672218322754
         ],
         "yaxis": "y",
         "type": "scatter"
        },
        {
         "hovertemplate": "Variant=Beta<br>0=%{x}<br>1=%{y}<extra></extra>",
         "legendgroup": "Beta",
         "marker": {
          "color": "#EF553B",
          "symbol": "circle"
         },
         "mode": "markers",
         "name": "Beta",
         "orientation": "v",
         "showlegend": true,
         "x": [
          -0.24092428386211395,
          3.0397117137908936,
          3.510692596435547,
          3.2255287170410156,
          0.2733806073665619,
          3.4412121772766113,
          1.9720336198806763,
          3.4378275871276855,
          1.8895922899246216,
          3.0876595973968506,
          1.8213577270507812,
          4.971940517425537,
          4.740200519561768,
          2.165064573287964,
          6.514617443084717,
          3.366684913635254,
          4.979331970214844,
          3.2563364505767822,
          -0.38280633091926575,
          3.437197208404541,
          2.479544162750244,
          6.634872913360596,
          0.9872932434082031,
          3.487163782119751,
          0.5990311503410339,
          3.2172091007232666,
          3.5884077548980713,
          4.727703094482422,
          3.2877306938171387,
          0.5658565163612366,
          1.9998458623886108,
          -1.4871242046356201,
          6.593445777893066,
          0.3211127817630768,
          2.2634642124176025,
          6.53206729888916,
          6.749037265777588,
          1.7045601606369019,
          4.905666351318359,
          6.688448429107666,
          1.7088253498077393,
          4.785263538360596,
          1.802646279335022,
          -0.12255768477916718,
          6.637911319732666,
          6.620327949523926,
          4.885687351226807,
          3.6833066940307617,
          3.5924456119537354,
          0.597847044467926,
          6.701610565185547,
          -0.5535966753959656,
          6.665399074554443,
          0.6757493019104004,
          3.3014373779296875,
          3.327120065689087,
          4.880043029785156,
          6.683492660522461,
          2.0001003742218018,
          -1.3405827283859253,
          -1.017408847808838,
          0.519256055355072,
          4.9403395652771,
          3.6511971950531006,
          3.104517698287964,
          3.4303088188171387,
          3.4434406757354736,
          2.5044045448303223,
          3.258303642272949,
          4.968658447265625,
          3.2446372509002686,
          2.0277602672576904,
          -1.5317038297653198,
          1.6281392574310303,
          3.4125609397888184,
          3.0840351581573486,
          3.7623469829559326,
          3.6948277950286865,
          3.372088670730591,
          4.929720878601074,
          3.4513778686523438,
          -1.1970826387405396,
          -1.6231874227523804,
          6.580034255981445,
          -1.2994582653045654,
          4.677303314208984,
          1.8338544368743896,
          3.698035717010498,
          1.8553065061569214,
          2.084855079650879,
          4.832629203796387,
          4.977568626403809,
          -1.6244441270828247,
          3.341219902038574,
          3.484104871749878,
          6.71841287612915,
          -0.1066250130534172,
          2.4740898609161377,
          3.3344459533691406,
          3.5037479400634766
         ],
         "xaxis": "x",
         "y": [
          8.033163070678711,
          11.855767250061035,
          12.666830062866211,
          12.193294525146484,
          9.032516479492188,
          12.271622657775879,
          11.067276000976562,
          11.903724670410156,
          10.999269485473633,
          12.128053665161133,
          10.707677841186523,
          16.247928619384766,
          15.957507133483887,
          11.2079496383667,
          7.15288782119751,
          12.289542198181152,
          16.25507164001465,
          11.969331741333008,
          7.846394062042236,
          12.60501766204834,
          11.424689292907715,
          7.037355899810791,
          9.86841869354248,
          12.579204559326172,
          9.39816665649414,
          12.359834671020508,
          12.199601173400879,
          15.943500518798828,
          12.19764232635498,
          9.361299514770508,
          11.049201011657715,
          3.123607873916626,
          7.077856063842773,
          9.210748672485352,
          11.029497146606445,
          7.122738361358643,
          6.925264358520508,
          10.633996963500977,
          16.174259185791016,
          6.982938289642334,
          10.65829086303711,
          16.002038955688477,
          10.650797843933105,
          8.192380905151367,
          7.034270286560059,
          7.050436496734619,
          16.155990600585938,
          12.199219703674316,
          12.303250312805176,
          9.477499961853027,
          6.972152233123779,
          10.325936317443848,
          7.005284309387207,
          9.497313499450684,
          12.410813331604004,
          12.201346397399902,
          16.147592544555664,
          6.9904608726501465,
          11.139006614685059,
          3.267982006072998,
          5.083558082580566,
          9.323983192443848,
          16.21587562561035,
          12.348897933959961,
          12.290850639343262,
          12.326579093933105,
          12.11041259765625,
          11.454972267150879,
          11.989764213562012,
          16.24800682067871,
          12.11892318725586,
          11.089019775390625,
          3.0521793365478516,
          10.570219039916992,
          12.180145263671875,
          12.004284858703613,
          12.150209426879883,
          11.93124008178711,
          12.420493125915527,
          16.201475143432617,
          12.663774490356445,
          3.7977075576782227,
          2.7189176082611084,
          7.090728759765625,
          3.5128185749053955,
          15.81396484375,
          10.763582229614258,
          12.148635864257812,
          10.99878978729248,
          11.091341018676758,
          16.098491668701172,
          16.21976089477539,
          2.9059884548187256,
          12.520613670349121,
          12.68153190612793,
          6.955147743225098,
          8.372092247009277,
          11.463408470153809,
          12.114312171936035,
          12.669836044311523
         ],
         "yaxis": "y",
         "type": "scatter"
        },
        {
         "hovertemplate": "Variant=Delta<br>0=%{x}<br>1=%{y}<extra></extra>",
         "legendgroup": "Delta",
         "marker": {
          "color": "#00cc96",
          "symbol": "circle"
         },
         "mode": "markers",
         "name": "Delta",
         "orientation": "v",
         "showlegend": true,
         "x": [
          3.0272343158721924,
          1.3811922073364258,
          2.104816436767578,
          1.959680438041687,
          20.525671005249023,
          19.721071243286133,
          19.26136016845703,
          3.2389464378356934,
          2.979323148727417,
          18.31355857849121,
          20.29085350036621,
          18.38911247253418,
          20.380321502685547,
          2.925367593765259,
          19.316293716430664,
          19.28553009033203,
          2.7119486331939697,
          2.218902826309204,
          18.22751235961914,
          18.340652465820312,
          20.4670467376709,
          19.613481521606445,
          1.3440247774124146,
          19.867218017578125,
          2.994994878768921,
          20.201885223388672,
          20.07703971862793,
          3.167968273162842,
          18.308063507080078,
          20.394954681396484,
          -0.9186593890190125,
          19.867244720458984,
          -1.3407377004623413,
          20.12202262878418,
          18.42306137084961,
          18.42296028137207,
          20.094518661499023,
          3.3182034492492676,
          3.9978182315826416,
          19.863107681274414,
          -0.36086443066596985,
          -1.0253584384918213,
          -0.897597074508667,
          20.42325210571289,
          2.920518636703491,
          18.37417984008789,
          -0.8867590427398682,
          1.6726343631744385,
          20.161252975463867,
          1.8881644010543823,
          2.9235737323760986,
          -0.9524617791175842,
          18.36642837524414,
          2.846043825149536,
          20.351118087768555,
          19.299758911132812,
          19.91018295288086,
          20.015138626098633,
          19.812118530273438,
          20.367351531982422,
          18.364315032958984,
          2.808067560195923,
          19.31139373779297,
          19.267902374267578,
          20.469358444213867,
          -0.644492506980896,
          2.0025622844696045,
          2.142989158630371,
          19.97701072692871,
          -1.2063060998916626,
          19.794605255126953,
          18.274309158325195,
          0.12307756394147873,
          20.28512954711914,
          20.344263076782227,
          18.31960105895996,
          18.315027236938477,
          3.031137704849243,
          -0.33961811661720276,
          1.8345602750778198,
          19.24666404724121,
          2.8678476810455322,
          -1.054294466972351,
          20.170795440673828,
          2.3470816612243652,
          2.8129923343658447,
          20.48456573486328,
          1.7258912324905396,
          1.9167014360427856,
          3.1567349433898926,
          20.166410446166992,
          20.367290496826172,
          -0.2285688817501068,
          4.265686511993408,
          1.7872861623764038,
          2.9068868160247803,
          18.601871490478516,
          19.85428810119629,
          19.27753448486328
         ],
         "xaxis": "x",
         "y": [
          9.114745140075684,
          9.333581924438477,
          9.505510330200195,
          9.403512954711914,
          4.571530818939209,
          4.308350086212158,
          4.6191325187683105,
          9.25126838684082,
          9.078433990478516,
          3.5530471801757812,
          4.127214431762695,
          3.43569278717041,
          4.399845600128174,
          9.104655265808105,
          4.569351673126221,
          4.630296230316162,
          9.304219245910645,
          9.410645484924316,
          3.5678014755249023,
          3.465306520462036,
          4.121675491333008,
          4.362267971038818,
          9.305593490600586,
          3.9989230632781982,
          9.188618659973145,
          4.04759407043457,
          4.2189040184021,
          9.180794715881348,
          3.4840452671051025,
          4.364731788635254,
          6.250991344451904,
          4.084324836730957,
          3.271611452102661,
          4.4173455238342285,
          3.5007407665252686,
          3.340468406677246,
          4.251424789428711,
          9.473138809204102,
          11.638649940490723,
          4.047428131103516,
          7.872536659240723,
          5.007889270782471,
          5.89931583404541,
          4.379582405090332,
          9.142853736877441,
          3.4337127208709717,
          6.755990982055664,
          9.321281433105469,
          4.368824005126953,
          9.511923789978027,
          9.139324188232422,
          5.1585917472839355,
          3.441683530807495,
          9.252471923828125,
          4.4285664558410645,
          4.636453628540039,
          3.925516128540039,
          4.231409072875977,
          3.9837088584899902,
          4.160065650939941,
          3.4659242630004883,
          9.21984577178955,
          4.638366222381592,
          4.664366722106934,
          4.118963241577148,
          7.743910312652588,
          9.4307861328125,
          9.46229076385498,
          4.126863479614258,
          3.647226333618164,
          4.336994647979736,
          3.5118443965911865,
          8.659688949584961,
          4.326205730438232,
          4.378875255584717,
          3.4812541007995605,
          3.5115177631378174,
          9.11307144165039,
          8.03004264831543,
          9.40291976928711,
          4.502538681030273,
          9.182422637939453,
          5.052595615386963,
          4.165685176849365,
          9.395477294921875,
          9.246533393859863,
          4.026303291320801,
          9.420541763305664,
          9.424453735351562,
          9.381157875061035,
          4.250187397003174,
          4.164700031280518,
          8.400282859802246,
          10.77978229522705,
          9.430522918701172,
          9.204143524169922,
          3.8220622539520264,
          4.07683801651001,
          4.643823146820068
         ],
         "yaxis": "y",
         "type": "scatter"
        },
        {
         "hovertemplate": "Variant=Gamma<br>0=%{x}<br>1=%{y}<extra></extra>",
         "legendgroup": "Gamma",
         "marker": {
          "color": "#ab63fa",
          "symbol": "circle"
         },
         "mode": "markers",
         "name": "Gamma",
         "orientation": "v",
         "showlegend": true,
         "x": [
          3.85095477104187,
          -1.1921254396438599,
          -0.771272599697113
         ],
         "xaxis": "x",
         "y": [
          11.842793464660645,
          3.733182907104492,
          6.9479875564575195
         ],
         "yaxis": "y",
         "type": "scatter"
        },
        {
         "hovertemplate": "Variant=Omicron<br>0=%{x}<br>1=%{y}<extra></extra>",
         "legendgroup": "Omicron",
         "marker": {
          "color": "#FFA15A",
          "symbol": "circle"
         },
         "mode": "markers",
         "name": "Omicron",
         "orientation": "v",
         "showlegend": true,
         "x": [
          -5.688632011413574,
          -0.7949389219284058,
          -5.926093101501465,
          -0.695077657699585,
          -5.5744147300720215,
          -1.1514267921447754,
          -5.389194488525391,
          -1.3784257173538208,
          -1.8156640529632568,
          -5.676337718963623,
          -5.594665050506592,
          -6.902341842651367,
          -6.665217876434326,
          -0.7326627373695374,
          -6.663248538970947,
          -1.8675209283828735,
          -5.449733734130859,
          -0.6303683519363403,
          -0.9127646088600159,
          -5.737114429473877,
          -0.707775890827179,
          -5.789761543273926,
          -1.9890855550765991,
          -6.860783576965332,
          -1.6208524703979492,
          -2.1313540935516357,
          -0.8907286524772644,
          -5.781368732452393,
          -1.1323200464248657,
          -0.7615417242050171,
          -0.93581223487854,
          -0.7648087739944458,
          -0.7314281463623047,
          -5.8444366455078125,
          -5.580728530883789,
          -5.5166096687316895,
          -6.909988880157471,
          -0.7228251695632935,
          -5.788028717041016,
          -1.0203309059143066,
          -6.978286266326904,
          -1.013219952583313,
          -6.010111331939697,
          -1.0548893213272095,
          -1.4813989400863647,
          -5.846159934997559,
          -2.293102264404297,
          -1.311754584312439,
          -5.861931324005127,
          -0.8907458782196045,
          -0.7574183344841003,
          -5.960446357727051,
          -0.7378884553909302,
          -0.9030452966690063,
          -1.1604584455490112,
          -6.037019729614258,
          -6.988641262054443,
          -5.580924987792969,
          -4.9127960205078125,
          -5.52337646484375,
          -6.035223484039307,
          -5.840644836425781,
          -0.6011160612106323,
          -2.0000603199005127,
          -1.2691160440444946,
          -5.76393985748291,
          -5.404607772827148,
          -0.9249389171600342,
          -5.902601718902588,
          -5.999395847320557,
          -1.0847197771072388,
          -5.766775131225586,
          -5.871588230133057,
          -1.7851439714431763,
          -5.917409420013428,
          -7.013269424438477,
          -6.980980396270752,
          -7.008000373840332,
          -6.592249870300293,
          -5.669003963470459,
          -1.9395700693130493,
          -6.634942054748535,
          -1.9904274940490723,
          -5.826406002044678,
          -5.539130210876465,
          -5.776645660400391,
          -5.585067272186279,
          -6.945442199707031,
          -1.391383409500122,
          -1.7015440464019775,
          -2.266009569168091,
          -2.066347360610962,
          -4.703856945037842,
          -6.849961280822754,
          -6.023453712463379,
          -5.484032154083252,
          -6.6726202964782715,
          -6.07298469543457,
          -6.980316162109375,
          6.400778770446777
         ],
         "xaxis": "x",
         "y": [
          16.388181686401367,
          8.83230209350586,
          16.444406509399414,
          7.348119258880615,
          16.351152420043945,
          9.88097858428955,
          16.452959060668945,
          3.067286729812622,
          10.446603775024414,
          16.481969833374023,
          16.389020919799805,
          17.503877639770508,
          17.244831085205078,
          6.648489952087402,
          17.240509033203125,
          10.522759437561035,
          16.41055679321289,
          9.482911109924316,
          5.773050785064697,
          16.474254608154297,
          8.736942291259766,
          14.991582870483398,
          10.56264877319336,
          17.456724166870117,
          10.355095863342285,
          10.599067687988281,
          6.065462589263916,
          16.42304039001465,
          9.78406810760498,
          7.786931037902832,
          6.798113822937012,
          8.671024322509766,
          8.263287544250488,
          15.057127952575684,
          16.445058822631836,
          16.34833335876465,
          17.513517379760742,
          8.713658332824707,
          15.617138862609863,
          4.988635063171387,
          17.582117080688477,
          9.966625213623047,
          15.45305061340332,
          4.803022861480713,
          10.056931495666504,
          16.53217124938965,
          10.608565330505371,
          3.486083507537842,
          15.446917533874512,
          6.805098533630371,
          6.81191873550415,
          16.3856201171875,
          8.868980407714844,
          5.776260852813721,
          3.8287978172302246,
          15.543734550476074,
          17.590641021728516,
          16.347333908081055,
          10.307547569274902,
          16.343273162841797,
          15.427373886108398,
          15.075972557067871,
          9.353940963745117,
          10.586482048034668,
          9.942922592163086,
          15.676066398620605,
          16.23208999633789,
          7.9400835037231445,
          15.357599258422852,
          15.499351501464844,
          9.73536205291748,
          16.505136489868164,
          15.540736198425293,
          10.464072227478027,
          15.527807235717773,
          17.619218826293945,
          17.58560562133789,
          17.617834091186523,
          17.15982437133789,
          16.479917526245117,
          10.496758460998535,
          17.205181121826172,
          10.471213340759277,
          16.361164093017578,
          16.30014419555664,
          16.6018009185791,
          16.257173538208008,
          17.544254302978516,
          10.158583641052246,
          2.6444265842437744,
          10.600387573242188,
          10.52911376953125,
          10.277313232421875,
          17.4443416595459,
          16.506044387817383,
          16.47734260559082,
          17.254419326782227,
          15.595932006835938,
          17.58523178100586,
          7.2518815994262695
         ],
         "yaxis": "y",
         "type": "scatter"
        },
        {
         "hovertemplate": "Variant=Omicron Sub<br>0=%{x}<br>1=%{y}<extra></extra>",
         "legendgroup": "Omicron Sub",
         "marker": {
          "color": "#19d3f3",
          "symbol": "circle"
         },
         "mode": "markers",
         "name": "Omicron Sub",
         "orientation": "v",
         "showlegend": true,
         "x": [
          -3.0722272396087646,
          -1.3255283832550049,
          -2.4203052520751953,
          -0.9599317312240601,
          -6.469937801361084,
          -6.599559307098389,
          -6.332322120666504,
          -5.954132080078125,
          -0.6360877752304077,
          -6.657595634460449,
          -2.6899468898773193,
          -6.169228553771973,
          -4.945976734161377,
          -0.6951529383659363,
          -0.9769596457481384,
          -1.4366135597229004,
          -2.5212807655334473,
          -6.50861930847168,
          -0.8511749505996704,
          -5.050541877746582,
          -2.426398277282715,
          -1.6370645761489868,
          -6.4867024421691895,
          -6.3981475830078125,
          -4.415534496307373,
          -6.64965295791626,
          -0.9493582844734192,
          -0.971092164516449,
          -0.9098499417304993,
          -4.983449935913086,
          -0.7773351073265076,
          -6.542262077331543,
          -6.300027370452881,
          -2.472933292388916,
          -2.3955185413360596,
          -5.6259002685546875,
          -0.9613766670227051,
          -2.282637357711792,
          -1.1380442380905151,
          -0.9201492667198181,
          -6.732990741729736,
          -1.5768998861312866,
          -0.815043568611145,
          -0.9613238573074341,
          -1.4745478630065918,
          -5.346237659454346,
          -0.9431270956993103,
          -0.8666480779647827,
          -3.0201878547668457,
          -6.29066801071167,
          -4.759763717651367,
          -0.7254155278205872,
          -6.642699718475342,
          -0.7852470874786377,
          -0.8250569105148315,
          -6.159034252166748,
          -0.7582082152366638,
          -4.890366077423096,
          -4.792118549346924,
          -0.6848713755607605,
          -6.608256816864014,
          -6.785039901733398,
          -2.27781343460083,
          -6.181548595428467,
          -6.8590006828308105,
          -4.946416854858398,
          -4.922473907470703,
          -0.9173367619514465,
          -2.781337261199951,
          -2.7930655479431152,
          -6.798562049865723,
          -0.77508544921875,
          -6.466795444488525,
          -4.986975193023682,
          -2.9270429611206055,
          -1.802211046218872,
          -0.7928887009620667,
          -6.673672199249268,
          -0.7525373101234436,
          -6.733919143676758,
          -2.2158796787261963,
          -0.772346019744873,
          -2.038743257522583,
          -2.3508927822113037,
          -0.9868236184120178,
          -0.9992552399635315,
          -6.052651882171631,
          -1.6481376886367798,
          -6.801733493804932,
          -5.963573455810547,
          -6.029746055603027,
          -4.924065113067627,
          -0.9486483335494995
         ],
         "xaxis": "x",
         "y": [
          10.150879859924316,
          3.5636515617370605,
          10.294053077697754,
          10.296537399291992,
          10.174760818481445,
          10.04347038269043,
          10.17143726348877,
          10.085015296936035,
          7.5922064781188965,
          10.00087833404541,
          10.380093574523926,
          9.954641342163086,
          10.315890312194824,
          7.0007243156433105,
          5.142061710357666,
          3.100253105163574,
          10.367175102233887,
          10.14732837677002,
          6.945475101470947,
          10.3026762008667,
          10.290794372558594,
          2.7413368225097656,
          10.232710838317871,
          10.14404010772705,
          10.286114692687988,
          10.019950866699219,
          7.993036270141602,
          7.927404403686523,
          8.136223793029785,
          10.303833961486816,
          6.847590923309326,
          10.195631980895996,
          10.059078216552734,
          10.245168685913086,
          10.311870574951172,
          10.13415813446045,
          7.991541385650635,
          10.148427963256836,
          9.851205825805664,
          6.387582302093506,
          9.946235656738281,
          2.811959743499756,
          8.518385887145996,
          5.12265682220459,
          3.0207207202911377,
          10.235984802246094,
          6.738646984100342,
          7.915136337280273,
          10.218770027160645,
          9.963968276977539,
          10.227675437927246,
          8.087092399597168,
          10.074889183044434,
          9.180366516113281,
          6.752181053161621,
          10.0576810836792,
          8.608402252197266,
          10.29199504852295,
          10.286012649536133,
          7.652162551879883,
          9.838854789733887,
          9.893081665039062,
          10.290136337280273,
          10.005338668823242,
          9.792040824890137,
          10.286791801452637,
          10.269070625305176,
          5.271852493286133,
          10.273855209350586,
          10.343358993530273,
          9.846315383911133,
          7.462258815765381,
          10.091137886047363,
          10.321635246276855,
          10.292725563049316,
          10.164962768554688,
          8.956123352050781,
          9.877129554748535,
          7.707096576690674,
          9.910828590393066,
          10.174759864807129,
          8.503600120544434,
          10.144661903381348,
          10.17324447631836,
          5.13823938369751,
          10.301094055175781,
          15.507237434387207,
          2.7274818420410156,
          9.887165069580078,
          10.093035697937012,
          10.055238723754883,
          10.31466293334961,
          6.804810523986816
         ],
         "yaxis": "y",
         "type": "scatter"
        }
       ],
       "layout": {
        "template": {
         "data": {
          "histogram2dcontour": [
           {
            "type": "histogram2dcontour",
            "colorbar": {
             "outlinewidth": 0,
             "ticks": ""
            },
            "colorscale": [
             [
              0.0,
              "#0d0887"
             ],
             [
              0.1111111111111111,
              "#46039f"
             ],
             [
              0.2222222222222222,
              "#7201a8"
             ],
             [
              0.3333333333333333,
              "#9c179e"
             ],
             [
              0.4444444444444444,
              "#bd3786"
             ],
             [
              0.5555555555555556,
              "#d8576b"
             ],
             [
              0.6666666666666666,
              "#ed7953"
             ],
             [
              0.7777777777777778,
              "#fb9f3a"
             ],
             [
              0.8888888888888888,
              "#fdca26"
             ],
             [
              1.0,
              "#f0f921"
             ]
            ]
           }
          ],
          "choropleth": [
           {
            "type": "choropleth",
            "colorbar": {
             "outlinewidth": 0,
             "ticks": ""
            }
           }
          ],
          "histogram2d": [
           {
            "type": "histogram2d",
            "colorbar": {
             "outlinewidth": 0,
             "ticks": ""
            },
            "colorscale": [
             [
              0.0,
              "#0d0887"
             ],
             [
              0.1111111111111111,
              "#46039f"
             ],
             [
              0.2222222222222222,
              "#7201a8"
             ],
             [
              0.3333333333333333,
              "#9c179e"
             ],
             [
              0.4444444444444444,
              "#bd3786"
             ],
             [
              0.5555555555555556,
              "#d8576b"
             ],
             [
              0.6666666666666666,
              "#ed7953"
             ],
             [
              0.7777777777777778,
              "#fb9f3a"
             ],
             [
              0.8888888888888888,
              "#fdca26"
             ],
             [
              1.0,
              "#f0f921"
             ]
            ]
           }
          ],
          "heatmap": [
           {
            "type": "heatmap",
            "colorbar": {
             "outlinewidth": 0,
             "ticks": ""
            },
            "colorscale": [
             [
              0.0,
              "#0d0887"
             ],
             [
              0.1111111111111111,
              "#46039f"
             ],
             [
              0.2222222222222222,
              "#7201a8"
             ],
             [
              0.3333333333333333,
              "#9c179e"
             ],
             [
              0.4444444444444444,
              "#bd3786"
             ],
             [
              0.5555555555555556,
              "#d8576b"
             ],
             [
              0.6666666666666666,
              "#ed7953"
             ],
             [
              0.7777777777777778,
              "#fb9f3a"
             ],
             [
              0.8888888888888888,
              "#fdca26"
             ],
             [
              1.0,
              "#f0f921"
             ]
            ]
           }
          ],
          "heatmapgl": [
           {
            "type": "heatmapgl",
            "colorbar": {
             "outlinewidth": 0,
             "ticks": ""
            },
            "colorscale": [
             [
              0.0,
              "#0d0887"
             ],
             [
              0.1111111111111111,
              "#46039f"
             ],
             [
              0.2222222222222222,
              "#7201a8"
             ],
             [
              0.3333333333333333,
              "#9c179e"
             ],
             [
              0.4444444444444444,
              "#bd3786"
             ],
             [
              0.5555555555555556,
              "#d8576b"
             ],
             [
              0.6666666666666666,
              "#ed7953"
             ],
             [
              0.7777777777777778,
              "#fb9f3a"
             ],
             [
              0.8888888888888888,
              "#fdca26"
             ],
             [
              1.0,
              "#f0f921"
             ]
            ]
           }
          ],
          "contourcarpet": [
           {
            "type": "contourcarpet",
            "colorbar": {
             "outlinewidth": 0,
             "ticks": ""
            }
           }
          ],
          "contour": [
           {
            "type": "contour",
            "colorbar": {
             "outlinewidth": 0,
             "ticks": ""
            },
            "colorscale": [
             [
              0.0,
              "#0d0887"
             ],
             [
              0.1111111111111111,
              "#46039f"
             ],
             [
              0.2222222222222222,
              "#7201a8"
             ],
             [
              0.3333333333333333,
              "#9c179e"
             ],
             [
              0.4444444444444444,
              "#bd3786"
             ],
             [
              0.5555555555555556,
              "#d8576b"
             ],
             [
              0.6666666666666666,
              "#ed7953"
             ],
             [
              0.7777777777777778,
              "#fb9f3a"
             ],
             [
              0.8888888888888888,
              "#fdca26"
             ],
             [
              1.0,
              "#f0f921"
             ]
            ]
           }
          ],
          "surface": [
           {
            "type": "surface",
            "colorbar": {
             "outlinewidth": 0,
             "ticks": ""
            },
            "colorscale": [
             [
              0.0,
              "#0d0887"
             ],
             [
              0.1111111111111111,
              "#46039f"
             ],
             [
              0.2222222222222222,
              "#7201a8"
             ],
             [
              0.3333333333333333,
              "#9c179e"
             ],
             [
              0.4444444444444444,
              "#bd3786"
             ],
             [
              0.5555555555555556,
              "#d8576b"
             ],
             [
              0.6666666666666666,
              "#ed7953"
             ],
             [
              0.7777777777777778,
              "#fb9f3a"
             ],
             [
              0.8888888888888888,
              "#fdca26"
             ],
             [
              1.0,
              "#f0f921"
             ]
            ]
           }
          ],
          "mesh3d": [
           {
            "type": "mesh3d",
            "colorbar": {
             "outlinewidth": 0,
             "ticks": ""
            }
           }
          ],
          "scatter": [
           {
            "fillpattern": {
             "fillmode": "overlay",
             "size": 10,
             "solidity": 0.2
            },
            "type": "scatter"
           }
          ],
          "parcoords": [
           {
            "type": "parcoords",
            "line": {
             "colorbar": {
              "outlinewidth": 0,
              "ticks": ""
             }
            }
           }
          ],
          "scatterpolargl": [
           {
            "type": "scatterpolargl",
            "marker": {
             "colorbar": {
              "outlinewidth": 0,
              "ticks": ""
             }
            }
           }
          ],
          "bar": [
           {
            "error_x": {
             "color": "#2a3f5f"
            },
            "error_y": {
             "color": "#2a3f5f"
            },
            "marker": {
             "line": {
              "color": "#E5ECF6",
              "width": 0.5
             },
             "pattern": {
              "fillmode": "overlay",
              "size": 10,
              "solidity": 0.2
             }
            },
            "type": "bar"
           }
          ],
          "scattergeo": [
           {
            "type": "scattergeo",
            "marker": {
             "colorbar": {
              "outlinewidth": 0,
              "ticks": ""
             }
            }
           }
          ],
          "scatterpolar": [
           {
            "type": "scatterpolar",
            "marker": {
             "colorbar": {
              "outlinewidth": 0,
              "ticks": ""
             }
            }
           }
          ],
          "histogram": [
           {
            "marker": {
             "pattern": {
              "fillmode": "overlay",
              "size": 10,
              "solidity": 0.2
             }
            },
            "type": "histogram"
           }
          ],
          "scattergl": [
           {
            "type": "scattergl",
            "marker": {
             "colorbar": {
              "outlinewidth": 0,
              "ticks": ""
             }
            }
           }
          ],
          "scatter3d": [
           {
            "type": "scatter3d",
            "line": {
             "colorbar": {
              "outlinewidth": 0,
              "ticks": ""
             }
            },
            "marker": {
             "colorbar": {
              "outlinewidth": 0,
              "ticks": ""
             }
            }
           }
          ],
          "scattermapbox": [
           {
            "type": "scattermapbox",
            "marker": {
             "colorbar": {
              "outlinewidth": 0,
              "ticks": ""
             }
            }
           }
          ],
          "scatterternary": [
           {
            "type": "scatterternary",
            "marker": {
             "colorbar": {
              "outlinewidth": 0,
              "ticks": ""
             }
            }
           }
          ],
          "scattercarpet": [
           {
            "type": "scattercarpet",
            "marker": {
             "colorbar": {
              "outlinewidth": 0,
              "ticks": ""
             }
            }
           }
          ],
          "carpet": [
           {
            "aaxis": {
             "endlinecolor": "#2a3f5f",
             "gridcolor": "white",
             "linecolor": "white",
             "minorgridcolor": "white",
             "startlinecolor": "#2a3f5f"
            },
            "baxis": {
             "endlinecolor": "#2a3f5f",
             "gridcolor": "white",
             "linecolor": "white",
             "minorgridcolor": "white",
             "startlinecolor": "#2a3f5f"
            },
            "type": "carpet"
           }
          ],
          "table": [
           {
            "cells": {
             "fill": {
              "color": "#EBF0F8"
             },
             "line": {
              "color": "white"
             }
            },
            "header": {
             "fill": {
              "color": "#C8D4E3"
             },
             "line": {
              "color": "white"
             }
            },
            "type": "table"
           }
          ],
          "barpolar": [
           {
            "marker": {
             "line": {
              "color": "#E5ECF6",
              "width": 0.5
             },
             "pattern": {
              "fillmode": "overlay",
              "size": 10,
              "solidity": 0.2
             }
            },
            "type": "barpolar"
           }
          ],
          "pie": [
           {
            "automargin": true,
            "type": "pie"
           }
          ]
         },
         "layout": {
          "autotypenumbers": "strict",
          "colorway": [
           "#636efa",
           "#EF553B",
           "#00cc96",
           "#ab63fa",
           "#FFA15A",
           "#19d3f3",
           "#FF6692",
           "#B6E880",
           "#FF97FF",
           "#FECB52"
          ],
          "font": {
           "color": "#2a3f5f"
          },
          "hovermode": "closest",
          "hoverlabel": {
           "align": "left"
          },
          "paper_bgcolor": "white",
          "plot_bgcolor": "#E5ECF6",
          "polar": {
           "bgcolor": "#E5ECF6",
           "angularaxis": {
            "gridcolor": "white",
            "linecolor": "white",
            "ticks": ""
           },
           "radialaxis": {
            "gridcolor": "white",
            "linecolor": "white",
            "ticks": ""
           }
          },
          "ternary": {
           "bgcolor": "#E5ECF6",
           "aaxis": {
            "gridcolor": "white",
            "linecolor": "white",
            "ticks": ""
           },
           "baxis": {
            "gridcolor": "white",
            "linecolor": "white",
            "ticks": ""
           },
           "caxis": {
            "gridcolor": "white",
            "linecolor": "white",
            "ticks": ""
           }
          },
          "coloraxis": {
           "colorbar": {
            "outlinewidth": 0,
            "ticks": ""
           }
          },
          "colorscale": {
           "sequential": [
            [
             0.0,
             "#0d0887"
            ],
            [
             0.1111111111111111,
             "#46039f"
            ],
            [
             0.2222222222222222,
             "#7201a8"
            ],
            [
             0.3333333333333333,
             "#9c179e"
            ],
            [
             0.4444444444444444,
             "#bd3786"
            ],
            [
             0.5555555555555556,
             "#d8576b"
            ],
            [
             0.6666666666666666,
             "#ed7953"
            ],
            [
             0.7777777777777778,
             "#fb9f3a"
            ],
            [
             0.8888888888888888,
             "#fdca26"
            ],
            [
             1.0,
             "#f0f921"
            ]
           ],
           "sequentialminus": [
            [
             0.0,
             "#0d0887"
            ],
            [
             0.1111111111111111,
             "#46039f"
            ],
            [
             0.2222222222222222,
             "#7201a8"
            ],
            [
             0.3333333333333333,
             "#9c179e"
            ],
            [
             0.4444444444444444,
             "#bd3786"
            ],
            [
             0.5555555555555556,
             "#d8576b"
            ],
            [
             0.6666666666666666,
             "#ed7953"
            ],
            [
             0.7777777777777778,
             "#fb9f3a"
            ],
            [
             0.8888888888888888,
             "#fdca26"
            ],
            [
             1.0,
             "#f0f921"
            ]
           ],
           "diverging": [
            [
             0,
             "#8e0152"
            ],
            [
             0.1,
             "#c51b7d"
            ],
            [
             0.2,
             "#de77ae"
            ],
            [
             0.3,
             "#f1b6da"
            ],
            [
             0.4,
             "#fde0ef"
            ],
            [
             0.5,
             "#f7f7f7"
            ],
            [
             0.6,
             "#e6f5d0"
            ],
            [
             0.7,
             "#b8e186"
            ],
            [
             0.8,
             "#7fbc41"
            ],
            [
             0.9,
             "#4d9221"
            ],
            [
             1,
             "#276419"
            ]
           ]
          },
          "xaxis": {
           "gridcolor": "white",
           "linecolor": "white",
           "ticks": "",
           "title": {
            "standoff": 15
           },
           "zerolinecolor": "white",
           "automargin": true,
           "zerolinewidth": 2
          },
          "yaxis": {
           "gridcolor": "white",
           "linecolor": "white",
           "ticks": "",
           "title": {
            "standoff": 15
           },
           "zerolinecolor": "white",
           "automargin": true,
           "zerolinewidth": 2
          },
          "scene": {
           "xaxis": {
            "backgroundcolor": "#E5ECF6",
            "gridcolor": "white",
            "linecolor": "white",
            "showbackground": true,
            "ticks": "",
            "zerolinecolor": "white",
            "gridwidth": 2
           },
           "yaxis": {
            "backgroundcolor": "#E5ECF6",
            "gridcolor": "white",
            "linecolor": "white",
            "showbackground": true,
            "ticks": "",
            "zerolinecolor": "white",
            "gridwidth": 2
           },
           "zaxis": {
            "backgroundcolor": "#E5ECF6",
            "gridcolor": "white",
            "linecolor": "white",
            "showbackground": true,
            "ticks": "",
            "zerolinecolor": "white",
            "gridwidth": 2
           }
          },
          "shapedefaults": {
           "line": {
            "color": "#2a3f5f"
           }
          },
          "annotationdefaults": {
           "arrowcolor": "#2a3f5f",
           "arrowhead": 0,
           "arrowwidth": 1
          },
          "geo": {
           "bgcolor": "white",
           "landcolor": "#E5ECF6",
           "subunitcolor": "white",
           "showland": true,
           "showlakes": true,
           "lakecolor": "white"
          },
          "title": {
           "x": 0.05
          },
          "mapbox": {
           "style": "light"
          }
         }
        },
        "xaxis": {
         "anchor": "y",
         "domain": [
          0.0,
          1.0
         ],
         "title": {
          "text": "UMAP_1"
         },
         "showgrid": false,
         "zeroline": false
        },
        "yaxis": {
         "anchor": "x",
         "domain": [
          0.0,
          1.0
         ],
         "title": {
          "text": "UMAP_2"
         },
         "showgrid": false,
         "zeroline": false
        },
        "legend": {
         "title": {
          "text": "Variant"
         },
         "tracegroupgap": 0
        },
        "margin": {
         "t": 60
        },
        "font": {
         "family": "Courier New, monospace",
         "size": 18,
         "color": "RebeccaPurple"
        }
       },
       "config": {
        "plotlyServerURL": "https://plot.ly"
       }
      },
      "text/html": "<div>                            <div id=\"76ace6d9-4b5a-42df-b84a-2eeaa7d213c4\" class=\"plotly-graph-div\" style=\"height:525px; width:100%;\"></div>            <script type=\"text/javascript\">                require([\"plotly\"], function(Plotly) {                    window.PLOTLYENV=window.PLOTLYENV || {};                                    if (document.getElementById(\"76ace6d9-4b5a-42df-b84a-2eeaa7d213c4\")) {                    Plotly.newPlot(                        \"76ace6d9-4b5a-42df-b84a-2eeaa7d213c4\",                        [{\"hovertemplate\":\"Variant=Alpha\\u003cbr\\u003e0=%{x}\\u003cbr\\u003e1=%{y}\\u003cextra\\u003e\\u003c\\u002fextra\\u003e\",\"legendgroup\":\"Alpha\",\"marker\":{\"color\":\"#636efa\",\"symbol\":\"circle\"},\"mode\":\"markers\",\"name\":\"Alpha\",\"orientation\":\"v\",\"showlegend\":true,\"x\":[10.192342758178711,-1.6941310167312622,10.183317184448242,5.211721420288086,6.647911071777344,5.288311958312988,6.926830291748047,-0.278715580701828,10.227336883544922,7.4090776443481445,6.40194845199585,0.8254748582839966,7.002054691314697,10.066461563110352,7.615289688110352,10.210616111755371,6.909914493560791,2.2148427963256836,-1.2185423374176025,10.030525207519531,7.242768287658691,6.518218040466309,5.2966742515563965,7.547775745391846,-0.4284304082393646,7.542233467102051,7.532416343688965,5.204617023468018,5.813412666320801,7.525251388549805,-0.3851873576641083,7.619421005249023,-0.26966342329978943,7.569216251373291,7.012368202209473,-0.2872263491153717,10.174159049987793,5.588374614715576,-0.028777403756976128,6.767156600952148,7.339814186096191,7.149859428405762,5.3962907791137695,7.655387878417969,1.3878588676452637,-0.8329089283943176,6.778143405914307,10.181262969970703,5.529435634613037,7.410297393798828,0.28771594166755676,10.259867668151855,-1.3238370418548584,4.853618621826172,5.924424171447754,7.623844146728516,-0.338548868894577,6.9782843589782715,7.1085944175720215,1.3607177734375,-0.15839783847332,7.328426837921143,6.823133945465088,-0.22784677147865295,9.950157165527344,9.926362037658691,7.5849289894104,0.8560038208961487,7.625448226928711,-1.1935884952545166,10.057987213134766,10.225404739379883,7.668290615081787,1.7223459482192993,6.839556694030762,-1.0148358345031738,7.102874279022217,-0.8963698744773865,7.437004566192627,10.125065803527832,5.6136322021484375,7.35361385345459,-0.1615571230649948,-0.23662041127681732,10.045594215393066,10.172839164733887,6.7401018142700195,-1.5952911376953125,6.4722771644592285,6.549774646759033,-0.25014176964759827,5.434945106506348,9.95623779296875,10.228947639465332,10.047796249389648,10.04248046875,10.007128715515137,7.63401460647583,-1.6091203689575195,5.415649890899658],\"xaxis\":\"x\",\"y\":[20.230484008789062,2.65049147605896,20.4420223236084,10.970860481262207,10.784998893737793,11.172533988952637,10.797003746032715,9.919024467468262,20.50855827331543,10.713348388671875,10.861178398132324,9.95313549041748,10.515599250793457,20.30753517150879,10.840422630310059,20.192930221557617,10.8718843460083,11.181645393371582,3.571824073791504,20.297285079956055,10.96654987335205,10.808892250061035,11.194482803344727,10.604083061218262,8.794827461242676,10.96485424041748,10.83926773071289,11.120413780212402,11.02199649810791,10.881474494934082,10.179726600646973,10.947311401367188,8.254990577697754,10.660650253295898,10.939043045043945,10.116020202636719,20.377561569213867,10.961604118347168,9.950506210327148,10.805296897888184,11.027983665466309,11.027485847473145,11.096518516540527,10.83016586303711,10.869861602783203,6.4667067527771,10.770522117614746,20.305246353149414,10.997820854187012,10.569565773010254,9.879956245422363,20.46443748474121,3.2178385257720947,11.436986923217773,11.000221252441406,10.827503204345703,7.796154975891113,10.941912651062012,10.904519081115723,10.461061477661133,9.981034278869629,10.564228057861328,10.703516006469727,7.965195178985596,20.501018524169922,20.444042205810547,10.773439407348633,10.34890365600586,10.784666061401367,3.7368266582489014,20.414794921875,20.42454719543457,10.858278274536133,11.095937728881836,10.879919052124023,5.005870819091797,10.828556060791016,5.275557518005371,10.631485939025879,20.326635360717773,11.043049812316895,10.870100021362305,9.982614517211914,8.112688064575195,20.362974166870117,20.24920654296875,10.686943054199219,3.1558573246002197,10.825630187988281,10.754672050476074,9.1299409866333,11.097482681274414,20.294504165649414,20.227270126342773,20.255754470825195,20.188217163085938,20.351459503173828,10.88420295715332,2.749552011489868,11.153672218322754],\"yaxis\":\"y\",\"type\":\"scatter\"},{\"hovertemplate\":\"Variant=Beta\\u003cbr\\u003e0=%{x}\\u003cbr\\u003e1=%{y}\\u003cextra\\u003e\\u003c\\u002fextra\\u003e\",\"legendgroup\":\"Beta\",\"marker\":{\"color\":\"#EF553B\",\"symbol\":\"circle\"},\"mode\":\"markers\",\"name\":\"Beta\",\"orientation\":\"v\",\"showlegend\":true,\"x\":[-0.24092428386211395,3.0397117137908936,3.510692596435547,3.2255287170410156,0.2733806073665619,3.4412121772766113,1.9720336198806763,3.4378275871276855,1.8895922899246216,3.0876595973968506,1.8213577270507812,4.971940517425537,4.740200519561768,2.165064573287964,6.514617443084717,3.366684913635254,4.979331970214844,3.2563364505767822,-0.38280633091926575,3.437197208404541,2.479544162750244,6.634872913360596,0.9872932434082031,3.487163782119751,0.5990311503410339,3.2172091007232666,3.5884077548980713,4.727703094482422,3.2877306938171387,0.5658565163612366,1.9998458623886108,-1.4871242046356201,6.593445777893066,0.3211127817630768,2.2634642124176025,6.53206729888916,6.749037265777588,1.7045601606369019,4.905666351318359,6.688448429107666,1.7088253498077393,4.785263538360596,1.802646279335022,-0.12255768477916718,6.637911319732666,6.620327949523926,4.885687351226807,3.6833066940307617,3.5924456119537354,0.597847044467926,6.701610565185547,-0.5535966753959656,6.665399074554443,0.6757493019104004,3.3014373779296875,3.327120065689087,4.880043029785156,6.683492660522461,2.0001003742218018,-1.3405827283859253,-1.017408847808838,0.519256055355072,4.9403395652771,3.6511971950531006,3.104517698287964,3.4303088188171387,3.4434406757354736,2.5044045448303223,3.258303642272949,4.968658447265625,3.2446372509002686,2.0277602672576904,-1.5317038297653198,1.6281392574310303,3.4125609397888184,3.0840351581573486,3.7623469829559326,3.6948277950286865,3.372088670730591,4.929720878601074,3.4513778686523438,-1.1970826387405396,-1.6231874227523804,6.580034255981445,-1.2994582653045654,4.677303314208984,1.8338544368743896,3.698035717010498,1.8553065061569214,2.084855079650879,4.832629203796387,4.977568626403809,-1.6244441270828247,3.341219902038574,3.484104871749878,6.71841287612915,-0.1066250130534172,2.4740898609161377,3.3344459533691406,3.5037479400634766],\"xaxis\":\"x\",\"y\":[8.033163070678711,11.855767250061035,12.666830062866211,12.193294525146484,9.032516479492188,12.271622657775879,11.067276000976562,11.903724670410156,10.999269485473633,12.128053665161133,10.707677841186523,16.247928619384766,15.957507133483887,11.2079496383667,7.15288782119751,12.289542198181152,16.25507164001465,11.969331741333008,7.846394062042236,12.60501766204834,11.424689292907715,7.037355899810791,9.86841869354248,12.579204559326172,9.39816665649414,12.359834671020508,12.199601173400879,15.943500518798828,12.19764232635498,9.361299514770508,11.049201011657715,3.123607873916626,7.077856063842773,9.210748672485352,11.029497146606445,7.122738361358643,6.925264358520508,10.633996963500977,16.174259185791016,6.982938289642334,10.65829086303711,16.002038955688477,10.650797843933105,8.192380905151367,7.034270286560059,7.050436496734619,16.155990600585938,12.199219703674316,12.303250312805176,9.477499961853027,6.972152233123779,10.325936317443848,7.005284309387207,9.497313499450684,12.410813331604004,12.201346397399902,16.147592544555664,6.9904608726501465,11.139006614685059,3.267982006072998,5.083558082580566,9.323983192443848,16.21587562561035,12.348897933959961,12.290850639343262,12.326579093933105,12.11041259765625,11.454972267150879,11.989764213562012,16.24800682067871,12.11892318725586,11.089019775390625,3.0521793365478516,10.570219039916992,12.180145263671875,12.004284858703613,12.150209426879883,11.93124008178711,12.420493125915527,16.201475143432617,12.663774490356445,3.7977075576782227,2.7189176082611084,7.090728759765625,3.5128185749053955,15.81396484375,10.763582229614258,12.148635864257812,10.99878978729248,11.091341018676758,16.098491668701172,16.21976089477539,2.9059884548187256,12.520613670349121,12.68153190612793,6.955147743225098,8.372092247009277,11.463408470153809,12.114312171936035,12.669836044311523],\"yaxis\":\"y\",\"type\":\"scatter\"},{\"hovertemplate\":\"Variant=Delta\\u003cbr\\u003e0=%{x}\\u003cbr\\u003e1=%{y}\\u003cextra\\u003e\\u003c\\u002fextra\\u003e\",\"legendgroup\":\"Delta\",\"marker\":{\"color\":\"#00cc96\",\"symbol\":\"circle\"},\"mode\":\"markers\",\"name\":\"Delta\",\"orientation\":\"v\",\"showlegend\":true,\"x\":[3.0272343158721924,1.3811922073364258,2.104816436767578,1.959680438041687,20.525671005249023,19.721071243286133,19.26136016845703,3.2389464378356934,2.979323148727417,18.31355857849121,20.29085350036621,18.38911247253418,20.380321502685547,2.925367593765259,19.316293716430664,19.28553009033203,2.7119486331939697,2.218902826309204,18.22751235961914,18.340652465820312,20.4670467376709,19.613481521606445,1.3440247774124146,19.867218017578125,2.994994878768921,20.201885223388672,20.07703971862793,3.167968273162842,18.308063507080078,20.394954681396484,-0.9186593890190125,19.867244720458984,-1.3407377004623413,20.12202262878418,18.42306137084961,18.42296028137207,20.094518661499023,3.3182034492492676,3.9978182315826416,19.863107681274414,-0.36086443066596985,-1.0253584384918213,-0.897597074508667,20.42325210571289,2.920518636703491,18.37417984008789,-0.8867590427398682,1.6726343631744385,20.161252975463867,1.8881644010543823,2.9235737323760986,-0.9524617791175842,18.36642837524414,2.846043825149536,20.351118087768555,19.299758911132812,19.91018295288086,20.015138626098633,19.812118530273438,20.367351531982422,18.364315032958984,2.808067560195923,19.31139373779297,19.267902374267578,20.469358444213867,-0.644492506980896,2.0025622844696045,2.142989158630371,19.97701072692871,-1.2063060998916626,19.794605255126953,18.274309158325195,0.12307756394147873,20.28512954711914,20.344263076782227,18.31960105895996,18.315027236938477,3.031137704849243,-0.33961811661720276,1.8345602750778198,19.24666404724121,2.8678476810455322,-1.054294466972351,20.170795440673828,2.3470816612243652,2.8129923343658447,20.48456573486328,1.7258912324905396,1.9167014360427856,3.1567349433898926,20.166410446166992,20.367290496826172,-0.2285688817501068,4.265686511993408,1.7872861623764038,2.9068868160247803,18.601871490478516,19.85428810119629,19.27753448486328],\"xaxis\":\"x\",\"y\":[9.114745140075684,9.333581924438477,9.505510330200195,9.403512954711914,4.571530818939209,4.308350086212158,4.6191325187683105,9.25126838684082,9.078433990478516,3.5530471801757812,4.127214431762695,3.43569278717041,4.399845600128174,9.104655265808105,4.569351673126221,4.630296230316162,9.304219245910645,9.410645484924316,3.5678014755249023,3.465306520462036,4.121675491333008,4.362267971038818,9.305593490600586,3.9989230632781982,9.188618659973145,4.04759407043457,4.2189040184021,9.180794715881348,3.4840452671051025,4.364731788635254,6.250991344451904,4.084324836730957,3.271611452102661,4.4173455238342285,3.5007407665252686,3.340468406677246,4.251424789428711,9.473138809204102,11.638649940490723,4.047428131103516,7.872536659240723,5.007889270782471,5.89931583404541,4.379582405090332,9.142853736877441,3.4337127208709717,6.755990982055664,9.321281433105469,4.368824005126953,9.511923789978027,9.139324188232422,5.1585917472839355,3.441683530807495,9.252471923828125,4.4285664558410645,4.636453628540039,3.925516128540039,4.231409072875977,3.9837088584899902,4.160065650939941,3.4659242630004883,9.21984577178955,4.638366222381592,4.664366722106934,4.118963241577148,7.743910312652588,9.4307861328125,9.46229076385498,4.126863479614258,3.647226333618164,4.336994647979736,3.5118443965911865,8.659688949584961,4.326205730438232,4.378875255584717,3.4812541007995605,3.5115177631378174,9.11307144165039,8.03004264831543,9.40291976928711,4.502538681030273,9.182422637939453,5.052595615386963,4.165685176849365,9.395477294921875,9.246533393859863,4.026303291320801,9.420541763305664,9.424453735351562,9.381157875061035,4.250187397003174,4.164700031280518,8.400282859802246,10.77978229522705,9.430522918701172,9.204143524169922,3.8220622539520264,4.07683801651001,4.643823146820068],\"yaxis\":\"y\",\"type\":\"scatter\"},{\"hovertemplate\":\"Variant=Gamma\\u003cbr\\u003e0=%{x}\\u003cbr\\u003e1=%{y}\\u003cextra\\u003e\\u003c\\u002fextra\\u003e\",\"legendgroup\":\"Gamma\",\"marker\":{\"color\":\"#ab63fa\",\"symbol\":\"circle\"},\"mode\":\"markers\",\"name\":\"Gamma\",\"orientation\":\"v\",\"showlegend\":true,\"x\":[3.85095477104187,-1.1921254396438599,-0.771272599697113],\"xaxis\":\"x\",\"y\":[11.842793464660645,3.733182907104492,6.9479875564575195],\"yaxis\":\"y\",\"type\":\"scatter\"},{\"hovertemplate\":\"Variant=Omicron\\u003cbr\\u003e0=%{x}\\u003cbr\\u003e1=%{y}\\u003cextra\\u003e\\u003c\\u002fextra\\u003e\",\"legendgroup\":\"Omicron\",\"marker\":{\"color\":\"#FFA15A\",\"symbol\":\"circle\"},\"mode\":\"markers\",\"name\":\"Omicron\",\"orientation\":\"v\",\"showlegend\":true,\"x\":[-5.688632011413574,-0.7949389219284058,-5.926093101501465,-0.695077657699585,-5.5744147300720215,-1.1514267921447754,-5.389194488525391,-1.3784257173538208,-1.8156640529632568,-5.676337718963623,-5.594665050506592,-6.902341842651367,-6.665217876434326,-0.7326627373695374,-6.663248538970947,-1.8675209283828735,-5.449733734130859,-0.6303683519363403,-0.9127646088600159,-5.737114429473877,-0.707775890827179,-5.789761543273926,-1.9890855550765991,-6.860783576965332,-1.6208524703979492,-2.1313540935516357,-0.8907286524772644,-5.781368732452393,-1.1323200464248657,-0.7615417242050171,-0.93581223487854,-0.7648087739944458,-0.7314281463623047,-5.8444366455078125,-5.580728530883789,-5.5166096687316895,-6.909988880157471,-0.7228251695632935,-5.788028717041016,-1.0203309059143066,-6.978286266326904,-1.013219952583313,-6.010111331939697,-1.0548893213272095,-1.4813989400863647,-5.846159934997559,-2.293102264404297,-1.311754584312439,-5.861931324005127,-0.8907458782196045,-0.7574183344841003,-5.960446357727051,-0.7378884553909302,-0.9030452966690063,-1.1604584455490112,-6.037019729614258,-6.988641262054443,-5.580924987792969,-4.9127960205078125,-5.52337646484375,-6.035223484039307,-5.840644836425781,-0.6011160612106323,-2.0000603199005127,-1.2691160440444946,-5.76393985748291,-5.404607772827148,-0.9249389171600342,-5.902601718902588,-5.999395847320557,-1.0847197771072388,-5.766775131225586,-5.871588230133057,-1.7851439714431763,-5.917409420013428,-7.013269424438477,-6.980980396270752,-7.008000373840332,-6.592249870300293,-5.669003963470459,-1.9395700693130493,-6.634942054748535,-1.9904274940490723,-5.826406002044678,-5.539130210876465,-5.776645660400391,-5.585067272186279,-6.945442199707031,-1.391383409500122,-1.7015440464019775,-2.266009569168091,-2.066347360610962,-4.703856945037842,-6.849961280822754,-6.023453712463379,-5.484032154083252,-6.6726202964782715,-6.07298469543457,-6.980316162109375,6.400778770446777],\"xaxis\":\"x\",\"y\":[16.388181686401367,8.83230209350586,16.444406509399414,7.348119258880615,16.351152420043945,9.88097858428955,16.452959060668945,3.067286729812622,10.446603775024414,16.481969833374023,16.389020919799805,17.503877639770508,17.244831085205078,6.648489952087402,17.240509033203125,10.522759437561035,16.41055679321289,9.482911109924316,5.773050785064697,16.474254608154297,8.736942291259766,14.991582870483398,10.56264877319336,17.456724166870117,10.355095863342285,10.599067687988281,6.065462589263916,16.42304039001465,9.78406810760498,7.786931037902832,6.798113822937012,8.671024322509766,8.263287544250488,15.057127952575684,16.445058822631836,16.34833335876465,17.513517379760742,8.713658332824707,15.617138862609863,4.988635063171387,17.582117080688477,9.966625213623047,15.45305061340332,4.803022861480713,10.056931495666504,16.53217124938965,10.608565330505371,3.486083507537842,15.446917533874512,6.805098533630371,6.81191873550415,16.3856201171875,8.868980407714844,5.776260852813721,3.8287978172302246,15.543734550476074,17.590641021728516,16.347333908081055,10.307547569274902,16.343273162841797,15.427373886108398,15.075972557067871,9.353940963745117,10.586482048034668,9.942922592163086,15.676066398620605,16.23208999633789,7.9400835037231445,15.357599258422852,15.499351501464844,9.73536205291748,16.505136489868164,15.540736198425293,10.464072227478027,15.527807235717773,17.619218826293945,17.58560562133789,17.617834091186523,17.15982437133789,16.479917526245117,10.496758460998535,17.205181121826172,10.471213340759277,16.361164093017578,16.30014419555664,16.6018009185791,16.257173538208008,17.544254302978516,10.158583641052246,2.6444265842437744,10.600387573242188,10.52911376953125,10.277313232421875,17.4443416595459,16.506044387817383,16.47734260559082,17.254419326782227,15.595932006835938,17.58523178100586,7.2518815994262695],\"yaxis\":\"y\",\"type\":\"scatter\"},{\"hovertemplate\":\"Variant=Omicron Sub\\u003cbr\\u003e0=%{x}\\u003cbr\\u003e1=%{y}\\u003cextra\\u003e\\u003c\\u002fextra\\u003e\",\"legendgroup\":\"Omicron Sub\",\"marker\":{\"color\":\"#19d3f3\",\"symbol\":\"circle\"},\"mode\":\"markers\",\"name\":\"Omicron Sub\",\"orientation\":\"v\",\"showlegend\":true,\"x\":[-3.0722272396087646,-1.3255283832550049,-2.4203052520751953,-0.9599317312240601,-6.469937801361084,-6.599559307098389,-6.332322120666504,-5.954132080078125,-0.6360877752304077,-6.657595634460449,-2.6899468898773193,-6.169228553771973,-4.945976734161377,-0.6951529383659363,-0.9769596457481384,-1.4366135597229004,-2.5212807655334473,-6.50861930847168,-0.8511749505996704,-5.050541877746582,-2.426398277282715,-1.6370645761489868,-6.4867024421691895,-6.3981475830078125,-4.415534496307373,-6.64965295791626,-0.9493582844734192,-0.971092164516449,-0.9098499417304993,-4.983449935913086,-0.7773351073265076,-6.542262077331543,-6.300027370452881,-2.472933292388916,-2.3955185413360596,-5.6259002685546875,-0.9613766670227051,-2.282637357711792,-1.1380442380905151,-0.9201492667198181,-6.732990741729736,-1.5768998861312866,-0.815043568611145,-0.9613238573074341,-1.4745478630065918,-5.346237659454346,-0.9431270956993103,-0.8666480779647827,-3.0201878547668457,-6.29066801071167,-4.759763717651367,-0.7254155278205872,-6.642699718475342,-0.7852470874786377,-0.8250569105148315,-6.159034252166748,-0.7582082152366638,-4.890366077423096,-4.792118549346924,-0.6848713755607605,-6.608256816864014,-6.785039901733398,-2.27781343460083,-6.181548595428467,-6.8590006828308105,-4.946416854858398,-4.922473907470703,-0.9173367619514465,-2.781337261199951,-2.7930655479431152,-6.798562049865723,-0.77508544921875,-6.466795444488525,-4.986975193023682,-2.9270429611206055,-1.802211046218872,-0.7928887009620667,-6.673672199249268,-0.7525373101234436,-6.733919143676758,-2.2158796787261963,-0.772346019744873,-2.038743257522583,-2.3508927822113037,-0.9868236184120178,-0.9992552399635315,-6.052651882171631,-1.6481376886367798,-6.801733493804932,-5.963573455810547,-6.029746055603027,-4.924065113067627,-0.9486483335494995],\"xaxis\":\"x\",\"y\":[10.150879859924316,3.5636515617370605,10.294053077697754,10.296537399291992,10.174760818481445,10.04347038269043,10.17143726348877,10.085015296936035,7.5922064781188965,10.00087833404541,10.380093574523926,9.954641342163086,10.315890312194824,7.0007243156433105,5.142061710357666,3.100253105163574,10.367175102233887,10.14732837677002,6.945475101470947,10.3026762008667,10.290794372558594,2.7413368225097656,10.232710838317871,10.14404010772705,10.286114692687988,10.019950866699219,7.993036270141602,7.927404403686523,8.136223793029785,10.303833961486816,6.847590923309326,10.195631980895996,10.059078216552734,10.245168685913086,10.311870574951172,10.13415813446045,7.991541385650635,10.148427963256836,9.851205825805664,6.387582302093506,9.946235656738281,2.811959743499756,8.518385887145996,5.12265682220459,3.0207207202911377,10.235984802246094,6.738646984100342,7.915136337280273,10.218770027160645,9.963968276977539,10.227675437927246,8.087092399597168,10.074889183044434,9.180366516113281,6.752181053161621,10.0576810836792,8.608402252197266,10.29199504852295,10.286012649536133,7.652162551879883,9.838854789733887,9.893081665039062,10.290136337280273,10.005338668823242,9.792040824890137,10.286791801452637,10.269070625305176,5.271852493286133,10.273855209350586,10.343358993530273,9.846315383911133,7.462258815765381,10.091137886047363,10.321635246276855,10.292725563049316,10.164962768554688,8.956123352050781,9.877129554748535,7.707096576690674,9.910828590393066,10.174759864807129,8.503600120544434,10.144661903381348,10.17324447631836,5.13823938369751,10.301094055175781,15.507237434387207,2.7274818420410156,9.887165069580078,10.093035697937012,10.055238723754883,10.31466293334961,6.804810523986816],\"yaxis\":\"y\",\"type\":\"scatter\"}],                        {\"template\":{\"data\":{\"histogram2dcontour\":[{\"type\":\"histogram2dcontour\",\"colorbar\":{\"outlinewidth\":0,\"ticks\":\"\"},\"colorscale\":[[0.0,\"#0d0887\"],[0.1111111111111111,\"#46039f\"],[0.2222222222222222,\"#7201a8\"],[0.3333333333333333,\"#9c179e\"],[0.4444444444444444,\"#bd3786\"],[0.5555555555555556,\"#d8576b\"],[0.6666666666666666,\"#ed7953\"],[0.7777777777777778,\"#fb9f3a\"],[0.8888888888888888,\"#fdca26\"],[1.0,\"#f0f921\"]]}],\"choropleth\":[{\"type\":\"choropleth\",\"colorbar\":{\"outlinewidth\":0,\"ticks\":\"\"}}],\"histogram2d\":[{\"type\":\"histogram2d\",\"colorbar\":{\"outlinewidth\":0,\"ticks\":\"\"},\"colorscale\":[[0.0,\"#0d0887\"],[0.1111111111111111,\"#46039f\"],[0.2222222222222222,\"#7201a8\"],[0.3333333333333333,\"#9c179e\"],[0.4444444444444444,\"#bd3786\"],[0.5555555555555556,\"#d8576b\"],[0.6666666666666666,\"#ed7953\"],[0.7777777777777778,\"#fb9f3a\"],[0.8888888888888888,\"#fdca26\"],[1.0,\"#f0f921\"]]}],\"heatmap\":[{\"type\":\"heatmap\",\"colorbar\":{\"outlinewidth\":0,\"ticks\":\"\"},\"colorscale\":[[0.0,\"#0d0887\"],[0.1111111111111111,\"#46039f\"],[0.2222222222222222,\"#7201a8\"],[0.3333333333333333,\"#9c179e\"],[0.4444444444444444,\"#bd3786\"],[0.5555555555555556,\"#d8576b\"],[0.6666666666666666,\"#ed7953\"],[0.7777777777777778,\"#fb9f3a\"],[0.8888888888888888,\"#fdca26\"],[1.0,\"#f0f921\"]]}],\"heatmapgl\":[{\"type\":\"heatmapgl\",\"colorbar\":{\"outlinewidth\":0,\"ticks\":\"\"},\"colorscale\":[[0.0,\"#0d0887\"],[0.1111111111111111,\"#46039f\"],[0.2222222222222222,\"#7201a8\"],[0.3333333333333333,\"#9c179e\"],[0.4444444444444444,\"#bd3786\"],[0.5555555555555556,\"#d8576b\"],[0.6666666666666666,\"#ed7953\"],[0.7777777777777778,\"#fb9f3a\"],[0.8888888888888888,\"#fdca26\"],[1.0,\"#f0f921\"]]}],\"contourcarpet\":[{\"type\":\"contourcarpet\",\"colorbar\":{\"outlinewidth\":0,\"ticks\":\"\"}}],\"contour\":[{\"type\":\"contour\",\"colorbar\":{\"outlinewidth\":0,\"ticks\":\"\"},\"colorscale\":[[0.0,\"#0d0887\"],[0.1111111111111111,\"#46039f\"],[0.2222222222222222,\"#7201a8\"],[0.3333333333333333,\"#9c179e\"],[0.4444444444444444,\"#bd3786\"],[0.5555555555555556,\"#d8576b\"],[0.6666666666666666,\"#ed7953\"],[0.7777777777777778,\"#fb9f3a\"],[0.8888888888888888,\"#fdca26\"],[1.0,\"#f0f921\"]]}],\"surface\":[{\"type\":\"surface\",\"colorbar\":{\"outlinewidth\":0,\"ticks\":\"\"},\"colorscale\":[[0.0,\"#0d0887\"],[0.1111111111111111,\"#46039f\"],[0.2222222222222222,\"#7201a8\"],[0.3333333333333333,\"#9c179e\"],[0.4444444444444444,\"#bd3786\"],[0.5555555555555556,\"#d8576b\"],[0.6666666666666666,\"#ed7953\"],[0.7777777777777778,\"#fb9f3a\"],[0.8888888888888888,\"#fdca26\"],[1.0,\"#f0f921\"]]}],\"mesh3d\":[{\"type\":\"mesh3d\",\"colorbar\":{\"outlinewidth\":0,\"ticks\":\"\"}}],\"scatter\":[{\"fillpattern\":{\"fillmode\":\"overlay\",\"size\":10,\"solidity\":0.2},\"type\":\"scatter\"}],\"parcoords\":[{\"type\":\"parcoords\",\"line\":{\"colorbar\":{\"outlinewidth\":0,\"ticks\":\"\"}}}],\"scatterpolargl\":[{\"type\":\"scatterpolargl\",\"marker\":{\"colorbar\":{\"outlinewidth\":0,\"ticks\":\"\"}}}],\"bar\":[{\"error_x\":{\"color\":\"#2a3f5f\"},\"error_y\":{\"color\":\"#2a3f5f\"},\"marker\":{\"line\":{\"color\":\"#E5ECF6\",\"width\":0.5},\"pattern\":{\"fillmode\":\"overlay\",\"size\":10,\"solidity\":0.2}},\"type\":\"bar\"}],\"scattergeo\":[{\"type\":\"scattergeo\",\"marker\":{\"colorbar\":{\"outlinewidth\":0,\"ticks\":\"\"}}}],\"scatterpolar\":[{\"type\":\"scatterpolar\",\"marker\":{\"colorbar\":{\"outlinewidth\":0,\"ticks\":\"\"}}}],\"histogram\":[{\"marker\":{\"pattern\":{\"fillmode\":\"overlay\",\"size\":10,\"solidity\":0.2}},\"type\":\"histogram\"}],\"scattergl\":[{\"type\":\"scattergl\",\"marker\":{\"colorbar\":{\"outlinewidth\":0,\"ticks\":\"\"}}}],\"scatter3d\":[{\"type\":\"scatter3d\",\"line\":{\"colorbar\":{\"outlinewidth\":0,\"ticks\":\"\"}},\"marker\":{\"colorbar\":{\"outlinewidth\":0,\"ticks\":\"\"}}}],\"scattermapbox\":[{\"type\":\"scattermapbox\",\"marker\":{\"colorbar\":{\"outlinewidth\":0,\"ticks\":\"\"}}}],\"scatterternary\":[{\"type\":\"scatterternary\",\"marker\":{\"colorbar\":{\"outlinewidth\":0,\"ticks\":\"\"}}}],\"scattercarpet\":[{\"type\":\"scattercarpet\",\"marker\":{\"colorbar\":{\"outlinewidth\":0,\"ticks\":\"\"}}}],\"carpet\":[{\"aaxis\":{\"endlinecolor\":\"#2a3f5f\",\"gridcolor\":\"white\",\"linecolor\":\"white\",\"minorgridcolor\":\"white\",\"startlinecolor\":\"#2a3f5f\"},\"baxis\":{\"endlinecolor\":\"#2a3f5f\",\"gridcolor\":\"white\",\"linecolor\":\"white\",\"minorgridcolor\":\"white\",\"startlinecolor\":\"#2a3f5f\"},\"type\":\"carpet\"}],\"table\":[{\"cells\":{\"fill\":{\"color\":\"#EBF0F8\"},\"line\":{\"color\":\"white\"}},\"header\":{\"fill\":{\"color\":\"#C8D4E3\"},\"line\":{\"color\":\"white\"}},\"type\":\"table\"}],\"barpolar\":[{\"marker\":{\"line\":{\"color\":\"#E5ECF6\",\"width\":0.5},\"pattern\":{\"fillmode\":\"overlay\",\"size\":10,\"solidity\":0.2}},\"type\":\"barpolar\"}],\"pie\":[{\"automargin\":true,\"type\":\"pie\"}]},\"layout\":{\"autotypenumbers\":\"strict\",\"colorway\":[\"#636efa\",\"#EF553B\",\"#00cc96\",\"#ab63fa\",\"#FFA15A\",\"#19d3f3\",\"#FF6692\",\"#B6E880\",\"#FF97FF\",\"#FECB52\"],\"font\":{\"color\":\"#2a3f5f\"},\"hovermode\":\"closest\",\"hoverlabel\":{\"align\":\"left\"},\"paper_bgcolor\":\"white\",\"plot_bgcolor\":\"#E5ECF6\",\"polar\":{\"bgcolor\":\"#E5ECF6\",\"angularaxis\":{\"gridcolor\":\"white\",\"linecolor\":\"white\",\"ticks\":\"\"},\"radialaxis\":{\"gridcolor\":\"white\",\"linecolor\":\"white\",\"ticks\":\"\"}},\"ternary\":{\"bgcolor\":\"#E5ECF6\",\"aaxis\":{\"gridcolor\":\"white\",\"linecolor\":\"white\",\"ticks\":\"\"},\"baxis\":{\"gridcolor\":\"white\",\"linecolor\":\"white\",\"ticks\":\"\"},\"caxis\":{\"gridcolor\":\"white\",\"linecolor\":\"white\",\"ticks\":\"\"}},\"coloraxis\":{\"colorbar\":{\"outlinewidth\":0,\"ticks\":\"\"}},\"colorscale\":{\"sequential\":[[0.0,\"#0d0887\"],[0.1111111111111111,\"#46039f\"],[0.2222222222222222,\"#7201a8\"],[0.3333333333333333,\"#9c179e\"],[0.4444444444444444,\"#bd3786\"],[0.5555555555555556,\"#d8576b\"],[0.6666666666666666,\"#ed7953\"],[0.7777777777777778,\"#fb9f3a\"],[0.8888888888888888,\"#fdca26\"],[1.0,\"#f0f921\"]],\"sequentialminus\":[[0.0,\"#0d0887\"],[0.1111111111111111,\"#46039f\"],[0.2222222222222222,\"#7201a8\"],[0.3333333333333333,\"#9c179e\"],[0.4444444444444444,\"#bd3786\"],[0.5555555555555556,\"#d8576b\"],[0.6666666666666666,\"#ed7953\"],[0.7777777777777778,\"#fb9f3a\"],[0.8888888888888888,\"#fdca26\"],[1.0,\"#f0f921\"]],\"diverging\":[[0,\"#8e0152\"],[0.1,\"#c51b7d\"],[0.2,\"#de77ae\"],[0.3,\"#f1b6da\"],[0.4,\"#fde0ef\"],[0.5,\"#f7f7f7\"],[0.6,\"#e6f5d0\"],[0.7,\"#b8e186\"],[0.8,\"#7fbc41\"],[0.9,\"#4d9221\"],[1,\"#276419\"]]},\"xaxis\":{\"gridcolor\":\"white\",\"linecolor\":\"white\",\"ticks\":\"\",\"title\":{\"standoff\":15},\"zerolinecolor\":\"white\",\"automargin\":true,\"zerolinewidth\":2},\"yaxis\":{\"gridcolor\":\"white\",\"linecolor\":\"white\",\"ticks\":\"\",\"title\":{\"standoff\":15},\"zerolinecolor\":\"white\",\"automargin\":true,\"zerolinewidth\":2},\"scene\":{\"xaxis\":{\"backgroundcolor\":\"#E5ECF6\",\"gridcolor\":\"white\",\"linecolor\":\"white\",\"showbackground\":true,\"ticks\":\"\",\"zerolinecolor\":\"white\",\"gridwidth\":2},\"yaxis\":{\"backgroundcolor\":\"#E5ECF6\",\"gridcolor\":\"white\",\"linecolor\":\"white\",\"showbackground\":true,\"ticks\":\"\",\"zerolinecolor\":\"white\",\"gridwidth\":2},\"zaxis\":{\"backgroundcolor\":\"#E5ECF6\",\"gridcolor\":\"white\",\"linecolor\":\"white\",\"showbackground\":true,\"ticks\":\"\",\"zerolinecolor\":\"white\",\"gridwidth\":2}},\"shapedefaults\":{\"line\":{\"color\":\"#2a3f5f\"}},\"annotationdefaults\":{\"arrowcolor\":\"#2a3f5f\",\"arrowhead\":0,\"arrowwidth\":1},\"geo\":{\"bgcolor\":\"white\",\"landcolor\":\"#E5ECF6\",\"subunitcolor\":\"white\",\"showland\":true,\"showlakes\":true,\"lakecolor\":\"white\"},\"title\":{\"x\":0.05},\"mapbox\":{\"style\":\"light\"}}},\"xaxis\":{\"anchor\":\"y\",\"domain\":[0.0,1.0],\"title\":{\"text\":\"UMAP_1\"},\"showgrid\":false,\"zeroline\":false},\"yaxis\":{\"anchor\":\"x\",\"domain\":[0.0,1.0],\"title\":{\"text\":\"UMAP_2\"},\"showgrid\":false,\"zeroline\":false},\"legend\":{\"title\":{\"text\":\"Variant\"},\"tracegroupgap\":0},\"margin\":{\"t\":60},\"font\":{\"family\":\"Courier New, monospace\",\"size\":18,\"color\":\"RebeccaPurple\"}},                        {\"responsive\": true}                    ).then(function(){\n                            \nvar gd = document.getElementById('76ace6d9-4b5a-42df-b84a-2eeaa7d213c4');\nvar x = new MutationObserver(function (mutations, observer) {{\n        var display = window.getComputedStyle(gd).display;\n        if (!display || display === 'none') {{\n            console.log([gd, 'removed!']);\n            Plotly.purge(gd);\n            observer.disconnect();\n        }}\n}});\n\n// Listen for the removal of the full notebook cells\nvar notebookContainer = gd.closest('#notebook-container');\nif (notebookContainer) {{\n    x.observe(notebookContainer, {childList: true});\n}}\n\n// Listen for the clearing of the current output cell\nvar outputEl = gd.closest('.output');\nif (outputEl) {{\n    x.observe(outputEl, {childList: true});\n}}\n\n                        })                };                });            </script>        </div>"
     },
     "metadata": {},
     "output_type": "display_data"
    },
    {
     "data": {
      "application/vnd.plotly.v1+json": {
       "data": [
        {
         "hovertemplate": "Variant=Alpha<br>0=%{x}<br>1=%{y}<extra></extra>",
         "legendgroup": "Alpha",
         "marker": {
          "color": "#636efa",
          "symbol": "circle"
         },
         "mode": "markers",
         "name": "Alpha",
         "orientation": "v",
         "showlegend": true,
         "x": [
          -1.7766027450561523,
          -1.4107706546783447,
          -1.6544523239135742,
          -1.7770663499832153,
          -1.38530695438385,
          -1.5460996627807617,
          -1.5809309482574463,
          -1.667130947113037,
          -0.9001242518424988,
          -2.103581428527832,
          -1.4966869354248047,
          -1.3333523273468018,
          -0.9367448687553406,
          -1.9810599088668823,
          -2.361739158630371,
          -1.7115817070007324,
          -1.845749020576477,
          -1.7545526027679443,
          -1.8500421047210693,
          -2.446293354034424,
          -2.4175219535827637,
          -1.097534418106079,
          -1.810313105583191,
          -0.9326176643371582,
          -1.4117774963378906,
          -2.4124114513397217,
          -2.2668468952178955,
          -1.0418250560760498,
          -1.9517391920089722,
          -2.5267176628112793,
          -1.7465218305587769,
          -2.584951162338257,
          -1.5242383480072021,
          -2.2884864807128906,
          -1.921903133392334,
          -1.6525468826293945,
          -2.0200726985931396,
          -1.959397315979004,
          -1.4571106433868408,
          -1.6809120178222656,
          -2.3561434745788574,
          -1.7338812351226807,
          -1.6805132627487183,
          -2.3823020458221436,
          -1.6169049739837646,
          -1.7061114311218262,
          -1.7115113735198975,
          -1.926663875579834,
          -1.9171303510665894,
          -1.6377639770507812,
          -1.3955563306808472,
          -1.8163524866104126,
          -1.532530665397644,
          -1.520277500152588,
          -2.042564868927002,
          -2.601546049118042,
          -1.6122558116912842,
          -1.7711411714553833,
          -2.208162546157837,
          -1.6495490074157715,
          -1.619940996170044,
          -0.9976616501808167,
          -0.9095771908760071,
          -1.6439005136489868,
          -2.295874834060669,
          -2.329634666442871,
          -2.2449002265930176,
          -1.3566540479660034,
          -2.222472667694092,
          -1.9893784523010254,
          -2.3613240718841553,
          -1.802333116531372,
          -2.354001045227051,
          -1.4058349132537842,
          -1.861338496208191,
          -2.114975690841675,
          -1.8754128217697144,
          -1.930755615234375,
          -0.8247158527374268,
          -1.2787445783615112,
          -1.0354312658309937,
          -2.412787437438965,
          -1.5949195623397827,
          -1.5968886613845825,
          -0.8474029302597046,
          -1.496443510055542,
          -0.9572498202323914,
          -1.6473106145858765,
          -1.453822374343872,
          -1.598875641822815,
          -1.530830979347229,
          -1.9825503826141357,
          -2.022965908050537,
          -1.7945382595062256,
          -1.703188180923462,
          -1.7634508609771729,
          -2.0743415355682373,
          -2.2963578701019287,
          -1.3481218814849854,
          -1.7081531286239624
         ],
         "xaxis": "x",
         "y": [
          12.375916481018066,
          8.41464614868164,
          12.81411075592041,
          11.717731475830078,
          12.716248512268066,
          12.175605773925781,
          12.69566822052002,
          11.24462604522705,
          12.837620735168457,
          13.094158172607422,
          13.14419937133789,
          12.302275657653809,
          12.841087341308594,
          13.212845802307129,
          13.176365852355957,
          12.574292182922363,
          12.710593223571777,
          12.15633487701416,
          8.60822868347168,
          13.321197509765625,
          12.836976051330566,
          13.039917945861816,
          12.26186752319336,
          12.931282043457031,
          11.081995010375977,
          13.124505996704102,
          12.926308631896973,
          12.424605369567871,
          12.261281967163086,
          13.125080108642578,
          11.672527313232422,
          13.1922607421875,
          10.722457885742188,
          13.13913631439209,
          12.712214469909668,
          11.498917579650879,
          12.528413772583008,
          12.392899513244629,
          11.48936939239502,
          12.527656555175781,
          13.139396667480469,
          12.670397758483887,
          12.202428817749023,
          13.135343551635742,
          12.288599014282227,
          9.744059562683105,
          12.668031692504883,
          12.426370620727539,
          12.072707176208496,
          13.084830284118652,
          12.001503944396973,
          13.084156036376953,
          8.485648155212402,
          12.830147743225098,
          12.39359188079834,
          12.95008373260498,
          10.28309154510498,
          12.820347785949707,
          12.83281135559082,
          12.271879196166992,
          11.331191062927246,
          12.834562301635742,
          12.95439624786377,
          11.31344985961914,
          13.048888206481934,
          13.028701782226562,
          13.101470947265625,
          11.974329948425293,
          12.845193862915039,
          8.707500457763672,
          13.164855003356934,
          12.798686027526855,
          12.995999336242676,
          11.975687980651855,
          12.887079238891602,
          8.822127342224121,
          12.89248275756836,
          9.143831253051758,
          12.787434577941895,
          12.957225799560547,
          12.834945678710938,
          12.996170997619629,
          11.481456756591797,
          10.434640884399414,
          12.836481094360352,
          12.988965034484863,
          12.903321266174316,
          8.03364086151123,
          13.11229419708252,
          13.168340682983398,
          10.878425598144531,
          12.477131843566895,
          13.21595287322998,
          12.528862953186035,
          12.761605262756348,
          12.576181411743164,
          12.931224822998047,
          12.959312438964844,
          8.401832580566406,
          12.380993843078613
         ],
         "yaxis": "y",
         "type": "scatter"
        },
        {
         "hovertemplate": "Variant=Beta<br>0=%{x}<br>1=%{y}<extra></extra>",
         "legendgroup": "Beta",
         "marker": {
          "color": "#EF553B",
          "symbol": "circle"
         },
         "mode": "markers",
         "name": "Beta",
         "orientation": "v",
         "showlegend": true,
         "x": [
          11.13737964630127,
          10.084247589111328,
          9.612022399902344,
          10.127734184265137,
          10.732381820678711,
          10.51924991607666,
          10.98621940612793,
          10.182723045349121,
          10.960840225219727,
          10.28494930267334,
          11.167468070983887,
          8.239246368408203,
          8.294116020202637,
          10.552146911621094,
          10.340276718139648,
          10.611931800842285,
          8.359780311584473,
          10.246650695800781,
          11.186590194702148,
          9.692100524902344,
          10.189661026000977,
          10.598730087280273,
          10.632737159729004,
          10.59826946258545,
          10.47989273071289,
          10.231864929199219,
          10.550323486328125,
          8.166207313537598,
          10.544034004211426,
          10.748315811157227,
          10.625855445861816,
          -1.7108644247055054,
          10.509888648986816,
          10.945542335510254,
          10.34703540802002,
          10.60214900970459,
          9.76451301574707,
          11.266315460205078,
          8.36286735534668,
          10.576595306396484,
          11.185835838317871,
          8.260876655578613,
          11.15261173248291,
          -1.5546106100082397,
          10.134060859680176,
          10.115060806274414,
          8.3627347946167,
          10.444734573364258,
          9.988458633422852,
          10.752758026123047,
          10.413290977478027,
          10.107658386230469,
          10.600377082824707,
          10.56484603881836,
          10.186993598937988,
          10.153897285461426,
          8.426947593688965,
          9.726865768432617,
          10.879143714904785,
          -1.6043022871017456,
          -2.0736801624298096,
          10.53353500366211,
          8.437718391418457,
          10.077797889709473,
          10.2646484375,
          10.690530776977539,
          10.274471282958984,
          10.42636489868164,
          10.411478042602539,
          8.355907440185547,
          10.199706077575684,
          10.963632583618164,
          -1.7572587728500366,
          11.232131004333496,
          9.977248191833496,
          10.576189994812012,
          10.336751937866211,
          10.254457473754883,
          10.217856407165527,
          8.315670013427734,
          9.617048263549805,
          -2.044344902038574,
          -1.4064695835113525,
          10.324870109558105,
          -1.8670963048934937,
          8.575260162353516,
          11.154491424560547,
          10.128701210021973,
          10.79568862915039,
          10.566946983337402,
          8.261292457580566,
          8.331055641174316,
          -1.5877149105072021,
          10.563787460327148,
          9.68187141418457,
          9.833669662475586,
          10.902188301086426,
          10.383976936340332,
          10.422956466674805,
          9.646510124206543
         ],
         "xaxis": "x",
         "y": [
          12.044618606567383,
          12.603797912597656,
          12.426183700561523,
          13.072906494140625,
          11.850300788879395,
          12.840500831604004,
          12.281828880310059,
          13.227581024169922,
          12.17264175415039,
          12.578287124633789,
          12.772889137268066,
          12.084708213806152,
          12.183836936950684,
          12.463329315185547,
          12.963398933410645,
          13.06702995300293,
          12.153812408447266,
          13.19456958770752,
          12.191007614135742,
          12.781107902526855,
          12.085333824157715,
          13.032721519470215,
          11.904308319091797,
          12.714433670043945,
          12.241495132446289,
          12.63912296295166,
          12.772217750549316,
          11.999390602111816,
          12.694165229797363,
          11.981554985046387,
          12.183883666992188,
          8.036064147949219,
          12.949748992919922,
          11.992622375488281,
          12.118911743164062,
          12.945773124694824,
          12.604605674743652,
          12.790899276733398,
          12.174427032470703,
          12.843121528625488,
          12.725814819335938,
          12.087823867797852,
          12.767110824584961,
          9.915114402770996,
          12.785964012145996,
          13.138401985168457,
          12.174762725830078,
          12.815181732177734,
          13.085423469543457,
          12.350146293640137,
          12.9483003616333,
          12.74522876739502,
          12.981490135192871,
          11.879344940185547,
          12.744917869567871,
          12.65998363494873,
          12.11308479309082,
          12.645139694213867,
          12.330702781677246,
          8.401524543762207,
          8.9442777633667,
          11.918395042419434,
          12.271909713745117,
          13.11147689819336,
          12.578290939331055,
          12.694428443908691,
          13.168623924255371,
          12.824254989624023,
          12.775434494018555,
          12.187000274658203,
          12.72415542602539,
          12.25938892364502,
          8.108222961425781,
          12.676017761230469,
          12.662101745605469,
          12.817620277404785,
          12.828977584838867,
          12.910368919372559,
          12.711495399475098,
          12.160042762756348,
          12.587459564208984,
          8.490915298461914,
          8.407690048217773,
          12.961588859558105,
          8.606124877929688,
          12.24947452545166,
          12.744928359985352,
          12.861835479736328,
          12.401108741760254,
          12.582196235656738,
          12.075294494628906,
          12.179034233093262,
          8.125060081481934,
          12.68097972869873,
          12.573729515075684,
          12.542195320129395,
          11.908712387084961,
          12.538808822631836,
          12.704692840576172,
          12.58228588104248
         ],
         "yaxis": "y",
         "type": "scatter"
        },
        {
         "hovertemplate": "Variant=Delta<br>0=%{x}<br>1=%{y}<extra></extra>",
         "legendgroup": "Delta",
         "marker": {
          "color": "#00cc96",
          "symbol": "circle"
         },
         "mode": "markers",
         "name": "Delta",
         "orientation": "v",
         "showlegend": true,
         "x": [
          13.77238655090332,
          13.679034233093262,
          13.736808776855469,
          13.0607328414917,
          12.18661117553711,
          12.401525497436523,
          14.52025032043457,
          13.129476547241211,
          13.883111953735352,
          12.266544342041016,
          11.519891738891602,
          13.01469898223877,
          12.099339485168457,
          13.947664260864258,
          14.55070686340332,
          14.544157981872559,
          13.832660675048828,
          13.691154479980469,
          12.572315216064453,
          12.505338668823242,
          11.527539253234863,
          12.454647064208984,
          13.100025177001953,
          13.11561107635498,
          12.998551368713379,
          12.625775337219238,
          12.858199119567871,
          13.03349781036377,
          12.611391067504883,
          12.153543472290039,
          -1.7547798156738281,
          12.893420219421387,
          -1.7199671268463135,
          12.431044578552246,
          12.923611640930176,
          12.319266319274902,
          12.618670463562012,
          11.664331436157227,
          12.966233253479004,
          13.05733871459961,
          -1.7401201725006104,
          -2.0096728801727295,
          -1.8766722679138184,
          11.565013885498047,
          13.81182861328125,
          12.877610206604004,
          13.404013633728027,
          13.747414588928223,
          12.168164253234863,
          13.544866561889648,
          13.844569206237793,
          -2.0688326358795166,
          12.599427223205566,
          12.562122344970703,
          12.114924430847168,
          14.492424964904785,
          12.058541297912598,
          12.493797302246094,
          12.875547409057617,
          11.548850059509277,
          12.223929405212402,
          13.725072860717773,
          14.526080131530762,
          14.569852828979492,
          11.514849662780762,
          13.27999496459961,
          13.704345703125,
          13.605276107788086,
          12.515456199645996,
          -1.816515564918518,
          12.645573616027832,
          12.489151000976562,
          13.501887321472168,
          12.043014526367188,
          12.199938774108887,
          11.534297943115234,
          13.054468154907227,
          14.492605209350586,
          13.41075611114502,
          13.23990535736084,
          14.417640686035156,
          13.854220390319824,
          -2.0690197944641113,
          12.18441390991211,
          12.710206985473633,
          12.681904792785645,
          12.489683151245117,
          13.27202033996582,
          13.073586463928223,
          13.031587600708008,
          12.10768985748291,
          12.172870635986328,
          13.463218688964844,
          12.759295463562012,
          13.697565078735352,
          13.776535034179688,
          14.482723236083984,
          12.676128387451172,
          14.569524765014648
         ],
         "xaxis": "x",
         "y": [
          -1.2353709936141968,
          -1.3050658702850342,
          -0.9823082685470581,
          -2.9233791828155518,
          -3.225426435470581,
          -3.4797112941741943,
          -1.8400925397872925,
          -3.022676706314087,
          -1.0766791105270386,
          -3.030669927597046,
          -3.5321130752563477,
          -3.7541699409484863,
          -3.2182297706604004,
          -1.1239538192749023,
          -1.803390622138977,
          -1.836910605430603,
          -1.1147171258926392,
          -1.2473852634429932,
          -2.997436046600342,
          -3.1969292163848877,
          -3.4819719791412354,
          -3.433427095413208,
          -3.249396800994873,
          -3.6414849758148193,
          -3.615326166152954,
          -3.1304664611816406,
          -3.664658546447754,
          -3.2365522384643555,
          -3.1973793506622314,
          -3.2237327098846436,
          9.730413436889648,
          -3.696326732635498,
          8.583976745605469,
          -3.5956363677978516,
          -3.618525266647339,
          -3.2287437915802,
          -3.2412269115448,
          -3.5208163261413574,
          -3.7288873195648193,
          -3.6938791275024414,
          9.850127220153809,
          9.108512878417969,
          9.44583511352539,
          -3.4779727458953857,
          -1.1355314254760742,
          -3.5629873275756836,
          -1.9116131067276,
          -1.3082199096679688,
          -3.313992738723755,
          -1.4286081790924072,
          -1.2338656187057495,
          9.003334999084473,
          -3.2134525775909424,
          -2.737379312515259,
          -3.1454741954803467,
          -1.8332878351211548,
          -3.1686758995056152,
          -3.1618335247039795,
          -3.659562826156616,
          -3.5376617908477783,
          -3.3805599212646484,
          -1.2701748609542847,
          -1.8369544744491577,
          -1.8981684446334839,
          -3.498727560043335,
          -2.579519033432007,
          -1.2587939500808716,
          -1.2171112298965454,
          -3.142435312271118,
          8.54236888885498,
          -3.5901787281036377,
          -3.2374348640441895,
          -1.6337881088256836,
          -3.2639055252075195,
          -3.135312557220459,
          -3.512507677078247,
          -3.6900665760040283,
          -1.763915777206421,
          -1.732460856437683,
          -2.7146739959716797,
          -1.8045729398727417,
          -1.2045319080352783,
          8.91260051727295,
          -3.2140069007873535,
          -2.363560438156128,
          -2.6406733989715576,
          -3.4662935733795166,
          -2.756455898284912,
          -3.5078537464141846,
          -2.8813905715942383,
          -3.232245683670044,
          -3.1463117599487305,
          -1.669697642326355,
          -3.563375234603882,
          -1.3586148023605347,
          -1.27583909034729,
          -1.7859954833984375,
          -3.550187349319458,
          -1.8859871625900269
         ],
         "yaxis": "y",
         "type": "scatter"
        },
        {
         "hovertemplate": "Variant=Gamma<br>0=%{x}<br>1=%{y}<extra></extra>",
         "legendgroup": "Gamma",
         "marker": {
          "color": "#ab63fa",
          "symbol": "circle"
         },
         "mode": "markers",
         "name": "Gamma",
         "orientation": "v",
         "showlegend": true,
         "x": [
          -1.6355888843536377,
          -1.9627524614334106,
          -1.7331335544586182
         ],
         "xaxis": "x",
         "y": [
          13.203112602233887,
          8.704256057739258,
          11.279253959655762
         ],
         "yaxis": "y",
         "type": "scatter"
        },
        {
         "hovertemplate": "Variant=Omicron<br>0=%{x}<br>1=%{y}<extra></extra>",
         "legendgroup": "Omicron",
         "marker": {
          "color": "#FFA15A",
          "symbol": "circle"
         },
         "mode": "markers",
         "name": "Omicron",
         "orientation": "v",
         "showlegend": true,
         "x": [
          1.4935835599899292,
          -3.0863161087036133,
          1.2815611362457275,
          -2.889082908630371,
          1.644978642463684,
          1.5888934135437012,
          1.561262607574463,
          -1.6738201379776,
          1.716874599456787,
          1.326462984085083,
          1.4360451698303223,
          -0.3929753303527832,
          0.6496732831001282,
          -1.6327977180480957,
          0.6204394698143005,
          -0.15188229084014893,
          1.4051138162612915,
          1.941506266593933,
          -2.6438441276550293,
          1.4743306636810303,
          13.152203559875488,
          1.7691490650177002,
          1.7575342655181885,
          0.8929147720336914,
          -0.14098897576332092,
          1.640119194984436,
          -2.7289230823516846,
          1.4351779222488403,
          1.6936407089233398,
          1.2526843547821045,
          -4.070756435394287,
          -0.11072865128517151,
          1.3170467615127563,
          1.7225494384765625,
          1.798582911491394,
          1.6451916694641113,
          -0.4138554632663727,
          1.6436588764190674,
          1.336696743965149,
          -2.4011070728302,
          -0.3589087426662445,
          12.92244815826416,
          1.2132564783096313,
          -2.3674895763397217,
          1.1979669332504272,
          1.609513282775879,
          1.81380295753479,
          -2.0232913494110107,
          1.4211562871932983,
          -3.972907066345215,
          -3.49812388420105,
          1.4559861421585083,
          1.4404531717300415,
          -2.944622755050659,
          -2.188905954360962,
          -0.3000379204750061,
          -0.3842363655567169,
          1.5173481702804565,
          -3.5903501510620117,
          1.4831106662750244,
          1.384041428565979,
          1.777854323387146,
          1.9829121828079224,
          1.7795610427856445,
          -0.11250032484531403,
          1.4865652322769165,
          1.4943480491638184,
          13.138909339904785,
          1.6774969100952148,
          1.236541748046875,
          1.6485310792922974,
          1.303551197052002,
          1.3853483200073242,
          -0.2260826975107193,
          1.3105577230453491,
          -0.5025759935379028,
          -0.3751535415649414,
          -0.44910919666290283,
          0.5560235381126404,
          1.5684884786605835,
          1.6690874099731445,
          0.5712893605232239,
          1.7291455268859863,
          1.5936799049377441,
          1.8080589771270752,
          1.5482414960861206,
          1.8335213661193848,
          -0.33742138743400574,
          -0.2693113088607788,
          -1.5626448392868042,
          1.8107483386993408,
          1.8134737014770508,
          -3.6035006046295166,
          0.46469148993492126,
          1.5150649547576904,
          1.4509230852127075,
          0.5499207377433777,
          0.9061253666877747,
          -0.4394785165786743,
          12.78696346282959
         ],
         "xaxis": "x",
         "y": [
          -9.258628845214844,
          5.75169038772583,
          -8.890375137329102,
          6.577975749969482,
          -9.335177421569824,
          -8.422210693359375,
          -9.384051322937012,
          8.340230941772461,
          -8.017701148986816,
          -9.223531723022461,
          -9.355167388916016,
          -7.285704612731934,
          -9.419118881225586,
          9.740031242370605,
          -9.432668685913086,
          -7.4691572189331055,
          -9.293882369995117,
          -8.347082138061523,
          7.569189071655273,
          -9.038758277893066,
          -2.8052618503570557,
          -8.736738204956055,
          -7.978569030761719,
          -8.746175765991211,
          -7.470633029937744,
          -8.565099716186523,
          7.353708744049072,
          -9.012680053710938,
          -8.565640449523926,
          -7.630863189697266,
          7.06422758102417,
          -7.497172832489014,
          -7.666130542755127,
          -8.816901206970215,
          -9.454113960266113,
          -9.279211044311523,
          -7.271376609802246,
          -7.989764213562012,
          -9.112443923950195,
          7.817159175872803,
          -7.223958492279053,
          -2.8124496936798096,
          -8.808040618896484,
          7.910320281982422,
          -8.859430313110352,
          -9.3766508102417,
          -8.106593132019043,
          8.164929389953613,
          -8.748421669006348,
          7.124483108520508,
          6.7568039894104,
          -8.808324813842773,
          -7.742974281311035,
          7.365249156951904,
          8.037843704223633,
          -7.379888534545898,
          -7.293600559234619,
          -9.414253234863281,
          4.76168966293335,
          -9.35468864440918,
          -9.035308837890625,
          -8.924355506896973,
          -8.361401557922363,
          -7.970834732055664,
          -7.431605815887451,
          -9.254507064819336,
          -9.369270324707031,
          -2.6611080169677734,
          -9.03835391998291,
          -8.814836502075195,
          -7.994540214538574,
          -9.307334899902344,
          -8.83691120147705,
          -7.465993404388428,
          -8.872769355773926,
          -7.182818412780762,
          -7.303696155548096,
          -7.271275043487549,
          -9.438475608825684,
          -9.277205467224121,
          -8.020145416259766,
          -9.409052848815918,
          -8.07814884185791,
          -9.138526916503906,
          -9.137227058410645,
          -9.241835594177246,
          -9.159773826599121,
          -7.338493824005127,
          -7.391881465911865,
          8.394400596618652,
          -8.112475395202637,
          -8.075654029846191,
          4.873165130615234,
          -9.364998817443848,
          -8.619275093078613,
          -9.225395202636719,
          -9.47312068939209,
          -8.649515151977539,
          -7.334506511688232,
          -2.9550249576568604
         ],
         "yaxis": "y",
         "type": "scatter"
        },
        {
         "hovertemplate": "Variant=Omicron Sub<br>0=%{x}<br>1=%{y}<extra></extra>",
         "legendgroup": "Omicron Sub",
         "marker": {
          "color": "#19d3f3",
          "symbol": "circle"
         },
         "mode": "markers",
         "name": "Omicron Sub",
         "orientation": "v",
         "showlegend": true,
         "x": [
          -3.382714033126831,
          -2.046330451965332,
          -4.153985977172852,
          -3.149109125137329,
          -4.035222053527832,
          -3.8852124214172363,
          -4.232053279876709,
          -4.607855796813965,
          -2.935716390609741,
          -4.292294979095459,
          -4.409481048583984,
          -4.547131538391113,
          -3.794210910797119,
          -2.843998432159424,
          -2.470905303955078,
          -1.642535924911499,
          -4.452963829040527,
          -4.108030796051025,
          -4.04387903213501,
          -3.8332278728485107,
          -4.333391189575195,
          -1.4487054347991943,
          -4.074681282043457,
          -3.9914650917053223,
          -4.210872650146484,
          -4.13950252532959,
          -3.4692294597625732,
          -3.498960018157959,
          -3.591132402420044,
          -3.6352005004882812,
          -2.9780688285827637,
          -4.0680131912231445,
          -4.520697593688965,
          -4.301258087158203,
          -4.387913227081299,
          -4.554256916046143,
          -3.5601723194122314,
          -4.339166164398193,
          -4.329192638397217,
          -3.249077081680298,
          -4.258994102478027,
          -1.5381379127502441,
          -3.6372597217559814,
          -2.375065565109253,
          -1.5458287000656128,
          -3.7627131938934326,
          -4.038628101348877,
          -3.55315899848938,
          -3.982189893722534,
          -4.698657512664795,
          -3.6592001914978027,
          -2.960827350616455,
          -4.170433521270752,
          -3.7704405784606934,
          -3.4366419315338135,
          -4.684270858764648,
          -3.1777496337890625,
          -3.53884220123291,
          -3.695770502090454,
          -4.163944721221924,
          -4.361540794372559,
          -4.2134175300598145,
          -4.360321044921875,
          -4.6408281326293945,
          -4.353078842163086,
          -3.698110580444336,
          -3.659108877182007,
          -2.534863233566284,
          -4.265352249145508,
          -4.340303421020508,
          -4.31141996383667,
          -4.035266399383545,
          -4.63856840133667,
          -3.8233306407928467,
          -3.666315793991089,
          -4.142058849334717,
          -3.0859689712524414,
          -4.387897968292236,
          -3.9795174598693848,
          -4.260789394378662,
          -4.127906799316406,
          -3.6290628910064697,
          -4.0234599113464355,
          -3.31032395362854,
          -2.380164384841919,
          -3.248699426651001,
          1.3031156063079834,
          -1.4646434783935547,
          -4.360746383666992,
          -4.348045825958252,
          -4.571624755859375,
          -3.691187858581543,
          -2.9029486179351807
         ],
         "xaxis": "x",
         "y": [
          5.277735710144043,
          8.088604927062988,
          5.830901145935059,
          5.637432098388672,
          4.606058597564697,
          4.648630619049072,
          4.662959098815918,
          5.067663669586182,
          6.544649124145508,
          4.336216449737549,
          5.753170013427734,
          4.705573558807373,
          4.84421443939209,
          6.828271389007568,
          7.751955986022949,
          8.319759368896484,
          5.684596061706543,
          4.663633346557617,
          7.038544178009033,
          4.554003715515137,
          5.890923976898193,
          8.269740104675293,
          4.582502365112305,
          4.685035228729248,
          5.320483684539795,
          4.49055290222168,
          6.710256576538086,
          6.679377555847168,
          6.594532489776611,
          4.916013717651367,
          6.738954067230225,
          4.664004802703857,
          4.857335090637207,
          5.8650126457214355,
          5.817797660827637,
          5.221691131591797,
          6.65430212020874,
          5.950662612915039,
          5.9144158363342285,
          6.826552867889404,
          4.431683540344238,
          8.230606079101562,
          6.54857873916626,
          7.873152256011963,
          8.241117477416992,
          4.805913925170898,
          7.036917686462402,
          6.480520725250244,
          4.793283462524414,
          4.931375503540039,
          4.717206954956055,
          6.495454788208008,
          4.610889434814453,
          6.210128307342529,
          6.780088901519775,
          4.999252796173096,
          6.1832709312438965,
          4.988592147827148,
          5.058018684387207,
          6.932613372802734,
          4.434524059295654,
          4.375500679016113,
          5.88188362121582,
          4.915329933166504,
          4.4275617599487305,
          4.850048065185547,
          4.945060729980469,
          7.6566972732543945,
          4.530914306640625,
          5.4461894035339355,
          4.370790004730225,
          7.061461448669434,
          5.024384498596191,
          4.792582988739014,
          4.8619256019592285,
          5.418646812438965,
          6.0023980140686035,
          4.2896504402160645,
          6.942693710327148,
          4.358217716217041,
          5.7490973472595215,
          6.527515888214111,
          5.902371883392334,
          5.377453327178955,
          7.848181247711182,
          5.505809307098389,
          -9.036230087280273,
          8.274352073669434,
          4.422872066497803,
          4.86068868637085,
          5.068759441375732,
          4.919015884399414,
          6.577706813812256
         ],
         "yaxis": "y",
         "type": "scatter"
        }
       ],
       "layout": {
        "template": {
         "data": {
          "histogram2dcontour": [
           {
            "type": "histogram2dcontour",
            "colorbar": {
             "outlinewidth": 0,
             "ticks": ""
            },
            "colorscale": [
             [
              0.0,
              "#0d0887"
             ],
             [
              0.1111111111111111,
              "#46039f"
             ],
             [
              0.2222222222222222,
              "#7201a8"
             ],
             [
              0.3333333333333333,
              "#9c179e"
             ],
             [
              0.4444444444444444,
              "#bd3786"
             ],
             [
              0.5555555555555556,
              "#d8576b"
             ],
             [
              0.6666666666666666,
              "#ed7953"
             ],
             [
              0.7777777777777778,
              "#fb9f3a"
             ],
             [
              0.8888888888888888,
              "#fdca26"
             ],
             [
              1.0,
              "#f0f921"
             ]
            ]
           }
          ],
          "choropleth": [
           {
            "type": "choropleth",
            "colorbar": {
             "outlinewidth": 0,
             "ticks": ""
            }
           }
          ],
          "histogram2d": [
           {
            "type": "histogram2d",
            "colorbar": {
             "outlinewidth": 0,
             "ticks": ""
            },
            "colorscale": [
             [
              0.0,
              "#0d0887"
             ],
             [
              0.1111111111111111,
              "#46039f"
             ],
             [
              0.2222222222222222,
              "#7201a8"
             ],
             [
              0.3333333333333333,
              "#9c179e"
             ],
             [
              0.4444444444444444,
              "#bd3786"
             ],
             [
              0.5555555555555556,
              "#d8576b"
             ],
             [
              0.6666666666666666,
              "#ed7953"
             ],
             [
              0.7777777777777778,
              "#fb9f3a"
             ],
             [
              0.8888888888888888,
              "#fdca26"
             ],
             [
              1.0,
              "#f0f921"
             ]
            ]
           }
          ],
          "heatmap": [
           {
            "type": "heatmap",
            "colorbar": {
             "outlinewidth": 0,
             "ticks": ""
            },
            "colorscale": [
             [
              0.0,
              "#0d0887"
             ],
             [
              0.1111111111111111,
              "#46039f"
             ],
             [
              0.2222222222222222,
              "#7201a8"
             ],
             [
              0.3333333333333333,
              "#9c179e"
             ],
             [
              0.4444444444444444,
              "#bd3786"
             ],
             [
              0.5555555555555556,
              "#d8576b"
             ],
             [
              0.6666666666666666,
              "#ed7953"
             ],
             [
              0.7777777777777778,
              "#fb9f3a"
             ],
             [
              0.8888888888888888,
              "#fdca26"
             ],
             [
              1.0,
              "#f0f921"
             ]
            ]
           }
          ],
          "heatmapgl": [
           {
            "type": "heatmapgl",
            "colorbar": {
             "outlinewidth": 0,
             "ticks": ""
            },
            "colorscale": [
             [
              0.0,
              "#0d0887"
             ],
             [
              0.1111111111111111,
              "#46039f"
             ],
             [
              0.2222222222222222,
              "#7201a8"
             ],
             [
              0.3333333333333333,
              "#9c179e"
             ],
             [
              0.4444444444444444,
              "#bd3786"
             ],
             [
              0.5555555555555556,
              "#d8576b"
             ],
             [
              0.6666666666666666,
              "#ed7953"
             ],
             [
              0.7777777777777778,
              "#fb9f3a"
             ],
             [
              0.8888888888888888,
              "#fdca26"
             ],
             [
              1.0,
              "#f0f921"
             ]
            ]
           }
          ],
          "contourcarpet": [
           {
            "type": "contourcarpet",
            "colorbar": {
             "outlinewidth": 0,
             "ticks": ""
            }
           }
          ],
          "contour": [
           {
            "type": "contour",
            "colorbar": {
             "outlinewidth": 0,
             "ticks": ""
            },
            "colorscale": [
             [
              0.0,
              "#0d0887"
             ],
             [
              0.1111111111111111,
              "#46039f"
             ],
             [
              0.2222222222222222,
              "#7201a8"
             ],
             [
              0.3333333333333333,
              "#9c179e"
             ],
             [
              0.4444444444444444,
              "#bd3786"
             ],
             [
              0.5555555555555556,
              "#d8576b"
             ],
             [
              0.6666666666666666,
              "#ed7953"
             ],
             [
              0.7777777777777778,
              "#fb9f3a"
             ],
             [
              0.8888888888888888,
              "#fdca26"
             ],
             [
              1.0,
              "#f0f921"
             ]
            ]
           }
          ],
          "surface": [
           {
            "type": "surface",
            "colorbar": {
             "outlinewidth": 0,
             "ticks": ""
            },
            "colorscale": [
             [
              0.0,
              "#0d0887"
             ],
             [
              0.1111111111111111,
              "#46039f"
             ],
             [
              0.2222222222222222,
              "#7201a8"
             ],
             [
              0.3333333333333333,
              "#9c179e"
             ],
             [
              0.4444444444444444,
              "#bd3786"
             ],
             [
              0.5555555555555556,
              "#d8576b"
             ],
             [
              0.6666666666666666,
              "#ed7953"
             ],
             [
              0.7777777777777778,
              "#fb9f3a"
             ],
             [
              0.8888888888888888,
              "#fdca26"
             ],
             [
              1.0,
              "#f0f921"
             ]
            ]
           }
          ],
          "mesh3d": [
           {
            "type": "mesh3d",
            "colorbar": {
             "outlinewidth": 0,
             "ticks": ""
            }
           }
          ],
          "scatter": [
           {
            "fillpattern": {
             "fillmode": "overlay",
             "size": 10,
             "solidity": 0.2
            },
            "type": "scatter"
           }
          ],
          "parcoords": [
           {
            "type": "parcoords",
            "line": {
             "colorbar": {
              "outlinewidth": 0,
              "ticks": ""
             }
            }
           }
          ],
          "scatterpolargl": [
           {
            "type": "scatterpolargl",
            "marker": {
             "colorbar": {
              "outlinewidth": 0,
              "ticks": ""
             }
            }
           }
          ],
          "bar": [
           {
            "error_x": {
             "color": "#2a3f5f"
            },
            "error_y": {
             "color": "#2a3f5f"
            },
            "marker": {
             "line": {
              "color": "#E5ECF6",
              "width": 0.5
             },
             "pattern": {
              "fillmode": "overlay",
              "size": 10,
              "solidity": 0.2
             }
            },
            "type": "bar"
           }
          ],
          "scattergeo": [
           {
            "type": "scattergeo",
            "marker": {
             "colorbar": {
              "outlinewidth": 0,
              "ticks": ""
             }
            }
           }
          ],
          "scatterpolar": [
           {
            "type": "scatterpolar",
            "marker": {
             "colorbar": {
              "outlinewidth": 0,
              "ticks": ""
             }
            }
           }
          ],
          "histogram": [
           {
            "marker": {
             "pattern": {
              "fillmode": "overlay",
              "size": 10,
              "solidity": 0.2
             }
            },
            "type": "histogram"
           }
          ],
          "scattergl": [
           {
            "type": "scattergl",
            "marker": {
             "colorbar": {
              "outlinewidth": 0,
              "ticks": ""
             }
            }
           }
          ],
          "scatter3d": [
           {
            "type": "scatter3d",
            "line": {
             "colorbar": {
              "outlinewidth": 0,
              "ticks": ""
             }
            },
            "marker": {
             "colorbar": {
              "outlinewidth": 0,
              "ticks": ""
             }
            }
           }
          ],
          "scattermapbox": [
           {
            "type": "scattermapbox",
            "marker": {
             "colorbar": {
              "outlinewidth": 0,
              "ticks": ""
             }
            }
           }
          ],
          "scatterternary": [
           {
            "type": "scatterternary",
            "marker": {
             "colorbar": {
              "outlinewidth": 0,
              "ticks": ""
             }
            }
           }
          ],
          "scattercarpet": [
           {
            "type": "scattercarpet",
            "marker": {
             "colorbar": {
              "outlinewidth": 0,
              "ticks": ""
             }
            }
           }
          ],
          "carpet": [
           {
            "aaxis": {
             "endlinecolor": "#2a3f5f",
             "gridcolor": "white",
             "linecolor": "white",
             "minorgridcolor": "white",
             "startlinecolor": "#2a3f5f"
            },
            "baxis": {
             "endlinecolor": "#2a3f5f",
             "gridcolor": "white",
             "linecolor": "white",
             "minorgridcolor": "white",
             "startlinecolor": "#2a3f5f"
            },
            "type": "carpet"
           }
          ],
          "table": [
           {
            "cells": {
             "fill": {
              "color": "#EBF0F8"
             },
             "line": {
              "color": "white"
             }
            },
            "header": {
             "fill": {
              "color": "#C8D4E3"
             },
             "line": {
              "color": "white"
             }
            },
            "type": "table"
           }
          ],
          "barpolar": [
           {
            "marker": {
             "line": {
              "color": "#E5ECF6",
              "width": 0.5
             },
             "pattern": {
              "fillmode": "overlay",
              "size": 10,
              "solidity": 0.2
             }
            },
            "type": "barpolar"
           }
          ],
          "pie": [
           {
            "automargin": true,
            "type": "pie"
           }
          ]
         },
         "layout": {
          "autotypenumbers": "strict",
          "colorway": [
           "#636efa",
           "#EF553B",
           "#00cc96",
           "#ab63fa",
           "#FFA15A",
           "#19d3f3",
           "#FF6692",
           "#B6E880",
           "#FF97FF",
           "#FECB52"
          ],
          "font": {
           "color": "#2a3f5f"
          },
          "hovermode": "closest",
          "hoverlabel": {
           "align": "left"
          },
          "paper_bgcolor": "white",
          "plot_bgcolor": "#E5ECF6",
          "polar": {
           "bgcolor": "#E5ECF6",
           "angularaxis": {
            "gridcolor": "white",
            "linecolor": "white",
            "ticks": ""
           },
           "radialaxis": {
            "gridcolor": "white",
            "linecolor": "white",
            "ticks": ""
           }
          },
          "ternary": {
           "bgcolor": "#E5ECF6",
           "aaxis": {
            "gridcolor": "white",
            "linecolor": "white",
            "ticks": ""
           },
           "baxis": {
            "gridcolor": "white",
            "linecolor": "white",
            "ticks": ""
           },
           "caxis": {
            "gridcolor": "white",
            "linecolor": "white",
            "ticks": ""
           }
          },
          "coloraxis": {
           "colorbar": {
            "outlinewidth": 0,
            "ticks": ""
           }
          },
          "colorscale": {
           "sequential": [
            [
             0.0,
             "#0d0887"
            ],
            [
             0.1111111111111111,
             "#46039f"
            ],
            [
             0.2222222222222222,
             "#7201a8"
            ],
            [
             0.3333333333333333,
             "#9c179e"
            ],
            [
             0.4444444444444444,
             "#bd3786"
            ],
            [
             0.5555555555555556,
             "#d8576b"
            ],
            [
             0.6666666666666666,
             "#ed7953"
            ],
            [
             0.7777777777777778,
             "#fb9f3a"
            ],
            [
             0.8888888888888888,
             "#fdca26"
            ],
            [
             1.0,
             "#f0f921"
            ]
           ],
           "sequentialminus": [
            [
             0.0,
             "#0d0887"
            ],
            [
             0.1111111111111111,
             "#46039f"
            ],
            [
             0.2222222222222222,
             "#7201a8"
            ],
            [
             0.3333333333333333,
             "#9c179e"
            ],
            [
             0.4444444444444444,
             "#bd3786"
            ],
            [
             0.5555555555555556,
             "#d8576b"
            ],
            [
             0.6666666666666666,
             "#ed7953"
            ],
            [
             0.7777777777777778,
             "#fb9f3a"
            ],
            [
             0.8888888888888888,
             "#fdca26"
            ],
            [
             1.0,
             "#f0f921"
            ]
           ],
           "diverging": [
            [
             0,
             "#8e0152"
            ],
            [
             0.1,
             "#c51b7d"
            ],
            [
             0.2,
             "#de77ae"
            ],
            [
             0.3,
             "#f1b6da"
            ],
            [
             0.4,
             "#fde0ef"
            ],
            [
             0.5,
             "#f7f7f7"
            ],
            [
             0.6,
             "#e6f5d0"
            ],
            [
             0.7,
             "#b8e186"
            ],
            [
             0.8,
             "#7fbc41"
            ],
            [
             0.9,
             "#4d9221"
            ],
            [
             1,
             "#276419"
            ]
           ]
          },
          "xaxis": {
           "gridcolor": "white",
           "linecolor": "white",
           "ticks": "",
           "title": {
            "standoff": 15
           },
           "zerolinecolor": "white",
           "automargin": true,
           "zerolinewidth": 2
          },
          "yaxis": {
           "gridcolor": "white",
           "linecolor": "white",
           "ticks": "",
           "title": {
            "standoff": 15
           },
           "zerolinecolor": "white",
           "automargin": true,
           "zerolinewidth": 2
          },
          "scene": {
           "xaxis": {
            "backgroundcolor": "#E5ECF6",
            "gridcolor": "white",
            "linecolor": "white",
            "showbackground": true,
            "ticks": "",
            "zerolinecolor": "white",
            "gridwidth": 2
           },
           "yaxis": {
            "backgroundcolor": "#E5ECF6",
            "gridcolor": "white",
            "linecolor": "white",
            "showbackground": true,
            "ticks": "",
            "zerolinecolor": "white",
            "gridwidth": 2
           },
           "zaxis": {
            "backgroundcolor": "#E5ECF6",
            "gridcolor": "white",
            "linecolor": "white",
            "showbackground": true,
            "ticks": "",
            "zerolinecolor": "white",
            "gridwidth": 2
           }
          },
          "shapedefaults": {
           "line": {
            "color": "#2a3f5f"
           }
          },
          "annotationdefaults": {
           "arrowcolor": "#2a3f5f",
           "arrowhead": 0,
           "arrowwidth": 1
          },
          "geo": {
           "bgcolor": "white",
           "landcolor": "#E5ECF6",
           "subunitcolor": "white",
           "showland": true,
           "showlakes": true,
           "lakecolor": "white"
          },
          "title": {
           "x": 0.05
          },
          "mapbox": {
           "style": "light"
          }
         }
        },
        "xaxis": {
         "anchor": "y",
         "domain": [
          0.0,
          1.0
         ],
         "title": {
          "text": "UMAP_1"
         },
         "showgrid": false,
         "zeroline": false
        },
        "yaxis": {
         "anchor": "x",
         "domain": [
          0.0,
          1.0
         ],
         "title": {
          "text": "UMAP_2"
         },
         "showgrid": false,
         "zeroline": false
        },
        "legend": {
         "title": {
          "text": "Variant"
         },
         "tracegroupgap": 0
        },
        "margin": {
         "t": 60
        },
        "font": {
         "family": "Courier New, monospace",
         "size": 18,
         "color": "RebeccaPurple"
        }
       },
       "config": {
        "plotlyServerURL": "https://plot.ly"
       }
      },
      "text/html": "<div>                            <div id=\"6728b10e-f574-4b18-8323-2fc91c3de38e\" class=\"plotly-graph-div\" style=\"height:525px; width:100%;\"></div>            <script type=\"text/javascript\">                require([\"plotly\"], function(Plotly) {                    window.PLOTLYENV=window.PLOTLYENV || {};                                    if (document.getElementById(\"6728b10e-f574-4b18-8323-2fc91c3de38e\")) {                    Plotly.newPlot(                        \"6728b10e-f574-4b18-8323-2fc91c3de38e\",                        [{\"hovertemplate\":\"Variant=Alpha\\u003cbr\\u003e0=%{x}\\u003cbr\\u003e1=%{y}\\u003cextra\\u003e\\u003c\\u002fextra\\u003e\",\"legendgroup\":\"Alpha\",\"marker\":{\"color\":\"#636efa\",\"symbol\":\"circle\"},\"mode\":\"markers\",\"name\":\"Alpha\",\"orientation\":\"v\",\"showlegend\":true,\"x\":[-1.7766027450561523,-1.4107706546783447,-1.6544523239135742,-1.7770663499832153,-1.38530695438385,-1.5460996627807617,-1.5809309482574463,-1.667130947113037,-0.9001242518424988,-2.103581428527832,-1.4966869354248047,-1.3333523273468018,-0.9367448687553406,-1.9810599088668823,-2.361739158630371,-1.7115817070007324,-1.845749020576477,-1.7545526027679443,-1.8500421047210693,-2.446293354034424,-2.4175219535827637,-1.097534418106079,-1.810313105583191,-0.9326176643371582,-1.4117774963378906,-2.4124114513397217,-2.2668468952178955,-1.0418250560760498,-1.9517391920089722,-2.5267176628112793,-1.7465218305587769,-2.584951162338257,-1.5242383480072021,-2.2884864807128906,-1.921903133392334,-1.6525468826293945,-2.0200726985931396,-1.959397315979004,-1.4571106433868408,-1.6809120178222656,-2.3561434745788574,-1.7338812351226807,-1.6805132627487183,-2.3823020458221436,-1.6169049739837646,-1.7061114311218262,-1.7115113735198975,-1.926663875579834,-1.9171303510665894,-1.6377639770507812,-1.3955563306808472,-1.8163524866104126,-1.532530665397644,-1.520277500152588,-2.042564868927002,-2.601546049118042,-1.6122558116912842,-1.7711411714553833,-2.208162546157837,-1.6495490074157715,-1.619940996170044,-0.9976616501808167,-0.9095771908760071,-1.6439005136489868,-2.295874834060669,-2.329634666442871,-2.2449002265930176,-1.3566540479660034,-2.222472667694092,-1.9893784523010254,-2.3613240718841553,-1.802333116531372,-2.354001045227051,-1.4058349132537842,-1.861338496208191,-2.114975690841675,-1.8754128217697144,-1.930755615234375,-0.8247158527374268,-1.2787445783615112,-1.0354312658309937,-2.412787437438965,-1.5949195623397827,-1.5968886613845825,-0.8474029302597046,-1.496443510055542,-0.9572498202323914,-1.6473106145858765,-1.453822374343872,-1.598875641822815,-1.530830979347229,-1.9825503826141357,-2.022965908050537,-1.7945382595062256,-1.703188180923462,-1.7634508609771729,-2.0743415355682373,-2.2963578701019287,-1.3481218814849854,-1.7081531286239624],\"xaxis\":\"x\",\"y\":[12.375916481018066,8.41464614868164,12.81411075592041,11.717731475830078,12.716248512268066,12.175605773925781,12.69566822052002,11.24462604522705,12.837620735168457,13.094158172607422,13.14419937133789,12.302275657653809,12.841087341308594,13.212845802307129,13.176365852355957,12.574292182922363,12.710593223571777,12.15633487701416,8.60822868347168,13.321197509765625,12.836976051330566,13.039917945861816,12.26186752319336,12.931282043457031,11.081995010375977,13.124505996704102,12.926308631896973,12.424605369567871,12.261281967163086,13.125080108642578,11.672527313232422,13.1922607421875,10.722457885742188,13.13913631439209,12.712214469909668,11.498917579650879,12.528413772583008,12.392899513244629,11.48936939239502,12.527656555175781,13.139396667480469,12.670397758483887,12.202428817749023,13.135343551635742,12.288599014282227,9.744059562683105,12.668031692504883,12.426370620727539,12.072707176208496,13.084830284118652,12.001503944396973,13.084156036376953,8.485648155212402,12.830147743225098,12.39359188079834,12.95008373260498,10.28309154510498,12.820347785949707,12.83281135559082,12.271879196166992,11.331191062927246,12.834562301635742,12.95439624786377,11.31344985961914,13.048888206481934,13.028701782226562,13.101470947265625,11.974329948425293,12.845193862915039,8.707500457763672,13.164855003356934,12.798686027526855,12.995999336242676,11.975687980651855,12.887079238891602,8.822127342224121,12.89248275756836,9.143831253051758,12.787434577941895,12.957225799560547,12.834945678710938,12.996170997619629,11.481456756591797,10.434640884399414,12.836481094360352,12.988965034484863,12.903321266174316,8.03364086151123,13.11229419708252,13.168340682983398,10.878425598144531,12.477131843566895,13.21595287322998,12.528862953186035,12.761605262756348,12.576181411743164,12.931224822998047,12.959312438964844,8.401832580566406,12.380993843078613],\"yaxis\":\"y\",\"type\":\"scatter\"},{\"hovertemplate\":\"Variant=Beta\\u003cbr\\u003e0=%{x}\\u003cbr\\u003e1=%{y}\\u003cextra\\u003e\\u003c\\u002fextra\\u003e\",\"legendgroup\":\"Beta\",\"marker\":{\"color\":\"#EF553B\",\"symbol\":\"circle\"},\"mode\":\"markers\",\"name\":\"Beta\",\"orientation\":\"v\",\"showlegend\":true,\"x\":[11.13737964630127,10.084247589111328,9.612022399902344,10.127734184265137,10.732381820678711,10.51924991607666,10.98621940612793,10.182723045349121,10.960840225219727,10.28494930267334,11.167468070983887,8.239246368408203,8.294116020202637,10.552146911621094,10.340276718139648,10.611931800842285,8.359780311584473,10.246650695800781,11.186590194702148,9.692100524902344,10.189661026000977,10.598730087280273,10.632737159729004,10.59826946258545,10.47989273071289,10.231864929199219,10.550323486328125,8.166207313537598,10.544034004211426,10.748315811157227,10.625855445861816,-1.7108644247055054,10.509888648986816,10.945542335510254,10.34703540802002,10.60214900970459,9.76451301574707,11.266315460205078,8.36286735534668,10.576595306396484,11.185835838317871,8.260876655578613,11.15261173248291,-1.5546106100082397,10.134060859680176,10.115060806274414,8.3627347946167,10.444734573364258,9.988458633422852,10.752758026123047,10.413290977478027,10.107658386230469,10.600377082824707,10.56484603881836,10.186993598937988,10.153897285461426,8.426947593688965,9.726865768432617,10.879143714904785,-1.6043022871017456,-2.0736801624298096,10.53353500366211,8.437718391418457,10.077797889709473,10.2646484375,10.690530776977539,10.274471282958984,10.42636489868164,10.411478042602539,8.355907440185547,10.199706077575684,10.963632583618164,-1.7572587728500366,11.232131004333496,9.977248191833496,10.576189994812012,10.336751937866211,10.254457473754883,10.217856407165527,8.315670013427734,9.617048263549805,-2.044344902038574,-1.4064695835113525,10.324870109558105,-1.8670963048934937,8.575260162353516,11.154491424560547,10.128701210021973,10.79568862915039,10.566946983337402,8.261292457580566,8.331055641174316,-1.5877149105072021,10.563787460327148,9.68187141418457,9.833669662475586,10.902188301086426,10.383976936340332,10.422956466674805,9.646510124206543],\"xaxis\":\"x\",\"y\":[12.044618606567383,12.603797912597656,12.426183700561523,13.072906494140625,11.850300788879395,12.840500831604004,12.281828880310059,13.227581024169922,12.17264175415039,12.578287124633789,12.772889137268066,12.084708213806152,12.183836936950684,12.463329315185547,12.963398933410645,13.06702995300293,12.153812408447266,13.19456958770752,12.191007614135742,12.781107902526855,12.085333824157715,13.032721519470215,11.904308319091797,12.714433670043945,12.241495132446289,12.63912296295166,12.772217750549316,11.999390602111816,12.694165229797363,11.981554985046387,12.183883666992188,8.036064147949219,12.949748992919922,11.992622375488281,12.118911743164062,12.945773124694824,12.604605674743652,12.790899276733398,12.174427032470703,12.843121528625488,12.725814819335938,12.087823867797852,12.767110824584961,9.915114402770996,12.785964012145996,13.138401985168457,12.174762725830078,12.815181732177734,13.085423469543457,12.350146293640137,12.9483003616333,12.74522876739502,12.981490135192871,11.879344940185547,12.744917869567871,12.65998363494873,12.11308479309082,12.645139694213867,12.330702781677246,8.401524543762207,8.9442777633667,11.918395042419434,12.271909713745117,13.11147689819336,12.578290939331055,12.694428443908691,13.168623924255371,12.824254989624023,12.775434494018555,12.187000274658203,12.72415542602539,12.25938892364502,8.108222961425781,12.676017761230469,12.662101745605469,12.817620277404785,12.828977584838867,12.910368919372559,12.711495399475098,12.160042762756348,12.587459564208984,8.490915298461914,8.407690048217773,12.961588859558105,8.606124877929688,12.24947452545166,12.744928359985352,12.861835479736328,12.401108741760254,12.582196235656738,12.075294494628906,12.179034233093262,8.125060081481934,12.68097972869873,12.573729515075684,12.542195320129395,11.908712387084961,12.538808822631836,12.704692840576172,12.58228588104248],\"yaxis\":\"y\",\"type\":\"scatter\"},{\"hovertemplate\":\"Variant=Delta\\u003cbr\\u003e0=%{x}\\u003cbr\\u003e1=%{y}\\u003cextra\\u003e\\u003c\\u002fextra\\u003e\",\"legendgroup\":\"Delta\",\"marker\":{\"color\":\"#00cc96\",\"symbol\":\"circle\"},\"mode\":\"markers\",\"name\":\"Delta\",\"orientation\":\"v\",\"showlegend\":true,\"x\":[13.77238655090332,13.679034233093262,13.736808776855469,13.0607328414917,12.18661117553711,12.401525497436523,14.52025032043457,13.129476547241211,13.883111953735352,12.266544342041016,11.519891738891602,13.01469898223877,12.099339485168457,13.947664260864258,14.55070686340332,14.544157981872559,13.832660675048828,13.691154479980469,12.572315216064453,12.505338668823242,11.527539253234863,12.454647064208984,13.100025177001953,13.11561107635498,12.998551368713379,12.625775337219238,12.858199119567871,13.03349781036377,12.611391067504883,12.153543472290039,-1.7547798156738281,12.893420219421387,-1.7199671268463135,12.431044578552246,12.923611640930176,12.319266319274902,12.618670463562012,11.664331436157227,12.966233253479004,13.05733871459961,-1.7401201725006104,-2.0096728801727295,-1.8766722679138184,11.565013885498047,13.81182861328125,12.877610206604004,13.404013633728027,13.747414588928223,12.168164253234863,13.544866561889648,13.844569206237793,-2.0688326358795166,12.599427223205566,12.562122344970703,12.114924430847168,14.492424964904785,12.058541297912598,12.493797302246094,12.875547409057617,11.548850059509277,12.223929405212402,13.725072860717773,14.526080131530762,14.569852828979492,11.514849662780762,13.27999496459961,13.704345703125,13.605276107788086,12.515456199645996,-1.816515564918518,12.645573616027832,12.489151000976562,13.501887321472168,12.043014526367188,12.199938774108887,11.534297943115234,13.054468154907227,14.492605209350586,13.41075611114502,13.23990535736084,14.417640686035156,13.854220390319824,-2.0690197944641113,12.18441390991211,12.710206985473633,12.681904792785645,12.489683151245117,13.27202033996582,13.073586463928223,13.031587600708008,12.10768985748291,12.172870635986328,13.463218688964844,12.759295463562012,13.697565078735352,13.776535034179688,14.482723236083984,12.676128387451172,14.569524765014648],\"xaxis\":\"x\",\"y\":[-1.2353709936141968,-1.3050658702850342,-0.9823082685470581,-2.9233791828155518,-3.225426435470581,-3.4797112941741943,-1.8400925397872925,-3.022676706314087,-1.0766791105270386,-3.030669927597046,-3.5321130752563477,-3.7541699409484863,-3.2182297706604004,-1.1239538192749023,-1.803390622138977,-1.836910605430603,-1.1147171258926392,-1.2473852634429932,-2.997436046600342,-3.1969292163848877,-3.4819719791412354,-3.433427095413208,-3.249396800994873,-3.6414849758148193,-3.615326166152954,-3.1304664611816406,-3.664658546447754,-3.2365522384643555,-3.1973793506622314,-3.2237327098846436,9.730413436889648,-3.696326732635498,8.583976745605469,-3.5956363677978516,-3.618525266647339,-3.2287437915802,-3.2412269115448,-3.5208163261413574,-3.7288873195648193,-3.6938791275024414,9.850127220153809,9.108512878417969,9.44583511352539,-3.4779727458953857,-1.1355314254760742,-3.5629873275756836,-1.9116131067276,-1.3082199096679688,-3.313992738723755,-1.4286081790924072,-1.2338656187057495,9.003334999084473,-3.2134525775909424,-2.737379312515259,-3.1454741954803467,-1.8332878351211548,-3.1686758995056152,-3.1618335247039795,-3.659562826156616,-3.5376617908477783,-3.3805599212646484,-1.2701748609542847,-1.8369544744491577,-1.8981684446334839,-3.498727560043335,-2.579519033432007,-1.2587939500808716,-1.2171112298965454,-3.142435312271118,8.54236888885498,-3.5901787281036377,-3.2374348640441895,-1.6337881088256836,-3.2639055252075195,-3.135312557220459,-3.512507677078247,-3.6900665760040283,-1.763915777206421,-1.732460856437683,-2.7146739959716797,-1.8045729398727417,-1.2045319080352783,8.91260051727295,-3.2140069007873535,-2.363560438156128,-2.6406733989715576,-3.4662935733795166,-2.756455898284912,-3.5078537464141846,-2.8813905715942383,-3.232245683670044,-3.1463117599487305,-1.669697642326355,-3.563375234603882,-1.3586148023605347,-1.27583909034729,-1.7859954833984375,-3.550187349319458,-1.8859871625900269],\"yaxis\":\"y\",\"type\":\"scatter\"},{\"hovertemplate\":\"Variant=Gamma\\u003cbr\\u003e0=%{x}\\u003cbr\\u003e1=%{y}\\u003cextra\\u003e\\u003c\\u002fextra\\u003e\",\"legendgroup\":\"Gamma\",\"marker\":{\"color\":\"#ab63fa\",\"symbol\":\"circle\"},\"mode\":\"markers\",\"name\":\"Gamma\",\"orientation\":\"v\",\"showlegend\":true,\"x\":[-1.6355888843536377,-1.9627524614334106,-1.7331335544586182],\"xaxis\":\"x\",\"y\":[13.203112602233887,8.704256057739258,11.279253959655762],\"yaxis\":\"y\",\"type\":\"scatter\"},{\"hovertemplate\":\"Variant=Omicron\\u003cbr\\u003e0=%{x}\\u003cbr\\u003e1=%{y}\\u003cextra\\u003e\\u003c\\u002fextra\\u003e\",\"legendgroup\":\"Omicron\",\"marker\":{\"color\":\"#FFA15A\",\"symbol\":\"circle\"},\"mode\":\"markers\",\"name\":\"Omicron\",\"orientation\":\"v\",\"showlegend\":true,\"x\":[1.4935835599899292,-3.0863161087036133,1.2815611362457275,-2.889082908630371,1.644978642463684,1.5888934135437012,1.561262607574463,-1.6738201379776,1.716874599456787,1.326462984085083,1.4360451698303223,-0.3929753303527832,0.6496732831001282,-1.6327977180480957,0.6204394698143005,-0.15188229084014893,1.4051138162612915,1.941506266593933,-2.6438441276550293,1.4743306636810303,13.152203559875488,1.7691490650177002,1.7575342655181885,0.8929147720336914,-0.14098897576332092,1.640119194984436,-2.7289230823516846,1.4351779222488403,1.6936407089233398,1.2526843547821045,-4.070756435394287,-0.11072865128517151,1.3170467615127563,1.7225494384765625,1.798582911491394,1.6451916694641113,-0.4138554632663727,1.6436588764190674,1.336696743965149,-2.4011070728302,-0.3589087426662445,12.92244815826416,1.2132564783096313,-2.3674895763397217,1.1979669332504272,1.609513282775879,1.81380295753479,-2.0232913494110107,1.4211562871932983,-3.972907066345215,-3.49812388420105,1.4559861421585083,1.4404531717300415,-2.944622755050659,-2.188905954360962,-0.3000379204750061,-0.3842363655567169,1.5173481702804565,-3.5903501510620117,1.4831106662750244,1.384041428565979,1.777854323387146,1.9829121828079224,1.7795610427856445,-0.11250032484531403,1.4865652322769165,1.4943480491638184,13.138909339904785,1.6774969100952148,1.236541748046875,1.6485310792922974,1.303551197052002,1.3853483200073242,-0.2260826975107193,1.3105577230453491,-0.5025759935379028,-0.3751535415649414,-0.44910919666290283,0.5560235381126404,1.5684884786605835,1.6690874099731445,0.5712893605232239,1.7291455268859863,1.5936799049377441,1.8080589771270752,1.5482414960861206,1.8335213661193848,-0.33742138743400574,-0.2693113088607788,-1.5626448392868042,1.8107483386993408,1.8134737014770508,-3.6035006046295166,0.46469148993492126,1.5150649547576904,1.4509230852127075,0.5499207377433777,0.9061253666877747,-0.4394785165786743,12.78696346282959],\"xaxis\":\"x\",\"y\":[-9.258628845214844,5.75169038772583,-8.890375137329102,6.577975749969482,-9.335177421569824,-8.422210693359375,-9.384051322937012,8.340230941772461,-8.017701148986816,-9.223531723022461,-9.355167388916016,-7.285704612731934,-9.419118881225586,9.740031242370605,-9.432668685913086,-7.4691572189331055,-9.293882369995117,-8.347082138061523,7.569189071655273,-9.038758277893066,-2.8052618503570557,-8.736738204956055,-7.978569030761719,-8.746175765991211,-7.470633029937744,-8.565099716186523,7.353708744049072,-9.012680053710938,-8.565640449523926,-7.630863189697266,7.06422758102417,-7.497172832489014,-7.666130542755127,-8.816901206970215,-9.454113960266113,-9.279211044311523,-7.271376609802246,-7.989764213562012,-9.112443923950195,7.817159175872803,-7.223958492279053,-2.8124496936798096,-8.808040618896484,7.910320281982422,-8.859430313110352,-9.3766508102417,-8.106593132019043,8.164929389953613,-8.748421669006348,7.124483108520508,6.7568039894104,-8.808324813842773,-7.742974281311035,7.365249156951904,8.037843704223633,-7.379888534545898,-7.293600559234619,-9.414253234863281,4.76168966293335,-9.35468864440918,-9.035308837890625,-8.924355506896973,-8.361401557922363,-7.970834732055664,-7.431605815887451,-9.254507064819336,-9.369270324707031,-2.6611080169677734,-9.03835391998291,-8.814836502075195,-7.994540214538574,-9.307334899902344,-8.83691120147705,-7.465993404388428,-8.872769355773926,-7.182818412780762,-7.303696155548096,-7.271275043487549,-9.438475608825684,-9.277205467224121,-8.020145416259766,-9.409052848815918,-8.07814884185791,-9.138526916503906,-9.137227058410645,-9.241835594177246,-9.159773826599121,-7.338493824005127,-7.391881465911865,8.394400596618652,-8.112475395202637,-8.075654029846191,4.873165130615234,-9.364998817443848,-8.619275093078613,-9.225395202636719,-9.47312068939209,-8.649515151977539,-7.334506511688232,-2.9550249576568604],\"yaxis\":\"y\",\"type\":\"scatter\"},{\"hovertemplate\":\"Variant=Omicron Sub\\u003cbr\\u003e0=%{x}\\u003cbr\\u003e1=%{y}\\u003cextra\\u003e\\u003c\\u002fextra\\u003e\",\"legendgroup\":\"Omicron Sub\",\"marker\":{\"color\":\"#19d3f3\",\"symbol\":\"circle\"},\"mode\":\"markers\",\"name\":\"Omicron Sub\",\"orientation\":\"v\",\"showlegend\":true,\"x\":[-3.382714033126831,-2.046330451965332,-4.153985977172852,-3.149109125137329,-4.035222053527832,-3.8852124214172363,-4.232053279876709,-4.607855796813965,-2.935716390609741,-4.292294979095459,-4.409481048583984,-4.547131538391113,-3.794210910797119,-2.843998432159424,-2.470905303955078,-1.642535924911499,-4.452963829040527,-4.108030796051025,-4.04387903213501,-3.8332278728485107,-4.333391189575195,-1.4487054347991943,-4.074681282043457,-3.9914650917053223,-4.210872650146484,-4.13950252532959,-3.4692294597625732,-3.498960018157959,-3.591132402420044,-3.6352005004882812,-2.9780688285827637,-4.0680131912231445,-4.520697593688965,-4.301258087158203,-4.387913227081299,-4.554256916046143,-3.5601723194122314,-4.339166164398193,-4.329192638397217,-3.249077081680298,-4.258994102478027,-1.5381379127502441,-3.6372597217559814,-2.375065565109253,-1.5458287000656128,-3.7627131938934326,-4.038628101348877,-3.55315899848938,-3.982189893722534,-4.698657512664795,-3.6592001914978027,-2.960827350616455,-4.170433521270752,-3.7704405784606934,-3.4366419315338135,-4.684270858764648,-3.1777496337890625,-3.53884220123291,-3.695770502090454,-4.163944721221924,-4.361540794372559,-4.2134175300598145,-4.360321044921875,-4.6408281326293945,-4.353078842163086,-3.698110580444336,-3.659108877182007,-2.534863233566284,-4.265352249145508,-4.340303421020508,-4.31141996383667,-4.035266399383545,-4.63856840133667,-3.8233306407928467,-3.666315793991089,-4.142058849334717,-3.0859689712524414,-4.387897968292236,-3.9795174598693848,-4.260789394378662,-4.127906799316406,-3.6290628910064697,-4.0234599113464355,-3.31032395362854,-2.380164384841919,-3.248699426651001,1.3031156063079834,-1.4646434783935547,-4.360746383666992,-4.348045825958252,-4.571624755859375,-3.691187858581543,-2.9029486179351807],\"xaxis\":\"x\",\"y\":[5.277735710144043,8.088604927062988,5.830901145935059,5.637432098388672,4.606058597564697,4.648630619049072,4.662959098815918,5.067663669586182,6.544649124145508,4.336216449737549,5.753170013427734,4.705573558807373,4.84421443939209,6.828271389007568,7.751955986022949,8.319759368896484,5.684596061706543,4.663633346557617,7.038544178009033,4.554003715515137,5.890923976898193,8.269740104675293,4.582502365112305,4.685035228729248,5.320483684539795,4.49055290222168,6.710256576538086,6.679377555847168,6.594532489776611,4.916013717651367,6.738954067230225,4.664004802703857,4.857335090637207,5.8650126457214355,5.817797660827637,5.221691131591797,6.65430212020874,5.950662612915039,5.9144158363342285,6.826552867889404,4.431683540344238,8.230606079101562,6.54857873916626,7.873152256011963,8.241117477416992,4.805913925170898,7.036917686462402,6.480520725250244,4.793283462524414,4.931375503540039,4.717206954956055,6.495454788208008,4.610889434814453,6.210128307342529,6.780088901519775,4.999252796173096,6.1832709312438965,4.988592147827148,5.058018684387207,6.932613372802734,4.434524059295654,4.375500679016113,5.88188362121582,4.915329933166504,4.4275617599487305,4.850048065185547,4.945060729980469,7.6566972732543945,4.530914306640625,5.4461894035339355,4.370790004730225,7.061461448669434,5.024384498596191,4.792582988739014,4.8619256019592285,5.418646812438965,6.0023980140686035,4.2896504402160645,6.942693710327148,4.358217716217041,5.7490973472595215,6.527515888214111,5.902371883392334,5.377453327178955,7.848181247711182,5.505809307098389,-9.036230087280273,8.274352073669434,4.422872066497803,4.86068868637085,5.068759441375732,4.919015884399414,6.577706813812256],\"yaxis\":\"y\",\"type\":\"scatter\"}],                        {\"template\":{\"data\":{\"histogram2dcontour\":[{\"type\":\"histogram2dcontour\",\"colorbar\":{\"outlinewidth\":0,\"ticks\":\"\"},\"colorscale\":[[0.0,\"#0d0887\"],[0.1111111111111111,\"#46039f\"],[0.2222222222222222,\"#7201a8\"],[0.3333333333333333,\"#9c179e\"],[0.4444444444444444,\"#bd3786\"],[0.5555555555555556,\"#d8576b\"],[0.6666666666666666,\"#ed7953\"],[0.7777777777777778,\"#fb9f3a\"],[0.8888888888888888,\"#fdca26\"],[1.0,\"#f0f921\"]]}],\"choropleth\":[{\"type\":\"choropleth\",\"colorbar\":{\"outlinewidth\":0,\"ticks\":\"\"}}],\"histogram2d\":[{\"type\":\"histogram2d\",\"colorbar\":{\"outlinewidth\":0,\"ticks\":\"\"},\"colorscale\":[[0.0,\"#0d0887\"],[0.1111111111111111,\"#46039f\"],[0.2222222222222222,\"#7201a8\"],[0.3333333333333333,\"#9c179e\"],[0.4444444444444444,\"#bd3786\"],[0.5555555555555556,\"#d8576b\"],[0.6666666666666666,\"#ed7953\"],[0.7777777777777778,\"#fb9f3a\"],[0.8888888888888888,\"#fdca26\"],[1.0,\"#f0f921\"]]}],\"heatmap\":[{\"type\":\"heatmap\",\"colorbar\":{\"outlinewidth\":0,\"ticks\":\"\"},\"colorscale\":[[0.0,\"#0d0887\"],[0.1111111111111111,\"#46039f\"],[0.2222222222222222,\"#7201a8\"],[0.3333333333333333,\"#9c179e\"],[0.4444444444444444,\"#bd3786\"],[0.5555555555555556,\"#d8576b\"],[0.6666666666666666,\"#ed7953\"],[0.7777777777777778,\"#fb9f3a\"],[0.8888888888888888,\"#fdca26\"],[1.0,\"#f0f921\"]]}],\"heatmapgl\":[{\"type\":\"heatmapgl\",\"colorbar\":{\"outlinewidth\":0,\"ticks\":\"\"},\"colorscale\":[[0.0,\"#0d0887\"],[0.1111111111111111,\"#46039f\"],[0.2222222222222222,\"#7201a8\"],[0.3333333333333333,\"#9c179e\"],[0.4444444444444444,\"#bd3786\"],[0.5555555555555556,\"#d8576b\"],[0.6666666666666666,\"#ed7953\"],[0.7777777777777778,\"#fb9f3a\"],[0.8888888888888888,\"#fdca26\"],[1.0,\"#f0f921\"]]}],\"contourcarpet\":[{\"type\":\"contourcarpet\",\"colorbar\":{\"outlinewidth\":0,\"ticks\":\"\"}}],\"contour\":[{\"type\":\"contour\",\"colorbar\":{\"outlinewidth\":0,\"ticks\":\"\"},\"colorscale\":[[0.0,\"#0d0887\"],[0.1111111111111111,\"#46039f\"],[0.2222222222222222,\"#7201a8\"],[0.3333333333333333,\"#9c179e\"],[0.4444444444444444,\"#bd3786\"],[0.5555555555555556,\"#d8576b\"],[0.6666666666666666,\"#ed7953\"],[0.7777777777777778,\"#fb9f3a\"],[0.8888888888888888,\"#fdca26\"],[1.0,\"#f0f921\"]]}],\"surface\":[{\"type\":\"surface\",\"colorbar\":{\"outlinewidth\":0,\"ticks\":\"\"},\"colorscale\":[[0.0,\"#0d0887\"],[0.1111111111111111,\"#46039f\"],[0.2222222222222222,\"#7201a8\"],[0.3333333333333333,\"#9c179e\"],[0.4444444444444444,\"#bd3786\"],[0.5555555555555556,\"#d8576b\"],[0.6666666666666666,\"#ed7953\"],[0.7777777777777778,\"#fb9f3a\"],[0.8888888888888888,\"#fdca26\"],[1.0,\"#f0f921\"]]}],\"mesh3d\":[{\"type\":\"mesh3d\",\"colorbar\":{\"outlinewidth\":0,\"ticks\":\"\"}}],\"scatter\":[{\"fillpattern\":{\"fillmode\":\"overlay\",\"size\":10,\"solidity\":0.2},\"type\":\"scatter\"}],\"parcoords\":[{\"type\":\"parcoords\",\"line\":{\"colorbar\":{\"outlinewidth\":0,\"ticks\":\"\"}}}],\"scatterpolargl\":[{\"type\":\"scatterpolargl\",\"marker\":{\"colorbar\":{\"outlinewidth\":0,\"ticks\":\"\"}}}],\"bar\":[{\"error_x\":{\"color\":\"#2a3f5f\"},\"error_y\":{\"color\":\"#2a3f5f\"},\"marker\":{\"line\":{\"color\":\"#E5ECF6\",\"width\":0.5},\"pattern\":{\"fillmode\":\"overlay\",\"size\":10,\"solidity\":0.2}},\"type\":\"bar\"}],\"scattergeo\":[{\"type\":\"scattergeo\",\"marker\":{\"colorbar\":{\"outlinewidth\":0,\"ticks\":\"\"}}}],\"scatterpolar\":[{\"type\":\"scatterpolar\",\"marker\":{\"colorbar\":{\"outlinewidth\":0,\"ticks\":\"\"}}}],\"histogram\":[{\"marker\":{\"pattern\":{\"fillmode\":\"overlay\",\"size\":10,\"solidity\":0.2}},\"type\":\"histogram\"}],\"scattergl\":[{\"type\":\"scattergl\",\"marker\":{\"colorbar\":{\"outlinewidth\":0,\"ticks\":\"\"}}}],\"scatter3d\":[{\"type\":\"scatter3d\",\"line\":{\"colorbar\":{\"outlinewidth\":0,\"ticks\":\"\"}},\"marker\":{\"colorbar\":{\"outlinewidth\":0,\"ticks\":\"\"}}}],\"scattermapbox\":[{\"type\":\"scattermapbox\",\"marker\":{\"colorbar\":{\"outlinewidth\":0,\"ticks\":\"\"}}}],\"scatterternary\":[{\"type\":\"scatterternary\",\"marker\":{\"colorbar\":{\"outlinewidth\":0,\"ticks\":\"\"}}}],\"scattercarpet\":[{\"type\":\"scattercarpet\",\"marker\":{\"colorbar\":{\"outlinewidth\":0,\"ticks\":\"\"}}}],\"carpet\":[{\"aaxis\":{\"endlinecolor\":\"#2a3f5f\",\"gridcolor\":\"white\",\"linecolor\":\"white\",\"minorgridcolor\":\"white\",\"startlinecolor\":\"#2a3f5f\"},\"baxis\":{\"endlinecolor\":\"#2a3f5f\",\"gridcolor\":\"white\",\"linecolor\":\"white\",\"minorgridcolor\":\"white\",\"startlinecolor\":\"#2a3f5f\"},\"type\":\"carpet\"}],\"table\":[{\"cells\":{\"fill\":{\"color\":\"#EBF0F8\"},\"line\":{\"color\":\"white\"}},\"header\":{\"fill\":{\"color\":\"#C8D4E3\"},\"line\":{\"color\":\"white\"}},\"type\":\"table\"}],\"barpolar\":[{\"marker\":{\"line\":{\"color\":\"#E5ECF6\",\"width\":0.5},\"pattern\":{\"fillmode\":\"overlay\",\"size\":10,\"solidity\":0.2}},\"type\":\"barpolar\"}],\"pie\":[{\"automargin\":true,\"type\":\"pie\"}]},\"layout\":{\"autotypenumbers\":\"strict\",\"colorway\":[\"#636efa\",\"#EF553B\",\"#00cc96\",\"#ab63fa\",\"#FFA15A\",\"#19d3f3\",\"#FF6692\",\"#B6E880\",\"#FF97FF\",\"#FECB52\"],\"font\":{\"color\":\"#2a3f5f\"},\"hovermode\":\"closest\",\"hoverlabel\":{\"align\":\"left\"},\"paper_bgcolor\":\"white\",\"plot_bgcolor\":\"#E5ECF6\",\"polar\":{\"bgcolor\":\"#E5ECF6\",\"angularaxis\":{\"gridcolor\":\"white\",\"linecolor\":\"white\",\"ticks\":\"\"},\"radialaxis\":{\"gridcolor\":\"white\",\"linecolor\":\"white\",\"ticks\":\"\"}},\"ternary\":{\"bgcolor\":\"#E5ECF6\",\"aaxis\":{\"gridcolor\":\"white\",\"linecolor\":\"white\",\"ticks\":\"\"},\"baxis\":{\"gridcolor\":\"white\",\"linecolor\":\"white\",\"ticks\":\"\"},\"caxis\":{\"gridcolor\":\"white\",\"linecolor\":\"white\",\"ticks\":\"\"}},\"coloraxis\":{\"colorbar\":{\"outlinewidth\":0,\"ticks\":\"\"}},\"colorscale\":{\"sequential\":[[0.0,\"#0d0887\"],[0.1111111111111111,\"#46039f\"],[0.2222222222222222,\"#7201a8\"],[0.3333333333333333,\"#9c179e\"],[0.4444444444444444,\"#bd3786\"],[0.5555555555555556,\"#d8576b\"],[0.6666666666666666,\"#ed7953\"],[0.7777777777777778,\"#fb9f3a\"],[0.8888888888888888,\"#fdca26\"],[1.0,\"#f0f921\"]],\"sequentialminus\":[[0.0,\"#0d0887\"],[0.1111111111111111,\"#46039f\"],[0.2222222222222222,\"#7201a8\"],[0.3333333333333333,\"#9c179e\"],[0.4444444444444444,\"#bd3786\"],[0.5555555555555556,\"#d8576b\"],[0.6666666666666666,\"#ed7953\"],[0.7777777777777778,\"#fb9f3a\"],[0.8888888888888888,\"#fdca26\"],[1.0,\"#f0f921\"]],\"diverging\":[[0,\"#8e0152\"],[0.1,\"#c51b7d\"],[0.2,\"#de77ae\"],[0.3,\"#f1b6da\"],[0.4,\"#fde0ef\"],[0.5,\"#f7f7f7\"],[0.6,\"#e6f5d0\"],[0.7,\"#b8e186\"],[0.8,\"#7fbc41\"],[0.9,\"#4d9221\"],[1,\"#276419\"]]},\"xaxis\":{\"gridcolor\":\"white\",\"linecolor\":\"white\",\"ticks\":\"\",\"title\":{\"standoff\":15},\"zerolinecolor\":\"white\",\"automargin\":true,\"zerolinewidth\":2},\"yaxis\":{\"gridcolor\":\"white\",\"linecolor\":\"white\",\"ticks\":\"\",\"title\":{\"standoff\":15},\"zerolinecolor\":\"white\",\"automargin\":true,\"zerolinewidth\":2},\"scene\":{\"xaxis\":{\"backgroundcolor\":\"#E5ECF6\",\"gridcolor\":\"white\",\"linecolor\":\"white\",\"showbackground\":true,\"ticks\":\"\",\"zerolinecolor\":\"white\",\"gridwidth\":2},\"yaxis\":{\"backgroundcolor\":\"#E5ECF6\",\"gridcolor\":\"white\",\"linecolor\":\"white\",\"showbackground\":true,\"ticks\":\"\",\"zerolinecolor\":\"white\",\"gridwidth\":2},\"zaxis\":{\"backgroundcolor\":\"#E5ECF6\",\"gridcolor\":\"white\",\"linecolor\":\"white\",\"showbackground\":true,\"ticks\":\"\",\"zerolinecolor\":\"white\",\"gridwidth\":2}},\"shapedefaults\":{\"line\":{\"color\":\"#2a3f5f\"}},\"annotationdefaults\":{\"arrowcolor\":\"#2a3f5f\",\"arrowhead\":0,\"arrowwidth\":1},\"geo\":{\"bgcolor\":\"white\",\"landcolor\":\"#E5ECF6\",\"subunitcolor\":\"white\",\"showland\":true,\"showlakes\":true,\"lakecolor\":\"white\"},\"title\":{\"x\":0.05},\"mapbox\":{\"style\":\"light\"}}},\"xaxis\":{\"anchor\":\"y\",\"domain\":[0.0,1.0],\"title\":{\"text\":\"UMAP_1\"},\"showgrid\":false,\"zeroline\":false},\"yaxis\":{\"anchor\":\"x\",\"domain\":[0.0,1.0],\"title\":{\"text\":\"UMAP_2\"},\"showgrid\":false,\"zeroline\":false},\"legend\":{\"title\":{\"text\":\"Variant\"},\"tracegroupgap\":0},\"margin\":{\"t\":60},\"font\":{\"family\":\"Courier New, monospace\",\"size\":18,\"color\":\"RebeccaPurple\"}},                        {\"responsive\": true}                    ).then(function(){\n                            \nvar gd = document.getElementById('6728b10e-f574-4b18-8323-2fc91c3de38e');\nvar x = new MutationObserver(function (mutations, observer) {{\n        var display = window.getComputedStyle(gd).display;\n        if (!display || display === 'none') {{\n            console.log([gd, 'removed!']);\n            Plotly.purge(gd);\n            observer.disconnect();\n        }}\n}});\n\n// Listen for the removal of the full notebook cells\nvar notebookContainer = gd.closest('#notebook-container');\nif (notebookContainer) {{\n    x.observe(notebookContainer, {childList: true});\n}}\n\n// Listen for the clearing of the current output cell\nvar outputEl = gd.closest('.output');\nif (outputEl) {{\n    x.observe(outputEl, {childList: true});\n}}\n\n                        })                };                });            </script>        </div>"
     },
     "metadata": {},
     "output_type": "display_data"
    },
    {
     "data": {
      "application/vnd.plotly.v1+json": {
       "data": [
        {
         "hovertemplate": "Variant=Alpha<br>0=%{x}<br>1=%{y}<extra></extra>",
         "legendgroup": "Alpha",
         "marker": {
          "color": "#636efa",
          "symbol": "circle"
         },
         "mode": "markers",
         "name": "Alpha",
         "orientation": "v",
         "showlegend": true,
         "x": [
          9.979382514953613,
          13.139822959899902,
          10.679109573364258,
          10.105774879455566,
          11.112237930297852,
          10.180436134338379,
          9.932068824768066,
          10.041669845581055,
          11.20129108428955,
          10.774791717529297,
          9.978772163391113,
          11.157732963562012,
          11.096033096313477,
          10.711664199829102,
          9.815688133239746,
          9.737127304077148,
          10.10134506225586,
          9.808897972106934,
          13.047444343566895,
          10.256901741027832,
          10.206852912902832,
          10.933012008666992,
          10.152034759521484,
          11.069539070129395,
          10.049059867858887,
          9.81849479675293,
          9.86058235168457,
          10.956674575805664,
          10.707427978515625,
          9.904740333557129,
          10.869596481323242,
          10.153141975402832,
          10.20630931854248,
          10.565873146057129,
          10.380868911743164,
          10.784880638122559,
          10.17272663116455,
          10.249211311340332,
          10.359709739685059,
          10.54764175415039,
          10.43591022491455,
          10.071564674377441,
          10.137480735778809,
          9.809993743896484,
          10.237406730651855,
          13.280903816223145,
          10.332137107849121,
          10.128509521484375,
          10.700053215026855,
          11.039739608764648,
          10.254922866821289,
          10.690385818481445,
          10.802931785583496,
          10.954354286193848,
          10.241077423095703,
          10.285017013549805,
          10.148066520690918,
          10.177301406860352,
          10.238883972167969,
          10.773866653442383,
          10.753796577453613,
          10.827795028686523,
          10.999578475952148,
          10.844793319702148,
          10.433218955993652,
          10.380819320678711,
          10.365386962890625,
          10.390833854675293,
          10.29996109008789,
          13.092613220214844,
          10.387534141540527,
          9.993009567260742,
          10.408669471740723,
          10.426218032836914,
          10.145631790161133,
          13.146137237548828,
          10.643548011779785,
          13.241010665893555,
          10.997573852539062,
          10.795077323913574,
          11.048074722290039,
          10.388784408569336,
          10.505010604858398,
          10.55153751373291,
          10.897375106811523,
          10.153013229370117,
          10.99532413482666,
          15.985005378723145,
          10.226511001586914,
          10.736944198608398,
          10.141928672790527,
          10.704331398010254,
          10.748544692993164,
          10.256501197814941,
          10.234640121459961,
          10.404644012451172,
          10.584291458129883,
          10.483281135559082,
          12.838659286499023,
          10.10809326171875
         ],
         "xaxis": "x",
         "y": [
          11.794681549072266,
          6.2149658203125,
          12.324853897094727,
          12.320029258728027,
          12.07641315460205,
          12.516783714294434,
          11.753305435180664,
          11.646255493164062,
          12.108917236328125,
          12.6728515625,
          12.142006874084473,
          11.977058410644531,
          12.019533157348633,
          12.948872566223145,
          12.541343688964844,
          11.941556930541992,
          12.47021484375,
          11.527859687805176,
          5.382252216339111,
          12.065710067749023,
          12.069799423217773,
          12.17906665802002,
          11.51346206665039,
          11.878143310546875,
          11.980371475219727,
          12.304353713989258,
          12.103869438171387,
          12.085647583007812,
          12.482551574707031,
          12.00239372253418,
          12.452542304992676,
          12.19872760772705,
          11.7949800491333,
          12.180109024047852,
          12.358014106750488,
          11.631619453430176,
          12.172987937927246,
          12.401646614074707,
          11.852877616882324,
          12.08240795135498,
          12.421500205993652,
          11.984071731567383,
          11.719385147094727,
          12.204851150512695,
          12.217020988464355,
          6.184533596038818,
          12.17192554473877,
          11.868645668029785,
          12.421109199523926,
          11.995343208312988,
          11.90636157989502,
          12.756450653076172,
          11.065546989440918,
          12.257344245910645,
          12.280251502990723,
          12.262151718139648,
          11.466099739074707,
          12.499247550964355,
          12.357151985168457,
          12.793686866760254,
          11.65459156036377,
          11.93268871307373,
          12.069401741027832,
          11.682069778442383,
          12.248208045959473,
          11.89271068572998,
          12.143952369689941,
          11.864866256713867,
          12.042435646057129,
          6.306836128234863,
          11.971138954162598,
          12.049659729003906,
          12.103058815002441,
          12.061762809753418,
          12.238558769226074,
          5.966507911682129,
          12.351646423339844,
          6.250872611999512,
          12.125102996826172,
          12.190017700195312,
          12.016494750976562,
          11.99718189239502,
          12.075369834899902,
          11.763328552246094,
          12.190652847290039,
          11.908220291137695,
          12.05770206451416,
          7.68145751953125,
          12.07861042022705,
          12.68802547454834,
          12.430535316467285,
          12.56335163116455,
          12.807865142822266,
          12.35925006866455,
          12.435032844543457,
          12.208989143371582,
          12.276637077331543,
          12.39778995513916,
          5.5061821937561035,
          12.40687084197998
         ],
         "yaxis": "y",
         "type": "scatter"
        },
        {
         "hovertemplate": "Variant=Beta<br>0=%{x}<br>1=%{y}<extra></extra>",
         "legendgroup": "Beta",
         "marker": {
          "color": "#EF553B",
          "symbol": "circle"
         },
         "mode": "markers",
         "name": "Beta",
         "orientation": "v",
         "showlegend": true,
         "x": [
          14.243756294250488,
          14.778766632080078,
          15.040619850158691,
          14.529210090637207,
          14.126494407653809,
          14.900132179260254,
          14.477147102355957,
          15.334224700927734,
          14.662418365478516,
          15.151191711425781,
          14.707365036010742,
          15.329779624938965,
          15.29714298248291,
          14.54512882232666,
          15.241240501403809,
          14.517348289489746,
          15.111151695251465,
          15.439583778381348,
          14.649600982666016,
          15.358525276184082,
          14.456585884094238,
          15.101478576660156,
          13.990119934082031,
          14.57496166229248,
          14.289687156677246,
          14.406810760498047,
          15.11473274230957,
          15.172015190124512,
          14.737763404846191,
          14.091959953308105,
          14.43391227722168,
          15.899847030639648,
          14.95643138885498,
          14.543437957763672,
          14.141562461853027,
          15.1752290725708,
          15.227426528930664,
          14.878314971923828,
          14.898221969604492,
          14.449023246765137,
          14.763312339782715,
          15.049654006958008,
          15.170125007629395,
          13.766302108764648,
          15.070877075195312,
          14.747396469116211,
          14.790499687194824,
          15.192253112792969,
          14.960857391357422,
          14.805068969726562,
          14.866803169250488,
          15.215226173400879,
          15.241028785705566,
          14.268654823303223,
          14.64431381225586,
          14.945755004882812,
          14.866991996765137,
          15.028815269470215,
          14.474285125732422,
          13.19611930847168,
          14.31923770904541,
          14.261719703674316,
          15.130250930786133,
          14.799018859863281,
          14.611839294433594,
          14.919968605041504,
          15.436463356018066,
          14.77022933959961,
          14.982488632202148,
          14.833056449890137,
          14.589387893676758,
          14.733227729797363,
          15.910520553588867,
          14.635135650634766,
          14.602228164672852,
          14.654787063598633,
          14.838226318359375,
          14.802943229675293,
          14.849291801452637,
          15.11335563659668,
          14.90506362915039,
          13.862054824829102,
          10.955485343933105,
          14.692551612854004,
          13.547920227050781,
          14.952381134033203,
          14.81838321685791,
          14.888450622558594,
          14.730175971984863,
          14.501293182373047,
          14.729838371276855,
          14.89330768585205,
          15.93974494934082,
          14.893691062927246,
          15.173223495483398,
          14.976544380187988,
          14.358574867248535,
          15.065831184387207,
          15.197333335876465,
          15.101449012756348
         ],
         "xaxis": "x",
         "y": [
          7.738217353820801,
          8.430488586425781,
          8.035608291625977,
          8.43145751953125,
          7.559096336364746,
          7.6179938316345215,
          7.0864033699035645,
          7.706493854522705,
          7.215759754180908,
          8.139823913574219,
          8.420183181762695,
          8.64356517791748,
          8.639090538024902,
          7.683141231536865,
          7.692245960235596,
          7.7020063400268555,
          8.39692211151123,
          7.909636497497559,
          7.161643028259277,
          8.258720397949219,
          8.086575508117676,
          7.527702808380127,
          7.334789752960205,
          8.111263275146484,
          7.997604846954346,
          8.0515775680542,
          7.962900161743164,
          8.619760513305664,
          7.637432098388672,
          7.215235710144043,
          8.300250053405762,
          7.785980701446533,
          7.766208648681641,
          7.252697944641113,
          7.5434112548828125,
          7.703535079956055,
          8.086653709411621,
          7.946186542510986,
          8.604297637939453,
          8.179530143737793,
          8.165939331054688,
          8.525184631347656,
          8.076141357421875,
          6.567134857177734,
          7.830482006072998,
          8.049537658691406,
          8.65739631652832,
          7.734294414520264,
          7.733198642730713,
          8.215094566345215,
          7.710049152374268,
          8.142058372497559,
          7.741782188415527,
          7.46512508392334,
          8.247273445129395,
          7.977754592895508,
          8.603615760803223,
          8.03771686553955,
          7.091679096221924,
          5.949050426483154,
          7.054834365844727,
          7.585977554321289,
          8.337028503417969,
          7.882723808288574,
          8.191121101379395,
          7.845275402069092,
          7.963686943054199,
          7.755735397338867,
          8.123075485229492,
          8.552146911621094,
          7.918451309204102,
          7.49621057510376,
          7.71774959564209,
          7.756966590881348,
          7.916134357452393,
          8.10234546661377,
          7.951961040496826,
          8.07327651977539,
          7.715393543243408,
          8.500617980957031,
          8.1769437789917,
          7.1291069984436035,
          10.775851249694824,
          8.014333724975586,
          6.342372894287109,
          8.544527053833008,
          8.002724647521973,
          7.891342639923096,
          7.538957595825195,
          8.140791893005371,
          8.436829566955566,
          8.207409858703613,
          7.714711666107178,
          7.85167932510376,
          8.230416297912598,
          8.25760269165039,
          6.995115756988525,
          7.983681678771973,
          8.068345069885254,
          7.901575565338135
         ],
         "yaxis": "y",
         "type": "scatter"
        },
        {
         "hovertemplate": "Variant=Delta<br>0=%{x}<br>1=%{y}<extra></extra>",
         "legendgroup": "Delta",
         "marker": {
          "color": "#00cc96",
          "symbol": "circle"
         },
         "mode": "markers",
         "name": "Delta",
         "orientation": "v",
         "showlegend": true,
         "x": [
          12.562570571899414,
          12.550442695617676,
          12.618757247924805,
          11.401758193969727,
          11.863595962524414,
          11.961835861206055,
          12.411789894104004,
          11.250758171081543,
          12.573919296264648,
          12.041704177856445,
          12.54768180847168,
          11.85954475402832,
          12.049169540405273,
          12.220260620117188,
          12.543051719665527,
          12.30260181427002,
          12.464048385620117,
          12.532090187072754,
          11.81143569946289,
          11.676397323608398,
          12.580805778503418,
          11.953317642211914,
          11.85023307800293,
          11.835630416870117,
          11.843978881835938,
          11.946236610412598,
          11.719435691833496,
          11.35617446899414,
          11.98951530456543,
          11.536214828491211,
          11.79185962677002,
          11.729740142822266,
          12.799615859985352,
          11.510322570800781,
          11.666837692260742,
          11.826069831848145,
          11.795804977416992,
          12.12320327758789,
          11.677465438842773,
          11.517301559448242,
          12.723982810974121,
          12.721334457397461,
          12.055954933166504,
          12.084965705871582,
          12.52267074584961,
          11.799410820007324,
          11.313581466674805,
          12.241759300231934,
          11.59325122833252,
          12.469209671020508,
          12.545904159545898,
          12.989990234375,
          11.723508834838867,
          12.136777877807617,
          12.017382621765137,
          12.217268943786621,
          11.55239486694336,
          11.674034118652344,
          11.625871658325195,
          12.523841857910156,
          11.619382858276367,
          12.421947479248047,
          12.25635051727295,
          12.191404342651367,
          12.537948608398438,
          11.34954833984375,
          12.202227592468262,
          12.509099960327148,
          11.789950370788574,
          12.833277702331543,
          11.446800231933594,
          12.015381813049316,
          12.672475814819336,
          11.728300094604492,
          12.30597972869873,
          12.479491233825684,
          11.527324676513672,
          12.632813453674316,
          12.841821670532227,
          11.75050163269043,
          12.484868049621582,
          12.403474807739258,
          13.130311012268066,
          11.649548530578613,
          12.15152645111084,
          12.3154935836792,
          11.466525077819824,
          11.45113754272461,
          11.717994689941406,
          11.929207801818848,
          11.62264633178711,
          11.753849029541016,
          12.505684852600098,
          11.598079681396484,
          12.461690902709961,
          12.557456016540527,
          12.424764633178711,
          11.44536018371582,
          12.273831367492676
         ],
         "xaxis": "x",
         "y": [
          4.240174770355225,
          4.645707607269287,
          4.503608703613281,
          3.2873408794403076,
          3.157235622406006,
          3.0267860889434814,
          4.023942470550537,
          2.976156234741211,
          4.2282514572143555,
          3.3931002616882324,
          2.5367791652679443,
          2.5230109691619873,
          3.088374376296997,
          4.3489556312561035,
          3.993551254272461,
          3.967900514602661,
          4.41978645324707,
          4.417513847351074,
          3.413391590118408,
          3.176541566848755,
          2.5587127208709717,
          3.0084140300750732,
          2.670470952987671,
          2.6384670734405518,
          2.499884605407715,
          3.198077917098999,
          2.6416592597961426,
          2.761229991912842,
          3.13461971282959,
          3.3859903812408447,
          3.9740078449249268,
          2.749521255493164,
          5.376683235168457,
          3.0935380458831787,
          2.7456207275390625,
          3.1482622623443604,
          3.25213885307312,
          2.6796047687530518,
          2.653921604156494,
          2.4356932640075684,
          4.966250896453857,
          4.834195137023926,
          3.489246129989624,
          2.6499719619750977,
          4.0564866065979,
          2.7395832538604736,
          2.9929308891296387,
          4.193921089172363,
          3.141512393951416,
          4.385571479797363,
          4.422702312469482,
          4.836019515991211,
          3.1911563873291016,
          3.4556708335876465,
          3.1126749515533447,
          3.701314687728882,
          3.1132638454437256,
          3.316628932952881,
          2.556016683578491,
          2.5222721099853516,
          3.336176633834839,
          4.2722554206848145,
          3.890542984008789,
          3.97506046295166,
          2.5491831302642822,
          3.433502197265625,
          4.234440803527832,
          4.479390621185303,
          3.3416569232940674,
          4.976043224334717,
          3.193904399871826,
          3.182626724243164,
          4.385406017303467,
          3.2005581855773926,
          3.1159143447875977,
          2.5905404090881348,
          2.4923229217529297,
          4.2054548263549805,
          4.847552299499512,
          3.4470973014831543,
          4.180833339691162,
          4.316420078277588,
          5.835849761962891,
          3.293151378631592,
          2.82381272315979,
          3.8596229553222656,
          2.7111456394195557,
          2.568706512451172,
          2.4709489345550537,
          3.2512683868408203,
          3.2458133697509766,
          3.13415789604187,
          4.393031597137451,
          3.235093355178833,
          4.304044246673584,
          4.393500328063965,
          4.072329044342041,
          2.9281704425811768,
          4.055740833282471
         ],
         "yaxis": "y",
         "type": "scatter"
        },
        {
         "hovertemplate": "Variant=Gamma<br>0=%{x}<br>1=%{y}<extra></extra>",
         "legendgroup": "Gamma",
         "marker": {
          "color": "#ab63fa",
          "symbol": "circle"
         },
         "mode": "markers",
         "name": "Gamma",
         "orientation": "v",
         "showlegend": true,
         "x": [
          11.271377563476562,
          13.275330543518066,
          11.256983757019043
         ],
         "xaxis": "x",
         "y": [
          11.450334548950195,
          6.154381275177002,
          11.426555633544922
         ],
         "yaxis": "y",
         "type": "scatter"
        },
        {
         "hovertemplate": "Variant=Omicron<br>0=%{x}<br>1=%{y}<extra></extra>",
         "legendgroup": "Omicron",
         "marker": {
          "color": "#FFA15A",
          "symbol": "circle"
         },
         "mode": "markers",
         "name": "Omicron",
         "orientation": "v",
         "showlegend": true,
         "x": [
          -4.729360103607178,
          -4.9176106452941895,
          -4.667993068695068,
          -1.6791598796844482,
          -4.9704179763793945,
          -4.182858943939209,
          -4.980405330657959,
          -2.0701215267181396,
          -4.085361003875732,
          -4.820209980010986,
          -4.9316487312316895,
          -4.134556293487549,
          -5.578352451324463,
          -4.3971781730651855,
          -5.594039440155029,
          -4.098968029022217,
          -4.852149486541748,
          -4.382757663726807,
          -4.121646404266357,
          -4.872500896453857,
          11.87475872039795,
          -4.261498928070068,
          -4.205440521240234,
          -4.373946666717529,
          -4.073975086212158,
          -4.226799964904785,
          -3.882983684539795,
          -5.002289772033691,
          -4.310606479644775,
          -3.925220012664795,
          -3.3236773014068604,
          -4.361426830291748,
          -3.8497793674468994,
          -4.592225551605225,
          -4.806670188903809,
          -4.834731578826904,
          -4.166565418243408,
          -4.257845401763916,
          -4.974741458892822,
          -1.9958516359329224,
          -4.074106693267822,
          11.940534591674805,
          -4.809177875518799,
          -3.8953709602355957,
          -5.037856101989746,
          -4.680908679962158,
          -4.814425468444824,
          -4.268849849700928,
          -4.697516441345215,
          -3.348905324935913,
          -4.329108715057373,
          -4.946084022521973,
          -4.067194938659668,
          -4.089881896972656,
          -3.8095977306365967,
          -4.373081684112549,
          -4.072680473327637,
          -4.91042423248291,
          -1.9032117128372192,
          -5.153026580810547,
          -4.771627426147461,
          -4.4169769287109375,
          -4.338660717010498,
          -4.382635116577148,
          -3.9838311672210693,
          -4.837173938751221,
          -4.555934906005859,
          11.792016983032227,
          -4.604204177856445,
          -4.918215751647949,
          -4.100025653839111,
          -4.715751647949219,
          -4.545105934143066,
          -4.358484268188477,
          -4.770702838897705,
          -4.145045757293701,
          -3.9983043670654297,
          -4.175029277801514,
          -5.534059524536133,
          -4.736302375793457,
          -4.475183010101318,
          -5.5553812980651855,
          -4.311569690704346,
          -4.535006999969482,
          -4.606223106384277,
          -4.66220760345459,
          -4.448017597198486,
          -4.148204803466797,
          -4.221409797668457,
          -1.7584761381149292,
          -4.5182905197143555,
          -4.708652496337891,
          -1.3818072080612183,
          -5.562987327575684,
          -4.53911018371582,
          -4.832544326782227,
          -5.59000825881958,
          -4.340725898742676,
          -4.129048824310303,
          11.949822425842285
         ],
         "xaxis": "x",
         "y": [
          3.445451498031616,
          3.527043104171753,
          3.8844215869903564,
          9.533555030822754,
          3.821103096008301,
          3.5894882678985596,
          3.9901340007781982,
          8.86286735534668,
          4.305431365966797,
          3.865248441696167,
          3.4697089195251465,
          2.5236120223999023,
          4.392833232879639,
          4.205948352813721,
          4.351328372955322,
          2.298234462738037,
          3.6563720703125,
          3.38356614112854,
          4.298671722412109,
          4.068572044372559,
          3.3659369945526123,
          4.258508682250977,
          4.333249568939209,
          3.1697981357574463,
          2.234060525894165,
          4.321709156036377,
          4.635272979736328,
          3.6763906478881836,
          3.662031412124634,
          2.8379499912261963,
          9.13042163848877,
          2.650038480758667,
          2.7504522800445557,
          4.164121150970459,
          3.5295190811157227,
          3.9454634189605713,
          2.4609832763671875,
          4.089890003204346,
          3.6774933338165283,
          8.66573715209961,
          2.431912422180176,
          3.140376329421997,
          3.733104944229126,
          2.8716232776641846,
          3.5959014892578125,
          3.829822063446045,
          3.928954839706421,
          2.94252347946167,
          3.6476235389709473,
          9.166285514831543,
          3.839022159576416,
          3.9701616764068604,
          2.4246654510498047,
          4.1969218254089355,
          4.564888954162598,
          2.8221216201782227,
          2.3398711681365967,
          3.7362329959869385,
          10.280651092529297,
          3.563318967819214,
          3.6825504302978516,
          4.030518531799316,
          3.427107334136963,
          4.115292549133301,
          2.638237953186035,
          3.582085132598877,
          3.5633344650268555,
          3.0961573123931885,
          3.7447941303253174,
          3.738949775695801,
          3.9584062099456787,
          3.490832805633545,
          3.5889368057250977,
          2.851008176803589,
          3.859875440597534,
          2.438502550125122,
          2.6163854598999023,
          2.5178611278533936,
          4.34682559967041,
          3.654116153717041,
          4.087285995483398,
          4.374941825866699,
          4.3263936042785645,
          3.6418368816375732,
          3.486011266708374,
          3.6953513622283936,
          3.4511542320251465,
          2.4385695457458496,
          2.520850658416748,
          8.519489288330078,
          4.031336307525635,
          3.744649887084961,
          10.29582405090332,
          4.380716800689697,
          3.793738603591919,
          3.896587610244751,
          4.412078380584717,
          3.0648443698883057,
          2.4464073181152344,
          3.28281831741333
         ],
         "yaxis": "y",
         "type": "scatter"
        },
        {
         "hovertemplate": "Variant=Omicron Sub<br>0=%{x}<br>1=%{y}<extra></extra>",
         "legendgroup": "Omicron Sub",
         "marker": {
          "color": "#19d3f3",
          "symbol": "circle"
         },
         "mode": "markers",
         "name": "Omicron Sub",
         "orientation": "v",
         "showlegend": true,
         "x": [
          -1.602888822555542,
          -1.9743680953979492,
          -2.46347975730896,
          -1.8716238737106323,
          -1.7925270795822144,
          -1.3748798370361328,
          -1.741506576538086,
          -2.4411494731903076,
          -1.9490265846252441,
          -1.855228066444397,
          -2.8252665996551514,
          -2.275465965270996,
          -1.4201929569244385,
          -2.010267496109009,
          -1.8944125175476074,
          -1.8802895545959473,
          -2.7211709022521973,
          -1.8006060123443604,
          -3.1646478176116943,
          -1.9668264389038086,
          -2.78944730758667,
          -2.2894577980041504,
          -1.4026414155960083,
          -1.8438609838485718,
          -2.0172274112701416,
          -1.7746082544326782,
          -2.490673780441284,
          -2.562134027481079,
          -2.154648780822754,
          -2.0402591228485107,
          -1.8520169258117676,
          -1.7801167964935303,
          -2.4164304733276367,
          -2.5883285999298096,
          -2.4708006381988525,
          -2.6409997940063477,
          -2.591259002685547,
          -2.795111656188965,
          -2.494007110595703,
          -2.4658446311950684,
          -2.0931448936462402,
          -3.0763063430786133,
          -2.5279541015625,
          -2.042318820953369,
          -2.512791156768799,
          -1.56414794921875,
          -3.2390036582946777,
          -2.4972481727600098,
          -2.053403615951538,
          -2.469698429107666,
          -1.8906033039093018,
          -1.8079723119735718,
          -1.762536883354187,
          -2.2661447525024414,
          -2.4424498081207275,
          -2.311460256576538,
          -1.8808104991912842,
          -1.8605097532272339,
          -1.717743992805481,
          -3.243863582611084,
          -2.0459070205688477,
          -1.4166221618652344,
          -2.475341320037842,
          -2.6464502811431885,
          -2.2108819484710693,
          -1.8314298391342163,
          -1.8975400924682617,
          -1.8602126836776733,
          -1.9671872854232788,
          -2.1424992084503174,
          -1.6195391416549683,
          -3.190363645553589,
          -2.2882790565490723,
          -1.9665666818618774,
          -1.9737082719802856,
          -2.0152878761291504,
          -1.8962482213974,
          -1.979115605354309,
          -3.2333991527557373,
          -2.0282063484191895,
          -2.376112937927246,
          -2.532996654510498,
          -2.248704195022583,
          -1.8040084838867188,
          -1.8718520402908325,
          -1.8609892129898071,
          -4.488478660583496,
          -2.7926814556121826,
          -1.9161211252212524,
          -2.401798963546753,
          -2.5460355281829834,
          -1.8775635957717896,
          -2.0109355449676514
         ],
         "xaxis": "x",
         "y": [
          10.008983612060547,
          8.733781814575195,
          9.728314399719238,
          9.360198974609375,
          10.392505645751953,
          10.314335823059082,
          10.186419486999512,
          10.562251091003418,
          9.13239860534668,
          10.332465171813965,
          10.00898265838623,
          9.970746040344238,
          10.222945213317871,
          8.914637565612793,
          8.86016845703125,
          8.766852378845215,
          9.699872016906738,
          9.9092435836792,
          9.410416603088379,
          10.070791244506836,
          9.94592571258545,
          8.8488130569458,
          10.283306121826172,
          10.02273941040039,
          10.396143913269043,
          10.26986312866211,
          9.27977466583252,
          9.50365924835205,
          9.775583267211914,
          10.262977600097656,
          9.15735149383545,
          10.162790298461914,
          10.172884941101074,
          9.723974227905273,
          10.219551086425781,
          10.411954879760742,
          9.386659622192383,
          10.033775329589844,
          9.902709007263184,
          9.30813217163086,
          10.2893648147583,
          9.051531791687012,
          9.934450149536133,
          8.954374313354492,
          8.90791130065918,
          10.245687484741211,
          9.352156639099121,
          10.089248657226562,
          10.196221351623535,
          10.248754501342773,
          10.008015632629395,
          9.22847843170166,
          10.429637908935547,
          9.346769332885742,
          9.135010719299316,
          10.240856170654297,
          9.453177452087402,
          10.157426834106445,
          9.791097640991211,
          9.312382698059082,
          9.927549362182617,
          10.252957344055176,
          9.760554313659668,
          10.396451950073242,
          10.225870132446289,
          10.066877365112305,
          9.783145904541016,
          8.740523338317871,
          10.128889083862305,
          10.09010124206543,
          10.579235076904297,
          9.29041862487793,
          10.398696899414062,
          10.0435152053833,
          10.179438591003418,
          9.654428482055664,
          9.2515869140625,
          10.232802391052246,
          9.265506744384766,
          10.237710952758789,
          9.929394721984863,
          9.763188362121582,
          9.870935440063477,
          9.907609939575195,
          8.864571571350098,
          9.707527160644531,
          3.8317954540252686,
          9.002659797668457,
          10.41332721710205,
          10.063154220581055,
          10.289972305297852,
          9.981492042541504,
          9.35222339630127
         ],
         "yaxis": "y",
         "type": "scatter"
        }
       ],
       "layout": {
        "template": {
         "data": {
          "histogram2dcontour": [
           {
            "type": "histogram2dcontour",
            "colorbar": {
             "outlinewidth": 0,
             "ticks": ""
            },
            "colorscale": [
             [
              0.0,
              "#0d0887"
             ],
             [
              0.1111111111111111,
              "#46039f"
             ],
             [
              0.2222222222222222,
              "#7201a8"
             ],
             [
              0.3333333333333333,
              "#9c179e"
             ],
             [
              0.4444444444444444,
              "#bd3786"
             ],
             [
              0.5555555555555556,
              "#d8576b"
             ],
             [
              0.6666666666666666,
              "#ed7953"
             ],
             [
              0.7777777777777778,
              "#fb9f3a"
             ],
             [
              0.8888888888888888,
              "#fdca26"
             ],
             [
              1.0,
              "#f0f921"
             ]
            ]
           }
          ],
          "choropleth": [
           {
            "type": "choropleth",
            "colorbar": {
             "outlinewidth": 0,
             "ticks": ""
            }
           }
          ],
          "histogram2d": [
           {
            "type": "histogram2d",
            "colorbar": {
             "outlinewidth": 0,
             "ticks": ""
            },
            "colorscale": [
             [
              0.0,
              "#0d0887"
             ],
             [
              0.1111111111111111,
              "#46039f"
             ],
             [
              0.2222222222222222,
              "#7201a8"
             ],
             [
              0.3333333333333333,
              "#9c179e"
             ],
             [
              0.4444444444444444,
              "#bd3786"
             ],
             [
              0.5555555555555556,
              "#d8576b"
             ],
             [
              0.6666666666666666,
              "#ed7953"
             ],
             [
              0.7777777777777778,
              "#fb9f3a"
             ],
             [
              0.8888888888888888,
              "#fdca26"
             ],
             [
              1.0,
              "#f0f921"
             ]
            ]
           }
          ],
          "heatmap": [
           {
            "type": "heatmap",
            "colorbar": {
             "outlinewidth": 0,
             "ticks": ""
            },
            "colorscale": [
             [
              0.0,
              "#0d0887"
             ],
             [
              0.1111111111111111,
              "#46039f"
             ],
             [
              0.2222222222222222,
              "#7201a8"
             ],
             [
              0.3333333333333333,
              "#9c179e"
             ],
             [
              0.4444444444444444,
              "#bd3786"
             ],
             [
              0.5555555555555556,
              "#d8576b"
             ],
             [
              0.6666666666666666,
              "#ed7953"
             ],
             [
              0.7777777777777778,
              "#fb9f3a"
             ],
             [
              0.8888888888888888,
              "#fdca26"
             ],
             [
              1.0,
              "#f0f921"
             ]
            ]
           }
          ],
          "heatmapgl": [
           {
            "type": "heatmapgl",
            "colorbar": {
             "outlinewidth": 0,
             "ticks": ""
            },
            "colorscale": [
             [
              0.0,
              "#0d0887"
             ],
             [
              0.1111111111111111,
              "#46039f"
             ],
             [
              0.2222222222222222,
              "#7201a8"
             ],
             [
              0.3333333333333333,
              "#9c179e"
             ],
             [
              0.4444444444444444,
              "#bd3786"
             ],
             [
              0.5555555555555556,
              "#d8576b"
             ],
             [
              0.6666666666666666,
              "#ed7953"
             ],
             [
              0.7777777777777778,
              "#fb9f3a"
             ],
             [
              0.8888888888888888,
              "#fdca26"
             ],
             [
              1.0,
              "#f0f921"
             ]
            ]
           }
          ],
          "contourcarpet": [
           {
            "type": "contourcarpet",
            "colorbar": {
             "outlinewidth": 0,
             "ticks": ""
            }
           }
          ],
          "contour": [
           {
            "type": "contour",
            "colorbar": {
             "outlinewidth": 0,
             "ticks": ""
            },
            "colorscale": [
             [
              0.0,
              "#0d0887"
             ],
             [
              0.1111111111111111,
              "#46039f"
             ],
             [
              0.2222222222222222,
              "#7201a8"
             ],
             [
              0.3333333333333333,
              "#9c179e"
             ],
             [
              0.4444444444444444,
              "#bd3786"
             ],
             [
              0.5555555555555556,
              "#d8576b"
             ],
             [
              0.6666666666666666,
              "#ed7953"
             ],
             [
              0.7777777777777778,
              "#fb9f3a"
             ],
             [
              0.8888888888888888,
              "#fdca26"
             ],
             [
              1.0,
              "#f0f921"
             ]
            ]
           }
          ],
          "surface": [
           {
            "type": "surface",
            "colorbar": {
             "outlinewidth": 0,
             "ticks": ""
            },
            "colorscale": [
             [
              0.0,
              "#0d0887"
             ],
             [
              0.1111111111111111,
              "#46039f"
             ],
             [
              0.2222222222222222,
              "#7201a8"
             ],
             [
              0.3333333333333333,
              "#9c179e"
             ],
             [
              0.4444444444444444,
              "#bd3786"
             ],
             [
              0.5555555555555556,
              "#d8576b"
             ],
             [
              0.6666666666666666,
              "#ed7953"
             ],
             [
              0.7777777777777778,
              "#fb9f3a"
             ],
             [
              0.8888888888888888,
              "#fdca26"
             ],
             [
              1.0,
              "#f0f921"
             ]
            ]
           }
          ],
          "mesh3d": [
           {
            "type": "mesh3d",
            "colorbar": {
             "outlinewidth": 0,
             "ticks": ""
            }
           }
          ],
          "scatter": [
           {
            "fillpattern": {
             "fillmode": "overlay",
             "size": 10,
             "solidity": 0.2
            },
            "type": "scatter"
           }
          ],
          "parcoords": [
           {
            "type": "parcoords",
            "line": {
             "colorbar": {
              "outlinewidth": 0,
              "ticks": ""
             }
            }
           }
          ],
          "scatterpolargl": [
           {
            "type": "scatterpolargl",
            "marker": {
             "colorbar": {
              "outlinewidth": 0,
              "ticks": ""
             }
            }
           }
          ],
          "bar": [
           {
            "error_x": {
             "color": "#2a3f5f"
            },
            "error_y": {
             "color": "#2a3f5f"
            },
            "marker": {
             "line": {
              "color": "#E5ECF6",
              "width": 0.5
             },
             "pattern": {
              "fillmode": "overlay",
              "size": 10,
              "solidity": 0.2
             }
            },
            "type": "bar"
           }
          ],
          "scattergeo": [
           {
            "type": "scattergeo",
            "marker": {
             "colorbar": {
              "outlinewidth": 0,
              "ticks": ""
             }
            }
           }
          ],
          "scatterpolar": [
           {
            "type": "scatterpolar",
            "marker": {
             "colorbar": {
              "outlinewidth": 0,
              "ticks": ""
             }
            }
           }
          ],
          "histogram": [
           {
            "marker": {
             "pattern": {
              "fillmode": "overlay",
              "size": 10,
              "solidity": 0.2
             }
            },
            "type": "histogram"
           }
          ],
          "scattergl": [
           {
            "type": "scattergl",
            "marker": {
             "colorbar": {
              "outlinewidth": 0,
              "ticks": ""
             }
            }
           }
          ],
          "scatter3d": [
           {
            "type": "scatter3d",
            "line": {
             "colorbar": {
              "outlinewidth": 0,
              "ticks": ""
             }
            },
            "marker": {
             "colorbar": {
              "outlinewidth": 0,
              "ticks": ""
             }
            }
           }
          ],
          "scattermapbox": [
           {
            "type": "scattermapbox",
            "marker": {
             "colorbar": {
              "outlinewidth": 0,
              "ticks": ""
             }
            }
           }
          ],
          "scatterternary": [
           {
            "type": "scatterternary",
            "marker": {
             "colorbar": {
              "outlinewidth": 0,
              "ticks": ""
             }
            }
           }
          ],
          "scattercarpet": [
           {
            "type": "scattercarpet",
            "marker": {
             "colorbar": {
              "outlinewidth": 0,
              "ticks": ""
             }
            }
           }
          ],
          "carpet": [
           {
            "aaxis": {
             "endlinecolor": "#2a3f5f",
             "gridcolor": "white",
             "linecolor": "white",
             "minorgridcolor": "white",
             "startlinecolor": "#2a3f5f"
            },
            "baxis": {
             "endlinecolor": "#2a3f5f",
             "gridcolor": "white",
             "linecolor": "white",
             "minorgridcolor": "white",
             "startlinecolor": "#2a3f5f"
            },
            "type": "carpet"
           }
          ],
          "table": [
           {
            "cells": {
             "fill": {
              "color": "#EBF0F8"
             },
             "line": {
              "color": "white"
             }
            },
            "header": {
             "fill": {
              "color": "#C8D4E3"
             },
             "line": {
              "color": "white"
             }
            },
            "type": "table"
           }
          ],
          "barpolar": [
           {
            "marker": {
             "line": {
              "color": "#E5ECF6",
              "width": 0.5
             },
             "pattern": {
              "fillmode": "overlay",
              "size": 10,
              "solidity": 0.2
             }
            },
            "type": "barpolar"
           }
          ],
          "pie": [
           {
            "automargin": true,
            "type": "pie"
           }
          ]
         },
         "layout": {
          "autotypenumbers": "strict",
          "colorway": [
           "#636efa",
           "#EF553B",
           "#00cc96",
           "#ab63fa",
           "#FFA15A",
           "#19d3f3",
           "#FF6692",
           "#B6E880",
           "#FF97FF",
           "#FECB52"
          ],
          "font": {
           "color": "#2a3f5f"
          },
          "hovermode": "closest",
          "hoverlabel": {
           "align": "left"
          },
          "paper_bgcolor": "white",
          "plot_bgcolor": "#E5ECF6",
          "polar": {
           "bgcolor": "#E5ECF6",
           "angularaxis": {
            "gridcolor": "white",
            "linecolor": "white",
            "ticks": ""
           },
           "radialaxis": {
            "gridcolor": "white",
            "linecolor": "white",
            "ticks": ""
           }
          },
          "ternary": {
           "bgcolor": "#E5ECF6",
           "aaxis": {
            "gridcolor": "white",
            "linecolor": "white",
            "ticks": ""
           },
           "baxis": {
            "gridcolor": "white",
            "linecolor": "white",
            "ticks": ""
           },
           "caxis": {
            "gridcolor": "white",
            "linecolor": "white",
            "ticks": ""
           }
          },
          "coloraxis": {
           "colorbar": {
            "outlinewidth": 0,
            "ticks": ""
           }
          },
          "colorscale": {
           "sequential": [
            [
             0.0,
             "#0d0887"
            ],
            [
             0.1111111111111111,
             "#46039f"
            ],
            [
             0.2222222222222222,
             "#7201a8"
            ],
            [
             0.3333333333333333,
             "#9c179e"
            ],
            [
             0.4444444444444444,
             "#bd3786"
            ],
            [
             0.5555555555555556,
             "#d8576b"
            ],
            [
             0.6666666666666666,
             "#ed7953"
            ],
            [
             0.7777777777777778,
             "#fb9f3a"
            ],
            [
             0.8888888888888888,
             "#fdca26"
            ],
            [
             1.0,
             "#f0f921"
            ]
           ],
           "sequentialminus": [
            [
             0.0,
             "#0d0887"
            ],
            [
             0.1111111111111111,
             "#46039f"
            ],
            [
             0.2222222222222222,
             "#7201a8"
            ],
            [
             0.3333333333333333,
             "#9c179e"
            ],
            [
             0.4444444444444444,
             "#bd3786"
            ],
            [
             0.5555555555555556,
             "#d8576b"
            ],
            [
             0.6666666666666666,
             "#ed7953"
            ],
            [
             0.7777777777777778,
             "#fb9f3a"
            ],
            [
             0.8888888888888888,
             "#fdca26"
            ],
            [
             1.0,
             "#f0f921"
            ]
           ],
           "diverging": [
            [
             0,
             "#8e0152"
            ],
            [
             0.1,
             "#c51b7d"
            ],
            [
             0.2,
             "#de77ae"
            ],
            [
             0.3,
             "#f1b6da"
            ],
            [
             0.4,
             "#fde0ef"
            ],
            [
             0.5,
             "#f7f7f7"
            ],
            [
             0.6,
             "#e6f5d0"
            ],
            [
             0.7,
             "#b8e186"
            ],
            [
             0.8,
             "#7fbc41"
            ],
            [
             0.9,
             "#4d9221"
            ],
            [
             1,
             "#276419"
            ]
           ]
          },
          "xaxis": {
           "gridcolor": "white",
           "linecolor": "white",
           "ticks": "",
           "title": {
            "standoff": 15
           },
           "zerolinecolor": "white",
           "automargin": true,
           "zerolinewidth": 2
          },
          "yaxis": {
           "gridcolor": "white",
           "linecolor": "white",
           "ticks": "",
           "title": {
            "standoff": 15
           },
           "zerolinecolor": "white",
           "automargin": true,
           "zerolinewidth": 2
          },
          "scene": {
           "xaxis": {
            "backgroundcolor": "#E5ECF6",
            "gridcolor": "white",
            "linecolor": "white",
            "showbackground": true,
            "ticks": "",
            "zerolinecolor": "white",
            "gridwidth": 2
           },
           "yaxis": {
            "backgroundcolor": "#E5ECF6",
            "gridcolor": "white",
            "linecolor": "white",
            "showbackground": true,
            "ticks": "",
            "zerolinecolor": "white",
            "gridwidth": 2
           },
           "zaxis": {
            "backgroundcolor": "#E5ECF6",
            "gridcolor": "white",
            "linecolor": "white",
            "showbackground": true,
            "ticks": "",
            "zerolinecolor": "white",
            "gridwidth": 2
           }
          },
          "shapedefaults": {
           "line": {
            "color": "#2a3f5f"
           }
          },
          "annotationdefaults": {
           "arrowcolor": "#2a3f5f",
           "arrowhead": 0,
           "arrowwidth": 1
          },
          "geo": {
           "bgcolor": "white",
           "landcolor": "#E5ECF6",
           "subunitcolor": "white",
           "showland": true,
           "showlakes": true,
           "lakecolor": "white"
          },
          "title": {
           "x": 0.05
          },
          "mapbox": {
           "style": "light"
          }
         }
        },
        "xaxis": {
         "anchor": "y",
         "domain": [
          0.0,
          1.0
         ],
         "title": {
          "text": "UMAP_1"
         },
         "showgrid": false,
         "zeroline": false
        },
        "yaxis": {
         "anchor": "x",
         "domain": [
          0.0,
          1.0
         ],
         "title": {
          "text": "UMAP_2"
         },
         "showgrid": false,
         "zeroline": false
        },
        "legend": {
         "title": {
          "text": "Variant"
         },
         "tracegroupgap": 0
        },
        "margin": {
         "t": 60
        },
        "font": {
         "family": "Courier New, monospace",
         "size": 18,
         "color": "RebeccaPurple"
        }
       },
       "config": {
        "plotlyServerURL": "https://plot.ly"
       }
      },
      "text/html": "<div>                            <div id=\"7c5ffa47-8b52-490c-b95d-0ab17dcfa936\" class=\"plotly-graph-div\" style=\"height:525px; width:100%;\"></div>            <script type=\"text/javascript\">                require([\"plotly\"], function(Plotly) {                    window.PLOTLYENV=window.PLOTLYENV || {};                                    if (document.getElementById(\"7c5ffa47-8b52-490c-b95d-0ab17dcfa936\")) {                    Plotly.newPlot(                        \"7c5ffa47-8b52-490c-b95d-0ab17dcfa936\",                        [{\"hovertemplate\":\"Variant=Alpha\\u003cbr\\u003e0=%{x}\\u003cbr\\u003e1=%{y}\\u003cextra\\u003e\\u003c\\u002fextra\\u003e\",\"legendgroup\":\"Alpha\",\"marker\":{\"color\":\"#636efa\",\"symbol\":\"circle\"},\"mode\":\"markers\",\"name\":\"Alpha\",\"orientation\":\"v\",\"showlegend\":true,\"x\":[9.979382514953613,13.139822959899902,10.679109573364258,10.105774879455566,11.112237930297852,10.180436134338379,9.932068824768066,10.041669845581055,11.20129108428955,10.774791717529297,9.978772163391113,11.157732963562012,11.096033096313477,10.711664199829102,9.815688133239746,9.737127304077148,10.10134506225586,9.808897972106934,13.047444343566895,10.256901741027832,10.206852912902832,10.933012008666992,10.152034759521484,11.069539070129395,10.049059867858887,9.81849479675293,9.86058235168457,10.956674575805664,10.707427978515625,9.904740333557129,10.869596481323242,10.153141975402832,10.20630931854248,10.565873146057129,10.380868911743164,10.784880638122559,10.17272663116455,10.249211311340332,10.359709739685059,10.54764175415039,10.43591022491455,10.071564674377441,10.137480735778809,9.809993743896484,10.237406730651855,13.280903816223145,10.332137107849121,10.128509521484375,10.700053215026855,11.039739608764648,10.254922866821289,10.690385818481445,10.802931785583496,10.954354286193848,10.241077423095703,10.285017013549805,10.148066520690918,10.177301406860352,10.238883972167969,10.773866653442383,10.753796577453613,10.827795028686523,10.999578475952148,10.844793319702148,10.433218955993652,10.380819320678711,10.365386962890625,10.390833854675293,10.29996109008789,13.092613220214844,10.387534141540527,9.993009567260742,10.408669471740723,10.426218032836914,10.145631790161133,13.146137237548828,10.643548011779785,13.241010665893555,10.997573852539062,10.795077323913574,11.048074722290039,10.388784408569336,10.505010604858398,10.55153751373291,10.897375106811523,10.153013229370117,10.99532413482666,15.985005378723145,10.226511001586914,10.736944198608398,10.141928672790527,10.704331398010254,10.748544692993164,10.256501197814941,10.234640121459961,10.404644012451172,10.584291458129883,10.483281135559082,12.838659286499023,10.10809326171875],\"xaxis\":\"x\",\"y\":[11.794681549072266,6.2149658203125,12.324853897094727,12.320029258728027,12.07641315460205,12.516783714294434,11.753305435180664,11.646255493164062,12.108917236328125,12.6728515625,12.142006874084473,11.977058410644531,12.019533157348633,12.948872566223145,12.541343688964844,11.941556930541992,12.47021484375,11.527859687805176,5.382252216339111,12.065710067749023,12.069799423217773,12.17906665802002,11.51346206665039,11.878143310546875,11.980371475219727,12.304353713989258,12.103869438171387,12.085647583007812,12.482551574707031,12.00239372253418,12.452542304992676,12.19872760772705,11.7949800491333,12.180109024047852,12.358014106750488,11.631619453430176,12.172987937927246,12.401646614074707,11.852877616882324,12.08240795135498,12.421500205993652,11.984071731567383,11.719385147094727,12.204851150512695,12.217020988464355,6.184533596038818,12.17192554473877,11.868645668029785,12.421109199523926,11.995343208312988,11.90636157989502,12.756450653076172,11.065546989440918,12.257344245910645,12.280251502990723,12.262151718139648,11.466099739074707,12.499247550964355,12.357151985168457,12.793686866760254,11.65459156036377,11.93268871307373,12.069401741027832,11.682069778442383,12.248208045959473,11.89271068572998,12.143952369689941,11.864866256713867,12.042435646057129,6.306836128234863,11.971138954162598,12.049659729003906,12.103058815002441,12.061762809753418,12.238558769226074,5.966507911682129,12.351646423339844,6.250872611999512,12.125102996826172,12.190017700195312,12.016494750976562,11.99718189239502,12.075369834899902,11.763328552246094,12.190652847290039,11.908220291137695,12.05770206451416,7.68145751953125,12.07861042022705,12.68802547454834,12.430535316467285,12.56335163116455,12.807865142822266,12.35925006866455,12.435032844543457,12.208989143371582,12.276637077331543,12.39778995513916,5.5061821937561035,12.40687084197998],\"yaxis\":\"y\",\"type\":\"scatter\"},{\"hovertemplate\":\"Variant=Beta\\u003cbr\\u003e0=%{x}\\u003cbr\\u003e1=%{y}\\u003cextra\\u003e\\u003c\\u002fextra\\u003e\",\"legendgroup\":\"Beta\",\"marker\":{\"color\":\"#EF553B\",\"symbol\":\"circle\"},\"mode\":\"markers\",\"name\":\"Beta\",\"orientation\":\"v\",\"showlegend\":true,\"x\":[14.243756294250488,14.778766632080078,15.040619850158691,14.529210090637207,14.126494407653809,14.900132179260254,14.477147102355957,15.334224700927734,14.662418365478516,15.151191711425781,14.707365036010742,15.329779624938965,15.29714298248291,14.54512882232666,15.241240501403809,14.517348289489746,15.111151695251465,15.439583778381348,14.649600982666016,15.358525276184082,14.456585884094238,15.101478576660156,13.990119934082031,14.57496166229248,14.289687156677246,14.406810760498047,15.11473274230957,15.172015190124512,14.737763404846191,14.091959953308105,14.43391227722168,15.899847030639648,14.95643138885498,14.543437957763672,14.141562461853027,15.1752290725708,15.227426528930664,14.878314971923828,14.898221969604492,14.449023246765137,14.763312339782715,15.049654006958008,15.170125007629395,13.766302108764648,15.070877075195312,14.747396469116211,14.790499687194824,15.192253112792969,14.960857391357422,14.805068969726562,14.866803169250488,15.215226173400879,15.241028785705566,14.268654823303223,14.64431381225586,14.945755004882812,14.866991996765137,15.028815269470215,14.474285125732422,13.19611930847168,14.31923770904541,14.261719703674316,15.130250930786133,14.799018859863281,14.611839294433594,14.919968605041504,15.436463356018066,14.77022933959961,14.982488632202148,14.833056449890137,14.589387893676758,14.733227729797363,15.910520553588867,14.635135650634766,14.602228164672852,14.654787063598633,14.838226318359375,14.802943229675293,14.849291801452637,15.11335563659668,14.90506362915039,13.862054824829102,10.955485343933105,14.692551612854004,13.547920227050781,14.952381134033203,14.81838321685791,14.888450622558594,14.730175971984863,14.501293182373047,14.729838371276855,14.89330768585205,15.93974494934082,14.893691062927246,15.173223495483398,14.976544380187988,14.358574867248535,15.065831184387207,15.197333335876465,15.101449012756348],\"xaxis\":\"x\",\"y\":[7.738217353820801,8.430488586425781,8.035608291625977,8.43145751953125,7.559096336364746,7.6179938316345215,7.0864033699035645,7.706493854522705,7.215759754180908,8.139823913574219,8.420183181762695,8.64356517791748,8.639090538024902,7.683141231536865,7.692245960235596,7.7020063400268555,8.39692211151123,7.909636497497559,7.161643028259277,8.258720397949219,8.086575508117676,7.527702808380127,7.334789752960205,8.111263275146484,7.997604846954346,8.0515775680542,7.962900161743164,8.619760513305664,7.637432098388672,7.215235710144043,8.300250053405762,7.785980701446533,7.766208648681641,7.252697944641113,7.5434112548828125,7.703535079956055,8.086653709411621,7.946186542510986,8.604297637939453,8.179530143737793,8.165939331054688,8.525184631347656,8.076141357421875,6.567134857177734,7.830482006072998,8.049537658691406,8.65739631652832,7.734294414520264,7.733198642730713,8.215094566345215,7.710049152374268,8.142058372497559,7.741782188415527,7.46512508392334,8.247273445129395,7.977754592895508,8.603615760803223,8.03771686553955,7.091679096221924,5.949050426483154,7.054834365844727,7.585977554321289,8.337028503417969,7.882723808288574,8.191121101379395,7.845275402069092,7.963686943054199,7.755735397338867,8.123075485229492,8.552146911621094,7.918451309204102,7.49621057510376,7.71774959564209,7.756966590881348,7.916134357452393,8.10234546661377,7.951961040496826,8.07327651977539,7.715393543243408,8.500617980957031,8.1769437789917,7.1291069984436035,10.775851249694824,8.014333724975586,6.342372894287109,8.544527053833008,8.002724647521973,7.891342639923096,7.538957595825195,8.140791893005371,8.436829566955566,8.207409858703613,7.714711666107178,7.85167932510376,8.230416297912598,8.25760269165039,6.995115756988525,7.983681678771973,8.068345069885254,7.901575565338135],\"yaxis\":\"y\",\"type\":\"scatter\"},{\"hovertemplate\":\"Variant=Delta\\u003cbr\\u003e0=%{x}\\u003cbr\\u003e1=%{y}\\u003cextra\\u003e\\u003c\\u002fextra\\u003e\",\"legendgroup\":\"Delta\",\"marker\":{\"color\":\"#00cc96\",\"symbol\":\"circle\"},\"mode\":\"markers\",\"name\":\"Delta\",\"orientation\":\"v\",\"showlegend\":true,\"x\":[12.562570571899414,12.550442695617676,12.618757247924805,11.401758193969727,11.863595962524414,11.961835861206055,12.411789894104004,11.250758171081543,12.573919296264648,12.041704177856445,12.54768180847168,11.85954475402832,12.049169540405273,12.220260620117188,12.543051719665527,12.30260181427002,12.464048385620117,12.532090187072754,11.81143569946289,11.676397323608398,12.580805778503418,11.953317642211914,11.85023307800293,11.835630416870117,11.843978881835938,11.946236610412598,11.719435691833496,11.35617446899414,11.98951530456543,11.536214828491211,11.79185962677002,11.729740142822266,12.799615859985352,11.510322570800781,11.666837692260742,11.826069831848145,11.795804977416992,12.12320327758789,11.677465438842773,11.517301559448242,12.723982810974121,12.721334457397461,12.055954933166504,12.084965705871582,12.52267074584961,11.799410820007324,11.313581466674805,12.241759300231934,11.59325122833252,12.469209671020508,12.545904159545898,12.989990234375,11.723508834838867,12.136777877807617,12.017382621765137,12.217268943786621,11.55239486694336,11.674034118652344,11.625871658325195,12.523841857910156,11.619382858276367,12.421947479248047,12.25635051727295,12.191404342651367,12.537948608398438,11.34954833984375,12.202227592468262,12.509099960327148,11.789950370788574,12.833277702331543,11.446800231933594,12.015381813049316,12.672475814819336,11.728300094604492,12.30597972869873,12.479491233825684,11.527324676513672,12.632813453674316,12.841821670532227,11.75050163269043,12.484868049621582,12.403474807739258,13.130311012268066,11.649548530578613,12.15152645111084,12.3154935836792,11.466525077819824,11.45113754272461,11.717994689941406,11.929207801818848,11.62264633178711,11.753849029541016,12.505684852600098,11.598079681396484,12.461690902709961,12.557456016540527,12.424764633178711,11.44536018371582,12.273831367492676],\"xaxis\":\"x\",\"y\":[4.240174770355225,4.645707607269287,4.503608703613281,3.2873408794403076,3.157235622406006,3.0267860889434814,4.023942470550537,2.976156234741211,4.2282514572143555,3.3931002616882324,2.5367791652679443,2.5230109691619873,3.088374376296997,4.3489556312561035,3.993551254272461,3.967900514602661,4.41978645324707,4.417513847351074,3.413391590118408,3.176541566848755,2.5587127208709717,3.0084140300750732,2.670470952987671,2.6384670734405518,2.499884605407715,3.198077917098999,2.6416592597961426,2.761229991912842,3.13461971282959,3.3859903812408447,3.9740078449249268,2.749521255493164,5.376683235168457,3.0935380458831787,2.7456207275390625,3.1482622623443604,3.25213885307312,2.6796047687530518,2.653921604156494,2.4356932640075684,4.966250896453857,4.834195137023926,3.489246129989624,2.6499719619750977,4.0564866065979,2.7395832538604736,2.9929308891296387,4.193921089172363,3.141512393951416,4.385571479797363,4.422702312469482,4.836019515991211,3.1911563873291016,3.4556708335876465,3.1126749515533447,3.701314687728882,3.1132638454437256,3.316628932952881,2.556016683578491,2.5222721099853516,3.336176633834839,4.2722554206848145,3.890542984008789,3.97506046295166,2.5491831302642822,3.433502197265625,4.234440803527832,4.479390621185303,3.3416569232940674,4.976043224334717,3.193904399871826,3.182626724243164,4.385406017303467,3.2005581855773926,3.1159143447875977,2.5905404090881348,2.4923229217529297,4.2054548263549805,4.847552299499512,3.4470973014831543,4.180833339691162,4.316420078277588,5.835849761962891,3.293151378631592,2.82381272315979,3.8596229553222656,2.7111456394195557,2.568706512451172,2.4709489345550537,3.2512683868408203,3.2458133697509766,3.13415789604187,4.393031597137451,3.235093355178833,4.304044246673584,4.393500328063965,4.072329044342041,2.9281704425811768,4.055740833282471],\"yaxis\":\"y\",\"type\":\"scatter\"},{\"hovertemplate\":\"Variant=Gamma\\u003cbr\\u003e0=%{x}\\u003cbr\\u003e1=%{y}\\u003cextra\\u003e\\u003c\\u002fextra\\u003e\",\"legendgroup\":\"Gamma\",\"marker\":{\"color\":\"#ab63fa\",\"symbol\":\"circle\"},\"mode\":\"markers\",\"name\":\"Gamma\",\"orientation\":\"v\",\"showlegend\":true,\"x\":[11.271377563476562,13.275330543518066,11.256983757019043],\"xaxis\":\"x\",\"y\":[11.450334548950195,6.154381275177002,11.426555633544922],\"yaxis\":\"y\",\"type\":\"scatter\"},{\"hovertemplate\":\"Variant=Omicron\\u003cbr\\u003e0=%{x}\\u003cbr\\u003e1=%{y}\\u003cextra\\u003e\\u003c\\u002fextra\\u003e\",\"legendgroup\":\"Omicron\",\"marker\":{\"color\":\"#FFA15A\",\"symbol\":\"circle\"},\"mode\":\"markers\",\"name\":\"Omicron\",\"orientation\":\"v\",\"showlegend\":true,\"x\":[-4.729360103607178,-4.9176106452941895,-4.667993068695068,-1.6791598796844482,-4.9704179763793945,-4.182858943939209,-4.980405330657959,-2.0701215267181396,-4.085361003875732,-4.820209980010986,-4.9316487312316895,-4.134556293487549,-5.578352451324463,-4.3971781730651855,-5.594039440155029,-4.098968029022217,-4.852149486541748,-4.382757663726807,-4.121646404266357,-4.872500896453857,11.87475872039795,-4.261498928070068,-4.205440521240234,-4.373946666717529,-4.073975086212158,-4.226799964904785,-3.882983684539795,-5.002289772033691,-4.310606479644775,-3.925220012664795,-3.3236773014068604,-4.361426830291748,-3.8497793674468994,-4.592225551605225,-4.806670188903809,-4.834731578826904,-4.166565418243408,-4.257845401763916,-4.974741458892822,-1.9958516359329224,-4.074106693267822,11.940534591674805,-4.809177875518799,-3.8953709602355957,-5.037856101989746,-4.680908679962158,-4.814425468444824,-4.268849849700928,-4.697516441345215,-3.348905324935913,-4.329108715057373,-4.946084022521973,-4.067194938659668,-4.089881896972656,-3.8095977306365967,-4.373081684112549,-4.072680473327637,-4.91042423248291,-1.9032117128372192,-5.153026580810547,-4.771627426147461,-4.4169769287109375,-4.338660717010498,-4.382635116577148,-3.9838311672210693,-4.837173938751221,-4.555934906005859,11.792016983032227,-4.604204177856445,-4.918215751647949,-4.100025653839111,-4.715751647949219,-4.545105934143066,-4.358484268188477,-4.770702838897705,-4.145045757293701,-3.9983043670654297,-4.175029277801514,-5.534059524536133,-4.736302375793457,-4.475183010101318,-5.5553812980651855,-4.311569690704346,-4.535006999969482,-4.606223106384277,-4.66220760345459,-4.448017597198486,-4.148204803466797,-4.221409797668457,-1.7584761381149292,-4.5182905197143555,-4.708652496337891,-1.3818072080612183,-5.562987327575684,-4.53911018371582,-4.832544326782227,-5.59000825881958,-4.340725898742676,-4.129048824310303,11.949822425842285],\"xaxis\":\"x\",\"y\":[3.445451498031616,3.527043104171753,3.8844215869903564,9.533555030822754,3.821103096008301,3.5894882678985596,3.9901340007781982,8.86286735534668,4.305431365966797,3.865248441696167,3.4697089195251465,2.5236120223999023,4.392833232879639,4.205948352813721,4.351328372955322,2.298234462738037,3.6563720703125,3.38356614112854,4.298671722412109,4.068572044372559,3.3659369945526123,4.258508682250977,4.333249568939209,3.1697981357574463,2.234060525894165,4.321709156036377,4.635272979736328,3.6763906478881836,3.662031412124634,2.8379499912261963,9.13042163848877,2.650038480758667,2.7504522800445557,4.164121150970459,3.5295190811157227,3.9454634189605713,2.4609832763671875,4.089890003204346,3.6774933338165283,8.66573715209961,2.431912422180176,3.140376329421997,3.733104944229126,2.8716232776641846,3.5959014892578125,3.829822063446045,3.928954839706421,2.94252347946167,3.6476235389709473,9.166285514831543,3.839022159576416,3.9701616764068604,2.4246654510498047,4.1969218254089355,4.564888954162598,2.8221216201782227,2.3398711681365967,3.7362329959869385,10.280651092529297,3.563318967819214,3.6825504302978516,4.030518531799316,3.427107334136963,4.115292549133301,2.638237953186035,3.582085132598877,3.5633344650268555,3.0961573123931885,3.7447941303253174,3.738949775695801,3.9584062099456787,3.490832805633545,3.5889368057250977,2.851008176803589,3.859875440597534,2.438502550125122,2.6163854598999023,2.5178611278533936,4.34682559967041,3.654116153717041,4.087285995483398,4.374941825866699,4.3263936042785645,3.6418368816375732,3.486011266708374,3.6953513622283936,3.4511542320251465,2.4385695457458496,2.520850658416748,8.519489288330078,4.031336307525635,3.744649887084961,10.29582405090332,4.380716800689697,3.793738603591919,3.896587610244751,4.412078380584717,3.0648443698883057,2.4464073181152344,3.28281831741333],\"yaxis\":\"y\",\"type\":\"scatter\"},{\"hovertemplate\":\"Variant=Omicron Sub\\u003cbr\\u003e0=%{x}\\u003cbr\\u003e1=%{y}\\u003cextra\\u003e\\u003c\\u002fextra\\u003e\",\"legendgroup\":\"Omicron Sub\",\"marker\":{\"color\":\"#19d3f3\",\"symbol\":\"circle\"},\"mode\":\"markers\",\"name\":\"Omicron Sub\",\"orientation\":\"v\",\"showlegend\":true,\"x\":[-1.602888822555542,-1.9743680953979492,-2.46347975730896,-1.8716238737106323,-1.7925270795822144,-1.3748798370361328,-1.741506576538086,-2.4411494731903076,-1.9490265846252441,-1.855228066444397,-2.8252665996551514,-2.275465965270996,-1.4201929569244385,-2.010267496109009,-1.8944125175476074,-1.8802895545959473,-2.7211709022521973,-1.8006060123443604,-3.1646478176116943,-1.9668264389038086,-2.78944730758667,-2.2894577980041504,-1.4026414155960083,-1.8438609838485718,-2.0172274112701416,-1.7746082544326782,-2.490673780441284,-2.562134027481079,-2.154648780822754,-2.0402591228485107,-1.8520169258117676,-1.7801167964935303,-2.4164304733276367,-2.5883285999298096,-2.4708006381988525,-2.6409997940063477,-2.591259002685547,-2.795111656188965,-2.494007110595703,-2.4658446311950684,-2.0931448936462402,-3.0763063430786133,-2.5279541015625,-2.042318820953369,-2.512791156768799,-1.56414794921875,-3.2390036582946777,-2.4972481727600098,-2.053403615951538,-2.469698429107666,-1.8906033039093018,-1.8079723119735718,-1.762536883354187,-2.2661447525024414,-2.4424498081207275,-2.311460256576538,-1.8808104991912842,-1.8605097532272339,-1.717743992805481,-3.243863582611084,-2.0459070205688477,-1.4166221618652344,-2.475341320037842,-2.6464502811431885,-2.2108819484710693,-1.8314298391342163,-1.8975400924682617,-1.8602126836776733,-1.9671872854232788,-2.1424992084503174,-1.6195391416549683,-3.190363645553589,-2.2882790565490723,-1.9665666818618774,-1.9737082719802856,-2.0152878761291504,-1.8962482213974,-1.979115605354309,-3.2333991527557373,-2.0282063484191895,-2.376112937927246,-2.532996654510498,-2.248704195022583,-1.8040084838867188,-1.8718520402908325,-1.8609892129898071,-4.488478660583496,-2.7926814556121826,-1.9161211252212524,-2.401798963546753,-2.5460355281829834,-1.8775635957717896,-2.0109355449676514],\"xaxis\":\"x\",\"y\":[10.008983612060547,8.733781814575195,9.728314399719238,9.360198974609375,10.392505645751953,10.314335823059082,10.186419486999512,10.562251091003418,9.13239860534668,10.332465171813965,10.00898265838623,9.970746040344238,10.222945213317871,8.914637565612793,8.86016845703125,8.766852378845215,9.699872016906738,9.9092435836792,9.410416603088379,10.070791244506836,9.94592571258545,8.8488130569458,10.283306121826172,10.02273941040039,10.396143913269043,10.26986312866211,9.27977466583252,9.50365924835205,9.775583267211914,10.262977600097656,9.15735149383545,10.162790298461914,10.172884941101074,9.723974227905273,10.219551086425781,10.411954879760742,9.386659622192383,10.033775329589844,9.902709007263184,9.30813217163086,10.2893648147583,9.051531791687012,9.934450149536133,8.954374313354492,8.90791130065918,10.245687484741211,9.352156639099121,10.089248657226562,10.196221351623535,10.248754501342773,10.008015632629395,9.22847843170166,10.429637908935547,9.346769332885742,9.135010719299316,10.240856170654297,9.453177452087402,10.157426834106445,9.791097640991211,9.312382698059082,9.927549362182617,10.252957344055176,9.760554313659668,10.396451950073242,10.225870132446289,10.066877365112305,9.783145904541016,8.740523338317871,10.128889083862305,10.09010124206543,10.579235076904297,9.29041862487793,10.398696899414062,10.0435152053833,10.179438591003418,9.654428482055664,9.2515869140625,10.232802391052246,9.265506744384766,10.237710952758789,9.929394721984863,9.763188362121582,9.870935440063477,9.907609939575195,8.864571571350098,9.707527160644531,3.8317954540252686,9.002659797668457,10.41332721710205,10.063154220581055,10.289972305297852,9.981492042541504,9.35222339630127],\"yaxis\":\"y\",\"type\":\"scatter\"}],                        {\"template\":{\"data\":{\"histogram2dcontour\":[{\"type\":\"histogram2dcontour\",\"colorbar\":{\"outlinewidth\":0,\"ticks\":\"\"},\"colorscale\":[[0.0,\"#0d0887\"],[0.1111111111111111,\"#46039f\"],[0.2222222222222222,\"#7201a8\"],[0.3333333333333333,\"#9c179e\"],[0.4444444444444444,\"#bd3786\"],[0.5555555555555556,\"#d8576b\"],[0.6666666666666666,\"#ed7953\"],[0.7777777777777778,\"#fb9f3a\"],[0.8888888888888888,\"#fdca26\"],[1.0,\"#f0f921\"]]}],\"choropleth\":[{\"type\":\"choropleth\",\"colorbar\":{\"outlinewidth\":0,\"ticks\":\"\"}}],\"histogram2d\":[{\"type\":\"histogram2d\",\"colorbar\":{\"outlinewidth\":0,\"ticks\":\"\"},\"colorscale\":[[0.0,\"#0d0887\"],[0.1111111111111111,\"#46039f\"],[0.2222222222222222,\"#7201a8\"],[0.3333333333333333,\"#9c179e\"],[0.4444444444444444,\"#bd3786\"],[0.5555555555555556,\"#d8576b\"],[0.6666666666666666,\"#ed7953\"],[0.7777777777777778,\"#fb9f3a\"],[0.8888888888888888,\"#fdca26\"],[1.0,\"#f0f921\"]]}],\"heatmap\":[{\"type\":\"heatmap\",\"colorbar\":{\"outlinewidth\":0,\"ticks\":\"\"},\"colorscale\":[[0.0,\"#0d0887\"],[0.1111111111111111,\"#46039f\"],[0.2222222222222222,\"#7201a8\"],[0.3333333333333333,\"#9c179e\"],[0.4444444444444444,\"#bd3786\"],[0.5555555555555556,\"#d8576b\"],[0.6666666666666666,\"#ed7953\"],[0.7777777777777778,\"#fb9f3a\"],[0.8888888888888888,\"#fdca26\"],[1.0,\"#f0f921\"]]}],\"heatmapgl\":[{\"type\":\"heatmapgl\",\"colorbar\":{\"outlinewidth\":0,\"ticks\":\"\"},\"colorscale\":[[0.0,\"#0d0887\"],[0.1111111111111111,\"#46039f\"],[0.2222222222222222,\"#7201a8\"],[0.3333333333333333,\"#9c179e\"],[0.4444444444444444,\"#bd3786\"],[0.5555555555555556,\"#d8576b\"],[0.6666666666666666,\"#ed7953\"],[0.7777777777777778,\"#fb9f3a\"],[0.8888888888888888,\"#fdca26\"],[1.0,\"#f0f921\"]]}],\"contourcarpet\":[{\"type\":\"contourcarpet\",\"colorbar\":{\"outlinewidth\":0,\"ticks\":\"\"}}],\"contour\":[{\"type\":\"contour\",\"colorbar\":{\"outlinewidth\":0,\"ticks\":\"\"},\"colorscale\":[[0.0,\"#0d0887\"],[0.1111111111111111,\"#46039f\"],[0.2222222222222222,\"#7201a8\"],[0.3333333333333333,\"#9c179e\"],[0.4444444444444444,\"#bd3786\"],[0.5555555555555556,\"#d8576b\"],[0.6666666666666666,\"#ed7953\"],[0.7777777777777778,\"#fb9f3a\"],[0.8888888888888888,\"#fdca26\"],[1.0,\"#f0f921\"]]}],\"surface\":[{\"type\":\"surface\",\"colorbar\":{\"outlinewidth\":0,\"ticks\":\"\"},\"colorscale\":[[0.0,\"#0d0887\"],[0.1111111111111111,\"#46039f\"],[0.2222222222222222,\"#7201a8\"],[0.3333333333333333,\"#9c179e\"],[0.4444444444444444,\"#bd3786\"],[0.5555555555555556,\"#d8576b\"],[0.6666666666666666,\"#ed7953\"],[0.7777777777777778,\"#fb9f3a\"],[0.8888888888888888,\"#fdca26\"],[1.0,\"#f0f921\"]]}],\"mesh3d\":[{\"type\":\"mesh3d\",\"colorbar\":{\"outlinewidth\":0,\"ticks\":\"\"}}],\"scatter\":[{\"fillpattern\":{\"fillmode\":\"overlay\",\"size\":10,\"solidity\":0.2},\"type\":\"scatter\"}],\"parcoords\":[{\"type\":\"parcoords\",\"line\":{\"colorbar\":{\"outlinewidth\":0,\"ticks\":\"\"}}}],\"scatterpolargl\":[{\"type\":\"scatterpolargl\",\"marker\":{\"colorbar\":{\"outlinewidth\":0,\"ticks\":\"\"}}}],\"bar\":[{\"error_x\":{\"color\":\"#2a3f5f\"},\"error_y\":{\"color\":\"#2a3f5f\"},\"marker\":{\"line\":{\"color\":\"#E5ECF6\",\"width\":0.5},\"pattern\":{\"fillmode\":\"overlay\",\"size\":10,\"solidity\":0.2}},\"type\":\"bar\"}],\"scattergeo\":[{\"type\":\"scattergeo\",\"marker\":{\"colorbar\":{\"outlinewidth\":0,\"ticks\":\"\"}}}],\"scatterpolar\":[{\"type\":\"scatterpolar\",\"marker\":{\"colorbar\":{\"outlinewidth\":0,\"ticks\":\"\"}}}],\"histogram\":[{\"marker\":{\"pattern\":{\"fillmode\":\"overlay\",\"size\":10,\"solidity\":0.2}},\"type\":\"histogram\"}],\"scattergl\":[{\"type\":\"scattergl\",\"marker\":{\"colorbar\":{\"outlinewidth\":0,\"ticks\":\"\"}}}],\"scatter3d\":[{\"type\":\"scatter3d\",\"line\":{\"colorbar\":{\"outlinewidth\":0,\"ticks\":\"\"}},\"marker\":{\"colorbar\":{\"outlinewidth\":0,\"ticks\":\"\"}}}],\"scattermapbox\":[{\"type\":\"scattermapbox\",\"marker\":{\"colorbar\":{\"outlinewidth\":0,\"ticks\":\"\"}}}],\"scatterternary\":[{\"type\":\"scatterternary\",\"marker\":{\"colorbar\":{\"outlinewidth\":0,\"ticks\":\"\"}}}],\"scattercarpet\":[{\"type\":\"scattercarpet\",\"marker\":{\"colorbar\":{\"outlinewidth\":0,\"ticks\":\"\"}}}],\"carpet\":[{\"aaxis\":{\"endlinecolor\":\"#2a3f5f\",\"gridcolor\":\"white\",\"linecolor\":\"white\",\"minorgridcolor\":\"white\",\"startlinecolor\":\"#2a3f5f\"},\"baxis\":{\"endlinecolor\":\"#2a3f5f\",\"gridcolor\":\"white\",\"linecolor\":\"white\",\"minorgridcolor\":\"white\",\"startlinecolor\":\"#2a3f5f\"},\"type\":\"carpet\"}],\"table\":[{\"cells\":{\"fill\":{\"color\":\"#EBF0F8\"},\"line\":{\"color\":\"white\"}},\"header\":{\"fill\":{\"color\":\"#C8D4E3\"},\"line\":{\"color\":\"white\"}},\"type\":\"table\"}],\"barpolar\":[{\"marker\":{\"line\":{\"color\":\"#E5ECF6\",\"width\":0.5},\"pattern\":{\"fillmode\":\"overlay\",\"size\":10,\"solidity\":0.2}},\"type\":\"barpolar\"}],\"pie\":[{\"automargin\":true,\"type\":\"pie\"}]},\"layout\":{\"autotypenumbers\":\"strict\",\"colorway\":[\"#636efa\",\"#EF553B\",\"#00cc96\",\"#ab63fa\",\"#FFA15A\",\"#19d3f3\",\"#FF6692\",\"#B6E880\",\"#FF97FF\",\"#FECB52\"],\"font\":{\"color\":\"#2a3f5f\"},\"hovermode\":\"closest\",\"hoverlabel\":{\"align\":\"left\"},\"paper_bgcolor\":\"white\",\"plot_bgcolor\":\"#E5ECF6\",\"polar\":{\"bgcolor\":\"#E5ECF6\",\"angularaxis\":{\"gridcolor\":\"white\",\"linecolor\":\"white\",\"ticks\":\"\"},\"radialaxis\":{\"gridcolor\":\"white\",\"linecolor\":\"white\",\"ticks\":\"\"}},\"ternary\":{\"bgcolor\":\"#E5ECF6\",\"aaxis\":{\"gridcolor\":\"white\",\"linecolor\":\"white\",\"ticks\":\"\"},\"baxis\":{\"gridcolor\":\"white\",\"linecolor\":\"white\",\"ticks\":\"\"},\"caxis\":{\"gridcolor\":\"white\",\"linecolor\":\"white\",\"ticks\":\"\"}},\"coloraxis\":{\"colorbar\":{\"outlinewidth\":0,\"ticks\":\"\"}},\"colorscale\":{\"sequential\":[[0.0,\"#0d0887\"],[0.1111111111111111,\"#46039f\"],[0.2222222222222222,\"#7201a8\"],[0.3333333333333333,\"#9c179e\"],[0.4444444444444444,\"#bd3786\"],[0.5555555555555556,\"#d8576b\"],[0.6666666666666666,\"#ed7953\"],[0.7777777777777778,\"#fb9f3a\"],[0.8888888888888888,\"#fdca26\"],[1.0,\"#f0f921\"]],\"sequentialminus\":[[0.0,\"#0d0887\"],[0.1111111111111111,\"#46039f\"],[0.2222222222222222,\"#7201a8\"],[0.3333333333333333,\"#9c179e\"],[0.4444444444444444,\"#bd3786\"],[0.5555555555555556,\"#d8576b\"],[0.6666666666666666,\"#ed7953\"],[0.7777777777777778,\"#fb9f3a\"],[0.8888888888888888,\"#fdca26\"],[1.0,\"#f0f921\"]],\"diverging\":[[0,\"#8e0152\"],[0.1,\"#c51b7d\"],[0.2,\"#de77ae\"],[0.3,\"#f1b6da\"],[0.4,\"#fde0ef\"],[0.5,\"#f7f7f7\"],[0.6,\"#e6f5d0\"],[0.7,\"#b8e186\"],[0.8,\"#7fbc41\"],[0.9,\"#4d9221\"],[1,\"#276419\"]]},\"xaxis\":{\"gridcolor\":\"white\",\"linecolor\":\"white\",\"ticks\":\"\",\"title\":{\"standoff\":15},\"zerolinecolor\":\"white\",\"automargin\":true,\"zerolinewidth\":2},\"yaxis\":{\"gridcolor\":\"white\",\"linecolor\":\"white\",\"ticks\":\"\",\"title\":{\"standoff\":15},\"zerolinecolor\":\"white\",\"automargin\":true,\"zerolinewidth\":2},\"scene\":{\"xaxis\":{\"backgroundcolor\":\"#E5ECF6\",\"gridcolor\":\"white\",\"linecolor\":\"white\",\"showbackground\":true,\"ticks\":\"\",\"zerolinecolor\":\"white\",\"gridwidth\":2},\"yaxis\":{\"backgroundcolor\":\"#E5ECF6\",\"gridcolor\":\"white\",\"linecolor\":\"white\",\"showbackground\":true,\"ticks\":\"\",\"zerolinecolor\":\"white\",\"gridwidth\":2},\"zaxis\":{\"backgroundcolor\":\"#E5ECF6\",\"gridcolor\":\"white\",\"linecolor\":\"white\",\"showbackground\":true,\"ticks\":\"\",\"zerolinecolor\":\"white\",\"gridwidth\":2}},\"shapedefaults\":{\"line\":{\"color\":\"#2a3f5f\"}},\"annotationdefaults\":{\"arrowcolor\":\"#2a3f5f\",\"arrowhead\":0,\"arrowwidth\":1},\"geo\":{\"bgcolor\":\"white\",\"landcolor\":\"#E5ECF6\",\"subunitcolor\":\"white\",\"showland\":true,\"showlakes\":true,\"lakecolor\":\"white\"},\"title\":{\"x\":0.05},\"mapbox\":{\"style\":\"light\"}}},\"xaxis\":{\"anchor\":\"y\",\"domain\":[0.0,1.0],\"title\":{\"text\":\"UMAP_1\"},\"showgrid\":false,\"zeroline\":false},\"yaxis\":{\"anchor\":\"x\",\"domain\":[0.0,1.0],\"title\":{\"text\":\"UMAP_2\"},\"showgrid\":false,\"zeroline\":false},\"legend\":{\"title\":{\"text\":\"Variant\"},\"tracegroupgap\":0},\"margin\":{\"t\":60},\"font\":{\"family\":\"Courier New, monospace\",\"size\":18,\"color\":\"RebeccaPurple\"}},                        {\"responsive\": true}                    ).then(function(){\n                            \nvar gd = document.getElementById('7c5ffa47-8b52-490c-b95d-0ab17dcfa936');\nvar x = new MutationObserver(function (mutations, observer) {{\n        var display = window.getComputedStyle(gd).display;\n        if (!display || display === 'none') {{\n            console.log([gd, 'removed!']);\n            Plotly.purge(gd);\n            observer.disconnect();\n        }}\n}});\n\n// Listen for the removal of the full notebook cells\nvar notebookContainer = gd.closest('#notebook-container');\nif (notebookContainer) {{\n    x.observe(notebookContainer, {childList: true});\n}}\n\n// Listen for the clearing of the current output cell\nvar outputEl = gd.closest('.output');\nif (outputEl) {{\n    x.observe(outputEl, {childList: true});\n}}\n\n                        })                };                });            </script>        </div>"
     },
     "metadata": {},
     "output_type": "display_data"
    }
   ],
   "source": [
    "umap_fn(data3, 3)\n",
    "umap_fn(data5, 5)\n",
    "umap_fn(data7, 7)"
   ]
  },
  {
   "cell_type": "code",
   "execution_count": 68,
   "id": "99a7b21f",
   "metadata": {
    "ExecuteTime": {
     "end_time": "2023-07-07T06:29:37.482772400Z",
     "start_time": "2023-07-07T06:29:37.478608500Z"
    }
   },
   "outputs": [],
   "source": []
  }
 ],
 "metadata": {
  "kernelspec": {
   "display_name": "Python 3 (ipykernel)",
   "language": "python",
   "name": "python3"
  },
  "language_info": {
   "codemirror_mode": {
    "name": "ipython",
    "version": 3
   },
   "file_extension": ".py",
   "mimetype": "text/x-python",
   "name": "python",
   "nbconvert_exporter": "python",
   "pygments_lexer": "ipython3",
   "version": "3.9.12"
  }
 },
 "nbformat": 4,
 "nbformat_minor": 5
}
